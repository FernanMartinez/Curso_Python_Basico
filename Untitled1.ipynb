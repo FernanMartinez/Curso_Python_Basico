{
 "cells": [
  {
   "cell_type": "code",
   "execution_count": 2,
   "metadata": {},
   "outputs": [],
   "source": [
    "using BenchmarkTools"
   ]
  },
  {
   "cell_type": "code",
   "execution_count": 1,
   "metadata": {},
   "outputs": [
    {
     "data": {
      "text/plain": [
       "10000000-element Array{Float64,1}:\n",
       " 0.006604886572250557\n",
       " 0.6802052594382302\n",
       " 0.6645939234665996\n",
       " 0.0716015754818018\n",
       " 0.8223452889247966\n",
       " 0.4617001498642772\n",
       " 0.1425174265537088\n",
       " 0.3435667954628512\n",
       " 0.6679866405664354\n",
       " 0.8587195654083952\n",
       " 0.5473834209578297\n",
       " 0.12935502923078035\n",
       " 0.9104837534294925\n",
       " ⋮\n",
       " 0.28922125159657\n",
       " 0.5790498363079695\n",
       " 0.603042048617439\n",
       " 0.42122538934736653\n",
       " 0.5394260668460045\n",
       " 0.6720825601445981\n",
       " 0.3709128595960043\n",
       " 0.24712822659610145\n",
       " 0.8889873240882116\n",
       " 0.5176302312096135\n",
       " 0.1456275647528309\n",
       " 0.07329863793762681"
      ]
     },
     "execution_count": 1,
     "metadata": {},
     "output_type": "execute_result"
    }
   ],
   "source": [
    "a = rand(10^7)"
   ]
  },
  {
   "cell_type": "code",
   "execution_count": 7,
   "metadata": {},
   "outputs": [
    {
     "data": {
      "text/plain": [
       "BenchmarkTools.Trial: \n",
       "  memory estimate:  16 bytes\n",
       "  allocs estimate:  1\n",
       "  --------------\n",
       "  minimum time:     6.861 ms (0.00% GC)\n",
       "  median time:      8.083 ms (0.00% GC)\n",
       "  mean time:        8.095 ms (0.00% GC)\n",
       "  maximum time:     9.830 ms (0.00% GC)\n",
       "  --------------\n",
       "  samples:          100\n",
       "  evals/sample:     5"
      ]
     },
     "execution_count": 7,
     "metadata": {},
     "output_type": "execute_result"
    }
   ],
   "source": [
    "bench = @benchmark sum(a) samples=100 evals=5"
   ]
  },
  {
   "cell_type": "code",
   "execution_count": 8,
   "metadata": {},
   "outputs": [
    {
     "data": {
      "text/plain": [
       "100-element Array{Float64,1}:\n",
       " 6.8613834e6\n",
       " 6.8640784e6\n",
       " 6.9447424e6\n",
       " 7.0209228e6\n",
       " 7.120907e6\n",
       " 7.1553872e6\n",
       " 7.1616652e6\n",
       " 7.2109828e6\n",
       " 7.2350582e6\n",
       " 7.3250044e6\n",
       " 7.339016e6\n",
       " 7.4015714e6\n",
       " 7.4064844e6\n",
       " ⋮\n",
       " 8.8843472e6\n",
       " 8.92804e6\n",
       " 8.934734e6\n",
       " 8.9594148e6\n",
       " 9.0545256e6\n",
       " 9.1179906e6\n",
       " 9.1346014e6\n",
       " 9.1466794e6\n",
       " 9.3414614e6\n",
       " 9.446269e6\n",
       " 9.6934322e6\n",
       " 9.829716e6"
      ]
     },
     "execution_count": 8,
     "metadata": {},
     "output_type": "execute_result"
    }
   ],
   "source": [
    "bench.times"
   ]
  },
  {
   "cell_type": "code",
   "execution_count": null,
   "metadata": {},
   "outputs": [],
   "source": []
  }
 ],
 "metadata": {
  "kernelspec": {
   "display_name": "Julia 1.4.1",
   "language": "julia",
   "name": "julia-1.4"
  },
  "language_info": {
   "file_extension": ".jl",
   "mimetype": "application/julia",
   "name": "julia",
   "version": "1.4.1"
  },
  "varInspector": {
   "cols": {
    "lenName": 16,
    "lenType": 16,
    "lenVar": 40
   },
   "kernels_config": {
    "python": {
     "delete_cmd_postfix": "",
     "delete_cmd_prefix": "del ",
     "library": "var_list.py",
     "varRefreshCmd": "print(var_dic_list())"
    },
    "r": {
     "delete_cmd_postfix": ") ",
     "delete_cmd_prefix": "rm(",
     "library": "var_list.r",
     "varRefreshCmd": "cat(var_dic_list()) "
    }
   },
   "types_to_exclude": [
    "module",
    "function",
    "builtin_function_or_method",
    "instance",
    "_Feature"
   ],
   "window_display": true
  }
 },
 "nbformat": 4,
 "nbformat_minor": 4
}
