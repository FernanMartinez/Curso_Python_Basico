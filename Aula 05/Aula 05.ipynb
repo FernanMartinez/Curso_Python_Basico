{
 "cells": [
  {
   "cell_type": "markdown",
   "metadata": {},
   "source": [
    "# Aula 8 Funções 1\n",
    "\n",
    "<img  src= \"img/f.png\" style=\"width:250px; height:150px\">\n",
    "\n",
    "Durante a criação de um código pode ser necessário repetir a execução de um bloco do código em partes diferentes. A repetição do mesmo bloco em partes diferentes é considerada uma pratica inadequada de programação dado que deixa o código poluído e difícil de realizar manutenção. Para resolver este tipo de problemas, é possível criar uma função que realize uma o varias atividades.\n",
    "\n",
    "---\n",
    "- [ ] Definição de funções;\n",
    "- [ ] Criando uma função;\n",
    "- [ ] Funções sem retorno e com retorno\n",
    "- [ ] Escopo no interior de uma função\n",
    "\n",
    "\n",
    "\n"
   ]
  },
  {
   "cell_type": "markdown",
   "metadata": {},
   "source": [
    "## Definição de funções\n",
    "\n",
    "Uma função é um **pequeno** bloco de código reutilizável que é usado para realizar uma **única ação**. O uso de funções permite fácil manutenção, fácil legibilidade, e menos probabilidade erros internos. Já temos utilizado algumas funções próprias do Python, como print() , len(), int()."
   ]
  },
  {
   "cell_type": "markdown",
   "metadata": {},
   "source": [
    "## Criando uma função\n",
    "Para definir uma função utilizamos a palavra reservada `def` seguida do nome da função e por ultimo dois pontos`:`. No final da definição da função pode ser utilizada a palavra reservada `return`. \n",
    "\n",
    "Alguns aspectos a considerar ao momento de definir uma função:\n",
    "\n",
    "1. O inicio da definição de uma função deve iniciar com a palavra reservada `def`;\n",
    "1. O nome da função **sempre** deve ser escrito em letras minusculas;\n",
    "1. Não é permitido iniciar o nome de uma função com um número (1_funcao):\n",
    "1. Pode ser usadas letras maiúsculas para definir o nome de uma função, mas esta pratica não é aceitada pela PEP8;\n",
    "1. Apos a definição de uma função devemos colocar dois pontos (:) para indicar o definir o bloco;\n",
    "1. Se o nome da função for composto utilizamos underline `_`;\n",
    "1. O simbolo `-` não é permitido no momento de definir uma função;\n",
    "1. Se deve ter muita atenção para não utilizar palavras reservadas no momento de definir o nome de uma função.\n",
    "1. O nome de uma função deve ser autoexplicativo para aumentar a legibilidade;\n",
    "1. O bloco da função é onde é realizado  o processamento da função\n",
    "1. O `return` não é obrigatário;\n",
    "1. Para utilizar a função é necessário chamá-la na parte do código onde vai ser utilizada.\n",
    "\n",
    "A forma adequada para definir uma função e:\n",
    "```python\n",
    "def exemplo_de_uma_funcao():\n",
    "    # Inicio do bloco do código\n",
    "    # Comandos de execução\n",
    "    return # O return não é obrigatorio\n",
    "```\n",
    "\n",
    "\n",
    "Algumas formas de definir funções não adequadas:\n",
    "\n",
    "```python\n",
    "def Função1():\n",
    "    # Está função não segui a PEP8\n",
    "    return\n",
    "```\n",
    "```python\n",
    "def função1():\n",
    "    # Caracteres como ç, Ñ, ó, etc. não são adequados para definir funções\n",
    "    return\n",
    "```\n",
    "\n",
    "```python\n",
    "def x():\n",
    "    # O nome da função não é autoexplicativo\n",
    "    return\n",
    "```\n",
    "\n",
    "```python\n",
    "def print():\n",
    "    # O já existe outra função com o mesmo nome\n",
    "    return\n",
    "```\n",
    "\n",
    "```python\n",
    "def 1_funcao():\n",
    "    # Nome não permitido\n",
    "    return\n",
    "```"
   ]
  },
  {
   "cell_type": "markdown",
   "metadata": {},
   "source": [
    "Exemplos de funções"
   ]
  },
  {
   "cell_type": "code",
   "execution_count": 1,
   "metadata": {
    "ExecuteTime": {
     "end_time": "2020-11-06T16:46:17.548793Z",
     "start_time": "2020-11-06T16:46:17.543194Z"
    }
   },
   "outputs": [
    {
     "name": "stdout",
     "output_type": "stream",
     "text": [
      "4\n"
     ]
    }
   ],
   "source": [
    "def soma():\n",
    "    print(2+2)\n",
    "soma()"
   ]
  },
  {
   "cell_type": "code",
   "execution_count": 4,
   "metadata": {
    "ExecuteTime": {
     "end_time": "2020-11-06T16:48:46.485048Z",
     "start_time": "2020-11-06T16:48:46.478666Z"
    }
   },
   "outputs": [],
   "source": [
    "def substracao():\n",
    "    print(5-3)"
   ]
  },
  {
   "cell_type": "code",
   "execution_count": 5,
   "metadata": {
    "ExecuteTime": {
     "end_time": "2020-11-06T16:48:47.642939Z",
     "start_time": "2020-11-06T16:48:47.624223Z"
    }
   },
   "outputs": [
    {
     "data": {
      "text/plain": [
       "<function __main__.substracao()>"
      ]
     },
     "execution_count": 5,
     "metadata": {},
     "output_type": "execute_result"
    }
   ],
   "source": [
    "substracao\n",
    "# Observemos que nesta chamada não estamos utilizado os parentêsis, por este motivo o retorno será o endereço na memoria\n",
    "# onde a função foi armazenada"
   ]
  },
  {
   "cell_type": "code",
   "execution_count": 6,
   "metadata": {
    "ExecuteTime": {
     "end_time": "2020-11-06T16:48:48.628984Z",
     "start_time": "2020-11-06T16:48:48.626080Z"
    }
   },
   "outputs": [
    {
     "name": "stdout",
     "output_type": "stream",
     "text": [
      "2\n"
     ]
    }
   ],
   "source": [
    "substracao()\n",
    "# # Neste caso a função retorna o valor esperado, dado que a chamada foi realizada da forma adequada."
   ]
  },
  {
   "cell_type": "code",
   "execution_count": 8,
   "metadata": {
    "ExecuteTime": {
     "end_time": "2020-11-06T16:50:56.723021Z",
     "start_time": "2020-11-06T16:50:56.700782Z"
    }
   },
   "outputs": [
    {
     "data": {
      "text/plain": [
       "2"
      ]
     },
     "execution_count": 8,
     "metadata": {},
     "output_type": "execute_result"
    }
   ],
   "source": [
    "def substracao_2():\n",
    "    return 5-3\n",
    "substracao_2()\n",
    "# Observemos que neste caso a função substracao_2 obteve o mesmo resultado ao se utilizar a palavra `return`"
   ]
  },
  {
   "cell_type": "markdown",
   "metadata": {},
   "source": [
    "## Funções sen retorno, retorno unico e retorno multiplo\n",
    "\n",
    "A palavra reservara `return` representa o fim de uma função e indica quais objetos serão retornados no final da execução.\n",
    "\n",
    "Como vimos nos exemplos anteriores `return` não é obrigatário no momento de criar uma função, contudo, devemos ter claro que as variáveis criadas no interior dá função não vão poder ser acessadas fora da função devido a que não estamos retornando nada. De forma implícita a ausência de `return` na definição da função indica que a função retorna um objeto do tipo `NoneType`.\n",
    "\n",
    "Quando utilizamos a palavra `return` permite retornar qualquer objeto criado no interior da função, isto inclui qualquer contêiner ou qualquer tipo de dados, incluindo outras funções. Caso se utilize a palavra `return` mas não se especifique nenhum objeto, o retorno automaticamente será `NoneType`\n",
    "\n",
    "É possível criar funções com mais de um retorno, esse tipo de funções são muito uteis quando se trabalha com comparações. Ao se atingir um dos `return` o bloco de códio seguinte não será executado."
   ]
  },
  {
   "cell_type": "markdown",
   "metadata": {},
   "source": [
    "### Exemplo funções sem retorno"
   ]
  },
  {
   "cell_type": "code",
   "execution_count": 10,
   "metadata": {
    "ExecuteTime": {
     "end_time": "2020-11-06T17:20:58.667187Z",
     "start_time": "2020-11-06T17:20:58.653730Z"
    }
   },
   "outputs": [
    {
     "name": "stdout",
     "output_type": "stream",
     "text": [
      "4\n"
     ]
    }
   ],
   "source": [
    "# A função soma retorna a soma de 2 + 2. Porém o retorno se dá pela função print()\n",
    "def soma():\n",
    "    print(2+2)\n",
    "soma()"
   ]
  },
  {
   "cell_type": "code",
   "execution_count": 11,
   "metadata": {
    "ExecuteTime": {
     "end_time": "2020-11-06T17:21:00.257290Z",
     "start_time": "2020-11-06T17:21:00.248930Z"
    }
   },
   "outputs": [],
   "source": [
    "# Neste caso a função não retorna nada devido a que não estamos utilizando `return` nem printando o valor de a\n",
    "def soma():\n",
    "    a = 2 + 2\n",
    "soma()"
   ]
  },
  {
   "cell_type": "code",
   "execution_count": 14,
   "metadata": {
    "ExecuteTime": {
     "end_time": "2020-11-06T17:22:16.173747Z",
     "start_time": "2020-11-06T17:22:16.167397Z"
    }
   },
   "outputs": [
    {
     "data": {
      "text/plain": [
       "NoneType"
      ]
     },
     "execution_count": 14,
     "metadata": {},
     "output_type": "execute_result"
    }
   ],
   "source": [
    "# Se verificamos o tipo de dado retornado veremos que o dado é do tipo NoneType\n",
    "type(soma())"
   ]
  },
  {
   "cell_type": "code",
   "execution_count": 16,
   "metadata": {
    "ExecuteTime": {
     "end_time": "2020-11-06T17:23:54.602363Z",
     "start_time": "2020-11-06T17:23:54.573888Z"
    }
   },
   "outputs": [
    {
     "ename": "NameError",
     "evalue": "name 'a' is not defined",
     "output_type": "error",
     "traceback": [
      "\u001b[0;31m---------------------------------------------------------------------------\u001b[0m",
      "\u001b[0;31mNameError\u001b[0m                                 Traceback (most recent call last)",
      "\u001b[0;32m<ipython-input-16-acb06d4cd7f3>\u001b[0m in \u001b[0;36m<module>\u001b[0;34m\u001b[0m\n\u001b[1;32m      1\u001b[0m \u001b[0;31m# Se tentamos acessar à variável `a` obteremos um ` NameError` dado que `a` foi definida no interior da função\u001b[0m\u001b[0;34m\u001b[0m\u001b[0;34m\u001b[0m\u001b[0;34m\u001b[0m\u001b[0m\n\u001b[0;32m----> 2\u001b[0;31m \u001b[0mprint\u001b[0m\u001b[0;34m(\u001b[0m\u001b[0ma\u001b[0m\u001b[0;34m)\u001b[0m\u001b[0;34m\u001b[0m\u001b[0;34m\u001b[0m\u001b[0m\n\u001b[0m",
      "\u001b[0;31mNameError\u001b[0m: name 'a' is not defined"
     ]
    }
   ],
   "source": [
    "# Se tentamos acessar à variável `a` obteremos um ` NameError` dado que `a` foi definida no interior da função\n",
    "print(a)"
   ]
  },
  {
   "cell_type": "code",
   "execution_count": 17,
   "metadata": {
    "ExecuteTime": {
     "end_time": "2020-11-06T17:25:32.867107Z",
     "start_time": "2020-11-06T17:25:32.838899Z"
    }
   },
   "outputs": [
    {
     "data": {
      "text/plain": [
       "4"
      ]
     },
     "execution_count": 17,
     "metadata": {},
     "output_type": "execute_result"
    }
   ],
   "source": [
    "# Para conseguir acessar ao valor de `a` devemos utilizar `return`\n",
    "def soma():\n",
    "    a = 2 + 2\n",
    "    return a\n",
    "soma()"
   ]
  },
  {
   "cell_type": "code",
   "execution_count": 18,
   "metadata": {
    "ExecuteTime": {
     "end_time": "2020-11-06T17:26:38.671021Z",
     "start_time": "2020-11-06T17:26:38.664797Z"
    }
   },
   "outputs": [
    {
     "data": {
      "text/plain": [
       "int"
      ]
     },
     "execution_count": 18,
     "metadata": {},
     "output_type": "execute_result"
    }
   ],
   "source": [
    "# Se verificamos o tipo de variável veremos que agora temos um tipo `int`\n",
    "type(soma())"
   ]
  },
  {
   "cell_type": "code",
   "execution_count": 19,
   "metadata": {
    "ExecuteTime": {
     "end_time": "2020-11-06T17:28:35.830134Z",
     "start_time": "2020-11-06T17:28:35.818743Z"
    }
   },
   "outputs": [
    {
     "data": {
      "text/plain": [
       "(11, 4)"
      ]
     },
     "execution_count": 19,
     "metadata": {},
     "output_type": "execute_result"
    }
   ],
   "source": [
    "# Se queremos retornar mais de uma variável criado no interior da função podemos aplicar `return` e \n",
    "# listar as variáveis para retornar separadas por virgulas.\n",
    "def soma_2():\n",
    "    a = 2 + 9\n",
    "    b = 2 + 2\n",
    "    return a, b\n",
    "soma_2()\n",
    "# Observemos que automaticamente o objeto obtido é uma tupla."
   ]
  },
  {
   "cell_type": "code",
   "execution_count": null,
   "metadata": {},
   "outputs": [],
   "source": [
    "def soma_2():\n",
    "    a = 2 + 9\n",
    "    b = 2 + 2\n",
    "    return a\n",
    "soma_2()\n",
    "# Observemos que neste caso a função só retorna o valor de `b` e o valor de `a` não é retornado.\n",
    "# Isto acontece porque a função só vai retornar o que for indicado após a palavra `return`"
   ]
  },
  {
   "cell_type": "code",
   "execution_count": null,
   "metadata": {},
   "outputs": [],
   "source": []
  },
  {
   "cell_type": "code",
   "execution_count": null,
   "metadata": {},
   "outputs": [],
   "source": []
  },
  {
   "cell_type": "code",
   "execution_count": null,
   "metadata": {},
   "outputs": [],
   "source": []
  },
  {
   "cell_type": "code",
   "execution_count": null,
   "metadata": {},
   "outputs": [],
   "source": []
  },
  {
   "cell_type": "markdown",
   "metadata": {},
   "source": [
    "## Escopo no interior de uma função"
   ]
  },
  {
   "cell_type": "code",
   "execution_count": null,
   "metadata": {},
   "outputs": [],
   "source": []
  },
  {
   "cell_type": "code",
   "execution_count": null,
   "metadata": {},
   "outputs": [],
   "source": []
  },
  {
   "cell_type": "code",
   "execution_count": null,
   "metadata": {},
   "outputs": [],
   "source": []
  },
  {
   "cell_type": "code",
   "execution_count": null,
   "metadata": {},
   "outputs": [],
   "source": []
  },
  {
   "cell_type": "code",
   "execution_count": null,
   "metadata": {},
   "outputs": [],
   "source": []
  },
  {
   "cell_type": "code",
   "execution_count": null,
   "metadata": {},
   "outputs": [],
   "source": []
  },
  {
   "cell_type": "code",
   "execution_count": null,
   "metadata": {},
   "outputs": [],
   "source": []
  },
  {
   "cell_type": "code",
   "execution_count": null,
   "metadata": {},
   "outputs": [],
   "source": []
  },
  {
   "cell_type": "code",
   "execution_count": null,
   "metadata": {},
   "outputs": [],
   "source": []
  },
  {
   "cell_type": "code",
   "execution_count": null,
   "metadata": {},
   "outputs": [],
   "source": []
  },
  {
   "cell_type": "code",
   "execution_count": null,
   "metadata": {},
   "outputs": [],
   "source": []
  },
  {
   "cell_type": "code",
   "execution_count": null,
   "metadata": {},
   "outputs": [],
   "source": []
  },
  {
   "cell_type": "code",
   "execution_count": null,
   "metadata": {},
   "outputs": [],
   "source": []
  },
  {
   "cell_type": "code",
   "execution_count": null,
   "metadata": {},
   "outputs": [],
   "source": []
  },
  {
   "cell_type": "code",
   "execution_count": null,
   "metadata": {},
   "outputs": [],
   "source": []
  },
  {
   "cell_type": "code",
   "execution_count": null,
   "metadata": {},
   "outputs": [],
   "source": []
  },
  {
   "cell_type": "code",
   "execution_count": null,
   "metadata": {},
   "outputs": [],
   "source": []
  },
  {
   "cell_type": "code",
   "execution_count": null,
   "metadata": {},
   "outputs": [],
   "source": []
  },
  {
   "cell_type": "code",
   "execution_count": null,
   "metadata": {},
   "outputs": [],
   "source": []
  },
  {
   "cell_type": "code",
   "execution_count": null,
   "metadata": {},
   "outputs": [],
   "source": []
  },
  {
   "cell_type": "code",
   "execution_count": null,
   "metadata": {},
   "outputs": [],
   "source": []
  },
  {
   "cell_type": "code",
   "execution_count": null,
   "metadata": {},
   "outputs": [],
   "source": []
  },
  {
   "cell_type": "code",
   "execution_count": null,
   "metadata": {},
   "outputs": [],
   "source": []
  },
  {
   "cell_type": "code",
   "execution_count": null,
   "metadata": {},
   "outputs": [],
   "source": []
  },
  {
   "cell_type": "code",
   "execution_count": null,
   "metadata": {},
   "outputs": [],
   "source": []
  },
  {
   "cell_type": "code",
   "execution_count": null,
   "metadata": {},
   "outputs": [],
   "source": []
  },
  {
   "cell_type": "code",
   "execution_count": null,
   "metadata": {},
   "outputs": [],
   "source": []
  }
 ],
 "metadata": {
  "hide_input": false,
  "kernelspec": {
   "display_name": "Python 3",
   "language": "python",
   "name": "python3"
  },
  "language_info": {
   "codemirror_mode": {
    "name": "ipython",
    "version": 3
   },
   "file_extension": ".py",
   "mimetype": "text/x-python",
   "name": "python",
   "nbconvert_exporter": "python",
   "pygments_lexer": "ipython3",
   "version": "3.7.7"
  },
  "latex_envs": {
   "LaTeX_envs_menu_present": true,
   "autoclose": true,
   "autocomplete": true,
   "bibliofile": "biblio.bib",
   "cite_by": "apalike",
   "current_citInitial": 1,
   "eqLabelWithNumbers": true,
   "eqNumInitial": 1,
   "hotkeys": {
    "equation": "Ctrl-E",
    "itemize": "Ctrl-I"
   },
   "labels_anchors": false,
   "latex_user_defs": false,
   "report_style_numbering": false,
   "user_envs_cfg": false
  }
 },
 "nbformat": 4,
 "nbformat_minor": 4
}
