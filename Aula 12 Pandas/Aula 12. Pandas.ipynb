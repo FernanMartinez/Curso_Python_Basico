{
 "cells": [
  {
   "cell_type": "markdown",
   "metadata": {},
   "source": [
    "# Aula 12. Pandas\n",
    "<img  src= \"img/pandas1.jpeg\" style=\"width:500px; height:500px\">"
   ]
  },
  {
   "cell_type": "markdown",
   "metadata": {},
   "source": [
    "Pandas é uma das bibliotecas mais utilizadas em Python para manipulação e análise de dados. Esta biblioteca é de código aberto, escrita em Numpy e oferece estruturas e operações para manipulação de tabelas numéricas e séries temporais.\n",
    "\n",
    "Os principais destaques são:\n",
    "- Possui dois tipos de objetos `pandas.core.frame.DataFrame` e `pandas.core.series.Series` com indexação integrada;\n",
    "- Facilita a leitura, escrita e modificação de arquivos com diferentes formatos, entre os quais se destaca .csv, .txt, .xlsx, SQL, HDF5 (Hierarchical Data Format version 5) dentre outros;\n",
    "- Permite tabelas com diferentes niveis de indexação;\n",
    "- Permite agrupamento de dados por categorias;\n",
    "- Realiza mesclagem e junção de conjuntos de dados com alto desempenho;\n",
    "- Altamente otimizado com códigos escritos em Cython e C;\n",
    "- Pandas é amplamente utilizado em ambientes acadêmicos e comerciais, incluindo finanças, neurociência, economia, estatística, publicidade, análise da web e muito mais.\n",
    "---\n",
    " \n",
    "  <font size=\"6\"> Os tópicos que vamos abordar nesta série de conversas são:</font>\n",
    "\n",
    "- [X] Instalação de pandas;\n",
    "- [x] Importando pandas;\n",
    "- [x] Series;\n",
    "- [x] DataFrame e manipulação;\n",
    " - [X] Criação de DataFrame;\n",
    " - [X] Extraindo informação por colunas. CUIDADO COM NOTAÇÃO SQL;\n",
    " - [X] Extraindo utilizando função loc;\n",
    " - [X] Extraindo utilizando função iloc;\n",
    " - [X] Adicionando novas colunas;\n",
    " - [X] Adicionando novas filas (função append);\n",
    " - [X] Eliminando colunas ou filas.\n",
    "- [X] Operadores de comparação e seleção condicional;\n",
    "- [X] Dados ausentes;\n",
    " - [X] Dropna\n",
    " - [X] filna\n",
    " - [X] replace\n",
    "- [X] Groupby, aggregate e apply\n",
    "- [ ] Juntando diffenrentes `DataFrame` \n",
    " - [ ] `concat`\n",
    " - [ ] `merge`\n",
    " - [ ] `join`\n",
    "- [ ] Operações\n",
    " - [ ] unique\n",
    " - [ ] nunique\n",
    " - [ ] value_counts\n",
    " - [ ] del ( )\n",
    " - [ ] columns\n",
    " - [ ] index\n",
    " - [ ] sort_values\n",
    " - [ ] pivol\n",
    "- [ ] Importando e exportando dados.\n",
    " - [ ] csv\n",
    " - [ ] excell\n",
    " - [ ] html\n",
    "- Aplicação\n",
    "---\n",
    "<font size=\"5\"> Recomento visitar o site oficial do projeto [Pandas](https://pandas.pydata.org/) para conhecer mais um pouco desta biblioteca.</font>"
   ]
  },
  {
   "cell_type": "markdown",
   "metadata": {
    "heading_collapsed": true
   },
   "source": [
    "## Intalação do pandas"
   ]
  },
  {
   "cell_type": "markdown",
   "metadata": {
    "hidden": true
   },
   "source": [
    "Para instalar pandas no nosso computador podemos utilizar o condas ou o pip.\n",
    "```python\n",
    "conda install pandas\n",
    "pip install pandas\n",
    "```"
   ]
  },
  {
   "cell_type": "markdown",
   "metadata": {
    "heading_collapsed": true
   },
   "source": [
    "## importando pandas e numpy"
   ]
  },
  {
   "cell_type": "code",
   "execution_count": 1,
   "metadata": {
    "ExecuteTime": {
     "end_time": "2020-09-30T11:53:02.002384Z",
     "start_time": "2020-09-30T11:53:01.677863Z"
    },
    "hidden": true
   },
   "outputs": [],
   "source": [
    "import pandas as pd\n",
    "import numpy as np"
   ]
  },
  {
   "cell_type": "markdown",
   "metadata": {
    "heading_collapsed": true
   },
   "source": [
    "## Series\n",
    "O conceito principal de uma [Series](https://pandas.pydata.org/pandas-docs/stable/reference/api/pandas.Series.html) em Pandas e trabalhar com vetores a partir do indice ou labels. A sintaxe para definir uma Series é:\n",
    "```python\n",
    " pandas.Series(data=None, index=None, dtype=None, name=None, copy=False, fastpath=False)\n",
    "```"
   ]
  },
  {
   "cell_type": "code",
   "execution_count": null,
   "metadata": {
    "ExecuteTime": {
     "end_time": "2020-09-30T11:29:23.053007Z",
     "start_time": "2020-09-30T11:29:23.041497Z"
    },
    "hidden": true
   },
   "outputs": [],
   "source": [
    "# Definindo algumas variaveis que vamos utilizar\n",
    "valores  = np.random.randn(1, 10).reshape(10,)\n",
    "index_row = \"A B C D E F G H I J\".split(\" \")\n",
    "d = {key: value for key, value in zip(index_row, valores)}"
   ]
  },
  {
   "cell_type": "code",
   "execution_count": null,
   "metadata": {
    "ExecuteTime": {
     "end_time": "2020-09-30T11:29:24.729481Z",
     "start_time": "2020-09-30T11:29:24.717266Z"
    },
    "code_folding": [],
    "hidden": true
   },
   "outputs": [],
   "source": [
    "# Criando uma Series passando somente os valores\n",
    "pd.Series(valores)"
   ]
  },
  {
   "cell_type": "code",
   "execution_count": null,
   "metadata": {
    "ExecuteTime": {
     "end_time": "2020-09-30T11:29:25.995099Z",
     "start_time": "2020-09-30T11:29:25.985580Z"
    },
    "hidden": true
   },
   "outputs": [],
   "source": [
    "# Criando uma Series passando data e index\n",
    "pd.Series(data=valores, index=index_row)"
   ]
  },
  {
   "cell_type": "code",
   "execution_count": null,
   "metadata": {
    "ExecuteTime": {
     "end_time": "2020-09-30T11:29:34.957499Z",
     "start_time": "2020-09-30T11:29:34.938334Z"
    },
    "hidden": true
   },
   "outputs": [],
   "source": [
    "# Observemos que pomodes criar uma Series passando qualquer tipo de dados\n",
    "pd.Series(index=valores, data=index_row)"
   ]
  },
  {
   "cell_type": "code",
   "execution_count": null,
   "metadata": {
    "ExecuteTime": {
     "end_time": "2020-09-30T11:29:37.519833Z",
     "start_time": "2020-09-30T11:29:37.513754Z"
    },
    "hidden": true
   },
   "outputs": [],
   "source": [
    "# Observemos que uma Series se comporta muito semelhante ao dicionário dado que ela trabalhar com chave: valor,\n",
    "# portanto podemos criar uma Seires passando um dicionário\n",
    "pd.Series(d)"
   ]
  },
  {
   "cell_type": "markdown",
   "metadata": {
    "hidden": true
   },
   "source": [
    "Mas qual é a vantagem de utilizar uma Series em relação ao arrays?"
   ]
  },
  {
   "cell_type": "code",
   "execution_count": null,
   "metadata": {
    "ExecuteTime": {
     "end_time": "2020-09-30T11:29:39.849627Z",
     "start_time": "2020-09-30T11:29:39.793243Z"
    },
    "hidden": true
   },
   "outputs": [],
   "source": [
    "series_1 = pd.Series(data=[5, 10, 20, 30, 8], index=\"A B C D J\".split(\" \"))\n",
    "series_2 = pd.Series(data=[20, 15, 15, 5, 25], index=\"A B K D C\".split(\" \"))\n",
    "print(series_1)\n",
    "print(series_2)\n",
    "print(series_1 + series_2)"
   ]
  },
  {
   "cell_type": "markdown",
   "metadata": {},
   "source": [
    "## DataFrame e manipulação\n",
    "O objeto principal de Pandas é o [DataFrame](https://pandas.pydata.org/pandas-docs/stable/reference/api/pandas.DataFrame.html), este objeto se aproxima ao que conhecemos como planilha de excell (somente em aparência). Para definir um DataFrame utilizamos a seguinte sintaxe:\n",
    "```python\n",
    "pandas.DataFrame(data=None, index=None, columns=None, dtype=None, copy=False)\n",
    "```\n",
    "Neste caso os argumentos mais relevantes são `data`, `index` e `columns`, porém o único argumento obrigatório é o `data`."
   ]
  },
  {
   "cell_type": "markdown",
   "metadata": {
    "heading_collapsed": true
   },
   "source": [
    "### Criação de DataFrame"
   ]
  },
  {
   "cell_type": "code",
   "execution_count": null,
   "metadata": {
    "ExecuteTime": {
     "end_time": "2020-09-30T11:30:01.363851Z",
     "start_time": "2020-09-30T11:30:01.356164Z"
    },
    "hidden": true
   },
   "outputs": [],
   "source": [
    "data = np.arange(1, 17).reshape((4,4))\n",
    "index = \"Row_1 Row_2 Row_3 Row_4\".split(\" \")\n",
    "col = \"Col_1 Col_2 Col_3 Col_4\".split(\" \")"
   ]
  },
  {
   "cell_type": "code",
   "execution_count": null,
   "metadata": {
    "ExecuteTime": {
     "end_time": "2020-09-30T11:30:02.764530Z",
     "start_time": "2020-09-30T11:30:02.752637Z"
    },
    "hidden": true
   },
   "outputs": [],
   "source": [
    "data"
   ]
  },
  {
   "cell_type": "code",
   "execution_count": null,
   "metadata": {
    "ExecuteTime": {
     "end_time": "2020-09-30T11:30:04.482636Z",
     "start_time": "2020-09-30T11:30:04.469070Z"
    },
    "hidden": true
   },
   "outputs": [],
   "source": [
    "# Definindo um DataFrame passando data\n",
    "pd.DataFrame(data)"
   ]
  },
  {
   "cell_type": "code",
   "execution_count": null,
   "metadata": {
    "ExecuteTime": {
     "end_time": "2020-09-30T11:30:06.511438Z",
     "start_time": "2020-09-30T11:30:06.465713Z"
    },
    "hidden": true
   },
   "outputs": [],
   "source": [
    "# Definindo um DataFrame passando data e index\n",
    "pd.DataFrame(data, index)"
   ]
  },
  {
   "cell_type": "code",
   "execution_count": null,
   "metadata": {
    "ExecuteTime": {
     "end_time": "2020-09-30T11:30:08.642728Z",
     "start_time": "2020-09-30T11:30:08.601539Z"
    },
    "hidden": true
   },
   "outputs": [],
   "source": [
    "# Definindo um DataFrame passando todos data, index e columns\n",
    "data_frame = pd.DataFrame(data, index, col)\n",
    "data_frame"
   ]
  },
  {
   "cell_type": "markdown",
   "metadata": {
    "heading_collapsed": true
   },
   "source": [
    "### Extraindo informação por colunas. *CUIDADO COM NOTAÇÃO SQL*"
   ]
  },
  {
   "cell_type": "code",
   "execution_count": null,
   "metadata": {
    "ExecuteTime": {
     "end_time": "2020-09-30T11:30:16.495910Z",
     "start_time": "2020-09-30T11:30:16.487811Z"
    },
    "hidden": true
   },
   "outputs": [],
   "source": [
    "# Extraindo informação da columna Col_4\n",
    "data_frame[\"Col_4\"]"
   ]
  },
  {
   "cell_type": "code",
   "execution_count": null,
   "metadata": {
    "ExecuteTime": {
     "end_time": "2020-09-30T11:30:18.107527Z",
     "start_time": "2020-09-30T11:30:18.093134Z"
    },
    "hidden": true
   },
   "outputs": [],
   "source": [
    "# Podemos utilizar a notação de ponto e o nome da columna, porém esta forma não é recomendada\n",
    "data_frame.Col_3"
   ]
  },
  {
   "cell_type": "markdown",
   "metadata": {
    "heading_collapsed": true
   },
   "source": [
    "### Extraindo utilizando função loc\n",
    "A propriedade [`loc`](https://pandas.pydata.org/pandas-docs/stable/reference/api/pandas.DataFrame.loc.html) permite obter os dados de um DataFrame a partir dos labels das filas e das coluna. A sintaxe para aplicar esta propriedade é:\n",
    "```python\n",
    "DataFrame.loc[]\n",
    "```"
   ]
  },
  {
   "cell_type": "code",
   "execution_count": null,
   "metadata": {
    "ExecuteTime": {
     "end_time": "2020-09-30T11:30:23.895586Z",
     "start_time": "2020-09-30T11:30:23.884266Z"
    },
    "hidden": true
   },
   "outputs": [],
   "source": [
    "# Podemos utilizar a função loc para extrair informação utilizando o índice da fila e o nome da coluna\n",
    "data_frame.loc[\"Row_1\", \"Col_1\"]"
   ]
  },
  {
   "cell_type": "code",
   "execution_count": null,
   "metadata": {
    "ExecuteTime": {
     "end_time": "2020-09-30T11:30:25.618300Z",
     "start_time": "2020-09-30T11:30:25.604393Z"
    },
    "hidden": true
   },
   "outputs": [],
   "source": [
    "# Para extrair diferentes colunas ou fila passamos uma lista com os nomes das colunas e filas\n",
    "data_frame.loc[[\"Row_1\", \"Row_4\"], [\"Col_1\", \"Col_4\"]]"
   ]
  },
  {
   "cell_type": "code",
   "execution_count": null,
   "metadata": {
    "ExecuteTime": {
     "end_time": "2020-09-30T11:30:26.963410Z",
     "start_time": "2020-09-30T11:30:26.948437Z"
    },
    "hidden": true
   },
   "outputs": [],
   "source": [
    "# Também podemos utilizar a função loc para extrair filas\n",
    "data_frame.loc[\"Row_3\"]"
   ]
  },
  {
   "cell_type": "markdown",
   "metadata": {
    "ExecuteTime": {
     "end_time": "2020-09-13T20:36:30.990759Z",
     "start_time": "2020-09-13T20:36:30.984811Z"
    },
    "heading_collapsed": true
   },
   "source": [
    "### Extraindo utilizando função iloc\n",
    "Existe outra forma de extrair os valores de um DataFrame utilizando a notação aprendida em Numpy, para isso utilizamos a propriedade [`iloc`](https://pandas.pydata.org/pandas-docs/stable/reference/api/pandas.DataFrame.iloc.html):\n",
    "```python\n",
    "DataFrame.iloc[]\n",
    "```"
   ]
  },
  {
   "cell_type": "code",
   "execution_count": null,
   "metadata": {
    "ExecuteTime": {
     "end_time": "2020-09-30T11:30:31.847346Z",
     "start_time": "2020-09-30T11:30:31.832540Z"
    },
    "hidden": true
   },
   "outputs": [],
   "source": [
    "data_frame.iloc[0, 0]"
   ]
  },
  {
   "cell_type": "code",
   "execution_count": null,
   "metadata": {
    "ExecuteTime": {
     "end_time": "2020-09-30T11:30:33.446008Z",
     "start_time": "2020-09-30T11:30:33.435187Z"
    },
    "hidden": true
   },
   "outputs": [],
   "source": [
    "data_frame.iloc[ [0, -1], [0, -1]]"
   ]
  },
  {
   "cell_type": "code",
   "execution_count": null,
   "metadata": {
    "ExecuteTime": {
     "end_time": "2020-09-30T11:30:35.130919Z",
     "start_time": "2020-09-30T11:30:35.122105Z"
    },
    "hidden": true
   },
   "outputs": [],
   "source": [
    "data_frame.iloc[2]"
   ]
  },
  {
   "cell_type": "code",
   "execution_count": null,
   "metadata": {
    "ExecuteTime": {
     "end_time": "2020-09-30T11:30:38.033585Z",
     "start_time": "2020-09-30T11:30:37.985421Z"
    },
    "hidden": true
   },
   "outputs": [],
   "source": [
    "data_frame.iloc[2:]"
   ]
  },
  {
   "cell_type": "markdown",
   "metadata": {
    "heading_collapsed": true
   },
   "source": [
    "### Adicionando novas colunas"
   ]
  },
  {
   "cell_type": "code",
   "execution_count": null,
   "metadata": {
    "ExecuteTime": {
     "end_time": "2020-09-30T11:30:44.319897Z",
     "start_time": "2020-09-30T11:30:44.290805Z"
    },
    "hidden": true
   },
   "outputs": [],
   "source": [
    "data_frame[\"Col_nova\"] = data_frame.iloc[:, -1] + data_frame.iloc[:, 0]\n",
    "data_frame"
   ]
  },
  {
   "cell_type": "code",
   "execution_count": null,
   "metadata": {
    "ExecuteTime": {
     "end_time": "2020-09-30T11:30:46.005292Z",
     "start_time": "2020-09-30T11:30:45.965711Z"
    },
    "hidden": true
   },
   "outputs": [],
   "source": [
    "data_frame[\"Col_nova_2\"]  = 2\n",
    "data_frame"
   ]
  },
  {
   "cell_type": "code",
   "execution_count": null,
   "metadata": {
    "ExecuteTime": {
     "end_time": "2020-09-30T11:30:47.800617Z",
     "start_time": "2020-09-30T11:30:47.782333Z"
    },
    "hidden": true
   },
   "outputs": [],
   "source": [
    "data_frame"
   ]
  },
  {
   "cell_type": "markdown",
   "metadata": {
    "heading_collapsed": true
   },
   "source": [
    "### Adicionando novas filas (função append)\n",
    "Para adicionar uma nova fila utilizamos a função [append()](https://pandas.pydata.org/pandas-docs/stable/reference/api/pandas.DataFrame.append.html), essa função adiciona uma nova (ou novas) fila(s) no final do DataFrame. A sintaxe utilizada para isso é:\n",
    "```python\n",
    "DataFrame.append(other, ignore_index=False, verify_integrity=False, sort=False)\n",
    "```"
   ]
  },
  {
   "cell_type": "code",
   "execution_count": null,
   "metadata": {
    "ExecuteTime": {
     "end_time": "2020-09-30T11:30:57.497958Z",
     "start_time": "2020-09-30T11:30:57.492707Z"
    },
    "hidden": true
   },
   "outputs": [],
   "source": [
    "np.array([[1,2,3,4]])"
   ]
  },
  {
   "cell_type": "code",
   "execution_count": null,
   "metadata": {
    "ExecuteTime": {
     "end_time": "2020-09-30T11:30:59.269871Z",
     "start_time": "2020-09-30T11:30:59.200039Z"
    },
    "hidden": true
   },
   "outputs": [],
   "source": [
    "data_frame2 = pd.DataFrame([[1,2,3,4]], columns=col)\n",
    "data_frame.append(data_frame2)"
   ]
  },
  {
   "cell_type": "code",
   "execution_count": null,
   "metadata": {
    "ExecuteTime": {
     "end_time": "2020-09-30T11:31:04.490961Z",
     "start_time": "2020-09-30T11:31:04.457080Z"
    },
    "hidden": true
   },
   "outputs": [],
   "source": [
    "data_frame.append(data_frame*10)"
   ]
  },
  {
   "cell_type": "markdown",
   "metadata": {
    "heading_collapsed": true
   },
   "source": [
    "### Eliminando colunas ou filas\n",
    "Para eliminar colunas ou filas de um DataFrame utilizamos a função [`drop`](https://pandas.pydata.org/pandas-docs/stable/reference/api/pandas.DataFrame.drop.html). Neste caso se deve passar o indice da fila que será eliminada ou o label da coluna. Além disso, deve-se especificar o `axis` o qual é 0 para filas e 1 para columnas. A sintaxe utilizada é:\n",
    "\n",
    "```python\n",
    "DataFrame.drop(labels=None, axis=0, index=None, columns=None, level=None, inplace=False, errors='raise')\n",
    "```"
   ]
  },
  {
   "cell_type": "code",
   "execution_count": null,
   "metadata": {
    "ExecuteTime": {
     "end_time": "2020-09-30T11:31:11.298151Z",
     "start_time": "2020-09-30T11:31:11.265853Z"
    },
    "hidden": true
   },
   "outputs": [],
   "source": [
    "data_frame"
   ]
  },
  {
   "cell_type": "code",
   "execution_count": null,
   "metadata": {
    "ExecuteTime": {
     "end_time": "2020-09-30T11:31:12.966919Z",
     "start_time": "2020-09-30T11:31:12.947927Z"
    },
    "hidden": true
   },
   "outputs": [],
   "source": [
    "# Eliminando a primeira fila\n",
    "data_frame.drop(\"Row_1\", axis=0)"
   ]
  },
  {
   "cell_type": "code",
   "execution_count": null,
   "metadata": {
    "ExecuteTime": {
     "end_time": "2020-09-30T11:31:14.646699Z",
     "start_time": "2020-09-30T11:31:14.618109Z"
    },
    "hidden": true
   },
   "outputs": [],
   "source": [
    "# Eliminando varias filas \n",
    "data_frame.drop([\"Row_1\", \"Row_3\"], axis=0)"
   ]
  },
  {
   "cell_type": "code",
   "execution_count": null,
   "metadata": {
    "ExecuteTime": {
     "end_time": "2020-09-30T11:31:16.435372Z",
     "start_time": "2020-09-30T11:31:16.421772Z"
    },
    "hidden": true
   },
   "outputs": [],
   "source": [
    "# Eliminando a primeira coluna\n",
    "data_frame.drop(\"Col_1\", axis=1)"
   ]
  },
  {
   "cell_type": "code",
   "execution_count": null,
   "metadata": {
    "ExecuteTime": {
     "end_time": "2020-09-30T11:31:18.516900Z",
     "start_time": "2020-09-30T11:31:18.504128Z"
    },
    "hidden": true
   },
   "outputs": [],
   "source": [
    "data_frame"
   ]
  },
  {
   "cell_type": "code",
   "execution_count": null,
   "metadata": {
    "ExecuteTime": {
     "end_time": "2020-09-30T11:31:20.459527Z",
     "start_time": "2020-09-30T11:31:20.450194Z"
    },
    "hidden": true
   },
   "outputs": [],
   "source": [
    "# Eliminando a varias colunas coluna\n",
    "data_frame.drop([\"Col_1\", \"Col_4\"], axis=1, inplace=True)"
   ]
  },
  {
   "cell_type": "code",
   "execution_count": null,
   "metadata": {
    "ExecuteTime": {
     "end_time": "2020-09-30T11:31:22.418361Z",
     "start_time": "2020-09-30T11:31:22.395524Z"
    },
    "hidden": true
   },
   "outputs": [],
   "source": [
    "data_frame\n",
    "# é interessante o fato de não modificar o data_frame original?"
   ]
  },
  {
   "cell_type": "markdown",
   "metadata": {
    "heading_collapsed": true
   },
   "source": [
    "## Operadores de comparação e seleção condicional\n",
    "Da mesma forma que é possível aplicar operadores de comparação em arrays, com pandas podemos aplicar os mesmos operadores."
   ]
  },
  {
   "cell_type": "code",
   "execution_count": null,
   "metadata": {
    "ExecuteTime": {
     "end_time": "2020-09-30T11:31:30.960156Z",
     "start_time": "2020-09-30T11:31:30.928146Z"
    },
    "hidden": true
   },
   "outputs": [],
   "source": [
    "# Criando dados para trabalhar\n",
    "np.random.seed(100)\n",
    "data2 = np.random.randint(-10, 10, (5,5))\n",
    "col2 = [f\"Col_{i}\" for i in range(1, 6)]\n",
    "row2 = [f\"Row_{i}\" for i in range(1, 6)]\n",
    "data_frame2 = pd.DataFrame(data2, row2, col2)\n",
    "data_frame2 "
   ]
  },
  {
   "cell_type": "code",
   "execution_count": null,
   "metadata": {
    "ExecuteTime": {
     "end_time": "2020-09-30T11:31:32.728370Z",
     "start_time": "2020-09-30T11:31:32.710363Z"
    },
    "hidden": true
   },
   "outputs": [],
   "source": [
    "data_frame2 > 0"
   ]
  },
  {
   "cell_type": "code",
   "execution_count": null,
   "metadata": {
    "ExecuteTime": {
     "end_time": "2020-09-30T11:31:34.676929Z",
     "start_time": "2020-09-30T11:31:34.649730Z"
    },
    "hidden": true
   },
   "outputs": [],
   "source": [
    "# Podemos atribuir esse teste de comparação a uma variável e utiliza-o para realizar seleção\n",
    "comp = data_frame2 > 0\n",
    "data_frame2[comp] \n",
    "# data_frame2[data_frame2 > 0] \n",
    "data_frame2"
   ]
  },
  {
   "cell_type": "code",
   "execution_count": null,
   "metadata": {
    "ExecuteTime": {
     "end_time": "2020-09-30T11:31:36.631367Z",
     "start_time": "2020-09-30T11:31:36.619567Z"
    },
    "hidden": true
   },
   "outputs": [],
   "source": [
    "# Aplicando uma comparação numa serie\n",
    "comp = data_frame2[\"Col_5\"] > 0\n",
    "data_frame2[comp][\"Col_1\"]\n",
    "data_frame2"
   ]
  },
  {
   "cell_type": "code",
   "execution_count": null,
   "metadata": {
    "ExecuteTime": {
     "end_time": "2020-09-30T11:31:39.193686Z",
     "start_time": "2020-09-30T11:31:39.182363Z"
    },
    "hidden": true
   },
   "outputs": [],
   "source": [
    "# Aplicando comparações multiples\n",
    "comp1 = data_frame2[\"Col_5\"] >= 2 #(Row_1, Row_2 e Row_4)\n",
    "comp2 = data_frame2[\"Col_3\"] < -1 # (Row_1, Row_2)\n",
    "data_frame2[comp2 & comp1]"
   ]
  },
  {
   "cell_type": "code",
   "execution_count": null,
   "metadata": {
    "ExecuteTime": {
     "end_time": "2020-09-30T11:31:40.930964Z",
     "start_time": "2020-09-30T11:31:40.900472Z"
    },
    "hidden": true
   },
   "outputs": [],
   "source": [
    "# As tres linhas anteriores são equivalentes a:\n",
    "data_frame2[(data_frame2[\"Col_5\"] >= 2) & (data_frame2[\"Col_3\"] < -1)]"
   ]
  },
  {
   "cell_type": "code",
   "execution_count": null,
   "metadata": {
    "ExecuteTime": {
     "end_time": "2020-09-30T11:31:42.786914Z",
     "start_time": "2020-09-30T11:31:42.779019Z"
    },
    "hidden": true
   },
   "outputs": [],
   "source": [
    "data_frame2"
   ]
  },
  {
   "cell_type": "markdown",
   "metadata": {},
   "source": [
    "## Dados ausentes\n",
    "Quando trabalhamos com dados provenientes de fontes externas (como base de dados, dados de sensores, etc), pode acontecer que existam dados com valores \"inapropriados\" ou valores ausentes. Nesse caso a biblioteca Pandas ajuda a processar esses valores.\n",
    "\n",
    "Cabe destacar que o conceito de dado \"inapropriado\" varia de cenário para cenário e aforma de tratar esses dados pode varia. Porém, Pandas possui uma diversa variedade de funções e metódos que podem ser utilizados para essa finalidade.\n",
    "\n",
    "Recomendo a leitura de [Working with missing data](https://pandas.pydata.org/pandas-docs/stable/user_guide/missing_data.html). Nesta leitura a empresa desenvolvedora da biblioteca Pandas apresenta varias formas de processar dados ausentes.\n"
   ]
  },
  {
   "cell_type": "code",
   "execution_count": 2,
   "metadata": {
    "ExecuteTime": {
     "end_time": "2020-09-30T11:53:13.990636Z",
     "start_time": "2020-09-30T11:53:13.927581Z"
    }
   },
   "outputs": [
    {
     "data": {
      "text/html": [
       "<div>\n",
       "<style scoped>\n",
       "    .dataframe tbody tr th:only-of-type {\n",
       "        vertical-align: middle;\n",
       "    }\n",
       "\n",
       "    .dataframe tbody tr th {\n",
       "        vertical-align: top;\n",
       "    }\n",
       "\n",
       "    .dataframe thead th {\n",
       "        text-align: right;\n",
       "    }\n",
       "</style>\n",
       "<table border=\"1\" class=\"dataframe\">\n",
       "  <thead>\n",
       "    <tr style=\"text-align: right;\">\n",
       "      <th></th>\n",
       "      <th>Col_1</th>\n",
       "      <th>Col_2</th>\n",
       "      <th>Col_3</th>\n",
       "      <th>Col_4</th>\n",
       "      <th>Col_5</th>\n",
       "      <th>Col_6</th>\n",
       "      <th>Col_7</th>\n",
       "      <th>Col_8</th>\n",
       "      <th>Col_9</th>\n",
       "      <th>Col_10</th>\n",
       "    </tr>\n",
       "  </thead>\n",
       "  <tbody>\n",
       "    <tr>\n",
       "      <th>Row_1</th>\n",
       "      <td>-2</td>\n",
       "      <td>-7</td>\n",
       "      <td>NaN</td>\n",
       "      <td>5</td>\n",
       "      <td>6</td>\n",
       "      <td>0</td>\n",
       "      <td>-8</td>\n",
       "      <td>-8</td>\n",
       "      <td>-8</td>\n",
       "      <td>4</td>\n",
       "    </tr>\n",
       "    <tr>\n",
       "      <th>Row_2</th>\n",
       "      <td>-8</td>\n",
       "      <td>7</td>\n",
       "      <td>6</td>\n",
       "      <td>NaN</td>\n",
       "      <td>-6</td>\n",
       "      <td>1</td>\n",
       "      <td>6</td>\n",
       "      <td>-1</td>\n",
       "      <td>-8</td>\n",
       "      <td>NaN</td>\n",
       "    </tr>\n",
       "    <tr>\n",
       "      <th>Row_3</th>\n",
       "      <td>-6</td>\n",
       "      <td>-9</td>\n",
       "      <td>3</td>\n",
       "      <td>9</td>\n",
       "      <td>-6</td>\n",
       "      <td>-6</td>\n",
       "      <td>-7</td>\n",
       "      <td>-3</td>\n",
       "      <td>7</td>\n",
       "      <td>5</td>\n",
       "    </tr>\n",
       "    <tr>\n",
       "      <th>Row_4</th>\n",
       "      <td>NaN</td>\n",
       "      <td>NaN</td>\n",
       "      <td>NaN</td>\n",
       "      <td>6</td>\n",
       "      <td>-8</td>\n",
       "      <td>NaN</td>\n",
       "      <td>9</td>\n",
       "      <td>-8</td>\n",
       "      <td>4</td>\n",
       "      <td>7</td>\n",
       "    </tr>\n",
       "    <tr>\n",
       "      <th>Row_5</th>\n",
       "      <td>6</td>\n",
       "      <td>5</td>\n",
       "      <td>-3</td>\n",
       "      <td>3</td>\n",
       "      <td>NaN</td>\n",
       "      <td>2</td>\n",
       "      <td>8</td>\n",
       "      <td>-10</td>\n",
       "      <td>-8</td>\n",
       "      <td>0</td>\n",
       "    </tr>\n",
       "    <tr>\n",
       "      <th>Row_6</th>\n",
       "      <td>7</td>\n",
       "      <td>NaN</td>\n",
       "      <td>3</td>\n",
       "      <td>0</td>\n",
       "      <td>NaN</td>\n",
       "      <td>NaN</td>\n",
       "      <td>8</td>\n",
       "      <td>-2</td>\n",
       "      <td>9</td>\n",
       "      <td>4</td>\n",
       "    </tr>\n",
       "    <tr>\n",
       "      <th>Row_7</th>\n",
       "      <td>-10</td>\n",
       "      <td>NaN</td>\n",
       "      <td>2</td>\n",
       "      <td>0</td>\n",
       "      <td>NaN</td>\n",
       "      <td>-4</td>\n",
       "      <td>NaN</td>\n",
       "      <td>5</td>\n",
       "      <td>0</td>\n",
       "      <td>NaN</td>\n",
       "    </tr>\n",
       "    <tr>\n",
       "      <th>Row_8</th>\n",
       "      <td>-7</td>\n",
       "      <td>NaN</td>\n",
       "      <td>6</td>\n",
       "      <td>1</td>\n",
       "      <td>-6</td>\n",
       "      <td>-5</td>\n",
       "      <td>-3</td>\n",
       "      <td>-4</td>\n",
       "      <td>-8</td>\n",
       "      <td>0</td>\n",
       "    </tr>\n",
       "    <tr>\n",
       "      <th>Row_9</th>\n",
       "      <td>8</td>\n",
       "      <td>NaN</td>\n",
       "      <td>2</td>\n",
       "      <td>-9</td>\n",
       "      <td>-4</td>\n",
       "      <td>0</td>\n",
       "      <td>-10</td>\n",
       "      <td>-8</td>\n",
       "      <td>9</td>\n",
       "      <td>-6</td>\n",
       "    </tr>\n",
       "    <tr>\n",
       "      <th>Row_10</th>\n",
       "      <td>8</td>\n",
       "      <td>NaN</td>\n",
       "      <td>NaN</td>\n",
       "      <td>-1</td>\n",
       "      <td>NaN</td>\n",
       "      <td>6</td>\n",
       "      <td>-4</td>\n",
       "      <td>-5</td>\n",
       "      <td>NaN</td>\n",
       "      <td>NaN</td>\n",
       "    </tr>\n",
       "  </tbody>\n",
       "</table>\n",
       "</div>"
      ],
      "text/plain": [
       "       Col_1 Col_2 Col_3 Col_4 Col_5 Col_6 Col_7 Col_8 Col_9 Col_10\n",
       "Row_1     -2    -7   NaN     5     6     0    -8    -8    -8      4\n",
       "Row_2     -8     7     6   NaN    -6     1     6    -1    -8    NaN\n",
       "Row_3     -6    -9     3     9    -6    -6    -7    -3     7      5\n",
       "Row_4    NaN   NaN   NaN     6    -8   NaN     9    -8     4      7\n",
       "Row_5      6     5    -3     3   NaN     2     8   -10    -8      0\n",
       "Row_6      7   NaN     3     0   NaN   NaN     8    -2     9      4\n",
       "Row_7    -10   NaN     2     0   NaN    -4   NaN     5     0    NaN\n",
       "Row_8     -7   NaN     6     1    -6    -5    -3    -4    -8      0\n",
       "Row_9      8   NaN     2    -9    -4     0   -10    -8     9     -6\n",
       "Row_10     8   NaN   NaN    -1   NaN     6    -4    -5   NaN    NaN"
      ]
     },
     "execution_count": 2,
     "metadata": {},
     "output_type": "execute_result"
    }
   ],
   "source": [
    "# Criando data frame com valores nan\n",
    "np.random.seed(100)\n",
    "n = 10\n",
    "data2 = np.random.randint(-10, 10, (n, n)).astype(object)\n",
    "col2 = [f\"Col_{i}\" for i in range(1, n + 1)]\n",
    "row2 = [f\"Row_{i}\" for i in range(1, n + 1)]\n",
    "for r in range(n):\n",
    "    for c in range(n):\n",
    "        if np.random.random() < 0.25:\n",
    "            data2[r, c] = np.nan\n",
    "data_frame_nan = pd.DataFrame(data2, row2, col2)\n",
    "data_frame_nan"
   ]
  },
  {
   "cell_type": "markdown",
   "metadata": {
    "ExecuteTime": {
     "end_time": "2020-09-14T16:56:12.824957Z",
     "start_time": "2020-09-14T16:56:12.799162Z"
    },
    "heading_collapsed": true
   },
   "source": [
    "### Dropna\n",
    "\n",
    "Para excluir valores faltantes `NaN` utilizamos a função [`dropna`](https://pandas.pydata.org/pandas-docs/stable/reference/api/pandas.DataFrame.dropna.html). Os argumentos necessarios para esta função são:\n",
    "\n",
    "```python\n",
    "DataFrame.dropna(axis=0, how='any', thresh=None, subset=None, inplace=False)\n",
    "```"
   ]
  },
  {
   "cell_type": "code",
   "execution_count": null,
   "metadata": {
    "ExecuteTime": {
     "end_time": "2020-09-30T11:32:31.247369Z",
     "start_time": "2020-09-30T11:32:31.215514Z"
    },
    "hidden": true
   },
   "outputs": [],
   "source": [
    "# Elimiando os valores NaN, observemos que o resultado é somente Row_3\n",
    "# Neste caso definimos axis=0, o que indica que caso alguma fila tenha pelo menos um Nan, a fila será excluida\n",
    "data_frame_nan.dropna(axis=0)"
   ]
  },
  {
   "cell_type": "code",
   "execution_count": null,
   "metadata": {
    "ExecuteTime": {
     "end_time": "2020-09-30T11:32:33.143636Z",
     "start_time": "2020-09-30T11:32:33.125768Z"
    },
    "hidden": true
   },
   "outputs": [],
   "source": [
    "# Elimiando os valores NaN, observemos que o resultado é somente Col_8\n",
    "# Neste caso definimos axis=0, o que indica que caso alguma fila tenha pelo menos um Nan, a fila será excluida\n",
    "data_frame_nan.dropna(axis=1)"
   ]
  },
  {
   "cell_type": "code",
   "execution_count": null,
   "metadata": {
    "ExecuteTime": {
     "end_time": "2020-09-30T11:32:35.100436Z",
     "start_time": "2020-09-30T11:32:35.046828Z"
    },
    "hidden": true
   },
   "outputs": [],
   "source": [
    "# Também podemos definir a quantidade de valores no Nan que vamos aceitar. Por tanto se queremos aceitar\n",
    "# pelo menos um NaN devemos de passar `thresh=9`\n",
    "data_frame_nan.dropna(axis=1,thresh=9)"
   ]
  },
  {
   "cell_type": "code",
   "execution_count": null,
   "metadata": {
    "ExecuteTime": {
     "end_time": "2020-09-30T11:32:37.452048Z",
     "start_time": "2020-09-30T11:32:37.402817Z"
    },
    "hidden": true
   },
   "outputs": [],
   "source": [
    "# Observemos que a tabela original não foi modificada.\n",
    "data_frame_nan"
   ]
  },
  {
   "cell_type": "code",
   "execution_count": null,
   "metadata": {
    "ExecuteTime": {
     "end_time": "2020-09-30T11:32:39.182867Z",
     "start_time": "2020-09-30T11:32:39.125107Z"
    },
    "hidden": true
   },
   "outputs": [],
   "source": [
    "# Se queremos modificar o arquivo original devemos passar `inplace=True`\n",
    "data_frame_nan.dropna(axis=1,thresh=7, inplace=True)\n",
    "data_frame_nan"
   ]
  },
  {
   "cell_type": "markdown",
   "metadata": {
    "heading_collapsed": true
   },
   "source": [
    "### fillna\n",
    "Outra forma de processar os dados faltantes é utilizando a função [`fillna`](https://pandas.pydata.org/pandas-docs/stable/reference/api/pandas.DataFrame.fillna.html) a qual permite substituir o valor faltante por outro valor.\n",
    "```python\n",
    "DataFrame.fillna(value=None, method=None, axis=None, inplace=False, limit=None, downcast=None)\n",
    "```"
   ]
  },
  {
   "cell_type": "code",
   "execution_count": null,
   "metadata": {
    "ExecuteTime": {
     "end_time": "2020-09-30T11:32:45.356638Z",
     "start_time": "2020-09-30T11:32:45.268772Z"
    },
    "hidden": true
   },
   "outputs": [],
   "source": [
    "# Criando data frame com valores nan\n",
    "np.random.seed(100)\n",
    "n = 10\n",
    "data2 = np.random.randint(25, 37, (n, n)).astype(object)\n",
    "col2 = [f\"Day_{i}\" for i in range(1, n + 1)]\n",
    "row2 = [f\"Time_{i}\" for i in range(1, n + 1)]\n",
    "for r in range(n):\n",
    "    for c in range(n):\n",
    "        if np.random.random() < 0.25:\n",
    "            data2[r, c] = np.nan\n",
    "data_frame_fillna = pd.DataFrame(data2, row2, col2)\n",
    "data_frame_fillna"
   ]
  },
  {
   "cell_type": "code",
   "execution_count": null,
   "metadata": {
    "ExecuteTime": {
     "end_time": "2020-09-30T11:32:48.971930Z",
     "start_time": "2020-09-30T11:32:48.946988Z"
    },
    "hidden": true
   },
   "outputs": [],
   "source": [
    "data_frame_fillna.fillna(value=\"VALOR ERRADO\")"
   ]
  },
  {
   "cell_type": "code",
   "execution_count": null,
   "metadata": {
    "ExecuteTime": {
     "end_time": "2020-09-30T11:32:51.825059Z",
     "start_time": "2020-09-30T11:32:51.739049Z"
    },
    "hidden": true
   },
   "outputs": [],
   "source": [
    "# Caso queiramos preencher o valor faltante pelo valor anterior podemos realizar isso aplicando o `method=\"ffill\"`\n",
    "# Criando data frame com valores nan\n",
    "np.random.seed(100)\n",
    "n = 1440 # Equivalente a coleta de pontos cada 60 segundos por 24 h\n",
    "r_n = 5\n",
    "data2 = np.random.randint(27, 33, (n, r_n)).astype(object)\n",
    "col2 = [f\"Reactor_{i}\" for i in range(1, r_n + 1)]\n",
    "row2 = [f\"Time_{i}\" for i in range(1, n + 1)]\n",
    "for r in range(data2.shape[0]):\n",
    "    for c in range(data2.shape[1]):\n",
    "        if np.random.random() < 0.25:\n",
    "            data2[r, c] = np.nan\n",
    "data_frame_fillna = pd.DataFrame(data2, row2, col2)\n",
    "data_frame_fillna.info()\n",
    "data_frame_fillna.describe()"
   ]
  },
  {
   "cell_type": "code",
   "execution_count": null,
   "metadata": {
    "ExecuteTime": {
     "end_time": "2020-09-30T11:32:54.821668Z",
     "start_time": "2020-09-30T11:32:54.794244Z"
    },
    "hidden": true
   },
   "outputs": [],
   "source": [
    "data_frame_fillna"
   ]
  },
  {
   "cell_type": "code",
   "execution_count": null,
   "metadata": {
    "ExecuteTime": {
     "end_time": "2020-09-30T11:32:57.157307Z",
     "start_time": "2020-09-30T11:32:57.149013Z"
    },
    "hidden": true
   },
   "outputs": [],
   "source": [
    "data_frame_fillna.fillna(method=\"ffill\", inplace=True)"
   ]
  },
  {
   "cell_type": "code",
   "execution_count": null,
   "metadata": {
    "ExecuteTime": {
     "end_time": "2020-09-30T11:32:58.842543Z",
     "start_time": "2020-09-30T11:32:58.807855Z"
    },
    "hidden": true
   },
   "outputs": [],
   "source": [
    "data_frame_fillna"
   ]
  },
  {
   "cell_type": "code",
   "execution_count": null,
   "metadata": {
    "ExecuteTime": {
     "end_time": "2020-09-30T11:33:00.963389Z",
     "start_time": "2020-09-30T11:33:00.912584Z"
    },
    "hidden": true,
    "scrolled": false
   },
   "outputs": [],
   "source": [
    "data_frame_fillna.info()\n",
    "data_frame_fillna.describe()"
   ]
  },
  {
   "cell_type": "markdown",
   "metadata": {
    "heading_collapsed": true
   },
   "source": [
    "### replace\n",
    "Uma das alternativas mais adequadas para trabalhar com valores ausentes ou inadequados é utilizando a função [`replace`](https://pandas.pydata.org/pandas-docs/stable/reference/api/pandas.DataFrame.replace.html). Esta função trabalha de forma semelhante a `dropna` e `filna` porém agora podemos indicar qual ou quais valores queremos substituir. A sintaxe para o funcionamento deste método é:\n",
    "\n",
    "```python\n",
    "DataFrame.replace(to_replace=None, value=None, inplace=False, limit=None, regex=False, method='pad')\n",
    "```"
   ]
  },
  {
   "cell_type": "code",
   "execution_count": null,
   "metadata": {
    "ExecuteTime": {
     "end_time": "2020-09-30T11:33:10.520892Z",
     "start_time": "2020-09-30T11:33:10.468955Z"
    },
    "hidden": true
   },
   "outputs": [],
   "source": [
    "# Vamos contiuar com data_frame_nan\n",
    "data_frame_nan"
   ]
  },
  {
   "cell_type": "code",
   "execution_count": null,
   "metadata": {
    "ExecuteTime": {
     "end_time": "2020-09-30T11:33:12.459536Z",
     "start_time": "2020-09-30T11:33:12.447842Z"
    },
    "hidden": true
   },
   "outputs": [],
   "source": [
    "# Observemos que temos varios valores Nan\n",
    "data_frame_nan.replace(to_replace=np.nan, value=10)"
   ]
  },
  {
   "cell_type": "code",
   "execution_count": null,
   "metadata": {
    "ExecuteTime": {
     "end_time": "2020-09-30T11:33:14.079247Z",
     "start_time": "2020-09-30T11:33:14.063966Z"
    },
    "hidden": true
   },
   "outputs": [],
   "source": [
    "# Podemos passar uma lista de valores para ser subtituido\n",
    "data_frame_nan.replace(to_replace=[np.nan, 8], value=10)"
   ]
  },
  {
   "cell_type": "code",
   "execution_count": null,
   "metadata": {
    "ExecuteTime": {
     "end_time": "2020-09-30T11:33:15.732971Z",
     "start_time": "2020-09-30T11:33:15.717231Z"
    },
    "hidden": true
   },
   "outputs": [],
   "source": [
    "# E também uma lista de valores para substuir\n",
    "data_frame_nan.replace(to_replace=[np.nan, 8], value=[100, 80])"
   ]
  },
  {
   "cell_type": "code",
   "execution_count": null,
   "metadata": {
    "ExecuteTime": {
     "end_time": "2020-09-30T11:33:18.488237Z",
     "start_time": "2020-09-30T11:33:18.429187Z"
    },
    "hidden": true
   },
   "outputs": [],
   "source": [
    "# Voltando ao exemplo do sensor de temperatura\n",
    "np.random.seed(100)\n",
    "n = 1440 # Equivalente a coleta de pontos cada 60 segundos por 24 h\n",
    "r_n = 3\n",
    "err = [10, 15, 20, 40, 35]\n",
    "data2 = np.random.uniform(27, 33, (n, r_n)).astype(object)\n",
    "col2 = [f\"Reactor_{i}\" for i in range(1, r_n + 1)]\n",
    "row2 = [f\"Time_{i}\" for i in range(1, n + 1)]\n",
    "for r in range(data2.shape[0]):\n",
    "    for c in range(data2.shape[1]):\n",
    "        if np.random.random() < 0.25:\n",
    "            data2[r, c] = np.nan\n",
    "        elif np.random.random() < 0.1:\n",
    "            data2[r, c] = np.random.choice(err)\n",
    "data_frame_replace = pd.DataFrame(data2, row2, col2)\n"
   ]
  },
  {
   "cell_type": "code",
   "execution_count": null,
   "metadata": {
    "ExecuteTime": {
     "end_time": "2020-09-30T11:33:20.859876Z",
     "start_time": "2020-09-30T11:33:20.839345Z"
    },
    "hidden": true,
    "scrolled": true
   },
   "outputs": [],
   "source": [
    "data_frame_replace"
   ]
  },
  {
   "cell_type": "code",
   "execution_count": null,
   "metadata": {
    "ExecuteTime": {
     "end_time": "2020-09-30T11:33:23.474138Z",
     "start_time": "2020-09-30T11:33:22.927536Z"
    },
    "hidden": true,
    "scrolled": false
   },
   "outputs": [],
   "source": [
    "import matplotlib.pyplot as plt\n",
    "%matplotlib nbagg\n",
    "for react in data_frame_replace.columns:\n",
    "    fig, ax = plt.subplots()\n",
    "    ax.plot(data_frame_replace[react].values,\n",
    "             ls=\"-\",\n",
    "             c='black',\n",
    "             marker=\"o\", \n",
    "             markersize=1.0,\n",
    "             markeredgecolor='blue',\n",
    "             lw=0.1)\n",
    "    ax.set_xlabel(\"Time\")\n",
    "    ax.set_ylabel(\"Temperature [°C]\")\n",
    "    ax.set_title(react)"
   ]
  },
  {
   "cell_type": "code",
   "execution_count": null,
   "metadata": {
    "ExecuteTime": {
     "end_time": "2020-09-30T11:33:32.166000Z",
     "start_time": "2020-09-30T11:33:32.096856Z"
    },
    "hidden": true
   },
   "outputs": [],
   "source": [
    "data_frame_replace.replace(to_replace=[40, 35, 20, 15, 10, np.nan], value=data_frame_replace.mean().mean(), inplace=True)"
   ]
  },
  {
   "cell_type": "code",
   "execution_count": null,
   "metadata": {
    "ExecuteTime": {
     "end_time": "2020-09-23T12:27:58.175489Z",
     "start_time": "2020-09-23T12:27:58.148180Z"
    },
    "hidden": true
   },
   "outputs": [],
   "source": []
  },
  {
   "cell_type": "markdown",
   "metadata": {
    "heading_collapsed": true
   },
   "source": [
    "## Groupby, aggregate e apply\n",
    "Quando trabalhamos com dados qualitativos nominais pode ser necessário realizar agrupamentos e aplicar funções neste grupo de dados para conseguir entender melhor nosso sistema. Panda oferece uma serie de funções que ajudam a realizar isso. Cabe destacar que o potencial de Pandas está no uso em conjunto destas funções e outras.\n",
    "\n",
    "---\n",
    "\n",
    "A função [`groupby`](https://pandas.pydata.org/pandas-docs/stable/reference/api/pandas.DataFrame.groupby.html) é umas das função **mais importantes** da biblioteca Pandas devido a que permite realizar o agrupamento de grande quantidade de dados e aplicar funções sobre esses valores agrupados de forma rápida. Para aplicar essa função utilizamos a seguinte sintaxe:\n",
    "```python\n",
    "DataFrame.groupby(by=None, axis=0, level=None, as_index=True, sort=True, group_keys=True, squeeze=<object object>, observed=False, dropna=True)\n",
    "```\n",
    "\n",
    "---\n",
    "\n",
    "A função [`aggregate`](https://pandas.pydata.org/pandas-docs/stable/reference/api/pandas.DataFrame.aggregate.html) permite aplicar uma (ou mais funções) sobre uma(s) coluna(s) ou fila(s).\n",
    "\n",
    "**Observações**:\n",
    "- Podem ser aplicadas funções `built-in function`, `lambda functions` ou funções criadas por nós;\n",
    "- Podem ser aplicadas diferentes quantidades e tipos de funções para diferentes colunas ou filas do mesmo DataFrame;\n",
    "- Ao momento de passar a funções não é necessário realizar a chamada da função.\n",
    "\n",
    "A sintaxe utilizada para aplicar esta função é:\n",
    "```python\n",
    "DataFrame.aggregate(func=None, axis=0, *args, **kwargs)\n",
    "```\n",
    "***Recomendo ler a [documentação da função aggregate](https://pandas.pydata.org/pandas-docs/stable/reference/api/pandas.DataFrame.aggregate.html) para conseguir entender melhor seu funcionamento***.\n",
    "\n",
    "---\n",
    "\n",
    "A função [`apply`](https://pandas.pydata.org/pandas-docs/stable/reference/api/pandas.DataFrame.apply.html) permite aplicar **UMA FUNÇÃO** sobre uma Series ou um DataFrame, especificando ou eixo onde dever ser aplicada a função.\n",
    "\n",
    "**Observações**:\n",
    "- Podem ser aplicadas funções `built-in function`,  `lambda functions` ou funções criadas por nós;\n",
    "- Ao momento de passar a funções não é necessário realizar a chamada da função.\n",
    "\n",
    "A sintaxe para utilizar esta função é:\n",
    "\n",
    "```python\n",
    "DataFrame.apply(func, axis=0, raw=False, result_type=None, args=(), **kwds)\n",
    "```\n",
    "***Recomendo ler a [documentação da função apply](https://pandas.pydata.org/pandas-docs/stable/reference/api/pandas.DataFrame.apply.html) para conseguir entender melhor seu funcionamento***.\n",
    "\n",
    "\n",
    "\n",
    "\n",
    "\n",
    "\n",
    "\n"
   ]
  },
  {
   "cell_type": "code",
   "execution_count": null,
   "metadata": {
    "ExecuteTime": {
     "end_time": "2020-09-30T11:33:43.004972Z",
     "start_time": "2020-09-30T11:33:42.911605Z"
    },
    "hidden": true
   },
   "outputs": [],
   "source": [
    "# Para entender o funcionamento da função groupby vamos a criar uma matrix de dados\n",
    "n = 1500\n",
    "np.random.seed(100)\n",
    "empresas = [f\"Empresa {np.random.randint(1, 51)}\" for _ in range(n)]\n",
    "valor_investido = [np.random.uniform(500, 3500) for _ in range(n)]\n",
    "retorno = [np.random.uniform(2000, 5000) for _ in range(n)]\n",
    "transferencias = [np.random.randint(50, 150) for _ in range(n)]\n",
    "matriz = np.c_[valor_investido, retorno, transferencias]\n",
    "colum = \"Valor investido ($R), Retorno ($R), Transferencias\".split(\", \")\n",
    "#-----------------------------------------------------------------------\n",
    "# Criação do DataFrame\n",
    "data_frame_groupby = pd.DataFrame(data=matriz, columns=colum )\n",
    "data_frame_groupby[\"Lucro ($)\"] = data_frame_groupby[\"Retorno ($R)\"] - data_frame_groupby[\"Valor investido ($R)\"]\n",
    "data_frame_groupby[\"Empresas\"] = empresas\n",
    "data_frame_groupby"
   ]
  },
  {
   "cell_type": "code",
   "execution_count": null,
   "metadata": {
    "ExecuteTime": {
     "end_time": "2020-09-30T11:33:46.446270Z",
     "start_time": "2020-09-30T11:33:46.435661Z"
    },
    "hidden": true
   },
   "outputs": [],
   "source": [
    "data_frame_groupby[\"Empresas\"].unique()"
   ]
  },
  {
   "cell_type": "markdown",
   "metadata": {
    "ExecuteTime": {
     "end_time": "2020-09-22T17:29:32.238627Z",
     "start_time": "2020-09-22T17:29:32.225624Z"
    },
    "hidden": true
   },
   "source": [
    "### Groupby"
   ]
  },
  {
   "cell_type": "code",
   "execution_count": null,
   "metadata": {
    "ExecuteTime": {
     "end_time": "2020-09-30T11:33:48.153816Z",
     "start_time": "2020-09-30T11:33:48.149868Z"
    },
    "hidden": true
   },
   "outputs": [],
   "source": [
    "# Para entender o conceito de Groupby, vamos agrupar os dados por empresas\n",
    "dfgroupby = data_frame_groupby.groupby(by=\"Empresas\")"
   ]
  },
  {
   "cell_type": "code",
   "execution_count": null,
   "metadata": {
    "ExecuteTime": {
     "end_time": "2020-09-30T11:33:49.763497Z",
     "start_time": "2020-09-30T11:33:49.754675Z"
    },
    "hidden": true
   },
   "outputs": [],
   "source": [
    "# Observemos que o retorno da função groupby é o endereço na memoria de um objeto\n",
    "dfgroupby"
   ]
  },
  {
   "cell_type": "code",
   "execution_count": null,
   "metadata": {
    "ExecuteTime": {
     "end_time": "2020-09-30T11:33:52.873953Z",
     "start_time": "2020-09-30T11:33:52.820905Z"
    },
    "hidden": true,
    "scrolled": true
   },
   "outputs": [],
   "source": [
    "# Para conseguir visualizar o DataFrame, devemos aplicar uma função sobre os valores\n",
    "dfgroupby.mean()"
   ]
  },
  {
   "cell_type": "code",
   "execution_count": null,
   "metadata": {
    "ExecuteTime": {
     "end_time": "2020-09-30T11:33:55.867233Z",
     "start_time": "2020-09-30T11:33:55.796399Z"
    },
    "hidden": true
   },
   "outputs": [],
   "source": [
    "# Podemos utilizar o groupby para realizar agrupamento por camadas\n",
    "agrupamento_empr_trans = data_frame_groupby.groupby([\"Empresas\", \"Transferencias\"]).mean()\n",
    "agrupamento_empr_trans"
   ]
  },
  {
   "cell_type": "code",
   "execution_count": null,
   "metadata": {
    "ExecuteTime": {
     "end_time": "2020-09-30T11:33:58.582424Z",
     "start_time": "2020-09-30T11:33:58.517632Z"
    },
    "hidden": true
   },
   "outputs": [],
   "source": [
    "agrupamento_trans_empr = data_frame_groupby.groupby([\"Transferencias\", \"Empresas\"]).mean()\n",
    "agrupamento_trans_empr"
   ]
  },
  {
   "cell_type": "code",
   "execution_count": null,
   "metadata": {
    "ExecuteTime": {
     "end_time": "2020-09-30T11:34:00.802643Z",
     "start_time": "2020-09-30T11:34:00.773934Z"
    },
    "hidden": true
   },
   "outputs": [],
   "source": [
    "# E se queremos realizar filtragem ao momento de aplicar o filtro?\n",
    "agrupamento_empr_trans[(agrupamento_empr_trans[\"Valor investido ($R)\"]>1800) & \n",
    "                        (agrupamento_empr_trans[\"Lucro ($)\"]>1500)]"
   ]
  },
  {
   "cell_type": "code",
   "execution_count": null,
   "metadata": {
    "ExecuteTime": {
     "end_time": "2020-09-30T11:34:02.409820Z",
     "start_time": "2020-09-30T11:34:02.392829Z"
    },
    "hidden": true
   },
   "outputs": [],
   "source": [
    "# Podemos utilizar algums metodos para potencializar o uso de groupby\n",
    "data_frame_groupby.groupby([\"Empresas\"]).get_group((\"Empresa 1\"))"
   ]
  },
  {
   "cell_type": "code",
   "execution_count": null,
   "metadata": {
    "ExecuteTime": {
     "end_time": "2020-09-30T11:34:05.219157Z",
     "start_time": "2020-09-30T11:34:05.176100Z"
    },
    "hidden": true
   },
   "outputs": [],
   "source": [
    "data_frame_groupby.groupby([\"Empresas\", \"Transferencias\"]).get_group((\"Empresa 1\", 52))"
   ]
  },
  {
   "cell_type": "markdown",
   "metadata": {
    "heading_collapsed": true,
    "hidden": true
   },
   "source": [
    "### aggregate"
   ]
  },
  {
   "cell_type": "code",
   "execution_count": null,
   "metadata": {
    "ExecuteTime": {
     "end_time": "2020-09-30T11:34:07.960660Z",
     "start_time": "2020-09-30T11:34:07.832792Z"
    },
    "hidden": true,
    "scrolled": false
   },
   "outputs": [],
   "source": [
    "# podemos aplicar aggreagate para um groupby de dois niveis\n",
    "\n",
    "# pd.set_option('display.max_rows', 10)\n",
    "dfgroupby.aggregate({\"Lucro ($)\": [min, max, np.mean, np.std],\n",
    "                     \"Retorno ($R)\": [min, max, np.mean, np.std],\n",
    "                     \"Transferencias\": [min, max]})"
   ]
  },
  {
   "cell_type": "code",
   "execution_count": null,
   "metadata": {
    "ExecuteTime": {
     "end_time": "2020-09-30T11:34:10.737072Z",
     "start_time": "2020-09-30T11:34:10.678012Z"
    },
    "hidden": true
   },
   "outputs": [],
   "source": [
    "agrupamento_empr_trans.aggregate({\"Lucro ($)\": [min, max, np.mean, np.std],\n",
    "                     \"Retorno ($R)\": [min, max, np.mean, np.std]})"
   ]
  },
  {
   "cell_type": "markdown",
   "metadata": {
    "heading_collapsed": true,
    "hidden": true
   },
   "source": [
    "### apply"
   ]
  },
  {
   "cell_type": "code",
   "execution_count": null,
   "metadata": {
    "ExecuteTime": {
     "end_time": "2020-09-30T11:34:12.294201Z",
     "start_time": "2020-09-30T11:34:12.265217Z"
    },
    "hidden": true
   },
   "outputs": [],
   "source": [
    "# Exemplo com dados de lingaugems de programação\n",
    "pd.set_option('display.max_rows', 80)\n",
    "df_ling = pd.read_csv(\"./Dados/programming_languages.csv\")\n",
    "df_ling"
   ]
  },
  {
   "cell_type": "code",
   "execution_count": null,
   "metadata": {
    "ExecuteTime": {
     "end_time": "2020-09-30T11:34:15.792410Z",
     "start_time": "2020-09-30T11:34:15.782383Z"
    },
    "hidden": true
   },
   "outputs": [],
   "source": [
    "df_lig_grop = df_ling.groupby(by=\"year\")\n",
    "df_lig_grop[\"language\"]"
   ]
  },
  {
   "cell_type": "code",
   "execution_count": null,
   "metadata": {
    "ExecuteTime": {
     "end_time": "2020-09-30T11:34:17.771961Z",
     "start_time": "2020-09-30T11:34:17.760585Z"
    },
    "hidden": true
   },
   "outputs": [],
   "source": [
    "# Obtendo um dataframe com as linguagens criadas em cada\n",
    "pd.set_option('display.max_rows', 50)\n",
    "df_lig_grop[\"language\"].apply(','.join)"
   ]
  },
  {
   "cell_type": "markdown",
   "metadata": {
    "hidden": true
   },
   "source": []
  },
  {
   "cell_type": "code",
   "execution_count": null,
   "metadata": {
    "ExecuteTime": {
     "end_time": "2020-09-30T11:34:20.799670Z",
     "start_time": "2020-09-30T11:34:20.780525Z"
    },
    "hidden": true
   },
   "outputs": [],
   "source": [
    "# Obtendo um dataframe com as linguagens criadas em cada\n",
    "df_lig_grop[\"language\"].apply(len).values\n",
    "df_lig_grop[\"language\"].apply(len).index.values"
   ]
  },
  {
   "cell_type": "code",
   "execution_count": null,
   "metadata": {
    "ExecuteTime": {
     "end_time": "2020-09-30T11:34:22.632045Z",
     "start_time": "2020-09-30T11:34:22.540089Z"
    },
    "hidden": true
   },
   "outputs": [],
   "source": [
    "import matplotlib.pyplot as plt\n",
    "plt.plot(df_lig_grop[\"language\"].apply(len).index.values,\n",
    "         df_lig_grop[\"language\"].apply(len).values,\n",
    "        ls=\"\",\n",
    "        marker=\"s\")"
   ]
  },
  {
   "cell_type": "markdown",
   "metadata": {},
   "source": [
    "## Juntando DataFrames\n",
    "Em algumas ocasiones pode ser necessário criar um DataFrame utilizando dois ou mais DataFrame já existentes. Panda facilita realizar estas operações utilizando as funções `concat`, `merge` e `join`."
   ]
  },
  {
   "cell_type": "markdown",
   "metadata": {
    "heading_collapsed": true
   },
   "source": [
    "### Concat\n",
    "A função [`concat`](https://pandas.pydata.org/pandas-docs/stable/reference/api/pandas.concat.html) permite realizar a união de dois DataFrame. A união pode ser feita adicionando o DataFrame como uma série de colunas ou filas novas. Para aplicar está funções se aplica a seguinte sintaxe:\n",
    "\n",
    "```python\n",
    "pandas.concat(objs: Union[Iterable[FrameOrSeries], Mapping[Label, FrameOrSeries]], axis='0', join: str = \"'outer'\", ignore_index: bool = 'False', keys='None', levels='None', names='None', verify_integrity: bool = 'False', sort: bool = 'False', copy: bool = 'True')\n",
    "```\n",
    "Cabe destacar que esse método é próprio das `series` e dos `DataFrame`"
   ]
  },
  {
   "cell_type": "code",
   "execution_count": 3,
   "metadata": {
    "ExecuteTime": {
     "end_time": "2020-09-30T12:12:20.391214Z",
     "start_time": "2020-09-30T12:12:20.345844Z"
    },
    "hidden": true
   },
   "outputs": [],
   "source": [
    "data = np.arange(1, 10).reshape((3, 3))\n",
    "columnas = [f\"Col {i}\" for i in range(1, 4)]\n",
    "data_frame_1 = pd.DataFrame(data=data, columns=columnas)\n",
    "data_frame_2 = pd.DataFrame(data=data, columns=columnas)*10\n",
    "data_frame_3 = pd.DataFrame(data=data, columns=columnas)*100"
   ]
  },
  {
   "cell_type": "code",
   "execution_count": 4,
   "metadata": {
    "ExecuteTime": {
     "end_time": "2020-09-30T12:12:22.821354Z",
     "start_time": "2020-09-30T12:12:22.811710Z"
    },
    "hidden": true
   },
   "outputs": [
    {
     "data": {
      "text/html": [
       "<div>\n",
       "<style scoped>\n",
       "    .dataframe tbody tr th:only-of-type {\n",
       "        vertical-align: middle;\n",
       "    }\n",
       "\n",
       "    .dataframe tbody tr th {\n",
       "        vertical-align: top;\n",
       "    }\n",
       "\n",
       "    .dataframe thead th {\n",
       "        text-align: right;\n",
       "    }\n",
       "</style>\n",
       "<table border=\"1\" class=\"dataframe\">\n",
       "  <thead>\n",
       "    <tr style=\"text-align: right;\">\n",
       "      <th></th>\n",
       "      <th>Col 1</th>\n",
       "      <th>Col 2</th>\n",
       "      <th>Col 3</th>\n",
       "    </tr>\n",
       "  </thead>\n",
       "  <tbody>\n",
       "    <tr>\n",
       "      <th>0</th>\n",
       "      <td>1</td>\n",
       "      <td>2</td>\n",
       "      <td>3</td>\n",
       "    </tr>\n",
       "    <tr>\n",
       "      <th>1</th>\n",
       "      <td>4</td>\n",
       "      <td>5</td>\n",
       "      <td>6</td>\n",
       "    </tr>\n",
       "    <tr>\n",
       "      <th>2</th>\n",
       "      <td>7</td>\n",
       "      <td>8</td>\n",
       "      <td>9</td>\n",
       "    </tr>\n",
       "  </tbody>\n",
       "</table>\n",
       "</div>"
      ],
      "text/plain": [
       "   Col 1  Col 2  Col 3\n",
       "0      1      2      3\n",
       "1      4      5      6\n",
       "2      7      8      9"
      ]
     },
     "execution_count": 4,
     "metadata": {},
     "output_type": "execute_result"
    }
   ],
   "source": [
    "data_frame_1"
   ]
  },
  {
   "cell_type": "code",
   "execution_count": 23,
   "metadata": {
    "ExecuteTime": {
     "end_time": "2020-09-30T12:16:55.670328Z",
     "start_time": "2020-09-30T12:16:55.655965Z"
    },
    "hidden": true
   },
   "outputs": [
    {
     "data": {
      "text/html": [
       "<div>\n",
       "<style scoped>\n",
       "    .dataframe tbody tr th:only-of-type {\n",
       "        vertical-align: middle;\n",
       "    }\n",
       "\n",
       "    .dataframe tbody tr th {\n",
       "        vertical-align: top;\n",
       "    }\n",
       "\n",
       "    .dataframe thead th {\n",
       "        text-align: right;\n",
       "    }\n",
       "</style>\n",
       "<table border=\"1\" class=\"dataframe\">\n",
       "  <thead>\n",
       "    <tr style=\"text-align: right;\">\n",
       "      <th></th>\n",
       "      <th>Col 1</th>\n",
       "      <th>Col 2</th>\n",
       "      <th>Col 3</th>\n",
       "    </tr>\n",
       "  </thead>\n",
       "  <tbody>\n",
       "    <tr>\n",
       "      <th>3</th>\n",
       "      <td>10</td>\n",
       "      <td>20</td>\n",
       "      <td>30</td>\n",
       "    </tr>\n",
       "    <tr>\n",
       "      <th>4</th>\n",
       "      <td>40</td>\n",
       "      <td>50</td>\n",
       "      <td>60</td>\n",
       "    </tr>\n",
       "    <tr>\n",
       "      <th>5</th>\n",
       "      <td>70</td>\n",
       "      <td>80</td>\n",
       "      <td>90</td>\n",
       "    </tr>\n",
       "  </tbody>\n",
       "</table>\n",
       "</div>"
      ],
      "text/plain": [
       "   Col 1  Col 2  Col 3\n",
       "3     10     20     30\n",
       "4     40     50     60\n",
       "5     70     80     90"
      ]
     },
     "execution_count": 23,
     "metadata": {},
     "output_type": "execute_result"
    }
   ],
   "source": [
    "data_frame_2"
   ]
  },
  {
   "cell_type": "code",
   "execution_count": 22,
   "metadata": {
    "ExecuteTime": {
     "end_time": "2020-09-30T12:16:52.414903Z",
     "start_time": "2020-09-30T12:16:52.396911Z"
    },
    "hidden": true
   },
   "outputs": [
    {
     "data": {
      "text/html": [
       "<div>\n",
       "<style scoped>\n",
       "    .dataframe tbody tr th:only-of-type {\n",
       "        vertical-align: middle;\n",
       "    }\n",
       "\n",
       "    .dataframe tbody tr th {\n",
       "        vertical-align: top;\n",
       "    }\n",
       "\n",
       "    .dataframe thead th {\n",
       "        text-align: right;\n",
       "    }\n",
       "</style>\n",
       "<table border=\"1\" class=\"dataframe\">\n",
       "  <thead>\n",
       "    <tr style=\"text-align: right;\">\n",
       "      <th></th>\n",
       "      <th>Col 1</th>\n",
       "      <th>Col 2</th>\n",
       "      <th>Col 3</th>\n",
       "    </tr>\n",
       "  </thead>\n",
       "  <tbody>\n",
       "    <tr>\n",
       "      <th>6</th>\n",
       "      <td>100</td>\n",
       "      <td>200</td>\n",
       "      <td>300</td>\n",
       "    </tr>\n",
       "    <tr>\n",
       "      <th>7</th>\n",
       "      <td>400</td>\n",
       "      <td>500</td>\n",
       "      <td>600</td>\n",
       "    </tr>\n",
       "    <tr>\n",
       "      <th>8</th>\n",
       "      <td>700</td>\n",
       "      <td>800</td>\n",
       "      <td>900</td>\n",
       "    </tr>\n",
       "  </tbody>\n",
       "</table>\n",
       "</div>"
      ],
      "text/plain": [
       "   Col 1  Col 2  Col 3\n",
       "6    100    200    300\n",
       "7    400    500    600\n",
       "8    700    800    900"
      ]
     },
     "execution_count": 22,
     "metadata": {},
     "output_type": "execute_result"
    }
   ],
   "source": [
    "data_frame_3"
   ]
  },
  {
   "cell_type": "code",
   "execution_count": 16,
   "metadata": {
    "ExecuteTime": {
     "end_time": "2020-09-30T12:15:16.093962Z",
     "start_time": "2020-09-30T12:15:16.079251Z"
    },
    "hidden": true
   },
   "outputs": [
    {
     "data": {
      "text/html": [
       "<div>\n",
       "<style scoped>\n",
       "    .dataframe tbody tr th:only-of-type {\n",
       "        vertical-align: middle;\n",
       "    }\n",
       "\n",
       "    .dataframe tbody tr th {\n",
       "        vertical-align: top;\n",
       "    }\n",
       "\n",
       "    .dataframe thead th {\n",
       "        text-align: right;\n",
       "    }\n",
       "</style>\n",
       "<table border=\"1\" class=\"dataframe\">\n",
       "  <thead>\n",
       "    <tr style=\"text-align: right;\">\n",
       "      <th></th>\n",
       "      <th>Col 1</th>\n",
       "      <th>Col 2</th>\n",
       "      <th>Col 3</th>\n",
       "    </tr>\n",
       "  </thead>\n",
       "  <tbody>\n",
       "    <tr>\n",
       "      <th>0</th>\n",
       "      <td>10</td>\n",
       "      <td>20</td>\n",
       "      <td>30</td>\n",
       "    </tr>\n",
       "    <tr>\n",
       "      <th>1</th>\n",
       "      <td>40</td>\n",
       "      <td>50</td>\n",
       "      <td>60</td>\n",
       "    </tr>\n",
       "    <tr>\n",
       "      <th>2</th>\n",
       "      <td>70</td>\n",
       "      <td>80</td>\n",
       "      <td>90</td>\n",
       "    </tr>\n",
       "    <tr>\n",
       "      <th>0</th>\n",
       "      <td>100</td>\n",
       "      <td>200</td>\n",
       "      <td>300</td>\n",
       "    </tr>\n",
       "    <tr>\n",
       "      <th>1</th>\n",
       "      <td>400</td>\n",
       "      <td>500</td>\n",
       "      <td>600</td>\n",
       "    </tr>\n",
       "    <tr>\n",
       "      <th>2</th>\n",
       "      <td>700</td>\n",
       "      <td>800</td>\n",
       "      <td>900</td>\n",
       "    </tr>\n",
       "    <tr>\n",
       "      <th>0</th>\n",
       "      <td>1</td>\n",
       "      <td>2</td>\n",
       "      <td>3</td>\n",
       "    </tr>\n",
       "    <tr>\n",
       "      <th>1</th>\n",
       "      <td>4</td>\n",
       "      <td>5</td>\n",
       "      <td>6</td>\n",
       "    </tr>\n",
       "    <tr>\n",
       "      <th>2</th>\n",
       "      <td>7</td>\n",
       "      <td>8</td>\n",
       "      <td>9</td>\n",
       "    </tr>\n",
       "  </tbody>\n",
       "</table>\n",
       "</div>"
      ],
      "text/plain": [
       "   Col 1  Col 2  Col 3\n",
       "0     10     20     30\n",
       "1     40     50     60\n",
       "2     70     80     90\n",
       "0    100    200    300\n",
       "1    400    500    600\n",
       "2    700    800    900\n",
       "0      1      2      3\n",
       "1      4      5      6\n",
       "2      7      8      9"
      ]
     },
     "execution_count": 16,
     "metadata": {},
     "output_type": "execute_result"
    }
   ],
   "source": [
    "# Passando os DataFrame que queremos juntar\n",
    "pd.concat([data_frame_2, data_frame_3, data_frame_1])"
   ]
  },
  {
   "cell_type": "code",
   "execution_count": 17,
   "metadata": {
    "ExecuteTime": {
     "end_time": "2020-09-30T12:15:19.082824Z",
     "start_time": "2020-09-30T12:15:19.047098Z"
    },
    "hidden": true
   },
   "outputs": [
    {
     "data": {
      "text/html": [
       "<div>\n",
       "<style scoped>\n",
       "    .dataframe tbody tr th:only-of-type {\n",
       "        vertical-align: middle;\n",
       "    }\n",
       "\n",
       "    .dataframe tbody tr th {\n",
       "        vertical-align: top;\n",
       "    }\n",
       "\n",
       "    .dataframe thead th {\n",
       "        text-align: right;\n",
       "    }\n",
       "</style>\n",
       "<table border=\"1\" class=\"dataframe\">\n",
       "  <thead>\n",
       "    <tr style=\"text-align: right;\">\n",
       "      <th></th>\n",
       "      <th>Col 1</th>\n",
       "      <th>Col 2</th>\n",
       "      <th>Col 3</th>\n",
       "    </tr>\n",
       "  </thead>\n",
       "  <tbody>\n",
       "    <tr>\n",
       "      <th>0</th>\n",
       "      <td>1</td>\n",
       "      <td>2</td>\n",
       "      <td>3</td>\n",
       "    </tr>\n",
       "    <tr>\n",
       "      <th>1</th>\n",
       "      <td>4</td>\n",
       "      <td>5</td>\n",
       "      <td>6</td>\n",
       "    </tr>\n",
       "    <tr>\n",
       "      <th>2</th>\n",
       "      <td>7</td>\n",
       "      <td>8</td>\n",
       "      <td>9</td>\n",
       "    </tr>\n",
       "    <tr>\n",
       "      <th>3</th>\n",
       "      <td>10</td>\n",
       "      <td>20</td>\n",
       "      <td>30</td>\n",
       "    </tr>\n",
       "    <tr>\n",
       "      <th>4</th>\n",
       "      <td>40</td>\n",
       "      <td>50</td>\n",
       "      <td>60</td>\n",
       "    </tr>\n",
       "    <tr>\n",
       "      <th>5</th>\n",
       "      <td>70</td>\n",
       "      <td>80</td>\n",
       "      <td>90</td>\n",
       "    </tr>\n",
       "    <tr>\n",
       "      <th>6</th>\n",
       "      <td>100</td>\n",
       "      <td>200</td>\n",
       "      <td>300</td>\n",
       "    </tr>\n",
       "    <tr>\n",
       "      <th>7</th>\n",
       "      <td>400</td>\n",
       "      <td>500</td>\n",
       "      <td>600</td>\n",
       "    </tr>\n",
       "    <tr>\n",
       "      <th>8</th>\n",
       "      <td>700</td>\n",
       "      <td>800</td>\n",
       "      <td>900</td>\n",
       "    </tr>\n",
       "  </tbody>\n",
       "</table>\n",
       "</div>"
      ],
      "text/plain": [
       "   Col 1  Col 2  Col 3\n",
       "0      1      2      3\n",
       "1      4      5      6\n",
       "2      7      8      9\n",
       "3     10     20     30\n",
       "4     40     50     60\n",
       "5     70     80     90\n",
       "6    100    200    300\n",
       "7    400    500    600\n",
       "8    700    800    900"
      ]
     },
     "execution_count": 17,
     "metadata": {},
     "output_type": "execute_result"
    }
   ],
   "source": [
    "# observemos que os índices foram mantidos para os DataFrame original\n",
    "# Se queremos “reiniciar” os índices passamos o argumento\n",
    "pd.concat([data_frame_1, data_frame_2, data_frame_3], ignore_index='False')"
   ]
  },
  {
   "cell_type": "code",
   "execution_count": 18,
   "metadata": {
    "ExecuteTime": {
     "end_time": "2020-09-30T12:15:35.849752Z",
     "start_time": "2020-09-30T12:15:35.835833Z"
    },
    "hidden": true
   },
   "outputs": [
    {
     "data": {
      "text/html": [
       "<div>\n",
       "<style scoped>\n",
       "    .dataframe tbody tr th:only-of-type {\n",
       "        vertical-align: middle;\n",
       "    }\n",
       "\n",
       "    .dataframe tbody tr th {\n",
       "        vertical-align: top;\n",
       "    }\n",
       "\n",
       "    .dataframe thead th {\n",
       "        text-align: right;\n",
       "    }\n",
       "</style>\n",
       "<table border=\"1\" class=\"dataframe\">\n",
       "  <thead>\n",
       "    <tr style=\"text-align: right;\">\n",
       "      <th></th>\n",
       "      <th>Col 1</th>\n",
       "      <th>Col 2</th>\n",
       "      <th>Col 3</th>\n",
       "    </tr>\n",
       "  </thead>\n",
       "  <tbody>\n",
       "    <tr>\n",
       "      <th>0</th>\n",
       "      <td>1</td>\n",
       "      <td>2</td>\n",
       "      <td>3</td>\n",
       "    </tr>\n",
       "    <tr>\n",
       "      <th>1</th>\n",
       "      <td>4</td>\n",
       "      <td>5</td>\n",
       "      <td>6</td>\n",
       "    </tr>\n",
       "    <tr>\n",
       "      <th>2</th>\n",
       "      <td>7</td>\n",
       "      <td>8</td>\n",
       "      <td>9</td>\n",
       "    </tr>\n",
       "    <tr>\n",
       "      <th>0</th>\n",
       "      <td>10</td>\n",
       "      <td>20</td>\n",
       "      <td>30</td>\n",
       "    </tr>\n",
       "    <tr>\n",
       "      <th>1</th>\n",
       "      <td>40</td>\n",
       "      <td>50</td>\n",
       "      <td>60</td>\n",
       "    </tr>\n",
       "    <tr>\n",
       "      <th>2</th>\n",
       "      <td>70</td>\n",
       "      <td>80</td>\n",
       "      <td>90</td>\n",
       "    </tr>\n",
       "    <tr>\n",
       "      <th>0</th>\n",
       "      <td>100</td>\n",
       "      <td>200</td>\n",
       "      <td>300</td>\n",
       "    </tr>\n",
       "    <tr>\n",
       "      <th>1</th>\n",
       "      <td>400</td>\n",
       "      <td>500</td>\n",
       "      <td>600</td>\n",
       "    </tr>\n",
       "    <tr>\n",
       "      <th>2</th>\n",
       "      <td>700</td>\n",
       "      <td>800</td>\n",
       "      <td>900</td>\n",
       "    </tr>\n",
       "  </tbody>\n",
       "</table>\n",
       "</div>"
      ],
      "text/plain": [
       "   Col 1  Col 2  Col 3\n",
       "0      1      2      3\n",
       "1      4      5      6\n",
       "2      7      8      9\n",
       "0     10     20     30\n",
       "1     40     50     60\n",
       "2     70     80     90\n",
       "0    100    200    300\n",
       "1    400    500    600\n",
       "2    700    800    900"
      ]
     },
     "execution_count": 18,
     "metadata": {},
     "output_type": "execute_result"
    }
   ],
   "source": [
    "# Como vimos na reunião passada podemos passar o argumento axis para definir sobre qual eixo queremos realizar a operação\n",
    "pd.concat([data_frame_1, data_frame_2, data_frame_3], axis=0)"
   ]
  },
  {
   "cell_type": "code",
   "execution_count": 19,
   "metadata": {
    "ExecuteTime": {
     "end_time": "2020-09-30T12:16:08.933940Z",
     "start_time": "2020-09-30T12:16:08.910748Z"
    },
    "hidden": true
   },
   "outputs": [
    {
     "data": {
      "text/html": [
       "<div>\n",
       "<style scoped>\n",
       "    .dataframe tbody tr th:only-of-type {\n",
       "        vertical-align: middle;\n",
       "    }\n",
       "\n",
       "    .dataframe tbody tr th {\n",
       "        vertical-align: top;\n",
       "    }\n",
       "\n",
       "    .dataframe thead th {\n",
       "        text-align: right;\n",
       "    }\n",
       "</style>\n",
       "<table border=\"1\" class=\"dataframe\">\n",
       "  <thead>\n",
       "    <tr style=\"text-align: right;\">\n",
       "      <th></th>\n",
       "      <th>Col 1</th>\n",
       "      <th>Col 2</th>\n",
       "      <th>Col 3</th>\n",
       "      <th>Col 1</th>\n",
       "      <th>Col 2</th>\n",
       "      <th>Col 3</th>\n",
       "      <th>Col 1</th>\n",
       "      <th>Col 2</th>\n",
       "      <th>Col 3</th>\n",
       "    </tr>\n",
       "  </thead>\n",
       "  <tbody>\n",
       "    <tr>\n",
       "      <th>0</th>\n",
       "      <td>1</td>\n",
       "      <td>2</td>\n",
       "      <td>3</td>\n",
       "      <td>10</td>\n",
       "      <td>20</td>\n",
       "      <td>30</td>\n",
       "      <td>100</td>\n",
       "      <td>200</td>\n",
       "      <td>300</td>\n",
       "    </tr>\n",
       "    <tr>\n",
       "      <th>1</th>\n",
       "      <td>4</td>\n",
       "      <td>5</td>\n",
       "      <td>6</td>\n",
       "      <td>40</td>\n",
       "      <td>50</td>\n",
       "      <td>60</td>\n",
       "      <td>400</td>\n",
       "      <td>500</td>\n",
       "      <td>600</td>\n",
       "    </tr>\n",
       "    <tr>\n",
       "      <th>2</th>\n",
       "      <td>7</td>\n",
       "      <td>8</td>\n",
       "      <td>9</td>\n",
       "      <td>70</td>\n",
       "      <td>80</td>\n",
       "      <td>90</td>\n",
       "      <td>700</td>\n",
       "      <td>800</td>\n",
       "      <td>900</td>\n",
       "    </tr>\n",
       "  </tbody>\n",
       "</table>\n",
       "</div>"
      ],
      "text/plain": [
       "   Col 1  Col 2  Col 3  Col 1  Col 2  Col 3  Col 1  Col 2  Col 3\n",
       "0      1      2      3     10     20     30    100    200    300\n",
       "1      4      5      6     40     50     60    400    500    600\n",
       "2      7      8      9     70     80     90    700    800    900"
      ]
     },
     "execution_count": 19,
     "metadata": {},
     "output_type": "execute_result"
    }
   ],
   "source": [
    "pd.concat([data_frame_1, data_frame_2, data_frame_3], axis=1)"
   ]
  },
  {
   "cell_type": "code",
   "execution_count": 24,
   "metadata": {
    "ExecuteTime": {
     "end_time": "2020-09-30T12:17:13.142776Z",
     "start_time": "2020-09-30T12:17:13.088384Z"
    },
    "hidden": true
   },
   "outputs": [
    {
     "data": {
      "text/html": [
       "<div>\n",
       "<style scoped>\n",
       "    .dataframe tbody tr th:only-of-type {\n",
       "        vertical-align: middle;\n",
       "    }\n",
       "\n",
       "    .dataframe tbody tr th {\n",
       "        vertical-align: top;\n",
       "    }\n",
       "\n",
       "    .dataframe thead th {\n",
       "        text-align: right;\n",
       "    }\n",
       "</style>\n",
       "<table border=\"1\" class=\"dataframe\">\n",
       "  <thead>\n",
       "    <tr style=\"text-align: right;\">\n",
       "      <th></th>\n",
       "      <th>Col 1</th>\n",
       "      <th>Col 2</th>\n",
       "      <th>Col 3</th>\n",
       "      <th>Col 1</th>\n",
       "      <th>Col 2</th>\n",
       "      <th>Col 3</th>\n",
       "      <th>Col 1</th>\n",
       "      <th>Col 2</th>\n",
       "      <th>Col 3</th>\n",
       "    </tr>\n",
       "  </thead>\n",
       "  <tbody>\n",
       "    <tr>\n",
       "      <th>0</th>\n",
       "      <td>1.0</td>\n",
       "      <td>2.0</td>\n",
       "      <td>3.0</td>\n",
       "      <td>NaN</td>\n",
       "      <td>NaN</td>\n",
       "      <td>NaN</td>\n",
       "      <td>NaN</td>\n",
       "      <td>NaN</td>\n",
       "      <td>NaN</td>\n",
       "    </tr>\n",
       "    <tr>\n",
       "      <th>1</th>\n",
       "      <td>4.0</td>\n",
       "      <td>5.0</td>\n",
       "      <td>6.0</td>\n",
       "      <td>NaN</td>\n",
       "      <td>NaN</td>\n",
       "      <td>NaN</td>\n",
       "      <td>NaN</td>\n",
       "      <td>NaN</td>\n",
       "      <td>NaN</td>\n",
       "    </tr>\n",
       "    <tr>\n",
       "      <th>2</th>\n",
       "      <td>7.0</td>\n",
       "      <td>8.0</td>\n",
       "      <td>9.0</td>\n",
       "      <td>NaN</td>\n",
       "      <td>NaN</td>\n",
       "      <td>NaN</td>\n",
       "      <td>NaN</td>\n",
       "      <td>NaN</td>\n",
       "      <td>NaN</td>\n",
       "    </tr>\n",
       "    <tr>\n",
       "      <th>3</th>\n",
       "      <td>NaN</td>\n",
       "      <td>NaN</td>\n",
       "      <td>NaN</td>\n",
       "      <td>10.0</td>\n",
       "      <td>20.0</td>\n",
       "      <td>30.0</td>\n",
       "      <td>NaN</td>\n",
       "      <td>NaN</td>\n",
       "      <td>NaN</td>\n",
       "    </tr>\n",
       "    <tr>\n",
       "      <th>4</th>\n",
       "      <td>NaN</td>\n",
       "      <td>NaN</td>\n",
       "      <td>NaN</td>\n",
       "      <td>40.0</td>\n",
       "      <td>50.0</td>\n",
       "      <td>60.0</td>\n",
       "      <td>NaN</td>\n",
       "      <td>NaN</td>\n",
       "      <td>NaN</td>\n",
       "    </tr>\n",
       "    <tr>\n",
       "      <th>5</th>\n",
       "      <td>NaN</td>\n",
       "      <td>NaN</td>\n",
       "      <td>NaN</td>\n",
       "      <td>70.0</td>\n",
       "      <td>80.0</td>\n",
       "      <td>90.0</td>\n",
       "      <td>NaN</td>\n",
       "      <td>NaN</td>\n",
       "      <td>NaN</td>\n",
       "    </tr>\n",
       "    <tr>\n",
       "      <th>6</th>\n",
       "      <td>NaN</td>\n",
       "      <td>NaN</td>\n",
       "      <td>NaN</td>\n",
       "      <td>NaN</td>\n",
       "      <td>NaN</td>\n",
       "      <td>NaN</td>\n",
       "      <td>100.0</td>\n",
       "      <td>200.0</td>\n",
       "      <td>300.0</td>\n",
       "    </tr>\n",
       "    <tr>\n",
       "      <th>7</th>\n",
       "      <td>NaN</td>\n",
       "      <td>NaN</td>\n",
       "      <td>NaN</td>\n",
       "      <td>NaN</td>\n",
       "      <td>NaN</td>\n",
       "      <td>NaN</td>\n",
       "      <td>400.0</td>\n",
       "      <td>500.0</td>\n",
       "      <td>600.0</td>\n",
       "    </tr>\n",
       "    <tr>\n",
       "      <th>8</th>\n",
       "      <td>NaN</td>\n",
       "      <td>NaN</td>\n",
       "      <td>NaN</td>\n",
       "      <td>NaN</td>\n",
       "      <td>NaN</td>\n",
       "      <td>NaN</td>\n",
       "      <td>700.0</td>\n",
       "      <td>800.0</td>\n",
       "      <td>900.0</td>\n",
       "    </tr>\n",
       "  </tbody>\n",
       "</table>\n",
       "</div>"
      ],
      "text/plain": [
       "   Col 1  Col 2  Col 3  Col 1  Col 2  Col 3  Col 1  Col 2  Col 3\n",
       "0    1.0    2.0    3.0    NaN    NaN    NaN    NaN    NaN    NaN\n",
       "1    4.0    5.0    6.0    NaN    NaN    NaN    NaN    NaN    NaN\n",
       "2    7.0    8.0    9.0    NaN    NaN    NaN    NaN    NaN    NaN\n",
       "3    NaN    NaN    NaN   10.0   20.0   30.0    NaN    NaN    NaN\n",
       "4    NaN    NaN    NaN   40.0   50.0   60.0    NaN    NaN    NaN\n",
       "5    NaN    NaN    NaN   70.0   80.0   90.0    NaN    NaN    NaN\n",
       "6    NaN    NaN    NaN    NaN    NaN    NaN  100.0  200.0  300.0\n",
       "7    NaN    NaN    NaN    NaN    NaN    NaN  400.0  500.0  600.0\n",
       "8    NaN    NaN    NaN    NaN    NaN    NaN  700.0  800.0  900.0"
      ]
     },
     "execution_count": 24,
     "metadata": {},
     "output_type": "execute_result"
    }
   ],
   "source": [
    "# O que acontece quando os index dos DataFrame são diferentes?\n",
    "data_frame_2.index = pd.RangeIndex(start=3, stop=6, step=1)\n",
    "data_frame_3.index = pd.RangeIndex(start=6, stop=9, step=1)\n",
    "pd.concat([data_frame_1, data_frame_2, data_frame_3], axis=1)"
   ]
  },
  {
   "cell_type": "markdown",
   "metadata": {},
   "source": [
    "### merge\n",
    "Pode ser necessário realizar a união de duas tabelas que compartem os elementos de uma coluna, neste caso a função `concat` não é a mais indicada. Pandas possui o método [`marge`](https://pandas.pydata.org/pandas-docs/stable/reference/api/pandas.DataFrame.merge.html) que realiza a junção de duas tabelas mesclando os elementos que compartilham a mesma coluna. A sintaxe para ralizar essa operação é:\n",
    "```python\n",
    "DataFrame.merge(right, how='inner', on=None, left_on=None, right_on=None, left_index=False, right_index=False, sort=False, suffixes='_x', '_y', copy=True, indicator=False, validate=None)\n",
    "```"
   ]
  },
  {
   "cell_type": "code",
   "execution_count": 25,
   "metadata": {
    "ExecuteTime": {
     "end_time": "2020-09-30T12:18:58.661406Z",
     "start_time": "2020-09-30T12:18:58.644673Z"
    }
   },
   "outputs": [],
   "source": [
    "# Modificando os DataFrame\n",
    "data_frame_1[\"coluna em comum\"] = \"A B C\".split(\" \")\n",
    "data_frame_2[\"coluna em comum\"] = \"A C B\".split(\" \")"
   ]
  },
  {
   "cell_type": "code",
   "execution_count": 26,
   "metadata": {
    "ExecuteTime": {
     "end_time": "2020-09-30T12:19:00.882989Z",
     "start_time": "2020-09-30T12:19:00.867057Z"
    }
   },
   "outputs": [
    {
     "data": {
      "text/html": [
       "<div>\n",
       "<style scoped>\n",
       "    .dataframe tbody tr th:only-of-type {\n",
       "        vertical-align: middle;\n",
       "    }\n",
       "\n",
       "    .dataframe tbody tr th {\n",
       "        vertical-align: top;\n",
       "    }\n",
       "\n",
       "    .dataframe thead th {\n",
       "        text-align: right;\n",
       "    }\n",
       "</style>\n",
       "<table border=\"1\" class=\"dataframe\">\n",
       "  <thead>\n",
       "    <tr style=\"text-align: right;\">\n",
       "      <th></th>\n",
       "      <th>Col 1</th>\n",
       "      <th>Col 2</th>\n",
       "      <th>Col 3</th>\n",
       "      <th>coluna em comum</th>\n",
       "    </tr>\n",
       "  </thead>\n",
       "  <tbody>\n",
       "    <tr>\n",
       "      <th>0</th>\n",
       "      <td>1</td>\n",
       "      <td>2</td>\n",
       "      <td>3</td>\n",
       "      <td>A</td>\n",
       "    </tr>\n",
       "    <tr>\n",
       "      <th>1</th>\n",
       "      <td>4</td>\n",
       "      <td>5</td>\n",
       "      <td>6</td>\n",
       "      <td>B</td>\n",
       "    </tr>\n",
       "    <tr>\n",
       "      <th>2</th>\n",
       "      <td>7</td>\n",
       "      <td>8</td>\n",
       "      <td>9</td>\n",
       "      <td>C</td>\n",
       "    </tr>\n",
       "  </tbody>\n",
       "</table>\n",
       "</div>"
      ],
      "text/plain": [
       "   Col 1  Col 2  Col 3 coluna em comum\n",
       "0      1      2      3               A\n",
       "1      4      5      6               B\n",
       "2      7      8      9               C"
      ]
     },
     "execution_count": 26,
     "metadata": {},
     "output_type": "execute_result"
    }
   ],
   "source": [
    "data_frame_1"
   ]
  },
  {
   "cell_type": "code",
   "execution_count": 27,
   "metadata": {
    "ExecuteTime": {
     "end_time": "2020-09-30T12:19:03.949591Z",
     "start_time": "2020-09-30T12:19:03.920826Z"
    }
   },
   "outputs": [
    {
     "data": {
      "text/html": [
       "<div>\n",
       "<style scoped>\n",
       "    .dataframe tbody tr th:only-of-type {\n",
       "        vertical-align: middle;\n",
       "    }\n",
       "\n",
       "    .dataframe tbody tr th {\n",
       "        vertical-align: top;\n",
       "    }\n",
       "\n",
       "    .dataframe thead th {\n",
       "        text-align: right;\n",
       "    }\n",
       "</style>\n",
       "<table border=\"1\" class=\"dataframe\">\n",
       "  <thead>\n",
       "    <tr style=\"text-align: right;\">\n",
       "      <th></th>\n",
       "      <th>Col 1</th>\n",
       "      <th>Col 2</th>\n",
       "      <th>Col 3</th>\n",
       "      <th>coluna em comum</th>\n",
       "    </tr>\n",
       "  </thead>\n",
       "  <tbody>\n",
       "    <tr>\n",
       "      <th>3</th>\n",
       "      <td>10</td>\n",
       "      <td>20</td>\n",
       "      <td>30</td>\n",
       "      <td>A</td>\n",
       "    </tr>\n",
       "    <tr>\n",
       "      <th>4</th>\n",
       "      <td>40</td>\n",
       "      <td>50</td>\n",
       "      <td>60</td>\n",
       "      <td>C</td>\n",
       "    </tr>\n",
       "    <tr>\n",
       "      <th>5</th>\n",
       "      <td>70</td>\n",
       "      <td>80</td>\n",
       "      <td>90</td>\n",
       "      <td>B</td>\n",
       "    </tr>\n",
       "  </tbody>\n",
       "</table>\n",
       "</div>"
      ],
      "text/plain": [
       "   Col 1  Col 2  Col 3 coluna em comum\n",
       "3     10     20     30               A\n",
       "4     40     50     60               C\n",
       "5     70     80     90               B"
      ]
     },
     "execution_count": 27,
     "metadata": {},
     "output_type": "execute_result"
    }
   ],
   "source": [
    "data_frame_2"
   ]
  },
  {
   "cell_type": "code",
   "execution_count": 28,
   "metadata": {
    "ExecuteTime": {
     "end_time": "2020-09-30T12:19:54.210757Z",
     "start_time": "2020-09-30T12:19:54.151338Z"
    }
   },
   "outputs": [
    {
     "data": {
      "text/html": [
       "<div>\n",
       "<style scoped>\n",
       "    .dataframe tbody tr th:only-of-type {\n",
       "        vertical-align: middle;\n",
       "    }\n",
       "\n",
       "    .dataframe tbody tr th {\n",
       "        vertical-align: top;\n",
       "    }\n",
       "\n",
       "    .dataframe thead th {\n",
       "        text-align: right;\n",
       "    }\n",
       "</style>\n",
       "<table border=\"1\" class=\"dataframe\">\n",
       "  <thead>\n",
       "    <tr style=\"text-align: right;\">\n",
       "      <th></th>\n",
       "      <th>Col 1_x</th>\n",
       "      <th>Col 2_x</th>\n",
       "      <th>Col 3_x</th>\n",
       "      <th>coluna em comum</th>\n",
       "      <th>Col 1_y</th>\n",
       "      <th>Col 2_y</th>\n",
       "      <th>Col 3_y</th>\n",
       "    </tr>\n",
       "  </thead>\n",
       "  <tbody>\n",
       "    <tr>\n",
       "      <th>0</th>\n",
       "      <td>1</td>\n",
       "      <td>2</td>\n",
       "      <td>3</td>\n",
       "      <td>A</td>\n",
       "      <td>10</td>\n",
       "      <td>20</td>\n",
       "      <td>30</td>\n",
       "    </tr>\n",
       "    <tr>\n",
       "      <th>1</th>\n",
       "      <td>4</td>\n",
       "      <td>5</td>\n",
       "      <td>6</td>\n",
       "      <td>B</td>\n",
       "      <td>70</td>\n",
       "      <td>80</td>\n",
       "      <td>90</td>\n",
       "    </tr>\n",
       "    <tr>\n",
       "      <th>2</th>\n",
       "      <td>7</td>\n",
       "      <td>8</td>\n",
       "      <td>9</td>\n",
       "      <td>C</td>\n",
       "      <td>40</td>\n",
       "      <td>50</td>\n",
       "      <td>60</td>\n",
       "    </tr>\n",
       "  </tbody>\n",
       "</table>\n",
       "</div>"
      ],
      "text/plain": [
       "   Col 1_x  Col 2_x  Col 3_x coluna em comum  Col 1_y  Col 2_y  Col 3_y\n",
       "0        1        2        3               A       10       20       30\n",
       "1        4        5        6               B       70       80       90\n",
       "2        7        8        9               C       40       50       60"
      ]
     },
     "execution_count": 28,
     "metadata": {},
     "output_type": "execute_result"
    }
   ],
   "source": [
    "pd.merge(data_frame_1, data_frame_2, on=\"coluna em comum\")"
   ]
  },
  {
   "cell_type": "code",
   "execution_count": 29,
   "metadata": {
    "ExecuteTime": {
     "end_time": "2020-09-30T12:21:27.701879Z",
     "start_time": "2020-09-30T12:21:27.683456Z"
    }
   },
   "outputs": [],
   "source": [
    "# Podemos passar mais de uma coluna em comum\n",
    "data_frame_1[\"coluna em comum 2\"] = \"X O I\".split(\" \")\n",
    "data_frame_2[\"coluna em comum 2\"] = \"Q I X\".split(\" \")"
   ]
  },
  {
   "cell_type": "code",
   "execution_count": 30,
   "metadata": {
    "ExecuteTime": {
     "end_time": "2020-09-30T12:21:33.879389Z",
     "start_time": "2020-09-30T12:21:33.865772Z"
    }
   },
   "outputs": [
    {
     "data": {
      "text/html": [
       "<div>\n",
       "<style scoped>\n",
       "    .dataframe tbody tr th:only-of-type {\n",
       "        vertical-align: middle;\n",
       "    }\n",
       "\n",
       "    .dataframe tbody tr th {\n",
       "        vertical-align: top;\n",
       "    }\n",
       "\n",
       "    .dataframe thead th {\n",
       "        text-align: right;\n",
       "    }\n",
       "</style>\n",
       "<table border=\"1\" class=\"dataframe\">\n",
       "  <thead>\n",
       "    <tr style=\"text-align: right;\">\n",
       "      <th></th>\n",
       "      <th>Col 1</th>\n",
       "      <th>Col 2</th>\n",
       "      <th>Col 3</th>\n",
       "      <th>coluna em comum</th>\n",
       "      <th>coluna em comum 2</th>\n",
       "    </tr>\n",
       "  </thead>\n",
       "  <tbody>\n",
       "    <tr>\n",
       "      <th>0</th>\n",
       "      <td>1</td>\n",
       "      <td>2</td>\n",
       "      <td>3</td>\n",
       "      <td>A</td>\n",
       "      <td>X</td>\n",
       "    </tr>\n",
       "    <tr>\n",
       "      <th>1</th>\n",
       "      <td>4</td>\n",
       "      <td>5</td>\n",
       "      <td>6</td>\n",
       "      <td>B</td>\n",
       "      <td>O</td>\n",
       "    </tr>\n",
       "    <tr>\n",
       "      <th>2</th>\n",
       "      <td>7</td>\n",
       "      <td>8</td>\n",
       "      <td>9</td>\n",
       "      <td>C</td>\n",
       "      <td>I</td>\n",
       "    </tr>\n",
       "  </tbody>\n",
       "</table>\n",
       "</div>"
      ],
      "text/plain": [
       "   Col 1  Col 2  Col 3 coluna em comum coluna em comum 2\n",
       "0      1      2      3               A                 X\n",
       "1      4      5      6               B                 O\n",
       "2      7      8      9               C                 I"
      ]
     },
     "execution_count": 30,
     "metadata": {},
     "output_type": "execute_result"
    }
   ],
   "source": [
    "data_frame_1"
   ]
  },
  {
   "cell_type": "code",
   "execution_count": 31,
   "metadata": {
    "ExecuteTime": {
     "end_time": "2020-09-30T12:21:35.801305Z",
     "start_time": "2020-09-30T12:21:35.778048Z"
    }
   },
   "outputs": [
    {
     "data": {
      "text/html": [
       "<div>\n",
       "<style scoped>\n",
       "    .dataframe tbody tr th:only-of-type {\n",
       "        vertical-align: middle;\n",
       "    }\n",
       "\n",
       "    .dataframe tbody tr th {\n",
       "        vertical-align: top;\n",
       "    }\n",
       "\n",
       "    .dataframe thead th {\n",
       "        text-align: right;\n",
       "    }\n",
       "</style>\n",
       "<table border=\"1\" class=\"dataframe\">\n",
       "  <thead>\n",
       "    <tr style=\"text-align: right;\">\n",
       "      <th></th>\n",
       "      <th>Col 1</th>\n",
       "      <th>Col 2</th>\n",
       "      <th>Col 3</th>\n",
       "      <th>coluna em comum</th>\n",
       "      <th>coluna em comum 2</th>\n",
       "    </tr>\n",
       "  </thead>\n",
       "  <tbody>\n",
       "    <tr>\n",
       "      <th>3</th>\n",
       "      <td>10</td>\n",
       "      <td>20</td>\n",
       "      <td>30</td>\n",
       "      <td>A</td>\n",
       "      <td>Q</td>\n",
       "    </tr>\n",
       "    <tr>\n",
       "      <th>4</th>\n",
       "      <td>40</td>\n",
       "      <td>50</td>\n",
       "      <td>60</td>\n",
       "      <td>C</td>\n",
       "      <td>I</td>\n",
       "    </tr>\n",
       "    <tr>\n",
       "      <th>5</th>\n",
       "      <td>70</td>\n",
       "      <td>80</td>\n",
       "      <td>90</td>\n",
       "      <td>B</td>\n",
       "      <td>X</td>\n",
       "    </tr>\n",
       "  </tbody>\n",
       "</table>\n",
       "</div>"
      ],
      "text/plain": [
       "   Col 1  Col 2  Col 3 coluna em comum coluna em comum 2\n",
       "3     10     20     30               A                 Q\n",
       "4     40     50     60               C                 I\n",
       "5     70     80     90               B                 X"
      ]
     },
     "execution_count": 31,
     "metadata": {},
     "output_type": "execute_result"
    }
   ],
   "source": [
    "data_frame_2"
   ]
  },
  {
   "cell_type": "code",
   "execution_count": 32,
   "metadata": {
    "ExecuteTime": {
     "end_time": "2020-09-30T12:22:10.212546Z",
     "start_time": "2020-09-30T12:22:10.164261Z"
    }
   },
   "outputs": [
    {
     "data": {
      "text/html": [
       "<div>\n",
       "<style scoped>\n",
       "    .dataframe tbody tr th:only-of-type {\n",
       "        vertical-align: middle;\n",
       "    }\n",
       "\n",
       "    .dataframe tbody tr th {\n",
       "        vertical-align: top;\n",
       "    }\n",
       "\n",
       "    .dataframe thead th {\n",
       "        text-align: right;\n",
       "    }\n",
       "</style>\n",
       "<table border=\"1\" class=\"dataframe\">\n",
       "  <thead>\n",
       "    <tr style=\"text-align: right;\">\n",
       "      <th></th>\n",
       "      <th>Col 1_x</th>\n",
       "      <th>Col 2_x</th>\n",
       "      <th>Col 3_x</th>\n",
       "      <th>coluna em comum</th>\n",
       "      <th>coluna em comum 2</th>\n",
       "      <th>Col 1_y</th>\n",
       "      <th>Col 2_y</th>\n",
       "      <th>Col 3_y</th>\n",
       "    </tr>\n",
       "  </thead>\n",
       "  <tbody>\n",
       "    <tr>\n",
       "      <th>0</th>\n",
       "      <td>7</td>\n",
       "      <td>8</td>\n",
       "      <td>9</td>\n",
       "      <td>C</td>\n",
       "      <td>I</td>\n",
       "      <td>40</td>\n",
       "      <td>50</td>\n",
       "      <td>60</td>\n",
       "    </tr>\n",
       "  </tbody>\n",
       "</table>\n",
       "</div>"
      ],
      "text/plain": [
       "   Col 1_x  Col 2_x  Col 3_x coluna em comum coluna em comum 2  Col 1_y  \\\n",
       "0        7        8        9               C                 I       40   \n",
       "\n",
       "   Col 2_y  Col 3_y  \n",
       "0       50       60  "
      ]
     },
     "execution_count": 32,
     "metadata": {},
     "output_type": "execute_result"
    }
   ],
   "source": [
    "pd.merge(data_frame_1, data_frame_2, on=[\"coluna em comum\", \"coluna em comum 2\"])"
   ]
  },
  {
   "cell_type": "code",
   "execution_count": 33,
   "metadata": {
    "ExecuteTime": {
     "end_time": "2020-09-30T12:23:32.716473Z",
     "start_time": "2020-09-30T12:23:32.668536Z"
    }
   },
   "outputs": [
    {
     "data": {
      "text/html": [
       "<div>\n",
       "<style scoped>\n",
       "    .dataframe tbody tr th:only-of-type {\n",
       "        vertical-align: middle;\n",
       "    }\n",
       "\n",
       "    .dataframe tbody tr th {\n",
       "        vertical-align: top;\n",
       "    }\n",
       "\n",
       "    .dataframe thead th {\n",
       "        text-align: right;\n",
       "    }\n",
       "</style>\n",
       "<table border=\"1\" class=\"dataframe\">\n",
       "  <thead>\n",
       "    <tr style=\"text-align: right;\">\n",
       "      <th></th>\n",
       "      <th>Col 1_x</th>\n",
       "      <th>Col 2_x</th>\n",
       "      <th>Col 3_x</th>\n",
       "      <th>coluna em comum</th>\n",
       "      <th>coluna em comum 2</th>\n",
       "      <th>Col 1_y</th>\n",
       "      <th>Col 2_y</th>\n",
       "      <th>Col 3_y</th>\n",
       "    </tr>\n",
       "  </thead>\n",
       "  <tbody>\n",
       "    <tr>\n",
       "      <th>0</th>\n",
       "      <td>1</td>\n",
       "      <td>2</td>\n",
       "      <td>3</td>\n",
       "      <td>A</td>\n",
       "      <td>X</td>\n",
       "      <td>NaN</td>\n",
       "      <td>NaN</td>\n",
       "      <td>NaN</td>\n",
       "    </tr>\n",
       "    <tr>\n",
       "      <th>1</th>\n",
       "      <td>4</td>\n",
       "      <td>5</td>\n",
       "      <td>6</td>\n",
       "      <td>B</td>\n",
       "      <td>O</td>\n",
       "      <td>NaN</td>\n",
       "      <td>NaN</td>\n",
       "      <td>NaN</td>\n",
       "    </tr>\n",
       "    <tr>\n",
       "      <th>2</th>\n",
       "      <td>7</td>\n",
       "      <td>8</td>\n",
       "      <td>9</td>\n",
       "      <td>C</td>\n",
       "      <td>I</td>\n",
       "      <td>40.0</td>\n",
       "      <td>50.0</td>\n",
       "      <td>60.0</td>\n",
       "    </tr>\n",
       "  </tbody>\n",
       "</table>\n",
       "</div>"
      ],
      "text/plain": [
       "   Col 1_x  Col 2_x  Col 3_x coluna em comum coluna em comum 2  Col 1_y  \\\n",
       "0        1        2        3               A                 X      NaN   \n",
       "1        4        5        6               B                 O      NaN   \n",
       "2        7        8        9               C                 I     40.0   \n",
       "\n",
       "   Col 2_y  Col 3_y  \n",
       "0      NaN      NaN  \n",
       "1      NaN      NaN  \n",
       "2     50.0     60.0  "
      ]
     },
     "execution_count": 33,
     "metadata": {},
     "output_type": "execute_result"
    }
   ],
   "source": [
    "pd.merge(data_frame_1, data_frame_2, on=[\"coluna em comum\", \"coluna em comum 2\"], how=\"left\")"
   ]
  },
  {
   "cell_type": "code",
   "execution_count": 34,
   "metadata": {
    "ExecuteTime": {
     "end_time": "2020-09-30T12:24:09.591276Z",
     "start_time": "2020-09-30T12:24:09.564719Z"
    }
   },
   "outputs": [
    {
     "data": {
      "text/html": [
       "<div>\n",
       "<style scoped>\n",
       "    .dataframe tbody tr th:only-of-type {\n",
       "        vertical-align: middle;\n",
       "    }\n",
       "\n",
       "    .dataframe tbody tr th {\n",
       "        vertical-align: top;\n",
       "    }\n",
       "\n",
       "    .dataframe thead th {\n",
       "        text-align: right;\n",
       "    }\n",
       "</style>\n",
       "<table border=\"1\" class=\"dataframe\">\n",
       "  <thead>\n",
       "    <tr style=\"text-align: right;\">\n",
       "      <th></th>\n",
       "      <th>Col 1_x</th>\n",
       "      <th>Col 2_x</th>\n",
       "      <th>Col 3_x</th>\n",
       "      <th>coluna em comum</th>\n",
       "      <th>coluna em comum 2</th>\n",
       "      <th>Col 1_y</th>\n",
       "      <th>Col 2_y</th>\n",
       "      <th>Col 3_y</th>\n",
       "    </tr>\n",
       "  </thead>\n",
       "  <tbody>\n",
       "    <tr>\n",
       "      <th>0</th>\n",
       "      <td>NaN</td>\n",
       "      <td>NaN</td>\n",
       "      <td>NaN</td>\n",
       "      <td>A</td>\n",
       "      <td>Q</td>\n",
       "      <td>10</td>\n",
       "      <td>20</td>\n",
       "      <td>30</td>\n",
       "    </tr>\n",
       "    <tr>\n",
       "      <th>1</th>\n",
       "      <td>7.0</td>\n",
       "      <td>8.0</td>\n",
       "      <td>9.0</td>\n",
       "      <td>C</td>\n",
       "      <td>I</td>\n",
       "      <td>40</td>\n",
       "      <td>50</td>\n",
       "      <td>60</td>\n",
       "    </tr>\n",
       "    <tr>\n",
       "      <th>2</th>\n",
       "      <td>NaN</td>\n",
       "      <td>NaN</td>\n",
       "      <td>NaN</td>\n",
       "      <td>B</td>\n",
       "      <td>X</td>\n",
       "      <td>70</td>\n",
       "      <td>80</td>\n",
       "      <td>90</td>\n",
       "    </tr>\n",
       "  </tbody>\n",
       "</table>\n",
       "</div>"
      ],
      "text/plain": [
       "   Col 1_x  Col 2_x  Col 3_x coluna em comum coluna em comum 2  Col 1_y  \\\n",
       "0      NaN      NaN      NaN               A                 Q       10   \n",
       "1      7.0      8.0      9.0               C                 I       40   \n",
       "2      NaN      NaN      NaN               B                 X       70   \n",
       "\n",
       "   Col 2_y  Col 3_y  \n",
       "0       20       30  \n",
       "1       50       60  \n",
       "2       80       90  "
      ]
     },
     "execution_count": 34,
     "metadata": {},
     "output_type": "execute_result"
    }
   ],
   "source": [
    "pd.merge(data_frame_1, data_frame_2, on=[\"coluna em comum\", \"coluna em comum 2\"], how=\"right\")"
   ]
  },
  {
   "cell_type": "code",
   "execution_count": 35,
   "metadata": {
    "ExecuteTime": {
     "end_time": "2020-09-30T12:25:06.888582Z",
     "start_time": "2020-09-30T12:25:06.853594Z"
    }
   },
   "outputs": [
    {
     "data": {
      "text/html": [
       "<div>\n",
       "<style scoped>\n",
       "    .dataframe tbody tr th:only-of-type {\n",
       "        vertical-align: middle;\n",
       "    }\n",
       "\n",
       "    .dataframe tbody tr th {\n",
       "        vertical-align: top;\n",
       "    }\n",
       "\n",
       "    .dataframe thead th {\n",
       "        text-align: right;\n",
       "    }\n",
       "</style>\n",
       "<table border=\"1\" class=\"dataframe\">\n",
       "  <thead>\n",
       "    <tr style=\"text-align: right;\">\n",
       "      <th></th>\n",
       "      <th>Col 1_x</th>\n",
       "      <th>Col 2_x</th>\n",
       "      <th>Col 3_x</th>\n",
       "      <th>coluna em comum</th>\n",
       "      <th>coluna em comum 2</th>\n",
       "      <th>Col 1_y</th>\n",
       "      <th>Col 2_y</th>\n",
       "      <th>Col 3_y</th>\n",
       "    </tr>\n",
       "  </thead>\n",
       "  <tbody>\n",
       "    <tr>\n",
       "      <th>0</th>\n",
       "      <td>1.0</td>\n",
       "      <td>2.0</td>\n",
       "      <td>3.0</td>\n",
       "      <td>A</td>\n",
       "      <td>X</td>\n",
       "      <td>NaN</td>\n",
       "      <td>NaN</td>\n",
       "      <td>NaN</td>\n",
       "    </tr>\n",
       "    <tr>\n",
       "      <th>1</th>\n",
       "      <td>4.0</td>\n",
       "      <td>5.0</td>\n",
       "      <td>6.0</td>\n",
       "      <td>B</td>\n",
       "      <td>O</td>\n",
       "      <td>NaN</td>\n",
       "      <td>NaN</td>\n",
       "      <td>NaN</td>\n",
       "    </tr>\n",
       "    <tr>\n",
       "      <th>2</th>\n",
       "      <td>7.0</td>\n",
       "      <td>8.0</td>\n",
       "      <td>9.0</td>\n",
       "      <td>C</td>\n",
       "      <td>I</td>\n",
       "      <td>40.0</td>\n",
       "      <td>50.0</td>\n",
       "      <td>60.0</td>\n",
       "    </tr>\n",
       "    <tr>\n",
       "      <th>3</th>\n",
       "      <td>NaN</td>\n",
       "      <td>NaN</td>\n",
       "      <td>NaN</td>\n",
       "      <td>A</td>\n",
       "      <td>Q</td>\n",
       "      <td>10.0</td>\n",
       "      <td>20.0</td>\n",
       "      <td>30.0</td>\n",
       "    </tr>\n",
       "    <tr>\n",
       "      <th>4</th>\n",
       "      <td>NaN</td>\n",
       "      <td>NaN</td>\n",
       "      <td>NaN</td>\n",
       "      <td>B</td>\n",
       "      <td>X</td>\n",
       "      <td>70.0</td>\n",
       "      <td>80.0</td>\n",
       "      <td>90.0</td>\n",
       "    </tr>\n",
       "  </tbody>\n",
       "</table>\n",
       "</div>"
      ],
      "text/plain": [
       "   Col 1_x  Col 2_x  Col 3_x coluna em comum coluna em comum 2  Col 1_y  \\\n",
       "0      1.0      2.0      3.0               A                 X      NaN   \n",
       "1      4.0      5.0      6.0               B                 O      NaN   \n",
       "2      7.0      8.0      9.0               C                 I     40.0   \n",
       "3      NaN      NaN      NaN               A                 Q     10.0   \n",
       "4      NaN      NaN      NaN               B                 X     70.0   \n",
       "\n",
       "   Col 2_y  Col 3_y  \n",
       "0      NaN      NaN  \n",
       "1      NaN      NaN  \n",
       "2     50.0     60.0  \n",
       "3     20.0     30.0  \n",
       "4     80.0     90.0  "
      ]
     },
     "execution_count": 35,
     "metadata": {},
     "output_type": "execute_result"
    }
   ],
   "source": [
    "pd.merge(data_frame_1, data_frame_2, on=[\"coluna em comum\", \"coluna em comum 2\"], how=\"outer\")"
   ]
  },
  {
   "cell_type": "code",
   "execution_count": 36,
   "metadata": {
    "ExecuteTime": {
     "end_time": "2020-09-30T12:25:27.844159Z",
     "start_time": "2020-09-30T12:25:27.816095Z"
    }
   },
   "outputs": [
    {
     "data": {
      "text/html": [
       "<div>\n",
       "<style scoped>\n",
       "    .dataframe tbody tr th:only-of-type {\n",
       "        vertical-align: middle;\n",
       "    }\n",
       "\n",
       "    .dataframe tbody tr th {\n",
       "        vertical-align: top;\n",
       "    }\n",
       "\n",
       "    .dataframe thead th {\n",
       "        text-align: right;\n",
       "    }\n",
       "</style>\n",
       "<table border=\"1\" class=\"dataframe\">\n",
       "  <thead>\n",
       "    <tr style=\"text-align: right;\">\n",
       "      <th></th>\n",
       "      <th>Col 1_x</th>\n",
       "      <th>Col 2_x</th>\n",
       "      <th>Col 3_x</th>\n",
       "      <th>coluna em comum</th>\n",
       "      <th>coluna em comum 2</th>\n",
       "      <th>Col 1_y</th>\n",
       "      <th>Col 2_y</th>\n",
       "      <th>Col 3_y</th>\n",
       "    </tr>\n",
       "  </thead>\n",
       "  <tbody>\n",
       "    <tr>\n",
       "      <th>0</th>\n",
       "      <td>7</td>\n",
       "      <td>8</td>\n",
       "      <td>9</td>\n",
       "      <td>C</td>\n",
       "      <td>I</td>\n",
       "      <td>40</td>\n",
       "      <td>50</td>\n",
       "      <td>60</td>\n",
       "    </tr>\n",
       "  </tbody>\n",
       "</table>\n",
       "</div>"
      ],
      "text/plain": [
       "   Col 1_x  Col 2_x  Col 3_x coluna em comum coluna em comum 2  Col 1_y  \\\n",
       "0        7        8        9               C                 I       40   \n",
       "\n",
       "   Col 2_y  Col 3_y  \n",
       "0       50       60  "
      ]
     },
     "execution_count": 36,
     "metadata": {},
     "output_type": "execute_result"
    }
   ],
   "source": [
    "pd.merge(data_frame_1, data_frame_2, on=[\"coluna em comum\", \"coluna em comum 2\"], how=\"inner\")"
   ]
  },
  {
   "cell_type": "markdown",
   "metadata": {
    "heading_collapsed": true
   },
   "source": [
    "### join\n",
    "Pode ser necessário combinar DataFrames que possam compartilhar os mesmos índices, neste caso as funções `concat` e `merge` não são as mais adequadas. Para resolver esses problemas os DataFrame pandas possuem o método [`join`](https://pandas.pydata.org/pandas-docs/stable/reference/api/pandas.DataFrame.join.html) o qual consegue juntar DataFrame avaliando as semelhanças entre os índices. A sintaxe utilizada é:\n",
    "```python\n",
    "DataFrame.join(other, on=None, how='left', lsuffix='', rsuffix='', sort=False)\n",
    "```"
   ]
  },
  {
   "cell_type": "code",
   "execution_count": 37,
   "metadata": {
    "ExecuteTime": {
     "end_time": "2020-09-30T12:26:48.284030Z",
     "start_time": "2020-09-30T12:26:48.271910Z"
    },
    "hidden": true
   },
   "outputs": [],
   "source": [
    "data_frame_1.index = 1, 2, 3\n",
    "data_frame_2.index = 3, 1, 4"
   ]
  },
  {
   "cell_type": "code",
   "execution_count": 38,
   "metadata": {
    "ExecuteTime": {
     "end_time": "2020-09-30T12:26:50.187555Z",
     "start_time": "2020-09-30T12:26:50.158290Z"
    },
    "hidden": true
   },
   "outputs": [
    {
     "data": {
      "text/html": [
       "<div>\n",
       "<style scoped>\n",
       "    .dataframe tbody tr th:only-of-type {\n",
       "        vertical-align: middle;\n",
       "    }\n",
       "\n",
       "    .dataframe tbody tr th {\n",
       "        vertical-align: top;\n",
       "    }\n",
       "\n",
       "    .dataframe thead th {\n",
       "        text-align: right;\n",
       "    }\n",
       "</style>\n",
       "<table border=\"1\" class=\"dataframe\">\n",
       "  <thead>\n",
       "    <tr style=\"text-align: right;\">\n",
       "      <th></th>\n",
       "      <th>Col 1</th>\n",
       "      <th>Col 2</th>\n",
       "      <th>Col 3</th>\n",
       "      <th>coluna em comum</th>\n",
       "      <th>coluna em comum 2</th>\n",
       "    </tr>\n",
       "  </thead>\n",
       "  <tbody>\n",
       "    <tr>\n",
       "      <th>1</th>\n",
       "      <td>1</td>\n",
       "      <td>2</td>\n",
       "      <td>3</td>\n",
       "      <td>A</td>\n",
       "      <td>X</td>\n",
       "    </tr>\n",
       "    <tr>\n",
       "      <th>2</th>\n",
       "      <td>4</td>\n",
       "      <td>5</td>\n",
       "      <td>6</td>\n",
       "      <td>B</td>\n",
       "      <td>O</td>\n",
       "    </tr>\n",
       "    <tr>\n",
       "      <th>3</th>\n",
       "      <td>7</td>\n",
       "      <td>8</td>\n",
       "      <td>9</td>\n",
       "      <td>C</td>\n",
       "      <td>I</td>\n",
       "    </tr>\n",
       "  </tbody>\n",
       "</table>\n",
       "</div>"
      ],
      "text/plain": [
       "   Col 1  Col 2  Col 3 coluna em comum coluna em comum 2\n",
       "1      1      2      3               A                 X\n",
       "2      4      5      6               B                 O\n",
       "3      7      8      9               C                 I"
      ]
     },
     "execution_count": 38,
     "metadata": {},
     "output_type": "execute_result"
    }
   ],
   "source": [
    "data_frame_1"
   ]
  },
  {
   "cell_type": "code",
   "execution_count": 39,
   "metadata": {
    "ExecuteTime": {
     "end_time": "2020-09-30T12:26:51.994491Z",
     "start_time": "2020-09-30T12:26:51.952933Z"
    },
    "hidden": true
   },
   "outputs": [
    {
     "data": {
      "text/html": [
       "<div>\n",
       "<style scoped>\n",
       "    .dataframe tbody tr th:only-of-type {\n",
       "        vertical-align: middle;\n",
       "    }\n",
       "\n",
       "    .dataframe tbody tr th {\n",
       "        vertical-align: top;\n",
       "    }\n",
       "\n",
       "    .dataframe thead th {\n",
       "        text-align: right;\n",
       "    }\n",
       "</style>\n",
       "<table border=\"1\" class=\"dataframe\">\n",
       "  <thead>\n",
       "    <tr style=\"text-align: right;\">\n",
       "      <th></th>\n",
       "      <th>Col 1</th>\n",
       "      <th>Col 2</th>\n",
       "      <th>Col 3</th>\n",
       "      <th>coluna em comum</th>\n",
       "      <th>coluna em comum 2</th>\n",
       "    </tr>\n",
       "  </thead>\n",
       "  <tbody>\n",
       "    <tr>\n",
       "      <th>3</th>\n",
       "      <td>10</td>\n",
       "      <td>20</td>\n",
       "      <td>30</td>\n",
       "      <td>A</td>\n",
       "      <td>Q</td>\n",
       "    </tr>\n",
       "    <tr>\n",
       "      <th>1</th>\n",
       "      <td>40</td>\n",
       "      <td>50</td>\n",
       "      <td>60</td>\n",
       "      <td>C</td>\n",
       "      <td>I</td>\n",
       "    </tr>\n",
       "    <tr>\n",
       "      <th>4</th>\n",
       "      <td>70</td>\n",
       "      <td>80</td>\n",
       "      <td>90</td>\n",
       "      <td>B</td>\n",
       "      <td>X</td>\n",
       "    </tr>\n",
       "  </tbody>\n",
       "</table>\n",
       "</div>"
      ],
      "text/plain": [
       "   Col 1  Col 2  Col 3 coluna em comum coluna em comum 2\n",
       "3     10     20     30               A                 Q\n",
       "1     40     50     60               C                 I\n",
       "4     70     80     90               B                 X"
      ]
     },
     "execution_count": 39,
     "metadata": {},
     "output_type": "execute_result"
    }
   ],
   "source": [
    "data_frame_2"
   ]
  },
  {
   "cell_type": "code",
   "execution_count": 40,
   "metadata": {
    "ExecuteTime": {
     "end_time": "2020-09-30T12:27:27.198723Z",
     "start_time": "2020-09-30T12:27:27.155185Z"
    },
    "hidden": true
   },
   "outputs": [
    {
     "data": {
      "text/html": [
       "<div>\n",
       "<style scoped>\n",
       "    .dataframe tbody tr th:only-of-type {\n",
       "        vertical-align: middle;\n",
       "    }\n",
       "\n",
       "    .dataframe tbody tr th {\n",
       "        vertical-align: top;\n",
       "    }\n",
       "\n",
       "    .dataframe thead th {\n",
       "        text-align: right;\n",
       "    }\n",
       "</style>\n",
       "<table border=\"1\" class=\"dataframe\">\n",
       "  <thead>\n",
       "    <tr style=\"text-align: right;\">\n",
       "      <th></th>\n",
       "      <th>Col 1 Original</th>\n",
       "      <th>Col 2 Original</th>\n",
       "      <th>Col 3 Original</th>\n",
       "      <th>coluna em comum Original</th>\n",
       "      <th>coluna em comum 2 Original</th>\n",
       "      <th>Col 1</th>\n",
       "      <th>Col 2</th>\n",
       "      <th>Col 3</th>\n",
       "      <th>coluna em comum</th>\n",
       "      <th>coluna em comum 2</th>\n",
       "    </tr>\n",
       "  </thead>\n",
       "  <tbody>\n",
       "    <tr>\n",
       "      <th>1</th>\n",
       "      <td>1</td>\n",
       "      <td>2</td>\n",
       "      <td>3</td>\n",
       "      <td>A</td>\n",
       "      <td>X</td>\n",
       "      <td>40.0</td>\n",
       "      <td>50.0</td>\n",
       "      <td>60.0</td>\n",
       "      <td>C</td>\n",
       "      <td>I</td>\n",
       "    </tr>\n",
       "    <tr>\n",
       "      <th>2</th>\n",
       "      <td>4</td>\n",
       "      <td>5</td>\n",
       "      <td>6</td>\n",
       "      <td>B</td>\n",
       "      <td>O</td>\n",
       "      <td>NaN</td>\n",
       "      <td>NaN</td>\n",
       "      <td>NaN</td>\n",
       "      <td>NaN</td>\n",
       "      <td>NaN</td>\n",
       "    </tr>\n",
       "    <tr>\n",
       "      <th>3</th>\n",
       "      <td>7</td>\n",
       "      <td>8</td>\n",
       "      <td>9</td>\n",
       "      <td>C</td>\n",
       "      <td>I</td>\n",
       "      <td>10.0</td>\n",
       "      <td>20.0</td>\n",
       "      <td>30.0</td>\n",
       "      <td>A</td>\n",
       "      <td>Q</td>\n",
       "    </tr>\n",
       "  </tbody>\n",
       "</table>\n",
       "</div>"
      ],
      "text/plain": [
       "   Col 1 Original  Col 2 Original  Col 3 Original coluna em comum Original  \\\n",
       "1               1               2               3                        A   \n",
       "2               4               5               6                        B   \n",
       "3               7               8               9                        C   \n",
       "\n",
       "  coluna em comum 2 Original  Col 1  Col 2  Col 3 coluna em comum  \\\n",
       "1                          X   40.0   50.0   60.0               C   \n",
       "2                          O    NaN    NaN    NaN             NaN   \n",
       "3                          I   10.0   20.0   30.0               A   \n",
       "\n",
       "  coluna em comum 2  \n",
       "1                 I  \n",
       "2               NaN  \n",
       "3                 Q  "
      ]
     },
     "execution_count": 40,
     "metadata": {},
     "output_type": "execute_result"
    }
   ],
   "source": [
    "data_frame_1.join(data_frame_2, lsuffix=' Original')"
   ]
  },
  {
   "cell_type": "code",
   "execution_count": null,
   "metadata": {
    "hidden": true
   },
   "outputs": [],
   "source": [
    "# Neste método temos o parâmetro how que modifica a forma de ralizar a união"
   ]
  },
  {
   "cell_type": "code",
   "execution_count": 41,
   "metadata": {
    "ExecuteTime": {
     "end_time": "2020-09-30T12:28:38.647303Z",
     "start_time": "2020-09-30T12:28:38.618018Z"
    },
    "hidden": true
   },
   "outputs": [
    {
     "data": {
      "text/html": [
       "<div>\n",
       "<style scoped>\n",
       "    .dataframe tbody tr th:only-of-type {\n",
       "        vertical-align: middle;\n",
       "    }\n",
       "\n",
       "    .dataframe tbody tr th {\n",
       "        vertical-align: top;\n",
       "    }\n",
       "\n",
       "    .dataframe thead th {\n",
       "        text-align: right;\n",
       "    }\n",
       "</style>\n",
       "<table border=\"1\" class=\"dataframe\">\n",
       "  <thead>\n",
       "    <tr style=\"text-align: right;\">\n",
       "      <th></th>\n",
       "      <th>Col 1 Original</th>\n",
       "      <th>Col 2 Original</th>\n",
       "      <th>Col 3 Original</th>\n",
       "      <th>coluna em comum Original</th>\n",
       "      <th>coluna em comum 2 Original</th>\n",
       "      <th>Col 1</th>\n",
       "      <th>Col 2</th>\n",
       "      <th>Col 3</th>\n",
       "      <th>coluna em comum</th>\n",
       "      <th>coluna em comum 2</th>\n",
       "    </tr>\n",
       "  </thead>\n",
       "  <tbody>\n",
       "    <tr>\n",
       "      <th>1</th>\n",
       "      <td>1</td>\n",
       "      <td>2</td>\n",
       "      <td>3</td>\n",
       "      <td>A</td>\n",
       "      <td>X</td>\n",
       "      <td>40.0</td>\n",
       "      <td>50.0</td>\n",
       "      <td>60.0</td>\n",
       "      <td>C</td>\n",
       "      <td>I</td>\n",
       "    </tr>\n",
       "    <tr>\n",
       "      <th>2</th>\n",
       "      <td>4</td>\n",
       "      <td>5</td>\n",
       "      <td>6</td>\n",
       "      <td>B</td>\n",
       "      <td>O</td>\n",
       "      <td>NaN</td>\n",
       "      <td>NaN</td>\n",
       "      <td>NaN</td>\n",
       "      <td>NaN</td>\n",
       "      <td>NaN</td>\n",
       "    </tr>\n",
       "    <tr>\n",
       "      <th>3</th>\n",
       "      <td>7</td>\n",
       "      <td>8</td>\n",
       "      <td>9</td>\n",
       "      <td>C</td>\n",
       "      <td>I</td>\n",
       "      <td>10.0</td>\n",
       "      <td>20.0</td>\n",
       "      <td>30.0</td>\n",
       "      <td>A</td>\n",
       "      <td>Q</td>\n",
       "    </tr>\n",
       "  </tbody>\n",
       "</table>\n",
       "</div>"
      ],
      "text/plain": [
       "   Col 1 Original  Col 2 Original  Col 3 Original coluna em comum Original  \\\n",
       "1               1               2               3                        A   \n",
       "2               4               5               6                        B   \n",
       "3               7               8               9                        C   \n",
       "\n",
       "  coluna em comum 2 Original  Col 1  Col 2  Col 3 coluna em comum  \\\n",
       "1                          X   40.0   50.0   60.0               C   \n",
       "2                          O    NaN    NaN    NaN             NaN   \n",
       "3                          I   10.0   20.0   30.0               A   \n",
       "\n",
       "  coluna em comum 2  \n",
       "1                 I  \n",
       "2               NaN  \n",
       "3                 Q  "
      ]
     },
     "execution_count": 41,
     "metadata": {},
     "output_type": "execute_result"
    }
   ],
   "source": [
    "data_frame_1.join(data_frame_2, lsuffix=' Original', how=\"left\")"
   ]
  },
  {
   "cell_type": "code",
   "execution_count": 42,
   "metadata": {
    "ExecuteTime": {
     "end_time": "2020-09-30T12:28:51.847110Z",
     "start_time": "2020-09-30T12:28:51.810228Z"
    },
    "hidden": true
   },
   "outputs": [
    {
     "data": {
      "text/html": [
       "<div>\n",
       "<style scoped>\n",
       "    .dataframe tbody tr th:only-of-type {\n",
       "        vertical-align: middle;\n",
       "    }\n",
       "\n",
       "    .dataframe tbody tr th {\n",
       "        vertical-align: top;\n",
       "    }\n",
       "\n",
       "    .dataframe thead th {\n",
       "        text-align: right;\n",
       "    }\n",
       "</style>\n",
       "<table border=\"1\" class=\"dataframe\">\n",
       "  <thead>\n",
       "    <tr style=\"text-align: right;\">\n",
       "      <th></th>\n",
       "      <th>Col 1 Original</th>\n",
       "      <th>Col 2 Original</th>\n",
       "      <th>Col 3 Original</th>\n",
       "      <th>coluna em comum Original</th>\n",
       "      <th>coluna em comum 2 Original</th>\n",
       "      <th>Col 1</th>\n",
       "      <th>Col 2</th>\n",
       "      <th>Col 3</th>\n",
       "      <th>coluna em comum</th>\n",
       "      <th>coluna em comum 2</th>\n",
       "    </tr>\n",
       "  </thead>\n",
       "  <tbody>\n",
       "    <tr>\n",
       "      <th>3</th>\n",
       "      <td>7.0</td>\n",
       "      <td>8.0</td>\n",
       "      <td>9.0</td>\n",
       "      <td>C</td>\n",
       "      <td>I</td>\n",
       "      <td>10</td>\n",
       "      <td>20</td>\n",
       "      <td>30</td>\n",
       "      <td>A</td>\n",
       "      <td>Q</td>\n",
       "    </tr>\n",
       "    <tr>\n",
       "      <th>1</th>\n",
       "      <td>1.0</td>\n",
       "      <td>2.0</td>\n",
       "      <td>3.0</td>\n",
       "      <td>A</td>\n",
       "      <td>X</td>\n",
       "      <td>40</td>\n",
       "      <td>50</td>\n",
       "      <td>60</td>\n",
       "      <td>C</td>\n",
       "      <td>I</td>\n",
       "    </tr>\n",
       "    <tr>\n",
       "      <th>4</th>\n",
       "      <td>NaN</td>\n",
       "      <td>NaN</td>\n",
       "      <td>NaN</td>\n",
       "      <td>NaN</td>\n",
       "      <td>NaN</td>\n",
       "      <td>70</td>\n",
       "      <td>80</td>\n",
       "      <td>90</td>\n",
       "      <td>B</td>\n",
       "      <td>X</td>\n",
       "    </tr>\n",
       "  </tbody>\n",
       "</table>\n",
       "</div>"
      ],
      "text/plain": [
       "   Col 1 Original  Col 2 Original  Col 3 Original coluna em comum Original  \\\n",
       "3             7.0             8.0             9.0                        C   \n",
       "1             1.0             2.0             3.0                        A   \n",
       "4             NaN             NaN             NaN                      NaN   \n",
       "\n",
       "  coluna em comum 2 Original  Col 1  Col 2  Col 3 coluna em comum  \\\n",
       "3                          I     10     20     30               A   \n",
       "1                          X     40     50     60               C   \n",
       "4                        NaN     70     80     90               B   \n",
       "\n",
       "  coluna em comum 2  \n",
       "3                 Q  \n",
       "1                 I  \n",
       "4                 X  "
      ]
     },
     "execution_count": 42,
     "metadata": {},
     "output_type": "execute_result"
    }
   ],
   "source": [
    "data_frame_1.join(data_frame_2, lsuffix=' Original', how=\"right\")"
   ]
  },
  {
   "cell_type": "code",
   "execution_count": 43,
   "metadata": {
    "ExecuteTime": {
     "end_time": "2020-09-30T12:28:56.134912Z",
     "start_time": "2020-09-30T12:28:56.094447Z"
    },
    "hidden": true
   },
   "outputs": [
    {
     "data": {
      "text/html": [
       "<div>\n",
       "<style scoped>\n",
       "    .dataframe tbody tr th:only-of-type {\n",
       "        vertical-align: middle;\n",
       "    }\n",
       "\n",
       "    .dataframe tbody tr th {\n",
       "        vertical-align: top;\n",
       "    }\n",
       "\n",
       "    .dataframe thead th {\n",
       "        text-align: right;\n",
       "    }\n",
       "</style>\n",
       "<table border=\"1\" class=\"dataframe\">\n",
       "  <thead>\n",
       "    <tr style=\"text-align: right;\">\n",
       "      <th></th>\n",
       "      <th>Col 1 Original</th>\n",
       "      <th>Col 2 Original</th>\n",
       "      <th>Col 3 Original</th>\n",
       "      <th>coluna em comum Original</th>\n",
       "      <th>coluna em comum 2 Original</th>\n",
       "      <th>Col 1</th>\n",
       "      <th>Col 2</th>\n",
       "      <th>Col 3</th>\n",
       "      <th>coluna em comum</th>\n",
       "      <th>coluna em comum 2</th>\n",
       "    </tr>\n",
       "  </thead>\n",
       "  <tbody>\n",
       "    <tr>\n",
       "      <th>1</th>\n",
       "      <td>1</td>\n",
       "      <td>2</td>\n",
       "      <td>3</td>\n",
       "      <td>A</td>\n",
       "      <td>X</td>\n",
       "      <td>40</td>\n",
       "      <td>50</td>\n",
       "      <td>60</td>\n",
       "      <td>C</td>\n",
       "      <td>I</td>\n",
       "    </tr>\n",
       "    <tr>\n",
       "      <th>3</th>\n",
       "      <td>7</td>\n",
       "      <td>8</td>\n",
       "      <td>9</td>\n",
       "      <td>C</td>\n",
       "      <td>I</td>\n",
       "      <td>10</td>\n",
       "      <td>20</td>\n",
       "      <td>30</td>\n",
       "      <td>A</td>\n",
       "      <td>Q</td>\n",
       "    </tr>\n",
       "  </tbody>\n",
       "</table>\n",
       "</div>"
      ],
      "text/plain": [
       "   Col 1 Original  Col 2 Original  Col 3 Original coluna em comum Original  \\\n",
       "1               1               2               3                        A   \n",
       "3               7               8               9                        C   \n",
       "\n",
       "  coluna em comum 2 Original  Col 1  Col 2  Col 3 coluna em comum  \\\n",
       "1                          X     40     50     60               C   \n",
       "3                          I     10     20     30               A   \n",
       "\n",
       "  coluna em comum 2  \n",
       "1                 I  \n",
       "3                 Q  "
      ]
     },
     "execution_count": 43,
     "metadata": {},
     "output_type": "execute_result"
    }
   ],
   "source": [
    "data_frame_1.join(data_frame_2, lsuffix=' Original', how=\"inner\")"
   ]
  },
  {
   "cell_type": "code",
   "execution_count": 44,
   "metadata": {
    "ExecuteTime": {
     "end_time": "2020-09-30T12:29:16.376265Z",
     "start_time": "2020-09-30T12:29:16.321689Z"
    },
    "hidden": true
   },
   "outputs": [
    {
     "data": {
      "text/html": [
       "<div>\n",
       "<style scoped>\n",
       "    .dataframe tbody tr th:only-of-type {\n",
       "        vertical-align: middle;\n",
       "    }\n",
       "\n",
       "    .dataframe tbody tr th {\n",
       "        vertical-align: top;\n",
       "    }\n",
       "\n",
       "    .dataframe thead th {\n",
       "        text-align: right;\n",
       "    }\n",
       "</style>\n",
       "<table border=\"1\" class=\"dataframe\">\n",
       "  <thead>\n",
       "    <tr style=\"text-align: right;\">\n",
       "      <th></th>\n",
       "      <th>Col 1 Original</th>\n",
       "      <th>Col 2 Original</th>\n",
       "      <th>Col 3 Original</th>\n",
       "      <th>coluna em comum Original</th>\n",
       "      <th>coluna em comum 2 Original</th>\n",
       "      <th>Col 1</th>\n",
       "      <th>Col 2</th>\n",
       "      <th>Col 3</th>\n",
       "      <th>coluna em comum</th>\n",
       "      <th>coluna em comum 2</th>\n",
       "    </tr>\n",
       "  </thead>\n",
       "  <tbody>\n",
       "    <tr>\n",
       "      <th>1</th>\n",
       "      <td>1.0</td>\n",
       "      <td>2.0</td>\n",
       "      <td>3.0</td>\n",
       "      <td>A</td>\n",
       "      <td>X</td>\n",
       "      <td>40.0</td>\n",
       "      <td>50.0</td>\n",
       "      <td>60.0</td>\n",
       "      <td>C</td>\n",
       "      <td>I</td>\n",
       "    </tr>\n",
       "    <tr>\n",
       "      <th>2</th>\n",
       "      <td>4.0</td>\n",
       "      <td>5.0</td>\n",
       "      <td>6.0</td>\n",
       "      <td>B</td>\n",
       "      <td>O</td>\n",
       "      <td>NaN</td>\n",
       "      <td>NaN</td>\n",
       "      <td>NaN</td>\n",
       "      <td>NaN</td>\n",
       "      <td>NaN</td>\n",
       "    </tr>\n",
       "    <tr>\n",
       "      <th>3</th>\n",
       "      <td>7.0</td>\n",
       "      <td>8.0</td>\n",
       "      <td>9.0</td>\n",
       "      <td>C</td>\n",
       "      <td>I</td>\n",
       "      <td>10.0</td>\n",
       "      <td>20.0</td>\n",
       "      <td>30.0</td>\n",
       "      <td>A</td>\n",
       "      <td>Q</td>\n",
       "    </tr>\n",
       "    <tr>\n",
       "      <th>4</th>\n",
       "      <td>NaN</td>\n",
       "      <td>NaN</td>\n",
       "      <td>NaN</td>\n",
       "      <td>NaN</td>\n",
       "      <td>NaN</td>\n",
       "      <td>70.0</td>\n",
       "      <td>80.0</td>\n",
       "      <td>90.0</td>\n",
       "      <td>B</td>\n",
       "      <td>X</td>\n",
       "    </tr>\n",
       "  </tbody>\n",
       "</table>\n",
       "</div>"
      ],
      "text/plain": [
       "   Col 1 Original  Col 2 Original  Col 3 Original coluna em comum Original  \\\n",
       "1             1.0             2.0             3.0                        A   \n",
       "2             4.0             5.0             6.0                        B   \n",
       "3             7.0             8.0             9.0                        C   \n",
       "4             NaN             NaN             NaN                      NaN   \n",
       "\n",
       "  coluna em comum 2 Original  Col 1  Col 2  Col 3 coluna em comum  \\\n",
       "1                          X   40.0   50.0   60.0               C   \n",
       "2                          O    NaN    NaN    NaN             NaN   \n",
       "3                          I   10.0   20.0   30.0               A   \n",
       "4                        NaN   70.0   80.0   90.0               B   \n",
       "\n",
       "  coluna em comum 2  \n",
       "1                 I  \n",
       "2               NaN  \n",
       "3                 Q  \n",
       "4                 X  "
      ]
     },
     "execution_count": 44,
     "metadata": {},
     "output_type": "execute_result"
    }
   ],
   "source": [
    "data_frame_1.join(data_frame_2, lsuffix=' Original', how=\"outer\")"
   ]
  },
  {
   "cell_type": "markdown",
   "metadata": {},
   "source": [
    "##  Operações"
   ]
  },
  {
   "cell_type": "markdown",
   "metadata": {},
   "source": [
    "### unique\n",
    "\n",
    "O método [`unique`](https://pandas.pydata.org/pandas-docs/stable/reference/api/pandas.unique.html) mostra os valores únicos contidos numa `Series`. Esses valores são mostrados em ordem de ocorrência. A sintaxe para utilizar este método é:\n",
    "\n",
    "```python\n",
    "pandas.unique(values)\n",
    "```"
   ]
  },
  {
   "cell_type": "code",
   "execution_count": 45,
   "metadata": {
    "ExecuteTime": {
     "end_time": "2020-09-30T12:31:06.956217Z",
     "start_time": "2020-09-30T12:31:06.940025Z"
    }
   },
   "outputs": [
    {
     "data": {
      "text/plain": [
       "array([-2, -8, -6, nan, 6, 7, -10, -7, 8], dtype=object)"
      ]
     },
     "execution_count": 45,
     "metadata": {},
     "output_type": "execute_result"
    }
   ],
   "source": [
    "# Forma de ser usado 1\n",
    "data_frame_nan[\"Col_1\"].unique()"
   ]
  },
  {
   "cell_type": "code",
   "execution_count": 46,
   "metadata": {
    "ExecuteTime": {
     "end_time": "2020-09-30T12:31:09.984573Z",
     "start_time": "2020-09-30T12:31:09.950280Z"
    }
   },
   "outputs": [
    {
     "data": {
      "text/html": [
       "<div>\n",
       "<style scoped>\n",
       "    .dataframe tbody tr th:only-of-type {\n",
       "        vertical-align: middle;\n",
       "    }\n",
       "\n",
       "    .dataframe tbody tr th {\n",
       "        vertical-align: top;\n",
       "    }\n",
       "\n",
       "    .dataframe thead th {\n",
       "        text-align: right;\n",
       "    }\n",
       "</style>\n",
       "<table border=\"1\" class=\"dataframe\">\n",
       "  <thead>\n",
       "    <tr style=\"text-align: right;\">\n",
       "      <th></th>\n",
       "      <th>Col_1</th>\n",
       "      <th>Col_2</th>\n",
       "      <th>Col_3</th>\n",
       "      <th>Col_4</th>\n",
       "      <th>Col_5</th>\n",
       "      <th>Col_6</th>\n",
       "      <th>Col_7</th>\n",
       "      <th>Col_8</th>\n",
       "      <th>Col_9</th>\n",
       "      <th>Col_10</th>\n",
       "    </tr>\n",
       "  </thead>\n",
       "  <tbody>\n",
       "    <tr>\n",
       "      <th>Row_1</th>\n",
       "      <td>-2</td>\n",
       "      <td>-7</td>\n",
       "      <td>NaN</td>\n",
       "      <td>5</td>\n",
       "      <td>6</td>\n",
       "      <td>0</td>\n",
       "      <td>-8</td>\n",
       "      <td>-8</td>\n",
       "      <td>-8</td>\n",
       "      <td>4</td>\n",
       "    </tr>\n",
       "    <tr>\n",
       "      <th>Row_2</th>\n",
       "      <td>-8</td>\n",
       "      <td>7</td>\n",
       "      <td>6</td>\n",
       "      <td>NaN</td>\n",
       "      <td>-6</td>\n",
       "      <td>1</td>\n",
       "      <td>6</td>\n",
       "      <td>-1</td>\n",
       "      <td>-8</td>\n",
       "      <td>NaN</td>\n",
       "    </tr>\n",
       "    <tr>\n",
       "      <th>Row_3</th>\n",
       "      <td>-6</td>\n",
       "      <td>-9</td>\n",
       "      <td>3</td>\n",
       "      <td>9</td>\n",
       "      <td>-6</td>\n",
       "      <td>-6</td>\n",
       "      <td>-7</td>\n",
       "      <td>-3</td>\n",
       "      <td>7</td>\n",
       "      <td>5</td>\n",
       "    </tr>\n",
       "    <tr>\n",
       "      <th>Row_4</th>\n",
       "      <td>NaN</td>\n",
       "      <td>NaN</td>\n",
       "      <td>NaN</td>\n",
       "      <td>6</td>\n",
       "      <td>-8</td>\n",
       "      <td>NaN</td>\n",
       "      <td>9</td>\n",
       "      <td>-8</td>\n",
       "      <td>4</td>\n",
       "      <td>7</td>\n",
       "    </tr>\n",
       "    <tr>\n",
       "      <th>Row_5</th>\n",
       "      <td>6</td>\n",
       "      <td>5</td>\n",
       "      <td>-3</td>\n",
       "      <td>3</td>\n",
       "      <td>NaN</td>\n",
       "      <td>2</td>\n",
       "      <td>8</td>\n",
       "      <td>-10</td>\n",
       "      <td>-8</td>\n",
       "      <td>0</td>\n",
       "    </tr>\n",
       "    <tr>\n",
       "      <th>Row_6</th>\n",
       "      <td>7</td>\n",
       "      <td>NaN</td>\n",
       "      <td>3</td>\n",
       "      <td>0</td>\n",
       "      <td>NaN</td>\n",
       "      <td>NaN</td>\n",
       "      <td>8</td>\n",
       "      <td>-2</td>\n",
       "      <td>9</td>\n",
       "      <td>4</td>\n",
       "    </tr>\n",
       "    <tr>\n",
       "      <th>Row_7</th>\n",
       "      <td>-10</td>\n",
       "      <td>NaN</td>\n",
       "      <td>2</td>\n",
       "      <td>0</td>\n",
       "      <td>NaN</td>\n",
       "      <td>-4</td>\n",
       "      <td>NaN</td>\n",
       "      <td>5</td>\n",
       "      <td>0</td>\n",
       "      <td>NaN</td>\n",
       "    </tr>\n",
       "    <tr>\n",
       "      <th>Row_8</th>\n",
       "      <td>-7</td>\n",
       "      <td>NaN</td>\n",
       "      <td>6</td>\n",
       "      <td>1</td>\n",
       "      <td>-6</td>\n",
       "      <td>-5</td>\n",
       "      <td>-3</td>\n",
       "      <td>-4</td>\n",
       "      <td>-8</td>\n",
       "      <td>0</td>\n",
       "    </tr>\n",
       "    <tr>\n",
       "      <th>Row_9</th>\n",
       "      <td>8</td>\n",
       "      <td>NaN</td>\n",
       "      <td>2</td>\n",
       "      <td>-9</td>\n",
       "      <td>-4</td>\n",
       "      <td>0</td>\n",
       "      <td>-10</td>\n",
       "      <td>-8</td>\n",
       "      <td>9</td>\n",
       "      <td>-6</td>\n",
       "    </tr>\n",
       "    <tr>\n",
       "      <th>Row_10</th>\n",
       "      <td>8</td>\n",
       "      <td>NaN</td>\n",
       "      <td>NaN</td>\n",
       "      <td>-1</td>\n",
       "      <td>NaN</td>\n",
       "      <td>6</td>\n",
       "      <td>-4</td>\n",
       "      <td>-5</td>\n",
       "      <td>NaN</td>\n",
       "      <td>NaN</td>\n",
       "    </tr>\n",
       "  </tbody>\n",
       "</table>\n",
       "</div>"
      ],
      "text/plain": [
       "       Col_1 Col_2 Col_3 Col_4 Col_5 Col_6 Col_7 Col_8 Col_9 Col_10\n",
       "Row_1     -2    -7   NaN     5     6     0    -8    -8    -8      4\n",
       "Row_2     -8     7     6   NaN    -6     1     6    -1    -8    NaN\n",
       "Row_3     -6    -9     3     9    -6    -6    -7    -3     7      5\n",
       "Row_4    NaN   NaN   NaN     6    -8   NaN     9    -8     4      7\n",
       "Row_5      6     5    -3     3   NaN     2     8   -10    -8      0\n",
       "Row_6      7   NaN     3     0   NaN   NaN     8    -2     9      4\n",
       "Row_7    -10   NaN     2     0   NaN    -4   NaN     5     0    NaN\n",
       "Row_8     -7   NaN     6     1    -6    -5    -3    -4    -8      0\n",
       "Row_9      8   NaN     2    -9    -4     0   -10    -8     9     -6\n",
       "Row_10     8   NaN   NaN    -1   NaN     6    -4    -5   NaN    NaN"
      ]
     },
     "execution_count": 46,
     "metadata": {},
     "output_type": "execute_result"
    }
   ],
   "source": [
    "data_frame_nan"
   ]
  },
  {
   "cell_type": "code",
   "execution_count": 48,
   "metadata": {
    "ExecuteTime": {
     "end_time": "2020-09-30T12:32:34.647828Z",
     "start_time": "2020-09-30T12:32:34.624897Z"
    }
   },
   "outputs": [
    {
     "data": {
      "text/plain": [
       "array([-2, -8, -6, nan, 6, 7, -10, -7, 8], dtype=object)"
      ]
     },
     "execution_count": 48,
     "metadata": {},
     "output_type": "execute_result"
    }
   ],
   "source": [
    "# Forma de ser usado 2\n",
    "pd.unique(data_frame_nan[\"Col_1\"])"
   ]
  },
  {
   "cell_type": "markdown",
   "metadata": {
    "heading_collapsed": true
   },
   "source": [
    "### nunique\n",
    "O método [`nunique`](https://pandas.pydata.org/pandas-docs/stable/reference/api/pandas.DataFrame.nunique.html) retorna o quantidades de ocorrências únicas numa `Series`. A sintaxe para utilizar esse método é:\n",
    "```python\n",
    "DataFrame.nunique(axis=0, dropna=True)\n",
    "```"
   ]
  },
  {
   "cell_type": "code",
   "execution_count": 49,
   "metadata": {
    "ExecuteTime": {
     "end_time": "2020-09-30T12:32:53.653083Z",
     "start_time": "2020-09-30T12:32:53.595612Z"
    },
    "hidden": true
   },
   "outputs": [
    {
     "data": {
      "text/html": [
       "<div>\n",
       "<style scoped>\n",
       "    .dataframe tbody tr th:only-of-type {\n",
       "        vertical-align: middle;\n",
       "    }\n",
       "\n",
       "    .dataframe tbody tr th {\n",
       "        vertical-align: top;\n",
       "    }\n",
       "\n",
       "    .dataframe thead th {\n",
       "        text-align: right;\n",
       "    }\n",
       "</style>\n",
       "<table border=\"1\" class=\"dataframe\">\n",
       "  <thead>\n",
       "    <tr style=\"text-align: right;\">\n",
       "      <th></th>\n",
       "      <th>Col_1</th>\n",
       "      <th>Col_2</th>\n",
       "      <th>Col_3</th>\n",
       "      <th>Col_4</th>\n",
       "      <th>Col_5</th>\n",
       "      <th>Col_6</th>\n",
       "      <th>Col_7</th>\n",
       "      <th>Col_8</th>\n",
       "      <th>Col_9</th>\n",
       "      <th>Col_10</th>\n",
       "    </tr>\n",
       "  </thead>\n",
       "  <tbody>\n",
       "    <tr>\n",
       "      <th>Row_1</th>\n",
       "      <td>-2</td>\n",
       "      <td>-7</td>\n",
       "      <td>NaN</td>\n",
       "      <td>5</td>\n",
       "      <td>6</td>\n",
       "      <td>0</td>\n",
       "      <td>-8</td>\n",
       "      <td>-8</td>\n",
       "      <td>-8</td>\n",
       "      <td>4</td>\n",
       "    </tr>\n",
       "    <tr>\n",
       "      <th>Row_2</th>\n",
       "      <td>-8</td>\n",
       "      <td>7</td>\n",
       "      <td>6</td>\n",
       "      <td>NaN</td>\n",
       "      <td>-6</td>\n",
       "      <td>1</td>\n",
       "      <td>6</td>\n",
       "      <td>-1</td>\n",
       "      <td>-8</td>\n",
       "      <td>NaN</td>\n",
       "    </tr>\n",
       "    <tr>\n",
       "      <th>Row_3</th>\n",
       "      <td>-6</td>\n",
       "      <td>-9</td>\n",
       "      <td>3</td>\n",
       "      <td>9</td>\n",
       "      <td>-6</td>\n",
       "      <td>-6</td>\n",
       "      <td>-7</td>\n",
       "      <td>-3</td>\n",
       "      <td>7</td>\n",
       "      <td>5</td>\n",
       "    </tr>\n",
       "    <tr>\n",
       "      <th>Row_4</th>\n",
       "      <td>NaN</td>\n",
       "      <td>NaN</td>\n",
       "      <td>NaN</td>\n",
       "      <td>6</td>\n",
       "      <td>-8</td>\n",
       "      <td>NaN</td>\n",
       "      <td>9</td>\n",
       "      <td>-8</td>\n",
       "      <td>4</td>\n",
       "      <td>7</td>\n",
       "    </tr>\n",
       "    <tr>\n",
       "      <th>Row_5</th>\n",
       "      <td>6</td>\n",
       "      <td>5</td>\n",
       "      <td>-3</td>\n",
       "      <td>3</td>\n",
       "      <td>NaN</td>\n",
       "      <td>2</td>\n",
       "      <td>8</td>\n",
       "      <td>-10</td>\n",
       "      <td>-8</td>\n",
       "      <td>0</td>\n",
       "    </tr>\n",
       "    <tr>\n",
       "      <th>Row_6</th>\n",
       "      <td>7</td>\n",
       "      <td>NaN</td>\n",
       "      <td>3</td>\n",
       "      <td>0</td>\n",
       "      <td>NaN</td>\n",
       "      <td>NaN</td>\n",
       "      <td>8</td>\n",
       "      <td>-2</td>\n",
       "      <td>9</td>\n",
       "      <td>4</td>\n",
       "    </tr>\n",
       "    <tr>\n",
       "      <th>Row_7</th>\n",
       "      <td>-10</td>\n",
       "      <td>NaN</td>\n",
       "      <td>2</td>\n",
       "      <td>0</td>\n",
       "      <td>NaN</td>\n",
       "      <td>-4</td>\n",
       "      <td>NaN</td>\n",
       "      <td>5</td>\n",
       "      <td>0</td>\n",
       "      <td>NaN</td>\n",
       "    </tr>\n",
       "    <tr>\n",
       "      <th>Row_8</th>\n",
       "      <td>-7</td>\n",
       "      <td>NaN</td>\n",
       "      <td>6</td>\n",
       "      <td>1</td>\n",
       "      <td>-6</td>\n",
       "      <td>-5</td>\n",
       "      <td>-3</td>\n",
       "      <td>-4</td>\n",
       "      <td>-8</td>\n",
       "      <td>0</td>\n",
       "    </tr>\n",
       "    <tr>\n",
       "      <th>Row_9</th>\n",
       "      <td>8</td>\n",
       "      <td>NaN</td>\n",
       "      <td>2</td>\n",
       "      <td>-9</td>\n",
       "      <td>-4</td>\n",
       "      <td>0</td>\n",
       "      <td>-10</td>\n",
       "      <td>-8</td>\n",
       "      <td>9</td>\n",
       "      <td>-6</td>\n",
       "    </tr>\n",
       "    <tr>\n",
       "      <th>Row_10</th>\n",
       "      <td>8</td>\n",
       "      <td>NaN</td>\n",
       "      <td>NaN</td>\n",
       "      <td>-1</td>\n",
       "      <td>NaN</td>\n",
       "      <td>6</td>\n",
       "      <td>-4</td>\n",
       "      <td>-5</td>\n",
       "      <td>NaN</td>\n",
       "      <td>NaN</td>\n",
       "    </tr>\n",
       "  </tbody>\n",
       "</table>\n",
       "</div>"
      ],
      "text/plain": [
       "       Col_1 Col_2 Col_3 Col_4 Col_5 Col_6 Col_7 Col_8 Col_9 Col_10\n",
       "Row_1     -2    -7   NaN     5     6     0    -8    -8    -8      4\n",
       "Row_2     -8     7     6   NaN    -6     1     6    -1    -8    NaN\n",
       "Row_3     -6    -9     3     9    -6    -6    -7    -3     7      5\n",
       "Row_4    NaN   NaN   NaN     6    -8   NaN     9    -8     4      7\n",
       "Row_5      6     5    -3     3   NaN     2     8   -10    -8      0\n",
       "Row_6      7   NaN     3     0   NaN   NaN     8    -2     9      4\n",
       "Row_7    -10   NaN     2     0   NaN    -4   NaN     5     0    NaN\n",
       "Row_8     -7   NaN     6     1    -6    -5    -3    -4    -8      0\n",
       "Row_9      8   NaN     2    -9    -4     0   -10    -8     9     -6\n",
       "Row_10     8   NaN   NaN    -1   NaN     6    -4    -5   NaN    NaN"
      ]
     },
     "execution_count": 49,
     "metadata": {},
     "output_type": "execute_result"
    }
   ],
   "source": [
    "data_frame_nan"
   ]
  },
  {
   "cell_type": "code",
   "execution_count": 50,
   "metadata": {
    "ExecuteTime": {
     "end_time": "2020-09-30T12:32:56.374304Z",
     "start_time": "2020-09-30T12:32:56.361575Z"
    },
    "hidden": true
   },
   "outputs": [
    {
     "data": {
      "text/plain": [
       "Col_1     8\n",
       "Col_2     4\n",
       "Col_3     4\n",
       "Col_4     8\n",
       "Col_5     4\n",
       "Col_6     7\n",
       "Col_7     8\n",
       "Col_8     8\n",
       "Col_9     5\n",
       "Col_10    5\n",
       "dtype: int64"
      ]
     },
     "execution_count": 50,
     "metadata": {},
     "output_type": "execute_result"
    }
   ],
   "source": [
    "# Utilizando função sem passar nenhum tipo de parâmetro\n",
    "data_frame_nan.nunique()\n",
    "# Observemos que os valores Nan não são considerados"
   ]
  },
  {
   "cell_type": "code",
   "execution_count": 53,
   "metadata": {
    "ExecuteTime": {
     "end_time": "2020-09-30T12:35:19.999131Z",
     "start_time": "2020-09-30T12:35:19.979493Z"
    },
    "hidden": true
   },
   "outputs": [
    {
     "data": {
      "text/plain": [
       "Col_1     9\n",
       "Col_2     5\n",
       "Col_3     5\n",
       "Col_4     9\n",
       "Col_5     5\n",
       "Col_6     8\n",
       "Col_7     9\n",
       "Col_8     8\n",
       "Col_9     6\n",
       "Col_10    6\n",
       "dtype: int64"
      ]
     },
     "execution_count": 53,
     "metadata": {},
     "output_type": "execute_result"
    }
   ],
   "source": [
    "# Utilizando utilizando o parâmetro dropna\n",
    "data_frame_nan.nunique(dropna=False)\n",
    "# Observemos que os valores Nan são considerados"
   ]
  },
  {
   "cell_type": "code",
   "execution_count": 54,
   "metadata": {
    "ExecuteTime": {
     "end_time": "2020-09-30T12:35:24.293838Z",
     "start_time": "2020-09-30T12:35:24.284808Z"
    },
    "hidden": true
   },
   "outputs": [
    {
     "data": {
      "text/plain": [
       "Row_1      8\n",
       "Row_2      7\n",
       "Row_3      8\n",
       "Row_4      6\n",
       "Row_5     10\n",
       "Row_6      8\n",
       "Row_7      6\n",
       "Row_8     10\n",
       "Row_9     10\n",
       "Row_10     6\n",
       "dtype: int64"
      ]
     },
     "execution_count": 54,
     "metadata": {},
     "output_type": "execute_result"
    }
   ],
   "source": [
    "# Utilizando utilizando o parâmetro axis\n",
    "data_frame_nan.nunique(axis=1, dropna=False)"
   ]
  },
  {
   "cell_type": "markdown",
   "metadata": {
    "heading_collapsed": true
   },
   "source": [
    "### value_counts\n",
    "A função [`value_counts`](https://pandas.pydata.org/pandas-docs/stable/reference/api/pandas.Series.value_counts.html) retorna uma `Series` com todos os valores e o número de ocorrências de cada valor. A sintaxe para utilizar essa função é\n",
    "```python\n",
    "Series.value_counts(normalize=False, sort=True, ascending=False, bins=None, dropna=True)\n",
    "```"
   ]
  },
  {
   "cell_type": "code",
   "execution_count": 55,
   "metadata": {
    "ExecuteTime": {
     "end_time": "2020-09-30T12:36:07.551033Z",
     "start_time": "2020-09-30T12:36:07.541259Z"
    },
    "hidden": true
   },
   "outputs": [
    {
     "data": {
      "text/plain": [
       " 8     2\n",
       "-2     1\n",
       "-6     1\n",
       "-7     1\n",
       "-8     1\n",
       " 7     1\n",
       " 6     1\n",
       "-10    1\n",
       "Name: Col_1, dtype: int64"
      ]
     },
     "execution_count": 55,
     "metadata": {},
     "output_type": "execute_result"
    }
   ],
   "source": [
    "#  Utilizando a função com o parâmetro sort\n",
    "data_frame_nan[\"Col_1\"].value_counts()"
   ]
  },
  {
   "cell_type": "code",
   "execution_count": 62,
   "metadata": {
    "ExecuteTime": {
     "end_time": "2020-09-30T12:37:39.117216Z",
     "start_time": "2020-09-30T12:37:39.090856Z"
    },
    "hidden": true
   },
   "outputs": [
    {
     "data": {
      "text/plain": [
       " 6    0.285714\n",
       " 3    0.285714\n",
       " 2    0.285714\n",
       "-3    0.142857\n",
       "Name: Col_3, dtype: float64"
      ]
     },
     "execution_count": 62,
     "metadata": {},
     "output_type": "execute_result"
    }
   ],
   "source": [
    "# Utilizando a função com o parâmetro sort e normalize\n",
    "data_frame_nan[\"Col_3\"].value_counts(sort=True, normalize=True)"
   ]
  },
  {
   "cell_type": "code",
   "execution_count": 66,
   "metadata": {
    "ExecuteTime": {
     "end_time": "2020-09-30T12:38:30.137301Z",
     "start_time": "2020-09-30T12:38:30.123120Z"
    },
    "hidden": true
   },
   "outputs": [
    {
     "data": {
      "text/plain": [
       " NaN    0.3\n",
       " 6.0    0.2\n",
       " 3.0    0.2\n",
       " 2.0    0.2\n",
       "-3.0    0.1\n",
       "Name: Col_3, dtype: float64"
      ]
     },
     "execution_count": 66,
     "metadata": {},
     "output_type": "execute_result"
    }
   ],
   "source": [
    "# Utilizando a função com o parâmetro sort, normalize, dropna\n",
    "data_frame_nan[\"Col_3\"].value_counts(sort=True, normalize=True, dropna=False)"
   ]
  },
  {
   "cell_type": "code",
   "execution_count": null,
   "metadata": {
    "hidden": true
   },
   "outputs": [],
   "source": [
    "# Utilizando a função com argumento sort nenhum tipo de parâmetro\n",
    "data_frame_nan[\"Col_3\"].value_counts(sort=True)"
   ]
  },
  {
   "cell_type": "markdown",
   "metadata": {},
   "source": [
    "### del\n",
    "\n",
    "`del` não é uma função ou método próprio de Pandas. Porém podemos usar ele para eliminar colunas de forma rápida. A sintaxe para realizar isso é:\n",
    "```python\n",
    "del nome_DataFrame[‘Nome_da_coluna_a_ser_eliminada’]\n",
    "```"
   ]
  },
  {
   "cell_type": "code",
   "execution_count": 67,
   "metadata": {
    "ExecuteTime": {
     "end_time": "2020-09-30T12:38:56.917159Z",
     "start_time": "2020-09-30T12:38:56.889171Z"
    }
   },
   "outputs": [
    {
     "data": {
      "text/html": [
       "<div>\n",
       "<style scoped>\n",
       "    .dataframe tbody tr th:only-of-type {\n",
       "        vertical-align: middle;\n",
       "    }\n",
       "\n",
       "    .dataframe tbody tr th {\n",
       "        vertical-align: top;\n",
       "    }\n",
       "\n",
       "    .dataframe thead th {\n",
       "        text-align: right;\n",
       "    }\n",
       "</style>\n",
       "<table border=\"1\" class=\"dataframe\">\n",
       "  <thead>\n",
       "    <tr style=\"text-align: right;\">\n",
       "      <th></th>\n",
       "      <th>Col_1</th>\n",
       "      <th>Col_2</th>\n",
       "      <th>Col_3</th>\n",
       "      <th>Col_4</th>\n",
       "      <th>Col_5</th>\n",
       "      <th>Col_6</th>\n",
       "      <th>Col_7</th>\n",
       "      <th>Col_8</th>\n",
       "      <th>Col_9</th>\n",
       "      <th>Col_10</th>\n",
       "    </tr>\n",
       "  </thead>\n",
       "  <tbody>\n",
       "    <tr>\n",
       "      <th>Row_1</th>\n",
       "      <td>-2</td>\n",
       "      <td>-7</td>\n",
       "      <td>NaN</td>\n",
       "      <td>5</td>\n",
       "      <td>6</td>\n",
       "      <td>0</td>\n",
       "      <td>-8</td>\n",
       "      <td>-8</td>\n",
       "      <td>-8</td>\n",
       "      <td>4</td>\n",
       "    </tr>\n",
       "    <tr>\n",
       "      <th>Row_2</th>\n",
       "      <td>-8</td>\n",
       "      <td>7</td>\n",
       "      <td>6</td>\n",
       "      <td>NaN</td>\n",
       "      <td>-6</td>\n",
       "      <td>1</td>\n",
       "      <td>6</td>\n",
       "      <td>-1</td>\n",
       "      <td>-8</td>\n",
       "      <td>NaN</td>\n",
       "    </tr>\n",
       "    <tr>\n",
       "      <th>Row_3</th>\n",
       "      <td>-6</td>\n",
       "      <td>-9</td>\n",
       "      <td>3</td>\n",
       "      <td>9</td>\n",
       "      <td>-6</td>\n",
       "      <td>-6</td>\n",
       "      <td>-7</td>\n",
       "      <td>-3</td>\n",
       "      <td>7</td>\n",
       "      <td>5</td>\n",
       "    </tr>\n",
       "    <tr>\n",
       "      <th>Row_4</th>\n",
       "      <td>NaN</td>\n",
       "      <td>NaN</td>\n",
       "      <td>NaN</td>\n",
       "      <td>6</td>\n",
       "      <td>-8</td>\n",
       "      <td>NaN</td>\n",
       "      <td>9</td>\n",
       "      <td>-8</td>\n",
       "      <td>4</td>\n",
       "      <td>7</td>\n",
       "    </tr>\n",
       "    <tr>\n",
       "      <th>Row_5</th>\n",
       "      <td>6</td>\n",
       "      <td>5</td>\n",
       "      <td>-3</td>\n",
       "      <td>3</td>\n",
       "      <td>NaN</td>\n",
       "      <td>2</td>\n",
       "      <td>8</td>\n",
       "      <td>-10</td>\n",
       "      <td>-8</td>\n",
       "      <td>0</td>\n",
       "    </tr>\n",
       "    <tr>\n",
       "      <th>Row_6</th>\n",
       "      <td>7</td>\n",
       "      <td>NaN</td>\n",
       "      <td>3</td>\n",
       "      <td>0</td>\n",
       "      <td>NaN</td>\n",
       "      <td>NaN</td>\n",
       "      <td>8</td>\n",
       "      <td>-2</td>\n",
       "      <td>9</td>\n",
       "      <td>4</td>\n",
       "    </tr>\n",
       "    <tr>\n",
       "      <th>Row_7</th>\n",
       "      <td>-10</td>\n",
       "      <td>NaN</td>\n",
       "      <td>2</td>\n",
       "      <td>0</td>\n",
       "      <td>NaN</td>\n",
       "      <td>-4</td>\n",
       "      <td>NaN</td>\n",
       "      <td>5</td>\n",
       "      <td>0</td>\n",
       "      <td>NaN</td>\n",
       "    </tr>\n",
       "    <tr>\n",
       "      <th>Row_8</th>\n",
       "      <td>-7</td>\n",
       "      <td>NaN</td>\n",
       "      <td>6</td>\n",
       "      <td>1</td>\n",
       "      <td>-6</td>\n",
       "      <td>-5</td>\n",
       "      <td>-3</td>\n",
       "      <td>-4</td>\n",
       "      <td>-8</td>\n",
       "      <td>0</td>\n",
       "    </tr>\n",
       "    <tr>\n",
       "      <th>Row_9</th>\n",
       "      <td>8</td>\n",
       "      <td>NaN</td>\n",
       "      <td>2</td>\n",
       "      <td>-9</td>\n",
       "      <td>-4</td>\n",
       "      <td>0</td>\n",
       "      <td>-10</td>\n",
       "      <td>-8</td>\n",
       "      <td>9</td>\n",
       "      <td>-6</td>\n",
       "    </tr>\n",
       "    <tr>\n",
       "      <th>Row_10</th>\n",
       "      <td>8</td>\n",
       "      <td>NaN</td>\n",
       "      <td>NaN</td>\n",
       "      <td>-1</td>\n",
       "      <td>NaN</td>\n",
       "      <td>6</td>\n",
       "      <td>-4</td>\n",
       "      <td>-5</td>\n",
       "      <td>NaN</td>\n",
       "      <td>NaN</td>\n",
       "    </tr>\n",
       "  </tbody>\n",
       "</table>\n",
       "</div>"
      ],
      "text/plain": [
       "       Col_1 Col_2 Col_3 Col_4 Col_5 Col_6 Col_7 Col_8 Col_9 Col_10\n",
       "Row_1     -2    -7   NaN     5     6     0    -8    -8    -8      4\n",
       "Row_2     -8     7     6   NaN    -6     1     6    -1    -8    NaN\n",
       "Row_3     -6    -9     3     9    -6    -6    -7    -3     7      5\n",
       "Row_4    NaN   NaN   NaN     6    -8   NaN     9    -8     4      7\n",
       "Row_5      6     5    -3     3   NaN     2     8   -10    -8      0\n",
       "Row_6      7   NaN     3     0   NaN   NaN     8    -2     9      4\n",
       "Row_7    -10   NaN     2     0   NaN    -4   NaN     5     0    NaN\n",
       "Row_8     -7   NaN     6     1    -6    -5    -3    -4    -8      0\n",
       "Row_9      8   NaN     2    -9    -4     0   -10    -8     9     -6\n",
       "Row_10     8   NaN   NaN    -1   NaN     6    -4    -5   NaN    NaN"
      ]
     },
     "execution_count": 67,
     "metadata": {},
     "output_type": "execute_result"
    }
   ],
   "source": [
    "data_frame_nan"
   ]
  },
  {
   "cell_type": "code",
   "execution_count": 68,
   "metadata": {
    "ExecuteTime": {
     "end_time": "2020-09-30T12:39:09.754267Z",
     "start_time": "2020-09-30T12:39:09.745861Z"
    }
   },
   "outputs": [],
   "source": [
    "del data_frame_nan[\"Col_6\"]"
   ]
  },
  {
   "cell_type": "code",
   "execution_count": 69,
   "metadata": {
    "ExecuteTime": {
     "end_time": "2020-09-30T12:39:13.238986Z",
     "start_time": "2020-09-30T12:39:13.205468Z"
    }
   },
   "outputs": [
    {
     "data": {
      "text/html": [
       "<div>\n",
       "<style scoped>\n",
       "    .dataframe tbody tr th:only-of-type {\n",
       "        vertical-align: middle;\n",
       "    }\n",
       "\n",
       "    .dataframe tbody tr th {\n",
       "        vertical-align: top;\n",
       "    }\n",
       "\n",
       "    .dataframe thead th {\n",
       "        text-align: right;\n",
       "    }\n",
       "</style>\n",
       "<table border=\"1\" class=\"dataframe\">\n",
       "  <thead>\n",
       "    <tr style=\"text-align: right;\">\n",
       "      <th></th>\n",
       "      <th>Col_1</th>\n",
       "      <th>Col_2</th>\n",
       "      <th>Col_3</th>\n",
       "      <th>Col_4</th>\n",
       "      <th>Col_5</th>\n",
       "      <th>Col_7</th>\n",
       "      <th>Col_8</th>\n",
       "      <th>Col_9</th>\n",
       "      <th>Col_10</th>\n",
       "    </tr>\n",
       "  </thead>\n",
       "  <tbody>\n",
       "    <tr>\n",
       "      <th>Row_1</th>\n",
       "      <td>-2</td>\n",
       "      <td>-7</td>\n",
       "      <td>NaN</td>\n",
       "      <td>5</td>\n",
       "      <td>6</td>\n",
       "      <td>-8</td>\n",
       "      <td>-8</td>\n",
       "      <td>-8</td>\n",
       "      <td>4</td>\n",
       "    </tr>\n",
       "    <tr>\n",
       "      <th>Row_2</th>\n",
       "      <td>-8</td>\n",
       "      <td>7</td>\n",
       "      <td>6</td>\n",
       "      <td>NaN</td>\n",
       "      <td>-6</td>\n",
       "      <td>6</td>\n",
       "      <td>-1</td>\n",
       "      <td>-8</td>\n",
       "      <td>NaN</td>\n",
       "    </tr>\n",
       "    <tr>\n",
       "      <th>Row_3</th>\n",
       "      <td>-6</td>\n",
       "      <td>-9</td>\n",
       "      <td>3</td>\n",
       "      <td>9</td>\n",
       "      <td>-6</td>\n",
       "      <td>-7</td>\n",
       "      <td>-3</td>\n",
       "      <td>7</td>\n",
       "      <td>5</td>\n",
       "    </tr>\n",
       "    <tr>\n",
       "      <th>Row_4</th>\n",
       "      <td>NaN</td>\n",
       "      <td>NaN</td>\n",
       "      <td>NaN</td>\n",
       "      <td>6</td>\n",
       "      <td>-8</td>\n",
       "      <td>9</td>\n",
       "      <td>-8</td>\n",
       "      <td>4</td>\n",
       "      <td>7</td>\n",
       "    </tr>\n",
       "    <tr>\n",
       "      <th>Row_5</th>\n",
       "      <td>6</td>\n",
       "      <td>5</td>\n",
       "      <td>-3</td>\n",
       "      <td>3</td>\n",
       "      <td>NaN</td>\n",
       "      <td>8</td>\n",
       "      <td>-10</td>\n",
       "      <td>-8</td>\n",
       "      <td>0</td>\n",
       "    </tr>\n",
       "    <tr>\n",
       "      <th>Row_6</th>\n",
       "      <td>7</td>\n",
       "      <td>NaN</td>\n",
       "      <td>3</td>\n",
       "      <td>0</td>\n",
       "      <td>NaN</td>\n",
       "      <td>8</td>\n",
       "      <td>-2</td>\n",
       "      <td>9</td>\n",
       "      <td>4</td>\n",
       "    </tr>\n",
       "    <tr>\n",
       "      <th>Row_7</th>\n",
       "      <td>-10</td>\n",
       "      <td>NaN</td>\n",
       "      <td>2</td>\n",
       "      <td>0</td>\n",
       "      <td>NaN</td>\n",
       "      <td>NaN</td>\n",
       "      <td>5</td>\n",
       "      <td>0</td>\n",
       "      <td>NaN</td>\n",
       "    </tr>\n",
       "    <tr>\n",
       "      <th>Row_8</th>\n",
       "      <td>-7</td>\n",
       "      <td>NaN</td>\n",
       "      <td>6</td>\n",
       "      <td>1</td>\n",
       "      <td>-6</td>\n",
       "      <td>-3</td>\n",
       "      <td>-4</td>\n",
       "      <td>-8</td>\n",
       "      <td>0</td>\n",
       "    </tr>\n",
       "    <tr>\n",
       "      <th>Row_9</th>\n",
       "      <td>8</td>\n",
       "      <td>NaN</td>\n",
       "      <td>2</td>\n",
       "      <td>-9</td>\n",
       "      <td>-4</td>\n",
       "      <td>-10</td>\n",
       "      <td>-8</td>\n",
       "      <td>9</td>\n",
       "      <td>-6</td>\n",
       "    </tr>\n",
       "    <tr>\n",
       "      <th>Row_10</th>\n",
       "      <td>8</td>\n",
       "      <td>NaN</td>\n",
       "      <td>NaN</td>\n",
       "      <td>-1</td>\n",
       "      <td>NaN</td>\n",
       "      <td>-4</td>\n",
       "      <td>-5</td>\n",
       "      <td>NaN</td>\n",
       "      <td>NaN</td>\n",
       "    </tr>\n",
       "  </tbody>\n",
       "</table>\n",
       "</div>"
      ],
      "text/plain": [
       "       Col_1 Col_2 Col_3 Col_4 Col_5 Col_7 Col_8 Col_9 Col_10\n",
       "Row_1     -2    -7   NaN     5     6    -8    -8    -8      4\n",
       "Row_2     -8     7     6   NaN    -6     6    -1    -8    NaN\n",
       "Row_3     -6    -9     3     9    -6    -7    -3     7      5\n",
       "Row_4    NaN   NaN   NaN     6    -8     9    -8     4      7\n",
       "Row_5      6     5    -3     3   NaN     8   -10    -8      0\n",
       "Row_6      7   NaN     3     0   NaN     8    -2     9      4\n",
       "Row_7    -10   NaN     2     0   NaN   NaN     5     0    NaN\n",
       "Row_8     -7   NaN     6     1    -6    -3    -4    -8      0\n",
       "Row_9      8   NaN     2    -9    -4   -10    -8     9     -6\n",
       "Row_10     8   NaN   NaN    -1   NaN    -4    -5   NaN    NaN"
      ]
     },
     "execution_count": 69,
     "metadata": {},
     "output_type": "execute_result"
    }
   ],
   "source": [
    "data_frame_nan"
   ]
  },
  {
   "cell_type": "markdown",
   "metadata": {},
   "source": [
    "### columns\n",
    "O método `columns` retorna os labels do `DataFrame`. A sintaxe para utilizar este método é:\n",
    "```python\n",
    "DataFrame.columns\n",
    "```"
   ]
  },
  {
   "cell_type": "code",
   "execution_count": 70,
   "metadata": {
    "ExecuteTime": {
     "end_time": "2020-09-30T12:39:53.504126Z",
     "start_time": "2020-09-30T12:39:53.496730Z"
    }
   },
   "outputs": [
    {
     "data": {
      "text/plain": [
       "Index(['Col_1', 'Col_2', 'Col_3', 'Col_4', 'Col_5', 'Col_7', 'Col_8', 'Col_9',\n",
       "       'Col_10'],\n",
       "      dtype='object')"
      ]
     },
     "execution_count": 70,
     "metadata": {},
     "output_type": "execute_result"
    }
   ],
   "source": [
    "data_frame_nan.columns"
   ]
  },
  {
   "cell_type": "markdown",
   "metadata": {},
   "source": [
    "### index\n",
    "O método `index` retorna os índices (labels das filas) do `DataFrame`. A sintaxe para utilizar este método é:\n",
    "```python\n",
    "DataFrame.index\n",
    "```"
   ]
  },
  {
   "cell_type": "code",
   "execution_count": 71,
   "metadata": {
    "ExecuteTime": {
     "end_time": "2020-09-30T12:40:06.228039Z",
     "start_time": "2020-09-30T12:40:06.218370Z"
    }
   },
   "outputs": [
    {
     "data": {
      "text/plain": [
       "Index(['Row_1', 'Row_2', 'Row_3', 'Row_4', 'Row_5', 'Row_6', 'Row_7', 'Row_8',\n",
       "       'Row_9', 'Row_10'],\n",
       "      dtype='object')"
      ]
     },
     "execution_count": 71,
     "metadata": {},
     "output_type": "execute_result"
    }
   ],
   "source": [
    "data_frame_nan.index"
   ]
  },
  {
   "cell_type": "markdown",
   "metadata": {},
   "source": [
    "### sort_values\n",
    "\n",
    "A função [`sort_values`](https://pandas.pydata.org/pandas-docs/stable/reference/api/pandas.DataFrame.sort_values.html) organiza um DataFrame por colunas ou filas. Está função permite organizar os DataFrame por varias colunas ou filas ao mesmo tempo. A sintaxe para aplicar essa função é:\n",
    "```python\n",
    "DataFrame.sort_values(by, axis=0, ascending=True, inplace=False, kind='quicksort', na_position='last', ignore_index=False, key=None)\n",
    "```"
   ]
  },
  {
   "cell_type": "code",
   "execution_count": 72,
   "metadata": {
    "ExecuteTime": {
     "end_time": "2020-09-30T12:40:56.900622Z",
     "start_time": "2020-09-30T12:40:56.873686Z"
    }
   },
   "outputs": [
    {
     "data": {
      "text/html": [
       "<div>\n",
       "<style scoped>\n",
       "    .dataframe tbody tr th:only-of-type {\n",
       "        vertical-align: middle;\n",
       "    }\n",
       "\n",
       "    .dataframe tbody tr th {\n",
       "        vertical-align: top;\n",
       "    }\n",
       "\n",
       "    .dataframe thead th {\n",
       "        text-align: right;\n",
       "    }\n",
       "</style>\n",
       "<table border=\"1\" class=\"dataframe\">\n",
       "  <thead>\n",
       "    <tr style=\"text-align: right;\">\n",
       "      <th></th>\n",
       "      <th>Col_1</th>\n",
       "      <th>Col_2</th>\n",
       "      <th>Col_3</th>\n",
       "      <th>Col_4</th>\n",
       "      <th>Col_5</th>\n",
       "      <th>Col_7</th>\n",
       "      <th>Col_8</th>\n",
       "      <th>Col_9</th>\n",
       "      <th>Col_10</th>\n",
       "    </tr>\n",
       "  </thead>\n",
       "  <tbody>\n",
       "    <tr>\n",
       "      <th>Row_1</th>\n",
       "      <td>-2</td>\n",
       "      <td>-7</td>\n",
       "      <td>NaN</td>\n",
       "      <td>5</td>\n",
       "      <td>6</td>\n",
       "      <td>-8</td>\n",
       "      <td>-8</td>\n",
       "      <td>-8</td>\n",
       "      <td>4</td>\n",
       "    </tr>\n",
       "    <tr>\n",
       "      <th>Row_2</th>\n",
       "      <td>-8</td>\n",
       "      <td>7</td>\n",
       "      <td>6</td>\n",
       "      <td>NaN</td>\n",
       "      <td>-6</td>\n",
       "      <td>6</td>\n",
       "      <td>-1</td>\n",
       "      <td>-8</td>\n",
       "      <td>NaN</td>\n",
       "    </tr>\n",
       "    <tr>\n",
       "      <th>Row_3</th>\n",
       "      <td>-6</td>\n",
       "      <td>-9</td>\n",
       "      <td>3</td>\n",
       "      <td>9</td>\n",
       "      <td>-6</td>\n",
       "      <td>-7</td>\n",
       "      <td>-3</td>\n",
       "      <td>7</td>\n",
       "      <td>5</td>\n",
       "    </tr>\n",
       "    <tr>\n",
       "      <th>Row_4</th>\n",
       "      <td>NaN</td>\n",
       "      <td>NaN</td>\n",
       "      <td>NaN</td>\n",
       "      <td>6</td>\n",
       "      <td>-8</td>\n",
       "      <td>9</td>\n",
       "      <td>-8</td>\n",
       "      <td>4</td>\n",
       "      <td>7</td>\n",
       "    </tr>\n",
       "    <tr>\n",
       "      <th>Row_5</th>\n",
       "      <td>6</td>\n",
       "      <td>5</td>\n",
       "      <td>-3</td>\n",
       "      <td>3</td>\n",
       "      <td>NaN</td>\n",
       "      <td>8</td>\n",
       "      <td>-10</td>\n",
       "      <td>-8</td>\n",
       "      <td>0</td>\n",
       "    </tr>\n",
       "    <tr>\n",
       "      <th>Row_6</th>\n",
       "      <td>7</td>\n",
       "      <td>NaN</td>\n",
       "      <td>3</td>\n",
       "      <td>0</td>\n",
       "      <td>NaN</td>\n",
       "      <td>8</td>\n",
       "      <td>-2</td>\n",
       "      <td>9</td>\n",
       "      <td>4</td>\n",
       "    </tr>\n",
       "    <tr>\n",
       "      <th>Row_7</th>\n",
       "      <td>-10</td>\n",
       "      <td>NaN</td>\n",
       "      <td>2</td>\n",
       "      <td>0</td>\n",
       "      <td>NaN</td>\n",
       "      <td>NaN</td>\n",
       "      <td>5</td>\n",
       "      <td>0</td>\n",
       "      <td>NaN</td>\n",
       "    </tr>\n",
       "    <tr>\n",
       "      <th>Row_8</th>\n",
       "      <td>-7</td>\n",
       "      <td>NaN</td>\n",
       "      <td>6</td>\n",
       "      <td>1</td>\n",
       "      <td>-6</td>\n",
       "      <td>-3</td>\n",
       "      <td>-4</td>\n",
       "      <td>-8</td>\n",
       "      <td>0</td>\n",
       "    </tr>\n",
       "    <tr>\n",
       "      <th>Row_9</th>\n",
       "      <td>8</td>\n",
       "      <td>NaN</td>\n",
       "      <td>2</td>\n",
       "      <td>-9</td>\n",
       "      <td>-4</td>\n",
       "      <td>-10</td>\n",
       "      <td>-8</td>\n",
       "      <td>9</td>\n",
       "      <td>-6</td>\n",
       "    </tr>\n",
       "    <tr>\n",
       "      <th>Row_10</th>\n",
       "      <td>8</td>\n",
       "      <td>NaN</td>\n",
       "      <td>NaN</td>\n",
       "      <td>-1</td>\n",
       "      <td>NaN</td>\n",
       "      <td>-4</td>\n",
       "      <td>-5</td>\n",
       "      <td>NaN</td>\n",
       "      <td>NaN</td>\n",
       "    </tr>\n",
       "  </tbody>\n",
       "</table>\n",
       "</div>"
      ],
      "text/plain": [
       "       Col_1 Col_2 Col_3 Col_4 Col_5 Col_7 Col_8 Col_9 Col_10\n",
       "Row_1     -2    -7   NaN     5     6    -8    -8    -8      4\n",
       "Row_2     -8     7     6   NaN    -6     6    -1    -8    NaN\n",
       "Row_3     -6    -9     3     9    -6    -7    -3     7      5\n",
       "Row_4    NaN   NaN   NaN     6    -8     9    -8     4      7\n",
       "Row_5      6     5    -3     3   NaN     8   -10    -8      0\n",
       "Row_6      7   NaN     3     0   NaN     8    -2     9      4\n",
       "Row_7    -10   NaN     2     0   NaN   NaN     5     0    NaN\n",
       "Row_8     -7   NaN     6     1    -6    -3    -4    -8      0\n",
       "Row_9      8   NaN     2    -9    -4   -10    -8     9     -6\n",
       "Row_10     8   NaN   NaN    -1   NaN    -4    -5   NaN    NaN"
      ]
     },
     "execution_count": 72,
     "metadata": {},
     "output_type": "execute_result"
    }
   ],
   "source": [
    "data_frame_nan"
   ]
  },
  {
   "cell_type": "code",
   "execution_count": 77,
   "metadata": {
    "ExecuteTime": {
     "end_time": "2020-09-30T12:45:00.026980Z",
     "start_time": "2020-09-30T12:44:59.986748Z"
    }
   },
   "outputs": [
    {
     "data": {
      "text/html": [
       "<div>\n",
       "<style scoped>\n",
       "    .dataframe tbody tr th:only-of-type {\n",
       "        vertical-align: middle;\n",
       "    }\n",
       "\n",
       "    .dataframe tbody tr th {\n",
       "        vertical-align: top;\n",
       "    }\n",
       "\n",
       "    .dataframe thead th {\n",
       "        text-align: right;\n",
       "    }\n",
       "</style>\n",
       "<table border=\"1\" class=\"dataframe\">\n",
       "  <thead>\n",
       "    <tr style=\"text-align: right;\">\n",
       "      <th></th>\n",
       "      <th>Col_1</th>\n",
       "      <th>Col_2</th>\n",
       "      <th>Col_3</th>\n",
       "      <th>Col_4</th>\n",
       "      <th>Col_5</th>\n",
       "      <th>Col_7</th>\n",
       "      <th>Col_8</th>\n",
       "      <th>Col_9</th>\n",
       "      <th>Col_10</th>\n",
       "    </tr>\n",
       "  </thead>\n",
       "  <tbody>\n",
       "    <tr>\n",
       "      <th>Row_1</th>\n",
       "      <td>-2</td>\n",
       "      <td>-7</td>\n",
       "      <td>NaN</td>\n",
       "      <td>5</td>\n",
       "      <td>6</td>\n",
       "      <td>-8</td>\n",
       "      <td>-8</td>\n",
       "      <td>-8</td>\n",
       "      <td>4</td>\n",
       "    </tr>\n",
       "    <tr>\n",
       "      <th>Row_4</th>\n",
       "      <td>NaN</td>\n",
       "      <td>NaN</td>\n",
       "      <td>NaN</td>\n",
       "      <td>6</td>\n",
       "      <td>-8</td>\n",
       "      <td>9</td>\n",
       "      <td>-8</td>\n",
       "      <td>4</td>\n",
       "      <td>7</td>\n",
       "    </tr>\n",
       "    <tr>\n",
       "      <th>Row_10</th>\n",
       "      <td>8</td>\n",
       "      <td>NaN</td>\n",
       "      <td>NaN</td>\n",
       "      <td>-1</td>\n",
       "      <td>NaN</td>\n",
       "      <td>-4</td>\n",
       "      <td>-5</td>\n",
       "      <td>NaN</td>\n",
       "      <td>NaN</td>\n",
       "    </tr>\n",
       "    <tr>\n",
       "      <th>Row_2</th>\n",
       "      <td>-8</td>\n",
       "      <td>7</td>\n",
       "      <td>6</td>\n",
       "      <td>NaN</td>\n",
       "      <td>-6</td>\n",
       "      <td>6</td>\n",
       "      <td>-1</td>\n",
       "      <td>-8</td>\n",
       "      <td>NaN</td>\n",
       "    </tr>\n",
       "    <tr>\n",
       "      <th>Row_8</th>\n",
       "      <td>-7</td>\n",
       "      <td>NaN</td>\n",
       "      <td>6</td>\n",
       "      <td>1</td>\n",
       "      <td>-6</td>\n",
       "      <td>-3</td>\n",
       "      <td>-4</td>\n",
       "      <td>-8</td>\n",
       "      <td>0</td>\n",
       "    </tr>\n",
       "    <tr>\n",
       "      <th>Row_3</th>\n",
       "      <td>-6</td>\n",
       "      <td>-9</td>\n",
       "      <td>3</td>\n",
       "      <td>9</td>\n",
       "      <td>-6</td>\n",
       "      <td>-7</td>\n",
       "      <td>-3</td>\n",
       "      <td>7</td>\n",
       "      <td>5</td>\n",
       "    </tr>\n",
       "    <tr>\n",
       "      <th>Row_6</th>\n",
       "      <td>7</td>\n",
       "      <td>NaN</td>\n",
       "      <td>3</td>\n",
       "      <td>0</td>\n",
       "      <td>NaN</td>\n",
       "      <td>8</td>\n",
       "      <td>-2</td>\n",
       "      <td>9</td>\n",
       "      <td>4</td>\n",
       "    </tr>\n",
       "    <tr>\n",
       "      <th>Row_7</th>\n",
       "      <td>-10</td>\n",
       "      <td>NaN</td>\n",
       "      <td>2</td>\n",
       "      <td>0</td>\n",
       "      <td>NaN</td>\n",
       "      <td>NaN</td>\n",
       "      <td>5</td>\n",
       "      <td>0</td>\n",
       "      <td>NaN</td>\n",
       "    </tr>\n",
       "    <tr>\n",
       "      <th>Row_9</th>\n",
       "      <td>8</td>\n",
       "      <td>NaN</td>\n",
       "      <td>2</td>\n",
       "      <td>-9</td>\n",
       "      <td>-4</td>\n",
       "      <td>-10</td>\n",
       "      <td>-8</td>\n",
       "      <td>9</td>\n",
       "      <td>-6</td>\n",
       "    </tr>\n",
       "    <tr>\n",
       "      <th>Row_5</th>\n",
       "      <td>6</td>\n",
       "      <td>5</td>\n",
       "      <td>-3</td>\n",
       "      <td>3</td>\n",
       "      <td>NaN</td>\n",
       "      <td>8</td>\n",
       "      <td>-10</td>\n",
       "      <td>-8</td>\n",
       "      <td>0</td>\n",
       "    </tr>\n",
       "  </tbody>\n",
       "</table>\n",
       "</div>"
      ],
      "text/plain": [
       "       Col_1 Col_2 Col_3 Col_4 Col_5 Col_7 Col_8 Col_9 Col_10\n",
       "Row_1     -2    -7   NaN     5     6    -8    -8    -8      4\n",
       "Row_4    NaN   NaN   NaN     6    -8     9    -8     4      7\n",
       "Row_10     8   NaN   NaN    -1   NaN    -4    -5   NaN    NaN\n",
       "Row_2     -8     7     6   NaN    -6     6    -1    -8    NaN\n",
       "Row_8     -7   NaN     6     1    -6    -3    -4    -8      0\n",
       "Row_3     -6    -9     3     9    -6    -7    -3     7      5\n",
       "Row_6      7   NaN     3     0   NaN     8    -2     9      4\n",
       "Row_7    -10   NaN     2     0   NaN   NaN     5     0    NaN\n",
       "Row_9      8   NaN     2    -9    -4   -10    -8     9     -6\n",
       "Row_5      6     5    -3     3   NaN     8   -10    -8      0"
      ]
     },
     "execution_count": 77,
     "metadata": {},
     "output_type": "execute_result"
    }
   ],
   "source": [
    "# Só utilizando o parâmetro by e ordenando somente por uma coluna\n",
    "data_frame_nan.sort_values(by=\"Col_3\", ascending=False, na_position='first')"
   ]
  },
  {
   "cell_type": "code",
   "execution_count": 74,
   "metadata": {
    "ExecuteTime": {
     "end_time": "2020-09-30T12:42:33.740400Z",
     "start_time": "2020-09-30T12:42:33.709352Z"
    }
   },
   "outputs": [
    {
     "data": {
      "text/html": [
       "<div>\n",
       "<style scoped>\n",
       "    .dataframe tbody tr th:only-of-type {\n",
       "        vertical-align: middle;\n",
       "    }\n",
       "\n",
       "    .dataframe tbody tr th {\n",
       "        vertical-align: top;\n",
       "    }\n",
       "\n",
       "    .dataframe thead th {\n",
       "        text-align: right;\n",
       "    }\n",
       "</style>\n",
       "<table border=\"1\" class=\"dataframe\">\n",
       "  <thead>\n",
       "    <tr style=\"text-align: right;\">\n",
       "      <th></th>\n",
       "      <th>Col_1</th>\n",
       "      <th>Col_2</th>\n",
       "      <th>Col_3</th>\n",
       "      <th>Col_4</th>\n",
       "      <th>Col_5</th>\n",
       "      <th>Col_7</th>\n",
       "      <th>Col_8</th>\n",
       "      <th>Col_9</th>\n",
       "      <th>Col_10</th>\n",
       "    </tr>\n",
       "  </thead>\n",
       "  <tbody>\n",
       "    <tr>\n",
       "      <th>Row_5</th>\n",
       "      <td>6</td>\n",
       "      <td>5</td>\n",
       "      <td>-3</td>\n",
       "      <td>3</td>\n",
       "      <td>NaN</td>\n",
       "      <td>8</td>\n",
       "      <td>-10</td>\n",
       "      <td>-8</td>\n",
       "      <td>0</td>\n",
       "    </tr>\n",
       "    <tr>\n",
       "      <th>Row_9</th>\n",
       "      <td>8</td>\n",
       "      <td>NaN</td>\n",
       "      <td>2</td>\n",
       "      <td>-9</td>\n",
       "      <td>-4</td>\n",
       "      <td>-10</td>\n",
       "      <td>-8</td>\n",
       "      <td>9</td>\n",
       "      <td>-6</td>\n",
       "    </tr>\n",
       "    <tr>\n",
       "      <th>Row_7</th>\n",
       "      <td>-10</td>\n",
       "      <td>NaN</td>\n",
       "      <td>2</td>\n",
       "      <td>0</td>\n",
       "      <td>NaN</td>\n",
       "      <td>NaN</td>\n",
       "      <td>5</td>\n",
       "      <td>0</td>\n",
       "      <td>NaN</td>\n",
       "    </tr>\n",
       "    <tr>\n",
       "      <th>Row_6</th>\n",
       "      <td>7</td>\n",
       "      <td>NaN</td>\n",
       "      <td>3</td>\n",
       "      <td>0</td>\n",
       "      <td>NaN</td>\n",
       "      <td>8</td>\n",
       "      <td>-2</td>\n",
       "      <td>9</td>\n",
       "      <td>4</td>\n",
       "    </tr>\n",
       "    <tr>\n",
       "      <th>Row_3</th>\n",
       "      <td>-6</td>\n",
       "      <td>-9</td>\n",
       "      <td>3</td>\n",
       "      <td>9</td>\n",
       "      <td>-6</td>\n",
       "      <td>-7</td>\n",
       "      <td>-3</td>\n",
       "      <td>7</td>\n",
       "      <td>5</td>\n",
       "    </tr>\n",
       "    <tr>\n",
       "      <th>Row_8</th>\n",
       "      <td>-7</td>\n",
       "      <td>NaN</td>\n",
       "      <td>6</td>\n",
       "      <td>1</td>\n",
       "      <td>-6</td>\n",
       "      <td>-3</td>\n",
       "      <td>-4</td>\n",
       "      <td>-8</td>\n",
       "      <td>0</td>\n",
       "    </tr>\n",
       "    <tr>\n",
       "      <th>Row_2</th>\n",
       "      <td>-8</td>\n",
       "      <td>7</td>\n",
       "      <td>6</td>\n",
       "      <td>NaN</td>\n",
       "      <td>-6</td>\n",
       "      <td>6</td>\n",
       "      <td>-1</td>\n",
       "      <td>-8</td>\n",
       "      <td>NaN</td>\n",
       "    </tr>\n",
       "    <tr>\n",
       "      <th>Row_10</th>\n",
       "      <td>8</td>\n",
       "      <td>NaN</td>\n",
       "      <td>NaN</td>\n",
       "      <td>-1</td>\n",
       "      <td>NaN</td>\n",
       "      <td>-4</td>\n",
       "      <td>-5</td>\n",
       "      <td>NaN</td>\n",
       "      <td>NaN</td>\n",
       "    </tr>\n",
       "    <tr>\n",
       "      <th>Row_1</th>\n",
       "      <td>-2</td>\n",
       "      <td>-7</td>\n",
       "      <td>NaN</td>\n",
       "      <td>5</td>\n",
       "      <td>6</td>\n",
       "      <td>-8</td>\n",
       "      <td>-8</td>\n",
       "      <td>-8</td>\n",
       "      <td>4</td>\n",
       "    </tr>\n",
       "    <tr>\n",
       "      <th>Row_4</th>\n",
       "      <td>NaN</td>\n",
       "      <td>NaN</td>\n",
       "      <td>NaN</td>\n",
       "      <td>6</td>\n",
       "      <td>-8</td>\n",
       "      <td>9</td>\n",
       "      <td>-8</td>\n",
       "      <td>4</td>\n",
       "      <td>7</td>\n",
       "    </tr>\n",
       "  </tbody>\n",
       "</table>\n",
       "</div>"
      ],
      "text/plain": [
       "       Col_1 Col_2 Col_3 Col_4 Col_5 Col_7 Col_8 Col_9 Col_10\n",
       "Row_5      6     5    -3     3   NaN     8   -10    -8      0\n",
       "Row_9      8   NaN     2    -9    -4   -10    -8     9     -6\n",
       "Row_7    -10   NaN     2     0   NaN   NaN     5     0    NaN\n",
       "Row_6      7   NaN     3     0   NaN     8    -2     9      4\n",
       "Row_3     -6    -9     3     9    -6    -7    -3     7      5\n",
       "Row_8     -7   NaN     6     1    -6    -3    -4    -8      0\n",
       "Row_2     -8     7     6   NaN    -6     6    -1    -8    NaN\n",
       "Row_10     8   NaN   NaN    -1   NaN    -4    -5   NaN    NaN\n",
       "Row_1     -2    -7   NaN     5     6    -8    -8    -8      4\n",
       "Row_4    NaN   NaN   NaN     6    -8     9    -8     4      7"
      ]
     },
     "execution_count": 74,
     "metadata": {},
     "output_type": "execute_result"
    }
   ],
   "source": [
    "# Só utilizando o parâmetro by e ordenando somente por duas colunas\n",
    "data_frame_nan.sort_values(by=[\"Col_3\", \"Col_4\"])"
   ]
  },
  {
   "cell_type": "code",
   "execution_count": 78,
   "metadata": {
    "ExecuteTime": {
     "end_time": "2020-09-30T12:45:13.889843Z",
     "start_time": "2020-09-30T12:45:13.864167Z"
    }
   },
   "outputs": [
    {
     "data": {
      "text/html": [
       "<div>\n",
       "<style scoped>\n",
       "    .dataframe tbody tr th:only-of-type {\n",
       "        vertical-align: middle;\n",
       "    }\n",
       "\n",
       "    .dataframe tbody tr th {\n",
       "        vertical-align: top;\n",
       "    }\n",
       "\n",
       "    .dataframe thead th {\n",
       "        text-align: right;\n",
       "    }\n",
       "</style>\n",
       "<table border=\"1\" class=\"dataframe\">\n",
       "  <thead>\n",
       "    <tr style=\"text-align: right;\">\n",
       "      <th></th>\n",
       "      <th>Col_1</th>\n",
       "      <th>Col_9</th>\n",
       "      <th>Col_5</th>\n",
       "      <th>Col_8</th>\n",
       "      <th>Col_3</th>\n",
       "      <th>Col_7</th>\n",
       "      <th>Col_2</th>\n",
       "      <th>Col_4</th>\n",
       "      <th>Col_10</th>\n",
       "    </tr>\n",
       "  </thead>\n",
       "  <tbody>\n",
       "    <tr>\n",
       "      <th>Row_1</th>\n",
       "      <td>-2</td>\n",
       "      <td>-8</td>\n",
       "      <td>6</td>\n",
       "      <td>-8</td>\n",
       "      <td>NaN</td>\n",
       "      <td>-8</td>\n",
       "      <td>-7</td>\n",
       "      <td>5</td>\n",
       "      <td>4</td>\n",
       "    </tr>\n",
       "    <tr>\n",
       "      <th>Row_2</th>\n",
       "      <td>-8</td>\n",
       "      <td>-8</td>\n",
       "      <td>-6</td>\n",
       "      <td>-1</td>\n",
       "      <td>6</td>\n",
       "      <td>6</td>\n",
       "      <td>7</td>\n",
       "      <td>NaN</td>\n",
       "      <td>NaN</td>\n",
       "    </tr>\n",
       "    <tr>\n",
       "      <th>Row_3</th>\n",
       "      <td>-6</td>\n",
       "      <td>7</td>\n",
       "      <td>-6</td>\n",
       "      <td>-3</td>\n",
       "      <td>3</td>\n",
       "      <td>-7</td>\n",
       "      <td>-9</td>\n",
       "      <td>9</td>\n",
       "      <td>5</td>\n",
       "    </tr>\n",
       "    <tr>\n",
       "      <th>Row_4</th>\n",
       "      <td>NaN</td>\n",
       "      <td>4</td>\n",
       "      <td>-8</td>\n",
       "      <td>-8</td>\n",
       "      <td>NaN</td>\n",
       "      <td>9</td>\n",
       "      <td>NaN</td>\n",
       "      <td>6</td>\n",
       "      <td>7</td>\n",
       "    </tr>\n",
       "    <tr>\n",
       "      <th>Row_5</th>\n",
       "      <td>6</td>\n",
       "      <td>-8</td>\n",
       "      <td>NaN</td>\n",
       "      <td>-10</td>\n",
       "      <td>-3</td>\n",
       "      <td>8</td>\n",
       "      <td>5</td>\n",
       "      <td>3</td>\n",
       "      <td>0</td>\n",
       "    </tr>\n",
       "    <tr>\n",
       "      <th>Row_6</th>\n",
       "      <td>7</td>\n",
       "      <td>9</td>\n",
       "      <td>NaN</td>\n",
       "      <td>-2</td>\n",
       "      <td>3</td>\n",
       "      <td>8</td>\n",
       "      <td>NaN</td>\n",
       "      <td>0</td>\n",
       "      <td>4</td>\n",
       "    </tr>\n",
       "    <tr>\n",
       "      <th>Row_7</th>\n",
       "      <td>-10</td>\n",
       "      <td>0</td>\n",
       "      <td>NaN</td>\n",
       "      <td>5</td>\n",
       "      <td>2</td>\n",
       "      <td>NaN</td>\n",
       "      <td>NaN</td>\n",
       "      <td>0</td>\n",
       "      <td>NaN</td>\n",
       "    </tr>\n",
       "    <tr>\n",
       "      <th>Row_8</th>\n",
       "      <td>-7</td>\n",
       "      <td>-8</td>\n",
       "      <td>-6</td>\n",
       "      <td>-4</td>\n",
       "      <td>6</td>\n",
       "      <td>-3</td>\n",
       "      <td>NaN</td>\n",
       "      <td>1</td>\n",
       "      <td>0</td>\n",
       "    </tr>\n",
       "    <tr>\n",
       "      <th>Row_9</th>\n",
       "      <td>8</td>\n",
       "      <td>9</td>\n",
       "      <td>-4</td>\n",
       "      <td>-8</td>\n",
       "      <td>2</td>\n",
       "      <td>-10</td>\n",
       "      <td>NaN</td>\n",
       "      <td>-9</td>\n",
       "      <td>-6</td>\n",
       "    </tr>\n",
       "    <tr>\n",
       "      <th>Row_10</th>\n",
       "      <td>8</td>\n",
       "      <td>NaN</td>\n",
       "      <td>NaN</td>\n",
       "      <td>-5</td>\n",
       "      <td>NaN</td>\n",
       "      <td>-4</td>\n",
       "      <td>NaN</td>\n",
       "      <td>-1</td>\n",
       "      <td>NaN</td>\n",
       "    </tr>\n",
       "  </tbody>\n",
       "</table>\n",
       "</div>"
      ],
      "text/plain": [
       "       Col_1 Col_9 Col_5 Col_8 Col_3 Col_7 Col_2 Col_4 Col_10\n",
       "Row_1     -2    -8     6    -8   NaN    -8    -7     5      4\n",
       "Row_2     -8    -8    -6    -1     6     6     7   NaN    NaN\n",
       "Row_3     -6     7    -6    -3     3    -7    -9     9      5\n",
       "Row_4    NaN     4    -8    -8   NaN     9   NaN     6      7\n",
       "Row_5      6    -8   NaN   -10    -3     8     5     3      0\n",
       "Row_6      7     9   NaN    -2     3     8   NaN     0      4\n",
       "Row_7    -10     0   NaN     5     2   NaN   NaN     0    NaN\n",
       "Row_8     -7    -8    -6    -4     6    -3   NaN     1      0\n",
       "Row_9      8     9    -4    -8     2   -10   NaN    -9     -6\n",
       "Row_10     8   NaN   NaN    -5   NaN    -4   NaN    -1    NaN"
      ]
     },
     "execution_count": 78,
     "metadata": {},
     "output_type": "execute_result"
    }
   ],
   "source": [
    "# Organizando o vetor por filas\n",
    "data_frame_nan.sort_values(by=[\"Row_2\"], axis=1)"
   ]
  },
  {
   "cell_type": "code",
   "execution_count": 79,
   "metadata": {
    "ExecuteTime": {
     "end_time": "2020-09-30T12:45:16.822899Z",
     "start_time": "2020-09-30T12:45:16.769393Z"
    }
   },
   "outputs": [
    {
     "data": {
      "text/html": [
       "<div>\n",
       "<style scoped>\n",
       "    .dataframe tbody tr th:only-of-type {\n",
       "        vertical-align: middle;\n",
       "    }\n",
       "\n",
       "    .dataframe tbody tr th {\n",
       "        vertical-align: top;\n",
       "    }\n",
       "\n",
       "    .dataframe thead th {\n",
       "        text-align: right;\n",
       "    }\n",
       "</style>\n",
       "<table border=\"1\" class=\"dataframe\">\n",
       "  <thead>\n",
       "    <tr style=\"text-align: right;\">\n",
       "      <th></th>\n",
       "      <th>Col_1</th>\n",
       "      <th>Col_9</th>\n",
       "      <th>Col_5</th>\n",
       "      <th>Col_8</th>\n",
       "      <th>Col_7</th>\n",
       "      <th>Col_3</th>\n",
       "      <th>Col_2</th>\n",
       "      <th>Col_10</th>\n",
       "      <th>Col_4</th>\n",
       "    </tr>\n",
       "  </thead>\n",
       "  <tbody>\n",
       "    <tr>\n",
       "      <th>Row_1</th>\n",
       "      <td>-2</td>\n",
       "      <td>-8</td>\n",
       "      <td>6</td>\n",
       "      <td>-8</td>\n",
       "      <td>-8</td>\n",
       "      <td>NaN</td>\n",
       "      <td>-7</td>\n",
       "      <td>4</td>\n",
       "      <td>5</td>\n",
       "    </tr>\n",
       "    <tr>\n",
       "      <th>Row_2</th>\n",
       "      <td>-8</td>\n",
       "      <td>-8</td>\n",
       "      <td>-6</td>\n",
       "      <td>-1</td>\n",
       "      <td>6</td>\n",
       "      <td>6</td>\n",
       "      <td>7</td>\n",
       "      <td>NaN</td>\n",
       "      <td>NaN</td>\n",
       "    </tr>\n",
       "    <tr>\n",
       "      <th>Row_3</th>\n",
       "      <td>-6</td>\n",
       "      <td>7</td>\n",
       "      <td>-6</td>\n",
       "      <td>-3</td>\n",
       "      <td>-7</td>\n",
       "      <td>3</td>\n",
       "      <td>-9</td>\n",
       "      <td>5</td>\n",
       "      <td>9</td>\n",
       "    </tr>\n",
       "    <tr>\n",
       "      <th>Row_4</th>\n",
       "      <td>NaN</td>\n",
       "      <td>4</td>\n",
       "      <td>-8</td>\n",
       "      <td>-8</td>\n",
       "      <td>9</td>\n",
       "      <td>NaN</td>\n",
       "      <td>NaN</td>\n",
       "      <td>7</td>\n",
       "      <td>6</td>\n",
       "    </tr>\n",
       "    <tr>\n",
       "      <th>Row_5</th>\n",
       "      <td>6</td>\n",
       "      <td>-8</td>\n",
       "      <td>NaN</td>\n",
       "      <td>-10</td>\n",
       "      <td>8</td>\n",
       "      <td>-3</td>\n",
       "      <td>5</td>\n",
       "      <td>0</td>\n",
       "      <td>3</td>\n",
       "    </tr>\n",
       "    <tr>\n",
       "      <th>Row_6</th>\n",
       "      <td>7</td>\n",
       "      <td>9</td>\n",
       "      <td>NaN</td>\n",
       "      <td>-2</td>\n",
       "      <td>8</td>\n",
       "      <td>3</td>\n",
       "      <td>NaN</td>\n",
       "      <td>4</td>\n",
       "      <td>0</td>\n",
       "    </tr>\n",
       "    <tr>\n",
       "      <th>Row_7</th>\n",
       "      <td>-10</td>\n",
       "      <td>0</td>\n",
       "      <td>NaN</td>\n",
       "      <td>5</td>\n",
       "      <td>NaN</td>\n",
       "      <td>2</td>\n",
       "      <td>NaN</td>\n",
       "      <td>NaN</td>\n",
       "      <td>0</td>\n",
       "    </tr>\n",
       "    <tr>\n",
       "      <th>Row_8</th>\n",
       "      <td>-7</td>\n",
       "      <td>-8</td>\n",
       "      <td>-6</td>\n",
       "      <td>-4</td>\n",
       "      <td>-3</td>\n",
       "      <td>6</td>\n",
       "      <td>NaN</td>\n",
       "      <td>0</td>\n",
       "      <td>1</td>\n",
       "    </tr>\n",
       "    <tr>\n",
       "      <th>Row_9</th>\n",
       "      <td>8</td>\n",
       "      <td>9</td>\n",
       "      <td>-4</td>\n",
       "      <td>-8</td>\n",
       "      <td>-10</td>\n",
       "      <td>2</td>\n",
       "      <td>NaN</td>\n",
       "      <td>-6</td>\n",
       "      <td>-9</td>\n",
       "    </tr>\n",
       "    <tr>\n",
       "      <th>Row_10</th>\n",
       "      <td>8</td>\n",
       "      <td>NaN</td>\n",
       "      <td>NaN</td>\n",
       "      <td>-5</td>\n",
       "      <td>-4</td>\n",
       "      <td>NaN</td>\n",
       "      <td>NaN</td>\n",
       "      <td>NaN</td>\n",
       "      <td>-1</td>\n",
       "    </tr>\n",
       "  </tbody>\n",
       "</table>\n",
       "</div>"
      ],
      "text/plain": [
       "       Col_1 Col_9 Col_5 Col_8 Col_7 Col_3 Col_2 Col_10 Col_4\n",
       "Row_1     -2    -8     6    -8    -8   NaN    -7      4     5\n",
       "Row_2     -8    -8    -6    -1     6     6     7    NaN   NaN\n",
       "Row_3     -6     7    -6    -3    -7     3    -9      5     9\n",
       "Row_4    NaN     4    -8    -8     9   NaN   NaN      7     6\n",
       "Row_5      6    -8   NaN   -10     8    -3     5      0     3\n",
       "Row_6      7     9   NaN    -2     8     3   NaN      4     0\n",
       "Row_7    -10     0   NaN     5   NaN     2   NaN    NaN     0\n",
       "Row_8     -7    -8    -6    -4    -3     6   NaN      0     1\n",
       "Row_9      8     9    -4    -8   -10     2   NaN     -6    -9\n",
       "Row_10     8   NaN   NaN    -5    -4   NaN   NaN    NaN    -1"
      ]
     },
     "execution_count": 79,
     "metadata": {},
     "output_type": "execute_result"
    }
   ],
   "source": [
    "# Organizando o vetor por filas\n",
    "data_frame_nan.sort_values(by=[\"Row_2\", \"Row_3\"], axis=1)"
   ]
  },
  {
   "cell_type": "markdown",
   "metadata": {},
   "source": [
    "### pivot\n",
    "\n",
    "O método [`pivot`](https://pandas.pydata.org/pandas-docs/stable/reference/api/pandas.DataFrame.pivot.html) é um dos métodos mais simples de Pandas, mas ao mesmo tempo, um dos mais usados e mais poderosos (mais um). Esse método está no mesmo nível que `groupby` e `aggregate`. Esse método se encarrega de reestruturar a um DataFrame. A sintaxe para aplicar esse método é:\n",
    "```python\n",
    "DataFrame.pivot(index=None, columns=None, values=None)\n",
    "```\n"
   ]
  },
  {
   "cell_type": "code",
   "execution_count": 80,
   "metadata": {
    "ExecuteTime": {
     "end_time": "2020-09-30T12:45:53.612685Z",
     "start_time": "2020-09-30T12:45:52.660319Z"
    }
   },
   "outputs": [
    {
     "data": {
      "text/html": [
       "<div>\n",
       "<style scoped>\n",
       "    .dataframe tbody tr th:only-of-type {\n",
       "        vertical-align: middle;\n",
       "    }\n",
       "\n",
       "    .dataframe tbody tr th {\n",
       "        vertical-align: top;\n",
       "    }\n",
       "\n",
       "    .dataframe thead th {\n",
       "        text-align: right;\n",
       "    }\n",
       "</style>\n",
       "<table border=\"1\" class=\"dataframe\">\n",
       "  <thead>\n",
       "    <tr style=\"text-align: right;\">\n",
       "      <th></th>\n",
       "      <th>country</th>\n",
       "      <th>year</th>\n",
       "      <th>pop</th>\n",
       "      <th>continent</th>\n",
       "      <th>lifeExp</th>\n",
       "      <th>gdpPercap</th>\n",
       "    </tr>\n",
       "  </thead>\n",
       "  <tbody>\n",
       "    <tr>\n",
       "      <th>0</th>\n",
       "      <td>Afghanistan</td>\n",
       "      <td>1952</td>\n",
       "      <td>8425333.0</td>\n",
       "      <td>Asia</td>\n",
       "      <td>28.801</td>\n",
       "      <td>779.445314</td>\n",
       "    </tr>\n",
       "    <tr>\n",
       "      <th>1</th>\n",
       "      <td>Afghanistan</td>\n",
       "      <td>1957</td>\n",
       "      <td>9240934.0</td>\n",
       "      <td>Asia</td>\n",
       "      <td>30.332</td>\n",
       "      <td>820.853030</td>\n",
       "    </tr>\n",
       "    <tr>\n",
       "      <th>2</th>\n",
       "      <td>Afghanistan</td>\n",
       "      <td>1962</td>\n",
       "      <td>10267083.0</td>\n",
       "      <td>Asia</td>\n",
       "      <td>31.997</td>\n",
       "      <td>853.100710</td>\n",
       "    </tr>\n",
       "    <tr>\n",
       "      <th>3</th>\n",
       "      <td>Afghanistan</td>\n",
       "      <td>1967</td>\n",
       "      <td>11537966.0</td>\n",
       "      <td>Asia</td>\n",
       "      <td>34.020</td>\n",
       "      <td>836.197138</td>\n",
       "    </tr>\n",
       "    <tr>\n",
       "      <th>4</th>\n",
       "      <td>Afghanistan</td>\n",
       "      <td>1972</td>\n",
       "      <td>13079460.0</td>\n",
       "      <td>Asia</td>\n",
       "      <td>36.088</td>\n",
       "      <td>739.981106</td>\n",
       "    </tr>\n",
       "    <tr>\n",
       "      <th>...</th>\n",
       "      <td>...</td>\n",
       "      <td>...</td>\n",
       "      <td>...</td>\n",
       "      <td>...</td>\n",
       "      <td>...</td>\n",
       "      <td>...</td>\n",
       "    </tr>\n",
       "    <tr>\n",
       "      <th>1699</th>\n",
       "      <td>Zimbabwe</td>\n",
       "      <td>1987</td>\n",
       "      <td>9216418.0</td>\n",
       "      <td>Africa</td>\n",
       "      <td>62.351</td>\n",
       "      <td>706.157306</td>\n",
       "    </tr>\n",
       "    <tr>\n",
       "      <th>1700</th>\n",
       "      <td>Zimbabwe</td>\n",
       "      <td>1992</td>\n",
       "      <td>10704340.0</td>\n",
       "      <td>Africa</td>\n",
       "      <td>60.377</td>\n",
       "      <td>693.420786</td>\n",
       "    </tr>\n",
       "    <tr>\n",
       "      <th>1701</th>\n",
       "      <td>Zimbabwe</td>\n",
       "      <td>1997</td>\n",
       "      <td>11404948.0</td>\n",
       "      <td>Africa</td>\n",
       "      <td>46.809</td>\n",
       "      <td>792.449960</td>\n",
       "    </tr>\n",
       "    <tr>\n",
       "      <th>1702</th>\n",
       "      <td>Zimbabwe</td>\n",
       "      <td>2002</td>\n",
       "      <td>11926563.0</td>\n",
       "      <td>Africa</td>\n",
       "      <td>39.989</td>\n",
       "      <td>672.038623</td>\n",
       "    </tr>\n",
       "    <tr>\n",
       "      <th>1703</th>\n",
       "      <td>Zimbabwe</td>\n",
       "      <td>2007</td>\n",
       "      <td>12311143.0</td>\n",
       "      <td>Africa</td>\n",
       "      <td>43.487</td>\n",
       "      <td>469.709298</td>\n",
       "    </tr>\n",
       "  </tbody>\n",
       "</table>\n",
       "<p>1704 rows × 6 columns</p>\n",
       "</div>"
      ],
      "text/plain": [
       "          country  year         pop continent  lifeExp   gdpPercap\n",
       "0     Afghanistan  1952   8425333.0      Asia   28.801  779.445314\n",
       "1     Afghanistan  1957   9240934.0      Asia   30.332  820.853030\n",
       "2     Afghanistan  1962  10267083.0      Asia   31.997  853.100710\n",
       "3     Afghanistan  1967  11537966.0      Asia   34.020  836.197138\n",
       "4     Afghanistan  1972  13079460.0      Asia   36.088  739.981106\n",
       "...           ...   ...         ...       ...      ...         ...\n",
       "1699     Zimbabwe  1987   9216418.0    Africa   62.351  706.157306\n",
       "1700     Zimbabwe  1992  10704340.0    Africa   60.377  693.420786\n",
       "1701     Zimbabwe  1997  11404948.0    Africa   46.809  792.449960\n",
       "1702     Zimbabwe  2002  11926563.0    Africa   39.989  672.038623\n",
       "1703     Zimbabwe  2007  12311143.0    Africa   43.487  469.709298\n",
       "\n",
       "[1704 rows x 6 columns]"
      ]
     },
     "execution_count": 80,
     "metadata": {},
     "output_type": "execute_result"
    }
   ],
   "source": [
    "data_url = 'http://bit.ly/2cLzoxH'\n",
    "data_frame_exemple = pd.read_csv(data_url)\n",
    "data_frame_exemple"
   ]
  },
  {
   "cell_type": "code",
   "execution_count": 81,
   "metadata": {
    "ExecuteTime": {
     "end_time": "2020-09-30T12:46:59.262069Z",
     "start_time": "2020-09-30T12:46:59.201640Z"
    }
   },
   "outputs": [
    {
     "data": {
      "text/html": [
       "<div>\n",
       "<style scoped>\n",
       "    .dataframe tbody tr th:only-of-type {\n",
       "        vertical-align: middle;\n",
       "    }\n",
       "\n",
       "    .dataframe tbody tr th {\n",
       "        vertical-align: top;\n",
       "    }\n",
       "\n",
       "    .dataframe thead th {\n",
       "        text-align: right;\n",
       "    }\n",
       "</style>\n",
       "<table border=\"1\" class=\"dataframe\">\n",
       "  <thead>\n",
       "    <tr style=\"text-align: right;\">\n",
       "      <th>year</th>\n",
       "      <th>1952</th>\n",
       "      <th>1957</th>\n",
       "      <th>1962</th>\n",
       "      <th>1967</th>\n",
       "      <th>1972</th>\n",
       "      <th>1977</th>\n",
       "      <th>1982</th>\n",
       "      <th>1987</th>\n",
       "      <th>1992</th>\n",
       "      <th>1997</th>\n",
       "      <th>2002</th>\n",
       "      <th>2007</th>\n",
       "    </tr>\n",
       "    <tr>\n",
       "      <th>country</th>\n",
       "      <th></th>\n",
       "      <th></th>\n",
       "      <th></th>\n",
       "      <th></th>\n",
       "      <th></th>\n",
       "      <th></th>\n",
       "      <th></th>\n",
       "      <th></th>\n",
       "      <th></th>\n",
       "      <th></th>\n",
       "      <th></th>\n",
       "      <th></th>\n",
       "    </tr>\n",
       "  </thead>\n",
       "  <tbody>\n",
       "    <tr>\n",
       "      <th>Afghanistan</th>\n",
       "      <td>28.801</td>\n",
       "      <td>30.332</td>\n",
       "      <td>31.997</td>\n",
       "      <td>34.020</td>\n",
       "      <td>36.088</td>\n",
       "      <td>38.438</td>\n",
       "      <td>39.854</td>\n",
       "      <td>40.822</td>\n",
       "      <td>41.674</td>\n",
       "      <td>41.763</td>\n",
       "      <td>42.129</td>\n",
       "      <td>43.828</td>\n",
       "    </tr>\n",
       "    <tr>\n",
       "      <th>Albania</th>\n",
       "      <td>55.230</td>\n",
       "      <td>59.280</td>\n",
       "      <td>64.820</td>\n",
       "      <td>66.220</td>\n",
       "      <td>67.690</td>\n",
       "      <td>68.930</td>\n",
       "      <td>70.420</td>\n",
       "      <td>72.000</td>\n",
       "      <td>71.581</td>\n",
       "      <td>72.950</td>\n",
       "      <td>75.651</td>\n",
       "      <td>76.423</td>\n",
       "    </tr>\n",
       "    <tr>\n",
       "      <th>Algeria</th>\n",
       "      <td>43.077</td>\n",
       "      <td>45.685</td>\n",
       "      <td>48.303</td>\n",
       "      <td>51.407</td>\n",
       "      <td>54.518</td>\n",
       "      <td>58.014</td>\n",
       "      <td>61.368</td>\n",
       "      <td>65.799</td>\n",
       "      <td>67.744</td>\n",
       "      <td>69.152</td>\n",
       "      <td>70.994</td>\n",
       "      <td>72.301</td>\n",
       "    </tr>\n",
       "    <tr>\n",
       "      <th>Angola</th>\n",
       "      <td>30.015</td>\n",
       "      <td>31.999</td>\n",
       "      <td>34.000</td>\n",
       "      <td>35.985</td>\n",
       "      <td>37.928</td>\n",
       "      <td>39.483</td>\n",
       "      <td>39.942</td>\n",
       "      <td>39.906</td>\n",
       "      <td>40.647</td>\n",
       "      <td>40.963</td>\n",
       "      <td>41.003</td>\n",
       "      <td>42.731</td>\n",
       "    </tr>\n",
       "    <tr>\n",
       "      <th>Argentina</th>\n",
       "      <td>62.485</td>\n",
       "      <td>64.399</td>\n",
       "      <td>65.142</td>\n",
       "      <td>65.634</td>\n",
       "      <td>67.065</td>\n",
       "      <td>68.481</td>\n",
       "      <td>69.942</td>\n",
       "      <td>70.774</td>\n",
       "      <td>71.868</td>\n",
       "      <td>73.275</td>\n",
       "      <td>74.340</td>\n",
       "      <td>75.320</td>\n",
       "    </tr>\n",
       "    <tr>\n",
       "      <th>...</th>\n",
       "      <td>...</td>\n",
       "      <td>...</td>\n",
       "      <td>...</td>\n",
       "      <td>...</td>\n",
       "      <td>...</td>\n",
       "      <td>...</td>\n",
       "      <td>...</td>\n",
       "      <td>...</td>\n",
       "      <td>...</td>\n",
       "      <td>...</td>\n",
       "      <td>...</td>\n",
       "      <td>...</td>\n",
       "    </tr>\n",
       "    <tr>\n",
       "      <th>Vietnam</th>\n",
       "      <td>40.412</td>\n",
       "      <td>42.887</td>\n",
       "      <td>45.363</td>\n",
       "      <td>47.838</td>\n",
       "      <td>50.254</td>\n",
       "      <td>55.764</td>\n",
       "      <td>58.816</td>\n",
       "      <td>62.820</td>\n",
       "      <td>67.662</td>\n",
       "      <td>70.672</td>\n",
       "      <td>73.017</td>\n",
       "      <td>74.249</td>\n",
       "    </tr>\n",
       "    <tr>\n",
       "      <th>West Bank and Gaza</th>\n",
       "      <td>43.160</td>\n",
       "      <td>45.671</td>\n",
       "      <td>48.127</td>\n",
       "      <td>51.631</td>\n",
       "      <td>56.532</td>\n",
       "      <td>60.765</td>\n",
       "      <td>64.406</td>\n",
       "      <td>67.046</td>\n",
       "      <td>69.718</td>\n",
       "      <td>71.096</td>\n",
       "      <td>72.370</td>\n",
       "      <td>73.422</td>\n",
       "    </tr>\n",
       "    <tr>\n",
       "      <th>Yemen Rep.</th>\n",
       "      <td>32.548</td>\n",
       "      <td>33.970</td>\n",
       "      <td>35.180</td>\n",
       "      <td>36.984</td>\n",
       "      <td>39.848</td>\n",
       "      <td>44.175</td>\n",
       "      <td>49.113</td>\n",
       "      <td>52.922</td>\n",
       "      <td>55.599</td>\n",
       "      <td>58.020</td>\n",
       "      <td>60.308</td>\n",
       "      <td>62.698</td>\n",
       "    </tr>\n",
       "    <tr>\n",
       "      <th>Zambia</th>\n",
       "      <td>42.038</td>\n",
       "      <td>44.077</td>\n",
       "      <td>46.023</td>\n",
       "      <td>47.768</td>\n",
       "      <td>50.107</td>\n",
       "      <td>51.386</td>\n",
       "      <td>51.821</td>\n",
       "      <td>50.821</td>\n",
       "      <td>46.100</td>\n",
       "      <td>40.238</td>\n",
       "      <td>39.193</td>\n",
       "      <td>42.384</td>\n",
       "    </tr>\n",
       "    <tr>\n",
       "      <th>Zimbabwe</th>\n",
       "      <td>48.451</td>\n",
       "      <td>50.469</td>\n",
       "      <td>52.358</td>\n",
       "      <td>53.995</td>\n",
       "      <td>55.635</td>\n",
       "      <td>57.674</td>\n",
       "      <td>60.363</td>\n",
       "      <td>62.351</td>\n",
       "      <td>60.377</td>\n",
       "      <td>46.809</td>\n",
       "      <td>39.989</td>\n",
       "      <td>43.487</td>\n",
       "    </tr>\n",
       "  </tbody>\n",
       "</table>\n",
       "<p>142 rows × 12 columns</p>\n",
       "</div>"
      ],
      "text/plain": [
       "year                  1952    1957    1962    1967    1972    1977    1982  \\\n",
       "country                                                                      \n",
       "Afghanistan         28.801  30.332  31.997  34.020  36.088  38.438  39.854   \n",
       "Albania             55.230  59.280  64.820  66.220  67.690  68.930  70.420   \n",
       "Algeria             43.077  45.685  48.303  51.407  54.518  58.014  61.368   \n",
       "Angola              30.015  31.999  34.000  35.985  37.928  39.483  39.942   \n",
       "Argentina           62.485  64.399  65.142  65.634  67.065  68.481  69.942   \n",
       "...                    ...     ...     ...     ...     ...     ...     ...   \n",
       "Vietnam             40.412  42.887  45.363  47.838  50.254  55.764  58.816   \n",
       "West Bank and Gaza  43.160  45.671  48.127  51.631  56.532  60.765  64.406   \n",
       "Yemen Rep.          32.548  33.970  35.180  36.984  39.848  44.175  49.113   \n",
       "Zambia              42.038  44.077  46.023  47.768  50.107  51.386  51.821   \n",
       "Zimbabwe            48.451  50.469  52.358  53.995  55.635  57.674  60.363   \n",
       "\n",
       "year                  1987    1992    1997    2002    2007  \n",
       "country                                                     \n",
       "Afghanistan         40.822  41.674  41.763  42.129  43.828  \n",
       "Albania             72.000  71.581  72.950  75.651  76.423  \n",
       "Algeria             65.799  67.744  69.152  70.994  72.301  \n",
       "Angola              39.906  40.647  40.963  41.003  42.731  \n",
       "Argentina           70.774  71.868  73.275  74.340  75.320  \n",
       "...                    ...     ...     ...     ...     ...  \n",
       "Vietnam             62.820  67.662  70.672  73.017  74.249  \n",
       "West Bank and Gaza  67.046  69.718  71.096  72.370  73.422  \n",
       "Yemen Rep.          52.922  55.599  58.020  60.308  62.698  \n",
       "Zambia              50.821  46.100  40.238  39.193  42.384  \n",
       "Zimbabwe            62.351  60.377  46.809  39.989  43.487  \n",
       "\n",
       "[142 rows x 12 columns]"
      ]
     },
     "execution_count": 81,
     "metadata": {},
     "output_type": "execute_result"
    }
   ],
   "source": [
    "# Re-estruturando o dataframe\n",
    "data_frame_exemple.pivot(index=\"country\", columns=\"year\", values=\"lifeExp\")"
   ]
  },
  {
   "cell_type": "code",
   "execution_count": 82,
   "metadata": {
    "ExecuteTime": {
     "end_time": "2020-09-30T12:47:41.457596Z",
     "start_time": "2020-09-30T12:47:41.419838Z"
    }
   },
   "outputs": [
    {
     "data": {
      "text/html": [
       "<div>\n",
       "<style scoped>\n",
       "    .dataframe tbody tr th:only-of-type {\n",
       "        vertical-align: middle;\n",
       "    }\n",
       "\n",
       "    .dataframe tbody tr th {\n",
       "        vertical-align: top;\n",
       "    }\n",
       "\n",
       "    .dataframe thead th {\n",
       "        text-align: right;\n",
       "    }\n",
       "</style>\n",
       "<table border=\"1\" class=\"dataframe\">\n",
       "  <thead>\n",
       "    <tr style=\"text-align: right;\">\n",
       "      <th></th>\n",
       "      <th>year</th>\n",
       "      <th>1952</th>\n",
       "      <th>1957</th>\n",
       "      <th>1962</th>\n",
       "      <th>1967</th>\n",
       "      <th>1972</th>\n",
       "      <th>1977</th>\n",
       "      <th>1982</th>\n",
       "      <th>1987</th>\n",
       "      <th>1992</th>\n",
       "      <th>1997</th>\n",
       "      <th>2002</th>\n",
       "      <th>2007</th>\n",
       "    </tr>\n",
       "    <tr>\n",
       "      <th>country</th>\n",
       "      <th>continent</th>\n",
       "      <th></th>\n",
       "      <th></th>\n",
       "      <th></th>\n",
       "      <th></th>\n",
       "      <th></th>\n",
       "      <th></th>\n",
       "      <th></th>\n",
       "      <th></th>\n",
       "      <th></th>\n",
       "      <th></th>\n",
       "      <th></th>\n",
       "      <th></th>\n",
       "    </tr>\n",
       "  </thead>\n",
       "  <tbody>\n",
       "    <tr>\n",
       "      <th>Afghanistan</th>\n",
       "      <th>Asia</th>\n",
       "      <td>28.801</td>\n",
       "      <td>30.332</td>\n",
       "      <td>31.997</td>\n",
       "      <td>34.020</td>\n",
       "      <td>36.088</td>\n",
       "      <td>38.438</td>\n",
       "      <td>39.854</td>\n",
       "      <td>40.822</td>\n",
       "      <td>41.674</td>\n",
       "      <td>41.763</td>\n",
       "      <td>42.129</td>\n",
       "      <td>43.828</td>\n",
       "    </tr>\n",
       "    <tr>\n",
       "      <th>Albania</th>\n",
       "      <th>Europe</th>\n",
       "      <td>55.230</td>\n",
       "      <td>59.280</td>\n",
       "      <td>64.820</td>\n",
       "      <td>66.220</td>\n",
       "      <td>67.690</td>\n",
       "      <td>68.930</td>\n",
       "      <td>70.420</td>\n",
       "      <td>72.000</td>\n",
       "      <td>71.581</td>\n",
       "      <td>72.950</td>\n",
       "      <td>75.651</td>\n",
       "      <td>76.423</td>\n",
       "    </tr>\n",
       "    <tr>\n",
       "      <th>Algeria</th>\n",
       "      <th>Africa</th>\n",
       "      <td>43.077</td>\n",
       "      <td>45.685</td>\n",
       "      <td>48.303</td>\n",
       "      <td>51.407</td>\n",
       "      <td>54.518</td>\n",
       "      <td>58.014</td>\n",
       "      <td>61.368</td>\n",
       "      <td>65.799</td>\n",
       "      <td>67.744</td>\n",
       "      <td>69.152</td>\n",
       "      <td>70.994</td>\n",
       "      <td>72.301</td>\n",
       "    </tr>\n",
       "    <tr>\n",
       "      <th>Angola</th>\n",
       "      <th>Africa</th>\n",
       "      <td>30.015</td>\n",
       "      <td>31.999</td>\n",
       "      <td>34.000</td>\n",
       "      <td>35.985</td>\n",
       "      <td>37.928</td>\n",
       "      <td>39.483</td>\n",
       "      <td>39.942</td>\n",
       "      <td>39.906</td>\n",
       "      <td>40.647</td>\n",
       "      <td>40.963</td>\n",
       "      <td>41.003</td>\n",
       "      <td>42.731</td>\n",
       "    </tr>\n",
       "    <tr>\n",
       "      <th>Argentina</th>\n",
       "      <th>Americas</th>\n",
       "      <td>62.485</td>\n",
       "      <td>64.399</td>\n",
       "      <td>65.142</td>\n",
       "      <td>65.634</td>\n",
       "      <td>67.065</td>\n",
       "      <td>68.481</td>\n",
       "      <td>69.942</td>\n",
       "      <td>70.774</td>\n",
       "      <td>71.868</td>\n",
       "      <td>73.275</td>\n",
       "      <td>74.340</td>\n",
       "      <td>75.320</td>\n",
       "    </tr>\n",
       "    <tr>\n",
       "      <th>...</th>\n",
       "      <th>...</th>\n",
       "      <td>...</td>\n",
       "      <td>...</td>\n",
       "      <td>...</td>\n",
       "      <td>...</td>\n",
       "      <td>...</td>\n",
       "      <td>...</td>\n",
       "      <td>...</td>\n",
       "      <td>...</td>\n",
       "      <td>...</td>\n",
       "      <td>...</td>\n",
       "      <td>...</td>\n",
       "      <td>...</td>\n",
       "    </tr>\n",
       "    <tr>\n",
       "      <th>Vietnam</th>\n",
       "      <th>Asia</th>\n",
       "      <td>40.412</td>\n",
       "      <td>42.887</td>\n",
       "      <td>45.363</td>\n",
       "      <td>47.838</td>\n",
       "      <td>50.254</td>\n",
       "      <td>55.764</td>\n",
       "      <td>58.816</td>\n",
       "      <td>62.820</td>\n",
       "      <td>67.662</td>\n",
       "      <td>70.672</td>\n",
       "      <td>73.017</td>\n",
       "      <td>74.249</td>\n",
       "    </tr>\n",
       "    <tr>\n",
       "      <th>West Bank and Gaza</th>\n",
       "      <th>Asia</th>\n",
       "      <td>43.160</td>\n",
       "      <td>45.671</td>\n",
       "      <td>48.127</td>\n",
       "      <td>51.631</td>\n",
       "      <td>56.532</td>\n",
       "      <td>60.765</td>\n",
       "      <td>64.406</td>\n",
       "      <td>67.046</td>\n",
       "      <td>69.718</td>\n",
       "      <td>71.096</td>\n",
       "      <td>72.370</td>\n",
       "      <td>73.422</td>\n",
       "    </tr>\n",
       "    <tr>\n",
       "      <th>Yemen Rep.</th>\n",
       "      <th>Asia</th>\n",
       "      <td>32.548</td>\n",
       "      <td>33.970</td>\n",
       "      <td>35.180</td>\n",
       "      <td>36.984</td>\n",
       "      <td>39.848</td>\n",
       "      <td>44.175</td>\n",
       "      <td>49.113</td>\n",
       "      <td>52.922</td>\n",
       "      <td>55.599</td>\n",
       "      <td>58.020</td>\n",
       "      <td>60.308</td>\n",
       "      <td>62.698</td>\n",
       "    </tr>\n",
       "    <tr>\n",
       "      <th>Zambia</th>\n",
       "      <th>Africa</th>\n",
       "      <td>42.038</td>\n",
       "      <td>44.077</td>\n",
       "      <td>46.023</td>\n",
       "      <td>47.768</td>\n",
       "      <td>50.107</td>\n",
       "      <td>51.386</td>\n",
       "      <td>51.821</td>\n",
       "      <td>50.821</td>\n",
       "      <td>46.100</td>\n",
       "      <td>40.238</td>\n",
       "      <td>39.193</td>\n",
       "      <td>42.384</td>\n",
       "    </tr>\n",
       "    <tr>\n",
       "      <th>Zimbabwe</th>\n",
       "      <th>Africa</th>\n",
       "      <td>48.451</td>\n",
       "      <td>50.469</td>\n",
       "      <td>52.358</td>\n",
       "      <td>53.995</td>\n",
       "      <td>55.635</td>\n",
       "      <td>57.674</td>\n",
       "      <td>60.363</td>\n",
       "      <td>62.351</td>\n",
       "      <td>60.377</td>\n",
       "      <td>46.809</td>\n",
       "      <td>39.989</td>\n",
       "      <td>43.487</td>\n",
       "    </tr>\n",
       "  </tbody>\n",
       "</table>\n",
       "<p>142 rows × 12 columns</p>\n",
       "</div>"
      ],
      "text/plain": [
       "year                            1952    1957    1962    1967    1972    1977  \\\n",
       "country            continent                                                   \n",
       "Afghanistan        Asia       28.801  30.332  31.997  34.020  36.088  38.438   \n",
       "Albania            Europe     55.230  59.280  64.820  66.220  67.690  68.930   \n",
       "Algeria            Africa     43.077  45.685  48.303  51.407  54.518  58.014   \n",
       "Angola             Africa     30.015  31.999  34.000  35.985  37.928  39.483   \n",
       "Argentina          Americas   62.485  64.399  65.142  65.634  67.065  68.481   \n",
       "...                              ...     ...     ...     ...     ...     ...   \n",
       "Vietnam            Asia       40.412  42.887  45.363  47.838  50.254  55.764   \n",
       "West Bank and Gaza Asia       43.160  45.671  48.127  51.631  56.532  60.765   \n",
       "Yemen Rep.         Asia       32.548  33.970  35.180  36.984  39.848  44.175   \n",
       "Zambia             Africa     42.038  44.077  46.023  47.768  50.107  51.386   \n",
       "Zimbabwe           Africa     48.451  50.469  52.358  53.995  55.635  57.674   \n",
       "\n",
       "year                            1982    1987    1992    1997    2002    2007  \n",
       "country            continent                                                  \n",
       "Afghanistan        Asia       39.854  40.822  41.674  41.763  42.129  43.828  \n",
       "Albania            Europe     70.420  72.000  71.581  72.950  75.651  76.423  \n",
       "Algeria            Africa     61.368  65.799  67.744  69.152  70.994  72.301  \n",
       "Angola             Africa     39.942  39.906  40.647  40.963  41.003  42.731  \n",
       "Argentina          Americas   69.942  70.774  71.868  73.275  74.340  75.320  \n",
       "...                              ...     ...     ...     ...     ...     ...  \n",
       "Vietnam            Asia       58.816  62.820  67.662  70.672  73.017  74.249  \n",
       "West Bank and Gaza Asia       64.406  67.046  69.718  71.096  72.370  73.422  \n",
       "Yemen Rep.         Asia       49.113  52.922  55.599  58.020  60.308  62.698  \n",
       "Zambia             Africa     51.821  50.821  46.100  40.238  39.193  42.384  \n",
       "Zimbabwe           Africa     60.363  62.351  60.377  46.809  39.989  43.487  \n",
       "\n",
       "[142 rows x 12 columns]"
      ]
     },
     "execution_count": 82,
     "metadata": {},
     "output_type": "execute_result"
    }
   ],
   "source": [
    "# Re-estruturando o dataframe, trabalhando com dois index\n",
    "data_frame_exemple.pivot(index=[\"country\", \"continent\"], columns=\"year\", values=\"lifeExp\")"
   ]
  },
  {
   "cell_type": "code",
   "execution_count": 84,
   "metadata": {
    "ExecuteTime": {
     "end_time": "2020-09-30T12:48:42.517735Z",
     "start_time": "2020-09-30T12:48:42.391101Z"
    }
   },
   "outputs": [
    {
     "data": {
      "text/html": [
       "<div>\n",
       "<style scoped>\n",
       "    .dataframe tbody tr th:only-of-type {\n",
       "        vertical-align: middle;\n",
       "    }\n",
       "\n",
       "    .dataframe tbody tr th {\n",
       "        vertical-align: top;\n",
       "    }\n",
       "\n",
       "    .dataframe thead tr th {\n",
       "        text-align: left;\n",
       "    }\n",
       "\n",
       "    .dataframe thead tr:last-of-type th {\n",
       "        text-align: right;\n",
       "    }\n",
       "</style>\n",
       "<table border=\"1\" class=\"dataframe\">\n",
       "  <thead>\n",
       "    <tr>\n",
       "      <th></th>\n",
       "      <th></th>\n",
       "      <th colspan=\"10\" halign=\"left\">lifeExp</th>\n",
       "      <th>...</th>\n",
       "      <th colspan=\"10\" halign=\"left\">pop</th>\n",
       "    </tr>\n",
       "    <tr>\n",
       "      <th></th>\n",
       "      <th>year</th>\n",
       "      <th>1952</th>\n",
       "      <th>1957</th>\n",
       "      <th>1962</th>\n",
       "      <th>1967</th>\n",
       "      <th>1972</th>\n",
       "      <th>1977</th>\n",
       "      <th>1982</th>\n",
       "      <th>1987</th>\n",
       "      <th>1992</th>\n",
       "      <th>1997</th>\n",
       "      <th>...</th>\n",
       "      <th>1962</th>\n",
       "      <th>1967</th>\n",
       "      <th>1972</th>\n",
       "      <th>1977</th>\n",
       "      <th>1982</th>\n",
       "      <th>1987</th>\n",
       "      <th>1992</th>\n",
       "      <th>1997</th>\n",
       "      <th>2002</th>\n",
       "      <th>2007</th>\n",
       "    </tr>\n",
       "    <tr>\n",
       "      <th>continent</th>\n",
       "      <th>country</th>\n",
       "      <th></th>\n",
       "      <th></th>\n",
       "      <th></th>\n",
       "      <th></th>\n",
       "      <th></th>\n",
       "      <th></th>\n",
       "      <th></th>\n",
       "      <th></th>\n",
       "      <th></th>\n",
       "      <th></th>\n",
       "      <th></th>\n",
       "      <th></th>\n",
       "      <th></th>\n",
       "      <th></th>\n",
       "      <th></th>\n",
       "      <th></th>\n",
       "      <th></th>\n",
       "      <th></th>\n",
       "      <th></th>\n",
       "      <th></th>\n",
       "      <th></th>\n",
       "    </tr>\n",
       "  </thead>\n",
       "  <tbody>\n",
       "    <tr>\n",
       "      <th rowspan=\"5\" valign=\"top\">Africa</th>\n",
       "      <th>Algeria</th>\n",
       "      <td>43.077</td>\n",
       "      <td>45.685</td>\n",
       "      <td>48.303</td>\n",
       "      <td>51.407</td>\n",
       "      <td>54.518</td>\n",
       "      <td>58.014</td>\n",
       "      <td>61.368</td>\n",
       "      <td>65.799</td>\n",
       "      <td>67.744</td>\n",
       "      <td>69.152</td>\n",
       "      <td>...</td>\n",
       "      <td>11000948.0</td>\n",
       "      <td>12760499.0</td>\n",
       "      <td>14760787.0</td>\n",
       "      <td>17152804.0</td>\n",
       "      <td>20033753.0</td>\n",
       "      <td>23254956.0</td>\n",
       "      <td>26298373.0</td>\n",
       "      <td>29072015.0</td>\n",
       "      <td>31287142.0</td>\n",
       "      <td>33333216.0</td>\n",
       "    </tr>\n",
       "    <tr>\n",
       "      <th>Angola</th>\n",
       "      <td>30.015</td>\n",
       "      <td>31.999</td>\n",
       "      <td>34.000</td>\n",
       "      <td>35.985</td>\n",
       "      <td>37.928</td>\n",
       "      <td>39.483</td>\n",
       "      <td>39.942</td>\n",
       "      <td>39.906</td>\n",
       "      <td>40.647</td>\n",
       "      <td>40.963</td>\n",
       "      <td>...</td>\n",
       "      <td>4826015.0</td>\n",
       "      <td>5247469.0</td>\n",
       "      <td>5894858.0</td>\n",
       "      <td>6162675.0</td>\n",
       "      <td>7016384.0</td>\n",
       "      <td>7874230.0</td>\n",
       "      <td>8735988.0</td>\n",
       "      <td>9875024.0</td>\n",
       "      <td>10866106.0</td>\n",
       "      <td>12420476.0</td>\n",
       "    </tr>\n",
       "    <tr>\n",
       "      <th>Benin</th>\n",
       "      <td>38.223</td>\n",
       "      <td>40.358</td>\n",
       "      <td>42.618</td>\n",
       "      <td>44.885</td>\n",
       "      <td>47.014</td>\n",
       "      <td>49.190</td>\n",
       "      <td>50.904</td>\n",
       "      <td>52.337</td>\n",
       "      <td>53.919</td>\n",
       "      <td>54.777</td>\n",
       "      <td>...</td>\n",
       "      <td>2151895.0</td>\n",
       "      <td>2427334.0</td>\n",
       "      <td>2761407.0</td>\n",
       "      <td>3168267.0</td>\n",
       "      <td>3641603.0</td>\n",
       "      <td>4243788.0</td>\n",
       "      <td>4981671.0</td>\n",
       "      <td>6066080.0</td>\n",
       "      <td>7026113.0</td>\n",
       "      <td>8078314.0</td>\n",
       "    </tr>\n",
       "    <tr>\n",
       "      <th>Botswana</th>\n",
       "      <td>47.622</td>\n",
       "      <td>49.618</td>\n",
       "      <td>51.520</td>\n",
       "      <td>53.298</td>\n",
       "      <td>56.024</td>\n",
       "      <td>59.319</td>\n",
       "      <td>61.484</td>\n",
       "      <td>63.622</td>\n",
       "      <td>62.745</td>\n",
       "      <td>52.556</td>\n",
       "      <td>...</td>\n",
       "      <td>512764.0</td>\n",
       "      <td>553541.0</td>\n",
       "      <td>619351.0</td>\n",
       "      <td>781472.0</td>\n",
       "      <td>970347.0</td>\n",
       "      <td>1151184.0</td>\n",
       "      <td>1342614.0</td>\n",
       "      <td>1536536.0</td>\n",
       "      <td>1630347.0</td>\n",
       "      <td>1639131.0</td>\n",
       "    </tr>\n",
       "    <tr>\n",
       "      <th>Burkina Faso</th>\n",
       "      <td>31.975</td>\n",
       "      <td>34.906</td>\n",
       "      <td>37.814</td>\n",
       "      <td>40.697</td>\n",
       "      <td>43.591</td>\n",
       "      <td>46.137</td>\n",
       "      <td>48.122</td>\n",
       "      <td>49.557</td>\n",
       "      <td>50.260</td>\n",
       "      <td>50.324</td>\n",
       "      <td>...</td>\n",
       "      <td>4919632.0</td>\n",
       "      <td>5127935.0</td>\n",
       "      <td>5433886.0</td>\n",
       "      <td>5889574.0</td>\n",
       "      <td>6634596.0</td>\n",
       "      <td>7586551.0</td>\n",
       "      <td>8878303.0</td>\n",
       "      <td>10352843.0</td>\n",
       "      <td>12251209.0</td>\n",
       "      <td>14326203.0</td>\n",
       "    </tr>\n",
       "    <tr>\n",
       "      <th>...</th>\n",
       "      <th>...</th>\n",
       "      <td>...</td>\n",
       "      <td>...</td>\n",
       "      <td>...</td>\n",
       "      <td>...</td>\n",
       "      <td>...</td>\n",
       "      <td>...</td>\n",
       "      <td>...</td>\n",
       "      <td>...</td>\n",
       "      <td>...</td>\n",
       "      <td>...</td>\n",
       "      <td>...</td>\n",
       "      <td>...</td>\n",
       "      <td>...</td>\n",
       "      <td>...</td>\n",
       "      <td>...</td>\n",
       "      <td>...</td>\n",
       "      <td>...</td>\n",
       "      <td>...</td>\n",
       "      <td>...</td>\n",
       "      <td>...</td>\n",
       "      <td>...</td>\n",
       "    </tr>\n",
       "    <tr>\n",
       "      <th rowspan=\"3\" valign=\"top\">Europe</th>\n",
       "      <th>Switzerland</th>\n",
       "      <td>69.620</td>\n",
       "      <td>70.560</td>\n",
       "      <td>71.320</td>\n",
       "      <td>72.770</td>\n",
       "      <td>73.780</td>\n",
       "      <td>75.390</td>\n",
       "      <td>76.210</td>\n",
       "      <td>77.410</td>\n",
       "      <td>78.030</td>\n",
       "      <td>79.370</td>\n",
       "      <td>...</td>\n",
       "      <td>5666000.0</td>\n",
       "      <td>6063000.0</td>\n",
       "      <td>6401400.0</td>\n",
       "      <td>6316424.0</td>\n",
       "      <td>6468126.0</td>\n",
       "      <td>6649942.0</td>\n",
       "      <td>6995447.0</td>\n",
       "      <td>7193761.0</td>\n",
       "      <td>7361757.0</td>\n",
       "      <td>7554661.0</td>\n",
       "    </tr>\n",
       "    <tr>\n",
       "      <th>Turkey</th>\n",
       "      <td>43.585</td>\n",
       "      <td>48.079</td>\n",
       "      <td>52.098</td>\n",
       "      <td>54.336</td>\n",
       "      <td>57.005</td>\n",
       "      <td>59.507</td>\n",
       "      <td>61.036</td>\n",
       "      <td>63.108</td>\n",
       "      <td>66.146</td>\n",
       "      <td>68.835</td>\n",
       "      <td>...</td>\n",
       "      <td>29788695.0</td>\n",
       "      <td>33411317.0</td>\n",
       "      <td>37492953.0</td>\n",
       "      <td>42404033.0</td>\n",
       "      <td>47328791.0</td>\n",
       "      <td>52881328.0</td>\n",
       "      <td>58179144.0</td>\n",
       "      <td>63047647.0</td>\n",
       "      <td>67308928.0</td>\n",
       "      <td>71158647.0</td>\n",
       "    </tr>\n",
       "    <tr>\n",
       "      <th>United Kingdom</th>\n",
       "      <td>69.180</td>\n",
       "      <td>70.420</td>\n",
       "      <td>70.760</td>\n",
       "      <td>71.360</td>\n",
       "      <td>72.010</td>\n",
       "      <td>72.760</td>\n",
       "      <td>74.040</td>\n",
       "      <td>75.007</td>\n",
       "      <td>76.420</td>\n",
       "      <td>77.218</td>\n",
       "      <td>...</td>\n",
       "      <td>53292000.0</td>\n",
       "      <td>54959000.0</td>\n",
       "      <td>56079000.0</td>\n",
       "      <td>56179000.0</td>\n",
       "      <td>56339704.0</td>\n",
       "      <td>56981620.0</td>\n",
       "      <td>57866349.0</td>\n",
       "      <td>58808266.0</td>\n",
       "      <td>59912431.0</td>\n",
       "      <td>60776238.0</td>\n",
       "    </tr>\n",
       "    <tr>\n",
       "      <th rowspan=\"2\" valign=\"top\">Oceania</th>\n",
       "      <th>Australia</th>\n",
       "      <td>69.120</td>\n",
       "      <td>70.330</td>\n",
       "      <td>70.930</td>\n",
       "      <td>71.100</td>\n",
       "      <td>71.930</td>\n",
       "      <td>73.490</td>\n",
       "      <td>74.740</td>\n",
       "      <td>76.320</td>\n",
       "      <td>77.560</td>\n",
       "      <td>78.830</td>\n",
       "      <td>...</td>\n",
       "      <td>10794968.0</td>\n",
       "      <td>11872264.0</td>\n",
       "      <td>13177000.0</td>\n",
       "      <td>14074100.0</td>\n",
       "      <td>15184200.0</td>\n",
       "      <td>16257249.0</td>\n",
       "      <td>17481977.0</td>\n",
       "      <td>18565243.0</td>\n",
       "      <td>19546792.0</td>\n",
       "      <td>20434176.0</td>\n",
       "    </tr>\n",
       "    <tr>\n",
       "      <th>New Zealand</th>\n",
       "      <td>69.390</td>\n",
       "      <td>70.260</td>\n",
       "      <td>71.240</td>\n",
       "      <td>71.520</td>\n",
       "      <td>71.890</td>\n",
       "      <td>72.220</td>\n",
       "      <td>73.840</td>\n",
       "      <td>74.320</td>\n",
       "      <td>76.330</td>\n",
       "      <td>77.550</td>\n",
       "      <td>...</td>\n",
       "      <td>2488550.0</td>\n",
       "      <td>2728150.0</td>\n",
       "      <td>2929100.0</td>\n",
       "      <td>3164900.0</td>\n",
       "      <td>3210650.0</td>\n",
       "      <td>3317166.0</td>\n",
       "      <td>3437674.0</td>\n",
       "      <td>3676187.0</td>\n",
       "      <td>3908037.0</td>\n",
       "      <td>4115771.0</td>\n",
       "    </tr>\n",
       "  </tbody>\n",
       "</table>\n",
       "<p>142 rows × 24 columns</p>\n",
       "</div>"
      ],
      "text/plain": [
       "                         lifeExp                                          \\\n",
       "year                        1952    1957    1962    1967    1972    1977   \n",
       "continent country                                                          \n",
       "Africa    Algeria         43.077  45.685  48.303  51.407  54.518  58.014   \n",
       "          Angola          30.015  31.999  34.000  35.985  37.928  39.483   \n",
       "          Benin           38.223  40.358  42.618  44.885  47.014  49.190   \n",
       "          Botswana        47.622  49.618  51.520  53.298  56.024  59.319   \n",
       "          Burkina Faso    31.975  34.906  37.814  40.697  43.591  46.137   \n",
       "...                          ...     ...     ...     ...     ...     ...   \n",
       "Europe    Switzerland     69.620  70.560  71.320  72.770  73.780  75.390   \n",
       "          Turkey          43.585  48.079  52.098  54.336  57.005  59.507   \n",
       "          United Kingdom  69.180  70.420  70.760  71.360  72.010  72.760   \n",
       "Oceania   Australia       69.120  70.330  70.930  71.100  71.930  73.490   \n",
       "          New Zealand     69.390  70.260  71.240  71.520  71.890  72.220   \n",
       "\n",
       "                                                          ...         pop  \\\n",
       "year                        1982    1987    1992    1997  ...        1962   \n",
       "continent country                                         ...               \n",
       "Africa    Algeria         61.368  65.799  67.744  69.152  ...  11000948.0   \n",
       "          Angola          39.942  39.906  40.647  40.963  ...   4826015.0   \n",
       "          Benin           50.904  52.337  53.919  54.777  ...   2151895.0   \n",
       "          Botswana        61.484  63.622  62.745  52.556  ...    512764.0   \n",
       "          Burkina Faso    48.122  49.557  50.260  50.324  ...   4919632.0   \n",
       "...                          ...     ...     ...     ...  ...         ...   \n",
       "Europe    Switzerland     76.210  77.410  78.030  79.370  ...   5666000.0   \n",
       "          Turkey          61.036  63.108  66.146  68.835  ...  29788695.0   \n",
       "          United Kingdom  74.040  75.007  76.420  77.218  ...  53292000.0   \n",
       "Oceania   Australia       74.740  76.320  77.560  78.830  ...  10794968.0   \n",
       "          New Zealand     73.840  74.320  76.330  77.550  ...   2488550.0   \n",
       "\n",
       "                                                                          \\\n",
       "year                            1967        1972        1977        1982   \n",
       "continent country                                                          \n",
       "Africa    Algeria         12760499.0  14760787.0  17152804.0  20033753.0   \n",
       "          Angola           5247469.0   5894858.0   6162675.0   7016384.0   \n",
       "          Benin            2427334.0   2761407.0   3168267.0   3641603.0   \n",
       "          Botswana          553541.0    619351.0    781472.0    970347.0   \n",
       "          Burkina Faso     5127935.0   5433886.0   5889574.0   6634596.0   \n",
       "...                              ...         ...         ...         ...   \n",
       "Europe    Switzerland      6063000.0   6401400.0   6316424.0   6468126.0   \n",
       "          Turkey          33411317.0  37492953.0  42404033.0  47328791.0   \n",
       "          United Kingdom  54959000.0  56079000.0  56179000.0  56339704.0   \n",
       "Oceania   Australia       11872264.0  13177000.0  14074100.0  15184200.0   \n",
       "          New Zealand      2728150.0   2929100.0   3164900.0   3210650.0   \n",
       "\n",
       "                                                                          \\\n",
       "year                            1987        1992        1997        2002   \n",
       "continent country                                                          \n",
       "Africa    Algeria         23254956.0  26298373.0  29072015.0  31287142.0   \n",
       "          Angola           7874230.0   8735988.0   9875024.0  10866106.0   \n",
       "          Benin            4243788.0   4981671.0   6066080.0   7026113.0   \n",
       "          Botswana         1151184.0   1342614.0   1536536.0   1630347.0   \n",
       "          Burkina Faso     7586551.0   8878303.0  10352843.0  12251209.0   \n",
       "...                              ...         ...         ...         ...   \n",
       "Europe    Switzerland      6649942.0   6995447.0   7193761.0   7361757.0   \n",
       "          Turkey          52881328.0  58179144.0  63047647.0  67308928.0   \n",
       "          United Kingdom  56981620.0  57866349.0  58808266.0  59912431.0   \n",
       "Oceania   Australia       16257249.0  17481977.0  18565243.0  19546792.0   \n",
       "          New Zealand      3317166.0   3437674.0   3676187.0   3908037.0   \n",
       "\n",
       "                                      \n",
       "year                            2007  \n",
       "continent country                     \n",
       "Africa    Algeria         33333216.0  \n",
       "          Angola          12420476.0  \n",
       "          Benin            8078314.0  \n",
       "          Botswana         1639131.0  \n",
       "          Burkina Faso    14326203.0  \n",
       "...                              ...  \n",
       "Europe    Switzerland      7554661.0  \n",
       "          Turkey          71158647.0  \n",
       "          United Kingdom  60776238.0  \n",
       "Oceania   Australia       20434176.0  \n",
       "          New Zealand      4115771.0  \n",
       "\n",
       "[142 rows x 24 columns]"
      ]
     },
     "execution_count": 84,
     "metadata": {},
     "output_type": "execute_result"
    }
   ],
   "source": [
    "# Re-estruturando o dataframe, trabalhando com dois index\n",
    "data_frame_exemple.pivot(index=[\"continent\", \"country\"], columns=\"year\", values=[\"lifeExp\", \"pop\"])"
   ]
  },
  {
   "cell_type": "markdown",
   "metadata": {},
   "source": [
    "### describe\n",
    "\n",
    "A função [`describe`](https://pandas.pydata.org/pandas-docs/stable/reference/api/pandas.DataFrame.describe.html) apresenta as estatísticas de um DataFrame, sendo: média, desvio padrão, quartis, etc. A sintaxe para aplicar está função é:\n",
    "```python\n",
    "DataFrame.describe(percentiles=None, include=None, exclude=None, datetime_is_numeric=False)\n",
    "```\n"
   ]
  },
  {
   "cell_type": "code",
   "execution_count": 85,
   "metadata": {
    "ExecuteTime": {
     "end_time": "2020-09-30T12:50:04.537038Z",
     "start_time": "2020-09-30T12:50:04.494297Z"
    }
   },
   "outputs": [
    {
     "data": {
      "text/html": [
       "<div>\n",
       "<style scoped>\n",
       "    .dataframe tbody tr th:only-of-type {\n",
       "        vertical-align: middle;\n",
       "    }\n",
       "\n",
       "    .dataframe tbody tr th {\n",
       "        vertical-align: top;\n",
       "    }\n",
       "\n",
       "    .dataframe thead th {\n",
       "        text-align: right;\n",
       "    }\n",
       "</style>\n",
       "<table border=\"1\" class=\"dataframe\">\n",
       "  <thead>\n",
       "    <tr style=\"text-align: right;\">\n",
       "      <th></th>\n",
       "      <th>year</th>\n",
       "      <th>pop</th>\n",
       "      <th>lifeExp</th>\n",
       "      <th>gdpPercap</th>\n",
       "    </tr>\n",
       "  </thead>\n",
       "  <tbody>\n",
       "    <tr>\n",
       "      <th>count</th>\n",
       "      <td>1704.00000</td>\n",
       "      <td>1.704000e+03</td>\n",
       "      <td>1704.000000</td>\n",
       "      <td>1704.000000</td>\n",
       "    </tr>\n",
       "    <tr>\n",
       "      <th>mean</th>\n",
       "      <td>1979.50000</td>\n",
       "      <td>2.960121e+07</td>\n",
       "      <td>59.474439</td>\n",
       "      <td>7215.327081</td>\n",
       "    </tr>\n",
       "    <tr>\n",
       "      <th>std</th>\n",
       "      <td>17.26533</td>\n",
       "      <td>1.061579e+08</td>\n",
       "      <td>12.917107</td>\n",
       "      <td>9857.454543</td>\n",
       "    </tr>\n",
       "    <tr>\n",
       "      <th>min</th>\n",
       "      <td>1952.00000</td>\n",
       "      <td>6.001100e+04</td>\n",
       "      <td>23.599000</td>\n",
       "      <td>241.165877</td>\n",
       "    </tr>\n",
       "    <tr>\n",
       "      <th>25%</th>\n",
       "      <td>1965.75000</td>\n",
       "      <td>2.793664e+06</td>\n",
       "      <td>48.198000</td>\n",
       "      <td>1202.060309</td>\n",
       "    </tr>\n",
       "    <tr>\n",
       "      <th>50%</th>\n",
       "      <td>1979.50000</td>\n",
       "      <td>7.023596e+06</td>\n",
       "      <td>60.712500</td>\n",
       "      <td>3531.846989</td>\n",
       "    </tr>\n",
       "    <tr>\n",
       "      <th>75%</th>\n",
       "      <td>1993.25000</td>\n",
       "      <td>1.958522e+07</td>\n",
       "      <td>70.845500</td>\n",
       "      <td>9325.462346</td>\n",
       "    </tr>\n",
       "    <tr>\n",
       "      <th>max</th>\n",
       "      <td>2007.00000</td>\n",
       "      <td>1.318683e+09</td>\n",
       "      <td>82.603000</td>\n",
       "      <td>113523.132900</td>\n",
       "    </tr>\n",
       "  </tbody>\n",
       "</table>\n",
       "</div>"
      ],
      "text/plain": [
       "             year           pop      lifeExp      gdpPercap\n",
       "count  1704.00000  1.704000e+03  1704.000000    1704.000000\n",
       "mean   1979.50000  2.960121e+07    59.474439    7215.327081\n",
       "std      17.26533  1.061579e+08    12.917107    9857.454543\n",
       "min    1952.00000  6.001100e+04    23.599000     241.165877\n",
       "25%    1965.75000  2.793664e+06    48.198000    1202.060309\n",
       "50%    1979.50000  7.023596e+06    60.712500    3531.846989\n",
       "75%    1993.25000  1.958522e+07    70.845500    9325.462346\n",
       "max    2007.00000  1.318683e+09    82.603000  113523.132900"
      ]
     },
     "execution_count": 85,
     "metadata": {},
     "output_type": "execute_result"
    }
   ],
   "source": [
    "data_frame_exemple.describe()"
   ]
  },
  {
   "cell_type": "code",
   "execution_count": 86,
   "metadata": {
    "ExecuteTime": {
     "end_time": "2020-09-30T12:50:39.120858Z",
     "start_time": "2020-09-30T12:50:39.025123Z"
    }
   },
   "outputs": [
    {
     "data": {
      "text/html": [
       "<div>\n",
       "<style scoped>\n",
       "    .dataframe tbody tr th:only-of-type {\n",
       "        vertical-align: middle;\n",
       "    }\n",
       "\n",
       "    .dataframe tbody tr th {\n",
       "        vertical-align: top;\n",
       "    }\n",
       "\n",
       "    .dataframe thead th {\n",
       "        text-align: right;\n",
       "    }\n",
       "</style>\n",
       "<table border=\"1\" class=\"dataframe\">\n",
       "  <thead>\n",
       "    <tr style=\"text-align: right;\">\n",
       "      <th></th>\n",
       "      <th>Col_1</th>\n",
       "      <th>Col_2</th>\n",
       "      <th>Col_3</th>\n",
       "      <th>Col_4</th>\n",
       "      <th>Col_5</th>\n",
       "      <th>Col_7</th>\n",
       "      <th>Col_8</th>\n",
       "      <th>Col_9</th>\n",
       "      <th>Col_10</th>\n",
       "    </tr>\n",
       "  </thead>\n",
       "  <tbody>\n",
       "    <tr>\n",
       "      <th>count</th>\n",
       "      <td>9</td>\n",
       "      <td>4</td>\n",
       "      <td>7</td>\n",
       "      <td>9</td>\n",
       "      <td>6</td>\n",
       "      <td>9</td>\n",
       "      <td>10</td>\n",
       "      <td>9</td>\n",
       "      <td>7</td>\n",
       "    </tr>\n",
       "    <tr>\n",
       "      <th>unique</th>\n",
       "      <td>8</td>\n",
       "      <td>4</td>\n",
       "      <td>4</td>\n",
       "      <td>8</td>\n",
       "      <td>4</td>\n",
       "      <td>8</td>\n",
       "      <td>8</td>\n",
       "      <td>5</td>\n",
       "      <td>5</td>\n",
       "    </tr>\n",
       "    <tr>\n",
       "      <th>top</th>\n",
       "      <td>8</td>\n",
       "      <td>-9</td>\n",
       "      <td>6</td>\n",
       "      <td>0</td>\n",
       "      <td>-6</td>\n",
       "      <td>8</td>\n",
       "      <td>-8</td>\n",
       "      <td>-8</td>\n",
       "      <td>4</td>\n",
       "    </tr>\n",
       "    <tr>\n",
       "      <th>freq</th>\n",
       "      <td>2</td>\n",
       "      <td>1</td>\n",
       "      <td>2</td>\n",
       "      <td>2</td>\n",
       "      <td>3</td>\n",
       "      <td>2</td>\n",
       "      <td>3</td>\n",
       "      <td>4</td>\n",
       "      <td>2</td>\n",
       "    </tr>\n",
       "  </tbody>\n",
       "</table>\n",
       "</div>"
      ],
      "text/plain": [
       "        Col_1  Col_2  Col_3  Col_4  Col_5  Col_7  Col_8  Col_9  Col_10\n",
       "count       9      4      7      9      6      9     10      9       7\n",
       "unique      8      4      4      8      4      8      8      5       5\n",
       "top         8     -9      6      0     -6      8     -8     -8       4\n",
       "freq        2      1      2      2      3      2      3      4       2"
      ]
     },
     "execution_count": 86,
     "metadata": {},
     "output_type": "execute_result"
    }
   ],
   "source": [
    "data_frame_nan.describe()"
   ]
  },
  {
   "cell_type": "markdown",
   "metadata": {},
   "source": [
    "### info\n",
    "\n",
    "O método [`info`](https://pandas.pydata.org/pandas-docs/stable/reference/api/pandas.DataFrame.info.html) apresenta um resumo do DataFrame. A sintaxe para aplicar esse método é:\n",
    "```python\n",
    "DataFrame.info(verbose=None, buf=None, max_cols=None, memory_usage=None, null_counts=None)\n",
    "```"
   ]
  },
  {
   "cell_type": "code",
   "execution_count": null,
   "metadata": {},
   "outputs": [],
   "source": []
  },
  {
   "cell_type": "code",
   "execution_count": 91,
   "metadata": {
    "ExecuteTime": {
     "end_time": "2020-09-30T12:52:37.204928Z",
     "start_time": "2020-09-30T12:52:37.194020Z"
    }
   },
   "outputs": [
    {
     "data": {
      "text/plain": [
       "str"
      ]
     },
     "execution_count": 91,
     "metadata": {},
     "output_type": "execute_result"
    }
   ],
   "source": [
    "type(data_frame_exemple.iloc[0, 0])"
   ]
  },
  {
   "cell_type": "code",
   "execution_count": 87,
   "metadata": {
    "ExecuteTime": {
     "end_time": "2020-09-30T12:51:01.919820Z",
     "start_time": "2020-09-30T12:51:01.902933Z"
    }
   },
   "outputs": [
    {
     "name": "stdout",
     "output_type": "stream",
     "text": [
      "<class 'pandas.core.frame.DataFrame'>\n",
      "RangeIndex: 1704 entries, 0 to 1703\n",
      "Data columns (total 6 columns):\n",
      " #   Column     Non-Null Count  Dtype  \n",
      "---  ------     --------------  -----  \n",
      " 0   country    1704 non-null   object \n",
      " 1   year       1704 non-null   int64  \n",
      " 2   pop        1704 non-null   float64\n",
      " 3   continent  1704 non-null   object \n",
      " 4   lifeExp    1704 non-null   float64\n",
      " 5   gdpPercap  1704 non-null   float64\n",
      "dtypes: float64(3), int64(1), object(2)\n",
      "memory usage: 80.0+ KB\n"
     ]
    }
   ],
   "source": [
    "data_frame_exemple.info()"
   ]
  },
  {
   "cell_type": "code",
   "execution_count": 92,
   "metadata": {
    "ExecuteTime": {
     "end_time": "2020-09-30T12:53:00.239892Z",
     "start_time": "2020-09-30T12:53:00.218492Z"
    }
   },
   "outputs": [
    {
     "name": "stdout",
     "output_type": "stream",
     "text": [
      "<class 'pandas.core.frame.DataFrame'>\n",
      "Index: 10 entries, Row_1 to Row_10\n",
      "Data columns (total 9 columns):\n",
      " #   Column  Non-Null Count  Dtype \n",
      "---  ------  --------------  ----- \n",
      " 0   Col_1   9 non-null      object\n",
      " 1   Col_2   4 non-null      object\n",
      " 2   Col_3   7 non-null      object\n",
      " 3   Col_4   9 non-null      object\n",
      " 4   Col_5   6 non-null      object\n",
      " 5   Col_7   9 non-null      object\n",
      " 6   Col_8   10 non-null     object\n",
      " 7   Col_9   9 non-null      object\n",
      " 8   Col_10  7 non-null      object\n",
      "dtypes: object(9)\n",
      "memory usage: 1.1+ KB\n"
     ]
    }
   ],
   "source": [
    "data_frame_nan.info()"
   ]
  },
  {
   "cell_type": "markdown",
   "metadata": {},
   "source": [
    "## Exportando e importando dados\n",
    "\n",
    "Uma das habilidades mais relevantes de Pandas é a forma eficiente de escrever e transformar esses arquivos em DataFrame. A biblioteca pandas possui mais de 15 funções que realizam a leitura de arquivos e os transformam em `pandas.DataFrame`.\n",
    "\n",
    "---\n",
    "As funções que utilizaremos para leitura de arquivos são:\n",
    "- `pd.read_csv()`\n",
    "- `pd.read_excel()`\n",
    "- `pd.read_html()`\n",
    "- `pd.to_csv()`\n",
    "- `pd.to_excel()`"
   ]
  },
  {
   "cell_type": "markdown",
   "metadata": {
    "ExecuteTime": {
     "end_time": "2020-09-28T17:59:01.091269Z",
     "start_time": "2020-09-28T17:59:01.082136Z"
    }
   },
   "source": [
    "### read_csv"
   ]
  },
  {
   "cell_type": "markdown",
   "metadata": {
    "ExecuteTime": {
     "end_time": "2020-09-28T18:11:20.921006Z",
     "start_time": "2020-09-28T18:11:20.906337Z"
    }
   },
   "source": [
    "A função [`pd.read_csv`](https://pandas.pydata.org/pandas-docs/stable/reference/api/pandas.read_csv.html) realiza a leitura de arquivos `.csv` ou `.txt` e os transforma em DataFrame. A sintaxe para utilizar está função é:\n",
    "```python\n",
    "pandas.read_csv(filepath_or_buffer, sep=',', delimiter=None, header='infer', names=None, index_col=None, usecols=None, squeeze=False, prefix=None, mangle_dupe_cols=True, dtype=None, engine=None, converters=None, true_values=None, false_values=None, skipinitialspace=False, skiprows=None, skipfooter=0, nrows=None, na_values=None, keep_default_na=True, na_filter=True, verbose=False, skip_blank_lines=True, parse_dates=False, infer_datetime_format=False, keep_date_col=False, date_parser=None, dayfirst=False, cache_dates=True, iterator=False, chunksize=None, compression='infer', thousands=None, decimal='.', lineterminator=None, quotechar='\"', quoting=0, doublequote=True, escapechar=None, comment=None, encoding=None, dialect=None, error_bad_lines=True, warn_bad_lines=True, delim_whitespace=False, low_memory=True, memory_map=False, float_precision=None)\n",
    "```\n",
    "Como podemos observar esta função possui diversos parâmetros, porém o único parâmetro obrigatório é `filepath_or_buffer`, os outros parâmetros estão definidos por padrão. Mas devemos ter cuidado com o parâmetro `sep` o qual pude ser diferente ao valor padrão \"`,`\"."
   ]
  },
  {
   "cell_type": "code",
   "execution_count": 94,
   "metadata": {
    "ExecuteTime": {
     "end_time": "2020-09-30T12:57:01.989289Z",
     "start_time": "2020-09-30T12:57:01.915730Z"
    }
   },
   "outputs": [
    {
     "data": {
      "text/html": [
       "<div>\n",
       "<style scoped>\n",
       "    .dataframe tbody tr th:only-of-type {\n",
       "        vertical-align: middle;\n",
       "    }\n",
       "\n",
       "    .dataframe tbody tr th {\n",
       "        vertical-align: top;\n",
       "    }\n",
       "\n",
       "    .dataframe thead th {\n",
       "        text-align: right;\n",
       "    }\n",
       "</style>\n",
       "<table border=\"1\" class=\"dataframe\">\n",
       "  <thead>\n",
       "    <tr style=\"text-align: right;\">\n",
       "      <th></th>\n",
       "      <th>state</th>\n",
       "      <th>state_abbreviation</th>\n",
       "      <th>county</th>\n",
       "      <th>fips</th>\n",
       "      <th>party</th>\n",
       "      <th>candidate</th>\n",
       "      <th>votes</th>\n",
       "      <th>fraction_votes</th>\n",
       "    </tr>\n",
       "  </thead>\n",
       "  <tbody>\n",
       "    <tr>\n",
       "      <th>0</th>\n",
       "      <td>Alabama</td>\n",
       "      <td>AL</td>\n",
       "      <td>Autauga</td>\n",
       "      <td>1001.0</td>\n",
       "      <td>Democrat</td>\n",
       "      <td>Bernie Sanders</td>\n",
       "      <td>544</td>\n",
       "      <td>0.182</td>\n",
       "    </tr>\n",
       "    <tr>\n",
       "      <th>1</th>\n",
       "      <td>Alabama</td>\n",
       "      <td>AL</td>\n",
       "      <td>Autauga</td>\n",
       "      <td>1001.0</td>\n",
       "      <td>Democrat</td>\n",
       "      <td>Hillary Clinton</td>\n",
       "      <td>2387</td>\n",
       "      <td>0.800</td>\n",
       "    </tr>\n",
       "    <tr>\n",
       "      <th>2</th>\n",
       "      <td>Alabama</td>\n",
       "      <td>AL</td>\n",
       "      <td>Baldwin</td>\n",
       "      <td>1003.0</td>\n",
       "      <td>Democrat</td>\n",
       "      <td>Bernie Sanders</td>\n",
       "      <td>2694</td>\n",
       "      <td>0.329</td>\n",
       "    </tr>\n",
       "    <tr>\n",
       "      <th>3</th>\n",
       "      <td>Alabama</td>\n",
       "      <td>AL</td>\n",
       "      <td>Baldwin</td>\n",
       "      <td>1003.0</td>\n",
       "      <td>Democrat</td>\n",
       "      <td>Hillary Clinton</td>\n",
       "      <td>5290</td>\n",
       "      <td>0.647</td>\n",
       "    </tr>\n",
       "    <tr>\n",
       "      <th>4</th>\n",
       "      <td>Alabama</td>\n",
       "      <td>AL</td>\n",
       "      <td>Barbour</td>\n",
       "      <td>1005.0</td>\n",
       "      <td>Democrat</td>\n",
       "      <td>Bernie Sanders</td>\n",
       "      <td>222</td>\n",
       "      <td>0.078</td>\n",
       "    </tr>\n",
       "    <tr>\n",
       "      <th>...</th>\n",
       "      <td>...</td>\n",
       "      <td>...</td>\n",
       "      <td>...</td>\n",
       "      <td>...</td>\n",
       "      <td>...</td>\n",
       "      <td>...</td>\n",
       "      <td>...</td>\n",
       "      <td>...</td>\n",
       "    </tr>\n",
       "    <tr>\n",
       "      <th>24606</th>\n",
       "      <td>Wyoming</td>\n",
       "      <td>WY</td>\n",
       "      <td>Teton-Sublette</td>\n",
       "      <td>95600028.0</td>\n",
       "      <td>Republican</td>\n",
       "      <td>Ted Cruz</td>\n",
       "      <td>0</td>\n",
       "      <td>0.000</td>\n",
       "    </tr>\n",
       "    <tr>\n",
       "      <th>24607</th>\n",
       "      <td>Wyoming</td>\n",
       "      <td>WY</td>\n",
       "      <td>Uinta-Lincoln</td>\n",
       "      <td>95600027.0</td>\n",
       "      <td>Republican</td>\n",
       "      <td>Donald Trump</td>\n",
       "      <td>0</td>\n",
       "      <td>0.000</td>\n",
       "    </tr>\n",
       "    <tr>\n",
       "      <th>24608</th>\n",
       "      <td>Wyoming</td>\n",
       "      <td>WY</td>\n",
       "      <td>Uinta-Lincoln</td>\n",
       "      <td>95600027.0</td>\n",
       "      <td>Republican</td>\n",
       "      <td>John Kasich</td>\n",
       "      <td>0</td>\n",
       "      <td>0.000</td>\n",
       "    </tr>\n",
       "    <tr>\n",
       "      <th>24609</th>\n",
       "      <td>Wyoming</td>\n",
       "      <td>WY</td>\n",
       "      <td>Uinta-Lincoln</td>\n",
       "      <td>95600027.0</td>\n",
       "      <td>Republican</td>\n",
       "      <td>Marco Rubio</td>\n",
       "      <td>0</td>\n",
       "      <td>0.000</td>\n",
       "    </tr>\n",
       "    <tr>\n",
       "      <th>24610</th>\n",
       "      <td>Wyoming</td>\n",
       "      <td>WY</td>\n",
       "      <td>Uinta-Lincoln</td>\n",
       "      <td>95600027.0</td>\n",
       "      <td>Republican</td>\n",
       "      <td>Ted Cruz</td>\n",
       "      <td>53</td>\n",
       "      <td>1.000</td>\n",
       "    </tr>\n",
       "  </tbody>\n",
       "</table>\n",
       "<p>24611 rows × 8 columns</p>\n",
       "</div>"
      ],
      "text/plain": [
       "         state state_abbreviation          county        fips       party  \\\n",
       "0      Alabama                 AL         Autauga      1001.0    Democrat   \n",
       "1      Alabama                 AL         Autauga      1001.0    Democrat   \n",
       "2      Alabama                 AL         Baldwin      1003.0    Democrat   \n",
       "3      Alabama                 AL         Baldwin      1003.0    Democrat   \n",
       "4      Alabama                 AL         Barbour      1005.0    Democrat   \n",
       "...        ...                ...             ...         ...         ...   \n",
       "24606  Wyoming                 WY  Teton-Sublette  95600028.0  Republican   \n",
       "24607  Wyoming                 WY   Uinta-Lincoln  95600027.0  Republican   \n",
       "24608  Wyoming                 WY   Uinta-Lincoln  95600027.0  Republican   \n",
       "24609  Wyoming                 WY   Uinta-Lincoln  95600027.0  Republican   \n",
       "24610  Wyoming                 WY   Uinta-Lincoln  95600027.0  Republican   \n",
       "\n",
       "             candidate  votes  fraction_votes  \n",
       "0       Bernie Sanders    544           0.182  \n",
       "1      Hillary Clinton   2387           0.800  \n",
       "2       Bernie Sanders   2694           0.329  \n",
       "3      Hillary Clinton   5290           0.647  \n",
       "4       Bernie Sanders    222           0.078  \n",
       "...                ...    ...             ...  \n",
       "24606         Ted Cruz      0           0.000  \n",
       "24607     Donald Trump      0           0.000  \n",
       "24608      John Kasich      0           0.000  \n",
       "24609      Marco Rubio      0           0.000  \n",
       "24610         Ted Cruz     53           1.000  \n",
       "\n",
       "[24611 rows x 8 columns]"
      ]
     },
     "execution_count": 94,
     "metadata": {},
     "output_type": "execute_result"
    }
   ],
   "source": [
    "# Lendo um arquivo csv com separador padrão\n",
    "arquivo_1 = pd.read_csv(\"./Dados/arquivo1.csv\")\n",
    "arquivo_1"
   ]
  },
  {
   "cell_type": "code",
   "execution_count": 96,
   "metadata": {
    "ExecuteTime": {
     "end_time": "2020-09-30T12:58:10.199853Z",
     "start_time": "2020-09-30T12:58:10.099928Z"
    }
   },
   "outputs": [
    {
     "data": {
      "text/html": [
       "<div>\n",
       "<style scoped>\n",
       "    .dataframe tbody tr th:only-of-type {\n",
       "        vertical-align: middle;\n",
       "    }\n",
       "\n",
       "    .dataframe tbody tr th {\n",
       "        vertical-align: top;\n",
       "    }\n",
       "\n",
       "    .dataframe thead th {\n",
       "        text-align: right;\n",
       "    }\n",
       "</style>\n",
       "<table border=\"1\" class=\"dataframe\">\n",
       "  <thead>\n",
       "    <tr style=\"text-align: right;\">\n",
       "      <th></th>\n",
       "      <th>0</th>\n",
       "      <th>1</th>\n",
       "      <th>2</th>\n",
       "      <th>3</th>\n",
       "      <th>4</th>\n",
       "      <th>5</th>\n",
       "      <th>6</th>\n",
       "      <th>7</th>\n",
       "      <th>8</th>\n",
       "      <th>9</th>\n",
       "      <th>...</th>\n",
       "      <th>19</th>\n",
       "      <th>20</th>\n",
       "      <th>21</th>\n",
       "      <th>22</th>\n",
       "      <th>23</th>\n",
       "      <th>24</th>\n",
       "      <th>25</th>\n",
       "      <th>26</th>\n",
       "      <th>27</th>\n",
       "      <th>28</th>\n",
       "    </tr>\n",
       "  </thead>\n",
       "  <tbody>\n",
       "    <tr>\n",
       "      <th>0</th>\n",
       "      <td>0.0</td>\n",
       "      <td>0.000</td>\n",
       "      <td>0.00</td>\n",
       "      <td>0.000</td>\n",
       "      <td>0.000</td>\n",
       "      <td>0.0000</td>\n",
       "      <td>0.0000</td>\n",
       "      <td>0.00</td>\n",
       "      <td>0.00</td>\n",
       "      <td>0.0000</td>\n",
       "      <td>...</td>\n",
       "      <td>0.00</td>\n",
       "      <td>0.00</td>\n",
       "      <td>0.0000</td>\n",
       "      <td>0.000</td>\n",
       "      <td>0.000</td>\n",
       "      <td>0.00</td>\n",
       "      <td>0.00</td>\n",
       "      <td>0.0000</td>\n",
       "      <td>0.0000</td>\n",
       "      <td>0.000</td>\n",
       "    </tr>\n",
       "    <tr>\n",
       "      <th>1</th>\n",
       "      <td>0.0</td>\n",
       "      <td>19.500</td>\n",
       "      <td>1.02</td>\n",
       "      <td>0.391</td>\n",
       "      <td>0.202</td>\n",
       "      <td>0.0350</td>\n",
       "      <td>0.0122</td>\n",
       "      <td>0.29</td>\n",
       "      <td>4.44</td>\n",
       "      <td>9.8300</td>\n",
       "      <td>...</td>\n",
       "      <td>4.37</td>\n",
       "      <td>2.27</td>\n",
       "      <td>0.1180</td>\n",
       "      <td>0.079</td>\n",
       "      <td>3.050</td>\n",
       "      <td>7.01</td>\n",
       "      <td>9.81</td>\n",
       "      <td>0.0481</td>\n",
       "      <td>0.5550</td>\n",
       "      <td>7.390</td>\n",
       "    </tr>\n",
       "    <tr>\n",
       "      <th>2</th>\n",
       "      <td>1.0</td>\n",
       "      <td>19.500</td>\n",
       "      <td>1.02</td>\n",
       "      <td>0.391</td>\n",
       "      <td>0.202</td>\n",
       "      <td>0.0350</td>\n",
       "      <td>0.0122</td>\n",
       "      <td>0.29</td>\n",
       "      <td>4.44</td>\n",
       "      <td>9.8300</td>\n",
       "      <td>...</td>\n",
       "      <td>4.37</td>\n",
       "      <td>2.27</td>\n",
       "      <td>0.1180</td>\n",
       "      <td>0.079</td>\n",
       "      <td>3.050</td>\n",
       "      <td>7.01</td>\n",
       "      <td>9.81</td>\n",
       "      <td>0.0481</td>\n",
       "      <td>0.5550</td>\n",
       "      <td>7.390</td>\n",
       "    </tr>\n",
       "    <tr>\n",
       "      <th>3</th>\n",
       "      <td>2.0</td>\n",
       "      <td>19.500</td>\n",
       "      <td>1.02</td>\n",
       "      <td>0.391</td>\n",
       "      <td>0.202</td>\n",
       "      <td>0.0350</td>\n",
       "      <td>0.0122</td>\n",
       "      <td>0.29</td>\n",
       "      <td>4.44</td>\n",
       "      <td>9.8300</td>\n",
       "      <td>...</td>\n",
       "      <td>4.37</td>\n",
       "      <td>2.27</td>\n",
       "      <td>0.1180</td>\n",
       "      <td>0.079</td>\n",
       "      <td>3.050</td>\n",
       "      <td>7.01</td>\n",
       "      <td>9.81</td>\n",
       "      <td>0.0481</td>\n",
       "      <td>0.5550</td>\n",
       "      <td>7.390</td>\n",
       "    </tr>\n",
       "    <tr>\n",
       "      <th>4</th>\n",
       "      <td>3.0</td>\n",
       "      <td>19.500</td>\n",
       "      <td>1.02</td>\n",
       "      <td>0.391</td>\n",
       "      <td>0.202</td>\n",
       "      <td>0.0350</td>\n",
       "      <td>0.0122</td>\n",
       "      <td>0.29</td>\n",
       "      <td>4.44</td>\n",
       "      <td>9.8300</td>\n",
       "      <td>...</td>\n",
       "      <td>4.37</td>\n",
       "      <td>2.27</td>\n",
       "      <td>0.1180</td>\n",
       "      <td>0.079</td>\n",
       "      <td>3.050</td>\n",
       "      <td>7.01</td>\n",
       "      <td>9.81</td>\n",
       "      <td>0.0481</td>\n",
       "      <td>0.5550</td>\n",
       "      <td>7.390</td>\n",
       "    </tr>\n",
       "    <tr>\n",
       "      <th>...</th>\n",
       "      <td>...</td>\n",
       "      <td>...</td>\n",
       "      <td>...</td>\n",
       "      <td>...</td>\n",
       "      <td>...</td>\n",
       "      <td>...</td>\n",
       "      <td>...</td>\n",
       "      <td>...</td>\n",
       "      <td>...</td>\n",
       "      <td>...</td>\n",
       "      <td>...</td>\n",
       "      <td>...</td>\n",
       "      <td>...</td>\n",
       "      <td>...</td>\n",
       "      <td>...</td>\n",
       "      <td>...</td>\n",
       "      <td>...</td>\n",
       "      <td>...</td>\n",
       "      <td>...</td>\n",
       "      <td>...</td>\n",
       "      <td>...</td>\n",
       "    </tr>\n",
       "    <tr>\n",
       "      <th>8747</th>\n",
       "      <td>8750.0</td>\n",
       "      <td>0.743</td>\n",
       "      <td>1.86</td>\n",
       "      <td>0.349</td>\n",
       "      <td>0.396</td>\n",
       "      <td>0.0391</td>\n",
       "      <td>0.0147</td>\n",
       "      <td>2.62</td>\n",
       "      <td>5.73</td>\n",
       "      <td>0.5040</td>\n",
       "      <td>...</td>\n",
       "      <td>7.60</td>\n",
       "      <td>6.26</td>\n",
       "      <td>0.0732</td>\n",
       "      <td>0.109</td>\n",
       "      <td>0.941</td>\n",
       "      <td>9.52</td>\n",
       "      <td>1.98</td>\n",
       "      <td>0.0433</td>\n",
       "      <td>0.0287</td>\n",
       "      <td>0.226</td>\n",
       "    </tr>\n",
       "    <tr>\n",
       "      <th>8748</th>\n",
       "      <td>8750.0</td>\n",
       "      <td>0.743</td>\n",
       "      <td>1.86</td>\n",
       "      <td>0.349</td>\n",
       "      <td>0.396</td>\n",
       "      <td>0.0391</td>\n",
       "      <td>0.0147</td>\n",
       "      <td>2.62</td>\n",
       "      <td>5.73</td>\n",
       "      <td>0.5040</td>\n",
       "      <td>...</td>\n",
       "      <td>7.60</td>\n",
       "      <td>6.26</td>\n",
       "      <td>0.0732</td>\n",
       "      <td>0.109</td>\n",
       "      <td>0.941</td>\n",
       "      <td>9.52</td>\n",
       "      <td>1.98</td>\n",
       "      <td>0.0433</td>\n",
       "      <td>0.0287</td>\n",
       "      <td>0.226</td>\n",
       "    </tr>\n",
       "    <tr>\n",
       "      <th>8749</th>\n",
       "      <td>8750.0</td>\n",
       "      <td>0.743</td>\n",
       "      <td>1.86</td>\n",
       "      <td>0.349</td>\n",
       "      <td>0.396</td>\n",
       "      <td>0.0391</td>\n",
       "      <td>0.0147</td>\n",
       "      <td>2.62</td>\n",
       "      <td>5.73</td>\n",
       "      <td>0.5040</td>\n",
       "      <td>...</td>\n",
       "      <td>7.60</td>\n",
       "      <td>6.26</td>\n",
       "      <td>0.0732</td>\n",
       "      <td>0.109</td>\n",
       "      <td>0.941</td>\n",
       "      <td>9.52</td>\n",
       "      <td>1.98</td>\n",
       "      <td>0.0433</td>\n",
       "      <td>0.0287</td>\n",
       "      <td>0.226</td>\n",
       "    </tr>\n",
       "    <tr>\n",
       "      <th>8750</th>\n",
       "      <td>8750.0</td>\n",
       "      <td>0.743</td>\n",
       "      <td>1.86</td>\n",
       "      <td>0.349</td>\n",
       "      <td>0.396</td>\n",
       "      <td>0.0391</td>\n",
       "      <td>0.0147</td>\n",
       "      <td>2.62</td>\n",
       "      <td>5.73</td>\n",
       "      <td>0.5040</td>\n",
       "      <td>...</td>\n",
       "      <td>7.60</td>\n",
       "      <td>6.26</td>\n",
       "      <td>0.0732</td>\n",
       "      <td>0.109</td>\n",
       "      <td>0.941</td>\n",
       "      <td>9.52</td>\n",
       "      <td>1.98</td>\n",
       "      <td>0.0433</td>\n",
       "      <td>0.0287</td>\n",
       "      <td>0.226</td>\n",
       "    </tr>\n",
       "    <tr>\n",
       "      <th>8751</th>\n",
       "      <td>8750.0</td>\n",
       "      <td>0.723</td>\n",
       "      <td>1.62</td>\n",
       "      <td>0.330</td>\n",
       "      <td>0.405</td>\n",
       "      <td>0.0356</td>\n",
       "      <td>0.0140</td>\n",
       "      <td>2.83</td>\n",
       "      <td>4.47</td>\n",
       "      <td>0.0111</td>\n",
       "      <td>...</td>\n",
       "      <td>9.33</td>\n",
       "      <td>8.88</td>\n",
       "      <td>0.0768</td>\n",
       "      <td>0.109</td>\n",
       "      <td>0.775</td>\n",
       "      <td>9.56</td>\n",
       "      <td>1.41</td>\n",
       "      <td>0.0436</td>\n",
       "      <td>0.0251</td>\n",
       "      <td>0.174</td>\n",
       "    </tr>\n",
       "  </tbody>\n",
       "</table>\n",
       "<p>8752 rows × 29 columns</p>\n",
       "</div>"
      ],
      "text/plain": [
       "          0       1     2      3      4       5       6     7     8       9   \\\n",
       "0        0.0   0.000  0.00  0.000  0.000  0.0000  0.0000  0.00  0.00  0.0000   \n",
       "1        0.0  19.500  1.02  0.391  0.202  0.0350  0.0122  0.29  4.44  9.8300   \n",
       "2        1.0  19.500  1.02  0.391  0.202  0.0350  0.0122  0.29  4.44  9.8300   \n",
       "3        2.0  19.500  1.02  0.391  0.202  0.0350  0.0122  0.29  4.44  9.8300   \n",
       "4        3.0  19.500  1.02  0.391  0.202  0.0350  0.0122  0.29  4.44  9.8300   \n",
       "...      ...     ...   ...    ...    ...     ...     ...   ...   ...     ...   \n",
       "8747  8750.0   0.743  1.86  0.349  0.396  0.0391  0.0147  2.62  5.73  0.5040   \n",
       "8748  8750.0   0.743  1.86  0.349  0.396  0.0391  0.0147  2.62  5.73  0.5040   \n",
       "8749  8750.0   0.743  1.86  0.349  0.396  0.0391  0.0147  2.62  5.73  0.5040   \n",
       "8750  8750.0   0.743  1.86  0.349  0.396  0.0391  0.0147  2.62  5.73  0.5040   \n",
       "8751  8750.0   0.723  1.62  0.330  0.405  0.0356  0.0140  2.83  4.47  0.0111   \n",
       "\n",
       "      ...    19    20      21     22     23    24    25      26      27     28  \n",
       "0     ...  0.00  0.00  0.0000  0.000  0.000  0.00  0.00  0.0000  0.0000  0.000  \n",
       "1     ...  4.37  2.27  0.1180  0.079  3.050  7.01  9.81  0.0481  0.5550  7.390  \n",
       "2     ...  4.37  2.27  0.1180  0.079  3.050  7.01  9.81  0.0481  0.5550  7.390  \n",
       "3     ...  4.37  2.27  0.1180  0.079  3.050  7.01  9.81  0.0481  0.5550  7.390  \n",
       "4     ...  4.37  2.27  0.1180  0.079  3.050  7.01  9.81  0.0481  0.5550  7.390  \n",
       "...   ...   ...   ...     ...    ...    ...   ...   ...     ...     ...    ...  \n",
       "8747  ...  7.60  6.26  0.0732  0.109  0.941  9.52  1.98  0.0433  0.0287  0.226  \n",
       "8748  ...  7.60  6.26  0.0732  0.109  0.941  9.52  1.98  0.0433  0.0287  0.226  \n",
       "8749  ...  7.60  6.26  0.0732  0.109  0.941  9.52  1.98  0.0433  0.0287  0.226  \n",
       "8750  ...  7.60  6.26  0.0732  0.109  0.941  9.52  1.98  0.0433  0.0287  0.226  \n",
       "8751  ...  9.33  8.88  0.0768  0.109  0.775  9.56  1.41  0.0436  0.0251  0.174  \n",
       "\n",
       "[8752 rows x 29 columns]"
      ]
     },
     "execution_count": 96,
     "metadata": {},
     "output_type": "execute_result"
    }
   ],
   "source": [
    "# Lendo mais um arquivo csv\n",
    "arquivo_2 = pd.read_csv(\"./Dados/arquivo2.csv\", header=None)\n",
    "arquivo_2"
   ]
  },
  {
   "cell_type": "code",
   "execution_count": 98,
   "metadata": {
    "ExecuteTime": {
     "end_time": "2020-09-30T12:59:18.524361Z",
     "start_time": "2020-09-30T12:59:18.507609Z"
    }
   },
   "outputs": [
    {
     "data": {
      "text/html": [
       "<div>\n",
       "<style scoped>\n",
       "    .dataframe tbody tr th:only-of-type {\n",
       "        vertical-align: middle;\n",
       "    }\n",
       "\n",
       "    .dataframe tbody tr th {\n",
       "        vertical-align: top;\n",
       "    }\n",
       "\n",
       "    .dataframe thead th {\n",
       "        text-align: right;\n",
       "    }\n",
       "</style>\n",
       "<table border=\"1\" class=\"dataframe\">\n",
       "  <thead>\n",
       "    <tr style=\"text-align: right;\">\n",
       "      <th></th>\n",
       "      <th>year</th>\n",
       "      <th>language</th>\n",
       "    </tr>\n",
       "  </thead>\n",
       "  <tbody>\n",
       "    <tr>\n",
       "      <th>0</th>\n",
       "      <td>1951</td>\n",
       "      <td>Regional Assembly Language</td>\n",
       "    </tr>\n",
       "    <tr>\n",
       "      <th>1</th>\n",
       "      <td>1952</td>\n",
       "      <td>Autocode</td>\n",
       "    </tr>\n",
       "    <tr>\n",
       "      <th>2</th>\n",
       "      <td>1954</td>\n",
       "      <td>IPL</td>\n",
       "    </tr>\n",
       "    <tr>\n",
       "      <th>3</th>\n",
       "      <td>1955</td>\n",
       "      <td>FLOW MATIC</td>\n",
       "    </tr>\n",
       "    <tr>\n",
       "      <th>4</th>\n",
       "      <td>1957</td>\n",
       "      <td>FORTRAN</td>\n",
       "    </tr>\n",
       "    <tr>\n",
       "      <th>...</th>\n",
       "      <td>...</td>\n",
       "      <td>...</td>\n",
       "    </tr>\n",
       "    <tr>\n",
       "      <th>68</th>\n",
       "      <td>2011</td>\n",
       "      <td>Kotlin</td>\n",
       "    </tr>\n",
       "    <tr>\n",
       "      <th>69</th>\n",
       "      <td>2011</td>\n",
       "      <td>Red</td>\n",
       "    </tr>\n",
       "    <tr>\n",
       "      <th>70</th>\n",
       "      <td>2011</td>\n",
       "      <td>Elixir</td>\n",
       "    </tr>\n",
       "    <tr>\n",
       "      <th>71</th>\n",
       "      <td>2012</td>\n",
       "      <td>Julia</td>\n",
       "    </tr>\n",
       "    <tr>\n",
       "      <th>72</th>\n",
       "      <td>2014</td>\n",
       "      <td>Swift</td>\n",
       "    </tr>\n",
       "  </tbody>\n",
       "</table>\n",
       "<p>73 rows × 2 columns</p>\n",
       "</div>"
      ],
      "text/plain": [
       "    year                    language\n",
       "0   1951  Regional Assembly Language\n",
       "1   1952                    Autocode\n",
       "2   1954                         IPL\n",
       "3   1955                  FLOW MATIC\n",
       "4   1957                     FORTRAN\n",
       "..   ...                         ...\n",
       "68  2011                      Kotlin\n",
       "69  2011                         Red\n",
       "70  2011                      Elixir\n",
       "71  2012                       Julia\n",
       "72  2014                       Swift\n",
       "\n",
       "[73 rows x 2 columns]"
      ]
     },
     "execution_count": 98,
     "metadata": {},
     "output_type": "execute_result"
    }
   ],
   "source": [
    "# Lendo mais um arquivo csv\n",
    "arquivo_3 = pd.read_csv(\"./Dados/arquivo3.csv\", sep=\"-\")\n",
    "arquivo_3"
   ]
  },
  {
   "cell_type": "markdown",
   "metadata": {},
   "source": [
    "### read_excel\n",
    "A função [`read_excel`](https://pandas.pydata.org/pandas-docs/stable/reference/api/pandas.read_excel.html) permite a leitura de arquivos tipo excel. Vale  destacar que a as extensões permitidas são: xls, xlsx, xlsm, xlsb, odf, ods. A sintaxe para a utilizar esta função é:\n",
    "```python\n",
    "pandas.read_excel(io, sheet_name=0, header=0, names=None, index_col=None, usecols=None, squeeze=False, dtype=None, engine=None, converters=None, true_values=None, false_values=None, skiprows=None, nrows=None, na_values=None, keep_default_na=True, verbose=False, parse_dates=False, date_parser=None, thousands=None, comment=None, skip_footer=0, skipfooter=0, convert_float=True, mangle_dupe_cols=True, **kwds)\n",
    "```\n"
   ]
  },
  {
   "cell_type": "code",
   "execution_count": 99,
   "metadata": {
    "ExecuteTime": {
     "end_time": "2020-09-30T13:01:53.408406Z",
     "start_time": "2020-09-30T13:01:53.353211Z"
    }
   },
   "outputs": [
    {
     "data": {
      "text/html": [
       "<div>\n",
       "<style scoped>\n",
       "    .dataframe tbody tr th:only-of-type {\n",
       "        vertical-align: middle;\n",
       "    }\n",
       "\n",
       "    .dataframe tbody tr th {\n",
       "        vertical-align: top;\n",
       "    }\n",
       "\n",
       "    .dataframe thead th {\n",
       "        text-align: right;\n",
       "    }\n",
       "</style>\n",
       "<table border=\"1\" class=\"dataframe\">\n",
       "  <thead>\n",
       "    <tr style=\"text-align: right;\">\n",
       "      <th></th>\n",
       "      <th>year</th>\n",
       "      <th>language</th>\n",
       "    </tr>\n",
       "  </thead>\n",
       "  <tbody>\n",
       "    <tr>\n",
       "      <th>0</th>\n",
       "      <td>1951</td>\n",
       "      <td>Regional Assembly Language</td>\n",
       "    </tr>\n",
       "    <tr>\n",
       "      <th>1</th>\n",
       "      <td>1952</td>\n",
       "      <td>Autocode</td>\n",
       "    </tr>\n",
       "    <tr>\n",
       "      <th>2</th>\n",
       "      <td>1954</td>\n",
       "      <td>IPL</td>\n",
       "    </tr>\n",
       "    <tr>\n",
       "      <th>3</th>\n",
       "      <td>1955</td>\n",
       "      <td>FLOW MATIC</td>\n",
       "    </tr>\n",
       "    <tr>\n",
       "      <th>4</th>\n",
       "      <td>1957</td>\n",
       "      <td>FORTRAN</td>\n",
       "    </tr>\n",
       "    <tr>\n",
       "      <th>...</th>\n",
       "      <td>...</td>\n",
       "      <td>...</td>\n",
       "    </tr>\n",
       "    <tr>\n",
       "      <th>68</th>\n",
       "      <td>2011</td>\n",
       "      <td>Kotlin</td>\n",
       "    </tr>\n",
       "    <tr>\n",
       "      <th>69</th>\n",
       "      <td>2011</td>\n",
       "      <td>Red</td>\n",
       "    </tr>\n",
       "    <tr>\n",
       "      <th>70</th>\n",
       "      <td>2011</td>\n",
       "      <td>Elixir</td>\n",
       "    </tr>\n",
       "    <tr>\n",
       "      <th>71</th>\n",
       "      <td>2012</td>\n",
       "      <td>Julia</td>\n",
       "    </tr>\n",
       "    <tr>\n",
       "      <th>72</th>\n",
       "      <td>2014</td>\n",
       "      <td>Swift</td>\n",
       "    </tr>\n",
       "  </tbody>\n",
       "</table>\n",
       "<p>73 rows × 2 columns</p>\n",
       "</div>"
      ],
      "text/plain": [
       "    year                    language\n",
       "0   1951  Regional Assembly Language\n",
       "1   1952                    Autocode\n",
       "2   1954                         IPL\n",
       "3   1955                  FLOW MATIC\n",
       "4   1957                     FORTRAN\n",
       "..   ...                         ...\n",
       "68  2011                      Kotlin\n",
       "69  2011                         Red\n",
       "70  2011                      Elixir\n",
       "71  2012                       Julia\n",
       "72  2014                       Swift\n",
       "\n",
       "[73 rows x 2 columns]"
      ]
     },
     "execution_count": 99,
     "metadata": {},
     "output_type": "execute_result"
    }
   ],
   "source": [
    "arquivo_4 = pd.read_excel(io=\"./Dados/arquivo4.xlsx\")\n",
    "arquivo_4"
   ]
  },
  {
   "cell_type": "code",
   "execution_count": 100,
   "metadata": {
    "ExecuteTime": {
     "end_time": "2020-09-30T13:02:13.831894Z",
     "start_time": "2020-09-30T13:02:09.861002Z"
    }
   },
   "outputs": [
    {
     "data": {
      "text/html": [
       "<div>\n",
       "<style scoped>\n",
       "    .dataframe tbody tr th:only-of-type {\n",
       "        vertical-align: middle;\n",
       "    }\n",
       "\n",
       "    .dataframe tbody tr th {\n",
       "        vertical-align: top;\n",
       "    }\n",
       "\n",
       "    .dataframe thead th {\n",
       "        text-align: right;\n",
       "    }\n",
       "</style>\n",
       "<table border=\"1\" class=\"dataframe\">\n",
       "  <thead>\n",
       "    <tr style=\"text-align: right;\">\n",
       "      <th></th>\n",
       "      <th>0</th>\n",
       "      <th>0.1</th>\n",
       "      <th>0.2</th>\n",
       "      <th>0.3</th>\n",
       "      <th>0.4</th>\n",
       "      <th>0.5</th>\n",
       "      <th>0.6</th>\n",
       "      <th>0.7</th>\n",
       "      <th>0.8</th>\n",
       "      <th>0.9</th>\n",
       "      <th>...</th>\n",
       "      <th>0.19</th>\n",
       "      <th>0.20</th>\n",
       "      <th>0.21</th>\n",
       "      <th>0.22</th>\n",
       "      <th>0.23</th>\n",
       "      <th>0.24</th>\n",
       "      <th>0.25</th>\n",
       "      <th>0.26</th>\n",
       "      <th>0.27</th>\n",
       "      <th>0.28</th>\n",
       "    </tr>\n",
       "  </thead>\n",
       "  <tbody>\n",
       "    <tr>\n",
       "      <th>0</th>\n",
       "      <td>0</td>\n",
       "      <td>19.459274</td>\n",
       "      <td>1.019596</td>\n",
       "      <td>0.391095</td>\n",
       "      <td>0.202314</td>\n",
       "      <td>0.035023</td>\n",
       "      <td>0.012180</td>\n",
       "      <td>0.290197</td>\n",
       "      <td>4.440008</td>\n",
       "      <td>9.828326</td>\n",
       "      <td>...</td>\n",
       "      <td>4.370077</td>\n",
       "      <td>2.266101</td>\n",
       "      <td>0.117615</td>\n",
       "      <td>0.078961</td>\n",
       "      <td>3.053336</td>\n",
       "      <td>7.006424</td>\n",
       "      <td>9.814404</td>\n",
       "      <td>0.048076</td>\n",
       "      <td>0.555338</td>\n",
       "      <td>7.385751</td>\n",
       "    </tr>\n",
       "    <tr>\n",
       "      <th>1</th>\n",
       "      <td>1</td>\n",
       "      <td>19.459274</td>\n",
       "      <td>1.019596</td>\n",
       "      <td>0.391095</td>\n",
       "      <td>0.202314</td>\n",
       "      <td>0.035023</td>\n",
       "      <td>0.012180</td>\n",
       "      <td>0.290197</td>\n",
       "      <td>4.440008</td>\n",
       "      <td>9.828326</td>\n",
       "      <td>...</td>\n",
       "      <td>4.370077</td>\n",
       "      <td>2.266101</td>\n",
       "      <td>0.117615</td>\n",
       "      <td>0.078961</td>\n",
       "      <td>3.053336</td>\n",
       "      <td>7.006424</td>\n",
       "      <td>9.814404</td>\n",
       "      <td>0.048076</td>\n",
       "      <td>0.555338</td>\n",
       "      <td>7.385751</td>\n",
       "    </tr>\n",
       "    <tr>\n",
       "      <th>2</th>\n",
       "      <td>2</td>\n",
       "      <td>19.459274</td>\n",
       "      <td>1.019596</td>\n",
       "      <td>0.391095</td>\n",
       "      <td>0.202314</td>\n",
       "      <td>0.035023</td>\n",
       "      <td>0.012180</td>\n",
       "      <td>0.290197</td>\n",
       "      <td>4.440008</td>\n",
       "      <td>9.828326</td>\n",
       "      <td>...</td>\n",
       "      <td>4.370077</td>\n",
       "      <td>2.266101</td>\n",
       "      <td>0.117615</td>\n",
       "      <td>0.078961</td>\n",
       "      <td>3.053336</td>\n",
       "      <td>7.006424</td>\n",
       "      <td>9.814404</td>\n",
       "      <td>0.048076</td>\n",
       "      <td>0.555338</td>\n",
       "      <td>7.385751</td>\n",
       "    </tr>\n",
       "    <tr>\n",
       "      <th>3</th>\n",
       "      <td>3</td>\n",
       "      <td>19.459274</td>\n",
       "      <td>1.019596</td>\n",
       "      <td>0.391095</td>\n",
       "      <td>0.202314</td>\n",
       "      <td>0.035023</td>\n",
       "      <td>0.012180</td>\n",
       "      <td>0.290197</td>\n",
       "      <td>4.440008</td>\n",
       "      <td>9.828326</td>\n",
       "      <td>...</td>\n",
       "      <td>4.370077</td>\n",
       "      <td>2.266101</td>\n",
       "      <td>0.117615</td>\n",
       "      <td>0.078961</td>\n",
       "      <td>3.053336</td>\n",
       "      <td>7.006424</td>\n",
       "      <td>9.814404</td>\n",
       "      <td>0.048076</td>\n",
       "      <td>0.555338</td>\n",
       "      <td>7.385751</td>\n",
       "    </tr>\n",
       "    <tr>\n",
       "      <th>4</th>\n",
       "      <td>4</td>\n",
       "      <td>19.459274</td>\n",
       "      <td>1.019596</td>\n",
       "      <td>0.391095</td>\n",
       "      <td>0.202314</td>\n",
       "      <td>0.035023</td>\n",
       "      <td>0.012180</td>\n",
       "      <td>0.290197</td>\n",
       "      <td>4.440008</td>\n",
       "      <td>9.828326</td>\n",
       "      <td>...</td>\n",
       "      <td>4.370077</td>\n",
       "      <td>2.266101</td>\n",
       "      <td>0.117615</td>\n",
       "      <td>0.078961</td>\n",
       "      <td>3.053336</td>\n",
       "      <td>7.006424</td>\n",
       "      <td>9.814404</td>\n",
       "      <td>0.048076</td>\n",
       "      <td>0.555338</td>\n",
       "      <td>7.385751</td>\n",
       "    </tr>\n",
       "    <tr>\n",
       "      <th>...</th>\n",
       "      <td>...</td>\n",
       "      <td>...</td>\n",
       "      <td>...</td>\n",
       "      <td>...</td>\n",
       "      <td>...</td>\n",
       "      <td>...</td>\n",
       "      <td>...</td>\n",
       "      <td>...</td>\n",
       "      <td>...</td>\n",
       "      <td>...</td>\n",
       "      <td>...</td>\n",
       "      <td>...</td>\n",
       "      <td>...</td>\n",
       "      <td>...</td>\n",
       "      <td>...</td>\n",
       "      <td>...</td>\n",
       "      <td>...</td>\n",
       "      <td>...</td>\n",
       "      <td>...</td>\n",
       "      <td>...</td>\n",
       "      <td>...</td>\n",
       "    </tr>\n",
       "    <tr>\n",
       "      <th>8746</th>\n",
       "      <td>8746</td>\n",
       "      <td>0.743481</td>\n",
       "      <td>1.860882</td>\n",
       "      <td>0.348647</td>\n",
       "      <td>0.396076</td>\n",
       "      <td>0.039056</td>\n",
       "      <td>0.014734</td>\n",
       "      <td>2.619609</td>\n",
       "      <td>5.732972</td>\n",
       "      <td>0.504431</td>\n",
       "      <td>...</td>\n",
       "      <td>7.599976</td>\n",
       "      <td>6.262046</td>\n",
       "      <td>0.073156</td>\n",
       "      <td>0.108892</td>\n",
       "      <td>0.941119</td>\n",
       "      <td>9.515523</td>\n",
       "      <td>1.983941</td>\n",
       "      <td>0.043303</td>\n",
       "      <td>0.028719</td>\n",
       "      <td>0.226074</td>\n",
       "    </tr>\n",
       "    <tr>\n",
       "      <th>8747</th>\n",
       "      <td>8747</td>\n",
       "      <td>0.743481</td>\n",
       "      <td>1.860882</td>\n",
       "      <td>0.348647</td>\n",
       "      <td>0.396076</td>\n",
       "      <td>0.039056</td>\n",
       "      <td>0.014734</td>\n",
       "      <td>2.619609</td>\n",
       "      <td>5.732972</td>\n",
       "      <td>0.504431</td>\n",
       "      <td>...</td>\n",
       "      <td>7.599976</td>\n",
       "      <td>6.262046</td>\n",
       "      <td>0.073156</td>\n",
       "      <td>0.108892</td>\n",
       "      <td>0.941119</td>\n",
       "      <td>9.515523</td>\n",
       "      <td>1.983941</td>\n",
       "      <td>0.043303</td>\n",
       "      <td>0.028719</td>\n",
       "      <td>0.226074</td>\n",
       "    </tr>\n",
       "    <tr>\n",
       "      <th>8748</th>\n",
       "      <td>8748</td>\n",
       "      <td>0.743481</td>\n",
       "      <td>1.860882</td>\n",
       "      <td>0.348647</td>\n",
       "      <td>0.396076</td>\n",
       "      <td>0.039056</td>\n",
       "      <td>0.014734</td>\n",
       "      <td>2.619609</td>\n",
       "      <td>5.732972</td>\n",
       "      <td>0.504431</td>\n",
       "      <td>...</td>\n",
       "      <td>7.599976</td>\n",
       "      <td>6.262046</td>\n",
       "      <td>0.073156</td>\n",
       "      <td>0.108892</td>\n",
       "      <td>0.941119</td>\n",
       "      <td>9.515523</td>\n",
       "      <td>1.983941</td>\n",
       "      <td>0.043303</td>\n",
       "      <td>0.028719</td>\n",
       "      <td>0.226074</td>\n",
       "    </tr>\n",
       "    <tr>\n",
       "      <th>8749</th>\n",
       "      <td>8749</td>\n",
       "      <td>0.743481</td>\n",
       "      <td>1.860882</td>\n",
       "      <td>0.348647</td>\n",
       "      <td>0.396076</td>\n",
       "      <td>0.039056</td>\n",
       "      <td>0.014734</td>\n",
       "      <td>2.619609</td>\n",
       "      <td>5.732972</td>\n",
       "      <td>0.504431</td>\n",
       "      <td>...</td>\n",
       "      <td>7.599976</td>\n",
       "      <td>6.262046</td>\n",
       "      <td>0.073156</td>\n",
       "      <td>0.108892</td>\n",
       "      <td>0.941119</td>\n",
       "      <td>9.515523</td>\n",
       "      <td>1.983941</td>\n",
       "      <td>0.043303</td>\n",
       "      <td>0.028719</td>\n",
       "      <td>0.226074</td>\n",
       "    </tr>\n",
       "    <tr>\n",
       "      <th>8750</th>\n",
       "      <td>8750</td>\n",
       "      <td>0.722735</td>\n",
       "      <td>1.622826</td>\n",
       "      <td>0.330114</td>\n",
       "      <td>0.405208</td>\n",
       "      <td>0.035643</td>\n",
       "      <td>0.014002</td>\n",
       "      <td>2.826391</td>\n",
       "      <td>4.465347</td>\n",
       "      <td>0.011147</td>\n",
       "      <td>...</td>\n",
       "      <td>9.327925</td>\n",
       "      <td>8.882620</td>\n",
       "      <td>0.076847</td>\n",
       "      <td>0.109450</td>\n",
       "      <td>0.774720</td>\n",
       "      <td>9.562726</td>\n",
       "      <td>1.410069</td>\n",
       "      <td>0.043550</td>\n",
       "      <td>0.025087</td>\n",
       "      <td>0.173824</td>\n",
       "    </tr>\n",
       "  </tbody>\n",
       "</table>\n",
       "<p>8751 rows × 29 columns</p>\n",
       "</div>"
      ],
      "text/plain": [
       "         0        0.1       0.2       0.3       0.4       0.5       0.6  \\\n",
       "0        0  19.459274  1.019596  0.391095  0.202314  0.035023  0.012180   \n",
       "1        1  19.459274  1.019596  0.391095  0.202314  0.035023  0.012180   \n",
       "2        2  19.459274  1.019596  0.391095  0.202314  0.035023  0.012180   \n",
       "3        3  19.459274  1.019596  0.391095  0.202314  0.035023  0.012180   \n",
       "4        4  19.459274  1.019596  0.391095  0.202314  0.035023  0.012180   \n",
       "...    ...        ...       ...       ...       ...       ...       ...   \n",
       "8746  8746   0.743481  1.860882  0.348647  0.396076  0.039056  0.014734   \n",
       "8747  8747   0.743481  1.860882  0.348647  0.396076  0.039056  0.014734   \n",
       "8748  8748   0.743481  1.860882  0.348647  0.396076  0.039056  0.014734   \n",
       "8749  8749   0.743481  1.860882  0.348647  0.396076  0.039056  0.014734   \n",
       "8750  8750   0.722735  1.622826  0.330114  0.405208  0.035643  0.014002   \n",
       "\n",
       "           0.7       0.8       0.9  ...      0.19      0.20      0.21  \\\n",
       "0     0.290197  4.440008  9.828326  ...  4.370077  2.266101  0.117615   \n",
       "1     0.290197  4.440008  9.828326  ...  4.370077  2.266101  0.117615   \n",
       "2     0.290197  4.440008  9.828326  ...  4.370077  2.266101  0.117615   \n",
       "3     0.290197  4.440008  9.828326  ...  4.370077  2.266101  0.117615   \n",
       "4     0.290197  4.440008  9.828326  ...  4.370077  2.266101  0.117615   \n",
       "...        ...       ...       ...  ...       ...       ...       ...   \n",
       "8746  2.619609  5.732972  0.504431  ...  7.599976  6.262046  0.073156   \n",
       "8747  2.619609  5.732972  0.504431  ...  7.599976  6.262046  0.073156   \n",
       "8748  2.619609  5.732972  0.504431  ...  7.599976  6.262046  0.073156   \n",
       "8749  2.619609  5.732972  0.504431  ...  7.599976  6.262046  0.073156   \n",
       "8750  2.826391  4.465347  0.011147  ...  9.327925  8.882620  0.076847   \n",
       "\n",
       "          0.22      0.23      0.24      0.25      0.26      0.27      0.28  \n",
       "0     0.078961  3.053336  7.006424  9.814404  0.048076  0.555338  7.385751  \n",
       "1     0.078961  3.053336  7.006424  9.814404  0.048076  0.555338  7.385751  \n",
       "2     0.078961  3.053336  7.006424  9.814404  0.048076  0.555338  7.385751  \n",
       "3     0.078961  3.053336  7.006424  9.814404  0.048076  0.555338  7.385751  \n",
       "4     0.078961  3.053336  7.006424  9.814404  0.048076  0.555338  7.385751  \n",
       "...        ...       ...       ...       ...       ...       ...       ...  \n",
       "8746  0.108892  0.941119  9.515523  1.983941  0.043303  0.028719  0.226074  \n",
       "8747  0.108892  0.941119  9.515523  1.983941  0.043303  0.028719  0.226074  \n",
       "8748  0.108892  0.941119  9.515523  1.983941  0.043303  0.028719  0.226074  \n",
       "8749  0.108892  0.941119  9.515523  1.983941  0.043303  0.028719  0.226074  \n",
       "8750  0.109450  0.774720  9.562726  1.410069  0.043550  0.025087  0.173824  \n",
       "\n",
       "[8751 rows x 29 columns]"
      ]
     },
     "execution_count": 100,
     "metadata": {},
     "output_type": "execute_result"
    }
   ],
   "source": [
    "arquivo_5 = pd.read_excel(io=\"./Dados/arquivo5.xlsx\")\n",
    "arquivo_5"
   ]
  },
  {
   "cell_type": "code",
   "execution_count": 108,
   "metadata": {
    "ExecuteTime": {
     "end_time": "2020-09-30T13:05:16.895896Z",
     "start_time": "2020-09-30T13:05:16.815913Z"
    },
    "code_folding": [
     0
    ]
   },
   "outputs": [
    {
     "data": {
      "text/html": [
       "<div>\n",
       "<style scoped>\n",
       "    .dataframe tbody tr th:only-of-type {\n",
       "        vertical-align: middle;\n",
       "    }\n",
       "\n",
       "    .dataframe tbody tr th {\n",
       "        vertical-align: top;\n",
       "    }\n",
       "\n",
       "    .dataframe thead th {\n",
       "        text-align: right;\n",
       "    }\n",
       "</style>\n",
       "<table border=\"1\" class=\"dataframe\">\n",
       "  <thead>\n",
       "    <tr style=\"text-align: right;\">\n",
       "      <th></th>\n",
       "      <th>Time [h]</th>\n",
       "      <th>Cell [g/L]</th>\n",
       "      <th>Glucose [g/L]</th>\n",
       "      <th>Xylose [g/L]</th>\n",
       "      <th>Ethanol [g/L]</th>\n",
       "    </tr>\n",
       "  </thead>\n",
       "  <tbody>\n",
       "    <tr>\n",
       "      <th>0</th>\n",
       "      <td>0</td>\n",
       "      <td>12.020070</td>\n",
       "      <td>12.528429</td>\n",
       "      <td>47.368901</td>\n",
       "      <td>0.605559</td>\n",
       "    </tr>\n",
       "    <tr>\n",
       "      <th>1</th>\n",
       "      <td>1</td>\n",
       "      <td>12.171590</td>\n",
       "      <td>12.235646</td>\n",
       "      <td>47.040265</td>\n",
       "      <td>1.174964</td>\n",
       "    </tr>\n",
       "    <tr>\n",
       "      <th>2</th>\n",
       "      <td>2</td>\n",
       "      <td>12.326785</td>\n",
       "      <td>11.396671</td>\n",
       "      <td>46.572356</td>\n",
       "      <td>1.905466</td>\n",
       "    </tr>\n",
       "    <tr>\n",
       "      <th>3</th>\n",
       "      <td>3</td>\n",
       "      <td>12.484214</td>\n",
       "      <td>9.370715</td>\n",
       "      <td>45.910947</td>\n",
       "      <td>2.826546</td>\n",
       "    </tr>\n",
       "    <tr>\n",
       "      <th>4</th>\n",
       "      <td>4</td>\n",
       "      <td>12.642350</td>\n",
       "      <td>5.998412</td>\n",
       "      <td>44.985505</td>\n",
       "      <td>3.962882</td>\n",
       "    </tr>\n",
       "    <tr>\n",
       "      <th>5</th>\n",
       "      <td>5</td>\n",
       "      <td>12.799639</td>\n",
       "      <td>2.791232</td>\n",
       "      <td>43.708940</td>\n",
       "      <td>5.327675</td>\n",
       "    </tr>\n",
       "    <tr>\n",
       "      <th>6</th>\n",
       "      <td>6</td>\n",
       "      <td>12.954561</td>\n",
       "      <td>1.011180</td>\n",
       "      <td>41.982199</td>\n",
       "      <td>6.915026</td>\n",
       "    </tr>\n",
       "    <tr>\n",
       "      <th>7</th>\n",
       "      <td>7</td>\n",
       "      <td>13.105683</td>\n",
       "      <td>0.303476</td>\n",
       "      <td>39.707409</td>\n",
       "      <td>8.693681</td>\n",
       "    </tr>\n",
       "    <tr>\n",
       "      <th>8</th>\n",
       "      <td>8</td>\n",
       "      <td>13.251718</td>\n",
       "      <td>0.060384</td>\n",
       "      <td>36.812688</td>\n",
       "      <td>10.605348</td>\n",
       "    </tr>\n",
       "    <tr>\n",
       "      <th>9</th>\n",
       "      <td>9</td>\n",
       "      <td>13.391559</td>\n",
       "      <td>0.000000</td>\n",
       "      <td>33.287267</td>\n",
       "      <td>12.570114</td>\n",
       "    </tr>\n",
       "    <tr>\n",
       "      <th>10</th>\n",
       "      <td>10</td>\n",
       "      <td>13.524304</td>\n",
       "      <td>0.000000</td>\n",
       "      <td>29.216183</td>\n",
       "      <td>14.498795</td>\n",
       "    </tr>\n",
       "    <tr>\n",
       "      <th>11</th>\n",
       "      <td>11</td>\n",
       "      <td>13.649277</td>\n",
       "      <td>0.000000</td>\n",
       "      <td>24.794017</td>\n",
       "      <td>16.308547</td>\n",
       "    </tr>\n",
       "    <tr>\n",
       "      <th>12</th>\n",
       "      <td>12</td>\n",
       "      <td>13.766018</td>\n",
       "      <td>0.000000</td>\n",
       "      <td>20.298615</td>\n",
       "      <td>17.936230</td>\n",
       "    </tr>\n",
       "    <tr>\n",
       "      <th>13</th>\n",
       "      <td>13</td>\n",
       "      <td>13.874277</td>\n",
       "      <td>0.000000</td>\n",
       "      <td>16.026435</td>\n",
       "      <td>19.345289</td>\n",
       "    </tr>\n",
       "    <tr>\n",
       "      <th>14</th>\n",
       "      <td>14</td>\n",
       "      <td>13.973996</td>\n",
       "      <td>0.000000</td>\n",
       "      <td>12.218541</td>\n",
       "      <td>20.525309</td>\n",
       "    </tr>\n",
       "    <tr>\n",
       "      <th>15</th>\n",
       "      <td>15</td>\n",
       "      <td>14.065278</td>\n",
       "      <td>0.000000</td>\n",
       "      <td>9.013631</td>\n",
       "      <td>21.486389</td>\n",
       "    </tr>\n",
       "    <tr>\n",
       "      <th>16</th>\n",
       "      <td>16</td>\n",
       "      <td>14.148362</td>\n",
       "      <td>0.000000</td>\n",
       "      <td>6.443874</td>\n",
       "      <td>22.251555</td>\n",
       "    </tr>\n",
       "    <tr>\n",
       "      <th>17</th>\n",
       "      <td>17</td>\n",
       "      <td>14.223593</td>\n",
       "      <td>0.000000</td>\n",
       "      <td>4.462320</td>\n",
       "      <td>22.849794</td>\n",
       "    </tr>\n",
       "    <tr>\n",
       "      <th>18</th>\n",
       "      <td>18</td>\n",
       "      <td>14.291393</td>\n",
       "      <td>0.000000</td>\n",
       "      <td>2.979864</td>\n",
       "      <td>23.310922</td>\n",
       "    </tr>\n",
       "    <tr>\n",
       "      <th>19</th>\n",
       "      <td>19</td>\n",
       "      <td>14.352239</td>\n",
       "      <td>0.000000</td>\n",
       "      <td>1.895708</td>\n",
       "      <td>23.662485</td>\n",
       "    </tr>\n",
       "    <tr>\n",
       "      <th>20</th>\n",
       "      <td>20</td>\n",
       "      <td>14.406636</td>\n",
       "      <td>0.000000</td>\n",
       "      <td>1.115941</td>\n",
       "      <td>23.928280</td>\n",
       "    </tr>\n",
       "    <tr>\n",
       "      <th>21</th>\n",
       "      <td>21</td>\n",
       "      <td>14.455102</td>\n",
       "      <td>0.000000</td>\n",
       "      <td>0.561801</td>\n",
       "      <td>24.127962</td>\n",
       "    </tr>\n",
       "    <tr>\n",
       "      <th>22</th>\n",
       "      <td>22</td>\n",
       "      <td>14.498155</td>\n",
       "      <td>0.000000</td>\n",
       "      <td>0.171355</td>\n",
       "      <td>24.277262</td>\n",
       "    </tr>\n",
       "    <tr>\n",
       "      <th>23</th>\n",
       "      <td>23</td>\n",
       "      <td>14.536295</td>\n",
       "      <td>0.000000</td>\n",
       "      <td>0.000000</td>\n",
       "      <td>24.388495</td>\n",
       "    </tr>\n",
       "    <tr>\n",
       "      <th>24</th>\n",
       "      <td>24</td>\n",
       "      <td>14.570002</td>\n",
       "      <td>0.000000</td>\n",
       "      <td>0.000000</td>\n",
       "      <td>24.471147</td>\n",
       "    </tr>\n",
       "    <tr>\n",
       "      <th>25</th>\n",
       "      <td>25</td>\n",
       "      <td>14.599730</td>\n",
       "      <td>0.000000</td>\n",
       "      <td>0.000000</td>\n",
       "      <td>24.532440</td>\n",
       "    </tr>\n",
       "  </tbody>\n",
       "</table>\n",
       "</div>"
      ],
      "text/plain": [
       "    Time [h]  Cell [g/L]  Glucose [g/L]  Xylose [g/L]  Ethanol [g/L]\n",
       "0          0   12.020070      12.528429     47.368901       0.605559\n",
       "1          1   12.171590      12.235646     47.040265       1.174964\n",
       "2          2   12.326785      11.396671     46.572356       1.905466\n",
       "3          3   12.484214       9.370715     45.910947       2.826546\n",
       "4          4   12.642350       5.998412     44.985505       3.962882\n",
       "5          5   12.799639       2.791232     43.708940       5.327675\n",
       "6          6   12.954561       1.011180     41.982199       6.915026\n",
       "7          7   13.105683       0.303476     39.707409       8.693681\n",
       "8          8   13.251718       0.060384     36.812688      10.605348\n",
       "9          9   13.391559       0.000000     33.287267      12.570114\n",
       "10        10   13.524304       0.000000     29.216183      14.498795\n",
       "11        11   13.649277       0.000000     24.794017      16.308547\n",
       "12        12   13.766018       0.000000     20.298615      17.936230\n",
       "13        13   13.874277       0.000000     16.026435      19.345289\n",
       "14        14   13.973996       0.000000     12.218541      20.525309\n",
       "15        15   14.065278       0.000000      9.013631      21.486389\n",
       "16        16   14.148362       0.000000      6.443874      22.251555\n",
       "17        17   14.223593       0.000000      4.462320      22.849794\n",
       "18        18   14.291393       0.000000      2.979864      23.310922\n",
       "19        19   14.352239       0.000000      1.895708      23.662485\n",
       "20        20   14.406636       0.000000      1.115941      23.928280\n",
       "21        21   14.455102       0.000000      0.561801      24.127962\n",
       "22        22   14.498155       0.000000      0.171355      24.277262\n",
       "23        23   14.536295       0.000000      0.000000      24.388495\n",
       "24        24   14.570002       0.000000      0.000000      24.471147\n",
       "25        25   14.599730       0.000000      0.000000      24.532440"
      ]
     },
     "execution_count": 108,
     "metadata": {},
     "output_type": "execute_result"
    }
   ],
   "source": [
    "# E se o arquivo tem mais de uma aba?\n",
    "arquivo_6 = pd.read_excel(io=\"./Dados/arquivo6.xlsx\", sheet_name=None)\n",
    "arquivo_6[\"A\"]"
   ]
  },
  {
   "cell_type": "markdown",
   "metadata": {},
   "source": [
    "### read_html\n",
    "A função [`read_html`](https://pandas.pydata.org/pandas-docs/stable/reference/api/pandas.read_html.html) permite realizar a leitura de uma tabela contida num site. Para utilizar está função aplicamos a seguinte sintaxe:\n",
    "```python\n",
    "pandas.read_html(io, match='.+', flavor=None, header=None, index_col=None, skiprows=None, attrs=None, parse_dates=False, tupleize_cols=None, thousands=', ', encoding=None, decimal='.', converters=None, na_values=None, keep_default_na=True, displayed_only=True)\n",
    "```"
   ]
  },
  {
   "cell_type": "code",
   "execution_count": 114,
   "metadata": {
    "ExecuteTime": {
     "end_time": "2020-09-30T13:07:20.081367Z",
     "start_time": "2020-09-30T13:07:19.024101Z"
    }
   },
   "outputs": [
    {
     "data": {
      "text/html": [
       "<div>\n",
       "<style scoped>\n",
       "    .dataframe tbody tr th:only-of-type {\n",
       "        vertical-align: middle;\n",
       "    }\n",
       "\n",
       "    .dataframe tbody tr th {\n",
       "        vertical-align: top;\n",
       "    }\n",
       "\n",
       "    .dataframe thead th {\n",
       "        text-align: right;\n",
       "    }\n",
       "</style>\n",
       "<table border=\"1\" class=\"dataframe\">\n",
       "  <thead>\n",
       "    <tr style=\"text-align: right;\">\n",
       "      <th></th>\n",
       "      <th>0</th>\n",
       "      <th>1</th>\n",
       "    </tr>\n",
       "  </thead>\n",
       "  <tbody>\n",
       "    <tr>\n",
       "      <th>0</th>\n",
       "      <td>Data</td>\n",
       "      <td>Taxa de cÃ¢mbio - R$ / US$ - comercial - compr...</td>\n",
       "    </tr>\n",
       "    <tr>\n",
       "      <th>1</th>\n",
       "      <td>1953.01</td>\n",
       "      <td>6,6836E-15</td>\n",
       "    </tr>\n",
       "    <tr>\n",
       "      <th>2</th>\n",
       "      <td>1953.02</td>\n",
       "      <td>1,3378E-14</td>\n",
       "    </tr>\n",
       "    <tr>\n",
       "      <th>3</th>\n",
       "      <td>1953.03</td>\n",
       "      <td>1,3378E-14</td>\n",
       "    </tr>\n",
       "    <tr>\n",
       "      <th>4</th>\n",
       "      <td>1953.04</td>\n",
       "      <td>1,4884E-14</td>\n",
       "    </tr>\n",
       "    <tr>\n",
       "      <th>...</th>\n",
       "      <td>...</td>\n",
       "      <td>...</td>\n",
       "    </tr>\n",
       "    <tr>\n",
       "      <th>808</th>\n",
       "      <td>2020.04</td>\n",
       "      <td>53250</td>\n",
       "    </tr>\n",
       "    <tr>\n",
       "      <th>809</th>\n",
       "      <td>2020.05</td>\n",
       "      <td>56429</td>\n",
       "    </tr>\n",
       "    <tr>\n",
       "      <th>810</th>\n",
       "      <td>2020.06</td>\n",
       "      <td>51960</td>\n",
       "    </tr>\n",
       "    <tr>\n",
       "      <th>811</th>\n",
       "      <td>2020.07</td>\n",
       "      <td>52796</td>\n",
       "    </tr>\n",
       "    <tr>\n",
       "      <th>812</th>\n",
       "      <td>2020.08</td>\n",
       "      <td>54606</td>\n",
       "    </tr>\n",
       "  </tbody>\n",
       "</table>\n",
       "<p>813 rows × 2 columns</p>\n",
       "</div>"
      ],
      "text/plain": [
       "           0                                                  1\n",
       "0       Data  Taxa de cÃ¢mbio - R$ / US$ - comercial - compr...\n",
       "1    1953.01                                         6,6836E-15\n",
       "2    1953.02                                         1,3378E-14\n",
       "3    1953.03                                         1,3378E-14\n",
       "4    1953.04                                         1,4884E-14\n",
       "..       ...                                                ...\n",
       "808  2020.04                                              53250\n",
       "809  2020.05                                              56429\n",
       "810  2020.06                                              51960\n",
       "811  2020.07                                              52796\n",
       "812  2020.08                                              54606\n",
       "\n",
       "[813 rows x 2 columns]"
      ]
     },
     "execution_count": 114,
     "metadata": {},
     "output_type": "execute_result"
    }
   ],
   "source": [
    "tabela_html_1 = pd.read_html(\"http://www.ipeadata.gov.br/ExibeSerie.aspx?serid=32098&module=M\")\n",
    "tabela_html_1[2]"
   ]
  },
  {
   "cell_type": "code",
   "execution_count": 118,
   "metadata": {
    "ExecuteTime": {
     "end_time": "2020-09-30T13:09:06.056410Z",
     "start_time": "2020-09-30T13:09:04.959756Z"
    }
   },
   "outputs": [
    {
     "data": {
      "text/html": [
       "<div>\n",
       "<style scoped>\n",
       "    .dataframe tbody tr th:only-of-type {\n",
       "        vertical-align: middle;\n",
       "    }\n",
       "\n",
       "    .dataframe tbody tr th {\n",
       "        vertical-align: top;\n",
       "    }\n",
       "\n",
       "    .dataframe thead th {\n",
       "        text-align: right;\n",
       "    }\n",
       "</style>\n",
       "<table border=\"1\" class=\"dataframe\">\n",
       "  <thead>\n",
       "    <tr style=\"text-align: right;\">\n",
       "      <th></th>\n",
       "      <th>Bank Name</th>\n",
       "      <th>City</th>\n",
       "      <th>ST</th>\n",
       "      <th>CERT</th>\n",
       "      <th>Acquiring Institution</th>\n",
       "      <th>Closing Date</th>\n",
       "    </tr>\n",
       "  </thead>\n",
       "  <tbody>\n",
       "    <tr>\n",
       "      <th>0</th>\n",
       "      <td>The First State Bank</td>\n",
       "      <td>Barboursville</td>\n",
       "      <td>WV</td>\n",
       "      <td>14361</td>\n",
       "      <td>MVB Bank, Inc.</td>\n",
       "      <td>April 3, 2020</td>\n",
       "    </tr>\n",
       "    <tr>\n",
       "      <th>1</th>\n",
       "      <td>Ericson State Bank</td>\n",
       "      <td>Ericson</td>\n",
       "      <td>NE</td>\n",
       "      <td>18265</td>\n",
       "      <td>Farmers and Merchants Bank</td>\n",
       "      <td>February 14, 2020</td>\n",
       "    </tr>\n",
       "    <tr>\n",
       "      <th>2</th>\n",
       "      <td>City National Bank of New Jersey</td>\n",
       "      <td>Newark</td>\n",
       "      <td>NJ</td>\n",
       "      <td>21111</td>\n",
       "      <td>Industrial Bank</td>\n",
       "      <td>November 1, 2019</td>\n",
       "    </tr>\n",
       "    <tr>\n",
       "      <th>3</th>\n",
       "      <td>Resolute Bank</td>\n",
       "      <td>Maumee</td>\n",
       "      <td>OH</td>\n",
       "      <td>58317</td>\n",
       "      <td>Buckeye State Bank</td>\n",
       "      <td>October 25, 2019</td>\n",
       "    </tr>\n",
       "    <tr>\n",
       "      <th>4</th>\n",
       "      <td>Louisa Community Bank</td>\n",
       "      <td>Louisa</td>\n",
       "      <td>KY</td>\n",
       "      <td>58112</td>\n",
       "      <td>Kentucky Farmers Bank Corporation</td>\n",
       "      <td>October 25, 2019</td>\n",
       "    </tr>\n",
       "    <tr>\n",
       "      <th>...</th>\n",
       "      <td>...</td>\n",
       "      <td>...</td>\n",
       "      <td>...</td>\n",
       "      <td>...</td>\n",
       "      <td>...</td>\n",
       "      <td>...</td>\n",
       "    </tr>\n",
       "    <tr>\n",
       "      <th>556</th>\n",
       "      <td>Superior Bank, FSB</td>\n",
       "      <td>Hinsdale</td>\n",
       "      <td>IL</td>\n",
       "      <td>32646</td>\n",
       "      <td>Superior Federal, FSB</td>\n",
       "      <td>July 27, 2001</td>\n",
       "    </tr>\n",
       "    <tr>\n",
       "      <th>557</th>\n",
       "      <td>Malta National Bank</td>\n",
       "      <td>Malta</td>\n",
       "      <td>OH</td>\n",
       "      <td>6629</td>\n",
       "      <td>North Valley Bank</td>\n",
       "      <td>May 3, 2001</td>\n",
       "    </tr>\n",
       "    <tr>\n",
       "      <th>558</th>\n",
       "      <td>First Alliance Bank &amp; Trust Co.</td>\n",
       "      <td>Manchester</td>\n",
       "      <td>NH</td>\n",
       "      <td>34264</td>\n",
       "      <td>Southern New Hampshire Bank &amp; Trust</td>\n",
       "      <td>February 2, 2001</td>\n",
       "    </tr>\n",
       "    <tr>\n",
       "      <th>559</th>\n",
       "      <td>National State Bank of Metropolis</td>\n",
       "      <td>Metropolis</td>\n",
       "      <td>IL</td>\n",
       "      <td>3815</td>\n",
       "      <td>Banterra Bank of Marion</td>\n",
       "      <td>December 14, 2000</td>\n",
       "    </tr>\n",
       "    <tr>\n",
       "      <th>560</th>\n",
       "      <td>Bank of Honolulu</td>\n",
       "      <td>Honolulu</td>\n",
       "      <td>HI</td>\n",
       "      <td>21029</td>\n",
       "      <td>Bank of the Orient</td>\n",
       "      <td>October 13, 2000</td>\n",
       "    </tr>\n",
       "  </tbody>\n",
       "</table>\n",
       "<p>561 rows × 6 columns</p>\n",
       "</div>"
      ],
      "text/plain": [
       "                             Bank Name           City  ST   CERT  \\\n",
       "0                 The First State Bank  Barboursville  WV  14361   \n",
       "1                   Ericson State Bank        Ericson  NE  18265   \n",
       "2     City National Bank of New Jersey         Newark  NJ  21111   \n",
       "3                        Resolute Bank         Maumee  OH  58317   \n",
       "4                Louisa Community Bank         Louisa  KY  58112   \n",
       "..                                 ...            ...  ..    ...   \n",
       "556                 Superior Bank, FSB       Hinsdale  IL  32646   \n",
       "557                Malta National Bank          Malta  OH   6629   \n",
       "558    First Alliance Bank & Trust Co.     Manchester  NH  34264   \n",
       "559  National State Bank of Metropolis     Metropolis  IL   3815   \n",
       "560                   Bank of Honolulu       Honolulu  HI  21029   \n",
       "\n",
       "                   Acquiring Institution       Closing Date  \n",
       "0                         MVB Bank, Inc.      April 3, 2020  \n",
       "1             Farmers and Merchants Bank  February 14, 2020  \n",
       "2                        Industrial Bank   November 1, 2019  \n",
       "3                     Buckeye State Bank   October 25, 2019  \n",
       "4      Kentucky Farmers Bank Corporation   October 25, 2019  \n",
       "..                                   ...                ...  \n",
       "556                Superior Federal, FSB      July 27, 2001  \n",
       "557                    North Valley Bank        May 3, 2001  \n",
       "558  Southern New Hampshire Bank & Trust   February 2, 2001  \n",
       "559              Banterra Bank of Marion  December 14, 2000  \n",
       "560                   Bank of the Orient   October 13, 2000  \n",
       "\n",
       "[561 rows x 6 columns]"
      ]
     },
     "execution_count": 118,
     "metadata": {},
     "output_type": "execute_result"
    }
   ],
   "source": [
    "tabela_html_2 = pd.read_html(\"https://www.fdic.gov/resources/resolutions/bank-failures/failed-bank-list/banklist.html\")\n",
    "tabela_html_2[0]"
   ]
  },
  {
   "cell_type": "markdown",
   "metadata": {
    "ExecuteTime": {
     "end_time": "2020-09-28T19:38:06.074050Z",
     "start_time": "2020-09-28T19:38:06.059690Z"
    }
   },
   "source": [
    "### to_csv\n",
    "A função [`to_csv`](https://pandas.pydata.org/pandas-docs/stable/reference/api/pandas.DataFrame.to_csv.html) permite exportar um DataFrame para um arquivo .csv. A sintaxe para utilizar esta função e:\n",
    "```python\n",
    "DataFrame.to_csv(path_or_buf=None, sep=',', na_rep='', float_format=None, columns=None, header=True, index=True, index_label=None, mode='w', encoding=None, compression='infer', quoting=None, quotechar='\"', line_terminator=None, chunksize=None, date_format=None, doublequote=True, escapechar=None, decimal='.', errors='strict')\n",
    "```"
   ]
  },
  {
   "cell_type": "code",
   "execution_count": 122,
   "metadata": {
    "ExecuteTime": {
     "end_time": "2020-09-30T13:12:04.852769Z",
     "start_time": "2020-09-30T13:12:04.844046Z"
    }
   },
   "outputs": [],
   "source": [
    "tabela_html_1[2].to_csv(\"html_to_csv.csv\", sep='-')"
   ]
  },
  {
   "cell_type": "markdown",
   "metadata": {},
   "source": [
    "### to_excel\n",
    "A função [`to_excel`](https://pandas.pydata.org/pandas-docs/stable/reference/api/pandas.DataFrame.to_excel.html) permite exportar uma DataFrame para um arquivo .xlsx. A sintaxe para utilizar esta função e:\n",
    "```python\n",
    "DataFrame.to_excel(excel_writer, sheet_name='Sheet1', na_rep='', float_format=None, columns=None, header=True, index=True, index_label=None, startrow=0, startcol=0, engine=None, merge_cells=True, encoding=None, inf_rep='inf', verbose=True, freeze_panes=None)\n",
    "```"
   ]
  },
  {
   "cell_type": "code",
   "execution_count": 120,
   "metadata": {
    "ExecuteTime": {
     "end_time": "2020-09-30T13:10:45.716045Z",
     "start_time": "2020-09-30T13:10:45.498011Z"
    }
   },
   "outputs": [],
   "source": [
    "tabela_html_2[0].to_excel(\"html_to_excel.xlsx\")"
   ]
  },
  {
   "cell_type": "code",
   "execution_count": null,
   "metadata": {},
   "outputs": [],
   "source": [
    "series  = [\"A\", \"B\"]\n",
    "for s in series:\n",
    "    pd.read_html(s)"
   ]
  }
 ],
 "metadata": {
  "@webio": {
   "lastCommId": null,
   "lastKernelId": null
  },
  "hide_input": false,
  "kernelspec": {
   "display_name": "Python 3",
   "language": "python",
   "name": "python3"
  },
  "language_info": {
   "codemirror_mode": {
    "name": "ipython",
    "version": 3
   },
   "file_extension": ".py",
   "mimetype": "text/x-python",
   "name": "python",
   "nbconvert_exporter": "python",
   "pygments_lexer": "ipython3",
   "version": "3.7.7"
  },
  "latex_envs": {
   "LaTeX_envs_menu_present": true,
   "autoclose": true,
   "autocomplete": true,
   "bibliofile": "biblio.bib",
   "cite_by": "apalike",
   "current_citInitial": 1,
   "eqLabelWithNumbers": true,
   "eqNumInitial": 1,
   "hotkeys": {
    "equation": "Ctrl-E",
    "itemize": "Ctrl-I"
   },
   "labels_anchors": false,
   "latex_user_defs": false,
   "report_style_numbering": false,
   "user_envs_cfg": false
  }
 },
 "nbformat": 4,
 "nbformat_minor": 4
}
