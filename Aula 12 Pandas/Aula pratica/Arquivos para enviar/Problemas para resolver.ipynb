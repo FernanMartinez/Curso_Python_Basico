{
 "cells": [
  {
   "cell_type": "markdown",
   "metadata": {
    "ExecuteTime": {
     "end_time": "2020-10-04T20:44:05.840418Z",
     "start_time": "2020-10-04T20:44:04.913364Z"
    },
    "code_folding": []
   },
   "source": [
    "# Aula pratica em Pandas\n",
    "\n",
    "Para este exemplo se utilizará uma base de dados com informação da Amazon sobre compras. Os dados de esta base de dado não são reais. O nome do arquivo que será trabalhado é \"Ecommerce Purchases.txt\"\n",
    "\n",
    "---"
   ]
  },
  {
   "cell_type": "markdown",
   "metadata": {},
   "source": [
    "### 1. Realize a importação dos dados utilizando a biblioteca Pandas e armazene esses dados numa variável com o nome “tabela_original”"
   ]
  },
  {
   "cell_type": "code",
   "execution_count": null,
   "metadata": {
    "ExecuteTime": {
     "end_time": "2020-10-04T21:41:32.214706Z",
     "start_time": "2020-10-04T21:41:32.090989Z"
    }
   },
   "outputs": [],
   "source": [
    "# CÓDIGO"
   ]
  },
  {
   "cell_type": "markdown",
   "metadata": {},
   "source": [
    "### 2. Identifique o número de filas e colunas da tabela aplicando dois métodos diferentes"
   ]
  },
  {
   "cell_type": "markdown",
   "metadata": {},
   "source": [
    "#### Método 1"
   ]
  },
  {
   "cell_type": "code",
   "execution_count": null,
   "metadata": {
    "ExecuteTime": {
     "end_time": "2020-10-04T20:45:34.715550Z",
     "start_time": "2020-10-04T20:45:34.709780Z"
    }
   },
   "outputs": [],
   "source": [
    "# CÓDIGO"
   ]
  },
  {
   "cell_type": "markdown",
   "metadata": {},
   "source": [
    "#### Método 2"
   ]
  },
  {
   "cell_type": "code",
   "execution_count": null,
   "metadata": {
    "ExecuteTime": {
     "end_time": "2020-10-04T20:45:19.863122Z",
     "start_time": "2020-10-04T20:45:19.831709Z"
    }
   },
   "outputs": [],
   "source": [
    "# CÓDIGO"
   ]
  },
  {
   "cell_type": "markdown",
   "metadata": {},
   "source": [
    "### 3. Identifique a existências de valores Null utilizando pelo menos duas formas diferentes."
   ]
  },
  {
   "cell_type": "markdown",
   "metadata": {},
   "source": [
    "#### Método 1"
   ]
  },
  {
   "cell_type": "code",
   "execution_count": null,
   "metadata": {
    "ExecuteTime": {
     "end_time": "2020-10-04T21:41:40.270383Z",
     "start_time": "2020-10-04T21:41:40.234867Z"
    }
   },
   "outputs": [],
   "source": [
    "# CÓDIGO"
   ]
  },
  {
   "cell_type": "markdown",
   "metadata": {},
   "source": [
    "#### Método 2"
   ]
  },
  {
   "cell_type": "code",
   "execution_count": null,
   "metadata": {
    "ExecuteTime": {
     "end_time": "2020-10-04T20:46:37.125365Z",
     "start_time": "2020-10-04T20:46:37.107371Z"
    }
   },
   "outputs": [],
   "source": [
    "# CÓDIGO"
   ]
  },
  {
   "cell_type": "markdown",
   "metadata": {},
   "source": [
    "### 4. Mostre os Labels das colunas"
   ]
  },
  {
   "cell_type": "code",
   "execution_count": null,
   "metadata": {
    "ExecuteTime": {
     "end_time": "2020-10-04T20:47:19.200480Z",
     "start_time": "2020-10-04T20:47:19.195906Z"
    }
   },
   "outputs": [],
   "source": [
    "# CÓDIGO"
   ]
  },
  {
   "cell_type": "markdown",
   "metadata": {
    "ExecuteTime": {
     "end_time": "2020-10-02T17:59:00.718015Z",
     "start_time": "2020-10-02T17:59:00.703420Z"
    }
   },
   "source": [
    "### 5. Elimine a primeira coluna e a coluna “Lot”. Está modificação deve afetar o DataFrame original. Está modificação afeta o tamanho do DataFrame na memória? Quantifique a diferença"
   ]
  },
  {
   "cell_type": "code",
   "execution_count": null,
   "metadata": {},
   "outputs": [],
   "source": [
    "# CÓDIGO"
   ]
  },
  {
   "cell_type": "markdown",
   "metadata": {},
   "source": [
    "### 6. Identifique quantas compras foram realizadas por um valor igual a zero e elimine esses registros do DataFrame aplicando duas alternativas diferentes. Esta molificação deve afetar o DataFrame original"
   ]
  },
  {
   "cell_type": "code",
   "execution_count": null,
   "metadata": {
    "ExecuteTime": {
     "end_time": "2020-10-04T21:41:53.808264Z",
     "start_time": "2020-10-04T21:41:53.798869Z"
    }
   },
   "outputs": [],
   "source": [
    "# CÓDIGO"
   ]
  },
  {
   "cell_type": "markdown",
   "metadata": {},
   "source": [
    "#### Alternativa 1. Esta alternativa é a mais indicada"
   ]
  },
  {
   "cell_type": "code",
   "execution_count": null,
   "metadata": {
    "ExecuteTime": {
     "end_time": "2020-10-04T21:42:25.820424Z",
     "start_time": "2020-10-04T21:42:25.772470Z"
    }
   },
   "outputs": [],
   "source": [
    "# CÓDIGO"
   ]
  },
  {
   "cell_type": "markdown",
   "metadata": {},
   "source": [
    "#### Alternativa 2"
   ]
  },
  {
   "cell_type": "code",
   "execution_count": null,
   "metadata": {
    "ExecuteTime": {
     "end_time": "2020-10-04T20:54:07.089613Z",
     "start_time": "2020-10-04T20:54:07.057849Z"
    }
   },
   "outputs": [],
   "source": [
    "# CÓDIGO"
   ]
  },
  {
   "cell_type": "markdown",
   "metadata": {},
   "source": [
    "### 7. Qual é o valor mínimo, máximo e médio de todas as compras realizadas"
   ]
  },
  {
   "cell_type": "code",
   "execution_count": null,
   "metadata": {
    "ExecuteTime": {
     "end_time": "2020-10-04T20:55:53.288661Z",
     "start_time": "2020-10-04T20:55:53.275713Z"
    }
   },
   "outputs": [],
   "source": [
    "# CÓDIGO"
   ]
  },
  {
   "cell_type": "markdown",
   "metadata": {
    "ExecuteTime": {
     "end_time": "2020-10-02T17:43:30.747962Z",
     "start_time": "2020-10-02T17:43:30.563692Z"
    }
   },
   "source": [
    "### 8. Identifique quantos e quais idiomas são registrados no momento de realizar as compras"
   ]
  },
  {
   "cell_type": "markdown",
   "metadata": {},
   "source": [
    "#### Idiomas registrados"
   ]
  },
  {
   "cell_type": "code",
   "execution_count": null,
   "metadata": {
    "ExecuteTime": {
     "end_time": "2020-10-04T22:06:54.829449Z",
     "start_time": "2020-10-04T22:06:54.772213Z"
    }
   },
   "outputs": [],
   "source": [
    "# CÓDIGO"
   ]
  },
  {
   "cell_type": "markdown",
   "metadata": {},
   "source": [
    "####  Quantidade de idiomas registrados"
   ]
  },
  {
   "cell_type": "code",
   "execution_count": null,
   "metadata": {
    "ExecuteTime": {
     "end_time": "2020-10-04T20:57:03.796949Z",
     "start_time": "2020-10-04T20:57:03.788439Z"
    }
   },
   "outputs": [],
   "source": [
    "# CÓDIGO"
   ]
  },
  {
   "cell_type": "markdown",
   "metadata": {},
   "source": [
    "### 9. Apresente os idiomas por ordem de maior a menor quantidade de compras"
   ]
  },
  {
   "cell_type": "code",
   "execution_count": null,
   "metadata": {
    "ExecuteTime": {
     "end_time": "2020-10-04T20:59:58.071915Z",
     "start_time": "2020-10-04T20:59:58.049425Z"
    }
   },
   "outputs": [],
   "source": [
    "# CÓDIGO"
   ]
  },
  {
   "cell_type": "markdown",
   "metadata": {},
   "source": [
    "### 10. Verifique qual idioma registra o maior e o menor número de compras"
   ]
  },
  {
   "cell_type": "markdown",
   "metadata": {},
   "source": [
    "#### Idioma com maior número de compras"
   ]
  },
  {
   "cell_type": "code",
   "execution_count": null,
   "metadata": {
    "ExecuteTime": {
     "end_time": "2020-10-04T21:01:07.121552Z",
     "start_time": "2020-10-04T21:01:07.111193Z"
    }
   },
   "outputs": [],
   "source": [
    "# CÓDIGO"
   ]
  },
  {
   "cell_type": "markdown",
   "metadata": {},
   "source": [
    "#### Idioma com menor número de compras"
   ]
  },
  {
   "cell_type": "code",
   "execution_count": null,
   "metadata": {
    "ExecuteTime": {
     "end_time": "2020-10-04T22:07:46.956492Z",
     "start_time": "2020-10-04T22:07:46.948575Z"
    }
   },
   "outputs": [],
   "source": [
    "# CÓDIGO"
   ]
  },
  {
   "cell_type": "markdown",
   "metadata": {},
   "source": [
    "#### Outra alternativa"
   ]
  },
  {
   "cell_type": "code",
   "execution_count": null,
   "metadata": {
    "ExecuteTime": {
     "end_time": "2020-10-04T21:02:47.650093Z",
     "start_time": "2020-10-04T21:02:47.635506Z"
    }
   },
   "outputs": [],
   "source": [
    "# CÓDIGO"
   ]
  },
  {
   "cell_type": "markdown",
   "metadata": {},
   "source": [
    "### 11. Apresente os idiomas que o valor médio da compra é superior ao valor médio de todas as compras"
   ]
  },
  {
   "cell_type": "code",
   "execution_count": null,
   "metadata": {
    "ExecuteTime": {
     "end_time": "2020-10-04T21:05:22.204407Z",
     "start_time": "2020-10-04T21:05:22.188148Z"
    }
   },
   "outputs": [],
   "source": [
    "# CÓDIGO"
   ]
  },
  {
   "cell_type": "markdown",
   "metadata": {},
   "source": [
    "### 12. Apresente os idiomas que o valor médio da compra é inferior ao valor médio de todas as compras"
   ]
  },
  {
   "cell_type": "code",
   "execution_count": null,
   "metadata": {
    "ExecuteTime": {
     "end_time": "2020-10-04T21:06:36.404143Z",
     "start_time": "2020-10-04T21:06:36.397105Z"
    }
   },
   "outputs": [],
   "source": [
    "# CÓDIGO"
   ]
  },
  {
   "cell_type": "markdown",
   "metadata": {},
   "source": [
    "### 13. Apresente um DataFrame que mostre o número de compras, o valor médio das compras, o maior valor gastado, o menor valor gasto em função da profissão"
   ]
  },
  {
   "cell_type": "code",
   "execution_count": null,
   "metadata": {
    "ExecuteTime": {
     "end_time": "2020-10-04T21:08:29.206635Z",
     "start_time": "2020-10-04T21:08:29.127767Z"
    }
   },
   "outputs": [],
   "source": [
    "# CÓDIGO"
   ]
  },
  {
   "cell_type": "markdown",
   "metadata": {},
   "source": [
    "### 14. Organize o DataFrame realizado previamente de maior a menor para média, valor máximo e número de compras"
   ]
  },
  {
   "cell_type": "code",
   "execution_count": null,
   "metadata": {
    "ExecuteTime": {
     "end_time": "2020-10-04T21:09:25.195811Z",
     "start_time": "2020-10-04T21:09:25.189712Z"
    }
   },
   "outputs": [],
   "source": [
    "# CÓDIGO"
   ]
  },
  {
   "cell_type": "markdown",
   "metadata": {},
   "source": [
    "### 15.  Modifique a coluna Email. Esta coluna deve conter somente o servidor de e-mail utilizado no momento de realizar o registo. Exemplo: nome@email.com → email.com"
   ]
  },
  {
   "cell_type": "code",
   "execution_count": null,
   "metadata": {
    "ExecuteTime": {
     "end_time": "2020-10-04T21:11:22.427724Z",
     "start_time": "2020-10-04T21:11:22.376034Z"
    }
   },
   "outputs": [],
   "source": [
    "# CÓDIGO"
   ]
  },
  {
   "cell_type": "markdown",
   "metadata": {},
   "source": [
    "### 16. Mostre quantas compras são realizadas durante o dia e quantas durante a noite"
   ]
  },
  {
   "cell_type": "markdown",
   "metadata": {},
   "source": [
    "#### Compras durante o dia"
   ]
  },
  {
   "cell_type": "code",
   "execution_count": null,
   "metadata": {
    "ExecuteTime": {
     "end_time": "2020-10-04T21:12:35.348566Z",
     "start_time": "2020-10-04T21:12:35.340020Z"
    }
   },
   "outputs": [],
   "source": [
    "# CÓDIGO"
   ]
  },
  {
   "cell_type": "markdown",
   "metadata": {
    "ExecuteTime": {
     "end_time": "2020-10-02T23:18:17.352978Z",
     "start_time": "2020-10-02T23:18:17.343795Z"
    }
   },
   "source": [
    "#### Compras durante a noite"
   ]
  },
  {
   "cell_type": "code",
   "execution_count": null,
   "metadata": {
    "ExecuteTime": {
     "end_time": "2020-10-04T21:12:52.517080Z",
     "start_time": "2020-10-04T21:12:52.500845Z"
    }
   },
   "outputs": [],
   "source": [
    "# CÓDIGO"
   ]
  },
  {
   "cell_type": "markdown",
   "metadata": {},
   "source": [
    "### 17. Identifique quais são servidores de e-mail que mais se registram durante o dia e durante a noite"
   ]
  },
  {
   "cell_type": "markdown",
   "metadata": {},
   "source": [
    "#### Registros durante o dia"
   ]
  },
  {
   "cell_type": "code",
   "execution_count": null,
   "metadata": {
    "ExecuteTime": {
     "end_time": "2020-10-04T21:13:32.356317Z",
     "start_time": "2020-10-04T21:13:32.331018Z"
    }
   },
   "outputs": [],
   "source": [
    "# CÓDIGO"
   ]
  },
  {
   "cell_type": "markdown",
   "metadata": {
    "ExecuteTime": {
     "end_time": "2020-10-02T23:29:38.575383Z",
     "start_time": "2020-10-02T23:29:38.571428Z"
    }
   },
   "source": [
    "#### Registros durante a noite"
   ]
  },
  {
   "cell_type": "code",
   "execution_count": null,
   "metadata": {
    "ExecuteTime": {
     "end_time": "2020-10-04T21:14:06.937696Z",
     "start_time": "2020-10-04T21:14:06.924401Z"
    }
   },
   "outputs": [],
   "source": [
    "# CÓDIGO"
   ]
  },
  {
   "cell_type": "markdown",
   "metadata": {},
   "source": [
    "### 18. Identifique as 5 profissões que menos dinheiro gastam durante o dia e durante a noite. Apresente um DataFrame com valores de média e desvio padrão"
   ]
  },
  {
   "cell_type": "markdown",
   "metadata": {},
   "source": [
    "#### Registros durante o dia"
   ]
  },
  {
   "cell_type": "code",
   "execution_count": null,
   "metadata": {
    "ExecuteTime": {
     "end_time": "2020-10-04T21:21:19.243132Z",
     "start_time": "2020-10-04T21:21:19.213049Z"
    }
   },
   "outputs": [],
   "source": [
    "# CÓDIGO"
   ]
  },
  {
   "cell_type": "markdown",
   "metadata": {},
   "source": [
    "#### Registro durante a noite"
   ]
  },
  {
   "cell_type": "code",
   "execution_count": null,
   "metadata": {
    "ExecuteTime": {
     "end_time": "2020-10-04T21:21:40.996139Z",
     "start_time": "2020-10-04T21:21:40.971459Z"
    }
   },
   "outputs": [],
   "source": [
    "# CÓDIGO"
   ]
  },
  {
   "cell_type": "markdown",
   "metadata": {},
   "source": [
    "### 19. Identifique as 5 empresas que realizaram mais compras. Quantas compras as empresas realizaram, o valor máximo e mínimos das compras, o valor total e o valor médio que as empresas gastaram."
   ]
  },
  {
   "cell_type": "markdown",
   "metadata": {},
   "source": [
    "#### Empresas com mais compras"
   ]
  },
  {
   "cell_type": "code",
   "execution_count": null,
   "metadata": {
    "ExecuteTime": {
     "end_time": "2020-10-04T21:23:21.216123Z",
     "start_time": "2020-10-04T21:23:21.181367Z"
    }
   },
   "outputs": [],
   "source": [
    "# CÓDIGO"
   ]
  },
  {
   "cell_type": "markdown",
   "metadata": {},
   "source": [
    "### 20. Crie um DataFrame utilizando a informação da coluna Browser Info. O novo DataFrame tem que ter duas colunas, uma sendo o navegador utilizado e a outra o sistema operativo"
   ]
  },
  {
   "cell_type": "markdown",
   "metadata": {},
   "source": [
    "####  Coluna com navegadores"
   ]
  },
  {
   "cell_type": "code",
   "execution_count": null,
   "metadata": {
    "ExecuteTime": {
     "end_time": "2020-10-04T21:45:21.942838Z",
     "start_time": "2020-10-04T21:45:21.922491Z"
    }
   },
   "outputs": [],
   "source": [
    "# CÓDIGO"
   ]
  },
  {
   "cell_type": "markdown",
   "metadata": {},
   "source": [
    "#### Coluna com sistema operativo"
   ]
  },
  {
   "cell_type": "code",
   "execution_count": null,
   "metadata": {
    "ExecuteTime": {
     "end_time": "2020-10-04T21:45:25.015925Z",
     "start_time": "2020-10-04T21:45:24.874990Z"
    }
   },
   "outputs": [],
   "source": [
    "# CÓDIGO"
   ]
  },
  {
   "cell_type": "markdown",
   "metadata": {},
   "source": [
    "#### Criando o novo DataFrame"
   ]
  },
  {
   "cell_type": "code",
   "execution_count": null,
   "metadata": {
    "ExecuteTime": {
     "end_time": "2020-10-04T21:45:31.805414Z",
     "start_time": "2020-10-04T21:45:31.790135Z"
    }
   },
   "outputs": [],
   "source": [
    "# CÓDIGO"
   ]
  },
  {
   "cell_type": "markdown",
   "metadata": {},
   "source": [
    "### 21. Elimine a coluna  Browser Info e junte os dois DataFrame"
   ]
  },
  {
   "cell_type": "code",
   "execution_count": null,
   "metadata": {
    "ExecuteTime": {
     "end_time": "2020-10-04T21:46:50.621686Z",
     "start_time": "2020-10-04T21:46:50.609172Z"
    }
   },
   "outputs": [],
   "source": [
    "# CÓDIGO"
   ]
  },
  {
   "cell_type": "markdown",
   "metadata": {},
   "source": [
    "### 22. Qual são os sistemas operativos mais utilizados e qual é o valor total, valor médio, valor máximo e mínimo registrados com esses sistemas operativos?"
   ]
  },
  {
   "cell_type": "code",
   "execution_count": null,
   "metadata": {},
   "outputs": [],
   "source": [
    "# CÓDIGO"
   ]
  }
 ],
 "metadata": {
  "@webio": {
   "lastCommId": null,
   "lastKernelId": null
  },
  "hide_input": false,
  "kernelspec": {
   "display_name": "Python 3",
   "language": "python",
   "name": "python3"
  },
  "language_info": {
   "codemirror_mode": {
    "name": "ipython",
    "version": 3
   },
   "file_extension": ".py",
   "mimetype": "text/x-python",
   "name": "python",
   "nbconvert_exporter": "python",
   "pygments_lexer": "ipython3",
   "version": "3.7.7"
  },
  "latex_envs": {
   "LaTeX_envs_menu_present": true,
   "autoclose": true,
   "autocomplete": true,
   "bibliofile": "biblio.bib",
   "cite_by": "apalike",
   "current_citInitial": 1,
   "eqLabelWithNumbers": true,
   "eqNumInitial": 1,
   "hotkeys": {
    "equation": "Ctrl-E",
    "itemize": "Ctrl-I"
   },
   "labels_anchors": false,
   "latex_user_defs": false,
   "report_style_numbering": false,
   "user_envs_cfg": false
  }
 },
 "nbformat": 4,
 "nbformat_minor": 4
}
