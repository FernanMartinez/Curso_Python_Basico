{
 "cells": [
  {
   "cell_type": "code",
   "execution_count": null,
   "metadata": {},
   "outputs": [],
   "source": [
    "#Opção 1\n",
    "using Distributions\n",
    "using CSV\n",
    "using DataFrames"
   ]
  },
  {
   "cell_type": "code",
   "execution_count": null,
   "metadata": {},
   "outputs": [],
   "source": [
    "#Opção 1\n",
    "NUMERO_ELEMENTOS = 1_000_000\n",
    "SAMPLES = 250\n",
    "REPEAT = 5\n",
    "distribution = Truncated(Normal(5, 4.5), 0, 10)\n",
    "valores = rand(distribution, NUMERO_ELEMENTOS)\n",
    "function for_opcao1(valores)\n",
    "    vetor_fun_for1 = []\n",
    "    soma = 0\n",
    "    for valor in valores\n",
    "        append!(vetor_fun_for1, valor^3+ 5/3.141516*(valor^(0.5)) - valor/(valor^2 + 1))\n",
    "        soma += vetor_fun_for1[end]\n",
    "    end\n",
    "    return vetor_fun_for1, soma\n",
    "end\n",
    "bench_for_1 = @benchmark for_opcao1(valores) samples=SAMPLES evals=REPEAT seconds=10000\n",
    "tempo = reshape(bench_for_1.times,(length(bench_for_1.times), 1))/1_000_000_000\n",
    "nome_file = \"Dados Julia repeat=$REPEAT samples=$SAMPLES.csv\"\n",
    "CSV.write(nome_file, DataFrame(tempo), writeheader=false)"
   ]
  }
 ],
 "metadata": {
  "@webio": {
   "lastCommId": null,
   "lastKernelId": null
  },
  "kernelspec": {
   "display_name": "Julia 1.4.1",
   "language": "julia",
   "name": "julia-1.4"
  },
  "language_info": {
   "file_extension": ".jl",
   "mimetype": "application/julia",
   "name": "julia",
   "version": "1.4.1"
  },
  "varInspector": {
   "cols": {
    "lenName": 16,
    "lenType": 16,
    "lenVar": 40
   },
   "kernels_config": {
    "python": {
     "delete_cmd_postfix": "",
     "delete_cmd_prefix": "del ",
     "library": "var_list.py",
     "varRefreshCmd": "print(var_dic_list())"
    },
    "r": {
     "delete_cmd_postfix": ") ",
     "delete_cmd_prefix": "rm(",
     "library": "var_list.r",
     "varRefreshCmd": "cat(var_dic_list()) "
    }
   },
   "types_to_exclude": [
    "module",
    "function",
    "builtin_function_or_method",
    "instance",
    "_Feature"
   ],
   "window_display": true
  }
 },
 "nbformat": 4,
 "nbformat_minor": 4
}
