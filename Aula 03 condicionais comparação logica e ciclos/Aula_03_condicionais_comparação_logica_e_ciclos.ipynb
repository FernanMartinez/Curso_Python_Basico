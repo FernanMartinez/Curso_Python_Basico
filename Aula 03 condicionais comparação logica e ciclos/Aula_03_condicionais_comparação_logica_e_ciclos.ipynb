{
 "cells": [
  {
   "cell_type": "markdown",
   "metadata": {},
   "source": [
    "# Aula 03. Operadores e ciclos\n",
    "\n",
    "<img  src='img/logica.jpg' width='500' height='300' />\n",
    "Até agora vimos os aspectos mais básico de Python como tipos de variáveis, collections, manipulação dos diferentes tipos de collections e indexação. Porém é necessário realizar operações entre os tipos de dados, comparações e trabalhar com operações de repetição.\n",
    "\n",
    "---\n",
    "<font size=\"5\"> Os tópicos que vamos abordar nesta série de conversas são:</font>\n",
    "- [ ] Operadores aritméticos e relacionais;\n",
    "- [ ] Condicionais;\n",
    "- [ ] Ciclos de repetição"
   ]
  },
  {
   "cell_type": "markdown",
   "metadata": {},
   "source": [
    "## Operadores aritméticos e relacionais"
   ]
  },
  {
   "cell_type": "markdown",
   "metadata": {},
   "source": [
    "Python conta com os seguintes operadores aritméticos por padrão. \n",
    "\n",
    "- Adição `+`\n",
    "- Substração ` -`\n",
    "- Multiplicação `*`\n",
    "- Divisão `/`\n",
    "- Exponenciação `**`\n",
    "- Parte inteira `//`\n",
    "- Modulo `%`\n",
    "\n",
    "Estas operações estão definidas entre dados do tipo `int`, `float` e `comlplex`. Cabe destacar que estas operações também estão definidas entre esses tipos de dados. Além disso, alguns outros tipos de dados podem ter definidas operações utilizando símbolos aritméticos, porém o resultado dessas operações vai depender das propriedades do objeto.\n",
    "\n",
    "Python conta com sete operadores de relação:\n",
    "- Igualdade\n",
    "\t- `==`: Verifica igualdade entre dois valores;\n",
    "\t- `!=`: Verifica diferença entre dois valores;\n",
    "- Comparação\n",
    "\t- `>`: Verifica se A é maior que B;\n",
    "\t- `<`: Verifica se A é menor que B;\n",
    "\t- `>=`: Verifica se A é maior ou igual que B;\n",
    "\t- `<=`: Verifica se A é menor ou igual que B;\n",
    "- sequência:\n",
    "\t- `in`: Verifica se um valor está contigo numa collection ou string\n",
    "    \n",
    "Cabe destacar que o resultado destas operadores sempre é um valor booliano (`True` ou `False`)."
   ]
  },
  {
   "cell_type": "markdown",
   "metadata": {},
   "source": [
    "###  Exemplo Operadores aritméticas"
   ]
  },
  {
   "cell_type": "code",
   "execution_count": 1,
   "metadata": {
    "ExecuteTime": {
     "end_time": "2020-11-09T15:54:43.924572Z",
     "start_time": "2020-11-09T15:54:43.895765Z"
    }
   },
   "outputs": [
    {
     "name": "stdout",
     "output_type": "stream",
     "text": [
      "\n",
      "Operador de adição: 1 + 1 = 2\n",
      "Operador de substração: 1.0 - 1.0 = 0.0\n",
      "Operador de multiplicação: 2 * 5 = 10\n",
      "Operador de multiplicação: 2.0 * 5.0 = 10.0\n",
      "Operador de multiplicação: 2.0 * 5 = 10.0\n",
      "Operador de divisão: 1 / 1 = 1.0\n",
      "Operador de divisão: 5 / 2 = 2.5\n",
      "Operador de exponenciação: 2**5 = 32\n",
      "Operador de exponenciação: 2**5.0 = 32.0\n",
      "Operador parte inteira: 2//3 = 1\n",
      "Operador parte inteira: 2//3 = 0\n",
      "Operador parte inteira: 6//3 = 2\n",
      "Operador Modulo: 10%2 = 0\n",
      "Operador Modulo: 10%5 = 0\n",
      "Operador Modulo: 11%2 = 1\n",
      "\n"
     ]
    }
   ],
   "source": [
    "print(f\"\"\"\n",
    "Operador de adição: 1 + 1 = {1+1}\n",
    "Operador de substração: 1.0 - 1.0 = {1.0-1.0}\n",
    "Operador de multiplicação: 2 * 5 = {2*5}\n",
    "Operador de multiplicação: 2.0 * 5.0 = {2.0*5.0}\n",
    "Operador de multiplicação: 2.0 * 5 = {2.0*5.0}\n",
    "Operador de divisão: 1 / 1 = {1/1}\n",
    "Operador de divisão: 5 / 2 = {5/2}\n",
    "Operador de exponenciação: 2**5 = {2**5}\n",
    "Operador de exponenciação: 2**5.0 = {2**5.0}\n",
    "Operador parte inteira: 2//3 = {2//2}\n",
    "Operador parte inteira: 2//3 = {2//3}\n",
    "Operador parte inteira: 6//3 = {6//3}\n",
    "Operador Modulo: 10%2 = {10%2}\n",
    "Operador Modulo: 10%5 = {10%2}\n",
    "Operador Modulo: 11%2 = {11%2}\n",
    "\"\"\")"
   ]
  },
  {
   "cell_type": "markdown",
   "metadata": {},
   "source": [
    "###  Exemplo Operadores relacionais"
   ]
  },
  {
   "cell_type": "code",
   "execution_count": 2,
   "metadata": {
    "ExecuteTime": {
     "end_time": "2020-11-09T15:54:55.297365Z",
     "start_time": "2020-11-09T15:54:55.289724Z"
    }
   },
   "outputs": [
    {
     "name": "stdout",
     "output_type": "stream",
     "text": [
      "\n",
      "Operadores de igualdade:\n",
      "    - a==b : False\n",
      "    - a==b*c : True\n",
      "    - a!=b : True\n",
      "    - a!=b*c : False\n",
      "Operadores de comparação:\n",
      "    - a>b : True\n",
      "    - a<b : False\n",
      "    - a>=b*c : True\n",
      "    - a<=b*c : True\n",
      "Operadores de sequência\n",
      "    - a in d : False\n",
      "    - b in d : True\n",
      "    - c in d : True\n",
      "    Com String\n",
      "    - \"a\" in texto True\n",
      "    - \"A\" in texto False\n",
      "    - \"b\" in texto False\n",
      "    - \" \" in texto True\n",
      "    - \"O\" in texto False\n",
      "    - \"t\" in texto True\n",
      "    - \"T\" in texto True\n",
      "\n"
     ]
    }
   ],
   "source": [
    "a = 10\n",
    "b = 2\n",
    "c = 5\n",
    "d = [1,2,3,4,5]\n",
    "texto = \"CadEia de Texto\"\n",
    "print(f\"\"\"\n",
    "Operadores de igualdade:\n",
    "    - a==b : {a == b}\n",
    "    - a==b*c : {a==b*c}\n",
    "    - a!=b : {a!=b}\n",
    "    - a!=b*c : {a!=b*c}\n",
    "Operadores de comparação:\n",
    "    - a>b : {a>b}\n",
    "    - a<b : {a<b}\n",
    "    - a>=b*c : {a>=b*c}\n",
    "    - a<=b*c : {a>=b*c}\n",
    "Operadores de sequência\n",
    "    - a in d : {a in d}\n",
    "    - b in d : {b in d}\n",
    "    - c in d : {c in d}\n",
    "    Com String\n",
    "    - \"a\" in texto {\"a\" in texto}\n",
    "    - \"A\" in texto {\"A\" in texto}\n",
    "    - \"b\" in texto {\"b\" in texto}\n",
    "    - \" \" in texto {\" \" in texto}\n",
    "    - \"O\" in texto {\"O\" in texto}\n",
    "    - \"t\" in texto {\"t\" in texto}\n",
    "    - \"T\" in texto {\"T\" in texto}\n",
    "\"\"\")"
   ]
  },
  {
   "cell_type": "markdown",
   "metadata": {},
   "source": [
    "## Condicionais\n",
    "\n",
    "Python possui 3 estruturas condicionais.\n",
    "\n",
    "- **Estrutura condicional simple**. A palavra reservada `if` permite avaliar o resultado de um operador de relação e de acordo com o resultado executar uma determinada ação. A sintaxe desta estrutura é:\n",
    "\n",
    "    ```python\n",
    "    if estrutura_condicional:\n",
    "        bloco_de_execução\n",
    "    ```\n",
    "caso a `estrutura_condicional` seja `True` o `bloco_de_execução` será executado, caso contrario o código não executará o `bloco_de_execução`\n",
    "\n",
    "- **Estrutura condicional composta**. As palavras reservadas `if` e `else` permite avaliar um segundo bloco de execução caso a `estrutura_condicional` seja `False`. A sintaxe desta estrutura é:\n",
    "\n",
    "    ```python\n",
    "    if estrutura_condicional:\n",
    "        bloco_de_execução_1\n",
    "    else:\n",
    "        bloco_de_execução_2\n",
    "     ```\n",
    " Neste caso se a `estrutura_condicional` é `True` o `bloco_de_execução_1` será executado e `bloco_de_execução_2` não será executado. Porém, se `estrutura_condicional` é `False` o `bloco_de_execução_1` não será executado e `bloco_de_execução_2` será executado.\n",
    " \n",
    "- **Estrutura condicional aninhada**. As palavras reservadas `if`, `elif` e `else`  permite  avaliar quantos blocos condicionais sejam necessárias. Neste caso, em cada `elif` é avaliada um operador condicional diferente e se algumas das estruturas_condicionais é `True` as próximas estruturas não serão testadas. E se nenhum dos operadores de relação é `True` nos blocos com `if` ou `elif` o `bloco_de_execução_n` será executado. A sintaxe desta estrutura é:\n",
    "    ```python\n",
    "    if estrutura_condicional_1:\n",
    "        bloco_de_execução_1\n",
    "    elif estrutura_condicional_2:\n",
    "        bloco_de_execução_2\n",
    "    elif estrutura_condicional_3:\n",
    "        bloco_de_execução_3\n",
    "                .\n",
    "                .\n",
    "                .\n",
    "                .\n",
    "    elif estrutura_condicional_n-1:\n",
    "        bloco_de_execução_n-1      \n",
    "    else:\n",
    "        bloco_de_execução_n\n",
    "     ```\n"
   ]
  },
  {
   "cell_type": "markdown",
   "metadata": {},
   "source": [
    "### Exemplo estrutura condicional simple"
   ]
  },
  {
   "cell_type": "code",
   "execution_count": 3,
   "metadata": {
    "ExecuteTime": {
     "end_time": "2020-11-09T16:00:26.727604Z",
     "start_time": "2020-11-09T16:00:26.713871Z"
    }
   },
   "outputs": [
    {
     "name": "stdout",
     "output_type": "stream",
     "text": [
      "A condição 1 foi atingida\n",
      "Código após estutura condicional if\n"
     ]
    }
   ],
   "source": [
    "variavel_para_comparar = 20.0\n",
    "if variavel_para_comparar == 20:\n",
    "    print(\"A condição 1 foi atingida\")\n",
    "print(\"Código após estutura condicional if\")"
   ]
  },
  {
   "cell_type": "markdown",
   "metadata": {},
   "source": [
    "### Exemplo estrutura condicional composta"
   ]
  },
  {
   "cell_type": "code",
   "execution_count": 4,
   "metadata": {
    "ExecuteTime": {
     "end_time": "2020-11-09T16:00:31.039295Z",
     "start_time": "2020-11-09T16:00:31.027213Z"
    }
   },
   "outputs": [
    {
     "name": "stdout",
     "output_type": "stream",
     "text": [
      "A condição 1 não foi atingida\n",
      "Código após estutura condicional if-else\n"
     ]
    }
   ],
   "source": [
    "variavel_para_comparar = 21\n",
    "if variavel_para_comparar == 20:\n",
    "    print(\"A condição 1 foi atingida\")\n",
    "else:\n",
    "    print(\"A condição 1 não foi atingida\")\n",
    "print(\"Código após estutura condicional if-else\")"
   ]
  },
  {
   "cell_type": "code",
   "execution_count": 6,
   "metadata": {
    "ExecuteTime": {
     "end_time": "2020-11-09T16:01:05.936717Z",
     "start_time": "2020-11-09T16:01:05.918298Z"
    }
   },
   "outputs": [
    {
     "name": "stdout",
     "output_type": "stream",
     "text": [
      "A condição 1 foi atingida\n",
      "Código após estutura condicional if-else\n"
     ]
    }
   ],
   "source": [
    "variavel_para_comparar = 20\n",
    "if variavel_para_comparar == 20:\n",
    "    print(\"A condição 1 foi atingida\")\n",
    "else:\n",
    "    print(\"A condição 1 não foi atingida\")\n",
    "print(\"Código após estutura condicional if-else\")"
   ]
  },
  {
   "cell_type": "markdown",
   "metadata": {},
   "source": [
    "### Exemplo estrutura condicional aninhada"
   ]
  },
  {
   "cell_type": "code",
   "execution_count": 7,
   "metadata": {
    "ExecuteTime": {
     "end_time": "2020-11-09T16:01:11.944650Z",
     "start_time": "2020-11-09T16:01:11.932931Z"
    }
   },
   "outputs": [
    {
     "name": "stdout",
     "output_type": "stream",
     "text": [
      "A condição 7 foi atingida\n",
      "Código após estutura condicional if-elif-else\n"
     ]
    }
   ],
   "source": [
    "variavel_para_comparar = 21.1\n",
    "if variavel_para_comparar == 0:\n",
    "    print(\"A condição 1 foi atingida\")\n",
    "elif variavel_para_comparar == 5:\n",
    "    print(\"A condição 2 foi atingida\")\n",
    "elif variavel_para_comparar == 10:\n",
    "    print(\"A condição 3 foi atingida\")\n",
    "elif variavel_para_comparar == 15:\n",
    "    print(\"A condição 4 foi atingida\")\n",
    "elif variavel_para_comparar == 20:\n",
    "    print(\"A condição 5 foi atingida\")\n",
    "elif variavel_para_comparar == 21:\n",
    "    print(\"A condição 6 foi atingida\")\n",
    "elif variavel_para_comparar > 20:\n",
    "    print(\"A condição 7 foi atingida\")\n",
    "else:\n",
    "    print(\"As condições não foram atingidas\")\n",
    "print(\"Código após estutura condicional if-elif-else\")"
   ]
  },
  {
   "cell_type": "markdown",
   "metadata": {},
   "source": [
    "## Ciclos de repetição\n",
    "Python fornece duas palavras reservadas para realizar operações de repetição. A primeira é a sintaxe `while` a qual se encarrega de realizar ciclos de repetição de forma indefinida até atingir uma condição de parada. A segunda sintaxe é `for` a qual realiza a repetição sobre um `iterable` (Os objetos `list`, `tuple`, `set` e `string` são `iterable`). A sintaxe para cada ciclo é:\n",
    "\n",
    "1. Ciclo de repetição utilizando `while`\n",
    "```python\n",
    "while condicao:\n",
    "    bloco_de_execucao\n",
    "```\n",
    "1. Ciclo de repetição utilizando `while` - `break`\n",
    "```python\n",
    "while True:\n",
    "    bloco_de_execucao\n",
    "    if condicao_de_parada:\n",
    "        break\n",
    "```\n",
    "1. Ciclo de repetição utilizando `for`\n",
    "```python\n",
    "for i in iterabel:\n",
    "    bloco_de_execucao\n",
    "```\n",
    "\n",
    "No primeiro caso, o bloco de execução é atingido unicamente quando `condicao==True`, caso contrario não ingressa-se nesse bloco de código. Quando o bloco do código é atingido se executa o bloco_de_execucao até que a `condicao==False`. Caso a `condicao` não seja modificada no interior do bloco para atingir `condicao==False` o bloco será executado de forma infinita. **Deve-se ter muito cuida para realizar a mudança da variável necessária para atingir `condicao==False`**\n",
    "\n",
    "\n",
    "No segundo caso, o bloco `while True` sempre será atingido. Para sair do bloco, testa-se uma condição de parada interna, quando condicao_de_parada e atingida o bloco `while True` será interrompido com a sintaxe `break`. Deve-se ter muito cuidado para garantir de a condição de parada será atingida do contrario o ciclo se repetira de forma infinita.\n",
    "\n",
    "No ultimo caso, o bloco `for` executa `bloco_de_execucao` até percorrer todo o `iterabel`, neste caso não é necessário uma condição de parada, dado que o bloco `for` repeti o `bloco_de_execucao` `len(iterabel)` vezes.\n",
    "\n"
   ]
  },
  {
   "cell_type": "markdown",
   "metadata": {},
   "source": [
    "### Exemplo usando `while`"
   ]
  },
  {
   "cell_type": "code",
   "execution_count": 8,
   "metadata": {
    "ExecuteTime": {
     "end_time": "2020-11-09T16:05:49.214749Z",
     "start_time": "2020-11-09T16:05:49.209730Z"
    }
   },
   "outputs": [
    {
     "name": "stdout",
     "output_type": "stream",
     "text": [
      "0\n",
      "1\n",
      "2\n",
      "3\n",
      "4\n",
      "5\n",
      "6\n",
      "7\n",
      "8\n",
      "9\n"
     ]
    }
   ],
   "source": [
    "# Neste exemplo o `while` é executado até que o valor da variável `c` seja maior que 10.\n",
    "# No interior do código temos o código `c += 1` o qual garante que a condição de parada será atingida.\n",
    "c = 0\n",
    "while c < 10:\n",
    "    print(c)\n",
    "    c += 1"
   ]
  },
  {
   "cell_type": "markdown",
   "metadata": {},
   "source": [
    "### Exemplo usando `while` - `break`"
   ]
  },
  {
   "cell_type": "code",
   "execution_count": 9,
   "metadata": {
    "ExecuteTime": {
     "end_time": "2020-11-09T16:05:52.078613Z",
     "start_time": "2020-11-09T16:05:52.073300Z"
    }
   },
   "outputs": [],
   "source": [
    "# Neste exemplo, o bloco `while` sempre é atingido e a condição de parada se encontra no interior do bloco.\n",
    "while True:\n",
    "    if c == 10:\n",
    "        break\n",
    "    c += 1"
   ]
  },
  {
   "cell_type": "markdown",
   "metadata": {},
   "source": [
    "### Exemplo usando `for`"
   ]
  },
  {
   "cell_type": "code",
   "execution_count": 10,
   "metadata": {
    "ExecuteTime": {
     "end_time": "2020-11-09T16:05:54.356700Z",
     "start_time": "2020-11-09T16:05:54.337736Z"
    }
   },
   "outputs": [
    {
     "name": "stdout",
     "output_type": "stream",
     "text": [
      "0\n",
      "1\n",
      "2\n",
      "3\n",
      "4\n",
      "5\n",
      "6\n",
      "7\n",
      "8\n",
      "9\n"
     ]
    }
   ],
   "source": [
    "# Neste exemplo, o bloco `for` sempre é atingido e quando o `iterabel`, neste caso `range(10)`, \n",
    "# for totalmente percorrido, terminará-se a execução do bloco.\n",
    "for i in range(10):\n",
    "    print(i)"
   ]
  }
 ],
 "metadata": {
  "hide_input": false,
  "kernelspec": {
   "display_name": "Python 3",
   "language": "python",
   "name": "python3"
  },
  "language_info": {
   "codemirror_mode": {
    "name": "ipython",
    "version": 3
   },
   "file_extension": ".py",
   "mimetype": "text/x-python",
   "name": "python",
   "nbconvert_exporter": "python",
   "pygments_lexer": "ipython3",
   "version": "3.7.7"
  },
  "latex_envs": {
   "LaTeX_envs_menu_present": true,
   "autoclose": true,
   "autocomplete": true,
   "bibliofile": "biblio.bib",
   "cite_by": "apalike",
   "current_citInitial": 1,
   "eqLabelWithNumbers": true,
   "eqNumInitial": 1,
   "hotkeys": {
    "equation": "Ctrl-E",
    "itemize": "Ctrl-I"
   },
   "labels_anchors": false,
   "latex_user_defs": false,
   "report_style_numbering": false,
   "user_envs_cfg": false
  }
 },
 "nbformat": 4,
 "nbformat_minor": 4
}
