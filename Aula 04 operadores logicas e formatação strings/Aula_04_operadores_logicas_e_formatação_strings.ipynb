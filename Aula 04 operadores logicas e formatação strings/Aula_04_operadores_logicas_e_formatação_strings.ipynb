{
 "cells": [
  {
   "cell_type": "markdown",
   "metadata": {},
   "source": [
    "# Aula 04. operadores lógicos e formatação de strings\n",
    "\n",
    "<img  src='img/logica.jpg' width='500' height='300' />\n",
    "\n",
    "Já vimos os diferentes tipos de dados e os containers que a linguagem Python possui. Porém ainda não tratamos a formatação de `string` e os operadores lógicos. Esses dois temas são de suma importância no desenvolvimento de códigos independentemente da finalidade do códigos (desenvolvimento web, DataSicence, BigData, etc).\n",
    "\n",
    "---\n",
    "<font size=\"5\"> Os tópicos que vamos abordar nesta série de conversas são:</font>\n",
    "- [ ] Formatação de string;\n",
    "    - [ ] Metodo 1. Utilizando operador `%`;\n",
    "    - [ ] Metodo 2. Utilizando `.format()`;\n",
    "    - [ ] Metodo 3. Utilizanod `f\"\"`\n",
    "- [ ] Operadores lógicos (`and`, `or`, `not`)\n"
   ]
  },
  {
   "cell_type": "markdown",
   "metadata": {},
   "source": [
    "##  Formatação de string\n",
    "Python possui três formas de formatar cadeias de `string`. Todos são adequados para formatar `string` a única diferença rádica na quantidade de código.\n",
    "\n",
    "**Método 1 strings literais formatadas**. Esse método permite a formatação direta de uma `string`. Para formatar precisa iniciar com `f` ou `F` antes de abrir as aspas ou aspas triplas. Dentro da `string`, pode-se escrever uma expressão Python entre caracteres { e }, que podem se referir a variáveis, ou valores literais. Exemplo de sintaxe\n",
    "```python\n",
    "var = “Fernan”\n",
    "edad = 25\n",
    "f“o usuário {var} tem {edad} anos”\n",
    "F“o usuário {var} tem {edad} anos”\n",
    "```\n",
    "\n",
    "**Método 2 `str.format()`**. Esse método permite formatar `string` aplicando o `.format()`, nesse casso ainda é utilizado `{ }` para especificar o ponto onde será inserida a variável e na chamada do método `.format()` se específica a variável que será inserida na `string`. É muito importante que destacar todas as variáveis devem ser passadas na ordem certa de formatação. Exemplo de sintaxe.\n",
    "```python\n",
    "var = “Fernan”\n",
    "edade = 25\n",
    "“o usuário {} tem {} anos”.fortmat(var, edade)\n",
    "```\n",
    "\n",
    "**Método 3 interpolação de string**. Esse é o método mais antigo para formatação de `string`. Nesse caso é usado o operador modulo `%` e se acrescenta a formatação que será realizada. Os mais utilizados são `s` para converter qualquer objeto de Python numa `string`, e `f` ou `F` para formatar como ponto flutuante. Exemplo de sintaxe.\n",
    "```python\n",
    "var = “Fernan”\n",
    "edade = 25\n",
    "“o usuário %s tem %f anos”%(var, edade)\n",
    "```\n",
    "\n",
    "A formatação de `string` é muito utilizada para escrita de arquivos, por esse motivo recomento a leitura do [link1](https://docs.python.org/pt-br/3/tutorial/inputoutput.html) e [link2](https://docs.python.org/pt-br/3/library/stdtypes.html#old-string-formatting)."
   ]
  },
  {
   "cell_type": "markdown",
   "metadata": {},
   "source": [
    "### Método 1"
   ]
  },
  {
   "cell_type": "code",
   "execution_count": 1,
   "metadata": {
    "ExecuteTime": {
     "end_time": "2020-11-09T16:16:03.711304Z",
     "start_time": "2020-11-09T16:16:03.707542Z"
    }
   },
   "outputs": [],
   "source": [
    "nome = 'Fernan'\n",
    "sobrenome = 'Martinez'\n",
    "idade = 28\n",
    "altura = 1.80\n",
    "profissao = 'Pesquisador'"
   ]
  },
  {
   "cell_type": "code",
   "execution_count": 2,
   "metadata": {
    "ExecuteTime": {
     "end_time": "2020-11-09T16:16:05.760786Z",
     "start_time": "2020-11-09T16:16:05.748858Z"
    }
   },
   "outputs": [
    {
     "name": "stdout",
     "output_type": "stream",
     "text": [
      "Nome: Fernan. \n",
      "Sobrenome: Martinez. \n",
      "Idade: 28 \n",
      "Altura: 1.8.\n",
      "Profissão: Pesquisador\n"
     ]
    }
   ],
   "source": [
    "print(f\"Nome: {nome}. \\nSobrenome: {sobrenome}. \\nIdade: {idade} \\nAltura: {altura}.\\nProfissão: {profissao}\")"
   ]
  },
  {
   "cell_type": "markdown",
   "metadata": {},
   "source": [
    "### Método 2"
   ]
  },
  {
   "cell_type": "code",
   "execution_count": 3,
   "metadata": {
    "ExecuteTime": {
     "end_time": "2020-11-09T16:16:08.877794Z",
     "start_time": "2020-11-09T16:16:08.869115Z"
    }
   },
   "outputs": [
    {
     "name": "stdout",
     "output_type": "stream",
     "text": [
      "Nome: Fernan. \n",
      "Sobrenome: Martinez. \n",
      "Idade: 28 \n",
      "Altura: 1.8.\n",
      "Profissão: Pesquisador\n"
     ]
    }
   ],
   "source": [
    "print(\"Nome: {}. \\nSobrenome: {}. \\nIdade: {} \\nAltura: {}.\\nProfissão: {}\".format(nome,\n",
    "                                                                                   sobrenome,\n",
    "                                                                                   idade,\n",
    "                                                                                   altura,\n",
    "                                                                                   profissao))"
   ]
  },
  {
   "cell_type": "markdown",
   "metadata": {},
   "source": [
    "### Método 3"
   ]
  },
  {
   "cell_type": "code",
   "execution_count": 4,
   "metadata": {
    "ExecuteTime": {
     "end_time": "2020-11-09T16:16:10.694146Z",
     "start_time": "2020-11-09T16:16:10.680906Z"
    }
   },
   "outputs": [
    {
     "name": "stdout",
     "output_type": "stream",
     "text": [
      "Nome: Fernan. \n",
      "Sobrenome: Martinez. \n",
      "Idade: 28 \n",
      "Altura: 1.800000.\n",
      "Profissão: Pesquisador\n"
     ]
    }
   ],
   "source": [
    "print(\"Nome: %s. \\nSobrenome: %s. \\nIdade: %i \\nAltura: %f.\\nProfissão: %s\" %(nome,\n",
    "                                                                              sobrenome,\n",
    "                                                                              idade,\n",
    "                                                                              altura,\n",
    "                                                                              profissao))"
   ]
  },
  {
   "cell_type": "code",
   "execution_count": 5,
   "metadata": {
    "ExecuteTime": {
     "end_time": "2020-11-09T16:16:13.328653Z",
     "start_time": "2020-11-09T16:16:13.311237Z"
    }
   },
   "outputs": [
    {
     "name": "stdout",
     "output_type": "stream",
     "text": [
      "O usuario Fernan tem a idade 28 e a comida é Bata\n",
      "O usuario Isabele tem a idade 28 e a comida é Batat\n",
      "O usuario Rafael tem a idade 25 e a comida é Pizza\n",
      "O usuario Edvaldo tem a idade 40 e a comida é Maça\n",
      "O usuario Marcos tem a idade 35 e a comida é Maça\n",
      "O usuario Narie tem a idade 25 e a comida é Laranja\n",
      "O usuario Gabriel tem a idade 22 e a comida é Laranja\n"
     ]
    }
   ],
   "source": [
    "# Exemplo aplicando formatação direta\n",
    "a = [1, 2, 3]\n",
    "nome = 'Fernan Isabele Rafael Edvaldo Marcos Narie Gabriel Karina'.split(' ')\n",
    "comida = 'Bata Batat Pizza Maça Maça Laranja Laranja'.split(' ')\n",
    "idade = [28, 28, 25, 40, 35, 25, 22, 25]\n",
    "tupla = tuple(a)\n",
    "for nome_u, idade_u, comida_u in zip(nome, idade, comida):\n",
    "    print(f'O usuario {nome_u} tem a idade {idade_u} e a comida é {comida_u}')"
   ]
  },
  {
   "cell_type": "markdown",
   "metadata": {},
   "source": [
    "## Operadores lógicos (and, or, not)\n",
    "\n",
    "Python possui três operadores lógicos, esses são `and`, `or`, e `not`, os quais representam junção, possibilidade e negação respetivamente. No caso do operador `and` o resultados é `True` sempre que os operadores de comparação testado sejam `True`. No caso do `or` o retorno é `True` se pelo menos uma das comparações testadas é `True`. Já o `not` inverte o resultado.\n",
    "\n",
    "Para conseguir compreender melhor vamos analisar as tabelas da verdade para esses três operadores:\n",
    "\n",
    "Tabela verdade AND\n",
    "```\n",
    "| Variavel_1 | Operador | Variavel_2 | Resultado|\n",
    "|    True    |   AND    |    True    |   True   |\n",
    "|    True    |   AND    |    False   |  False   |\n",
    "|    False   |   AND    |    False   |  False   |\n",
    "|    False   |   AND    |    True    |  False   |\n",
    "``` \n",
    "\n",
    "Tabela verdade OR\n",
    "```\n",
    "| Variavel_1 | Operador | Variavel_2 | Resultado|\n",
    "|    True    |   OR     |    True    |  True    |\n",
    "|    True    |   OR     |    False   |  True    |\n",
    "|    False   |   OR     |    False   |  False   |\n",
    "|    False   |   OR     |    True    |  True    |\n",
    "``` \n",
    "\n",
    "Tabela verdade NOT\n",
    "```\n",
    "| Operador | Variavel_2 | Resultado|\n",
    "|   NOT    |    True    |  False   |\n",
    "|   NOT    |    False   |  True    |\n",
    "``` \n",
    "\n",
    "A compreensão de todos os operadores de lógica (e dos outros tipos de operadores) é de suma importância para não cair em erros de lógica. Por esse motivo recomendo a leitura de :\n",
    "\n",
    "- [link 1](https://www.digitalocean.com/community/tutorials/understanding-boolean-logic-in-python-3)\n",
    "- [link 2](https://www.w3schools.com/python/python_operators.asp)\n",
    "- [link 3](https://www.programiz.com/python-programming/operators)"
   ]
  },
  {
   "cell_type": "markdown",
   "metadata": {},
   "source": [
    "#### Exemplo operador and"
   ]
  },
  {
   "cell_type": "code",
   "execution_count": 6,
   "metadata": {
    "ExecuteTime": {
     "end_time": "2020-11-09T16:17:46.808993Z",
     "start_time": "2020-11-09T16:17:46.805757Z"
    }
   },
   "outputs": [],
   "source": [
    "a = 20\n",
    "b = 50\n",
    "c = 30\n",
    "d = False\n",
    "e = True"
   ]
  },
  {
   "cell_type": "code",
   "execution_count": 7,
   "metadata": {
    "ExecuteTime": {
     "end_time": "2020-11-09T16:17:50.284638Z",
     "start_time": "2020-11-09T16:17:50.252527Z"
    }
   },
   "outputs": [
    {
     "data": {
      "text/plain": [
       "True"
      ]
     },
     "execution_count": 7,
     "metadata": {},
     "output_type": "execute_result"
    }
   ],
   "source": [
    "b > a and b > c"
   ]
  },
  {
   "cell_type": "code",
   "execution_count": 8,
   "metadata": {
    "ExecuteTime": {
     "end_time": "2020-11-09T16:17:51.610872Z",
     "start_time": "2020-11-09T16:17:51.596646Z"
    }
   },
   "outputs": [
    {
     "data": {
      "text/plain": [
       "False"
      ]
     },
     "execution_count": 8,
     "metadata": {},
     "output_type": "execute_result"
    }
   ],
   "source": [
    "b > a and b < c"
   ]
  },
  {
   "cell_type": "code",
   "execution_count": 9,
   "metadata": {
    "ExecuteTime": {
     "end_time": "2020-11-09T16:17:54.173622Z",
     "start_time": "2020-11-09T16:17:54.156907Z"
    }
   },
   "outputs": [
    {
     "data": {
      "text/plain": [
       "False"
      ]
     },
     "execution_count": 9,
     "metadata": {},
     "output_type": "execute_result"
    }
   ],
   "source": [
    "b < a and b < c"
   ]
  },
  {
   "cell_type": "code",
   "execution_count": 10,
   "metadata": {
    "ExecuteTime": {
     "end_time": "2020-11-09T16:17:56.242236Z",
     "start_time": "2020-11-09T16:17:56.232294Z"
    }
   },
   "outputs": [
    {
     "data": {
      "text/plain": [
       "False"
      ]
     },
     "execution_count": 10,
     "metadata": {},
     "output_type": "execute_result"
    }
   ],
   "source": [
    "b < a and b > c"
   ]
  },
  {
   "cell_type": "code",
   "execution_count": 11,
   "metadata": {
    "ExecuteTime": {
     "end_time": "2020-11-09T16:17:58.076399Z",
     "start_time": "2020-11-09T16:17:58.064299Z"
    }
   },
   "outputs": [
    {
     "data": {
      "text/plain": [
       "True"
      ]
     },
     "execution_count": 11,
     "metadata": {},
     "output_type": "execute_result"
    }
   ],
   "source": [
    "# podemos aplicar mais de um operador lógico\n",
    "b > a and b > c  and a < c"
   ]
  },
  {
   "cell_type": "markdown",
   "metadata": {
    "ExecuteTime": {
     "end_time": "2020-11-09T12:56:11.908131Z",
     "start_time": "2020-11-09T12:56:11.898492Z"
    }
   },
   "source": [
    "#### Exemplo operador or"
   ]
  },
  {
   "cell_type": "code",
   "execution_count": 12,
   "metadata": {
    "ExecuteTime": {
     "end_time": "2020-11-09T16:18:01.054392Z",
     "start_time": "2020-11-09T16:18:01.045492Z"
    }
   },
   "outputs": [
    {
     "data": {
      "text/plain": [
       "True"
      ]
     },
     "execution_count": 12,
     "metadata": {},
     "output_type": "execute_result"
    }
   ],
   "source": [
    "b > a or b > c"
   ]
  },
  {
   "cell_type": "code",
   "execution_count": 13,
   "metadata": {
    "ExecuteTime": {
     "end_time": "2020-11-09T16:18:07.078720Z",
     "start_time": "2020-11-09T16:18:07.071084Z"
    }
   },
   "outputs": [
    {
     "data": {
      "text/plain": [
       "True"
      ]
     },
     "execution_count": 13,
     "metadata": {},
     "output_type": "execute_result"
    }
   ],
   "source": [
    "b > a or b < c"
   ]
  },
  {
   "cell_type": "code",
   "execution_count": 14,
   "metadata": {
    "ExecuteTime": {
     "end_time": "2020-11-09T16:18:09.706533Z",
     "start_time": "2020-11-09T16:18:09.686363Z"
    }
   },
   "outputs": [
    {
     "data": {
      "text/plain": [
       "False"
      ]
     },
     "execution_count": 14,
     "metadata": {},
     "output_type": "execute_result"
    }
   ],
   "source": [
    "b < a or b < c"
   ]
  },
  {
   "cell_type": "code",
   "execution_count": 15,
   "metadata": {
    "ExecuteTime": {
     "end_time": "2020-11-09T16:18:12.205886Z",
     "start_time": "2020-11-09T16:18:12.174075Z"
    }
   },
   "outputs": [
    {
     "data": {
      "text/plain": [
       "True"
      ]
     },
     "execution_count": 15,
     "metadata": {},
     "output_type": "execute_result"
    }
   ],
   "source": [
    "b < a or b > c"
   ]
  },
  {
   "cell_type": "code",
   "execution_count": 16,
   "metadata": {
    "ExecuteTime": {
     "end_time": "2020-11-09T16:18:15.286384Z",
     "start_time": "2020-11-09T16:18:15.267698Z"
    }
   },
   "outputs": [
    {
     "data": {
      "text/plain": [
       "True"
      ]
     },
     "execution_count": 16,
     "metadata": {},
     "output_type": "execute_result"
    }
   ],
   "source": [
    "# podemos aplicar mais de um operador lógico\n",
    "b > a or b > c  or a < c"
   ]
  },
  {
   "cell_type": "code",
   "execution_count": 17,
   "metadata": {
    "ExecuteTime": {
     "end_time": "2020-11-09T16:18:17.039838Z",
     "start_time": "2020-11-09T16:18:17.031578Z"
    }
   },
   "outputs": [
    {
     "data": {
      "text/plain": [
       "True"
      ]
     },
     "execution_count": 17,
     "metadata": {},
     "output_type": "execute_result"
    }
   ],
   "source": [
    "# podemos utilizar diferentes operadores lógicos na mesma sintaxe\n",
    "(b > a or b > c  or a < c) and (b > a and b > c  and a < c)"
   ]
  },
  {
   "cell_type": "markdown",
   "metadata": {},
   "source": [
    "#### Exemplo operador not"
   ]
  },
  {
   "cell_type": "code",
   "execution_count": 18,
   "metadata": {
    "ExecuteTime": {
     "end_time": "2020-11-09T16:18:21.585776Z",
     "start_time": "2020-11-09T16:18:21.581281Z"
    }
   },
   "outputs": [
    {
     "name": "stdout",
     "output_type": "stream",
     "text": [
      "False\n",
      "True\n"
     ]
    }
   ],
   "source": [
    "print(d)\n",
    "print(not d)"
   ]
  },
  {
   "cell_type": "code",
   "execution_count": 19,
   "metadata": {
    "ExecuteTime": {
     "end_time": "2020-11-09T16:18:23.393594Z",
     "start_time": "2020-11-09T16:18:23.386552Z"
    }
   },
   "outputs": [
    {
     "name": "stdout",
     "output_type": "stream",
     "text": [
      "True\n",
      "False\n"
     ]
    }
   ],
   "source": [
    "print(e)\n",
    "print(not e)"
   ]
  }
 ],
 "metadata": {
  "@webio": {
   "lastCommId": null,
   "lastKernelId": null
  },
  "hide_input": false,
  "kernelspec": {
   "display_name": "Python 3",
   "language": "python",
   "name": "python3"
  },
  "language_info": {
   "codemirror_mode": {
    "name": "ipython",
    "version": 3
   },
   "file_extension": ".py",
   "mimetype": "text/x-python",
   "name": "python",
   "nbconvert_exporter": "python",
   "pygments_lexer": "ipython3",
   "version": "3.7.7"
  },
  "latex_envs": {
   "LaTeX_envs_menu_present": true,
   "autoclose": true,
   "autocomplete": true,
   "bibliofile": "biblio.bib",
   "cite_by": "apalike",
   "current_citInitial": 1,
   "eqLabelWithNumbers": true,
   "eqNumInitial": 1,
   "hotkeys": {
    "equation": "Ctrl-E",
    "itemize": "Ctrl-I"
   },
   "labels_anchors": false,
   "latex_user_defs": false,
   "report_style_numbering": false,
   "user_envs_cfg": false
  }
 },
 "nbformat": 4,
 "nbformat_minor": 4
}
