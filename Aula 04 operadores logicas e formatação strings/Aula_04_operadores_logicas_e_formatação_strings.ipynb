{
 "cells": [
  {
   "cell_type": "markdown",
   "metadata": {},
   "source": [
    "# Aula 04. operadores lógicos e formatação de strings\n",
    "\n",
    "<img  src='img/logica.jpg' width='500' height='300' />\n",
    "\n",
    "---\n",
    "<font size=\"5\"> Os tópicos que vamos abordar nesta série de conversas são:</font>\n",
    "- [ ] Formatação de string;\n",
    "    - [ ] Metodo 1. Utilizando operador `%`;\n",
    "    - [ ] Metodo 2. Utilizando `.format()`;\n",
    "    - [ ] Metodo 3. Utilizanod `f\"\"`\n",
    "- [ ] Operadores logicos (`and`, `or`, `not`)\n",
    "Já vimos os diferentes tipos de dados e os contêineres que a linguagem Python possui. Porém ainda não tratamos a formatação de `string` e os operadores lógicos. Esses dois temas são de suma importância no desenvolvimento de códigos independentemente da finalidade do códigos (desenvolvimento web, DataSicence, BigData, etc)."
   ]
  },
  {
   "cell_type": "markdown",
   "metadata": {},
   "source": [
    "##  Formatação de string\n",
    "Python possui três formas de formatar cadeias de `string`. Todos os métodos são adequados para formatar `string` a única diferença radica na quantidade de código.\n",
    "\n",
    "**Método 1 strings literais formatadas**. Esse método permite a formatação direta um uma `string`. Para formatar precisa iniciar com `f` ou `F` antes de abrir as aspas ou aspas triplas. Dentro da string, pode-se escrever uma expressão Python entre caracteres { e }, que podem se referir a variáveis, ou valores literais. Exemplo de sintaxe\n",
    "```python\n",
    "var = “Fernan”\n",
    "edad = 25\n",
    "f“o usuário {var} tem {edad} anos”\n",
    "F“o usuário {var} tem {edad} anos”\n",
    "```\n",
    "\n",
    "**Método 2 `str.format()`**. Esse método permite formatar `string` aplicando o `.format()`, nesse casso ainda é utilizado `{ }` para especificar o ponto onde será inserida a variável e na chamada do método `.format()` se específica a variável que será inserida na `string`. É muito importante destacar todas as variáveis devem ser passadas na ordem certa de formatação. Exemplo de sintaxe.\n",
    "```python\n",
    "var = “Fernan”\n",
    "edade = 25\n",
    "“o usuário {} tem {} anos”.fortmat(var, edade)\n",
    "```\n",
    "\n",
    "**Método 3 interpolação de string**. Esse é o método mais antigo para formatação de `string`. Nesse caso é usado o operador modulo `%` e se acrescenta a formatação que será realizada. Os mais utilizados são `s` para converter qualquer objeto de Python numa `string`, e `f` ou `F` para formatar como ponto flutuante. Exemplo de sintaxe.\n",
    "```python\n",
    "var = “Fernan”\n",
    "edade = 25\n",
    "“o usuário %s tem %f anos”%(var, edade)\n",
    "```\n",
    "\n",
    "A formatação de `string` é muito utilizada para escrita de arquivos, por esse motivo recomento a leitura do [link1](https://docs.python.org/pt-br/3/tutorial/inputoutput.html) e [link2](https://docs.python.org/pt-br/3/library/stdtypes.html#old-string-formatting)."
   ]
  },
  {
   "cell_type": "markdown",
   "metadata": {},
   "source": [
    "### Método 1"
   ]
  },
  {
   "cell_type": "code",
   "execution_count": 3,
   "metadata": {
    "ExecuteTime": {
     "end_time": "2020-11-09T12:24:16.955427Z",
     "start_time": "2020-11-09T12:24:16.942408Z"
    }
   },
   "outputs": [],
   "source": [
    "nome = 'Fernan'\n",
    "sobrenome = 'Martinez'\n",
    "idade = 28\n",
    "altura = 1.80\n",
    "profissao = 'Pesquisador'"
   ]
  },
  {
   "cell_type": "code",
   "execution_count": 4,
   "metadata": {
    "ExecuteTime": {
     "end_time": "2020-11-09T12:24:18.841236Z",
     "start_time": "2020-11-09T12:24:18.827356Z"
    }
   },
   "outputs": [
    {
     "name": "stdout",
     "output_type": "stream",
     "text": [
      "Nome: Fernan. \n",
      "Sobrenome: Martinez. \n",
      "Idade: 28 \n",
      "Altura: 1.8.\n",
      "Profissão: Pesquisador\n"
     ]
    }
   ],
   "source": [
    "print(f\"Nome: {nome}. \\nSobrenome: {sobrenome}. \\nIdade: {idade} \\nAltura: {altura}.\\nProfissão: {profissao}\")"
   ]
  },
  {
   "cell_type": "markdown",
   "metadata": {},
   "source": [
    "### Método 2"
   ]
  },
  {
   "cell_type": "code",
   "execution_count": 6,
   "metadata": {
    "ExecuteTime": {
     "end_time": "2020-11-09T12:25:36.892737Z",
     "start_time": "2020-11-09T12:25:36.885525Z"
    }
   },
   "outputs": [
    {
     "name": "stdout",
     "output_type": "stream",
     "text": [
      "Nome: Fernan. \n",
      "Sobrenome: Martinez. \n",
      "Idade: 28 \n",
      "Altura: 1.8.\n",
      "Profissão: Pesquisador\n"
     ]
    }
   ],
   "source": [
    "print(\"Nome: {}. \\nSobrenome: {}. \\nIdade: {} \\nAltura: {}.\\nProfissão: {}\".format(nome,\n",
    "                                                                                   sobrenome,\n",
    "                                                                                   idade,\n",
    "                                                                                   altura,\n",
    "                                                                                   profissao))"
   ]
  },
  {
   "cell_type": "markdown",
   "metadata": {},
   "source": [
    "### Método 3"
   ]
  },
  {
   "cell_type": "code",
   "execution_count": 7,
   "metadata": {
    "ExecuteTime": {
     "end_time": "2020-11-09T12:25:54.348183Z",
     "start_time": "2020-11-09T12:25:54.332164Z"
    }
   },
   "outputs": [
    {
     "name": "stdout",
     "output_type": "stream",
     "text": [
      "Nome: Fernan. \n",
      "Sobrenome: Martinez. \n",
      "Idade: 28 \n",
      "Altura: 1.800000.\n",
      "Profissão: Pesquisador\n"
     ]
    }
   ],
   "source": [
    "print(\"Nome: %s. \\nSobrenome: %s. \\nIdade: %i \\nAltura: %f.\\nProfissão: %s\" %(nome,\n",
    "                                                                              sobrenome,\n",
    "                                                                              idade,\n",
    "                                                                              altura,\n",
    "                                                                              profissao))"
   ]
  },
  {
   "cell_type": "code",
   "execution_count": 9,
   "metadata": {
    "ExecuteTime": {
     "end_time": "2020-11-09T12:26:39.993019Z",
     "start_time": "2020-11-09T12:26:39.967816Z"
    }
   },
   "outputs": [
    {
     "name": "stdout",
     "output_type": "stream",
     "text": [
      "O usuario Fernan tem a idade 28 e a comida é Bata\n",
      "O usuario Isabele tem a idade 28 e a comida é Batat\n",
      "O usuario Rafael tem a idade 25 e a comida é Pizza\n",
      "O usuario Edvaldo tem a idade 40 e a comida é Maça\n",
      "O usuario Marcos tem a idade 35 e a comida é Maça\n",
      "O usuario Narie tem a idade 25 e a comida é Laranja\n",
      "O usuario Gabriel tem a idade 22 e a comida é Laranja\n"
     ]
    }
   ],
   "source": [
    "# Exemplo aplicando formatação direta\n",
    "a = [1, 2, 3]\n",
    "nome = 'Fernan Isabele Rafael Edvaldo Marcos Narie Gabriel Karina'.split(' ')\n",
    "comida = 'Bata Batat Pizza Maça Maça Laranja Laranja'.split(' ')\n",
    "idade = [28, 28, 25, 40, 35, 25, 22, 25]\n",
    "tupla = tuple(a)\n",
    "for nome_u, idade_u, comida_u in zip(nome, idade, comida):\n",
    "    print(f'O usuario {nome_u} tem a idade {idade_u} e a comida é {comida_u}')"
   ]
  },
  {
   "cell_type": "markdown",
   "metadata": {},
   "source": [
    "## Operadores lógicos (and, or, not)\n",
    "\n",
    "Python possui três operadores lógicos, esses são `and`, `or`, e `not`, os quais representam junção, possibilidade e negação respetivamente. No caso do operador `and` o resultados é `True` sempre que os operadores de comparação testado sejam `True`. No caso do `or` o retorno é `True` se pelo menos uma das comparações testadas é `True`. Já o `not` inverte o resultado.\n",
    "\n",
    "Para conseguir compreender melhor vamos analisar as tabelas da verdade para esses três operadores:\n",
    "\n",
    "Tabela verdade AND\n",
    "```\n",
    "| Variavel_1 | Operador | Variavel_2 | Resultado|\n",
    "|    True    |   AND    |    True    |   True   |\n",
    "|    True    |   AND    |    False   |  False   |\n",
    "|    False   |   AND    |    False   |  False   |\n",
    "|    False   |   AND    |    True    |  False   |\n",
    "``` \n",
    "\n",
    "Tabela verdade OR\n",
    "```\n",
    "| Variavel_1 | Operador | Variavel_2 | Resultado|\n",
    "|    True    |   OR     |    True    |  True    |\n",
    "|    True    |   OR     |    False   |  True    |\n",
    "|    False   |   OR     |    False   |  False   |\n",
    "|    False   |   OR     |    True    |  True    |\n",
    "``` \n",
    "\n",
    "Tabela verdade NOT\n",
    "```\n",
    "| Operador | Variavel_2 | Resultado|\n",
    "|   NOT    |    True    |  False   |\n",
    "|   NOT    |    False   |  True    |\n",
    "``` \n",
    "\n",
    "A compreensão de todos os operadores de lógica (e dos outros tipos de operadores) é de suma importância para não cair em erros de lógica. Por esse motivo recomendo a leitura de :\n",
    "\n",
    "- [link 1](https://www.digitalocean.com/community/tutorials/understanding-boolean-logic-in-python-3)\n",
    "- [link 2](https://www.w3schools.com/python/python_operators.asp)\n",
    "- [link 3](https://www.programiz.com/python-programming/operators)"
   ]
  },
  {
   "cell_type": "markdown",
   "metadata": {},
   "source": [
    "#### Exemplo operador and"
   ]
  },
  {
   "cell_type": "code",
   "execution_count": 10,
   "metadata": {
    "ExecuteTime": {
     "end_time": "2020-11-09T12:52:10.347528Z",
     "start_time": "2020-11-09T12:52:10.326437Z"
    }
   },
   "outputs": [],
   "source": [
    "a = 20\n",
    "b = 50\n",
    "c = 30\n",
    "d = False\n",
    "e = True"
   ]
  },
  {
   "cell_type": "code",
   "execution_count": 11,
   "metadata": {
    "ExecuteTime": {
     "end_time": "2020-11-09T12:52:44.891974Z",
     "start_time": "2020-11-09T12:52:44.867605Z"
    }
   },
   "outputs": [
    {
     "data": {
      "text/plain": [
       "True"
      ]
     },
     "execution_count": 11,
     "metadata": {},
     "output_type": "execute_result"
    }
   ],
   "source": [
    "b > a and b > c"
   ]
  },
  {
   "cell_type": "code",
   "execution_count": 12,
   "metadata": {
    "ExecuteTime": {
     "end_time": "2020-11-09T12:53:02.228588Z",
     "start_time": "2020-11-09T12:53:02.203085Z"
    }
   },
   "outputs": [
    {
     "data": {
      "text/plain": [
       "False"
      ]
     },
     "execution_count": 12,
     "metadata": {},
     "output_type": "execute_result"
    }
   ],
   "source": [
    "b > a and b < c"
   ]
  },
  {
   "cell_type": "code",
   "execution_count": 13,
   "metadata": {
    "ExecuteTime": {
     "end_time": "2020-11-09T12:53:14.383833Z",
     "start_time": "2020-11-09T12:53:14.361269Z"
    }
   },
   "outputs": [
    {
     "data": {
      "text/plain": [
       "False"
      ]
     },
     "execution_count": 13,
     "metadata": {},
     "output_type": "execute_result"
    }
   ],
   "source": [
    "b < a and b < c"
   ]
  },
  {
   "cell_type": "code",
   "execution_count": 15,
   "metadata": {
    "ExecuteTime": {
     "end_time": "2020-11-09T12:55:06.577124Z",
     "start_time": "2020-11-09T12:55:06.561598Z"
    }
   },
   "outputs": [
    {
     "data": {
      "text/plain": [
       "False"
      ]
     },
     "execution_count": 15,
     "metadata": {},
     "output_type": "execute_result"
    }
   ],
   "source": [
    "b < a and b > c"
   ]
  },
  {
   "cell_type": "code",
   "execution_count": 16,
   "metadata": {
    "ExecuteTime": {
     "end_time": "2020-11-09T12:55:43.643344Z",
     "start_time": "2020-11-09T12:55:43.634732Z"
    }
   },
   "outputs": [
    {
     "data": {
      "text/plain": [
       "True"
      ]
     },
     "execution_count": 16,
     "metadata": {},
     "output_type": "execute_result"
    }
   ],
   "source": [
    "# podemos aplicar mais de um operador lógico\n",
    "b > a and b > c  and a < c"
   ]
  },
  {
   "cell_type": "markdown",
   "metadata": {
    "ExecuteTime": {
     "end_time": "2020-11-09T12:56:11.908131Z",
     "start_time": "2020-11-09T12:56:11.898492Z"
    }
   },
   "source": [
    "#### Exemplo operador or"
   ]
  },
  {
   "cell_type": "code",
   "execution_count": 18,
   "metadata": {
    "ExecuteTime": {
     "end_time": "2020-11-09T12:57:59.727894Z",
     "start_time": "2020-11-09T12:57:59.724116Z"
    }
   },
   "outputs": [
    {
     "data": {
      "text/plain": [
       "True"
      ]
     },
     "execution_count": 18,
     "metadata": {},
     "output_type": "execute_result"
    }
   ],
   "source": [
    "b > a or b > c"
   ]
  },
  {
   "cell_type": "code",
   "execution_count": 19,
   "metadata": {
    "ExecuteTime": {
     "end_time": "2020-11-09T12:58:11.006980Z",
     "start_time": "2020-11-09T12:58:11.001558Z"
    }
   },
   "outputs": [
    {
     "data": {
      "text/plain": [
       "True"
      ]
     },
     "execution_count": 19,
     "metadata": {},
     "output_type": "execute_result"
    }
   ],
   "source": [
    "b > a or b < c"
   ]
  },
  {
   "cell_type": "code",
   "execution_count": 20,
   "metadata": {
    "ExecuteTime": {
     "end_time": "2020-11-09T12:58:31.602783Z",
     "start_time": "2020-11-09T12:58:31.588420Z"
    }
   },
   "outputs": [
    {
     "data": {
      "text/plain": [
       "False"
      ]
     },
     "execution_count": 20,
     "metadata": {},
     "output_type": "execute_result"
    }
   ],
   "source": [
    "b < a or b < c"
   ]
  },
  {
   "cell_type": "code",
   "execution_count": 21,
   "metadata": {
    "ExecuteTime": {
     "end_time": "2020-11-09T12:58:55.637971Z",
     "start_time": "2020-11-09T12:58:55.619131Z"
    }
   },
   "outputs": [
    {
     "data": {
      "text/plain": [
       "True"
      ]
     },
     "execution_count": 21,
     "metadata": {},
     "output_type": "execute_result"
    }
   ],
   "source": [
    "b < a or b > c"
   ]
  },
  {
   "cell_type": "code",
   "execution_count": 22,
   "metadata": {
    "ExecuteTime": {
     "end_time": "2020-11-09T12:59:09.735119Z",
     "start_time": "2020-11-09T12:59:09.723010Z"
    }
   },
   "outputs": [
    {
     "data": {
      "text/plain": [
       "True"
      ]
     },
     "execution_count": 22,
     "metadata": {},
     "output_type": "execute_result"
    }
   ],
   "source": [
    "# podemos aplicar mais de um operador lógico\n",
    "b > a or b > c  or a < c"
   ]
  },
  {
   "cell_type": "code",
   "execution_count": 23,
   "metadata": {
    "ExecuteTime": {
     "end_time": "2020-11-09T13:00:12.694223Z",
     "start_time": "2020-11-09T13:00:12.649278Z"
    }
   },
   "outputs": [
    {
     "data": {
      "text/plain": [
       "True"
      ]
     },
     "execution_count": 23,
     "metadata": {},
     "output_type": "execute_result"
    }
   ],
   "source": [
    "# podemos utilizar diferentes operadores lógicos na mesma sintaxe\n",
    "(b > a or b > c  or a < c) and (b > a and b > c  and a < c)"
   ]
  },
  {
   "cell_type": "markdown",
   "metadata": {},
   "source": [
    "#### Exemplo operador not"
   ]
  },
  {
   "cell_type": "code",
   "execution_count": 28,
   "metadata": {
    "ExecuteTime": {
     "end_time": "2020-11-09T13:01:58.823911Z",
     "start_time": "2020-11-09T13:01:58.815814Z"
    }
   },
   "outputs": [
    {
     "name": "stdout",
     "output_type": "stream",
     "text": [
      "False\n",
      "True\n"
     ]
    }
   ],
   "source": [
    "print(d)\n",
    "print(not d)"
   ]
  },
  {
   "cell_type": "code",
   "execution_count": 29,
   "metadata": {
    "ExecuteTime": {
     "end_time": "2020-11-09T13:02:11.753436Z",
     "start_time": "2020-11-09T13:02:11.741291Z"
    }
   },
   "outputs": [
    {
     "name": "stdout",
     "output_type": "stream",
     "text": [
      "True\n",
      "False\n"
     ]
    }
   ],
   "source": [
    "print(e)\n",
    "print(not e)"
   ]
  }
 ],
 "metadata": {
  "hide_input": false,
  "kernelspec": {
   "display_name": "Python 3",
   "language": "python",
   "name": "python3"
  },
  "language_info": {
   "codemirror_mode": {
    "name": "ipython",
    "version": 3
   },
   "file_extension": ".py",
   "mimetype": "text/x-python",
   "name": "python",
   "nbconvert_exporter": "python",
   "pygments_lexer": "ipython3",
   "version": "3.7.7"
  },
  "latex_envs": {
   "LaTeX_envs_menu_present": true,
   "autoclose": true,
   "autocomplete": true,
   "bibliofile": "biblio.bib",
   "cite_by": "apalike",
   "current_citInitial": 1,
   "eqLabelWithNumbers": true,
   "eqNumInitial": 1,
   "hotkeys": {
    "equation": "Ctrl-E",
    "itemize": "Ctrl-I"
   },
   "labels_anchors": false,
   "latex_user_defs": false,
   "report_style_numbering": false,
   "user_envs_cfg": false
  }
 },
 "nbformat": 4,
 "nbformat_minor": 4
}
