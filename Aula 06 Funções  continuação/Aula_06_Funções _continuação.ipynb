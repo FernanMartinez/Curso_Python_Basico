{
 "cells": [
  {
   "cell_type": "markdown",
   "metadata": {
    "ExecuteTime": {
     "end_time": "2020-11-06T20:33:34.852965Z",
     "start_time": "2020-11-06T20:33:34.824774Z"
    }
   },
   "source": [
    "# Aula 6 Funções cotinuação\n",
    "\n",
    "<img  src='img/f.png' width='250' height='150' />\n",
    "\n",
    "Durante a criação de um código pode ser necessário repetir a execução de um bloco de código em partes diferentes. A repetição do mesmo bloco em partes diferentes é considerada uma pratica inadequada de programação dado que deixa o código poluído e difícil de realizar manutenção. Para resolver este tipo de problemas, é possível criar uma função que realize uma o varias atividades.\n",
    "\n",
    "---\n",
    "<font size=\"5\"> Os tópicos que vamos abordar nesta série de conversas são:</font>\n",
    "- [ ] Parâmetros de entrada;\n",
    "- [ ] Parâmetros nomeados;\n",
    "- [ ] Default parameters;\n",
    "- [ ] *args\n",
    "- [ ] *kwargs\n",
    "\n"
   ]
  },
  {
   "cell_type": "markdown",
   "metadata": {},
   "source": [
    "## Parâmetros de entrada"
   ]
  },
  {
   "cell_type": "markdown",
   "metadata": {},
   "source": [
    "As funções que trabalhamos foram funções rígidas onde a função sempre vai atingir o mesmo resultado. Porém, esse tipo de função não são interessantes dado que muitas vezes é necessários avaliar diferentes entradas. Considerando isso a criação de funções com diferentes parâmetros permite obter funções mais flexíveis. A representação mais adequada para entender esse conceito é a seguinte:\n",
    "\n",
    "\n",
    "                                            ---------------------------------\n",
    "                                            |                               |\n",
    "                                Entrada_1 ->|        Bloco de código        | -> Saída\n",
    "                                            |                               |\n",
    "                                            ---------------------------------\n",
    "Onde\n",
    "\n",
    "- **Entrada 1**: Representa o parâmetro que será avaliano no Bloco do código;\n",
    "- **Bloco do código**: Rotina que será executada;\n",
    "- **Saída**: Representa o `return` da função\n",
    "\n",
    "Destaques:\n",
    "- Python permite:\n",
    " - Funções sem parâmetros nem saída;\n",
    " - Funções sem parâmetros mas com saída\n",
    " - Funções com parâmetros mas sem saída\n",
    " - Funções com parâmetros e com saída;\n",
    "- Uma função pode ter `n` quantidades de parâmetros;\n",
    "- Todos os parâmetros de entrada são separados por virgulas;\n",
    "- É muito importante utilizar parâmetros nas nossas funções pois isso ajuda a manter a pureza;\n",
    "- Sempre é necessário passar a quantidade de parâmetros certa, caso contrario será obtido um erro.\n",
    "\n",
    "   "
   ]
  },
  {
   "cell_type": "code",
   "execution_count": 8,
   "metadata": {
    "ExecuteTime": {
     "end_time": "2020-11-06T21:05:54.817531Z",
     "start_time": "2020-11-06T21:05:54.802231Z"
    }
   },
   "outputs": [
    {
     "name": "stdout",
     "output_type": "stream",
     "text": [
      "Olá Fernan\n",
      "Olá Dani\n"
     ]
    }
   ],
   "source": [
    "# Exemplo de função com parâmetros de entrada\n",
    "def ola(nome):\n",
    "    print(f\"Olá {nome}\")\n",
    "ola(\"Fernan\")\n",
    "ola(\"Dani\")\n",
    "# a função funciona adequadamente com nomes diferentes"
   ]
  },
  {
   "cell_type": "code",
   "execution_count": 10,
   "metadata": {
    "ExecuteTime": {
     "end_time": "2020-11-06T21:06:53.427348Z",
     "start_time": "2020-11-06T21:06:53.376801Z"
    }
   },
   "outputs": [
    {
     "data": {
      "text/plain": [
       "11"
      ]
     },
     "execution_count": 10,
     "metadata": {},
     "output_type": "execute_result"
    }
   ],
   "source": [
    "# Exemplofunção com mais de um parâmetro de entrada\n",
    "def somatorio(a, b, c, d):\n",
    "    soma = a + b + c + d\n",
    "    return soma\n",
    "somatorio(2, 2, 3, 4)"
   ]
  },
  {
   "cell_type": "code",
   "execution_count": 11,
   "metadata": {
    "ExecuteTime": {
     "end_time": "2020-11-06T21:09:44.411488Z",
     "start_time": "2020-11-06T21:09:44.252599Z"
    }
   },
   "outputs": [
    {
     "ename": "TypeError",
     "evalue": "somatorio() missing 1 required positional argument: 'd'",
     "output_type": "error",
     "traceback": [
      "\u001b[0;31m---------------------------------------------------------------------------\u001b[0m",
      "\u001b[0;31mTypeError\u001b[0m                                 Traceback (most recent call last)",
      "\u001b[0;32m<ipython-input-11-b20721d2e2f8>\u001b[0m in \u001b[0;36m<module>\u001b[0;34m\u001b[0m\n\u001b[1;32m      1\u001b[0m \u001b[0;31m# Se passamos uma quantidade diferente de parâmetros vamos obter um erro\u001b[0m\u001b[0;34m\u001b[0m\u001b[0;34m\u001b[0m\u001b[0;34m\u001b[0m\u001b[0m\n\u001b[0;32m----> 2\u001b[0;31m \u001b[0msomatorio\u001b[0m\u001b[0;34m(\u001b[0m\u001b[0;36m2\u001b[0m\u001b[0;34m,\u001b[0m \u001b[0;36m2\u001b[0m\u001b[0;34m,\u001b[0m \u001b[0;36m3\u001b[0m\u001b[0;34m)\u001b[0m\u001b[0;34m\u001b[0m\u001b[0;34m\u001b[0m\u001b[0m\n\u001b[0m",
      "\u001b[0;31mTypeError\u001b[0m: somatorio() missing 1 required positional argument: 'd'"
     ]
    }
   ],
   "source": [
    "# Se passamos uma quantidade diferente de parâmetros vamos obter um erro\n",
    "somatorio(2, 2, 3)"
   ]
  },
  {
   "cell_type": "code",
   "execution_count": 15,
   "metadata": {
    "ExecuteTime": {
     "end_time": "2020-11-06T21:12:19.406383Z",
     "start_time": "2020-11-06T21:12:19.389349Z"
    }
   },
   "outputs": [
    {
     "name": "stdout",
     "output_type": "stream",
     "text": [
      "O usuario Fernan digitou os valores a=2, b=2 e c=3 a soma dos valores é 7\n"
     ]
    }
   ],
   "source": [
    "# Mais um exemplo\n",
    "def somatorio(a, b, c, nome):\n",
    "    soma = a + b + c\n",
    "    print(f\"O usuario {nome} digitou os valores a={a}, b={b} e c={c} a soma dos valores é {soma}\")\n",
    "\n",
    "somatorio(2, 2, 3, \"Fernan\")"
   ]
  },
  {
   "cell_type": "markdown",
   "metadata": {},
   "source": [
    "## Parâmetros nomeados"
   ]
  },
  {
   "cell_type": "markdown",
   "metadata": {},
   "source": [
    "As funções criadas previamente precisam que todos os argumentos sejam passados na ordem certa para o correto funcionamento. Isto quer dizer que primeiro tem que ser passado o argumento do parâmetro `a`, depois o argumentos do parâmetro, `b` e assim até chegar ao ultimo parâmetro (`nome`, no caso da função `somatorio`). Caso os parâmetros sejam passados numa ordem diferente pode acontecer um comportamento inesperado com a função ou até obter um erro durante a execução.\n",
    "\n",
    "Para não ter esse problema podemos especificar o valor de cada parâmetro de forma explicita."
   ]
  },
  {
   "cell_type": "code",
   "execution_count": 16,
   "metadata": {
    "ExecuteTime": {
     "end_time": "2020-11-06T22:20:05.237107Z",
     "start_time": "2020-11-06T22:20:05.229299Z"
    }
   },
   "outputs": [
    {
     "name": "stdout",
     "output_type": "stream",
     "text": [
      "O usuario Fernan digitou os valores a=2, b=2 e c=3 a soma dos valores é 7\n"
     ]
    }
   ],
   "source": [
    "#  voltando à função somatorio\n",
    "def somatorio(a, b, c, nome):\n",
    "    soma = a + b + c\n",
    "    print(f\"O usuario {nome} digitou os valores a={a}, b={b} e c={c} a soma dos valores é {soma}\")\n",
    "\n",
    "somatorio(a=2, b=2, c=3, nome=\"Fernan\")"
   ]
  },
  {
   "cell_type": "code",
   "execution_count": 17,
   "metadata": {
    "ExecuteTime": {
     "end_time": "2020-11-06T23:32:33.461452Z",
     "start_time": "2020-11-06T23:32:33.442464Z"
    }
   },
   "outputs": [
    {
     "name": "stdout",
     "output_type": "stream",
     "text": [
      "O usuario Fernan digitou os valores a=2, b=2 e c=3 a soma dos valores é 7\n"
     ]
    }
   ],
   "source": [
    "# Agora podemos passar os parâmetros em uma ordem diferente.\n",
    "somatorio(nome=\"Fernan\", b=2, a=2, c=3)"
   ]
  },
  {
   "cell_type": "markdown",
   "metadata": {},
   "source": [
    "## Default parameters\n",
    "As funções criadas precisam da passagem de todos os parâmetros para o correto funcionamento, porem podem existir ocasiones onde um dos parâmetros não precisa ser passado pelo usuário de forma obrigatória. Neste caso, um ou vários parâmetros podem ser definidos durante a criação da função. Este tipo de parâmetros são conhecidos como Default parameters e são definidos ao final da definição dos parâmetros. Um exemplo de funções com parâmetros opcionais é a função `print()`. Essa função tem por padrão o `end=' '`, caso o usuário queira, pode modificar o argumento associado a esse parâmetro.\n"
   ]
  },
  {
   "cell_type": "code",
   "execution_count": 18,
   "metadata": {
    "ExecuteTime": {
     "end_time": "2020-11-07T18:43:01.444879Z",
     "start_time": "2020-11-07T18:43:01.423364Z"
    }
   },
   "outputs": [
    {
     "name": "stdout",
     "output_type": "stream",
     "text": [
      "O usuario Fernan digitou os valores a=2, b=2 e c=3 a soma dos valores é 7\n"
     ]
    }
   ],
   "source": [
    "#  voltando à função somatorio e definindo o nome=\"Usuario Desconhecido\"\n",
    "def somatorio(a, b, c, nome=\"Usuario Desconhecido\"):\n",
    "    soma = a + b + c\n",
    "    print(f\"O usuario {nome} digitou os valores a={a}, b={b} e c={c} a soma dos valores é {soma}\")\n",
    "# Executando a função novamente\n",
    "somatorio(a=2, b=2, c=3, nome=\"Fernan\")"
   ]
  },
  {
   "cell_type": "code",
   "execution_count": 19,
   "metadata": {
    "ExecuteTime": {
     "end_time": "2020-11-07T18:44:42.920735Z",
     "start_time": "2020-11-07T18:44:42.916036Z"
    }
   },
   "outputs": [
    {
     "name": "stdout",
     "output_type": "stream",
     "text": [
      "O usuario Usuario Desconhecido digitou os valores a=2, b=2 e c=3 a soma dos valores é 7\n"
     ]
    }
   ],
   "source": [
    "# O resultados anterior é o mesmo que observamos previamente;\n",
    "# mas agora podemos eliminar o argumento nome e a função continuara funcionando corretamente\n",
    "somatorio(a=2, b=2, c=3)"
   ]
  },
  {
   "cell_type": "markdown",
   "metadata": {},
   "source": [
    "## *args\n",
    "Nas funções utilizadas previamente o usuário tem que passar 3 parâmetros (`a`, `b` e `c`) para o correto funcionamento. Contudo, podemos ter casos onde o usuário queira passar uma diferentes de argumentos. Nestes cenários devemos garantir o correto funcionamento da função.\n",
    "\n",
    "Python possui a opção de empacotar `n` quantidade de parâmetros e utilizar-lhos no interior da função. Cabe destacar que o operador de empacotamento é o `*` e não `arg`, o nome `arg` foi designado pela comunidade e pode ser mudado sem modificar o processo de empacotamento.\n",
    "\n",
    "\n",
    "\n",
    "                                            ---------------------------------------------\n",
    "                                            |            |                              |\n",
    "                    1, 2, 3, 4, 5, ..., n ->|  f(*args)  | args=(1, 2, 3, 4, 5, ..., n) |\n",
    "                                            |            |                              |\n",
    "                                            ---------------------------------------------\n"
   ]
  },
  {
   "cell_type": "code",
   "execution_count": 23,
   "metadata": {
    "ExecuteTime": {
     "end_time": "2020-11-07T19:03:38.699896Z",
     "start_time": "2020-11-07T19:03:38.681536Z"
    }
   },
   "outputs": [
    {
     "name": "stdout",
     "output_type": "stream",
     "text": [
      "O usuario Fernan digitou os valores (2, 2, 3) a soma dos valores é 7\n"
     ]
    }
   ],
   "source": [
    "#  voltando à função somatorio\n",
    "def somatorio(*args, nome):\n",
    "    soma = 0\n",
    "    for valor in args:\n",
    "        soma += valor\n",
    "    print(f\"O usuario {nome} digitou os valores {args} a soma dos valores é {soma}\")\n",
    "\n",
    "somatorio(2, 2, 3, nome=\"Fernan\")\n",
    "# Observemos que neste caso não passamos os argumentos nomeados dado que todos serão empacotados."
   ]
  },
  {
   "cell_type": "code",
   "execution_count": 26,
   "metadata": {
    "ExecuteTime": {
     "end_time": "2020-11-07T19:04:59.817957Z",
     "start_time": "2020-11-07T19:04:59.814027Z"
    }
   },
   "outputs": [
    {
     "name": "stdout",
     "output_type": "stream",
     "text": [
      "O usuario Fernan digitou os valores (2, 2, 3, 5, 4, 5, 1, 2) a soma dos valores é 24\n"
     ]
    }
   ],
   "source": [
    "somatorio(2, 2, 3, 5, 4, 5, 1, 2, nome=\"Fernan\")\n",
    "# Neste caso passamos mais de 3 argumentos e não obtivimos nenhum erro."
   ]
  },
  {
   "cell_type": "code",
   "execution_count": 28,
   "metadata": {
    "ExecuteTime": {
     "end_time": "2020-11-07T19:05:28.568417Z",
     "start_time": "2020-11-07T19:05:28.558263Z"
    }
   },
   "outputs": [
    {
     "name": "stdout",
     "output_type": "stream",
     "text": [
      "O usuario Fernan digitou os valores (2, 2) a soma dos valores é 4\n"
     ]
    }
   ],
   "source": [
    "somatorio(2, 2, nome=\"Fernan\")\n",
    "# Neste caso passamos menos de 3 argumentos e não obtivimos nenhum erro."
   ]
  },
  {
   "cell_type": "code",
   "execution_count": 29,
   "metadata": {
    "ExecuteTime": {
     "end_time": "2020-11-07T19:34:23.754238Z",
     "start_time": "2020-11-07T19:34:23.748124Z"
    }
   },
   "outputs": [
    {
     "name": "stdout",
     "output_type": "stream",
     "text": [
      "O usuario Fernan digitou os valores (2, 2, 3) a soma dos valores é 7\n"
     ]
    }
   ],
   "source": [
    "# Podemos modificar o nome args e o processo de empacotamento continua funcionando\n",
    "def somatorio(*argumentos_empacotados, nome):\n",
    "    soma = 0\n",
    "    for valor in argumentos_empacotados:\n",
    "        soma += valor\n",
    "    print(f\"O usuario {nome} digitou os valores {argumentos_empacotados} a soma dos valores é {soma}\")\n",
    "\n",
    "somatorio(2, 2, 3, nome=\"Fernan\")"
   ]
  },
  {
   "cell_type": "markdown",
   "metadata": {},
   "source": [
    "## **kwargs\n",
    "Até agora temos visto como criar funções com uma quantidade fixa de parâmetros, vimos como fixar um parâmetro durante a definição e como empacotar uma serie de parâmetros com `*args`. Porem, podem ter o caso onde o usuário ingresse um parâmetro que não existe, ocasionando que a função quebre. Nós como desenvolvedores devemos prever esta situação e tratar esse argumentos.\n",
    "\n",
    "Para solucionar isso, podemos criar o parâmetro `**kwargs` e solucionar esse problema. Da mesma forma que o parâmetros `*args` o operador que realiza o empacotamento são os símbolos `**` e o nome `kwargs` foi definido pela comunidade, porém podemos redefinir esse nome e não alterar o processo de empacotamento.\n",
    "\n",
    "Nestes caso o argumentos `**kwargs` empacota o parâmetro e o argumento associado a esse parâmetro num dicionario, onde o parâmetro passa a ser uma chave e o argumento o valor associado à chave. No momento da definição da função o `**kwargs` deve ser o ultimo parâmetro a ser definido.\n"
   ]
  },
  {
   "cell_type": "code",
   "execution_count": 33,
   "metadata": {
    "ExecuteTime": {
     "end_time": "2020-11-07T19:47:34.013061Z",
     "start_time": "2020-11-07T19:47:33.997727Z"
    }
   },
   "outputs": [
    {
     "name": "stdout",
     "output_type": "stream",
     "text": [
      "O usuario Fernan digitou os valores (2, 2, 3) a soma dos valores é 7\n"
     ]
    }
   ],
   "source": [
    "# Voltando à função somatorio\n",
    "def somatorio(*valores, nome=\"Usuario Desconhecido\", **kwargs):\n",
    "    soma = 0\n",
    "    for valor in valores:\n",
    "        soma += valor\n",
    "    print(f\"O usuario {nome} digitou os valores {valores} a soma dos valores é {soma}\")\n",
    "# Executando a função novamente\n",
    "somatorio(2, 2, 3, nome=\"Fernan\")\n",
    "# Como podemos observar a função funcionou corretamente"
   ]
  },
  {
   "cell_type": "code",
   "execution_count": 34,
   "metadata": {
    "ExecuteTime": {
     "end_time": "2020-11-07T19:47:57.290103Z",
     "start_time": "2020-11-07T19:47:57.283038Z"
    }
   },
   "outputs": [
    {
     "name": "stdout",
     "output_type": "stream",
     "text": [
      "O usuario Fernan digitou os valores (2, 2, 3) a soma dos valores é 7\n"
     ]
    }
   ],
   "source": [
    "somatorio(2, 2, 3, nome=\"Fernan\", outro_parametro=\"Não existo\")\n",
    "# Como podemos observar a função funcionou corretamente ainda passando um parâmetro que não foi definido"
   ]
  },
  {
   "cell_type": "code",
   "execution_count": 49,
   "metadata": {
    "ExecuteTime": {
     "end_time": "2020-11-07T19:56:36.509774Z",
     "start_time": "2020-11-07T19:56:36.484992Z"
    }
   },
   "outputs": [
    {
     "name": "stdout",
     "output_type": "stream",
     "text": [
      "O usuario Fernan digitou os valores (2, 2, 3) a soma dos valores é 7\n",
      "Você digitou o parâmetro outro_parametro com o valor Não existo, e eu não estou programado para trabalhar com esse parâmetro\n"
     ]
    }
   ],
   "source": [
    "# Modificando a função para tratar kwargs\n",
    "def somatorio(*valores, nome=\"Usuario Desconhecido\", **kwargs):\n",
    "    soma = 0\n",
    "    for valor in valores:\n",
    "        soma += valor\n",
    "    print(f\"O usuario {nome} digitou os valores {valores} a soma dos valores é {soma}\")\n",
    "    if bool(kwargs):\n",
    "        for par, val in kwargs.items():\n",
    "            print(f\"Você digitou o parâmetro {par} com o valor {val}, e eu não estou programado para trabalhar com esse parâmetro\")\n",
    "somatorio(2, 2, 3, nome=\"Fernan\", outro_parametro=\"Não existo\")    "
   ]
  }
 ],
 "metadata": {
  "hide_input": false,
  "kernelspec": {
   "display_name": "Python 3",
   "language": "python",
   "name": "python3"
  },
  "language_info": {
   "codemirror_mode": {
    "name": "ipython",
    "version": 3
   },
   "file_extension": ".py",
   "mimetype": "text/x-python",
   "name": "python",
   "nbconvert_exporter": "python",
   "pygments_lexer": "ipython3",
   "version": "3.7.7"
  },
  "latex_envs": {
   "LaTeX_envs_menu_present": true,
   "autoclose": true,
   "autocomplete": true,
   "bibliofile": "biblio.bib",
   "cite_by": "apalike",
   "current_citInitial": 1,
   "eqLabelWithNumbers": true,
   "eqNumInitial": 1,
   "hotkeys": {
    "equation": "Ctrl-E",
    "itemize": "Ctrl-I"
   },
   "labels_anchors": false,
   "latex_user_defs": false,
   "report_style_numbering": false,
   "user_envs_cfg": false
  }
 },
 "nbformat": 4,
 "nbformat_minor": 4
}
