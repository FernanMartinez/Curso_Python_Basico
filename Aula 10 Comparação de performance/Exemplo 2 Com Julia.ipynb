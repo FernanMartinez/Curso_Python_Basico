{
 "cells": [
  {
   "cell_type": "markdown",
   "metadata": {},
   "source": [
    "### Utilizando `for` opção 1"
   ]
  },
  {
   "cell_type": "code",
   "execution_count": null,
   "metadata": {},
   "outputs": [],
   "source": [
    "using Distributions\n",
    "using Dates\n",
    "using CSV\n",
    "using DataFrames"
   ]
  },
  {
   "cell_type": "code",
   "execution_count": null,
   "metadata": {},
   "outputs": [],
   "source": [
    "#Opção 1\n",
    "NUMERO_ELEMENTOS = 1_000_000\n",
    "SAMPLES = 250\n",
    "REPEAT = 5\n",
    "distribution = Truncated(Normal(5, 4.5), 0, 10)\n",
    "valores = rand(distribution, NUMERO_ELEMENTOS)\n",
    "function for_opcao1(valores)\n",
    "    vetor_fun_for1 = []\n",
    "    soma = 0\n",
    "    for valor in valores\n",
    "        append!(vetor_fun_for1, valor^3+ 5/3.141516*(valor^(0.5)) - valor/(valor^2 + 1))\n",
    "        soma += vetor_fun_for1[end]\n",
    "    end\n",
    "    return vetor_fun_for1, soma\n",
    "end\n",
    "\n",
    "tempos = []\n",
    "for i in 1:SAMPLES\n",
    "    tempo_5 = 0\n",
    "    for i in 1:REPEAT\n",
    "        t0 = Dates.now()\n",
    "        for_opcao1(valores)\n",
    "        t1 = Dates.now()\n",
    "        tempo_5 += Dates.value(t1 - t0)/1000\n",
    "    end\n",
    "    append!(tempos, tempo_5/REPEAT)\n",
    "end\n",
    "\n",
    "tempos = reshape(tempos, (length(tempos), 1))\n",
    "nome_file = \"Dados Julia for1 repeat=$REPEAT samples=$SAMPLES.csv\"\n",
    "CSV.write(nome_file, DataFrame(tempos), writeheader=false)"
   ]
  },
  {
   "cell_type": "markdown",
   "metadata": {},
   "source": [
    "### Utilizando `for` opção 2"
   ]
  },
  {
   "cell_type": "code",
   "execution_count": null,
   "metadata": {},
   "outputs": [],
   "source": [
    "#Opção 2\n",
    "NUMERO_ELEMENTOS = 1_000_000\n",
    "SAMPLES = 250\n",
    "REPEAT = 5\n",
    "distribution = Truncated(Normal(5, 4.5), 0, 10)\n",
    "valores = rand(distribution, NUMERO_ELEMENTOS)\n",
    "function for_opcao2(valores)\n",
    "    vetor_fun_for2 = []\n",
    "    soma = 0.0\n",
    "    for valor in valores\n",
    "        append!(vetor_fun_for2, valor^3 + 5/3.141516*(valor^(0.5)) - valor/(valor^2 + 1))\n",
    "        soma += vetor_fun_for2[end]\n",
    "    end\n",
    "    return vetor_fun_for2, soma\n",
    "end\n",
    "\n",
    "tempos = []\n",
    "for i in 1:SAMPLES\n",
    "    tempo_5 = 0\n",
    "    for i in 1:REPEAT\n",
    "        t0 = Dates.now()\n",
    "        for_opcao2(valores)\n",
    "        t1 = Dates.now()\n",
    "        tempo_5 += Dates.value(t1 - t0)/1000\n",
    "    end\n",
    "    append!(tempos, tempo_5/REPEAT)\n",
    "end\n",
    "\n",
    "tempos = reshape(tempos, (length(tempos), 1))\n",
    "nome_file = \"Dados Julia for2 repeat=$REPEAT samples=$SAMPLES.csv\"\n",
    "CSV.write(nome_file, DataFrame(tempos), writeheader=false)"
   ]
  },
  {
   "cell_type": "markdown",
   "metadata": {},
   "source": [
    "### Utilizando `for` opção 3"
   ]
  },
  {
   "cell_type": "code",
   "execution_count": null,
   "metadata": {},
   "outputs": [],
   "source": [
    "#Opção 3\n",
    "NUMERO_ELEMENTOS = 1_000_000\n",
    "SAMPLES = 250\n",
    "REPEAT = 5\n",
    "distribution = Truncated(Normal(5, 4.5), 0, 10)\n",
    "valores = rand(distribution, NUMERO_ELEMENTOS)\n",
    "function for_opcao3(valores)\n",
    "    vetor_fun_for3 = []\n",
    "    for valor in valores\n",
    "        append!(vetor_fun_for3, valor^3 + 5/3.141516*(valor^(0.5)) - valor/(valor^2 + 1))\n",
    "    end\n",
    "    soma = sum(vetor_fun_for3)\n",
    "    return vetor_fun_for3, soma\n",
    "end\n",
    "\n",
    "tempos = []\n",
    "for i in 1:SAMPLES\n",
    "    tempo_5 = 0\n",
    "    for i in 1:REPEAT\n",
    "        t0 = Dates.now()\n",
    "        for_opcao3(valores)\n",
    "        t1 = Dates.now()\n",
    "        tempo_5 += Dates.value(t1 - t0)/1000\n",
    "    end\n",
    "    append!(tempos, tempo_5/REPEAT)\n",
    "end\n",
    "\n",
    "tempos = reshape(tempos, (length(tempos), 1))\n",
    "nome_file = \"Dados Julia for3 repeat=$REPEAT samples=$SAMPLES.csv\"\n",
    "CSV.write(nome_file, DataFrame(tempos), writeheader=false)"
   ]
  },
  {
   "cell_type": "markdown",
   "metadata": {},
   "source": [
    "### Utilizando `list comprenhension`"
   ]
  },
  {
   "cell_type": "code",
   "execution_count": null,
   "metadata": {},
   "outputs": [],
   "source": [
    "NUMERO_ELEMENTOS = 1_000_000\n",
    "SAMPLES = 250\n",
    "REPEAT = 5\n",
    "distribution = Truncated(Normal(5, 4.5), 0, 10)\n",
    "valores = rand(distribution, NUMERO_ELEMENTOS)\n",
    "function lc(valores)\n",
    "    vetor_fun_lc = [valor^3 + 5/3.141516*(valor^(0.5)) - valor/(valor^2 + 1) for valor in valores]\n",
    "    soma = sum(vetor_fun_lc)\n",
    "    return vetor_fun_lc, soma\n",
    "end\n",
    "\n",
    "tempos = []\n",
    "for i in 1:SAMPLES\n",
    "    tempo_5 = 0\n",
    "    for i in 1:REPEAT\n",
    "        t0 = Dates.now()\n",
    "        lc(valores)\n",
    "        t1 = Dates.now()\n",
    "        tempo_5 += Dates.value(t1 - t0)/1000\n",
    "    end\n",
    "    append!(tempos, tempo_5/REPEAT)\n",
    "end\n",
    "\n",
    "tempos = reshape(tempos, (length(tempos), 1))\n",
    "nome_file = \"Dados Julia lc repeat=$REPEAT samples=$SAMPLES.csv\"\n",
    "CSV.write(nome_file, DataFrame(tempos), writeheader=false)"
   ]
  },
  {
   "cell_type": "markdown",
   "metadata": {},
   "source": [
    "### Usando `generators`"
   ]
  },
  {
   "cell_type": "code",
   "execution_count": null,
   "metadata": {},
   "outputs": [],
   "source": [
    "NUMERO_ELEMENTOS = 1_000_000\n",
    "SAMPLES = 250\n",
    "REPEAT = 5\n",
    "distribution = Truncated(Normal(5, 4.5), 0, 10)\n",
    "valores = rand(distribution, NUMERO_ELEMENTOS)\n",
    "function gen(valores)\n",
    "    vetor_fun_gen = (valor^3 + 5/3.141516*(valor^(0.5)) - valor/(valor^2 + 1) for valor in valores)\n",
    "    soma = sum(vetor_fun_gen)\n",
    "    return vetor_fun_gen, soma\n",
    "end\n",
    "\n",
    "tempos = []\n",
    "for i in 1:SAMPLES\n",
    "    tempo_5 = 0\n",
    "    for i in 1:REPEAT\n",
    "        t0 = Dates.now()\n",
    "        gen(valores)\n",
    "        t1 = Dates.now()\n",
    "        tempo_5 += Dates.value(t1 - t0)/1000\n",
    "    end\n",
    "    append!(tempos, tempo_5/REPEAT)\n",
    "end\n",
    "\n",
    "tempos = reshape(tempos, (length(tempos), 1))\n",
    "nome_file = \"Dados Julia gen repeat=$REPEAT samples=$SAMPLES.csv\"\n",
    "CSV.write(nome_file, DataFrame(tempos), writeheader=false)"
   ]
  },
  {
   "cell_type": "markdown",
   "metadata": {},
   "source": [
    "### Usando arrays"
   ]
  },
  {
   "cell_type": "code",
   "execution_count": null,
   "metadata": {},
   "outputs": [],
   "source": [
    "NUMERO_ELEMENTOS = 1_000_000\n",
    "SAMPLES = 250\n",
    "REPEAT = 5\n",
    "distribution = Truncated(Normal(5, 4.5), 0, 10)\n",
    "valores = rand(distribution, NUMERO_ELEMENTOS)\n",
    "function arr(valores)\n",
    "    vetor_fun_arr = valores.^3 .+ (valores.^(0.5)).*5/3.141516 .- valores ./ (valores.^2 .+ 1)\n",
    "    soma = sum(vetor_fun_arr)\n",
    "    return vetor_fun_arr, soma\n",
    "end\n",
    "\n",
    "tempos = []\n",
    "for i in 1:SAMPLES\n",
    "    tempo_5 = 0\n",
    "    for i in 1:REPEAT\n",
    "        t0 = Dates.now()\n",
    "        arr(valores)\n",
    "        t1 = Dates.now()\n",
    "        tempo_5 += Dates.value(t1 - t0)/1000\n",
    "    end\n",
    "    append!(tempos, tempo_5/REPEAT)\n",
    "end\n",
    "\n",
    "tempos = reshape(tempos, (length(tempos), 1))\n",
    "nome_file = \"Dados Julia arr repeat=$REPEAT samples=$SAMPLES.csv\"\n",
    "CSV.write(nome_file, DataFrame(tempos), writeheader=false)"
   ]
  },
  {
   "cell_type": "markdown",
   "metadata": {},
   "source": [
    "### Usando `map()`\n"
   ]
  },
  {
   "cell_type": "code",
   "execution_count": null,
   "metadata": {},
   "outputs": [],
   "source": [
    "NUMERO_ELEMENTOS = 1_000_000\n",
    "SAMPLES = 250\n",
    "REPEAT = 5\n",
    "distribution = Truncated(Normal(5, 4.5), 0, 10)\n",
    "valores = rand(distribution, NUMERO_ELEMENTOS)\n",
    "function f_map(valores)\n",
    "    vetor_fun_map = map(x -> x^3 + 5/3.141516*(x^(0.5)) - x/(x^2 + 1), valores)\n",
    "    soma = sum(vetor_fun_map)\n",
    "    return vetor_fun_map, soma\n",
    "end\n",
    "\n",
    "tempos = []\n",
    "for i in 1:SAMPLES\n",
    "    tempo_5 = 0\n",
    "    for i in 1:REPEAT\n",
    "        t0 = Dates.now()\n",
    "        f_map(valores)\n",
    "        t1 = Dates.now()\n",
    "        tempo_5 += Dates.value(t1 - t0)/1000\n",
    "    end\n",
    "    append!(tempos, tempo_5/REPEAT)\n",
    "end\n",
    "\n",
    "tempos = reshape(tempos, (length(tempos), 1))\n",
    "nome_file = \"Dados Julia map repeat=$REPEAT samples=$SAMPLES.csv\"\n",
    "CSV.write(nome_file, DataFrame(tempos), writeheader=false)"
   ]
  }
 ],
 "metadata": {
  "@webio": {
   "lastCommId": null,
   "lastKernelId": null
  },
  "kernelspec": {
   "display_name": "Julia 1.4.1",
   "language": "julia",
   "name": "julia-1.4"
  },
  "language_info": {
   "file_extension": ".jl",
   "mimetype": "application/julia",
   "name": "julia",
   "version": "1.4.1"
  },
  "varInspector": {
   "cols": {
    "lenName": 16,
    "lenType": 16,
    "lenVar": 40
   },
   "kernels_config": {
    "python": {
     "delete_cmd_postfix": "",
     "delete_cmd_prefix": "del ",
     "library": "var_list.py",
     "varRefreshCmd": "print(var_dic_list())"
    },
    "r": {
     "delete_cmd_postfix": ") ",
     "delete_cmd_prefix": "rm(",
     "library": "var_list.r",
     "varRefreshCmd": "cat(var_dic_list()) "
    }
   },
   "types_to_exclude": [
    "module",
    "function",
    "builtin_function_or_method",
    "instance",
    "_Feature"
   ],
   "window_display": true
  }
 },
 "nbformat": 4,
 "nbformat_minor": 4
}
