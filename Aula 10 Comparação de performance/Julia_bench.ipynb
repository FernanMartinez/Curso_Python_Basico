{
 "cells": [
  {
   "cell_type": "markdown",
   "metadata": {},
   "source": [
    "### Utilizando `for` opção 1"
   ]
  },
  {
   "cell_type": "code",
   "execution_count": 1,
   "metadata": {},
   "outputs": [],
   "source": [
    "using BenchmarkTools\n",
    "using Distributions\n",
    "using Dates\n",
    "using CSV\n",
    "using DataFrames"
   ]
  },
  {
   "cell_type": "code",
   "execution_count": null,
   "metadata": {},
   "outputs": [],
   "source": [
    "#Opção 1\n",
    "NUMERO_ELEMENTOS = 1_000_000\n",
    "SAMPLES = 250\n",
    "REPEAT = 5\n",
    "distribution = Truncated(Normal(5, 4.5), 0, 10)\n",
    "valores = rand(distribution, NUMERO_ELEMENTOS)\n",
    "function for_opcao1(valores)\n",
    "    vetor_fun_for1 = []\n",
    "    soma = 0\n",
    "    for valor in valores\n",
    "        append!(vetor_fun_for1, valor^3+ 5/3.141516*(valor^(0.5)) - valor/(valor^2 + 1))\n",
    "        soma += vetor_fun_for1[end]\n",
    "    end\n",
    "    return vetor_fun_for1, soma\n",
    "end\n",
    "\n",
    "tempos = []\n",
    "for i in 1:SAMPLES\n",
    "    tempo_5 = 0\n",
    "    for i in 1:REPEAT\n",
    "        t0 = Dates.now()\n",
    "        for_opcao1(valores)\n",
    "        t1 = Dates.now()\n",
    "        tempo_5 += Dates.value(t1 - t0)/1000\n",
    "    end\n",
    "    append!(tempos, tempo_5/REPEAT)\n",
    "end\n",
    "\n",
    "# bench_for_1 = @benchmark for_opcao1(valores) samples=SAMPLES evals=REPEAT seconds=10000\n",
    "tempos = reshape(tempos, (length(tempos), 1))\n",
    "nome_file = \"Dados Julia for1 repeat=$REPEAT samples=$SAMPLES.csv\"\n",
    "CSV.write(nome_file, DataFrame(tempos), writeheader=false)"
   ]
  },
  {
   "cell_type": "markdown",
   "metadata": {},
   "source": [
    "### Utilizando `for` opção 2"
   ]
  },
  {
   "cell_type": "code",
   "execution_count": null,
   "metadata": {},
   "outputs": [],
   "source": [
    "#Opção 2\n",
    "NUMERO_ELEMENTOS = 1_000_000\n",
    "SAMPLES = 250\n",
    "REPEAT = 5\n",
    "distribution = Truncated(Normal(5, 4.5), 0, 10)\n",
    "valores = rand(distribution, NUMERO_ELEMENTOS)\n",
    "function for_opcao2(valores)\n",
    "    vetor_fun_for2 = []\n",
    "    soma = 0.0\n",
    "    for valor in valores\n",
    "        append!(vetor_fun_for2, valor^3 + 5/3.141516*(valor^(0.5)) - valor/(valor^2 + 1))\n",
    "        soma += vetor_fun_for2[end]\n",
    "    end\n",
    "    return vetor_fun_for2, soma\n",
    "end\n",
    "\n",
    "tempos = []\n",
    "for i in 1:SAMPLES\n",
    "    tempo_5 = 0\n",
    "    for i in 1:REPEAT\n",
    "        t0 = Dates.now()\n",
    "        for_opcao2(valores)\n",
    "        t1 = Dates.now()\n",
    "        tempo_5 += Dates.value(t1 - t0)/1000\n",
    "    end\n",
    "    append!(tempos, tempo_5/REPEAT)\n",
    "end\n",
    "\n",
    "# bench_for_2 = @benchmark for_opcao2(valores) samples=SAMPLES evals=REPEAT seconds=10000\n",
    "tempos = reshape(tempos, (length(tempos), 1))\n",
    "nome_file = \"Dados Julia for2 repeat=$REPEAT samples=$SAMPLES.csv\"\n",
    "CSV.write(nome_file, DataFrame(tempos), writeheader=false)"
   ]
  },
  {
   "cell_type": "markdown",
   "metadata": {},
   "source": [
    "### Utilizando `for` opção 3"
   ]
  },
  {
   "cell_type": "code",
   "execution_count": null,
   "metadata": {},
   "outputs": [],
   "source": [
    "#Opção 3\n",
    "NUMERO_ELEMENTOS = 1_000_000\n",
    "SAMPLES = 250\n",
    "REPEAT = 5\n",
    "distribution = Truncated(Normal(5, 4.5), 0, 10)\n",
    "valores = rand(distribution, NUMERO_ELEMENTOS)\n",
    "function for_opcao3(valores)\n",
    "    vetor_fun_for3 = []\n",
    "    for valor in valores\n",
    "        append!(vetor_fun_for3, valor^3 + 5/3.141516*(valor^(0.5)) - valor/(valor^2 + 1))\n",
    "    end\n",
    "    soma = sum(vetor_fun_for3)\n",
    "    return vetor_fun_for3, soma\n",
    "end\n",
    "\n",
    "tempos = []\n",
    "for i in 1:SAMPLES\n",
    "    tempo_5 = 0\n",
    "    for i in 1:REPEAT\n",
    "        t0 = Dates.now()\n",
    "        for_opcao3(valores)\n",
    "        t1 = Dates.now()\n",
    "        tempo_5 += Dates.value(t1 - t0)/1000\n",
    "    end\n",
    "    append!(tempos, tempo_5/REPEAT)\n",
    "end\n",
    "\n",
    "# bench_for_3 = @benchmark for_opcao3(valores) samples=SAMPLES evals=REPEAT seconds=10000\n",
    "tempos = reshape(tempos, (length(tempos), 1))\n",
    "nome_file = \"Dados Julia for3 repeat=$REPEAT samples=$SAMPLES.csv\"\n",
    "CSV.write(nome_file, DataFrame(tempos), writeheader=false)"
   ]
  },
  {
   "cell_type": "markdown",
   "metadata": {},
   "source": [
    "### Utilizando `list comprenhension`"
   ]
  },
  {
   "cell_type": "code",
   "execution_count": null,
   "metadata": {},
   "outputs": [],
   "source": [
    "NUMERO_ELEMENTOS = 1_000_000\n",
    "SAMPLES = 250\n",
    "REPEAT = 5\n",
    "distribution = Truncated(Normal(5, 4.5), 0, 10)\n",
    "valores = rand(distribution, NUMERO_ELEMENTOS)\n",
    "function lc(valores)\n",
    "    vetor_fun_lc = [valor^3 + 5/3.141516*(valor^(0.5)) - valor/(valor^2 + 1) for valor in valores]\n",
    "    soma = sum(vetor_fun_lc)\n",
    "    return vetor_fun_lc, soma\n",
    "end\n",
    "\n",
    "tempos = []\n",
    "for i in 1:SAMPLES\n",
    "    tempo_5 = 0\n",
    "    for i in 1:REPEAT\n",
    "        t0 = Dates.now()\n",
    "        lc(valores)\n",
    "        t1 = Dates.now()\n",
    "        tempo_5 += Dates.value(t1 - t0)/1000\n",
    "    end\n",
    "    append!(tempos, tempo_5/REPEAT)\n",
    "end\n",
    "\n",
    "tempos = reshape(tempos, (length(tempos), 1))\n",
    "nome_file = \"Dados Julia lc repeat=$REPEAT samples=$SAMPLES.csv\"\n",
    "CSV.write(nome_file, DataFrame(tempos), writeheader=false)"
   ]
  },
  {
   "cell_type": "markdown",
   "metadata": {},
   "source": [
    "### Usando `generators`"
   ]
  },
  {
   "cell_type": "code",
   "execution_count": 2,
   "metadata": {},
   "outputs": [
    {
     "data": {
      "text/plain": [
       "BenchmarkTools.Trial: \n",
       "  memory estimate:  48 bytes\n",
       "  allocs estimate:  2\n",
       "  --------------\n",
       "  minimum time:     4.795 ms (0.00% GC)\n",
       "  median time:      4.990 ms (0.00% GC)\n",
       "  mean time:        5.035 ms (0.00% GC)\n",
       "  maximum time:     5.827 ms (0.00% GC)\n",
       "  --------------\n",
       "  samples:          250\n",
       "  evals/sample:     5"
      ]
     },
     "execution_count": 2,
     "metadata": {},
     "output_type": "execute_result"
    }
   ],
   "source": [
    "NUMERO_ELEMENTOS = 1_000_000\n",
    "SAMPLES = 250\n",
    "REPEAT = 5\n",
    "distribution = Truncated(Normal(5, 4.5), 0, 10)\n",
    "valores = rand(distribution, NUMERO_ELEMENTOS)\n",
    "function gen(valores)\n",
    "    vetor_fun_gen = (valor^3 + 5/3.141516*(valor^(0.5)) - valor/(valor^2 + 1) for valor in valores)\n",
    "    soma = sum(vetor_fun_gen)\n",
    "    return vetor_fun_gen, soma\n",
    "end\n",
    "\n",
    "tempos = []\n",
    "for i in 1:SAMPLES\n",
    "    tempo_5 = 0\n",
    "    for i in 1:REPEAT\n",
    "        t0 = Dates.now()\n",
    "        gen(valores)\n",
    "        t1 = Dates.now()\n",
    "        tempo_5 += Dates.value(t1 - t0)/1000\n",
    "    end\n",
    "    append!(tempos, tempo_5/REPEAT)\n",
    "end\n",
    "bench_gen = @benchmark gen(valores) samples=SAMPLES evals=REPEAT seconds=10000\n",
    "# tempos = reshape(tempos, (length(tempos), 1))\n",
    "# nome_file = \"Dados Julia gen repeat=$REPEAT samples=$SAMPLES.csv\"\n",
    "# CSV.write(nome_file, DataFrame(tempos), writeheader=false)"
   ]
  },
  {
   "cell_type": "code",
   "execution_count": 4,
   "metadata": {},
   "outputs": [
    {
     "data": {
      "text/plain": [
       "0.004600000000000001"
      ]
     },
     "execution_count": 4,
     "metadata": {},
     "output_type": "execute_result"
    }
   ],
   "source": [
    "minimum(tempos)\n"
   ]
  },
  {
   "cell_type": "code",
   "execution_count": null,
   "metadata": {},
   "outputs": [],
   "source": []
  },
  {
   "cell_type": "code",
   "execution_count": null,
   "metadata": {},
   "outputs": [],
   "source": []
  },
  {
   "cell_type": "code",
   "execution_count": 5,
   "metadata": {},
   "outputs": [
    {
     "data": {
      "text/plain": [
       "0.0047952407999999995"
      ]
     },
     "execution_count": 5,
     "metadata": {},
     "output_type": "execute_result"
    }
   ],
   "source": [
    "minimum(bench_gen.times/1_000_000_000)"
   ]
  },
  {
   "cell_type": "code",
   "execution_count": 7,
   "metadata": {},
   "outputs": [
    {
     "data": {
      "text/plain": [
       "0.018400000000000003"
      ]
     },
     "execution_count": 7,
     "metadata": {},
     "output_type": "execute_result"
    }
   ],
   "source": [
    "maximum(tempos)"
   ]
  },
  {
   "cell_type": "code",
   "execution_count": 6,
   "metadata": {},
   "outputs": [
    {
     "data": {
      "text/plain": [
       "0.0058272426"
      ]
     },
     "execution_count": 6,
     "metadata": {},
     "output_type": "execute_result"
    }
   ],
   "source": [
    "maximum(bench_gen.times/1_000_000_000)"
   ]
  },
  {
   "cell_type": "code",
   "execution_count": 8,
   "metadata": {},
   "outputs": [
    {
     "data": {
      "text/plain": [
       "0.005113599999999989"
      ]
     },
     "execution_count": 8,
     "metadata": {},
     "output_type": "execute_result"
    }
   ],
   "source": [
    "mean(tempos)"
   ]
  },
  {
   "cell_type": "code",
   "execution_count": 9,
   "metadata": {},
   "outputs": [
    {
     "data": {
      "text/plain": [
       "0.0050345868416"
      ]
     },
     "execution_count": 9,
     "metadata": {},
     "output_type": "execute_result"
    }
   ],
   "source": [
    "mean(bench_gen.times/1_000_000_000)"
   ]
  },
  {
   "cell_type": "code",
   "execution_count": 11,
   "metadata": {},
   "outputs": [
    {
     "data": {
      "text/plain": [
       "0.0008692279730176127"
      ]
     },
     "execution_count": 11,
     "metadata": {},
     "output_type": "execute_result"
    }
   ],
   "source": [
    "std(tempos)"
   ]
  },
  {
   "cell_type": "code",
   "execution_count": 10,
   "metadata": {},
   "outputs": [
    {
     "data": {
      "text/plain": [
       "0.00015503230489094644"
      ]
     },
     "execution_count": 10,
     "metadata": {},
     "output_type": "execute_result"
    }
   ],
   "source": [
    "std(bench_gen.times/1_000_000_000)"
   ]
  },
  {
   "cell_type": "markdown",
   "metadata": {},
   "source": [
    "### Usando arrays"
   ]
  },
  {
   "cell_type": "code",
   "execution_count": null,
   "metadata": {},
   "outputs": [],
   "source": [
    "NUMERO_ELEMENTOS = 1_000_000\n",
    "SAMPLES = 250\n",
    "REPEAT = 5\n",
    "distribution = Truncated(Normal(5, 4.5), 0, 10)\n",
    "valores = rand(distribution, NUMERO_ELEMENTOS)\n",
    "function arr(valores)\n",
    "    vetor_fun_arr = valores.^3 .+ (valores.^(0.5)).*5/3.141516 .- valores ./ (valores.^2 .+ 1)\n",
    "    soma = sum(vetor_fun_arr)\n",
    "    return vetor_fun_arr, soma\n",
    "end\n",
    "\n",
    "tempos = []\n",
    "for i in 1:SAMPLES\n",
    "    tempo_5 = 0\n",
    "    for i in 1:REPEAT\n",
    "        t0 = Dates.now()\n",
    "        arr(valores)\n",
    "        t1 = Dates.now()\n",
    "        tempo_5 += Dates.value(t1 - t0)/1000\n",
    "    end\n",
    "    append!(tempos, tempo_5/REPEAT)\n",
    "end\n",
    "\n",
    "tempos = reshape(tempos, (length(tempos), 1))\n",
    "nome_file = \"Dados Julia arr repeat=$REPEAT samples=$SAMPLES.csv\"\n",
    "CSV.write(nome_file, DataFrame(tempos), writeheader=false)"
   ]
  },
  {
   "cell_type": "markdown",
   "metadata": {},
   "source": [
    "### Usando `map()`\n"
   ]
  },
  {
   "cell_type": "code",
   "execution_count": null,
   "metadata": {},
   "outputs": [],
   "source": [
    "NUMERO_ELEMENTOS = 1_000_000\n",
    "SAMPLES = 250\n",
    "REPEAT = 5\n",
    "distribution = Truncated(Normal(5, 4.5), 0, 10)\n",
    "valores = rand(distribution, NUMERO_ELEMENTOS)\n",
    "function f_map(valores)\n",
    "    vetor_fun_map = map(x -> x^3 + 5/3.141516*(x^(0.5)) - x/(x^2 + 1), valores)\n",
    "    soma = sum(vetor_fun_map)\n",
    "    return vetor_fun_map, soma\n",
    "end\n",
    "\n",
    "tempos = []\n",
    "for i in 1:SAMPLES\n",
    "    tempo_5 = 0\n",
    "    for i in 1:REPEAT\n",
    "        t0 = Dates.now()\n",
    "        f_map(valores)\n",
    "        t1 = Dates.now()\n",
    "        tempo_5 += Dates.value(t1 - t0)/1000\n",
    "    end\n",
    "    append!(tempos, tempo_5/REPEAT)\n",
    "end\n",
    "\n",
    "tempos = reshape(tempos, (length(tempos), 1))\n",
    "nome_file = \"Dados Julia map repeat=$REPEAT samples=$SAMPLES.csv\"\n",
    "CSV.write(nome_file, DataFrame(tempos), writeheader=false)"
   ]
  }
 ],
 "metadata": {
  "@webio": {
   "lastCommId": null,
   "lastKernelId": null
  },
  "kernelspec": {
   "display_name": "Julia 1.4.1",
   "language": "julia",
   "name": "julia-1.4"
  },
  "language_info": {
   "file_extension": ".jl",
   "mimetype": "application/julia",
   "name": "julia",
   "version": "1.4.1"
  },
  "varInspector": {
   "cols": {
    "lenName": 16,
    "lenType": 16,
    "lenVar": 40
   },
   "kernels_config": {
    "python": {
     "delete_cmd_postfix": "",
     "delete_cmd_prefix": "del ",
     "library": "var_list.py",
     "varRefreshCmd": "print(var_dic_list())"
    },
    "r": {
     "delete_cmd_postfix": ") ",
     "delete_cmd_prefix": "rm(",
     "library": "var_list.r",
     "varRefreshCmd": "cat(var_dic_list()) "
    }
   },
   "types_to_exclude": [
    "module",
    "function",
    "builtin_function_or_method",
    "instance",
    "_Feature"
   ],
   "window_display": true
  }
 },
 "nbformat": 4,
 "nbformat_minor": 4
}
