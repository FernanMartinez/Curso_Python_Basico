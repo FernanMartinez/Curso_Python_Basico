{
 "cells": [
  {
   "cell_type": "markdown",
   "metadata": {},
   "source": [
    "# Aula 02. Containers nativos e não nativos\n",
    "\n",
    "<img  src='img/container.png' width='300' height='150' />\n",
    "\n",
    "Collesctions em Python são dados do tipo contêiner que se encarregam de armazenar dados, outros contêiner e funções ou métodos. Python possui quatro collection de forma nativa e outras collections mais performáticas. Para utilizar essas collections é necessário realizar a importação (`import collections`). Todas as collections de Python tem características e propriedades diferentes. O conhecimentos destas diferenças são de suma importância para evitar erros durante o processo de desem volvimento.\n",
    "\n",
    "---\n",
    "<font size=\"6\"> Os tópicos que vamos abordar nesta série de conversas são:</font>\n",
    "- [ ] Containers nativos:\n",
    "    - [ ] lists;\n",
    "    - [ ] tuples;\n",
    "    - [ ] dict;\n",
    "    - [ ] set;\n",
    "- [ ] High-performance container;\n",
    "- [ ] Indexação e fatiamento;\n",
    "    - [ ] Index;\n",
    "    - [ ] Fatiamento;\n",
    "- [ ] Métodos aplicados a collections:\n",
    "    - [ ] lists;\n",
    "    - [ ] tuples;\n",
    "    - [ ] dict;\n",
    "    - [ ] set;\n",
    "- [ ] String;\n",
    "    - [ ] Manipulação de Strings."
   ]
  },
  {
   "cell_type": "markdown",
   "metadata": {
    "heading_collapsed": true
   },
   "source": [
    "## Destaques"
   ]
  },
  {
   "cell_type": "markdown",
   "metadata": {
    "hidden": true
   },
   "source": [
    "- Em Python, Containers são tipos de dados que permitem armazenar outros tipos de dados e acessá-los utilizando índices ou chaves;\n",
    "- Python possui quatro Containers de forma nativa, sendo estes `list` (listas), `tuple` (tuplas), `dict` (dicionários) e `set` conjuntos;\n",
    "- Todos os Containers em Python aceitam qualquer tipo de objeto, e incuso outros Containers e funções;\n",
    "- Existem algumas Collestions adicionais que podem ser utilizadas importando o módulo `collections` (`import collections`). Essas Collections são mais performáticas em comparação às citadas previamente;\n",
    "- Para identificar o tamanho de um Conteiners pode ser utilizada a função `len()`;\n",
    "\n",
    "- Em Python existe duas forma de acessar aos elementos contidos nos Containers:\n",
    "    1. Utilizando o índice, neste caso o primeiro elemento é acessado através do índice zero `0`. Esta forma de acessar é valida para listas e tuplas\n",
    "    2. Também é possível acessar aos elementos através de uma palavra chave. Esta forma de acessar é valida para dicionários\n",
    "    3. Os conjuntos não aceita acessar aos elementos por índice nem por palavra chave\n",
    "---\n",
    "Para mais informação recomendo :\n",
    "\n",
    "1. https://docs.python.org/3/tutorial/datastructures.html\n",
    "1. https://docs.python.org/3/library/collections.html"
   ]
  },
  {
   "cell_type": "markdown",
   "metadata": {
    "heading_collapsed": true
   },
   "source": [
    "## Listas or list `[ ]`\n",
    "- As Listas em Python são semelhantes aos Arrays das linguagens C++ e Java;\n",
    "- São objetos mutáveis e podem ser alteradas apos ser definidas;\n",
    "- São objetos ordenados e cada elemento tem seu lugar definido, isto indica que o primeiro elemento da lista sempre vai ser acessado através do índice `0` e o ultimo elemento através do índice `-1`;\n",
    "- As listas aceitam valores repetidos;\n",
    "- Para definir uma lista utilizamos o símbolo de colchetes `[]` e cada elemento dentro da lista é separado por vírgula."
   ]
  },
  {
   "cell_type": "code",
   "execution_count": 4,
   "metadata": {
    "ExecuteTime": {
     "end_time": "2020-11-08T18:45:53.793738Z",
     "start_time": "2020-11-08T18:45:53.755821Z"
    },
    "hidden": true
   },
   "outputs": [
    {
     "name": "stdout",
     "output_type": "stream",
     "text": [
      "lista_1 = [] Tipo da lista_1 =  <class 'list'> Tamanho lista_1 = 0\n",
      "lista_2 = [1, 2, 3] Tipo da lista_2 =  <class 'list'> Tamanho lista_2 = 3\n",
      "lista_3 = [1, 2.5, (1+3j)] Tipo da lista_3 =  <class 'list'> Tamanho lista_3 = 3\n",
      "lista_4 = ['a', 'B', 25, 3.141516, '0'] Tipo da lista_4 =  <class 'list'> Tamanho lista_4 = 5\n",
      "lista_5 = [[], [1, 2, 3], [1, 2.5, (1+3j)], ['a', 'B', 25, 3.141516, '0'], ','] Tipo da lista_5 =  <class 'list'> Tamanho lista_5 = 5\n"
     ]
    }
   ],
   "source": [
    "# Exemplo. Criando diferentes tipos de listas\n",
    "lista_1 = [ ]\n",
    "lista_2 = [1, 2, 3]\n",
    "lista_3 = [1, 2.5, 1 + 3j] \n",
    "lista_4 = [\"a\", 'B', 25, 3.141516, \"0\"]\n",
    "lista_5 = [[], lista_2, lista_3, lista_4, ',']\n",
    "print(\"lista_1 =\", lista_1, \"Tipo da lista_1 = \", type(lista_1), \"Tamanho lista_1 =\", len(lista_1))\n",
    "print(\"lista_2 =\", lista_2, \"Tipo da lista_2 = \", type(lista_2), \"Tamanho lista_2 =\", len(lista_2))\n",
    "print(\"lista_3 =\", lista_3, \"Tipo da lista_3 = \", type(lista_3), \"Tamanho lista_3 =\", len(lista_3))\n",
    "print(\"lista_4 =\", lista_4, \"Tipo da lista_4 = \", type(lista_4), \"Tamanho lista_4 =\", len(lista_4))\n",
    "print(\"lista_5 =\", lista_5, \"Tipo da lista_5 = \", type(lista_5), \"Tamanho lista_5 =\", len(lista_5))"
   ]
  },
  {
   "cell_type": "code",
   "execution_count": 5,
   "metadata": {
    "ExecuteTime": {
     "end_time": "2020-11-08T18:45:56.538191Z",
     "start_time": "2020-11-08T18:45:56.523636Z"
    },
    "hidden": true
   },
   "outputs": [
    {
     "name": "stdout",
     "output_type": "stream",
     "text": [
      "['a', 'B', 25, 3.141516, '0']\n",
      "[1000, 'B', 25, 3.141516, '0']\n"
     ]
    }
   ],
   "source": [
    "# Modificando um elemento da lista\n",
    "print(lista_4)\n",
    "lista_4[0]= 1000\n",
    "print(lista_4)"
   ]
  },
  {
   "cell_type": "markdown",
   "metadata": {
    "heading_collapsed": true
   },
   "source": [
    "## Tuplas ou tuples `( )`\n",
    "- As Tuplas em Python são parecidas às listas, porém são objetivos imutáveis, por este motivo não é possível modificar uma tupla após definí-la;\n",
    "- Porém, se um dos elementos dentro da tupla é um contêiner (como uma lista), podemos modificar o conteúdo deste Conteiner;\n",
    "- As tuplas são objetos ordenados e cada elemento tem seu lugar definido, isto indica que o primeiro elemento da lista sempre vai ser acessado através do índice `0` e o ultimo elemento através do índice `-1`\n",
    "- As tuplas aceitam valores repetidos;\n",
    "- Para definir uma tupla é obrigatório o uso de virgula separando os elementos. Caso a tupla tenha somente um elemento, deve-se acrescentar uma vírgula no final;\n",
    "- **OBS.** é comum acreditar que o as tuplas são definidas com parênteses, porém o fator definidor da tupla é a virgula."
   ]
  },
  {
   "cell_type": "code",
   "execution_count": 6,
   "metadata": {
    "ExecuteTime": {
     "end_time": "2020-11-08T18:48:48.566644Z",
     "start_time": "2020-11-08T18:48:48.550304Z"
    },
    "hidden": true
   },
   "outputs": [
    {
     "name": "stdout",
     "output_type": "stream",
     "text": [
      "tupla_unitaria =  25 | Tipo de dados:  <class 'int'>\n",
      "tupla_unitaria_2 =  (25,) | Tipo de dados:  <class 'tuple'>\n",
      "tupla_unitaria_3 =  (25,) | Tipo de dados:  <class 'tuple'>\n"
     ]
    }
   ],
   "source": [
    "# Tupla unitaria\n",
    "tupla_unitaria = (25) # ERRADO. isso não é uma tupla, isto é um int\n",
    "tupla_unitaria_2 = 25, # FORMA CERTA.Isso é uma tupla pois estamos utilizando uma virgula no final\n",
    "tupla_unitaria_3 = (25,) # FORMA CERTA. Isso também é uma tupla pois estamos usando uma virgula\n",
    "                         # Notem que o fator definidor é a virgula e não o parêntese\n",
    "print(\"tupla_unitaria = \", tupla_unitaria, \"| Tipo de dados: \", type(tupla_unitaria))\n",
    "print(\"tupla_unitaria_2 = \", tupla_unitaria_2, \"| Tipo de dados: \", type(tupla_unitaria_2))\n",
    "print(\"tupla_unitaria_3 = \", tupla_unitaria_3, \"| Tipo de dados: \", type(tupla_unitaria_3))"
   ]
  },
  {
   "cell_type": "code",
   "execution_count": 8,
   "metadata": {
    "ExecuteTime": {
     "end_time": "2020-11-08T18:49:46.859369Z",
     "start_time": "2020-11-08T18:49:46.827791Z"
    },
    "hidden": true
   },
   "outputs": [
    {
     "name": "stdout",
     "output_type": "stream",
     "text": [
      "tupla_1 = () Tipo da tupla_1 =  <class 'tuple'> Tamanho tupla_1 = 0\n",
      "tupla_2 = (1, 2, 3) Tipo da tupla_2 =  <class 'tuple'> Tamanho tupla_2 = 3\n",
      "tupla_3 = (1, 2.5, (1+3j)) Tipo da tupla_3 =  <class 'tuple'> Tamanho tupla_3 = 3\n",
      "tupla_4 = ('a', 'B', 25, 3.141516, '0') Tipo da tupla_4 =  <class 'tuple'> Tamanho tupla_4 = 5\n",
      "tupla_5 = ([], (), (1, 2, 3), ('a', 'B', 25, 3.141516, '0'), ',') Tipo da tupla_5 =  <class 'tuple'> Tamanho tupla_5 = 5\n"
     ]
    }
   ],
   "source": [
    "tupla_1 = ( )\n",
    "tupla_2 = (1, 2, 3)\n",
    "tupla_3 = (1, 2.5, 1 + 3j)\n",
    "tupla_4 = (\"a\", 'B', 25, 3.141516, \"0\")\n",
    "tupla_5 = ([], tupla_1, tupla_2, tupla_4, ',')\n",
    "print(\"tupla_1 =\", tupla_1, \"Tipo da tupla_1 = \", type(tupla_1), \"Tamanho tupla_1 =\", len(tupla_1))\n",
    "print(\"tupla_2 =\", tupla_2, \"Tipo da tupla_2 = \", type(tupla_2), \"Tamanho tupla_2 =\", len(tupla_2))\n",
    "print(\"tupla_3 =\", tupla_3, \"Tipo da tupla_3 = \", type(tupla_3), \"Tamanho tupla_3 =\", len(tupla_3))\n",
    "print(\"tupla_4 =\", tupla_4, \"Tipo da tupla_4 = \", type(tupla_4), \"Tamanho tupla_4 =\", len(tupla_4))\n",
    "print(\"tupla_5 =\", tupla_5, \"Tipo da tupla_5 = \", type(tupla_5), \"Tamanho tupla_5 =\", len(tupla_5))"
   ]
  },
  {
   "cell_type": "code",
   "execution_count": 14,
   "metadata": {
    "ExecuteTime": {
     "end_time": "2020-11-08T18:51:29.711623Z",
     "start_time": "2020-11-08T18:51:29.702586Z"
    },
    "hidden": true
   },
   "outputs": [
    {
     "name": "stdout",
     "output_type": "stream",
     "text": [
      "(1, 2, 3, (4, 5, 6), [7, 8, 9])\n",
      "[7, 8, 9]\n",
      "(1, 2, 3, (4, 5, 6), [700, 8, 9])\n"
     ]
    }
   ],
   "source": [
    "# Propriedade inmutable das tuplas\n",
    "tupla_imutavel = (1, 2, 3, (4, 5, 6), [7, 8, 9])\n",
    "print(tupla_imutavel)\n",
    "\n",
    "# tupla_imutavel[0] = 10 # Estamos reescrevendo o primeiro elmento da tupla. TypeError\n",
    "# print(tupla_imutavel)\n",
    "\n",
    "# print(tupla_imutavel[-1])\n",
    "# tupla_imutavel[-1] = 10 # Estou reescrevendo o ultimo  elemento da tupla. TypeError\n",
    "# print(tupla_imutavel)\n",
    "\n",
    "print(tupla_imutavel[-1])\n",
    "tupla_imutavel[-1][0] = 700 # Estou reescrevendo o primeiro elemento do ultimo elemento da tupla\n",
    "print(tupla_imutavel)"
   ]
  },
  {
   "cell_type": "code",
   "execution_count": null,
   "metadata": {
    "hidden": true
   },
   "outputs": [],
   "source": []
  },
  {
   "cell_type": "markdown",
   "metadata": {
    "heading_collapsed": true
   },
   "source": [
    "## Dicionários ou dict `{:}`\n",
    "- Dicionários são `Collections` onde a ordem dos elementos não é garantida;\n",
    "- Para os dicionários cada elemento está vinculado a uma chave, por esse motivo o acesso aos elementos é feito a traves das chaves e não dos índices. Por esse motivo os dicionários não garantem a ordem;\n",
    "- Os dicionários não aceitam chaves repetidas; caso a chave seja repetida o dicionário reescreverá o valor da chave segundo o ultimo elemento que se passou;\n",
    "- Para definir um dicionário se utiliza o símbolo de chaves `{}`;\n",
    "- A sintaxe para definir um dicionário é:\n",
    "```python\n",
    "dicionario = {“chave1” : elemento_1, “chave2” : elemento_2, …, “chave_n” : elemento_n}\n",
    "```\n",
    "onde: \n",
    "- a chave pode ser dados do tipo `str`, `int`, `float` ou `tuple`;\n",
    "- O os elementos podem ser qualquer tipo de dado e incluso outras Collections."
   ]
  },
  {
   "cell_type": "code",
   "execution_count": 16,
   "metadata": {
    "ExecuteTime": {
     "end_time": "2020-11-08T19:27:29.715047Z",
     "start_time": "2020-11-08T19:27:29.701886Z"
    },
    "hidden": true
   },
   "outputs": [
    {
     "name": "stdout",
     "output_type": "stream",
     "text": [
      "\n",
      "dic: {}\n",
      "tipo dic: <class 'dict'>\n",
      "\n",
      "dic_2: {'Chave 1': '25'}\n",
      "tipo dic: <class 'dict'>\n",
      "\n",
      "dic_3: {'Chave 1': '25', 25: '25', (1,): (25, 25), 3.1415: 'Pi', 0.1j: 'complex'}\n",
      "tipo dic: <class 'dict'>\n",
      "\n",
      "dic_4: {'Chave 1': 85, 'Chave 2': 1000, 'Chave 3': 50}\n",
      "tipo dic: <class 'dict'>\n"
     ]
    }
   ],
   "source": [
    "dic = {} # Dicionário vazio\n",
    "dic_2 = {\"Chave 1\":\"25\"} # Dicionário unitario\n",
    "dic_3 = {\"Chave 1\":\"25\", # Dicionários com varios tipos de chaves\n",
    "         25: \"25\",\n",
    "         (1,): (25, 25),\n",
    "         3.1415: \"Pi\",\n",
    "        0.0 + 0.1j: \"complex\"}\n",
    "dic_4 = {\"Chave 1\":\"25\", # Dicionários com chaves repetidas\n",
    "        \"Chave 2\": 1000,\n",
    "        \"Chave 3\": 50,\n",
    "        \"Chave 1\": 85}\n",
    "print(f\"\"\"\n",
    "dic: {dic}\n",
    "tipo dic: {type(dic)}\"\"\")\n",
    "print(f\"\"\"\n",
    "dic_2: {dic_2}\n",
    "tipo dic: {type(dic_2)}\"\"\")\n",
    "print(f\"\"\"\n",
    "dic_3: {dic_3}\n",
    "tipo dic: {type(dic_3)}\"\"\")\n",
    "print(f\"\"\"\n",
    "dic_4: {dic_4}\n",
    "tipo dic: {type(dic_4)}\"\"\")"
   ]
  },
  {
   "cell_type": "markdown",
   "metadata": {
    "heading_collapsed": true
   },
   "source": [
    "## Conjuntos ou set `{}`\n",
    "- Um conjunto é uma `Collection` não ordenada de valores únicos;\n",
    "- Os elementos de um conjunto pode ser qualquer tipo de dado sempre e quando os elementos não sejam mutáveis (listas, dicionários ou outros conjuntos);\n",
    "- Os elementos de um conjunto são imutáveis, porém, o conjunto em si é mutável, podendo adicionar ou remover itens;\n",
    "- Os elementos de um conjunto não podem ser acessados com índice nem com chaves;\n",
    "- Os conjuntos são usados para realizar operações matemáticas de união, intersecção, diferença simétrica, etc;\n",
    "- Para definir um conjuntos usamos as chaves`{}` e os elementos são separados com vírgulas."
   ]
  },
  {
   "cell_type": "code",
   "execution_count": 17,
   "metadata": {
    "ExecuteTime": {
     "end_time": "2020-11-08T19:29:39.393272Z",
     "start_time": "2020-11-08T19:29:39.369606Z"
    },
    "hidden": true
   },
   "outputs": [
    {
     "name": "stdout",
     "output_type": "stream",
     "text": [
      "\n",
      "conj: {}\n",
      "tipo conjunto: <class 'dict'>\n",
      "\n",
      "conj: set()\n",
      "tipo conjunto: <class 'set'>\n",
      "\n",
      "conj: {1, 2, 3}\n",
      "tipo conjunto: <class 'set'>\n",
      "\n",
      "conj: {4, 6.0, (7+0j), (1, 2, 3), '5'}\n",
      "tipo conjunto: <class 'set'>\n",
      "\n",
      "conj: {0, 1, 2, 3, 4, 5}\n",
      "tipo conjunto: <class 'set'>\n"
     ]
    }
   ],
   "source": [
    "conj = {} # ERRADO, não é possivel definir um conjunto vazio desta forma\n",
    "conj2 = set([]) # CERTO, é possivel definir um conjunto vazio desta forma\n",
    "conj_2 = {1, 2, 3}\n",
    "conj_3 = {(1, 2, 3), 4, \"5\", 6.0, 7 + 0j}\n",
    "conj_4 = {1, 2, 3, 4, 5, 5, 4, 3, 2, 1, 0}\n",
    "print(f\"\"\"\n",
    "conj: {conj}\n",
    "tipo conjunto: {type(conj)}\"\"\")\n",
    "print(f\"\"\"\n",
    "conj: {conj2}\n",
    "tipo conjunto: {type(conj2)}\"\"\")\n",
    "print(f\"\"\"\n",
    "conj: {conj_2}\n",
    "tipo conjunto: {type(conj_2)}\"\"\")\n",
    "print(f\"\"\"\n",
    "conj: {conj_3}\n",
    "tipo conjunto: {type(conj_3)}\"\"\")\n",
    "print(f\"\"\"\n",
    "conj: {conj_4}\n",
    "tipo conjunto: {type(conj_4)}\"\"\")"
   ]
  },
  {
   "cell_type": "markdown",
   "metadata": {},
   "source": [
    "## High-performance container\n",
    "Além das collections apresentadas previamente, Python disponibiliza outras collections mais performáticas. Essa collections podem ser importadas do módulo `collections` (módulo já instalado por padrão). As mais utilizadas são:\n",
    "- `nametuple()`\n",
    "- `Counter()`\n",
    "- `deque()`\n",
    "- `OrderedDict()`\n",
    "- `defaultdict()`\n",
    "\n",
    "Para mais informação recomendo a leitura da documentação dessas Collections\n",
    "\n",
    "https://docs.python.org/3.8/library/collections.html#module-collections"
   ]
  },
  {
   "cell_type": "markdown",
   "metadata": {},
   "source": [
    "## Indexação e fatiamento;\n",
    "Até agora temos visto os tipos de dados e os conteiners nativos. Agora passamos a trabalhar com a manipulação (fatiamento) destes conteiners e os métodos associados a cada um.\n",
    "\n",
    "Cada objeto conta com uma série de métodos/funções que facilita a manipulação. Para conseguir conhecer todas as funções que os objetos possuem podemos utilizar o comando `dir()`."
   ]
  },
  {
   "cell_type": "markdown",
   "metadata": {
    "heading_collapsed": true
   },
   "source": [
    "### Indexação\n",
    "As listas e as tuplas são uma sequência de elementos organizados, cada elemento destas collections está associado a um índice que inicia em zero `0`e termina no último elemento com índice` -1`.\n",
    "\n",
    "Porém, podemos realizar operações de fatiamento para recuperar algum elemento ou uma série de elementos de nossos Collections. Vale a pena destacar, que podemos modificar os elementos de uma lista, porém, esta mesma operação não está definida para tuplas.\n",
    "\n",
    "Como podemos entender uma lista e uma tupla?\n",
    "```\n",
    "+---+---+---+---+---+---+\n",
    "| A | B | C | D | E | F | representação para a lista  L = [A, B, C, D, E, F]\n",
    "+---+---+---+---+---+---+\n",
    "\n",
    "+---+---+---+---+---+---+\n",
    "| 0 | 1 | 2 | 3 | 4 | 5 | representação dos índices para L\n",
    "+---+---+---+---+---+---+\n",
    "\n",
    "+---+---+---+---+---+---+\n",
    "| -6| -5| -4| -3| -2| -1| representação dos índices para L\n",
    "+---+---+---+---+---+---+\n",
    "```"
   ]
  },
  {
   "cell_type": "markdown",
   "metadata": {
    "hidden": true
   },
   "source": []
  },
  {
   "cell_type": "code",
   "execution_count": 19,
   "metadata": {
    "ExecuteTime": {
     "end_time": "2020-11-08T19:34:39.581281Z",
     "start_time": "2020-11-08T19:34:39.568036Z"
    },
    "hidden": true
   },
   "outputs": [
    {
     "name": "stdout",
     "output_type": "stream",
     "text": [
      "['A', 'B', 'C', 'D', 'E', 'F']\n",
      "('a', 'b', 'c', 'd', 'e', 'f')\n"
     ]
    }
   ],
   "source": [
    "# Criando uma lista e uma tupla\n",
    "lista = [\"A\", \"B\", \"C\", \"D\", \"E\", \"F\"]\n",
    "tupla = (\"a\", \"b\", \"c\", \"d\", \"e\", \"f\")\n",
    "print(lista)\n",
    "print(tupla)"
   ]
  },
  {
   "cell_type": "code",
   "execution_count": 20,
   "metadata": {
    "ExecuteTime": {
     "end_time": "2020-11-08T19:34:57.589674Z",
     "start_time": "2020-11-08T19:34:57.575445Z"
    },
    "hidden": true
   },
   "outputs": [
    {
     "name": "stdout",
     "output_type": "stream",
     "text": [
      "A F B C C\n",
      "a f b c c\n"
     ]
    }
   ],
   "source": [
    "# Acessando aos elementos\n",
    "l_0 = lista[0]\n",
    "l_end = lista[-1]\n",
    "l_1 = lista[1]\n",
    "l_2 = lista[-4]\n",
    "l_2_2 = lista[2]\n",
    "print(l_0, l_end, l_1, l_2, l_2_2)\n",
    "\n",
    "# O mesmo é valido para tuplas\n",
    "t_0 = tupla[0]\n",
    "t_end = tupla[-1]\n",
    "t_1 = tupla[1]\n",
    "t_2 = tupla[-4]\n",
    "t_2_2 = tupla[2]\n",
    "\n",
    "print(t_0, t_end, t_1, t_2, t_2_2)"
   ]
  },
  {
   "cell_type": "code",
   "execution_count": 22,
   "metadata": {
    "ExecuteTime": {
     "end_time": "2020-11-08T19:36:06.422626Z",
     "start_time": "2020-11-08T19:36:06.375016Z"
    },
    "hidden": true
   },
   "outputs": [
    {
     "name": "stdout",
     "output_type": "stream",
     "text": [
      "[10, 'B', 'C', 'D', 'E', 100]\n",
      "[10, 'B', 'C', 'D', 'E', 100]\n",
      "('a', 'b', 'c', 'd', 'e', 'f')\n"
     ]
    },
    {
     "ename": "TypeError",
     "evalue": "'tuple' object does not support item assignment",
     "output_type": "error",
     "traceback": [
      "\u001b[0;31m---------------------------------------------------------------------------\u001b[0m",
      "\u001b[0;31mTypeError\u001b[0m                                 Traceback (most recent call last)",
      "\u001b[0;32m<ipython-input-22-9b8154b0d0db>\u001b[0m in \u001b[0;36m<module>\u001b[0;34m\u001b[0m\n\u001b[1;32m      7\u001b[0m \u001b[0;31m# Com a tupla não podemos realizar isso, pois ela é imutável\u001b[0m\u001b[0;34m\u001b[0m\u001b[0;34m\u001b[0m\u001b[0;34m\u001b[0m\u001b[0m\n\u001b[1;32m      8\u001b[0m \u001b[0mprint\u001b[0m\u001b[0;34m(\u001b[0m\u001b[0mtupla\u001b[0m\u001b[0;34m)\u001b[0m\u001b[0;34m\u001b[0m\u001b[0;34m\u001b[0m\u001b[0m\n\u001b[0;32m----> 9\u001b[0;31m \u001b[0mtupla\u001b[0m\u001b[0;34m[\u001b[0m\u001b[0;36m0\u001b[0m\u001b[0;34m]\u001b[0m \u001b[0;34m=\u001b[0m \u001b[0;36m10\u001b[0m \u001b[0;31m# TypeError\u001b[0m\u001b[0;34m\u001b[0m\u001b[0;34m\u001b[0m\u001b[0m\n\u001b[0m",
      "\u001b[0;31mTypeError\u001b[0m: 'tuple' object does not support item assignment"
     ]
    }
   ],
   "source": [
    "# Modificando os elementos\n",
    "print(lista)\n",
    "lista[0] = 10\n",
    "lista[-1] = 100\n",
    "print(lista)\n",
    "\n",
    "# Com a tupla não podemos realizar isso, pois ela é imutável\n",
    "print(tupla)\n",
    "tupla[0] = 10 # TypeError"
   ]
  },
  {
   "cell_type": "markdown",
   "metadata": {},
   "source": [
    "###  Fatiamento\n",
    "A sintaxe para fatiar uma lista ou uma tupla depende da finalidade:\n",
    "\n",
    "---\n",
    "Pegando uma série continua de elementos:\n",
    "\n",
    "```python\n",
    "objeto_que_sera_fatiado[valor_inicial : valor_final]\n",
    "```\n",
    "\n",
    "Interpretamos da seguinte forma, vamos pegar o elemento localizado no índice `valor_inicial` e pegar até o índice `valor_final`. Porém, o `valor_final` é excludente e estaríamos pegando o elemento anterior a esse índice `valor_final - 1`\n",
    "\n",
    "---\n",
    "Pegando uma série de elementos com um espaçamento:\n",
    "\n",
    "```python\n",
    "objeto_que_sera_fatiado[valor_inicial : valor_final : step]\n",
    "```\n",
    "\n",
    "Interpretamos da seguinte forma, vamos pegar o elemento localizado no índice `valor_inicial` até o índice `valor_finall`, com um espaçamento de `step` unidades. Porém, o `valor_final` é excludente e estaríamos pegando o elemento anterior a esse índice (`valor_final - 1`)"
   ]
  },
  {
   "cell_type": "code",
   "execution_count": 23,
   "metadata": {
    "ExecuteTime": {
     "end_time": "2020-11-08T19:43:30.539017Z",
     "start_time": "2020-11-08T19:43:30.511132Z"
    }
   },
   "outputs": [
    {
     "name": "stdout",
     "output_type": "stream",
     "text": [
      "[1, 2, 3, 4, 5, 6, 7, 8, 9, 10]\n",
      "[5, 6, 7, 8, 9]\n",
      "[1, 2, 3, 4, 5]\n",
      "[1, 3, 5, 7, 9]\n",
      "[1, 4, 7, 10]\n",
      "[10, 9, 8, 7, 6, 5, 4, 3, 2, 1]\n",
      "(1, 2, 3, 4, 5, 6, 7, 8, 9, 10)\n",
      "(5, 6, 7, 8, 9)\n",
      "(1, 2, 3, 4, 5)\n",
      "(1, 3, 5, 7, 9)\n",
      "(1, 4, 7, 10)\n",
      "(10, 9, 8, 7, 6, 5, 4, 3, 2, 1)\n"
     ]
    }
   ],
   "source": [
    "lista = [1, 2, 3, 4, 5, 6, 7, 8, 9, 10]\n",
    "tupla = (1, 2, 3, 4, 5, 6, 7, 8, 9, 10)\n",
    "\n",
    "# Fatiando a lista\n",
    "print(lista)\n",
    "lista_1 = lista[4:-1]\n",
    "lista_2 = lista[0:-5]\n",
    "lista_3 = lista[0:-1:2]\n",
    "lista_4 = lista[::3]\n",
    "lista_5 = lista[::-1]\n",
    "print(lista_1)\n",
    "print(lista_2)\n",
    "print(lista_3)\n",
    "print(lista_4)\n",
    "print(lista_5)\n",
    "\n",
    "# Fatiando a tupla\n",
    "print(tupla)\n",
    "tupla_1 = tupla[4:-1]\n",
    "tupla_2 = tupla[0:-5]\n",
    "tupla_3 = tupla[0:-1:2]\n",
    "tupla_4 = tupla[::3]\n",
    "tupla_5 = tupla[::-1]\n",
    "print(tupla_1)\n",
    "print(tupla_2)\n",
    "print(tupla_3)\n",
    "print(tupla_4)\n",
    "print(tupla_5)"
   ]
  },
  {
   "cell_type": "markdown",
   "metadata": {},
   "source": [
    "## Métodos aplicados a collections\n",
    "Todos os objetos tem uma série de métodos/funções que facilitam manipulação deles. Para conhecer todos os métodos podemos aplicar a função `dir()`."
   ]
  },
  {
   "cell_type": "markdown",
   "metadata": {
    "ExecuteTime": {
     "end_time": "2020-11-08T19:45:16.956014Z",
     "start_time": "2020-11-08T19:45:16.939184Z"
    }
   },
   "source": [
    "### Listas\n",
    "Para listas contamos com os seguintes métodos:\n",
    "- `append`: Adiciona um elemento no final da lista;\n",
    "- `clear`: Limpa o conteúdo da lista;\n",
    "- `copy`: realiza uma cópia profunda da lista;,\n",
    "- `count`: Totaliza o total de ocorrências de um determinado elemento;\n",
    "- `extend`: Juntas duas listas;\n",
    "- `index`: Retorna o indice da primeira ocorrência;\n",
    "- `insert`: Adiciona um elemento no índice indicado;\n",
    "- `pop`: Elimina o elemento de acordo ao índice passado, caso não passe nenhum índice, será eliminado o último elemento;\n",
    "- `remove`: Elimina o elemento passado;\n",
    "- `reverse`: inverte a ordem da lista;\n",
    "- `sort`: Organiza os elementos de menor a maior."
   ]
  },
  {
   "cell_type": "code",
   "execution_count": 25,
   "metadata": {
    "ExecuteTime": {
     "end_time": "2020-11-08T19:45:30.187237Z",
     "start_time": "2020-11-08T19:45:30.140141Z"
    }
   },
   "outputs": [
    {
     "name": "stdout",
     "output_type": "stream",
     "text": [
      "Original:  [1, 2, 3, 4, 5, 6, 7, 8, 9, 10]\n",
      "append:  [1, 2, 3, 4, 5, 6, 7, 8, 9, 10, 10]\n",
      "count:  2\n",
      "extend:  [1, 2, 3, 4, 5, 6, 7, 8, 9, 10, 10, 10, 2, 5, 1]\n",
      "index:  9\n",
      "insert:  [1, 100, 2, 3, 4, 5, 6, 7, 8, 9, 10, 10, 10, 2, 5, 1]\n",
      "pop 1:  [1, 2, 3, 4, 5, 6, 7, 8, 9, 10, 10, 10, 2, 5, 1]\n",
      "pop:  [1, 2, 3, 4, 5, 6, 7, 8, 9, 10, 10, 10, 2, 5]\n",
      "remove 5:  [1, 2, 3, 4, 6, 7, 8, 9, 10, 10, 10, 2, 5]\n",
      "reverse:  [5, 2, 10, 10, 10, 9, 8, 7, 6, 4, 3, 2, 1]\n",
      "sort:  [1, 2, 2, 3, 4, 5, 6, 7, 8, 9, 10, 10, 10]\n",
      "clear : []\n"
     ]
    }
   ],
   "source": [
    "lista = [1, 2, 3, 4, 5, 6, 7, 8, 9, 10]\n",
    "print(\"Original: \", lista)\n",
    "lista.append(10)\n",
    "print(\"append: \", lista)\n",
    "print(\"count: \", lista.count(10))\n",
    "lista.extend([10, 2, 5, 1])\n",
    "print(\"extend: \", lista)\n",
    "print(\"index: \", lista.index(10))\n",
    "lista.insert(1, 100)\n",
    "print(\"insert: \", lista)\n",
    "lista.pop(1)\n",
    "print(\"pop 1: \", lista)\n",
    "lista.pop()\n",
    "print(\"pop: \", lista)\n",
    "lista.remove(5)\n",
    "print(\"remove 5: \", lista)\n",
    "lista.reverse()\n",
    "print(\"reverse: \", lista)\n",
    "lista.sort()\n",
    "print(\"sort: \", lista)\n",
    "lista.clear()\n",
    "print(\"clear :\", lista)"
   ]
  },
  {
   "cell_type": "markdown",
   "metadata": {
    "ExecuteTime": {
     "end_time": "2020-11-08T19:45:51.793432Z",
     "start_time": "2020-11-08T19:45:51.775937Z"
    }
   },
   "source": [
    "### Tuplas\n",
    "\n",
    "Como vimos anteriormente as tuplas são parecidas às listas, porém são imutáveis, por este motivo a quantidade de métodos disponíveis é menor. Nesse caso contamos com os seguinte métodos:\n",
    "- `count`: Totaliza o total de ocorrências de um determinado elemento;\n",
    "- `index`: Retorna o indice da primeira ocorrencia;"
   ]
  },
  {
   "cell_type": "code",
   "execution_count": 27,
   "metadata": {
    "ExecuteTime": {
     "end_time": "2020-11-08T19:46:26.813495Z",
     "start_time": "2020-11-08T19:46:26.797156Z"
    }
   },
   "outputs": [
    {
     "name": "stdout",
     "output_type": "stream",
     "text": [
      "Original:  (1, 2, 3, 4, 1, 5, 2, 2, 3, 5)\n",
      "count 2:  3\n",
      "index 2:  1\n"
     ]
    }
   ],
   "source": [
    "tupla = (1, 2, 3, 4, 1, 5, 2, 2, 3, 5)\n",
    "print(\"Original: \", tupla)\n",
    "print(\"count 2: \", tupla.count(2))\n",
    "print(\"index 2: \", tupla.index(2))"
   ]
  },
  {
   "cell_type": "markdown",
   "metadata": {},
   "source": [
    "### Dicionários\n",
    "Para dicionários contamos com os seguintes métodos:\n",
    "- `clear`: Limpa o conteúdo do dicionário;\n",
    "- `copy`: Gera uma copia profunda do dicionario;\n",
    "- `fromkeys`: Retorna um dicionário com as chaves especificadas e o mesmo valor para todas as chaves; \n",
    "- `get`: Retorna o valor especificando uma chave;\n",
    "- `items`: Retorna uma lista de tuplas contendo par (chave, valor);\n",
    "- `keys`: Retorna as chaves do dicionário;\n",
    "- `pop`: Elimina o valor asociado a uma chave;\n",
    "- `popitem`: Elimina o último valor passado;\n",
    "- `setdefault`: Retorna o valor passando uma chave e um valor. Se o a chave não existe é adicionado um novo elemento com a chave e o valor passado;\n",
    "- `update`: Adiciona um novo elemento no dicionario passando um dicionário;\n",
    "- `values`: Retorna os valores do dicionário"
   ]
  },
  {
   "cell_type": "code",
   "execution_count": 28,
   "metadata": {
    "ExecuteTime": {
     "end_time": "2020-11-08T19:46:57.582196Z",
     "start_time": "2020-11-08T19:46:57.529619Z"
    }
   },
   "outputs": [
    {
     "name": "stdout",
     "output_type": "stream",
     "text": [
      "fromkeys:  {'nome': None, 'idade': None, 'telefone': None, 'Pais': None}\n",
      "get:  Ferna\n",
      "get:  None\n",
      "item:  dict_items([('nome', 'Ferna'), ('idade', '28'), ('telefone', 22222222), ('País', 'Brasil')])\n",
      "keys:  dict_keys(['nome', 'idade', 'telefone', 'País'])\n",
      "values:  dict_values(['Ferna', '28', 22222222, 'Brasil'])\n",
      "pop:  Brasil\n",
      "pop:  {'nome': 'Ferna', 'idade': '28', 'telefone': 22222222}\n",
      "popitem:  ('telefone', 22222222)\n",
      "popitem:  {'nome': 'Ferna', 'idade': '28'}\n",
      "setdefault:  22222222\n",
      "setdefault:  {'nome': 'Ferna', 'idade': '28', 'telefone': 22222222}\n",
      "update:  None\n",
      "update:  {'nome': 'Ferna', 'idade': '28', 'telefone': 22222222, 'País': 'Brasil'}\n"
     ]
    }
   ],
   "source": [
    "usuario = {\n",
    "    \"nome\": \"Ferna\",\n",
    "    \"idade\": \"28\",\n",
    "    \"telefone\": 22222222,\n",
    "    \"País\": \"Brasil\",\n",
    "}\n",
    "print(\"fromkeys: \", {}.fromkeys([\"nome\", \"idade\", \"telefone\", \"Pais\"]))\n",
    "print(\"get: \", usuario.get(\"nome\"))\n",
    "print(\"get: \", usuario.get(\"altura\"))\n",
    "print(\"item: \", usuario.items())\n",
    "print(\"keys: \", usuario.keys())\n",
    "print(\"values: \", usuario.values())\n",
    "print(\"pop: \", usuario.pop(\"País\"))\n",
    "print(\"pop: \", usuario)\n",
    "print(\"popitem: \", usuario.popitem())\n",
    "print(\"popitem: \", usuario)\n",
    "print(\"setdefault: \", usuario.setdefault(\"telefone\", 22222222))\n",
    "print(\"setdefault: \", usuario)\n",
    "print(\"update: \", usuario.update({\"País\": \"Brasil\"}))\n",
    "print(\"update: \", usuario)"
   ]
  },
  {
   "cell_type": "markdown",
   "metadata": {},
   "source": [
    "### Set\n",
    "\n",
    "Os conjuntos são uma collection utilizada principalmente para realizar operações de conjuntos. Por este motivo não se apresentaram exemplos aplicando os diferentes métodos próprios desta collectios.\n",
    "- `add`: Adiciona um elemento ao conjunto;\n",
    "- `clear`: Elimina os elementos do conjuto\n",
    "- `copy`: Gera uma copia profunda do dicionario;\n",
    "- `pop`: Remove um elemento de forma randomica;\n",
    "- `remove`: Remove o elemento passado;\n",
    "- `update`: Junta dois conjuntos\n",
    "\n",
    "\n",
    "**Métodos próprios dos conjutos**\n",
    "\n",
    "\n",
    "- `difference`: Retorna os elementos que são iguais entre dois conjutos\n",
    "- `difference_update`: Retorna os elementos que pertence ao primeiro conjunto e não ao segundo\n",
    "- `discard`: Remove o elemento passado\n",
    "- `intersection`: Retorna os elementos que pertence aos dois conjutos;\n",
    "- `intersection_update`: Remove os elementos que estão nós dois conjutos;\n",
    "---\n",
    "Para mais informação sobre os diferentes metodos aplicados aos conjutos podemos aplicar `dir(set)`\n",
    "\n",
    "Para mais informação recomendo a leitura da documentação deste [site](https://www.w3schools.com/python/python_sets.asp)"
   ]
  },
  {
   "cell_type": "markdown",
   "metadata": {},
   "source": [
    "## Strings\n",
    "\n",
    "As strings são dados de tipo texto, o comportamento deste tipo de dado é muito semelhante às `list`. Por este motivo será apresentado nesta secção o comportamento deste tipo de dados.\n",
    "\n",
    "- Ao igual que as listas e as tuplas, as strings são indexadas de forma numérica, iniciando no índice zero `0` e indo até o ultimo elemento (`-1`)\n",
    "- As `strings` podem ser fatiadas da mesma forma que as listas e tuplas;\n",
    "- Python possui 78 métodos para minupulação de strings, alem de bibliotecas encarregadas exclusivamente para tratar dados do tipo textos a mais utilizadas é a biblioteca regular expression ou melhor conhecida como [`re`](https://docs.python.org/3/library/re.html). Os métodos nativos para tratar `string` são:\n",
    "(`__add__`,\n",
    " `__class__`,\n",
    " `__contains__`,\n",
    " `__delattr__`,\n",
    " `__dir__`,\n",
    " `__doc__`,\n",
    " `__eq__`,\n",
    " `__format__`,\n",
    " `__ge__`,\n",
    " `__getattribute__`,\n",
    " `__getitem__`,\n",
    " `__getnewargs__`,\n",
    " `__gt__`,\n",
    " `__hash__`,\n",
    " `__init__`,\n",
    " `__init_subclass__`,\n",
    " `__iter__`,\n",
    " `__le__`,\n",
    " `__len__`,\n",
    " `__lt__`,\n",
    " `__mod__`,\n",
    " `__mul__`,\n",
    " `__ne__`,\n",
    " `__new__`,\n",
    " `__reduce__`,\n",
    " `__reduce_ex__`,\n",
    " `__repr__`,\n",
    " `__rmod__`,\n",
    " `__rmul__`,\n",
    " `__setattr__`,\n",
    " `__sizeof__`,\n",
    " `__str__`,\n",
    " `__subclasshook__`,\n",
    " `capitalize`,\n",
    " `casefold`,\n",
    " `center`,\n",
    " `count`,\n",
    " `encode`,\n",
    " `endswith`,\n",
    " `expandtabs`,\n",
    " `find`,\n",
    " `format`,\n",
    " `format_map`,\n",
    " `index`,\n",
    " `isalnum`,\n",
    " `isalpha`,\n",
    " `isascii`,\n",
    " `isdecimal`,\n",
    " `isdigit`,\n",
    " `isidentifier`,\n",
    " `islower`,\n",
    " `isnumeric`,\n",
    " `isprintable`,\n",
    " `isspace`,\n",
    " `istitle`,\n",
    " `isupper`,\n",
    " `join`,\n",
    " `ljust`,\n",
    " `lower`,\n",
    " `lstrip`,\n",
    " `maketrans`,\n",
    " `partition`,\n",
    " `replace`,\n",
    " `rfind`,\n",
    " `rindex`,\n",
    " `rjust`,\n",
    " `rpartition`,\n",
    " `rsplit`,\n",
    " `rstrip`,\n",
    " `split`,\n",
    " `splitlines`,\n",
    " `startswith`,\n",
    " `strip`,\n",
    " `swapcase`,\n",
    " `title`,\n",
    " `translate`,\n",
    " `upper`,\n",
    " `zfill`)"
   ]
  },
  {
   "cell_type": "markdown",
   "metadata": {},
   "source": [
    "### Manipulação de Strings"
   ]
  },
  {
   "cell_type": "code",
   "execution_count": 29,
   "metadata": {
    "ExecuteTime": {
     "end_time": "2020-11-08T21:03:06.187411Z",
     "start_time": "2020-11-08T21:03:06.135425Z"
    }
   },
   "outputs": [
    {
     "name": "stdout",
     "output_type": "stream",
     "text": [
      "String original:      Esta é uma string utilizada para exemplificar os diferentes métodos    \n",
      "String tannho:  75\n",
      "String fatiada -1:   \n",
      "String fatiada 10:   \n",
      "String fatiada 0:   \n",
      "String fatiada [0:21]:      Esta é uma string\n",
      "String fatiada [0:-1:2]:    Et  m tiguiiaapr xmlfcro ieetsmtds \n",
      "upper():      ESTA É UMA STRING UTILIZADA PARA EXEMPLIFICAR OS DIFERENTES MÉTODOS    \n",
      "strip():  Esta é uma string utilizada para exemplificar os diferentes métodos\n",
      "title():      Esta É Uma String Utilizada Para Exemplificar Os Diferentes Métodos    \n",
      "split():  ['', '', '', '', 'Esta', 'é', 'uma', 'string', 'utilizada', 'para', 'exemplificar', 'os', 'diferentes', 'métodos', '', '', '', '']\n",
      "split():  ['Esta', 'é', 'uma', 'string', 'utilizada', 'para', 'exemplificar', 'os', 'diferentes', 'métodos']\n"
     ]
    }
   ],
   "source": [
    "texto = \"    Esta é uma string utilizada para exemplificar os diferentes métodos    \"\n",
    "print(\"String original: \", texto)\n",
    "print(\"String tannho: \", len(texto))\n",
    "\n",
    "# Fatiando String\n",
    "print(\"String fatiada -1: \", texto[-1])\n",
    "print(\"String fatiada 10: \", texto[10])\n",
    "print(\"String fatiada 0: \", texto[0])\n",
    "print(\"String fatiada [0:21]: \", texto[0:21])\n",
    "print(\"String fatiada [0:-1:2]: \", texto[0:-1:2])\n",
    "\n",
    "# Funções mais usadas\n",
    "print(\"upper(): \", texto.upper())\n",
    "print(\"strip(): \", texto.strip())\n",
    "print(\"title(): \", texto.title())\n",
    "print(\"split(): \", texto.split(\" \"))\n",
    "print(\"split(): \", texto.strip().split(\" \"))"
   ]
  }
 ],
 "metadata": {
  "hide_input": false,
  "kernelspec": {
   "display_name": "Python 3",
   "language": "python",
   "name": "python3"
  },
  "language_info": {
   "codemirror_mode": {
    "name": "ipython",
    "version": 3
   },
   "file_extension": ".py",
   "mimetype": "text/x-python",
   "name": "python",
   "nbconvert_exporter": "python",
   "pygments_lexer": "ipython3",
   "version": "3.7.7"
  },
  "latex_envs": {
   "LaTeX_envs_menu_present": true,
   "autoclose": true,
   "autocomplete": true,
   "bibliofile": "biblio.bib",
   "cite_by": "apalike",
   "current_citInitial": 1,
   "eqLabelWithNumbers": true,
   "eqNumInitial": 1,
   "hotkeys": {
    "equation": "Ctrl-E",
    "itemize": "Ctrl-I"
   },
   "labels_anchors": false,
   "latex_user_defs": false,
   "report_style_numbering": false,
   "user_envs_cfg": false
  }
 },
 "nbformat": 4,
 "nbformat_minor": 4
}
