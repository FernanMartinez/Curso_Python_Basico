{
 "cells": [
  {
   "cell_type": "markdown",
   "metadata": {},
   "source": [
    "# Aula 14 interactividade com Python\n",
    "<img  src='img/interatividade.png' width='600' height='300' />\n",
    "\n",
    "As bibliotecas estudadas até o momento permitem trabalhar com grande quantidade de dados (Pandas), realizar operações matriciais e algebraicas de forma fácil e rápida (Numpy), e visualizar dados de forma personalizada e simples (Matplotlib). A interação dessas bibliotecas ajudam a realizar análises de grande quantidade de dados de forma rápida e com pouca codificação. Contudo, existem cenários onde é necessário realizar a exploração dos dados de forma interativa e assim obter mais informação; e com os conhecimentos adquiridos até o momento isso não se é possível.\n",
    "\n",
    "Neste serie de conversas vamos ver como tornar nossos códigos e nossas análises mais interativas e obter mais informação das bases de dados. Vale a pena destacar que a interatividade em Python somente é possível ao se utiliza Jupyter-Lab ou Jupyter-notebook. As IDEs como VSCode, Spyder, Pycharme e outras não permitem realizar interatividade, contudo algumas IDES (como Spyder e Vscode) possuem extensões que permitem trabalhar com Notebook.\n",
    "\n",
    "---\n",
    "\n",
    "<font size=\"5\"> Os tópicos que vamos abordar nesta série de conversas são:</font>\n",
    "\n",
    "- Comandos mágicos em Jupyter-notebook\n",
    "- Aspectos básicos de interatividade com ipwidgets\n",
    " - Importando a biblioteca\n",
    " - Método `interact`\n",
    " - Método `interactive`\n",
    " - Atualização continua desativada\n",
    "- Explorando arquivos usando interactividade\n",
    "- Analisando dados de um DataFrame Pandas\n",
    "- Interatividade em gráficos\n",
    " - Matplotlib\n",
    " - Pyplot\n",
    " - Figuras 3D"
   ]
  },
  {
   "cell_type": "markdown",
   "metadata": {
    "hide_input": false
   },
   "source": [
    "## Comandos mágicos em Jupyter-notebook"
   ]
  },
  {
   "cell_type": "markdown",
   "metadata": {},
   "source": [
    "Os comandos mágicos ou [Magic Commands](https://ipython.readthedocs.io/en/stable/interactive/magics.html) são aprimoramentos realizados à linguagem que fazem com que um código tenha mais funcionalidades (além das mostradas previamente). Existe mais de 100 comandos mágicos disponíveis, por esse motivo analisaremos os mais relevantes.\n",
    "\n",
    "Os comandos mágicos podem ser utilizados de duas formas: a primeira utilizando o prefixo `%` e a segunda utilizando os prefixos `%%`. No primeiro caso o comando magico será aplicado unicamente na linha seguinte linha. No segundo caso o comando é ópera na célula inteira."
   ]
  },
  {
   "cell_type": "markdown",
   "metadata": {
    "ExecuteTime": {
     "end_time": "2021-01-19T18:34:39.116641Z",
     "start_time": "2021-01-19T18:34:39.100898Z"
    }
   },
   "source": [
    "O comando `%lsmagic` lista todas os comandos mágicos disponíveis."
   ]
  },
  {
   "cell_type": "code",
   "execution_count": 5,
   "metadata": {
    "ExecuteTime": {
     "end_time": "2021-01-27T14:38:16.225324Z",
     "start_time": "2021-01-27T14:38:16.182969Z"
    }
   },
   "outputs": [
    {
     "data": {
      "application/json": {
       "cell": {
        "!": "OSMagics",
        "HTML": "Other",
        "SVG": "Other",
        "bash": "Other",
        "capture": "ExecutionMagics",
        "clojure": "ClojureMagics",
        "debug": "ExecutionMagics",
        "file": "Other",
        "groovy": "GroovyMagics",
        "html": "DisplayMagics",
        "java": "JavaMagics",
        "javascript": "DisplayMagics",
        "js": "DisplayMagics",
        "kotlin": "KotlinMagics",
        "latex": "DisplayMagics",
        "markdown": "DisplayMagics",
        "perl": "Other",
        "prun": "ExecutionMagics",
        "pypy": "Other",
        "python": "Other",
        "python2": "Other",
        "python3": "Other",
        "ruby": "Other",
        "scala": "ScalaMagics",
        "script": "ScriptMagics",
        "sh": "Other",
        "sql": "SqlMagics",
        "svg": "DisplayMagics",
        "sx": "OSMagics",
        "system": "OSMagics",
        "time": "ExecutionMagics",
        "timeit": "ExecutionMagics",
        "writefile": "OSMagics"
       },
       "line": {
        "alias": "OSMagics",
        "alias_magic": "BasicMagics",
        "autoawait": "AsyncMagics",
        "autocall": "AutoMagics",
        "automagic": "AutoMagics",
        "autosave": "KernelMagics",
        "bookmark": "OSMagics",
        "cat": "Other",
        "cd": "OSMagics",
        "clear": "KernelMagics",
        "colors": "BasicMagics",
        "conda": "PackagingMagics",
        "config": "ConfigMagics",
        "connect_info": "KernelMagics",
        "cp": "Other",
        "debug": "ExecutionMagics",
        "dhist": "OSMagics",
        "dirs": "OSMagics",
        "doctest_mode": "BasicMagics",
        "ed": "Other",
        "edit": "KernelMagics",
        "env": "OSMagics",
        "gui": "BasicMagics",
        "hist": "Other",
        "history": "HistoryMagics",
        "killbgscripts": "ScriptMagics",
        "ldir": "Other",
        "less": "KernelMagics",
        "lf": "Other",
        "lk": "Other",
        "ll": "Other",
        "load": "CodeMagics",
        "load_ext": "ExtensionMagics",
        "loadpy": "CodeMagics",
        "logoff": "LoggingMagics",
        "logon": "LoggingMagics",
        "logstart": "LoggingMagics",
        "logstate": "LoggingMagics",
        "logstop": "LoggingMagics",
        "ls": "Other",
        "lsmagic": "BasicMagics",
        "lx": "Other",
        "macro": "ExecutionMagics",
        "magic": "BasicMagics",
        "man": "KernelMagics",
        "matplotlib": "PylabMagics",
        "mkdir": "Other",
        "more": "KernelMagics",
        "mv": "Other",
        "notebook": "BasicMagics",
        "page": "BasicMagics",
        "pastebin": "CodeMagics",
        "pdb": "ExecutionMagics",
        "pdef": "NamespaceMagics",
        "pdoc": "NamespaceMagics",
        "pfile": "NamespaceMagics",
        "pinfo": "NamespaceMagics",
        "pinfo2": "NamespaceMagics",
        "pip": "PackagingMagics",
        "popd": "OSMagics",
        "pprint": "BasicMagics",
        "precision": "BasicMagics",
        "prun": "ExecutionMagics",
        "psearch": "NamespaceMagics",
        "psource": "NamespaceMagics",
        "pushd": "OSMagics",
        "pwd": "OSMagics",
        "pycat": "OSMagics",
        "pylab": "PylabMagics",
        "qtconsole": "KernelMagics",
        "quickref": "BasicMagics",
        "recall": "HistoryMagics",
        "rehashx": "OSMagics",
        "reload_ext": "ExtensionMagics",
        "rep": "Other",
        "rerun": "HistoryMagics",
        "reset": "NamespaceMagics",
        "reset_selective": "NamespaceMagics",
        "rm": "Other",
        "rmdir": "Other",
        "run": "ExecutionMagics",
        "save": "CodeMagics",
        "sc": "OSMagics",
        "set_env": "OSMagics",
        "store": "StoreMagics",
        "sx": "OSMagics",
        "system": "OSMagics",
        "tb": "ExecutionMagics",
        "time": "ExecutionMagics",
        "timeit": "ExecutionMagics",
        "unalias": "OSMagics",
        "unload_ext": "ExtensionMagics",
        "who": "NamespaceMagics",
        "who_ls": "NamespaceMagics",
        "whos": "NamespaceMagics",
        "xdel": "NamespaceMagics",
        "xmode": "BasicMagics"
       }
      },
      "text/plain": [
       "Available line magics:\n",
       "%alias  %alias_magic  %autoawait  %autocall  %automagic  %autosave  %bookmark  %cat  %cd  %clear  %colors  %conda  %config  %connect_info  %cp  %debug  %dhist  %dirs  %doctest_mode  %ed  %edit  %env  %gui  %hist  %history  %killbgscripts  %ldir  %less  %lf  %lk  %ll  %load  %load_ext  %loadpy  %logoff  %logon  %logstart  %logstate  %logstop  %ls  %lsmagic  %lx  %macro  %magic  %man  %matplotlib  %mkdir  %more  %mv  %notebook  %page  %pastebin  %pdb  %pdef  %pdoc  %pfile  %pinfo  %pinfo2  %pip  %popd  %pprint  %precision  %prun  %psearch  %psource  %pushd  %pwd  %pycat  %pylab  %qtconsole  %quickref  %recall  %rehashx  %reload_ext  %rep  %rerun  %reset  %reset_selective  %rm  %rmdir  %run  %save  %sc  %set_env  %store  %sx  %system  %tb  %time  %timeit  %unalias  %unload_ext  %who  %who_ls  %whos  %xdel  %xmode\n",
       "\n",
       "Available cell magics:\n",
       "%%!  %%HTML  %%SVG  %%bash  %%capture  %%clojure  %%debug  %%file  %%groovy  %%html  %%java  %%javascript  %%js  %%kotlin  %%latex  %%markdown  %%perl  %%prun  %%pypy  %%python  %%python2  %%python3  %%ruby  %%scala  %%script  %%sh  %%sql  %%svg  %%sx  %%system  %%time  %%timeit  %%writefile\n",
       "\n",
       "Automagic is ON, % prefix IS NOT needed for line magics."
      ]
     },
     "execution_count": 5,
     "metadata": {},
     "output_type": "execute_result"
    }
   ],
   "source": [
    "%lsmagic"
   ]
  },
  {
   "cell_type": "markdown",
   "metadata": {},
   "source": [
    "O comando `%ls` permite exibir o conteúdo do diretório atual. Possivelmente esse comando não esteja disponível para Windows."
   ]
  },
  {
   "cell_type": "code",
   "execution_count": 7,
   "metadata": {
    "ExecuteTime": {
     "end_time": "2021-01-27T14:38:49.982345Z",
     "start_time": "2021-01-27T14:38:49.826446Z"
    }
   },
   "outputs": [
    {
     "name": "stdout",
     "output_type": "stream",
     "text": [
      "Aula_14_Interactividade.ipynb  Codigo_externo_3.txt  medium_data_2019_01_26\r\n",
      "Codigo_externo_2_MOD.py        Codigo_externo.py     programming_languages.csv\r\n",
      "Codigo_externo_2.py            \u001b[0m\u001b[01;34mimg\u001b[0m/\r\n"
     ]
    }
   ],
   "source": [
    "%ls"
   ]
  },
  {
   "cell_type": "markdown",
   "metadata": {},
   "source": [
    "O comando `%run` permite executar um código externo ao notebook."
   ]
  },
  {
   "cell_type": "code",
   "execution_count": null,
   "metadata": {
    "ExecuteTime": {
     "end_time": "2021-01-25T11:34:31.751762Z",
     "start_time": "2021-01-25T11:34:31.736636Z"
    },
    "hide_input": false
   },
   "outputs": [],
   "source": [
    "%run Codigo_externo.py"
   ]
  },
  {
   "cell_type": "markdown",
   "metadata": {},
   "source": [
    "O comando `%pycat` permite visualizar um código contigo em outro"
   ]
  },
  {
   "cell_type": "code",
   "execution_count": 1,
   "metadata": {
    "ExecuteTime": {
     "end_time": "2021-01-27T14:33:54.690704Z",
     "start_time": "2021-01-27T14:33:54.667456Z"
    }
   },
   "outputs": [],
   "source": [
    "%pycat Codigo_externo_2.py"
   ]
  },
  {
   "cell_type": "markdown",
   "metadata": {},
   "source": [
    "O comando `%pycat` permite importar um código contido em outro arquivo para o notebook atual."
   ]
  },
  {
   "cell_type": "code",
   "execution_count": null,
   "metadata": {
    "ExecuteTime": {
     "end_time": "2021-01-27T14:36:20.975371Z",
     "start_time": "2021-01-27T14:36:20.969336Z"
    }
   },
   "outputs": [],
   "source": [
    "# %load Codigo_externo_2.py\n",
    "import numpy as np\n",
    "import matplotlib.pyplot as plt\n",
    "y = np.random.rand(1000)\n",
    "x = np.arange(0, len(y))\n",
    "plt.scatter(x=x,\n",
    "            y=y,\n",
    "            s=np.random.uniform(low=1, high=50, size=len(x)),\n",
    "            c=np.random.uniform(low=1, high=10, size=len(x)),marker=\"*\",\n",
    "            alpha=0.8)\n",
    "plt.title(\"Scarter plot\")\n",
    "plt.xlabel(\"Eixo X\")\n",
    "plt.ylabel(\"Eixo Y\")"
   ]
  },
  {
   "cell_type": "markdown",
   "metadata": {},
   "source": [
    "O comando `%%write` permite escrever o conteudo de uma celula no arquivo de texto ou arquivo .py."
   ]
  },
  {
   "cell_type": "code",
   "execution_count": 6,
   "metadata": {
    "ExecuteTime": {
     "end_time": "2021-01-27T14:38:39.872279Z",
     "start_time": "2021-01-27T14:38:39.840093Z"
    }
   },
   "outputs": [
    {
     "name": "stdout",
     "output_type": "stream",
     "text": [
      "Writing Codigo_externo_2_MOD.py\n"
     ]
    }
   ],
   "source": [
    "%%writefile Codigo_externo_2_MOD.py\n",
    "import numpy as np\n",
    "import matplotlib.pyplot as plt\n",
    "y = np.random.rand(1000)\n",
    "x = np.arange(0, len(y))\n",
    "plt.scatter(x=x,\n",
    "            y=y,\n",
    "            s=np.random.uniform(low=1, high=50, size=len(x)),\n",
    "            c=np.random.uniform(low=1, high=10, size=len(x)),marker=\"*\",\n",
    "            alpha=0.8)\n",
    "plt.title(\"Scarter plot\")\n",
    "plt.xlabel(\"Eixo X\")\n",
    "plt.ylabel(\"Eixo Y\")"
   ]
  },
  {
   "cell_type": "markdown",
   "metadata": {},
   "source": [
    "Os comandos mágicos `%who`, `%who_ls`, `%whos` permitem:\n",
    "- Visualizar as variáveis como uma lista;\n",
    "- Visualizar as variáveis com informação reduzida;\n",
    "- Visualizar as variáveis com informação detalhada."
   ]
  },
  {
   "cell_type": "code",
   "execution_count": null,
   "metadata": {
    "ExecuteTime": {
     "end_time": "2021-01-25T11:36:36.924362Z",
     "start_time": "2021-01-25T11:36:36.912219Z"
    }
   },
   "outputs": [],
   "source": [
    "a = \"25\"\n",
    "b = 25\n",
    "c = (a, b)\n",
    "d = [a, b, c]\n",
    "e = \"Fernan\"\n",
    "f = 5"
   ]
  },
  {
   "cell_type": "code",
   "execution_count": null,
   "metadata": {
    "ExecuteTime": {
     "end_time": "2021-01-25T11:36:39.258179Z",
     "start_time": "2021-01-25T11:36:39.248980Z"
    }
   },
   "outputs": [],
   "source": [
    "%who_ls"
   ]
  },
  {
   "cell_type": "code",
   "execution_count": null,
   "metadata": {
    "ExecuteTime": {
     "end_time": "2021-01-25T11:36:44.156860Z",
     "start_time": "2021-01-25T11:36:44.133397Z"
    }
   },
   "outputs": [],
   "source": [
    "%who"
   ]
  },
  {
   "cell_type": "code",
   "execution_count": null,
   "metadata": {
    "ExecuteTime": {
     "end_time": "2021-01-25T11:36:52.468142Z",
     "start_time": "2021-01-25T11:36:52.454362Z"
    }
   },
   "outputs": [],
   "source": [
    "%who str"
   ]
  },
  {
   "cell_type": "code",
   "execution_count": null,
   "metadata": {
    "ExecuteTime": {
     "end_time": "2021-01-25T11:36:54.452356Z",
     "start_time": "2021-01-25T11:36:54.445265Z"
    }
   },
   "outputs": [],
   "source": [
    "%who int"
   ]
  },
  {
   "cell_type": "code",
   "execution_count": null,
   "metadata": {
    "ExecuteTime": {
     "end_time": "2021-01-25T11:36:56.882328Z",
     "start_time": "2021-01-25T11:36:56.869937Z"
    }
   },
   "outputs": [],
   "source": [
    "%who list tuple"
   ]
  },
  {
   "cell_type": "code",
   "execution_count": null,
   "metadata": {
    "ExecuteTime": {
     "end_time": "2021-01-25T11:36:59.785739Z",
     "start_time": "2021-01-25T11:36:59.772042Z"
    }
   },
   "outputs": [],
   "source": [
    "%whos"
   ]
  },
  {
   "cell_type": "code",
   "execution_count": null,
   "metadata": {
    "ExecuteTime": {
     "end_time": "2021-01-25T11:37:04.615673Z",
     "start_time": "2021-01-25T11:37:04.587941Z"
    }
   },
   "outputs": [],
   "source": [
    "%whos str ndarray tuple int list"
   ]
  },
  {
   "cell_type": "markdown",
   "metadata": {},
   "source": [
    "Como vimos previamente a geração de figuras diretamente no notebook não mostra uma eficiência muito alta em termos de interatividade devido a que não é possível explorar áreas específicas do gráfico. Para solucionar esse problema contamos com 2 comandos mágicos:\n",
    "\n",
    "- `%matplolib`: esse comando permite a visualização dos gráficos numa janela externa a qual possui mais opções;\n",
    "\n",
    "- `%matplolib notebook`: esse moando permite a visualização dos gráficos diretamente no notebook. As opções apresentadas neste modo de visualização são as mesmas das mostradas previamente."
   ]
  },
  {
   "cell_type": "markdown",
   "metadata": {},
   "source": [
    "Visualização sem nenhum comando magico."
   ]
  },
  {
   "cell_type": "code",
   "execution_count": null,
   "metadata": {
    "ExecuteTime": {
     "end_time": "2021-01-25T11:38:26.892937Z",
     "start_time": "2021-01-25T11:38:25.995320Z"
    }
   },
   "outputs": [],
   "source": [
    "import numpy as np\n",
    "import matplotlib.pyplot as plt\n",
    "y = np.random.rand(1000)\n",
    "x = np.arange(0, len(y))\n",
    "plt.scatter(x=x,\n",
    "            y=y,\n",
    "            s=np.random.uniform(low=1,\n",
    "                                high=50,\n",
    "                                size=len(x)),\n",
    "            c=np.random.uniform(low=1,\n",
    "                                high=10,\n",
    "                                size=len(x)),\n",
    "            marker=\"*\",\n",
    "            alpha=0.8)\n",
    "plt.title(\"Scarter plot\", size=20)\n",
    "plt.xlabel(\"Eixo X\",size=20)\n",
    "plt.ylabel(\"Eixo Y\",size=20)"
   ]
  },
  {
   "cell_type": "markdown",
   "metadata": {},
   "source": [
    "Visualização com `%matplotlib`."
   ]
  },
  {
   "cell_type": "code",
   "execution_count": null,
   "metadata": {
    "ExecuteTime": {
     "end_time": "2021-01-22T14:40:47.106574Z",
     "start_time": "2021-01-22T14:40:46.573248Z"
    }
   },
   "outputs": [],
   "source": [
    "import numpy as np\n",
    "import matplotlib.pyplot as plt\n",
    "%matplotlib\n",
    "y = np.random.rand(1000)\n",
    "x = np.arange(0, len(y))\n",
    "plt.scatter(x=x,\n",
    "            y=y,\n",
    "            s=np.random.uniform(low=1, high=50, size=len(x)),\n",
    "            c=np.random.uniform(low=1, high=10, size=len(x)),marker=\"*\",\n",
    "            alpha=0.8)\n",
    "plt.title(\"Scarter plot\", size=20)\n",
    "plt.xlabel(\"Eixo X\",size=20)\n",
    "plt.ylabel(\"Eixo Y\",size=20)"
   ]
  },
  {
   "cell_type": "markdown",
   "metadata": {},
   "source": [
    "Visualização com `%matplotlib notebook`."
   ]
  },
  {
   "cell_type": "code",
   "execution_count": null,
   "metadata": {
    "ExecuteTime": {
     "end_time": "2021-01-25T11:38:49.868828Z",
     "start_time": "2021-01-25T11:38:49.375402Z"
    }
   },
   "outputs": [],
   "source": [
    "import numpy as np\n",
    "import matplotlib.pyplot as plt\n",
    "%matplotlib notebook\n",
    "y = np.random.rand(1000)\n",
    "x = np.arange(0, len(y))\n",
    "plt.scatter(x=x,\n",
    "            y=y,\n",
    "            s=np.random.uniform(low=1, high=50, size=len(x)),\n",
    "            c=np.random.uniform(low=1, high=10, size=len(x)),marker=\"*\",\n",
    "            alpha=0.8)\n",
    "plt.title(\"Scarter plot\", size=20)\n",
    "plt.xlabel(\"Eixo X\",size=20)\n",
    "plt.ylabel(\"Eixo Y\",size=20)"
   ]
  },
  {
   "cell_type": "markdown",
   "metadata": {},
   "source": [
    "---"
   ]
  },
  {
   "cell_type": "markdown",
   "metadata": {},
   "source": [
    "## Aspectos básicos de interatividade com ipwidgets\n",
    "\n",
    "Os conceitos mostrados previamente ajudam a ter uma interatividade maior entre o código e o sistema, contudo isso ainda não e suficiente para conseguir aproveitar 100% o potencial de jupyter-notebook.\n",
    "\n",
    "A biblioteca [jupyter widgets](https://ipywidgets.readthedocs.io/en/stable/index.html) possibilita ao “infinito” a criação de objetos interativos como botoes de escolhas, listas, etc que facilita a análise de dados e figuras.\n",
    "\n",
    "Na documentação desta biblioteca é apresentada todas as opções disponível e como utilizar cada uma. Devido ao grande número dessas opções somente serão apresentadas as mais relevantes. Recomendo fortemente revisar a [documentação](https://ipywidgets.readthedocs.io/en/stable/examples/Using%20Interact.html) para uma maior compressão desta biblioteca."
   ]
  },
  {
   "cell_type": "markdown",
   "metadata": {},
   "source": [
    "### Instalando a biblioteca\n",
    "\n",
    "Para realizar a instalação da biblioteca recomendo a leitura da [documentação](https://ipywidgets.readthedocs.io/en/stable/user_install.html) devido a que é necessário a instalação de outros pacotes para o correto funcionamento.\n",
    "A instalação pode ser realizada por meio do pip ou conda:\n",
    "- `pip install ipywidgets`\n",
    "- `conda install -c conda-forge ipywidgets`\n"
   ]
  },
  {
   "cell_type": "markdown",
   "metadata": {},
   "source": [
    "### Importando a biblioteca"
   ]
  },
  {
   "cell_type": "code",
   "execution_count": 1,
   "metadata": {
    "ExecuteTime": {
     "end_time": "2021-01-25T11:53:23.061947Z",
     "start_time": "2021-01-25T11:53:23.048692Z"
    }
   },
   "outputs": [],
   "source": [
    "# from __future__ import print_function\n",
    "import ipywidgets as widgets\n",
    "from ipywidgets import interact, interactive, fixed, interact_manual"
   ]
  },
  {
   "cell_type": "code",
   "execution_count": 2,
   "metadata": {
    "ExecuteTime": {
     "end_time": "2021-01-25T11:53:41.788053Z",
     "start_time": "2021-01-25T11:53:41.781765Z"
    }
   },
   "outputs": [],
   "source": [
    "def funcao_teste(x):\n",
    "    print(x)"
   ]
  },
  {
   "cell_type": "markdown",
   "metadata": {
    "ExecuteTime": {
     "end_time": "2021-01-20T18:33:47.539201Z",
     "start_time": "2021-01-20T18:33:47.533146Z"
    }
   },
   "source": [
    "### método `interact`\n",
    "O método `interact` facilita a passagem dos argumentos de uma forma dinâmica. Sem a necessidade de reescrever o código."
   ]
  },
  {
   "cell_type": "code",
   "execution_count": 3,
   "metadata": {
    "ExecuteTime": {
     "end_time": "2021-01-25T11:54:18.713519Z",
     "start_time": "2021-01-25T11:54:18.645374Z"
    }
   },
   "outputs": [
    {
     "data": {
      "application/vnd.jupyter.widget-view+json": {
       "model_id": "2a7ba520860e4aa5b9c7477646f225e4",
       "version_major": 2,
       "version_minor": 0
      },
      "text/plain": [
       "interactive(children=(IntSlider(value=10, description='x', max=30, min=-10), Output()), _dom_classes=('widget-…"
      ]
     },
     "metadata": {},
     "output_type": "display_data"
    },
    {
     "data": {
      "text/plain": [
       "<function __main__.funcao_teste(x)>"
      ]
     },
     "execution_count": 3,
     "metadata": {},
     "output_type": "execute_result"
    }
   ],
   "source": [
    "interact(funcao_teste, x=10)"
   ]
  },
  {
   "cell_type": "code",
   "execution_count": 4,
   "metadata": {
    "ExecuteTime": {
     "end_time": "2021-01-25T11:54:33.531493Z",
     "start_time": "2021-01-25T11:54:33.492790Z"
    }
   },
   "outputs": [
    {
     "data": {
      "application/vnd.jupyter.widget-view+json": {
       "model_id": "c8f891713cf94f55b0440786ce2a8c9e",
       "version_major": 2,
       "version_minor": 0
      },
      "text/plain": [
       "interactive(children=(IntSlider(value=5, description='x', max=15, min=-5), Output()), _dom_classes=('widget-in…"
      ]
     },
     "metadata": {},
     "output_type": "display_data"
    },
    {
     "data": {
      "text/plain": [
       "<function __main__.funcao_teste(x)>"
      ]
     },
     "execution_count": 4,
     "metadata": {},
     "output_type": "execute_result"
    }
   ],
   "source": [
    "interact(funcao_teste, x=5)"
   ]
  },
  {
   "cell_type": "markdown",
   "metadata": {},
   "source": [
    "Podemos personalizar o slider definindo uma faixa de valores e um passo. Para fazer isso passamos `widgets.IntSlider(min, max, step, value)`."
   ]
  },
  {
   "cell_type": "code",
   "execution_count": 5,
   "metadata": {
    "ExecuteTime": {
     "end_time": "2021-01-25T11:55:47.294538Z",
     "start_time": "2021-01-25T11:55:47.221693Z"
    }
   },
   "outputs": [
    {
     "data": {
      "application/vnd.jupyter.widget-view+json": {
       "model_id": "e3ef6b537903442e90122943a20585d6",
       "version_major": 2,
       "version_minor": 0
      },
      "text/plain": [
       "interactive(children=(IntSlider(value=0, description='x', step=2), Output()), _dom_classes=('widget-interact',…"
      ]
     },
     "metadata": {},
     "output_type": "display_data"
    },
    {
     "data": {
      "text/plain": [
       "<function __main__.funcao_teste(x)>"
      ]
     },
     "execution_count": 5,
     "metadata": {},
     "output_type": "execute_result"
    }
   ],
   "source": [
    "interact(funcao_teste, x=widgets.IntSlider(min=0,\n",
    "                                           max=100,\n",
    "                                           step=2,\n",
    "                                           velue=10))"
   ]
  },
  {
   "cell_type": "code",
   "execution_count": 6,
   "metadata": {
    "ExecuteTime": {
     "end_time": "2021-01-25T11:55:58.290334Z",
     "start_time": "2021-01-25T11:55:58.281930Z"
    }
   },
   "outputs": [],
   "source": [
    "def euler(x):\n",
    "    return (1 + 1/x)**x"
   ]
  },
  {
   "cell_type": "code",
   "execution_count": 7,
   "metadata": {
    "ExecuteTime": {
     "end_time": "2021-01-25T11:56:01.836887Z",
     "start_time": "2021-01-25T11:56:01.777093Z"
    }
   },
   "outputs": [
    {
     "data": {
      "application/vnd.jupyter.widget-view+json": {
       "model_id": "4b3bbb24ed414f80ace5d15b1c6c85dd",
       "version_major": 2,
       "version_minor": 0
      },
      "text/plain": [
       "interactive(children=(IntSlider(value=499, description='x', max=1000, min=1, step=2), Output()), _dom_classes=…"
      ]
     },
     "metadata": {},
     "output_type": "display_data"
    },
    {
     "data": {
      "text/plain": [
       "<function __main__.euler(x)>"
      ]
     },
     "execution_count": 7,
     "metadata": {},
     "output_type": "execute_result"
    }
   ],
   "source": [
    "interact(euler, x=(1, 1000, 2))"
   ]
  },
  {
   "cell_type": "markdown",
   "metadata": {},
   "source": [
    "Podemos utilizar também valores do tipo `float`."
   ]
  },
  {
   "cell_type": "code",
   "execution_count": 8,
   "metadata": {
    "ExecuteTime": {
     "end_time": "2021-01-25T11:56:26.142311Z",
     "start_time": "2021-01-25T11:56:26.061364Z"
    }
   },
   "outputs": [
    {
     "data": {
      "application/vnd.jupyter.widget-view+json": {
       "model_id": "9fc2c0a137724394aeec4ccbc08ed1a0",
       "version_major": 2,
       "version_minor": 0
      },
      "text/plain": [
       "interactive(children=(FloatSlider(value=5000.5, description='x', max=10000.0, min=1.0, step=0.5), Output()), _…"
      ]
     },
     "metadata": {},
     "output_type": "display_data"
    },
    {
     "data": {
      "text/plain": [
       "<function __main__.euler(x)>"
      ]
     },
     "execution_count": 8,
     "metadata": {},
     "output_type": "execute_result"
    }
   ],
   "source": [
    "interact(euler, x=(1.0, 10000, 0.5))"
   ]
  },
  {
   "cell_type": "markdown",
   "metadata": {},
   "source": [
    "Também é possível passar argumentos to tipo texto. Neste caso será mostrada uma lista com as opções disponíveis."
   ]
  },
  {
   "cell_type": "code",
   "execution_count": 9,
   "metadata": {
    "ExecuteTime": {
     "end_time": "2021-01-25T11:56:41.844449Z",
     "start_time": "2021-01-25T11:56:41.752177Z"
    }
   },
   "outputs": [
    {
     "data": {
      "application/vnd.jupyter.widget-view+json": {
       "model_id": "57b5fab22b61408e9cb08164b411bb7a",
       "version_major": 2,
       "version_minor": 0
      },
      "text/plain": [
       "interactive(children=(Dropdown(description='x', options=('A1', 'A2', 'A3', 'A4', 'A5'), value='A1'), Output())…"
      ]
     },
     "metadata": {},
     "output_type": "display_data"
    },
    {
     "data": {
      "text/plain": [
       "<function __main__.funcao_teste(x)>"
      ]
     },
     "execution_count": 9,
     "metadata": {},
     "output_type": "execute_result"
    }
   ],
   "source": [
    "options = \"A1 A2 A3 A4 A5\".split(\" \")\n",
    "interact(funcao_teste, x=options)"
   ]
  },
  {
   "cell_type": "markdown",
   "metadata": {},
   "source": [
    "Caso se tenha uma função com mais de um parâmetro de entrada e queira-se deixar um parâmetro fixo, é possível fazer isso utilizando o método `fixes`"
   ]
  },
  {
   "cell_type": "code",
   "execution_count": 10,
   "metadata": {
    "ExecuteTime": {
     "end_time": "2021-01-25T11:58:04.350004Z",
     "start_time": "2021-01-25T11:58:04.333271Z"
    }
   },
   "outputs": [],
   "source": [
    "def power(x, y, n):\n",
    "    return (x**y + y)/n"
   ]
  },
  {
   "cell_type": "code",
   "execution_count": 11,
   "metadata": {
    "ExecuteTime": {
     "end_time": "2021-01-25T11:58:05.867881Z",
     "start_time": "2021-01-25T11:58:05.763559Z"
    }
   },
   "outputs": [
    {
     "data": {
      "application/vnd.jupyter.widget-view+json": {
       "model_id": "10b37ab9ffcd4a118ebb2ac6a5bc316d",
       "version_major": 2,
       "version_minor": 0
      },
      "text/plain": [
       "interactive(children=(IntSlider(value=5, description='x', max=10), IntSlider(value=9, description='n', max=20,…"
      ]
     },
     "metadata": {},
     "output_type": "display_data"
    },
    {
     "data": {
      "text/plain": [
       "<function __main__.power(x, y, n)>"
      ]
     },
     "execution_count": 11,
     "metadata": {},
     "output_type": "execute_result"
    }
   ],
   "source": [
    "interact(power,\n",
    "         x=(0, 10, 1),\n",
    "         n=(1, 20, 2),\n",
    "         y=fixed(2))"
   ]
  },
  {
   "cell_type": "markdown",
   "metadata": {},
   "source": [
    "### Método  `interactive`\n",
    "\n",
    "Jupyter Widgets possui outro método que permite armazenar um Widgets para ser utilizado posteriormente. O método `interactive` retorna um objeto que não é mostrado automaticamente, para conseguir visualizar o Widged criado se deve utilizar o método Display."
   ]
  },
  {
   "cell_type": "code",
   "execution_count": 12,
   "metadata": {
    "ExecuteTime": {
     "end_time": "2021-01-25T12:00:16.631295Z",
     "start_time": "2021-01-25T12:00:16.619894Z"
    }
   },
   "outputs": [],
   "source": [
    "from IPython.display import display\n",
    "def power_print(x, y, n):\n",
    "    return print((x**y + y)/n)"
   ]
  },
  {
   "cell_type": "code",
   "execution_count": 13,
   "metadata": {
    "ExecuteTime": {
     "end_time": "2021-01-25T12:00:21.141132Z",
     "start_time": "2021-01-25T12:00:21.056759Z"
    }
   },
   "outputs": [],
   "source": [
    "widget = interactive(power_print,\n",
    "                     x=(0, 10, 1),\n",
    "                     n=(1, 20, 2),\n",
    "                     y=(2, 8, 0.5))"
   ]
  },
  {
   "cell_type": "code",
   "execution_count": 15,
   "metadata": {
    "ExecuteTime": {
     "end_time": "2021-01-25T12:00:51.119351Z",
     "start_time": "2021-01-25T12:00:51.101711Z"
    }
   },
   "outputs": [
    {
     "data": {
      "text/plain": [
       "ipywidgets.widgets.interaction.interactive"
      ]
     },
     "execution_count": 15,
     "metadata": {},
     "output_type": "execute_result"
    }
   ],
   "source": [
    "type(widget)"
   ]
  },
  {
   "cell_type": "code",
   "execution_count": 16,
   "metadata": {
    "ExecuteTime": {
     "end_time": "2021-01-25T12:00:53.324495Z",
     "start_time": "2021-01-25T12:00:53.293355Z"
    }
   },
   "outputs": [
    {
     "data": {
      "text/plain": [
       "(IntSlider(value=9, description='x', max=10),\n",
       " FloatSlider(value=2.5, description='y', max=8.0, min=2.0, step=0.5),\n",
       " IntSlider(value=15, description='n', max=20, min=1, step=2),\n",
       " Output(outputs=({'output_type': 'stream', 'text': '16.366666666666667\\n', 'name': 'stdout'},)))"
      ]
     },
     "execution_count": 16,
     "metadata": {},
     "output_type": "execute_result"
    }
   ],
   "source": [
    "widget.children"
   ]
  },
  {
   "cell_type": "code",
   "execution_count": 17,
   "metadata": {
    "ExecuteTime": {
     "end_time": "2021-01-25T12:01:07.546978Z",
     "start_time": "2021-01-25T12:01:07.498746Z"
    }
   },
   "outputs": [
    {
     "data": {
      "application/vnd.jupyter.widget-view+json": {
       "model_id": "171cb2c85b904905a27cde4b5a095937",
       "version_major": 2,
       "version_minor": 0
      },
      "text/plain": [
       "interactive(children=(IntSlider(value=9, description='x', max=10), FloatSlider(value=2.5, description='y', max…"
      ]
     },
     "metadata": {},
     "output_type": "display_data"
    }
   ],
   "source": [
    "display(widget)"
   ]
  },
  {
   "cell_type": "code",
   "execution_count": 19,
   "metadata": {
    "ExecuteTime": {
     "end_time": "2021-01-25T12:01:37.893556Z",
     "start_time": "2021-01-25T12:01:37.877893Z"
    }
   },
   "outputs": [
    {
     "data": {
      "text/plain": [
       "{'x': 8, 'y': 5.5, 'n': 17}"
      ]
     },
     "execution_count": 19,
     "metadata": {},
     "output_type": "execute_result"
    }
   ],
   "source": [
    "widget.kwargs"
   ]
  },
  {
   "cell_type": "markdown",
   "metadata": {},
   "source": [
    "Podemos modificar e controlar a saida do widgets utilizando o método `widgets.interactive_output`."
   ]
  },
  {
   "cell_type": "code",
   "execution_count": 20,
   "metadata": {
    "ExecuteTime": {
     "end_time": "2021-01-25T12:02:05.832435Z",
     "start_time": "2021-01-25T12:02:05.737626Z"
    }
   },
   "outputs": [
    {
     "data": {
      "application/vnd.jupyter.widget-view+json": {
       "model_id": "7b74f268be4249419f100b81d8af4dba",
       "version_major": 2,
       "version_minor": 0
      },
      "text/plain": [
       "HBox(children=(IntSlider(value=0), IntSlider(value=0), IntSlider(value=0)))"
      ]
     },
     "metadata": {},
     "output_type": "display_data"
    },
    {
     "data": {
      "application/vnd.jupyter.widget-view+json": {
       "model_id": "8002f9275b514dd8bf4e5c11fd7f11ed",
       "version_major": 2,
       "version_minor": 0
      },
      "text/plain": [
       "Output()"
      ]
     },
     "metadata": {},
     "output_type": "display_data"
    }
   ],
   "source": [
    "a_value = widgets.IntSlider()\n",
    "b_value = widgets.IntSlider()\n",
    "c_value = widgets.IntSlider()\n",
    "ui = widgets.HBox([a_value, b_value, c_value])\n",
    "def f_teste(a, b, c):\n",
    "    print(f\"O valor do parâmetro a é: {a}\")\n",
    "    print(f\"O valor do parâmetro a é: {b}\")\n",
    "    print(f\"O valor do parâmetro a é: {c}\")\n",
    "    print(f\"A soma dos parâmetro a é: {a + b + c}\")\n",
    "    \n",
    "out = widgets.interactive_output(f_teste, \n",
    "                                 {'a': a_value,\n",
    "                                  'b': b_value,\n",
    "                                  'c': c_value})\n",
    "\n",
    "display(ui, out)"
   ]
  },
  {
   "cell_type": "code",
   "execution_count": 22,
   "metadata": {
    "ExecuteTime": {
     "end_time": "2021-01-25T12:02:43.651447Z",
     "start_time": "2021-01-25T12:02:43.642227Z"
    }
   },
   "outputs": [],
   "source": [
    "import matplotlib.pyplot as plt\n",
    "import numpy as np"
   ]
  },
  {
   "cell_type": "code",
   "execution_count": 23,
   "metadata": {
    "ExecuteTime": {
     "end_time": "2021-01-25T12:03:02.519288Z",
     "start_time": "2021-01-25T12:03:02.168913Z"
    }
   },
   "outputs": [
    {
     "data": {
      "application/vnd.jupyter.widget-view+json": {
       "model_id": "f6ae0dfac6844432aec6bbabe8f3d78b",
       "version_major": 2,
       "version_minor": 0
      },
      "text/plain": [
       "interactive(children=(FloatSlider(value=0.0, description='m', max=2.0, min=-2.0), FloatSlider(value=0.0, descr…"
      ]
     },
     "metadata": {},
     "output_type": "display_data"
    }
   ],
   "source": [
    "%matplotlib inline\n",
    "X = np.linspace(-10, 10, num=1000)\n",
    "def plot_interactive(m, b):\n",
    "    plt.figure(2)\n",
    "    plt.plot(X, m * X + b)\n",
    "    plt.ylim(-5, 5)\n",
    "    plt.show()\n",
    "\n",
    "interactive_plot = interactive(plot_interactive,\n",
    "                               m=(-2.0, 2.0),\n",
    "                               b=(-3, 3, 0.5))\n",
    "interactive_plot"
   ]
  },
  {
   "cell_type": "markdown",
   "metadata": {},
   "source": [
    "### Atualização continua desativada.\n",
    "Como se observou no exemplo anterior, cada vez que se modifica o valor de um argumento por meio do slidebar o método `interactive` realiza a atualização de forma automática. Isso ocasiona que a função seja executada n vezes até atingir o valor desejado, gerando um desface entre o resultado da função e o valor atual do argumento. Quando a função é simples (como no exemplo anterior) isso não representa maiores problemas, contudo funciones mais robustas podem ocasionar problemas.\n",
    "\n",
    "\n",
    "A biblioteca Jupyter Widgets possui 3 alternativas para contornar esses problemas:\n",
    "- `interact_manual`: Essa opção cria um botão que executa a função nos valores escolhidos;\n",
    "- `interactive`: Esse método permite a passagem de um dicionário com a chave manual e o valor True (`{'manual': True}`). O resultado é o mesmo do método `interact_manual`. Cabe destacar que esse argumento deve ser passado na segunda posição, logo depois do nome da função.;\n",
    "- `continuous_update=False`: Esse parâmetro pode ser passado ao método `interact`, nesse caso a atualização da função só acontece quando se libera o cursor do mouse."
   ]
  },
  {
   "cell_type": "code",
   "execution_count": 24,
   "metadata": {
    "ExecuteTime": {
     "end_time": "2021-01-25T12:04:46.213361Z",
     "start_time": "2021-01-25T12:04:46.055010Z"
    }
   },
   "outputs": [],
   "source": [
    "interactive?"
   ]
  },
  {
   "cell_type": "code",
   "execution_count": 25,
   "metadata": {
    "ExecuteTime": {
     "end_time": "2021-01-25T12:05:32.594035Z",
     "start_time": "2021-01-25T12:05:32.361132Z"
    }
   },
   "outputs": [
    {
     "data": {
      "application/vnd.jupyter.widget-view+json": {
       "model_id": "46dda5cad28e4d68a2e7b317a254770b",
       "version_major": 2,
       "version_minor": 0
      },
      "text/plain": [
       "interactive(children=(IntSlider(value=50, description='num', step=2), Output()), _dom_classes=('widget-interac…"
      ]
     },
     "metadata": {},
     "output_type": "display_data"
    }
   ],
   "source": [
    "%matplotlib inline\n",
    "m = 0.5\n",
    "b = -1\n",
    "def plot_interactive(num):\n",
    "    plt.figure(2)\n",
    "    X = np.linspace(-10,10, num)\n",
    "    plt.plot(X, m * X + b, marker=\"o\", ls=\"\")\n",
    "    plt.ylim(-5, 5)\n",
    "    plt.show()\n",
    "\n",
    "interactive_plot = interactive(plot_interactive, num=(0,100, 2))\n",
    "interactive_plot"
   ]
  },
  {
   "cell_type": "markdown",
   "metadata": {},
   "source": [
    "Aplicando `interact_manual`"
   ]
  },
  {
   "cell_type": "code",
   "execution_count": 26,
   "metadata": {
    "ExecuteTime": {
     "end_time": "2021-01-25T12:06:09.818380Z",
     "start_time": "2021-01-25T12:06:09.769968Z"
    }
   },
   "outputs": [
    {
     "data": {
      "application/vnd.jupyter.widget-view+json": {
       "model_id": "6a9f7fb2cb884f40a219cf72899ff019",
       "version_major": 2,
       "version_minor": 0
      },
      "text/plain": [
       "interactive(children=(IntSlider(value=50, description='num', step=2), Button(description='Run Interact', style…"
      ]
     },
     "metadata": {},
     "output_type": "display_data"
    },
    {
     "data": {
      "text/plain": [
       "<function __main__.plot_interactive(num)>"
      ]
     },
     "execution_count": 26,
     "metadata": {},
     "output_type": "execute_result"
    }
   ],
   "source": [
    "interact_manual(plot_interactive,\n",
    "                num=(0,100, 2))"
   ]
  },
  {
   "cell_type": "markdown",
   "metadata": {},
   "source": [
    "Aplicando `interactive` e `{'manual': True}`"
   ]
  },
  {
   "cell_type": "code",
   "execution_count": 29,
   "metadata": {
    "ExecuteTime": {
     "end_time": "2021-01-25T12:07:20.991166Z",
     "start_time": "2021-01-25T12:07:20.896894Z"
    }
   },
   "outputs": [
    {
     "data": {
      "application/vnd.jupyter.widget-view+json": {
       "model_id": "2510b8b8ce684ccda5ba1d89fe2ec9cd",
       "version_major": 2,
       "version_minor": 0
      },
      "text/plain": [
       "interactive(children=(IntSlider(value=50, description='num', step=2), Button(description='Run Interact', style…"
      ]
     },
     "metadata": {},
     "output_type": "display_data"
    }
   ],
   "source": [
    "interactive_plot = interactive(plot_interactive,\n",
    "                               {'manual': True},\n",
    "                               num=(0,100, 2))\n",
    "interactive_plot"
   ]
  },
  {
   "cell_type": "code",
   "execution_count": 27,
   "metadata": {
    "ExecuteTime": {
     "end_time": "2021-01-25T12:06:33.349628Z",
     "start_time": "2021-01-25T12:06:33.091653Z"
    }
   },
   "outputs": [
    {
     "data": {
      "application/vnd.jupyter.widget-view+json": {
       "model_id": "e198be99caeb41c3a9699dc4b79393a5",
       "version_major": 2,
       "version_minor": 0
      },
      "text/plain": [
       "interactive(children=(IntSlider(value=0, continuous_update=False, description='num', step=2), Output()), _dom_…"
      ]
     },
     "metadata": {},
     "output_type": "display_data"
    },
    {
     "data": {
      "text/plain": [
       "<function __main__.plot_interactive(num)>"
      ]
     },
     "execution_count": 27,
     "metadata": {},
     "output_type": "execute_result"
    }
   ],
   "source": [
    "interact(plot_interactive,\n",
    "         num=widgets.IntSlider(min=0,\n",
    "                               max=100,\n",
    "                               step=2,\n",
    "                               continuous_update=False))"
   ]
  },
  {
   "cell_type": "markdown",
   "metadata": {},
   "source": [
    "## Explorando arquivos usando interactividade\n",
    "\n",
    "Os recursos de interatividade permitem a explorar os diretórios e visualizar o conteúdo destes sem a necessidade de sair do Notebook."
   ]
  },
  {
   "cell_type": "code",
   "execution_count": 30,
   "metadata": {
    "ExecuteTime": {
     "end_time": "2021-01-25T12:07:54.376276Z",
     "start_time": "2021-01-25T12:07:54.223364Z"
    }
   },
   "outputs": [
    {
     "name": "stdout",
     "output_type": "stream",
     "text": [
      " Aula_14_Interactividade.ipynb\t'Ecommerce Purchases.csv'    Salaries.csv\r\n",
      " Codigo_externo_2.py\t\t img\t\t\t     text.txt\r\n",
      " Codigo_externo.py\t\t medium_data_2019_01_26\r\n",
      " county_facts.csv\t\t programming_languages.csv\r\n"
     ]
    }
   ],
   "source": [
    "!ls"
   ]
  },
  {
   "cell_type": "code",
   "execution_count": 31,
   "metadata": {
    "ExecuteTime": {
     "end_time": "2021-01-25T12:07:58.832907Z",
     "start_time": "2021-01-25T12:07:58.650589Z"
    }
   },
   "outputs": [
    {
     "name": "stdout",
     "output_type": "stream",
     "text": [
      "\u001b[01;34m.\u001b[00m\r\n",
      "├── Aula_14_Interactividade.ipynb\r\n",
      "├── Codigo_externo_2.py\r\n",
      "├── Codigo_externo.py\r\n",
      "├── county_facts.csv\r\n",
      "├── Ecommerce Purchases.csv\r\n",
      "├── \u001b[01;34mimg\u001b[00m\r\n",
      "│   ├── \u001b[01;34mbear\u001b[00m\r\n",
      "│   │   ├── \u001b[01;35mbear01.jpg\u001b[00m\r\n",
      "│   │   ├── \u001b[01;35mbear02.jpg\u001b[00m\r\n",
      "│   │   ├── \u001b[01;35mbear03.jpg\u001b[00m\r\n",
      "│   │   ├── \u001b[01;35mbear04.jpg\u001b[00m\r\n",
      "│   │   ├── \u001b[01;35mbear05.jpg\u001b[00m\r\n",
      "│   │   ├── \u001b[01;35mbear06.jpg\u001b[00m\r\n",
      "│   │   ├── \u001b[01;35mbear07.jpg\u001b[00m\r\n",
      "│   │   ├── \u001b[01;35mbear08.jpg\u001b[00m\r\n",
      "│   │   └── \u001b[01;35mbear09.jpg\u001b[00m\r\n",
      "│   ├── \u001b[01;34mcats\u001b[00m\r\n",
      "│   │   ├── \u001b[01;35mcat_01.jpg\u001b[00m\r\n",
      "│   │   ├── \u001b[01;35mcat_02.jpg\u001b[00m\r\n",
      "│   │   ├── \u001b[01;35mcat_03.jpg\u001b[00m\r\n",
      "│   │   ├── \u001b[01;35mcat_04.jpg\u001b[00m\r\n",
      "│   │   ├── \u001b[01;35mcat_05.jpg\u001b[00m\r\n",
      "│   │   ├── \u001b[01;35mcat_06.jpg\u001b[00m\r\n",
      "│   │   ├── \u001b[01;35mcat_07.jpg\u001b[00m\r\n",
      "│   │   ├── \u001b[01;35mcat_08.jpg\u001b[00m\r\n",
      "│   │   ├── \u001b[01;35mcat_09.jpg\u001b[00m\r\n",
      "│   │   └── \u001b[01;35mcat_10.jpg\u001b[00m\r\n",
      "│   ├── \u001b[01;34mdogs\u001b[00m\r\n",
      "│   │   ├── \u001b[01;35mdogs01.jpg\u001b[00m\r\n",
      "│   │   ├── \u001b[01;35mdogs02.jpg\u001b[00m\r\n",
      "│   │   ├── \u001b[01;35mdogs03.jpg\u001b[00m\r\n",
      "│   │   ├── \u001b[01;35mdogs04.jpg\u001b[00m\r\n",
      "│   │   ├── \u001b[01;35mdogs05.jpg\u001b[00m\r\n",
      "│   │   ├── \u001b[01;35mdogs06.jpg\u001b[00m\r\n",
      "│   │   ├── \u001b[01;35mdogs07.jpg\u001b[00m\r\n",
      "│   │   ├── \u001b[01;35mdogs08.jpg\u001b[00m\r\n",
      "│   │   └── \u001b[01;35mdogs09.jpg\u001b[00m\r\n",
      "│   └── \u001b[01;35minteratividade.png\u001b[00m\r\n",
      "├── medium_data_2019_01_26\r\n",
      "├── programming_languages.csv\r\n",
      "├── Salaries.csv\r\n",
      "└── text.txt\r\n",
      "\r\n",
      "4 directories, 38 files\r\n"
     ]
    }
   ],
   "source": [
    "!tree"
   ]
  },
  {
   "cell_type": "code",
   "execution_count": 32,
   "metadata": {
    "ExecuteTime": {
     "end_time": "2021-01-25T12:08:10.769277Z",
     "start_time": "2021-01-25T12:08:06.868401Z"
    }
   },
   "outputs": [],
   "source": [
    "!conda list -> text.txt"
   ]
  },
  {
   "cell_type": "code",
   "execution_count": 33,
   "metadata": {
    "ExecuteTime": {
     "end_time": "2021-01-25T12:08:13.513574Z",
     "start_time": "2021-01-25T12:08:13.350627Z"
    }
   },
   "outputs": [
    {
     "name": "stdout",
     "output_type": "stream",
     "text": [
      "\u001b[01;34m.\u001b[00m\r\n",
      "├── Aula_14_Interactividade.ipynb\r\n",
      "├── Codigo_externo_2.py\r\n",
      "├── Codigo_externo.py\r\n",
      "├── county_facts.csv\r\n",
      "├── Ecommerce Purchases.csv\r\n",
      "├── \u001b[01;34mimg\u001b[00m\r\n",
      "│   ├── \u001b[01;34mbear\u001b[00m\r\n",
      "│   │   ├── \u001b[01;35mbear01.jpg\u001b[00m\r\n",
      "│   │   ├── \u001b[01;35mbear02.jpg\u001b[00m\r\n",
      "│   │   ├── \u001b[01;35mbear03.jpg\u001b[00m\r\n",
      "│   │   ├── \u001b[01;35mbear04.jpg\u001b[00m\r\n",
      "│   │   ├── \u001b[01;35mbear05.jpg\u001b[00m\r\n",
      "│   │   ├── \u001b[01;35mbear06.jpg\u001b[00m\r\n",
      "│   │   ├── \u001b[01;35mbear07.jpg\u001b[00m\r\n",
      "│   │   ├── \u001b[01;35mbear08.jpg\u001b[00m\r\n",
      "│   │   └── \u001b[01;35mbear09.jpg\u001b[00m\r\n",
      "│   ├── \u001b[01;34mcats\u001b[00m\r\n",
      "│   │   ├── \u001b[01;35mcat_01.jpg\u001b[00m\r\n",
      "│   │   ├── \u001b[01;35mcat_02.jpg\u001b[00m\r\n",
      "│   │   ├── \u001b[01;35mcat_03.jpg\u001b[00m\r\n",
      "│   │   ├── \u001b[01;35mcat_04.jpg\u001b[00m\r\n",
      "│   │   ├── \u001b[01;35mcat_05.jpg\u001b[00m\r\n",
      "│   │   ├── \u001b[01;35mcat_06.jpg\u001b[00m\r\n",
      "│   │   ├── \u001b[01;35mcat_07.jpg\u001b[00m\r\n",
      "│   │   ├── \u001b[01;35mcat_08.jpg\u001b[00m\r\n",
      "│   │   ├── \u001b[01;35mcat_09.jpg\u001b[00m\r\n",
      "│   │   └── \u001b[01;35mcat_10.jpg\u001b[00m\r\n",
      "│   ├── \u001b[01;34mdogs\u001b[00m\r\n",
      "│   │   ├── \u001b[01;35mdogs01.jpg\u001b[00m\r\n",
      "│   │   ├── \u001b[01;35mdogs02.jpg\u001b[00m\r\n",
      "│   │   ├── \u001b[01;35mdogs03.jpg\u001b[00m\r\n",
      "│   │   ├── \u001b[01;35mdogs04.jpg\u001b[00m\r\n",
      "│   │   ├── \u001b[01;35mdogs05.jpg\u001b[00m\r\n",
      "│   │   ├── \u001b[01;35mdogs06.jpg\u001b[00m\r\n",
      "│   │   ├── \u001b[01;35mdogs07.jpg\u001b[00m\r\n",
      "│   │   ├── \u001b[01;35mdogs08.jpg\u001b[00m\r\n",
      "│   │   └── \u001b[01;35mdogs09.jpg\u001b[00m\r\n",
      "│   └── \u001b[01;35minteratividade.png\u001b[00m\r\n",
      "├── medium_data_2019_01_26\r\n",
      "├── programming_languages.csv\r\n",
      "├── Salaries.csv\r\n",
      "└── text.txt\r\n",
      "\r\n",
      "4 directories, 38 files\r\n"
     ]
    }
   ],
   "source": [
    "!tree"
   ]
  },
  {
   "cell_type": "code",
   "execution_count": 34,
   "metadata": {
    "ExecuteTime": {
     "end_time": "2021-01-25T12:08:26.504792Z",
     "start_time": "2021-01-25T12:08:26.495081Z"
    }
   },
   "outputs": [],
   "source": [
    "%pycat text.txt"
   ]
  },
  {
   "cell_type": "code",
   "execution_count": 35,
   "metadata": {
    "ExecuteTime": {
     "end_time": "2021-01-25T12:08:40.004023Z",
     "start_time": "2021-01-25T12:08:39.995058Z"
    }
   },
   "outputs": [],
   "source": [
    "import os\n",
    "from IPython.display import Image, display"
   ]
  },
  {
   "cell_type": "code",
   "execution_count": 36,
   "metadata": {
    "ExecuteTime": {
     "end_time": "2021-01-25T12:08:46.868796Z",
     "start_time": "2021-01-25T12:08:46.711201Z"
    }
   },
   "outputs": [
    {
     "data": {
      "application/vnd.jupyter.widget-view+json": {
       "model_id": "4520f51423934f16a52fa9fe40fca436",
       "version_major": 2,
       "version_minor": 0
      },
      "text/plain": [
       "interactive(children=(Dropdown(description='file', options=('cat_01.jpg', 'cat_07.jpg', 'cat_08.jpg', 'cat_10.…"
      ]
     },
     "metadata": {},
     "output_type": "display_data"
    }
   ],
   "source": [
    "os.listdir(\"./img/cats\")\n",
    "@interact\n",
    "def explorar_imd(file=os.listdir(\"./img/cats\")):\n",
    "    display(Image(f\"./img/cats/{file}\"))"
   ]
  },
  {
   "cell_type": "markdown",
   "metadata": {},
   "source": [
    "Jupyter Widgets permite criar Widgets dependentes. Isto representa que o resultado de um widgets vai afetar o comportamento do próximo."
   ]
  },
  {
   "cell_type": "code",
   "execution_count": 38,
   "metadata": {
    "ExecuteTime": {
     "end_time": "2021-01-25T12:10:17.572827Z",
     "start_time": "2021-01-25T12:10:17.382323Z"
    }
   },
   "outputs": [
    {
     "data": {
      "application/vnd.jupyter.widget-view+json": {
       "model_id": "893a116f1f814c96bde5f5a28c43e27a",
       "version_major": 2,
       "version_minor": 0
      },
      "text/plain": [
       "interactive(children=(Dropdown(description='pastas', options=('cats', 'dogs', 'bear'), value='cats'), Dropdown…"
      ]
     },
     "metadata": {},
     "output_type": "display_data"
    },
    {
     "data": {
      "text/plain": [
       "<function __main__.mostrar_image(pastas, arquivos)>"
      ]
     },
     "execution_count": 38,
     "metadata": {},
     "output_type": "execute_result"
    }
   ],
   "source": [
    "pastas = widgets.Dropdown(options=\"cats dogs bear\".split(\" \"))\n",
    "arquivos = widgets.Dropdown(options=os.listdir(f\"./img/{pastas.value}\"))\n",
    "\n",
    "def atualizando_arquivos(*args):\n",
    "    arquivos.options = os.listdir(f\"./img/{pastas.value}\")\n",
    "\n",
    "def mostrar_image(pastas, arquivos):\n",
    "    display(Image(f\"./img/{pastas}/{arquivos}\"))\n",
    "\n",
    "pastas.observe(atualizando_arquivos, 'value')\n",
    "interact(mostrar_image, pastas=pastas, arquivos=arquivos)"
   ]
  },
  {
   "cell_type": "markdown",
   "metadata": {},
   "source": [
    "---"
   ]
  },
  {
   "cell_type": "markdown",
   "metadata": {},
   "source": [
    "### Analisando dados de um DataFrame Pandas"
   ]
  },
  {
   "cell_type": "code",
   "execution_count": 39,
   "metadata": {
    "ExecuteTime": {
     "end_time": "2021-01-25T12:14:42.290092Z",
     "start_time": "2021-01-25T12:14:41.964675Z"
    }
   },
   "outputs": [],
   "source": [
    "import pandas as pd\n",
    "dados =  pd.read_csv(\"programming_languages.csv\")\n",
    "dados_2 = pd.read_parquet(\"medium_data_2019_01_26\")"
   ]
  },
  {
   "cell_type": "code",
   "execution_count": 40,
   "metadata": {
    "ExecuteTime": {
     "end_time": "2021-01-25T12:14:44.989904Z",
     "start_time": "2021-01-25T12:14:44.928761Z"
    }
   },
   "outputs": [
    {
     "data": {
      "text/html": [
       "<div>\n",
       "<style scoped>\n",
       "    .dataframe tbody tr th:only-of-type {\n",
       "        vertical-align: middle;\n",
       "    }\n",
       "\n",
       "    .dataframe tbody tr th {\n",
       "        vertical-align: top;\n",
       "    }\n",
       "\n",
       "    .dataframe thead th {\n",
       "        text-align: right;\n",
       "    }\n",
       "</style>\n",
       "<table border=\"1\" class=\"dataframe\">\n",
       "  <thead>\n",
       "    <tr style=\"text-align: right;\">\n",
       "      <th></th>\n",
       "      <th>year</th>\n",
       "      <th>language</th>\n",
       "    </tr>\n",
       "  </thead>\n",
       "  <tbody>\n",
       "    <tr>\n",
       "      <th>0</th>\n",
       "      <td>1951</td>\n",
       "      <td>Regional Assembly Language</td>\n",
       "    </tr>\n",
       "    <tr>\n",
       "      <th>1</th>\n",
       "      <td>1952</td>\n",
       "      <td>Autocode</td>\n",
       "    </tr>\n",
       "    <tr>\n",
       "      <th>2</th>\n",
       "      <td>1954</td>\n",
       "      <td>IPL</td>\n",
       "    </tr>\n",
       "    <tr>\n",
       "      <th>3</th>\n",
       "      <td>1955</td>\n",
       "      <td>FLOW-MATIC</td>\n",
       "    </tr>\n",
       "    <tr>\n",
       "      <th>4</th>\n",
       "      <td>1957</td>\n",
       "      <td>FORTRAN</td>\n",
       "    </tr>\n",
       "    <tr>\n",
       "      <th>...</th>\n",
       "      <td>...</td>\n",
       "      <td>...</td>\n",
       "    </tr>\n",
       "    <tr>\n",
       "      <th>68</th>\n",
       "      <td>2011</td>\n",
       "      <td>Kotlin</td>\n",
       "    </tr>\n",
       "    <tr>\n",
       "      <th>69</th>\n",
       "      <td>2011</td>\n",
       "      <td>Red</td>\n",
       "    </tr>\n",
       "    <tr>\n",
       "      <th>70</th>\n",
       "      <td>2011</td>\n",
       "      <td>Elixir</td>\n",
       "    </tr>\n",
       "    <tr>\n",
       "      <th>71</th>\n",
       "      <td>2012</td>\n",
       "      <td>Julia</td>\n",
       "    </tr>\n",
       "    <tr>\n",
       "      <th>72</th>\n",
       "      <td>2014</td>\n",
       "      <td>Swift</td>\n",
       "    </tr>\n",
       "  </tbody>\n",
       "</table>\n",
       "<p>73 rows × 2 columns</p>\n",
       "</div>"
      ],
      "text/plain": [
       "    year                    language\n",
       "0   1951  Regional Assembly Language\n",
       "1   1952                    Autocode\n",
       "2   1954                         IPL\n",
       "3   1955                  FLOW-MATIC\n",
       "4   1957                     FORTRAN\n",
       "..   ...                         ...\n",
       "68  2011                      Kotlin\n",
       "69  2011                         Red\n",
       "70  2011                      Elixir\n",
       "71  2012                       Julia\n",
       "72  2014                       Swift\n",
       "\n",
       "[73 rows x 2 columns]"
      ]
     },
     "execution_count": 40,
     "metadata": {},
     "output_type": "execute_result"
    }
   ],
   "source": [
    "dados"
   ]
  },
  {
   "cell_type": "code",
   "execution_count": 41,
   "metadata": {
    "ExecuteTime": {
     "end_time": "2021-01-25T12:14:54.976929Z",
     "start_time": "2021-01-25T12:14:54.867481Z"
    }
   },
   "outputs": [
    {
     "data": {
      "application/vnd.jupyter.widget-view+json": {
       "model_id": "63fd1b9951714d8994b802227de14a0f",
       "version_major": 2,
       "version_minor": 0
      },
      "text/plain": [
       "interactive(children=(Dropdown(description='year', options=(1951, 1952, 1954, 1955, 1957, 1958, 1959, 1962, 19…"
      ]
     },
     "metadata": {},
     "output_type": "display_data"
    }
   ],
   "source": [
    "@interact\n",
    "def filtragem_ano(year=dados.iloc[:,0].unique()):\n",
    "    display(dados.loc[dados[\"year\"]==year])"
   ]
  },
  {
   "cell_type": "code",
   "execution_count": 42,
   "metadata": {
    "ExecuteTime": {
     "end_time": "2021-01-25T12:15:15.586536Z",
     "start_time": "2021-01-25T12:15:15.490823Z"
    }
   },
   "outputs": [
    {
     "data": {
      "application/vnd.jupyter.widget-view+json": {
       "model_id": "d97b81174ab146ffb61f20ff864ea2d4",
       "version_major": 2,
       "version_minor": 0
      },
      "text/plain": [
       "interactive(children=(Dropdown(description='year', options=(1951, 1952, 1954, 1955, 1957, 1958, 1959, 1962, 19…"
      ]
     },
     "metadata": {},
     "output_type": "display_data"
    }
   ],
   "source": [
    "@interact\n",
    "def filtragem_anos(year=dados.iloc[:,0].unique()):\n",
    "    display(dados.loc[dados[\"year\"]>=year])"
   ]
  },
  {
   "cell_type": "code",
   "execution_count": 43,
   "metadata": {
    "ExecuteTime": {
     "end_time": "2021-01-25T12:16:00.164009Z",
     "start_time": "2021-01-25T12:16:00.065379Z"
    }
   },
   "outputs": [
    {
     "data": {
      "application/vnd.jupyter.widget-view+json": {
       "model_id": "09df668ad39c4eafb6af96c339af4b03",
       "version_major": 2,
       "version_minor": 0
      },
      "text/plain": [
       "interactive(children=(Dropdown(description='ano_inicial', options=(1951, 1952, 1954, 1955, 1957, 1958, 1959, 1…"
      ]
     },
     "metadata": {},
     "output_type": "display_data"
    }
   ],
   "source": [
    "@interact\n",
    "def filtragem_range_anos(ano_inicial=dados.iloc[:,0].unique(),\n",
    "                         ano_final=dados.iloc[:,0].unique()):\n",
    "    index_initial = dados[dados[\"year\"]==ano_inicial].index[-1]\n",
    "    index_final = dados[dados[\"year\"]==ano_final].index[-1] + 1\n",
    "    display(dados.iloc[index_initial:index_final, :])"
   ]
  },
  {
   "cell_type": "code",
   "execution_count": 54,
   "metadata": {
    "ExecuteTime": {
     "end_time": "2021-01-25T12:20:05.020563Z",
     "start_time": "2021-01-25T12:20:04.925292Z"
    }
   },
   "outputs": [
    {
     "data": {
      "application/vnd.jupyter.widget-view+json": {
       "model_id": "772d23e31998433e843fda74842d87e3",
       "version_major": 2,
       "version_minor": 0
      },
      "text/plain": [
       "interactive(children=(Text(value='', description='linguagem'), Output()), _dom_classes=('widget-interact',))"
      ]
     },
     "metadata": {},
     "output_type": "display_data"
    },
    {
     "data": {
      "text/plain": [
       "<function __main__.buscador(linguagem)>"
      ]
     },
     "execution_count": 54,
     "metadata": {},
     "output_type": "execute_result"
    }
   ],
   "source": [
    "def buscador(linguagem):\n",
    "    display(dados.loc[dados[\"language\"]==linguagem])\n",
    "interact(buscador, linguagem='')"
   ]
  },
  {
   "cell_type": "markdown",
   "metadata": {
    "ExecuteTime": {
     "end_time": "2021-01-21T19:36:02.061839Z",
     "start_time": "2021-01-21T19:36:02.009737Z"
    }
   },
   "source": [
    "Interatividade para descrever uma tabela"
   ]
  },
  {
   "cell_type": "code",
   "execution_count": 47,
   "metadata": {
    "ExecuteTime": {
     "end_time": "2021-01-25T12:18:33.460809Z",
     "start_time": "2021-01-25T12:18:33.440686Z"
    }
   },
   "outputs": [
    {
     "data": {
      "text/plain": [
       "Index(['claps', 'days_since_publication', 'fans', 'link', 'num_responses',\n",
       "       'publication', 'published_date', 'read_ratio', 'read_time', 'reads',\n",
       "       'started_date', 'tags', 'text', 'title', 'title_word_count', 'type',\n",
       "       'views', 'word_count', 'claps_per_word', 'editing_days',\n",
       "       '<tag>Education', '<tag>Data Science', '<tag>Towards Data Science',\n",
       "       '<tag>Machine Learning', '<tag>Python'],\n",
       "      dtype='object')"
      ]
     },
     "execution_count": 47,
     "metadata": {},
     "output_type": "execute_result"
    }
   ],
   "source": [
    "dados_2.columns"
   ]
  },
  {
   "cell_type": "code",
   "execution_count": 44,
   "metadata": {
    "ExecuteTime": {
     "end_time": "2021-01-25T12:16:40.312690Z",
     "start_time": "2021-01-25T12:16:40.237459Z"
    }
   },
   "outputs": [
    {
     "data": {
      "text/html": [
       "<div>\n",
       "<style scoped>\n",
       "    .dataframe tbody tr th:only-of-type {\n",
       "        vertical-align: middle;\n",
       "    }\n",
       "\n",
       "    .dataframe tbody tr th {\n",
       "        vertical-align: top;\n",
       "    }\n",
       "\n",
       "    .dataframe thead th {\n",
       "        text-align: right;\n",
       "    }\n",
       "</style>\n",
       "<table border=\"1\" class=\"dataframe\">\n",
       "  <thead>\n",
       "    <tr style=\"text-align: right;\">\n",
       "      <th></th>\n",
       "      <th>claps</th>\n",
       "      <th>days_since_publication</th>\n",
       "      <th>fans</th>\n",
       "      <th>link</th>\n",
       "      <th>num_responses</th>\n",
       "      <th>publication</th>\n",
       "      <th>published_date</th>\n",
       "      <th>read_ratio</th>\n",
       "      <th>read_time</th>\n",
       "      <th>reads</th>\n",
       "      <th>...</th>\n",
       "      <th>type</th>\n",
       "      <th>views</th>\n",
       "      <th>word_count</th>\n",
       "      <th>claps_per_word</th>\n",
       "      <th>editing_days</th>\n",
       "      <th>&lt;tag&gt;Education</th>\n",
       "      <th>&lt;tag&gt;Data Science</th>\n",
       "      <th>&lt;tag&gt;Towards Data Science</th>\n",
       "      <th>&lt;tag&gt;Machine Learning</th>\n",
       "      <th>&lt;tag&gt;Python</th>\n",
       "    </tr>\n",
       "  </thead>\n",
       "  <tbody>\n",
       "    <tr>\n",
       "      <th>129</th>\n",
       "      <td>2</td>\n",
       "      <td>597.301123</td>\n",
       "      <td>2</td>\n",
       "      <td>https://medium.com/p/screw-the-environment-but...</td>\n",
       "      <td>0</td>\n",
       "      <td>None</td>\n",
       "      <td>2017-06-10 14:25:00</td>\n",
       "      <td>42.17</td>\n",
       "      <td>7</td>\n",
       "      <td>70</td>\n",
       "      <td>...</td>\n",
       "      <td>published</td>\n",
       "      <td>166</td>\n",
       "      <td>1859</td>\n",
       "      <td>0.001076</td>\n",
       "      <td>0</td>\n",
       "      <td>0</td>\n",
       "      <td>0</td>\n",
       "      <td>0</td>\n",
       "      <td>0</td>\n",
       "      <td>0</td>\n",
       "    </tr>\n",
       "    <tr>\n",
       "      <th>125</th>\n",
       "      <td>18</td>\n",
       "      <td>589.983168</td>\n",
       "      <td>3</td>\n",
       "      <td>https://medium.com/p/the-vanquishing-of-war-pl...</td>\n",
       "      <td>0</td>\n",
       "      <td>None</td>\n",
       "      <td>2017-06-17 22:02:00</td>\n",
       "      <td>30.34</td>\n",
       "      <td>14</td>\n",
       "      <td>54</td>\n",
       "      <td>...</td>\n",
       "      <td>published</td>\n",
       "      <td>178</td>\n",
       "      <td>3891</td>\n",
       "      <td>0.004626</td>\n",
       "      <td>0</td>\n",
       "      <td>0</td>\n",
       "      <td>0</td>\n",
       "      <td>0</td>\n",
       "      <td>0</td>\n",
       "      <td>0</td>\n",
       "    </tr>\n",
       "    <tr>\n",
       "      <th>132</th>\n",
       "      <td>51</td>\n",
       "      <td>577.363292</td>\n",
       "      <td>20</td>\n",
       "      <td>https://medium.com/p/capstone-project-mercedes...</td>\n",
       "      <td>0</td>\n",
       "      <td>None</td>\n",
       "      <td>2017-06-30 12:55:00</td>\n",
       "      <td>20.02</td>\n",
       "      <td>42</td>\n",
       "      <td>222</td>\n",
       "      <td>...</td>\n",
       "      <td>published</td>\n",
       "      <td>1109</td>\n",
       "      <td>12025</td>\n",
       "      <td>0.004241</td>\n",
       "      <td>0</td>\n",
       "      <td>0</td>\n",
       "      <td>0</td>\n",
       "      <td>0</td>\n",
       "      <td>1</td>\n",
       "      <td>1</td>\n",
       "    </tr>\n",
       "    <tr>\n",
       "      <th>126</th>\n",
       "      <td>0</td>\n",
       "      <td>576.520688</td>\n",
       "      <td>0</td>\n",
       "      <td>https://medium.com/p/home-of-the-scared-5af0fe...</td>\n",
       "      <td>0</td>\n",
       "      <td>None</td>\n",
       "      <td>2017-07-01 09:08:00</td>\n",
       "      <td>35.85</td>\n",
       "      <td>9</td>\n",
       "      <td>19</td>\n",
       "      <td>...</td>\n",
       "      <td>published</td>\n",
       "      <td>53</td>\n",
       "      <td>2533</td>\n",
       "      <td>0.000000</td>\n",
       "      <td>0</td>\n",
       "      <td>0</td>\n",
       "      <td>0</td>\n",
       "      <td>0</td>\n",
       "      <td>0</td>\n",
       "      <td>0</td>\n",
       "    </tr>\n",
       "    <tr>\n",
       "      <th>121</th>\n",
       "      <td>0</td>\n",
       "      <td>572.533035</td>\n",
       "      <td>0</td>\n",
       "      <td>https://medium.com/p/the-triumph-of-peace-f485...</td>\n",
       "      <td>0</td>\n",
       "      <td>None</td>\n",
       "      <td>2017-07-05 08:51:00</td>\n",
       "      <td>8.47</td>\n",
       "      <td>14</td>\n",
       "      <td>5</td>\n",
       "      <td>...</td>\n",
       "      <td>published</td>\n",
       "      <td>59</td>\n",
       "      <td>3892</td>\n",
       "      <td>0.000000</td>\n",
       "      <td>1</td>\n",
       "      <td>0</td>\n",
       "      <td>0</td>\n",
       "      <td>0</td>\n",
       "      <td>0</td>\n",
       "      <td>0</td>\n",
       "    </tr>\n",
       "    <tr>\n",
       "      <th>...</th>\n",
       "      <td>...</td>\n",
       "      <td>...</td>\n",
       "      <td>...</td>\n",
       "      <td>...</td>\n",
       "      <td>...</td>\n",
       "      <td>...</td>\n",
       "      <td>...</td>\n",
       "      <td>...</td>\n",
       "      <td>...</td>\n",
       "      <td>...</td>\n",
       "      <td>...</td>\n",
       "      <td>...</td>\n",
       "      <td>...</td>\n",
       "      <td>...</td>\n",
       "      <td>...</td>\n",
       "      <td>...</td>\n",
       "      <td>...</td>\n",
       "      <td>...</td>\n",
       "      <td>...</td>\n",
       "      <td>...</td>\n",
       "      <td>...</td>\n",
       "    </tr>\n",
       "    <tr>\n",
       "      <th>6</th>\n",
       "      <td>370</td>\n",
       "      <td>16.337142</td>\n",
       "      <td>50</td>\n",
       "      <td>https://towardsdatascience.com/the-reality-of-...</td>\n",
       "      <td>1</td>\n",
       "      <td>Towards Data Science</td>\n",
       "      <td>2019-01-12 13:33:00</td>\n",
       "      <td>25.00</td>\n",
       "      <td>11</td>\n",
       "      <td>343</td>\n",
       "      <td>...</td>\n",
       "      <td>published</td>\n",
       "      <td>1372</td>\n",
       "      <td>2795</td>\n",
       "      <td>0.132379</td>\n",
       "      <td>8</td>\n",
       "      <td>1</td>\n",
       "      <td>0</td>\n",
       "      <td>0</td>\n",
       "      <td>0</td>\n",
       "      <td>0</td>\n",
       "    </tr>\n",
       "    <tr>\n",
       "      <th>3</th>\n",
       "      <td>315</td>\n",
       "      <td>12.204314</td>\n",
       "      <td>44</td>\n",
       "      <td>https://towardsdatascience.com/the-myth-of-us-...</td>\n",
       "      <td>0</td>\n",
       "      <td>Towards Data Science</td>\n",
       "      <td>2019-01-16 16:44:00</td>\n",
       "      <td>26.47</td>\n",
       "      <td>10</td>\n",
       "      <td>266</td>\n",
       "      <td>...</td>\n",
       "      <td>published</td>\n",
       "      <td>1005</td>\n",
       "      <td>2532</td>\n",
       "      <td>0.124408</td>\n",
       "      <td>15</td>\n",
       "      <td>1</td>\n",
       "      <td>0</td>\n",
       "      <td>0</td>\n",
       "      <td>0</td>\n",
       "      <td>0</td>\n",
       "    </tr>\n",
       "    <tr>\n",
       "      <th>5</th>\n",
       "      <td>2000</td>\n",
       "      <td>8.215425</td>\n",
       "      <td>356</td>\n",
       "      <td>https://towardsdatascience.com/the-poisson-dis...</td>\n",
       "      <td>7</td>\n",
       "      <td>Towards Data Science</td>\n",
       "      <td>2019-01-20 16:28:00</td>\n",
       "      <td>26.35</td>\n",
       "      <td>14</td>\n",
       "      <td>2320</td>\n",
       "      <td>...</td>\n",
       "      <td>published</td>\n",
       "      <td>8806</td>\n",
       "      <td>3371</td>\n",
       "      <td>0.593296</td>\n",
       "      <td>0</td>\n",
       "      <td>1</td>\n",
       "      <td>1</td>\n",
       "      <td>1</td>\n",
       "      <td>0</td>\n",
       "      <td>0</td>\n",
       "    </tr>\n",
       "    <tr>\n",
       "      <th>1</th>\n",
       "      <td>53</td>\n",
       "      <td>3.547005</td>\n",
       "      <td>16</td>\n",
       "      <td>https://towardsdatascience.com/a-great-public-...</td>\n",
       "      <td>2</td>\n",
       "      <td>Towards Data Science</td>\n",
       "      <td>2019-01-25 08:30:00</td>\n",
       "      <td>17.17</td>\n",
       "      <td>13</td>\n",
       "      <td>96</td>\n",
       "      <td>...</td>\n",
       "      <td>published</td>\n",
       "      <td>559</td>\n",
       "      <td>3549</td>\n",
       "      <td>0.014934</td>\n",
       "      <td>1</td>\n",
       "      <td>1</td>\n",
       "      <td>0</td>\n",
       "      <td>0</td>\n",
       "      <td>0</td>\n",
       "      <td>0</td>\n",
       "    </tr>\n",
       "    <tr>\n",
       "      <th>17</th>\n",
       "      <td>901</td>\n",
       "      <td>1.218629</td>\n",
       "      <td>49</td>\n",
       "      <td>https://towardsdatascience.com/interactive-con...</td>\n",
       "      <td>1</td>\n",
       "      <td>Towards Data Science</td>\n",
       "      <td>2019-01-27 16:23:00</td>\n",
       "      <td>23.81</td>\n",
       "      <td>6</td>\n",
       "      <td>165</td>\n",
       "      <td>...</td>\n",
       "      <td>published</td>\n",
       "      <td>693</td>\n",
       "      <td>1191</td>\n",
       "      <td>0.756507</td>\n",
       "      <td>0</td>\n",
       "      <td>1</td>\n",
       "      <td>1</td>\n",
       "      <td>1</td>\n",
       "      <td>0</td>\n",
       "      <td>0</td>\n",
       "    </tr>\n",
       "  </tbody>\n",
       "</table>\n",
       "<p>133 rows × 25 columns</p>\n",
       "</div>"
      ],
      "text/plain": [
       "     claps  days_since_publication  fans  \\\n",
       "129      2              597.301123     2   \n",
       "125     18              589.983168     3   \n",
       "132     51              577.363292    20   \n",
       "126      0              576.520688     0   \n",
       "121      0              572.533035     0   \n",
       "..     ...                     ...   ...   \n",
       "6      370               16.337142    50   \n",
       "3      315               12.204314    44   \n",
       "5     2000                8.215425   356   \n",
       "1       53                3.547005    16   \n",
       "17     901                1.218629    49   \n",
       "\n",
       "                                                  link  num_responses  \\\n",
       "129  https://medium.com/p/screw-the-environment-but...              0   \n",
       "125  https://medium.com/p/the-vanquishing-of-war-pl...              0   \n",
       "132  https://medium.com/p/capstone-project-mercedes...              0   \n",
       "126  https://medium.com/p/home-of-the-scared-5af0fe...              0   \n",
       "121  https://medium.com/p/the-triumph-of-peace-f485...              0   \n",
       "..                                                 ...            ...   \n",
       "6    https://towardsdatascience.com/the-reality-of-...              1   \n",
       "3    https://towardsdatascience.com/the-myth-of-us-...              0   \n",
       "5    https://towardsdatascience.com/the-poisson-dis...              7   \n",
       "1    https://towardsdatascience.com/a-great-public-...              2   \n",
       "17   https://towardsdatascience.com/interactive-con...              1   \n",
       "\n",
       "              publication      published_date  read_ratio  read_time  reads  \\\n",
       "129                  None 2017-06-10 14:25:00       42.17          7     70   \n",
       "125                  None 2017-06-17 22:02:00       30.34         14     54   \n",
       "132                  None 2017-06-30 12:55:00       20.02         42    222   \n",
       "126                  None 2017-07-01 09:08:00       35.85          9     19   \n",
       "121                  None 2017-07-05 08:51:00        8.47         14      5   \n",
       "..                    ...                 ...         ...        ...    ...   \n",
       "6    Towards Data Science 2019-01-12 13:33:00       25.00         11    343   \n",
       "3    Towards Data Science 2019-01-16 16:44:00       26.47         10    266   \n",
       "5    Towards Data Science 2019-01-20 16:28:00       26.35         14   2320   \n",
       "1    Towards Data Science 2019-01-25 08:30:00       17.17         13     96   \n",
       "17   Towards Data Science 2019-01-27 16:23:00       23.81          6    165   \n",
       "\n",
       "     ...       type views word_count claps_per_word  editing_days  \\\n",
       "129  ...  published   166       1859       0.001076             0   \n",
       "125  ...  published   178       3891       0.004626             0   \n",
       "132  ...  published  1109      12025       0.004241             0   \n",
       "126  ...  published    53       2533       0.000000             0   \n",
       "121  ...  published    59       3892       0.000000             1   \n",
       "..   ...        ...   ...        ...            ...           ...   \n",
       "6    ...  published  1372       2795       0.132379             8   \n",
       "3    ...  published  1005       2532       0.124408            15   \n",
       "5    ...  published  8806       3371       0.593296             0   \n",
       "1    ...  published   559       3549       0.014934             1   \n",
       "17   ...  published   693       1191       0.756507             0   \n",
       "\n",
       "    <tag>Education  <tag>Data Science  <tag>Towards Data Science  \\\n",
       "129              0                  0                          0   \n",
       "125              0                  0                          0   \n",
       "132              0                  0                          0   \n",
       "126              0                  0                          0   \n",
       "121              0                  0                          0   \n",
       "..             ...                ...                        ...   \n",
       "6                1                  0                          0   \n",
       "3                1                  0                          0   \n",
       "5                1                  1                          1   \n",
       "1                1                  0                          0   \n",
       "17               1                  1                          1   \n",
       "\n",
       "     <tag>Machine Learning  <tag>Python  \n",
       "129                      0            0  \n",
       "125                      0            0  \n",
       "132                      1            1  \n",
       "126                      0            0  \n",
       "121                      0            0  \n",
       "..                     ...          ...  \n",
       "6                        0            0  \n",
       "3                        0            0  \n",
       "5                        0            0  \n",
       "1                        0            0  \n",
       "17                       0            0  \n",
       "\n",
       "[133 rows x 25 columns]"
      ]
     },
     "execution_count": 44,
     "metadata": {},
     "output_type": "execute_result"
    }
   ],
   "source": [
    "dados_2"
   ]
  },
  {
   "cell_type": "code",
   "execution_count": 45,
   "metadata": {
    "ExecuteTime": {
     "end_time": "2021-01-25T12:17:16.437070Z",
     "start_time": "2021-01-25T12:17:16.233719Z"
    }
   },
   "outputs": [
    {
     "data": {
      "application/vnd.jupyter.widget-view+json": {
       "model_id": "075ab55a41a14a98b58c440e1c64e514",
       "version_major": 2,
       "version_minor": 0
      },
      "text/plain": [
       "interactive(children=(IntRangeSlider(value=(3400, 10200), continuous_update=False, description='Claps:', max=1…"
      ]
     },
     "metadata": {},
     "output_type": "display_data"
    },
    {
     "data": {
      "text/plain": [
       "<function __main__.filtragem_2(claps, read_ratio, read_time, read, colum_1, colum_2, colum_3)>"
      ]
     },
     "execution_count": 45,
     "metadata": {},
     "output_type": "execute_result"
    }
   ],
   "source": [
    "def filtragem_2(claps,\n",
    "                read_ratio,\n",
    "                read_time,\n",
    "                read,\n",
    "                colum_1,\n",
    "                colum_2,\n",
    "                colum_3):\n",
    "    claps_initial, claps_end = claps\n",
    "    read_ratio_initial, read_ratio_end = read_ratio\n",
    "    read_time_initial, read_time_end = read_time\n",
    "    read_initial, read_end = read\n",
    "    display(dados_2.loc[(dados_2[\"claps\"] >= claps_initial) &\\\n",
    "                (dados_2[\"claps\"] <= claps_end) &\\\n",
    "                (dados_2[\"read_ratio\"] >= read_ratio_initial) &\\\n",
    "                (dados_2[\"read_ratio\"] <= read_ratio_end) &\\\n",
    "                (dados_2[\"read_time\"] >= read_time_initial) &\\\n",
    "                (dados_2[\"read_time\"] <= read_time_end) &\\\n",
    "                (dados_2[\"read_time\"] >= read_initial) &\\\n",
    "                (dados_2[\"read_time\"] <= read_end),\n",
    "                [colum_1, colum_2, colum_3]])\n",
    "\n",
    "claps_widget = widgets.IntRangeSlider(min=dados_2[\"claps\"].unique().min(),\n",
    "                                      max=dados_2[\"claps\"].unique().max(),\n",
    "                                      step=1,\n",
    "                                      description='Claps:',\n",
    "                                      disabled=False,\n",
    "                                      continuous_update=False,\n",
    "                                      orientation='horizontal',\n",
    "                                      readout=True,\n",
    "                                      readout_format='d')\n",
    "read_ratio_widget = widgets.IntRangeSlider(min=int(dados_2[\"read_ratio\"].unique().min()),\n",
    "                                      max=int(dados_2[\"read_ratio\"].unique().max()),\n",
    "                                      step=1,\n",
    "                                      description='Read ratio:',\n",
    "                                      disabled=False,\n",
    "                                      continuous_update=False,\n",
    "                                      orientation='horizontal',\n",
    "                                      readout=True,\n",
    "                                      readout_format='d')\n",
    "read_time_widget = widgets.IntRangeSlider(min=int(dados_2[\"read_time\"].unique().min()),\n",
    "                                      max=int(dados_2[\"read_time\"].unique().max()),\n",
    "                                      step=1,\n",
    "                                      description='Read Time:',\n",
    "                                      disabled=False,\n",
    "                                      continuous_update=False,\n",
    "                                      orientation='horizontal',\n",
    "                                      readout=True,\n",
    "                                      readout_format='d')\n",
    "read_widget = widgets.IntRangeSlider(min=dados_2[\"reads\"].unique().min(),\n",
    "                                     max=dados_2[\"reads\"].unique().max(),\n",
    "                                     step=1,\n",
    "                                     description='Reads:',\n",
    "                                     disabled=False,\n",
    "                                     continuous_update=False,\n",
    "                                     orientation='horizontal',\n",
    "                                     readout=True,\n",
    "                                     readout_format='d')\n",
    "interact(filtragem_2,\n",
    "         claps=claps_widget,\n",
    "                read_ratio=read_ratio_widget,\n",
    "                read_time=read_time_widget,\n",
    "                read=read_widget,\n",
    "                colum_1=dados_2.columns,\n",
    "                colum_2=dados_2.columns,\n",
    "                colum_3=dados_2.columns)\n"
   ]
  },
  {
   "cell_type": "code",
   "execution_count": 48,
   "metadata": {
    "ExecuteTime": {
     "end_time": "2021-01-25T12:18:42.744086Z",
     "start_time": "2021-01-25T12:18:42.619807Z"
    }
   },
   "outputs": [
    {
     "data": {
      "application/vnd.jupyter.widget-view+json": {
       "model_id": "f7fdd1a003ab4fe1abf5dbd9d2f7b35f",
       "version_major": 2,
       "version_minor": 0
      },
      "text/plain": [
       "interactive(children=(Dropdown(description='colum_1', options=('claps', 'days_since_publication', 'fans', 'lin…"
      ]
     },
     "metadata": {},
     "output_type": "display_data"
    }
   ],
   "source": [
    "@interact\n",
    "def correlation_interactive(colum_1=dados_2.columns,\n",
    "                            colum_2=dados_2.columns,\n",
    "                            metho=[\"pearson\", \"kendall\", \"spearman\"]):\n",
    "    display(dados_2.loc[:, [colum_1, colum_2]].corr())"
   ]
  }
 ],
 "metadata": {
  "hide_input": false,
  "kernelspec": {
   "display_name": "Python 3",
   "language": "python",
   "name": "python3"
  },
  "language_info": {
   "codemirror_mode": {
    "name": "ipython",
    "version": 3
   },
   "file_extension": ".py",
   "mimetype": "text/x-python",
   "name": "python",
   "nbconvert_exporter": "python",
   "pygments_lexer": "ipython3",
   "version": "3.8.5"
  },
  "toc": {
   "base_numbering": 1,
   "nav_menu": {},
   "number_sections": false,
   "sideBar": true,
   "skip_h1_title": false,
   "title_cell": "Table of Contents",
   "title_sidebar": "Contents",
   "toc_cell": false,
   "toc_position": {
    "height": "calc(100% - 180px)",
    "left": "10px",
    "top": "150px",
    "width": "352px"
   },
   "toc_section_display": true,
   "toc_window_display": false
  },
  "varInspector": {
   "cols": {
    "lenName": 16,
    "lenType": 16,
    "lenVar": 40
   },
   "kernels_config": {
    "python": {
     "delete_cmd_postfix": "",
     "delete_cmd_prefix": "del ",
     "library": "var_list.py",
     "varRefreshCmd": "print(var_dic_list())"
    },
    "r": {
     "delete_cmd_postfix": ") ",
     "delete_cmd_prefix": "rm(",
     "library": "var_list.r",
     "varRefreshCmd": "cat(var_dic_list()) "
    }
   },
   "types_to_exclude": [
    "module",
    "function",
    "builtin_function_or_method",
    "instance",
    "_Feature"
   ],
   "window_display": false
  }
 },
 "nbformat": 4,
 "nbformat_minor": 4
}
