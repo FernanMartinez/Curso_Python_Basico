{
 "cells": [
  {
   "cell_type": "markdown",
   "metadata": {},
   "source": [
    "# Aula 14 interactividade com Python\n",
    "<img  src='img/interatividade.png' width='600' height='300' />\n",
    "\n",
    "As bibliotecas estudadas até o momento permitem trabalhar com grande quantidade de dados (Pandas), realizar operações matriciais e algebraicas de forma fácil e rápida (Numpy), e visualizar dados de forma personalizada e simples (Matplotlib). A interação dessas bibliotecas ajudam a realizar análises de grande quantidade de dados de forma rápida e com pouca codificação. Contudo, existem cenários onde é necessário realizar a exploração dos dados de forma interativa e assim obter mais informação; e com os conhecimentos adquiridos até o momento isso não se é possível.\n",
    "\n",
    "Neste serie de conversas vamos ver como tornar nossos códigos e nossas análises mais interativas e obter mais informação das bases de dados. Vale a pena destacar que a interatividade em Python somente é possível ao se utiliza Jupyter-Lab ou Jupyter-notebook. As IDEs como VSCode, Spyder, Pycharme e outras não permitem realizar interatividade, contudo algumas IDES (como Spyder e Vscode) possuem extensões que permitem trabalhar com Notebook.\n",
    "\n",
    "---\n",
    "\n",
    "<font size=\"5\"> Os tópicos que vamos abordar nesta série de conversas são:</font>\n",
    "\n",
    "- Comandos mágicos em Jupyter-notebook\n",
    "- Aspectos básicos de interatividade com ipwidgets\n",
    " - Importando a biblioteca\n",
    " - Método `interact`\n",
    " - Método `interactive`\n",
    " - Atualização continua desativada\n",
    "- Explorando arquivos usando interactividade\n",
    "- Analisando dados de um DataFrame Pandas\n",
    "- Interatividade em gráficos\n",
    " - Matplotlib\n",
    " - Pyplot\n",
    " - Figuras 3D"
   ]
  },
  {
   "cell_type": "markdown",
   "metadata": {
    "hide_input": false
   },
   "source": [
    "## Comandos mágicos em Jupyter-notebook"
   ]
  },
  {
   "cell_type": "markdown",
   "metadata": {},
   "source": [
    "Os comandos mágicos ou [Magic Commands](https://ipython.readthedocs.io/en/stable/interactive/magics.html) são aprimoramentos realizados à linguagem que fazem com que um código tenha mais funcionalidades (além das mostradas previamente). Existe mais de 100 comandos mágicos disponíveis, por esse motivo analisaremos os mais relevantes.\n",
    "\n",
    "Os comandos mágicos podem ser utilizados de duas formas: a primeira utilizando o prefixo `%` e a segunda utilizando os prefixos `%%`. No primeiro caso o comando magico será aplicado unicamente na linha seguinte linha. No segundo caso o comando é ópera na célula inteira."
   ]
  },
  {
   "cell_type": "markdown",
   "metadata": {
    "ExecuteTime": {
     "end_time": "2021-01-19T18:34:39.116641Z",
     "start_time": "2021-01-19T18:34:39.100898Z"
    }
   },
   "source": [
    "O comando `%lsmagic` lista todas os comandos mágicos disponíveis."
   ]
  },
  {
   "cell_type": "code",
   "execution_count": null,
   "metadata": {
    "ExecuteTime": {
     "end_time": "2021-01-27T14:38:16.225324Z",
     "start_time": "2021-01-27T14:38:16.182969Z"
    }
   },
   "outputs": [],
   "source": [
    "%lsmagic"
   ]
  },
  {
   "cell_type": "markdown",
   "metadata": {},
   "source": [
    "O comando `%ls` permite exibir o conteúdo do diretório atual. Possivelmente esse comando não esteja disponível para Windows."
   ]
  },
  {
   "cell_type": "code",
   "execution_count": null,
   "metadata": {
    "ExecuteTime": {
     "end_time": "2021-01-27T14:38:49.982345Z",
     "start_time": "2021-01-27T14:38:49.826446Z"
    }
   },
   "outputs": [],
   "source": [
    "%ls"
   ]
  },
  {
   "cell_type": "markdown",
   "metadata": {},
   "source": [
    "O comando `%run` permite executar um código externo ao notebook."
   ]
  },
  {
   "cell_type": "code",
   "execution_count": null,
   "metadata": {
    "ExecuteTime": {
     "end_time": "2021-01-25T11:34:31.751762Z",
     "start_time": "2021-01-25T11:34:31.736636Z"
    },
    "hide_input": false
   },
   "outputs": [],
   "source": [
    "%run Codigo_externo.py"
   ]
  },
  {
   "cell_type": "markdown",
   "metadata": {},
   "source": [
    "O comando `%pycat` permite visualizar um código contigo em outro"
   ]
  },
  {
   "cell_type": "code",
   "execution_count": null,
   "metadata": {
    "ExecuteTime": {
     "end_time": "2021-01-27T14:33:54.690704Z",
     "start_time": "2021-01-27T14:33:54.667456Z"
    }
   },
   "outputs": [],
   "source": [
    "%pycat Codigo_externo_2.py"
   ]
  },
  {
   "cell_type": "markdown",
   "metadata": {},
   "source": [
    "O comando `%pycat` permite importar um código contido em outro arquivo para o notebook atual."
   ]
  },
  {
   "cell_type": "code",
   "execution_count": null,
   "metadata": {
    "ExecuteTime": {
     "end_time": "2021-01-27T14:36:20.975371Z",
     "start_time": "2021-01-27T14:36:20.969336Z"
    }
   },
   "outputs": [],
   "source": [
    "# %load Codigo_externo_2.py"
   ]
  },
  {
   "cell_type": "markdown",
   "metadata": {},
   "source": [
    "O comando `%%write` permite escrever o conteudo de uma celula no arquivo de texto ou arquivo .py."
   ]
  },
  {
   "cell_type": "code",
   "execution_count": null,
   "metadata": {
    "ExecuteTime": {
     "end_time": "2021-02-10T11:31:30.465478Z",
     "start_time": "2021-02-10T11:31:30.456799Z"
    }
   },
   "outputs": [],
   "source": [
    "%%writefile Codigo_externo_2_MOD.py\n",
    "import numpy as np\n",
    "import matplotlib.pyplot as plt\n",
    "y = np.random.rand(1000)\n",
    "x = np.arange(0, len(y))\n",
    "plt.scatter(x=x,\n",
    "            y=y,\n",
    "            s=np.random.uniform(low=1, high=50, size=len(x)),\n",
    "            c=np.random.uniform(low=1, high=10, size=len(x)),marker=\"*\",\n",
    "            alpha=0.8)\n",
    "plt.title(\"Scarter plot\")\n",
    "plt.xlabel(\"Eixo X\")\n",
    "plt.ylabel(\"Eixo Y\")"
   ]
  },
  {
   "cell_type": "markdown",
   "metadata": {},
   "source": [
    "Os comandos mágicos `%who`, `%who_ls`, `%whos` permitem:\n",
    "- Visualizar as variáveis como uma lista;\n",
    "- Visualizar as variáveis com informação reduzida;\n",
    "- Visualizar as variáveis com informação detalhada."
   ]
  },
  {
   "cell_type": "code",
   "execution_count": null,
   "metadata": {
    "ExecuteTime": {
     "end_time": "2021-02-10T11:31:43.231868Z",
     "start_time": "2021-02-10T11:31:43.227571Z"
    }
   },
   "outputs": [],
   "source": [
    "a = \"25\"\n",
    "b = 25\n",
    "c = (a, b)\n",
    "d = [a, b, c]\n",
    "e = \"Fernan\"\n",
    "f = 5"
   ]
  },
  {
   "cell_type": "code",
   "execution_count": null,
   "metadata": {
    "ExecuteTime": {
     "end_time": "2021-02-10T11:31:44.891422Z",
     "start_time": "2021-02-10T11:31:44.878578Z"
    }
   },
   "outputs": [],
   "source": [
    "%who_ls"
   ]
  },
  {
   "cell_type": "code",
   "execution_count": null,
   "metadata": {
    "ExecuteTime": {
     "end_time": "2021-02-10T11:31:46.640985Z",
     "start_time": "2021-02-10T11:31:46.634106Z"
    }
   },
   "outputs": [],
   "source": [
    "%who"
   ]
  },
  {
   "cell_type": "code",
   "execution_count": null,
   "metadata": {
    "ExecuteTime": {
     "end_time": "2021-02-10T11:31:48.999581Z",
     "start_time": "2021-02-10T11:31:48.995102Z"
    }
   },
   "outputs": [],
   "source": [
    "%who str"
   ]
  },
  {
   "cell_type": "code",
   "execution_count": null,
   "metadata": {
    "ExecuteTime": {
     "end_time": "2021-02-10T11:31:50.499674Z",
     "start_time": "2021-02-10T11:31:50.494712Z"
    }
   },
   "outputs": [],
   "source": [
    "%who int"
   ]
  },
  {
   "cell_type": "code",
   "execution_count": null,
   "metadata": {
    "ExecuteTime": {
     "end_time": "2021-02-10T11:31:51.844476Z",
     "start_time": "2021-02-10T11:31:51.840363Z"
    }
   },
   "outputs": [],
   "source": [
    "%who list tuple"
   ]
  },
  {
   "cell_type": "code",
   "execution_count": null,
   "metadata": {
    "ExecuteTime": {
     "end_time": "2021-02-10T11:31:53.162846Z",
     "start_time": "2021-02-10T11:31:53.151205Z"
    }
   },
   "outputs": [],
   "source": [
    "%whos"
   ]
  },
  {
   "cell_type": "code",
   "execution_count": null,
   "metadata": {
    "ExecuteTime": {
     "end_time": "2021-02-10T11:31:55.265604Z",
     "start_time": "2021-02-10T11:31:55.257356Z"
    }
   },
   "outputs": [],
   "source": [
    "%whos str ndarray tuple int list"
   ]
  },
  {
   "cell_type": "markdown",
   "metadata": {},
   "source": [
    "Como vimos previamente a geração de figuras diretamente no notebook não mostra uma eficiência muito alta em termos de interatividade devido a que não é possível explorar áreas específicas do gráfico. Para solucionar esse problema contamos com 2 comandos mágicos:\n",
    "\n",
    "- `%matplolib`: esse comando permite a visualização dos gráficos numa janela externa a qual possui mais opções;\n",
    "\n",
    "- `%matplolib notebook`: esse moando permite a visualização dos gráficos diretamente no notebook. As opções apresentadas neste modo de visualização são as mesmas das mostradas previamente."
   ]
  },
  {
   "cell_type": "markdown",
   "metadata": {},
   "source": [
    "Visualização sem nenhum comando magico."
   ]
  },
  {
   "cell_type": "code",
   "execution_count": null,
   "metadata": {
    "ExecuteTime": {
     "end_time": "2021-02-10T11:32:12.020653Z",
     "start_time": "2021-02-10T11:32:11.448640Z"
    }
   },
   "outputs": [],
   "source": [
    "import numpy as np\n",
    "import matplotlib.pyplot as plt\n",
    "y = np.random.rand(1000)\n",
    "x = np.arange(0, len(y))\n",
    "plt.scatter(x=x,\n",
    "            y=y,\n",
    "            s=np.random.uniform(low=1,\n",
    "                                high=50,\n",
    "                                size=len(x)),\n",
    "            c=np.random.uniform(low=1,\n",
    "                                high=10,\n",
    "                                size=len(x)),\n",
    "            marker=\"*\",\n",
    "            alpha=0.8)\n",
    "plt.title(\"Scarter plot\", size=20)\n",
    "plt.xlabel(\"Eixo X\",size=20)\n",
    "plt.ylabel(\"Eixo Y\",size=20)"
   ]
  },
  {
   "cell_type": "markdown",
   "metadata": {},
   "source": [
    "Visualização com `%matplotlib`."
   ]
  },
  {
   "cell_type": "code",
   "execution_count": null,
   "metadata": {
    "ExecuteTime": {
     "end_time": "2021-02-10T11:32:15.218099Z",
     "start_time": "2021-02-10T11:32:14.756136Z"
    }
   },
   "outputs": [],
   "source": [
    "import numpy as np\n",
    "import matplotlib.pyplot as plt\n",
    "%matplotlib\n",
    "y = np.random.rand(1000)\n",
    "x = np.arange(0, len(y))\n",
    "plt.scatter(x=x,\n",
    "            y=y,\n",
    "            s=np.random.uniform(low=1, high=50, size=len(x)),\n",
    "            c=np.random.uniform(low=1, high=10, size=len(x)),marker=\"*\",\n",
    "            alpha=0.8)\n",
    "plt.title(\"Scarter plot\", size=20)\n",
    "plt.xlabel(\"Eixo X\",size=20)\n",
    "plt.ylabel(\"Eixo Y\",size=20)"
   ]
  },
  {
   "cell_type": "markdown",
   "metadata": {},
   "source": [
    "Visualização com `%matplotlib notebook`."
   ]
  },
  {
   "cell_type": "code",
   "execution_count": 1,
   "metadata": {
    "ExecuteTime": {
     "end_time": "2021-02-10T11:32:39.050628Z",
     "start_time": "2021-02-10T11:32:38.688849Z"
    }
   },
   "outputs": [
    {
     "data": {
      "application/javascript": [
       "/* Put everything inside the global mpl namespace */\n",
       "/* global mpl */\n",
       "window.mpl = {};\n",
       "\n",
       "mpl.get_websocket_type = function () {\n",
       "    if (typeof WebSocket !== 'undefined') {\n",
       "        return WebSocket;\n",
       "    } else if (typeof MozWebSocket !== 'undefined') {\n",
       "        return MozWebSocket;\n",
       "    } else {\n",
       "        alert(\n",
       "            'Your browser does not have WebSocket support. ' +\n",
       "                'Please try Chrome, Safari or Firefox ≥ 6. ' +\n",
       "                'Firefox 4 and 5 are also supported but you ' +\n",
       "                'have to enable WebSockets in about:config.'\n",
       "        );\n",
       "    }\n",
       "};\n",
       "\n",
       "mpl.figure = function (figure_id, websocket, ondownload, parent_element) {\n",
       "    this.id = figure_id;\n",
       "\n",
       "    this.ws = websocket;\n",
       "\n",
       "    this.supports_binary = this.ws.binaryType !== undefined;\n",
       "\n",
       "    if (!this.supports_binary) {\n",
       "        var warnings = document.getElementById('mpl-warnings');\n",
       "        if (warnings) {\n",
       "            warnings.style.display = 'block';\n",
       "            warnings.textContent =\n",
       "                'This browser does not support binary websocket messages. ' +\n",
       "                'Performance may be slow.';\n",
       "        }\n",
       "    }\n",
       "\n",
       "    this.imageObj = new Image();\n",
       "\n",
       "    this.context = undefined;\n",
       "    this.message = undefined;\n",
       "    this.canvas = undefined;\n",
       "    this.rubberband_canvas = undefined;\n",
       "    this.rubberband_context = undefined;\n",
       "    this.format_dropdown = undefined;\n",
       "\n",
       "    this.image_mode = 'full';\n",
       "\n",
       "    this.root = document.createElement('div');\n",
       "    this.root.setAttribute('style', 'display: inline-block');\n",
       "    this._root_extra_style(this.root);\n",
       "\n",
       "    parent_element.appendChild(this.root);\n",
       "\n",
       "    this._init_header(this);\n",
       "    this._init_canvas(this);\n",
       "    this._init_toolbar(this);\n",
       "\n",
       "    var fig = this;\n",
       "\n",
       "    this.waiting = false;\n",
       "\n",
       "    this.ws.onopen = function () {\n",
       "        fig.send_message('supports_binary', { value: fig.supports_binary });\n",
       "        fig.send_message('send_image_mode', {});\n",
       "        if (fig.ratio !== 1) {\n",
       "            fig.send_message('set_dpi_ratio', { dpi_ratio: fig.ratio });\n",
       "        }\n",
       "        fig.send_message('refresh', {});\n",
       "    };\n",
       "\n",
       "    this.imageObj.onload = function () {\n",
       "        if (fig.image_mode === 'full') {\n",
       "            // Full images could contain transparency (where diff images\n",
       "            // almost always do), so we need to clear the canvas so that\n",
       "            // there is no ghosting.\n",
       "            fig.context.clearRect(0, 0, fig.canvas.width, fig.canvas.height);\n",
       "        }\n",
       "        fig.context.drawImage(fig.imageObj, 0, 0);\n",
       "    };\n",
       "\n",
       "    this.imageObj.onunload = function () {\n",
       "        fig.ws.close();\n",
       "    };\n",
       "\n",
       "    this.ws.onmessage = this._make_on_message_function(this);\n",
       "\n",
       "    this.ondownload = ondownload;\n",
       "};\n",
       "\n",
       "mpl.figure.prototype._init_header = function () {\n",
       "    var titlebar = document.createElement('div');\n",
       "    titlebar.classList =\n",
       "        'ui-dialog-titlebar ui-widget-header ui-corner-all ui-helper-clearfix';\n",
       "    var titletext = document.createElement('div');\n",
       "    titletext.classList = 'ui-dialog-title';\n",
       "    titletext.setAttribute(\n",
       "        'style',\n",
       "        'width: 100%; text-align: center; padding: 3px;'\n",
       "    );\n",
       "    titlebar.appendChild(titletext);\n",
       "    this.root.appendChild(titlebar);\n",
       "    this.header = titletext;\n",
       "};\n",
       "\n",
       "mpl.figure.prototype._canvas_extra_style = function (_canvas_div) {};\n",
       "\n",
       "mpl.figure.prototype._root_extra_style = function (_canvas_div) {};\n",
       "\n",
       "mpl.figure.prototype._init_canvas = function () {\n",
       "    var fig = this;\n",
       "\n",
       "    var canvas_div = (this.canvas_div = document.createElement('div'));\n",
       "    canvas_div.setAttribute(\n",
       "        'style',\n",
       "        'border: 1px solid #ddd;' +\n",
       "            'box-sizing: content-box;' +\n",
       "            'clear: both;' +\n",
       "            'min-height: 1px;' +\n",
       "            'min-width: 1px;' +\n",
       "            'outline: 0;' +\n",
       "            'overflow: hidden;' +\n",
       "            'position: relative;' +\n",
       "            'resize: both;'\n",
       "    );\n",
       "\n",
       "    function on_keyboard_event_closure(name) {\n",
       "        return function (event) {\n",
       "            return fig.key_event(event, name);\n",
       "        };\n",
       "    }\n",
       "\n",
       "    canvas_div.addEventListener(\n",
       "        'keydown',\n",
       "        on_keyboard_event_closure('key_press')\n",
       "    );\n",
       "    canvas_div.addEventListener(\n",
       "        'keyup',\n",
       "        on_keyboard_event_closure('key_release')\n",
       "    );\n",
       "\n",
       "    this._canvas_extra_style(canvas_div);\n",
       "    this.root.appendChild(canvas_div);\n",
       "\n",
       "    var canvas = (this.canvas = document.createElement('canvas'));\n",
       "    canvas.classList.add('mpl-canvas');\n",
       "    canvas.setAttribute('style', 'box-sizing: content-box;');\n",
       "\n",
       "    this.context = canvas.getContext('2d');\n",
       "\n",
       "    var backingStore =\n",
       "        this.context.backingStorePixelRatio ||\n",
       "        this.context.webkitBackingStorePixelRatio ||\n",
       "        this.context.mozBackingStorePixelRatio ||\n",
       "        this.context.msBackingStorePixelRatio ||\n",
       "        this.context.oBackingStorePixelRatio ||\n",
       "        this.context.backingStorePixelRatio ||\n",
       "        1;\n",
       "\n",
       "    this.ratio = (window.devicePixelRatio || 1) / backingStore;\n",
       "    if (this.ratio !== 1) {\n",
       "        fig.send_message('set_dpi_ratio', { dpi_ratio: this.ratio });\n",
       "    }\n",
       "\n",
       "    var rubberband_canvas = (this.rubberband_canvas = document.createElement(\n",
       "        'canvas'\n",
       "    ));\n",
       "    rubberband_canvas.setAttribute(\n",
       "        'style',\n",
       "        'box-sizing: content-box; position: absolute; left: 0; top: 0; z-index: 1;'\n",
       "    );\n",
       "\n",
       "    var resizeObserver = new ResizeObserver(function (entries) {\n",
       "        var nentries = entries.length;\n",
       "        for (var i = 0; i < nentries; i++) {\n",
       "            var entry = entries[i];\n",
       "            var width, height;\n",
       "            if (entry.contentBoxSize) {\n",
       "                if (entry.contentBoxSize instanceof Array) {\n",
       "                    // Chrome 84 implements new version of spec.\n",
       "                    width = entry.contentBoxSize[0].inlineSize;\n",
       "                    height = entry.contentBoxSize[0].blockSize;\n",
       "                } else {\n",
       "                    // Firefox implements old version of spec.\n",
       "                    width = entry.contentBoxSize.inlineSize;\n",
       "                    height = entry.contentBoxSize.blockSize;\n",
       "                }\n",
       "            } else {\n",
       "                // Chrome <84 implements even older version of spec.\n",
       "                width = entry.contentRect.width;\n",
       "                height = entry.contentRect.height;\n",
       "            }\n",
       "\n",
       "            // Keep the size of the canvas and rubber band canvas in sync with\n",
       "            // the canvas container.\n",
       "            if (entry.devicePixelContentBoxSize) {\n",
       "                // Chrome 84 implements new version of spec.\n",
       "                canvas.setAttribute(\n",
       "                    'width',\n",
       "                    entry.devicePixelContentBoxSize[0].inlineSize\n",
       "                );\n",
       "                canvas.setAttribute(\n",
       "                    'height',\n",
       "                    entry.devicePixelContentBoxSize[0].blockSize\n",
       "                );\n",
       "            } else {\n",
       "                canvas.setAttribute('width', width * fig.ratio);\n",
       "                canvas.setAttribute('height', height * fig.ratio);\n",
       "            }\n",
       "            canvas.setAttribute(\n",
       "                'style',\n",
       "                'width: ' + width + 'px; height: ' + height + 'px;'\n",
       "            );\n",
       "\n",
       "            rubberband_canvas.setAttribute('width', width);\n",
       "            rubberband_canvas.setAttribute('height', height);\n",
       "\n",
       "            // And update the size in Python. We ignore the initial 0/0 size\n",
       "            // that occurs as the element is placed into the DOM, which should\n",
       "            // otherwise not happen due to the minimum size styling.\n",
       "            if (width != 0 && height != 0) {\n",
       "                fig.request_resize(width, height);\n",
       "            }\n",
       "        }\n",
       "    });\n",
       "    resizeObserver.observe(canvas_div);\n",
       "\n",
       "    function on_mouse_event_closure(name) {\n",
       "        return function (event) {\n",
       "            return fig.mouse_event(event, name);\n",
       "        };\n",
       "    }\n",
       "\n",
       "    rubberband_canvas.addEventListener(\n",
       "        'mousedown',\n",
       "        on_mouse_event_closure('button_press')\n",
       "    );\n",
       "    rubberband_canvas.addEventListener(\n",
       "        'mouseup',\n",
       "        on_mouse_event_closure('button_release')\n",
       "    );\n",
       "    // Throttle sequential mouse events to 1 every 20ms.\n",
       "    rubberband_canvas.addEventListener(\n",
       "        'mousemove',\n",
       "        on_mouse_event_closure('motion_notify')\n",
       "    );\n",
       "\n",
       "    rubberband_canvas.addEventListener(\n",
       "        'mouseenter',\n",
       "        on_mouse_event_closure('figure_enter')\n",
       "    );\n",
       "    rubberband_canvas.addEventListener(\n",
       "        'mouseleave',\n",
       "        on_mouse_event_closure('figure_leave')\n",
       "    );\n",
       "\n",
       "    canvas_div.addEventListener('wheel', function (event) {\n",
       "        if (event.deltaY < 0) {\n",
       "            event.step = 1;\n",
       "        } else {\n",
       "            event.step = -1;\n",
       "        }\n",
       "        on_mouse_event_closure('scroll')(event);\n",
       "    });\n",
       "\n",
       "    canvas_div.appendChild(canvas);\n",
       "    canvas_div.appendChild(rubberband_canvas);\n",
       "\n",
       "    this.rubberband_context = rubberband_canvas.getContext('2d');\n",
       "    this.rubberband_context.strokeStyle = '#000000';\n",
       "\n",
       "    this._resize_canvas = function (width, height, forward) {\n",
       "        if (forward) {\n",
       "            canvas_div.style.width = width + 'px';\n",
       "            canvas_div.style.height = height + 'px';\n",
       "        }\n",
       "    };\n",
       "\n",
       "    // Disable right mouse context menu.\n",
       "    this.rubberband_canvas.addEventListener('contextmenu', function (_e) {\n",
       "        event.preventDefault();\n",
       "        return false;\n",
       "    });\n",
       "\n",
       "    function set_focus() {\n",
       "        canvas.focus();\n",
       "        canvas_div.focus();\n",
       "    }\n",
       "\n",
       "    window.setTimeout(set_focus, 100);\n",
       "};\n",
       "\n",
       "mpl.figure.prototype._init_toolbar = function () {\n",
       "    var fig = this;\n",
       "\n",
       "    var toolbar = document.createElement('div');\n",
       "    toolbar.classList = 'mpl-toolbar';\n",
       "    this.root.appendChild(toolbar);\n",
       "\n",
       "    function on_click_closure(name) {\n",
       "        return function (_event) {\n",
       "            return fig.toolbar_button_onclick(name);\n",
       "        };\n",
       "    }\n",
       "\n",
       "    function on_mouseover_closure(tooltip) {\n",
       "        return function (event) {\n",
       "            if (!event.currentTarget.disabled) {\n",
       "                return fig.toolbar_button_onmouseover(tooltip);\n",
       "            }\n",
       "        };\n",
       "    }\n",
       "\n",
       "    fig.buttons = {};\n",
       "    var buttonGroup = document.createElement('div');\n",
       "    buttonGroup.classList = 'mpl-button-group';\n",
       "    for (var toolbar_ind in mpl.toolbar_items) {\n",
       "        var name = mpl.toolbar_items[toolbar_ind][0];\n",
       "        var tooltip = mpl.toolbar_items[toolbar_ind][1];\n",
       "        var image = mpl.toolbar_items[toolbar_ind][2];\n",
       "        var method_name = mpl.toolbar_items[toolbar_ind][3];\n",
       "\n",
       "        if (!name) {\n",
       "            /* Instead of a spacer, we start a new button group. */\n",
       "            if (buttonGroup.hasChildNodes()) {\n",
       "                toolbar.appendChild(buttonGroup);\n",
       "            }\n",
       "            buttonGroup = document.createElement('div');\n",
       "            buttonGroup.classList = 'mpl-button-group';\n",
       "            continue;\n",
       "        }\n",
       "\n",
       "        var button = (fig.buttons[name] = document.createElement('button'));\n",
       "        button.classList = 'mpl-widget';\n",
       "        button.setAttribute('role', 'button');\n",
       "        button.setAttribute('aria-disabled', 'false');\n",
       "        button.addEventListener('click', on_click_closure(method_name));\n",
       "        button.addEventListener('mouseover', on_mouseover_closure(tooltip));\n",
       "\n",
       "        var icon_img = document.createElement('img');\n",
       "        icon_img.src = '_images/' + image + '.png';\n",
       "        icon_img.srcset = '_images/' + image + '_large.png 2x';\n",
       "        icon_img.alt = tooltip;\n",
       "        button.appendChild(icon_img);\n",
       "\n",
       "        buttonGroup.appendChild(button);\n",
       "    }\n",
       "\n",
       "    if (buttonGroup.hasChildNodes()) {\n",
       "        toolbar.appendChild(buttonGroup);\n",
       "    }\n",
       "\n",
       "    var fmt_picker = document.createElement('select');\n",
       "    fmt_picker.classList = 'mpl-widget';\n",
       "    toolbar.appendChild(fmt_picker);\n",
       "    this.format_dropdown = fmt_picker;\n",
       "\n",
       "    for (var ind in mpl.extensions) {\n",
       "        var fmt = mpl.extensions[ind];\n",
       "        var option = document.createElement('option');\n",
       "        option.selected = fmt === mpl.default_extension;\n",
       "        option.innerHTML = fmt;\n",
       "        fmt_picker.appendChild(option);\n",
       "    }\n",
       "\n",
       "    var status_bar = document.createElement('span');\n",
       "    status_bar.classList = 'mpl-message';\n",
       "    toolbar.appendChild(status_bar);\n",
       "    this.message = status_bar;\n",
       "};\n",
       "\n",
       "mpl.figure.prototype.request_resize = function (x_pixels, y_pixels) {\n",
       "    // Request matplotlib to resize the figure. Matplotlib will then trigger a resize in the client,\n",
       "    // which will in turn request a refresh of the image.\n",
       "    this.send_message('resize', { width: x_pixels, height: y_pixels });\n",
       "};\n",
       "\n",
       "mpl.figure.prototype.send_message = function (type, properties) {\n",
       "    properties['type'] = type;\n",
       "    properties['figure_id'] = this.id;\n",
       "    this.ws.send(JSON.stringify(properties));\n",
       "};\n",
       "\n",
       "mpl.figure.prototype.send_draw_message = function () {\n",
       "    if (!this.waiting) {\n",
       "        this.waiting = true;\n",
       "        this.ws.send(JSON.stringify({ type: 'draw', figure_id: this.id }));\n",
       "    }\n",
       "};\n",
       "\n",
       "mpl.figure.prototype.handle_save = function (fig, _msg) {\n",
       "    var format_dropdown = fig.format_dropdown;\n",
       "    var format = format_dropdown.options[format_dropdown.selectedIndex].value;\n",
       "    fig.ondownload(fig, format);\n",
       "};\n",
       "\n",
       "mpl.figure.prototype.handle_resize = function (fig, msg) {\n",
       "    var size = msg['size'];\n",
       "    if (size[0] !== fig.canvas.width || size[1] !== fig.canvas.height) {\n",
       "        fig._resize_canvas(size[0], size[1], msg['forward']);\n",
       "        fig.send_message('refresh', {});\n",
       "    }\n",
       "};\n",
       "\n",
       "mpl.figure.prototype.handle_rubberband = function (fig, msg) {\n",
       "    var x0 = msg['x0'] / fig.ratio;\n",
       "    var y0 = (fig.canvas.height - msg['y0']) / fig.ratio;\n",
       "    var x1 = msg['x1'] / fig.ratio;\n",
       "    var y1 = (fig.canvas.height - msg['y1']) / fig.ratio;\n",
       "    x0 = Math.floor(x0) + 0.5;\n",
       "    y0 = Math.floor(y0) + 0.5;\n",
       "    x1 = Math.floor(x1) + 0.5;\n",
       "    y1 = Math.floor(y1) + 0.5;\n",
       "    var min_x = Math.min(x0, x1);\n",
       "    var min_y = Math.min(y0, y1);\n",
       "    var width = Math.abs(x1 - x0);\n",
       "    var height = Math.abs(y1 - y0);\n",
       "\n",
       "    fig.rubberband_context.clearRect(\n",
       "        0,\n",
       "        0,\n",
       "        fig.canvas.width / fig.ratio,\n",
       "        fig.canvas.height / fig.ratio\n",
       "    );\n",
       "\n",
       "    fig.rubberband_context.strokeRect(min_x, min_y, width, height);\n",
       "};\n",
       "\n",
       "mpl.figure.prototype.handle_figure_label = function (fig, msg) {\n",
       "    // Updates the figure title.\n",
       "    fig.header.textContent = msg['label'];\n",
       "};\n",
       "\n",
       "mpl.figure.prototype.handle_cursor = function (fig, msg) {\n",
       "    var cursor = msg['cursor'];\n",
       "    switch (cursor) {\n",
       "        case 0:\n",
       "            cursor = 'pointer';\n",
       "            break;\n",
       "        case 1:\n",
       "            cursor = 'default';\n",
       "            break;\n",
       "        case 2:\n",
       "            cursor = 'crosshair';\n",
       "            break;\n",
       "        case 3:\n",
       "            cursor = 'move';\n",
       "            break;\n",
       "    }\n",
       "    fig.rubberband_canvas.style.cursor = cursor;\n",
       "};\n",
       "\n",
       "mpl.figure.prototype.handle_message = function (fig, msg) {\n",
       "    fig.message.textContent = msg['message'];\n",
       "};\n",
       "\n",
       "mpl.figure.prototype.handle_draw = function (fig, _msg) {\n",
       "    // Request the server to send over a new figure.\n",
       "    fig.send_draw_message();\n",
       "};\n",
       "\n",
       "mpl.figure.prototype.handle_image_mode = function (fig, msg) {\n",
       "    fig.image_mode = msg['mode'];\n",
       "};\n",
       "\n",
       "mpl.figure.prototype.handle_history_buttons = function (fig, msg) {\n",
       "    for (var key in msg) {\n",
       "        if (!(key in fig.buttons)) {\n",
       "            continue;\n",
       "        }\n",
       "        fig.buttons[key].disabled = !msg[key];\n",
       "        fig.buttons[key].setAttribute('aria-disabled', !msg[key]);\n",
       "    }\n",
       "};\n",
       "\n",
       "mpl.figure.prototype.handle_navigate_mode = function (fig, msg) {\n",
       "    if (msg['mode'] === 'PAN') {\n",
       "        fig.buttons['Pan'].classList.add('active');\n",
       "        fig.buttons['Zoom'].classList.remove('active');\n",
       "    } else if (msg['mode'] === 'ZOOM') {\n",
       "        fig.buttons['Pan'].classList.remove('active');\n",
       "        fig.buttons['Zoom'].classList.add('active');\n",
       "    } else {\n",
       "        fig.buttons['Pan'].classList.remove('active');\n",
       "        fig.buttons['Zoom'].classList.remove('active');\n",
       "    }\n",
       "};\n",
       "\n",
       "mpl.figure.prototype.updated_canvas_event = function () {\n",
       "    // Called whenever the canvas gets updated.\n",
       "    this.send_message('ack', {});\n",
       "};\n",
       "\n",
       "// A function to construct a web socket function for onmessage handling.\n",
       "// Called in the figure constructor.\n",
       "mpl.figure.prototype._make_on_message_function = function (fig) {\n",
       "    return function socket_on_message(evt) {\n",
       "        if (evt.data instanceof Blob) {\n",
       "            /* FIXME: We get \"Resource interpreted as Image but\n",
       "             * transferred with MIME type text/plain:\" errors on\n",
       "             * Chrome.  But how to set the MIME type?  It doesn't seem\n",
       "             * to be part of the websocket stream */\n",
       "            evt.data.type = 'image/png';\n",
       "\n",
       "            /* Free the memory for the previous frames */\n",
       "            if (fig.imageObj.src) {\n",
       "                (window.URL || window.webkitURL).revokeObjectURL(\n",
       "                    fig.imageObj.src\n",
       "                );\n",
       "            }\n",
       "\n",
       "            fig.imageObj.src = (window.URL || window.webkitURL).createObjectURL(\n",
       "                evt.data\n",
       "            );\n",
       "            fig.updated_canvas_event();\n",
       "            fig.waiting = false;\n",
       "            return;\n",
       "        } else if (\n",
       "            typeof evt.data === 'string' &&\n",
       "            evt.data.slice(0, 21) === 'data:image/png;base64'\n",
       "        ) {\n",
       "            fig.imageObj.src = evt.data;\n",
       "            fig.updated_canvas_event();\n",
       "            fig.waiting = false;\n",
       "            return;\n",
       "        }\n",
       "\n",
       "        var msg = JSON.parse(evt.data);\n",
       "        var msg_type = msg['type'];\n",
       "\n",
       "        // Call the  \"handle_{type}\" callback, which takes\n",
       "        // the figure and JSON message as its only arguments.\n",
       "        try {\n",
       "            var callback = fig['handle_' + msg_type];\n",
       "        } catch (e) {\n",
       "            console.log(\n",
       "                \"No handler for the '\" + msg_type + \"' message type: \",\n",
       "                msg\n",
       "            );\n",
       "            return;\n",
       "        }\n",
       "\n",
       "        if (callback) {\n",
       "            try {\n",
       "                // console.log(\"Handling '\" + msg_type + \"' message: \", msg);\n",
       "                callback(fig, msg);\n",
       "            } catch (e) {\n",
       "                console.log(\n",
       "                    \"Exception inside the 'handler_\" + msg_type + \"' callback:\",\n",
       "                    e,\n",
       "                    e.stack,\n",
       "                    msg\n",
       "                );\n",
       "            }\n",
       "        }\n",
       "    };\n",
       "};\n",
       "\n",
       "// from http://stackoverflow.com/questions/1114465/getting-mouse-location-in-canvas\n",
       "mpl.findpos = function (e) {\n",
       "    //this section is from http://www.quirksmode.org/js/events_properties.html\n",
       "    var targ;\n",
       "    if (!e) {\n",
       "        e = window.event;\n",
       "    }\n",
       "    if (e.target) {\n",
       "        targ = e.target;\n",
       "    } else if (e.srcElement) {\n",
       "        targ = e.srcElement;\n",
       "    }\n",
       "    if (targ.nodeType === 3) {\n",
       "        // defeat Safari bug\n",
       "        targ = targ.parentNode;\n",
       "    }\n",
       "\n",
       "    // pageX,Y are the mouse positions relative to the document\n",
       "    var boundingRect = targ.getBoundingClientRect();\n",
       "    var x = e.pageX - (boundingRect.left + document.body.scrollLeft);\n",
       "    var y = e.pageY - (boundingRect.top + document.body.scrollTop);\n",
       "\n",
       "    return { x: x, y: y };\n",
       "};\n",
       "\n",
       "/*\n",
       " * return a copy of an object with only non-object keys\n",
       " * we need this to avoid circular references\n",
       " * http://stackoverflow.com/a/24161582/3208463\n",
       " */\n",
       "function simpleKeys(original) {\n",
       "    return Object.keys(original).reduce(function (obj, key) {\n",
       "        if (typeof original[key] !== 'object') {\n",
       "            obj[key] = original[key];\n",
       "        }\n",
       "        return obj;\n",
       "    }, {});\n",
       "}\n",
       "\n",
       "mpl.figure.prototype.mouse_event = function (event, name) {\n",
       "    var canvas_pos = mpl.findpos(event);\n",
       "\n",
       "    if (name === 'button_press') {\n",
       "        this.canvas.focus();\n",
       "        this.canvas_div.focus();\n",
       "    }\n",
       "\n",
       "    var x = canvas_pos.x * this.ratio;\n",
       "    var y = canvas_pos.y * this.ratio;\n",
       "\n",
       "    this.send_message(name, {\n",
       "        x: x,\n",
       "        y: y,\n",
       "        button: event.button,\n",
       "        step: event.step,\n",
       "        guiEvent: simpleKeys(event),\n",
       "    });\n",
       "\n",
       "    /* This prevents the web browser from automatically changing to\n",
       "     * the text insertion cursor when the button is pressed.  We want\n",
       "     * to control all of the cursor setting manually through the\n",
       "     * 'cursor' event from matplotlib */\n",
       "    event.preventDefault();\n",
       "    return false;\n",
       "};\n",
       "\n",
       "mpl.figure.prototype._key_event_extra = function (_event, _name) {\n",
       "    // Handle any extra behaviour associated with a key event\n",
       "};\n",
       "\n",
       "mpl.figure.prototype.key_event = function (event, name) {\n",
       "    // Prevent repeat events\n",
       "    if (name === 'key_press') {\n",
       "        if (event.which === this._key) {\n",
       "            return;\n",
       "        } else {\n",
       "            this._key = event.which;\n",
       "        }\n",
       "    }\n",
       "    if (name === 'key_release') {\n",
       "        this._key = null;\n",
       "    }\n",
       "\n",
       "    var value = '';\n",
       "    if (event.ctrlKey && event.which !== 17) {\n",
       "        value += 'ctrl+';\n",
       "    }\n",
       "    if (event.altKey && event.which !== 18) {\n",
       "        value += 'alt+';\n",
       "    }\n",
       "    if (event.shiftKey && event.which !== 16) {\n",
       "        value += 'shift+';\n",
       "    }\n",
       "\n",
       "    value += 'k';\n",
       "    value += event.which.toString();\n",
       "\n",
       "    this._key_event_extra(event, name);\n",
       "\n",
       "    this.send_message(name, { key: value, guiEvent: simpleKeys(event) });\n",
       "    return false;\n",
       "};\n",
       "\n",
       "mpl.figure.prototype.toolbar_button_onclick = function (name) {\n",
       "    if (name === 'download') {\n",
       "        this.handle_save(this, null);\n",
       "    } else {\n",
       "        this.send_message('toolbar_button', { name: name });\n",
       "    }\n",
       "};\n",
       "\n",
       "mpl.figure.prototype.toolbar_button_onmouseover = function (tooltip) {\n",
       "    this.message.textContent = tooltip;\n",
       "};\n",
       "mpl.toolbar_items = [[\"Home\", \"Reset original view\", \"fa fa-home icon-home\", \"home\"], [\"Back\", \"Back to previous view\", \"fa fa-arrow-left icon-arrow-left\", \"back\"], [\"Forward\", \"Forward to next view\", \"fa fa-arrow-right icon-arrow-right\", \"forward\"], [\"\", \"\", \"\", \"\"], [\"Pan\", \"Left button pans, Right button zooms\\nx/y fixes axis, CTRL fixes aspect\", \"fa fa-arrows icon-move\", \"pan\"], [\"Zoom\", \"Zoom to rectangle\\nx/y fixes axis, CTRL fixes aspect\", \"fa fa-square-o icon-check-empty\", \"zoom\"], [\"\", \"\", \"\", \"\"], [\"Download\", \"Download plot\", \"fa fa-floppy-o icon-save\", \"download\"]];\n",
       "\n",
       "mpl.extensions = [\"eps\", \"jpeg\", \"pdf\", \"png\", \"ps\", \"raw\", \"svg\", \"tif\"];\n",
       "\n",
       "mpl.default_extension = \"png\";/* global mpl */\n",
       "\n",
       "var comm_websocket_adapter = function (comm) {\n",
       "    // Create a \"websocket\"-like object which calls the given IPython comm\n",
       "    // object with the appropriate methods. Currently this is a non binary\n",
       "    // socket, so there is still some room for performance tuning.\n",
       "    var ws = {};\n",
       "\n",
       "    ws.close = function () {\n",
       "        comm.close();\n",
       "    };\n",
       "    ws.send = function (m) {\n",
       "        //console.log('sending', m);\n",
       "        comm.send(m);\n",
       "    };\n",
       "    // Register the callback with on_msg.\n",
       "    comm.on_msg(function (msg) {\n",
       "        //console.log('receiving', msg['content']['data'], msg);\n",
       "        // Pass the mpl event to the overridden (by mpl) onmessage function.\n",
       "        ws.onmessage(msg['content']['data']);\n",
       "    });\n",
       "    return ws;\n",
       "};\n",
       "\n",
       "mpl.mpl_figure_comm = function (comm, msg) {\n",
       "    // This is the function which gets called when the mpl process\n",
       "    // starts-up an IPython Comm through the \"matplotlib\" channel.\n",
       "\n",
       "    var id = msg.content.data.id;\n",
       "    // Get hold of the div created by the display call when the Comm\n",
       "    // socket was opened in Python.\n",
       "    var element = document.getElementById(id);\n",
       "    var ws_proxy = comm_websocket_adapter(comm);\n",
       "\n",
       "    function ondownload(figure, _format) {\n",
       "        window.open(figure.canvas.toDataURL());\n",
       "    }\n",
       "\n",
       "    var fig = new mpl.figure(id, ws_proxy, ondownload, element);\n",
       "\n",
       "    // Call onopen now - mpl needs it, as it is assuming we've passed it a real\n",
       "    // web socket which is closed, not our websocket->open comm proxy.\n",
       "    ws_proxy.onopen();\n",
       "\n",
       "    fig.parent_element = element;\n",
       "    fig.cell_info = mpl.find_output_cell(\"<div id='\" + id + \"'></div>\");\n",
       "    if (!fig.cell_info) {\n",
       "        console.error('Failed to find cell for figure', id, fig);\n",
       "        return;\n",
       "    }\n",
       "    fig.cell_info[0].output_area.element.one(\n",
       "        'cleared',\n",
       "        { fig: fig },\n",
       "        fig._remove_fig_handler\n",
       "    );\n",
       "};\n",
       "\n",
       "mpl.figure.prototype.handle_close = function (fig, msg) {\n",
       "    var width = fig.canvas.width / fig.ratio;\n",
       "    fig.cell_info[0].output_area.element.off(\n",
       "        'cleared',\n",
       "        fig._remove_fig_handler\n",
       "    );\n",
       "\n",
       "    // Update the output cell to use the data from the current canvas.\n",
       "    fig.push_to_output();\n",
       "    var dataURL = fig.canvas.toDataURL();\n",
       "    // Re-enable the keyboard manager in IPython - without this line, in FF,\n",
       "    // the notebook keyboard shortcuts fail.\n",
       "    IPython.keyboard_manager.enable();\n",
       "    fig.parent_element.innerHTML =\n",
       "        '<img src=\"' + dataURL + '\" width=\"' + width + '\">';\n",
       "    fig.close_ws(fig, msg);\n",
       "};\n",
       "\n",
       "mpl.figure.prototype.close_ws = function (fig, msg) {\n",
       "    fig.send_message('closing', msg);\n",
       "    // fig.ws.close()\n",
       "};\n",
       "\n",
       "mpl.figure.prototype.push_to_output = function (_remove_interactive) {\n",
       "    // Turn the data on the canvas into data in the output cell.\n",
       "    var width = this.canvas.width / this.ratio;\n",
       "    var dataURL = this.canvas.toDataURL();\n",
       "    this.cell_info[1]['text/html'] =\n",
       "        '<img src=\"' + dataURL + '\" width=\"' + width + '\">';\n",
       "};\n",
       "\n",
       "mpl.figure.prototype.updated_canvas_event = function () {\n",
       "    // Tell IPython that the notebook contents must change.\n",
       "    IPython.notebook.set_dirty(true);\n",
       "    this.send_message('ack', {});\n",
       "    var fig = this;\n",
       "    // Wait a second, then push the new image to the DOM so\n",
       "    // that it is saved nicely (might be nice to debounce this).\n",
       "    setTimeout(function () {\n",
       "        fig.push_to_output();\n",
       "    }, 1000);\n",
       "};\n",
       "\n",
       "mpl.figure.prototype._init_toolbar = function () {\n",
       "    var fig = this;\n",
       "\n",
       "    var toolbar = document.createElement('div');\n",
       "    toolbar.classList = 'btn-toolbar';\n",
       "    this.root.appendChild(toolbar);\n",
       "\n",
       "    function on_click_closure(name) {\n",
       "        return function (_event) {\n",
       "            return fig.toolbar_button_onclick(name);\n",
       "        };\n",
       "    }\n",
       "\n",
       "    function on_mouseover_closure(tooltip) {\n",
       "        return function (event) {\n",
       "            if (!event.currentTarget.disabled) {\n",
       "                return fig.toolbar_button_onmouseover(tooltip);\n",
       "            }\n",
       "        };\n",
       "    }\n",
       "\n",
       "    fig.buttons = {};\n",
       "    var buttonGroup = document.createElement('div');\n",
       "    buttonGroup.classList = 'btn-group';\n",
       "    var button;\n",
       "    for (var toolbar_ind in mpl.toolbar_items) {\n",
       "        var name = mpl.toolbar_items[toolbar_ind][0];\n",
       "        var tooltip = mpl.toolbar_items[toolbar_ind][1];\n",
       "        var image = mpl.toolbar_items[toolbar_ind][2];\n",
       "        var method_name = mpl.toolbar_items[toolbar_ind][3];\n",
       "\n",
       "        if (!name) {\n",
       "            /* Instead of a spacer, we start a new button group. */\n",
       "            if (buttonGroup.hasChildNodes()) {\n",
       "                toolbar.appendChild(buttonGroup);\n",
       "            }\n",
       "            buttonGroup = document.createElement('div');\n",
       "            buttonGroup.classList = 'btn-group';\n",
       "            continue;\n",
       "        }\n",
       "\n",
       "        button = fig.buttons[name] = document.createElement('button');\n",
       "        button.classList = 'btn btn-default';\n",
       "        button.href = '#';\n",
       "        button.title = name;\n",
       "        button.innerHTML = '<i class=\"fa ' + image + ' fa-lg\"></i>';\n",
       "        button.addEventListener('click', on_click_closure(method_name));\n",
       "        button.addEventListener('mouseover', on_mouseover_closure(tooltip));\n",
       "        buttonGroup.appendChild(button);\n",
       "    }\n",
       "\n",
       "    if (buttonGroup.hasChildNodes()) {\n",
       "        toolbar.appendChild(buttonGroup);\n",
       "    }\n",
       "\n",
       "    // Add the status bar.\n",
       "    var status_bar = document.createElement('span');\n",
       "    status_bar.classList = 'mpl-message pull-right';\n",
       "    toolbar.appendChild(status_bar);\n",
       "    this.message = status_bar;\n",
       "\n",
       "    // Add the close button to the window.\n",
       "    var buttongrp = document.createElement('div');\n",
       "    buttongrp.classList = 'btn-group inline pull-right';\n",
       "    button = document.createElement('button');\n",
       "    button.classList = 'btn btn-mini btn-primary';\n",
       "    button.href = '#';\n",
       "    button.title = 'Stop Interaction';\n",
       "    button.innerHTML = '<i class=\"fa fa-power-off icon-remove icon-large\"></i>';\n",
       "    button.addEventListener('click', function (_evt) {\n",
       "        fig.handle_close(fig, {});\n",
       "    });\n",
       "    button.addEventListener(\n",
       "        'mouseover',\n",
       "        on_mouseover_closure('Stop Interaction')\n",
       "    );\n",
       "    buttongrp.appendChild(button);\n",
       "    var titlebar = this.root.querySelector('.ui-dialog-titlebar');\n",
       "    titlebar.insertBefore(buttongrp, titlebar.firstChild);\n",
       "};\n",
       "\n",
       "mpl.figure.prototype._remove_fig_handler = function (event) {\n",
       "    var fig = event.data.fig;\n",
       "    fig.close_ws(fig, {});\n",
       "};\n",
       "\n",
       "mpl.figure.prototype._root_extra_style = function (el) {\n",
       "    el.style.boxSizing = 'content-box'; // override notebook setting of border-box.\n",
       "};\n",
       "\n",
       "mpl.figure.prototype._canvas_extra_style = function (el) {\n",
       "    // this is important to make the div 'focusable\n",
       "    el.setAttribute('tabindex', 0);\n",
       "    // reach out to IPython and tell the keyboard manager to turn it's self\n",
       "    // off when our div gets focus\n",
       "\n",
       "    // location in version 3\n",
       "    if (IPython.notebook.keyboard_manager) {\n",
       "        IPython.notebook.keyboard_manager.register_events(el);\n",
       "    } else {\n",
       "        // location in version 2\n",
       "        IPython.keyboard_manager.register_events(el);\n",
       "    }\n",
       "};\n",
       "\n",
       "mpl.figure.prototype._key_event_extra = function (event, _name) {\n",
       "    var manager = IPython.notebook.keyboard_manager;\n",
       "    if (!manager) {\n",
       "        manager = IPython.keyboard_manager;\n",
       "    }\n",
       "\n",
       "    // Check for shift+enter\n",
       "    if (event.shiftKey && event.which === 13) {\n",
       "        this.canvas_div.blur();\n",
       "        // select the cell after this one\n",
       "        var index = IPython.notebook.find_cell_index(this.cell_info[0]);\n",
       "        IPython.notebook.select(index + 1);\n",
       "    }\n",
       "};\n",
       "\n",
       "mpl.figure.prototype.handle_save = function (fig, _msg) {\n",
       "    fig.ondownload(fig, null);\n",
       "};\n",
       "\n",
       "mpl.find_output_cell = function (html_output) {\n",
       "    // Return the cell and output element which can be found *uniquely* in the notebook.\n",
       "    // Note - this is a bit hacky, but it is done because the \"notebook_saving.Notebook\"\n",
       "    // IPython event is triggered only after the cells have been serialised, which for\n",
       "    // our purposes (turning an active figure into a static one), is too late.\n",
       "    var cells = IPython.notebook.get_cells();\n",
       "    var ncells = cells.length;\n",
       "    for (var i = 0; i < ncells; i++) {\n",
       "        var cell = cells[i];\n",
       "        if (cell.cell_type === 'code') {\n",
       "            for (var j = 0; j < cell.output_area.outputs.length; j++) {\n",
       "                var data = cell.output_area.outputs[j];\n",
       "                if (data.data) {\n",
       "                    // IPython >= 3 moved mimebundle to data attribute of output\n",
       "                    data = data.data;\n",
       "                }\n",
       "                if (data['text/html'] === html_output) {\n",
       "                    return [cell, data, j];\n",
       "                }\n",
       "            }\n",
       "        }\n",
       "    }\n",
       "};\n",
       "\n",
       "// Register the function which deals with the matplotlib target/channel.\n",
       "// The kernel may be null if the page has been refreshed.\n",
       "if (IPython.notebook.kernel !== null) {\n",
       "    IPython.notebook.kernel.comm_manager.register_target(\n",
       "        'matplotlib',\n",
       "        mpl.mpl_figure_comm\n",
       "    );\n",
       "}\n"
      ],
      "text/plain": [
       "<IPython.core.display.Javascript object>"
      ]
     },
     "metadata": {},
     "output_type": "display_data"
    },
    {
     "data": {
      "text/html": [
       "<img src=\"data:image/png;base64,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\" width=\"887\">"
      ],
      "text/plain": [
       "<IPython.core.display.HTML object>"
      ]
     },
     "metadata": {},
     "output_type": "display_data"
    },
    {
     "data": {
      "text/plain": [
       "Text(0, 0.5, 'Eixo Y')"
      ]
     },
     "execution_count": 1,
     "metadata": {},
     "output_type": "execute_result"
    }
   ],
   "source": [
    "import numpy as np\n",
    "import matplotlib.pyplot as plt\n",
    "%matplotlib notebook\n",
    "y = np.random.rand(1000)\n",
    "x = np.arange(0, len(y))\n",
    "plt.scatter(x=x,\n",
    "            y=y,\n",
    "            s=np.random.uniform(low=1, high=50, size=len(x)),\n",
    "            c=np.random.uniform(low=1, high=10, size=len(x)),marker=\"*\",\n",
    "            alpha=0.8)\n",
    "plt.title(\"Scarter plot\", size=20)\n",
    "plt.xlabel(\"Eixo X\",size=20)\n",
    "plt.ylabel(\"Eixo Y\",size=20)"
   ]
  },
  {
   "cell_type": "markdown",
   "metadata": {},
   "source": [
    "---"
   ]
  },
  {
   "cell_type": "markdown",
   "metadata": {},
   "source": [
    "## Aspectos básicos de interatividade com ipwidgets\n",
    "\n",
    "Os conceitos mostrados previamente ajudam a ter uma interatividade maior entre o código e o sistema, contudo isso ainda não e suficiente para conseguir aproveitar 100% o potencial de jupyter-notebook.\n",
    "\n",
    "A biblioteca [jupyter widgets](https://ipywidgets.readthedocs.io/en/stable/index.html) possibilita ao “infinito” a criação de objetos interativos como botoes de escolhas, listas, etc que facilita a análise de dados e figuras.\n",
    "\n",
    "Na documentação desta biblioteca é apresentada todas as opções disponível e como utilizar cada uma. Devido ao grande número dessas opções somente serão apresentadas as mais relevantes. Recomendo fortemente revisar a [documentação](https://ipywidgets.readthedocs.io/en/stable/examples/Using%20Interact.html) para uma maior compressão desta biblioteca."
   ]
  },
  {
   "cell_type": "markdown",
   "metadata": {},
   "source": [
    "### Instalando a biblioteca\n",
    "\n",
    "Para realizar a instalação da biblioteca recomendo a leitura da [documentação](https://ipywidgets.readthedocs.io/en/stable/user_install.html) devido a que é necessário a instalação de outros pacotes para o correto funcionamento.\n",
    "A instalação pode ser realizada por meio do pip ou conda:\n",
    "- `pip install ipywidgets`\n",
    "- `conda install -c conda-forge ipywidgets`\n"
   ]
  },
  {
   "cell_type": "markdown",
   "metadata": {},
   "source": [
    "### Importando a biblioteca"
   ]
  },
  {
   "cell_type": "code",
   "execution_count": 2,
   "metadata": {
    "ExecuteTime": {
     "end_time": "2021-02-10T11:33:38.626426Z",
     "start_time": "2021-02-10T11:33:38.622717Z"
    }
   },
   "outputs": [],
   "source": [
    "import ipywidgets as widgets\n",
    "from ipywidgets import interact, interactive, fixed, interact_manual"
   ]
  },
  {
   "cell_type": "code",
   "execution_count": 3,
   "metadata": {
    "ExecuteTime": {
     "end_time": "2021-02-10T11:33:40.271649Z",
     "start_time": "2021-02-10T11:33:40.266087Z"
    }
   },
   "outputs": [],
   "source": [
    "def funcao_teste(x):\n",
    "    print(x)"
   ]
  },
  {
   "cell_type": "markdown",
   "metadata": {
    "ExecuteTime": {
     "end_time": "2021-01-20T18:33:47.539201Z",
     "start_time": "2021-01-20T18:33:47.533146Z"
    }
   },
   "source": [
    "### método `interact`\n",
    "O método `interact` facilita a passagem dos argumentos de uma forma dinâmica. Sem a necessidade de reescrever o código."
   ]
  },
  {
   "cell_type": "code",
   "execution_count": 4,
   "metadata": {
    "ExecuteTime": {
     "end_time": "2021-02-10T11:33:43.930393Z",
     "start_time": "2021-02-10T11:33:43.889606Z"
    }
   },
   "outputs": [
    {
     "data": {
      "application/vnd.jupyter.widget-view+json": {
       "model_id": "713bc82a50a54ce78f34bfdbfe173a7a",
       "version_major": 2,
       "version_minor": 0
      },
      "text/plain": [
       "interactive(children=(IntSlider(value=10, description='x', max=30, min=-10), Output()), _dom_classes=('widget-…"
      ]
     },
     "metadata": {},
     "output_type": "display_data"
    },
    {
     "data": {
      "text/plain": [
       "<function __main__.funcao_teste(x)>"
      ]
     },
     "execution_count": 4,
     "metadata": {},
     "output_type": "execute_result"
    }
   ],
   "source": [
    "interact(funcao_teste, x=10)"
   ]
  },
  {
   "cell_type": "code",
   "execution_count": 5,
   "metadata": {
    "ExecuteTime": {
     "end_time": "2021-02-10T11:33:50.070461Z",
     "start_time": "2021-02-10T11:33:50.028226Z"
    }
   },
   "outputs": [
    {
     "data": {
      "application/vnd.jupyter.widget-view+json": {
       "model_id": "bb9f4fb6159849e9bc5a2f262f525ac4",
       "version_major": 2,
       "version_minor": 0
      },
      "text/plain": [
       "interactive(children=(IntSlider(value=5, description='x', max=15, min=-5), Output()), _dom_classes=('widget-in…"
      ]
     },
     "metadata": {},
     "output_type": "display_data"
    },
    {
     "data": {
      "text/plain": [
       "<function __main__.funcao_teste(x)>"
      ]
     },
     "execution_count": 5,
     "metadata": {},
     "output_type": "execute_result"
    }
   ],
   "source": [
    "interact(funcao_teste, x=5)"
   ]
  },
  {
   "cell_type": "markdown",
   "metadata": {},
   "source": [
    "Podemos personalizar o slider definindo uma faixa de valores e um passo. Para fazer isso passamos `widgets.IntSlider(min, max, step, value)`."
   ]
  },
  {
   "cell_type": "code",
   "execution_count": 6,
   "metadata": {
    "ExecuteTime": {
     "end_time": "2021-02-10T11:33:55.014022Z",
     "start_time": "2021-02-10T11:33:54.966878Z"
    }
   },
   "outputs": [
    {
     "data": {
      "application/vnd.jupyter.widget-view+json": {
       "model_id": "4ee33d72d68c4166ae859a34205ed88c",
       "version_major": 2,
       "version_minor": 0
      },
      "text/plain": [
       "interactive(children=(IntSlider(value=0, description='x', step=2), Output()), _dom_classes=('widget-interact',…"
      ]
     },
     "metadata": {},
     "output_type": "display_data"
    },
    {
     "data": {
      "text/plain": [
       "<function __main__.funcao_teste(x)>"
      ]
     },
     "execution_count": 6,
     "metadata": {},
     "output_type": "execute_result"
    }
   ],
   "source": [
    "interact(funcao_teste, x=widgets.IntSlider(min=0,\n",
    "                                           max=100,\n",
    "                                           step=2,\n",
    "                                           velue=10))"
   ]
  },
  {
   "cell_type": "code",
   "execution_count": 7,
   "metadata": {
    "ExecuteTime": {
     "end_time": "2021-02-10T11:34:01.040034Z",
     "start_time": "2021-02-10T11:34:01.037061Z"
    }
   },
   "outputs": [],
   "source": [
    "def euler(x):\n",
    "    return (1 + 1/x)**x"
   ]
  },
  {
   "cell_type": "code",
   "execution_count": 8,
   "metadata": {
    "ExecuteTime": {
     "end_time": "2021-02-10T11:34:02.781995Z",
     "start_time": "2021-02-10T11:34:02.737596Z"
    }
   },
   "outputs": [
    {
     "data": {
      "application/vnd.jupyter.widget-view+json": {
       "model_id": "07acf9a39fa644bca677d0f20ff55106",
       "version_major": 2,
       "version_minor": 0
      },
      "text/plain": [
       "interactive(children=(IntSlider(value=499, description='x', max=1000, min=1, step=2), Output()), _dom_classes=…"
      ]
     },
     "metadata": {},
     "output_type": "display_data"
    },
    {
     "data": {
      "text/plain": [
       "<function __main__.euler(x)>"
      ]
     },
     "execution_count": 8,
     "metadata": {},
     "output_type": "execute_result"
    }
   ],
   "source": [
    "interact(euler, x=(1, 1000, 2))"
   ]
  },
  {
   "cell_type": "markdown",
   "metadata": {},
   "source": [
    "Podemos utilizar também valores do tipo `float`."
   ]
  },
  {
   "cell_type": "code",
   "execution_count": 9,
   "metadata": {
    "ExecuteTime": {
     "end_time": "2021-02-10T11:34:10.081686Z",
     "start_time": "2021-02-10T11:34:10.041184Z"
    }
   },
   "outputs": [
    {
     "data": {
      "application/vnd.jupyter.widget-view+json": {
       "model_id": "30ff4620a21c4cbca7f76713263ee146",
       "version_major": 2,
       "version_minor": 0
      },
      "text/plain": [
       "interactive(children=(FloatSlider(value=5000.5, description='x', max=10000.0, min=1.0, step=0.5), Output()), _…"
      ]
     },
     "metadata": {},
     "output_type": "display_data"
    },
    {
     "data": {
      "text/plain": [
       "<function __main__.euler(x)>"
      ]
     },
     "execution_count": 9,
     "metadata": {},
     "output_type": "execute_result"
    }
   ],
   "source": [
    "interact(euler, x=(1.0, 10000, 0.5))"
   ]
  },
  {
   "cell_type": "markdown",
   "metadata": {},
   "source": [
    "Também é possível passar argumentos to tipo texto. Neste caso será mostrada uma lista com as opções disponíveis."
   ]
  },
  {
   "cell_type": "code",
   "execution_count": 10,
   "metadata": {
    "ExecuteTime": {
     "end_time": "2021-02-10T11:34:18.832286Z",
     "start_time": "2021-02-10T11:34:18.792839Z"
    }
   },
   "outputs": [
    {
     "data": {
      "application/vnd.jupyter.widget-view+json": {
       "model_id": "da7084873df7478ca3445402cd6d71e8",
       "version_major": 2,
       "version_minor": 0
      },
      "text/plain": [
       "interactive(children=(Dropdown(description='x', options=('A1', 'A2', 'A3', 'A4', 'A5'), value='A1'), Output())…"
      ]
     },
     "metadata": {},
     "output_type": "display_data"
    },
    {
     "data": {
      "text/plain": [
       "<function __main__.funcao_teste(x)>"
      ]
     },
     "execution_count": 10,
     "metadata": {},
     "output_type": "execute_result"
    }
   ],
   "source": [
    "options = \"A1 A2 A3 A4 A5\".split(\" \")\n",
    "interact(funcao_teste, x=options)"
   ]
  },
  {
   "cell_type": "markdown",
   "metadata": {},
   "source": [
    "Caso se tenha uma função com mais de um parâmetro de entrada e queira-se deixar um parâmetro fixo, é possível fazer isso utilizando o método `fixes`"
   ]
  },
  {
   "cell_type": "code",
   "execution_count": 11,
   "metadata": {
    "ExecuteTime": {
     "end_time": "2021-02-10T11:34:22.930819Z",
     "start_time": "2021-02-10T11:34:22.923037Z"
    }
   },
   "outputs": [],
   "source": [
    "def power(x, y, n):\n",
    "    return (x**y + y)/n"
   ]
  },
  {
   "cell_type": "code",
   "execution_count": 12,
   "metadata": {
    "ExecuteTime": {
     "end_time": "2021-02-10T11:34:30.834996Z",
     "start_time": "2021-02-10T11:34:30.788014Z"
    }
   },
   "outputs": [
    {
     "data": {
      "application/vnd.jupyter.widget-view+json": {
       "model_id": "89441da9d5be46cda25fe2b9004dac29",
       "version_major": 2,
       "version_minor": 0
      },
      "text/plain": [
       "interactive(children=(IntSlider(value=5, description='x', max=10), IntSlider(value=9, description='n', max=20,…"
      ]
     },
     "metadata": {},
     "output_type": "display_data"
    },
    {
     "data": {
      "text/plain": [
       "<function __main__.power(x, y, n)>"
      ]
     },
     "execution_count": 12,
     "metadata": {},
     "output_type": "execute_result"
    }
   ],
   "source": [
    "interact(power,\n",
    "         x=(0, 10, 1),\n",
    "         n=(1, 20, 2),\n",
    "         y=fixed(2))"
   ]
  },
  {
   "cell_type": "markdown",
   "metadata": {},
   "source": [
    "### Método  `interactive`\n",
    "\n",
    "Jupyter Widgets possui outro método que permite armazenar um Widgets para ser utilizado posteriormente. O método `interactive` retorna um objeto que não é mostrado automaticamente, para conseguir visualizar o Widged criado se deve utilizar o método Display."
   ]
  },
  {
   "cell_type": "code",
   "execution_count": 13,
   "metadata": {
    "ExecuteTime": {
     "end_time": "2021-02-10T11:34:39.647201Z",
     "start_time": "2021-02-10T11:34:39.643452Z"
    }
   },
   "outputs": [],
   "source": [
    "from IPython.display import display\n",
    "def power_print(x, y, n):\n",
    "    return print((x**y + y)/n)"
   ]
  },
  {
   "cell_type": "code",
   "execution_count": 14,
   "metadata": {
    "ExecuteTime": {
     "end_time": "2021-02-10T11:34:41.416640Z",
     "start_time": "2021-02-10T11:34:41.374964Z"
    }
   },
   "outputs": [],
   "source": [
    "widget = interactive(power_print,\n",
    "                     x=(0, 10, 1),\n",
    "                     n=(1, 20, 2),\n",
    "                     y=(2, 8, 0.5))"
   ]
  },
  {
   "cell_type": "code",
   "execution_count": 15,
   "metadata": {
    "ExecuteTime": {
     "end_time": "2021-02-10T11:34:43.505360Z",
     "start_time": "2021-02-10T11:34:43.499113Z"
    }
   },
   "outputs": [
    {
     "data": {
      "text/plain": [
       "ipywidgets.widgets.interaction.interactive"
      ]
     },
     "execution_count": 15,
     "metadata": {},
     "output_type": "execute_result"
    }
   ],
   "source": [
    "type(widget)"
   ]
  },
  {
   "cell_type": "code",
   "execution_count": 16,
   "metadata": {
    "ExecuteTime": {
     "end_time": "2021-02-10T11:34:45.143281Z",
     "start_time": "2021-02-10T11:34:45.134682Z"
    }
   },
   "outputs": [
    {
     "data": {
      "text/plain": [
       "(IntSlider(value=5, description='x', max=10),\n",
       " FloatSlider(value=5.0, description='y', max=8.0, min=2.0, step=0.5),\n",
       " IntSlider(value=9, description='n', max=20, min=1, step=2),\n",
       " Output())"
      ]
     },
     "execution_count": 16,
     "metadata": {},
     "output_type": "execute_result"
    }
   ],
   "source": [
    "widget.children"
   ]
  },
  {
   "cell_type": "code",
   "execution_count": 17,
   "metadata": {
    "ExecuteTime": {
     "end_time": "2021-02-10T11:34:47.498860Z",
     "start_time": "2021-02-10T11:34:47.484900Z"
    }
   },
   "outputs": [
    {
     "data": {
      "application/vnd.jupyter.widget-view+json": {
       "model_id": "6955c592e83d41ab995df3074e79ccd7",
       "version_major": 2,
       "version_minor": 0
      },
      "text/plain": [
       "interactive(children=(IntSlider(value=5, description='x', max=10), FloatSlider(value=5.0, description='y', max…"
      ]
     },
     "metadata": {},
     "output_type": "display_data"
    }
   ],
   "source": [
    "display(widget)"
   ]
  },
  {
   "cell_type": "code",
   "execution_count": 19,
   "metadata": {
    "ExecuteTime": {
     "end_time": "2021-02-10T11:35:06.185128Z",
     "start_time": "2021-02-10T11:35:06.178096Z"
    }
   },
   "outputs": [
    {
     "data": {
      "text/plain": [
       "{'x': 6, 'y': 4.5, 'n': 11}"
      ]
     },
     "execution_count": 19,
     "metadata": {},
     "output_type": "execute_result"
    }
   ],
   "source": [
    "widget.kwargs"
   ]
  },
  {
   "cell_type": "markdown",
   "metadata": {},
   "source": [
    "Podemos modificar e controlar a saida do widgets utilizando o método `widgets.interactive_output`."
   ]
  },
  {
   "cell_type": "code",
   "execution_count": 20,
   "metadata": {
    "ExecuteTime": {
     "end_time": "2021-02-10T11:35:10.136909Z",
     "start_time": "2021-02-10T11:35:10.082383Z"
    }
   },
   "outputs": [
    {
     "data": {
      "application/vnd.jupyter.widget-view+json": {
       "model_id": "3b3a72aa7f714d348aff2bcc122381ce",
       "version_major": 2,
       "version_minor": 0
      },
      "text/plain": [
       "HBox(children=(IntSlider(value=0), IntSlider(value=0), IntSlider(value=0)))"
      ]
     },
     "metadata": {},
     "output_type": "display_data"
    },
    {
     "data": {
      "application/vnd.jupyter.widget-view+json": {
       "model_id": "3dac459e0ccf4e779bc3a166ee48cce2",
       "version_major": 2,
       "version_minor": 0
      },
      "text/plain": [
       "Output()"
      ]
     },
     "metadata": {},
     "output_type": "display_data"
    }
   ],
   "source": [
    "a_value = widgets.IntSlider()\n",
    "b_value = widgets.IntSlider()\n",
    "c_value = widgets.IntSlider()\n",
    "ui = widgets.HBox([a_value, b_value, c_value])\n",
    "def f_teste(a, b, c):\n",
    "    print(f\"O valor do parâmetro a é: {a}\")\n",
    "    print(f\"O valor do parâmetro a é: {b}\")\n",
    "    print(f\"O valor do parâmetro a é: {c}\")\n",
    "    print(f\"A soma dos parâmetro a é: {a + b + c}\")\n",
    "    \n",
    "out = widgets.interactive_output(f_teste, \n",
    "                                 {'a': a_value,\n",
    "                                  'b': b_value,\n",
    "                                  'c': c_value})\n",
    "\n",
    "display(ui, out)"
   ]
  },
  {
   "cell_type": "code",
   "execution_count": 21,
   "metadata": {
    "ExecuteTime": {
     "end_time": "2021-02-10T11:35:21.316825Z",
     "start_time": "2021-02-10T11:35:21.313699Z"
    }
   },
   "outputs": [],
   "source": [
    "import matplotlib.pyplot as plt\n",
    "import numpy as np"
   ]
  },
  {
   "cell_type": "code",
   "execution_count": 22,
   "metadata": {
    "ExecuteTime": {
     "end_time": "2021-02-10T11:35:23.211546Z",
     "start_time": "2021-02-10T11:35:22.988338Z"
    }
   },
   "outputs": [
    {
     "data": {
      "application/vnd.jupyter.widget-view+json": {
       "model_id": "e7c4136973824a7ba7aefbfd71d7122a",
       "version_major": 2,
       "version_minor": 0
      },
      "text/plain": [
       "interactive(children=(FloatSlider(value=0.0, description='m', max=2.0, min=-2.0), FloatSlider(value=0.0, descr…"
      ]
     },
     "metadata": {},
     "output_type": "display_data"
    }
   ],
   "source": [
    "%matplotlib inline\n",
    "X = np.linspace(-10, 10, num=1000)\n",
    "def plot_interactive(m, b):\n",
    "    plt.figure(2)\n",
    "    plt.plot(X, m * X + b)\n",
    "    plt.ylim(-5, 5)\n",
    "    plt.show()\n",
    "\n",
    "interactive_plot = interactive(plot_interactive,\n",
    "                               m=(-2.0, 2.0),\n",
    "                               b=(-3, 3, 0.5))\n",
    "interactive_plot"
   ]
  },
  {
   "cell_type": "markdown",
   "metadata": {},
   "source": [
    "### Atualização continua desativada.\n",
    "Como se observou no exemplo anterior, cada vez que se modifica o valor de um argumento por meio do slidebar o método `interactive` realiza a atualização de forma automática. Isso ocasiona que a função seja executada n vezes até atingir o valor desejado, gerando um desface entre o resultado da função e o valor atual do argumento. Quando a função é simples (como no exemplo anterior) isso não representa maiores problemas, contudo funciones mais robustas podem ocasionar problemas.\n",
    "\n",
    "\n",
    "A biblioteca Jupyter Widgets possui 3 alternativas para contornar esses problemas:\n",
    "- `interact_manual`: Essa opção cria um botão que executa a função nos valores escolhidos;\n",
    "- `interactive`: Esse método permite a passagem de um dicionário com a chave manual e o valor True (`{'manual': True}`). O resultado é o mesmo do método `interact_manual`. Cabe destacar que esse argumento deve ser passado na segunda posição, logo depois do nome da função.;\n",
    "- `continuous_update=False`: Esse parâmetro pode ser passado ao método `interact`, nesse caso a atualização da função só acontece quando se libera o cursor do mouse."
   ]
  },
  {
   "cell_type": "code",
   "execution_count": 24,
   "metadata": {
    "ExecuteTime": {
     "end_time": "2021-02-10T11:36:32.778498Z",
     "start_time": "2021-02-10T11:36:32.774295Z"
    }
   },
   "outputs": [],
   "source": [
    "interactive?"
   ]
  },
  {
   "cell_type": "code",
   "execution_count": 30,
   "metadata": {
    "ExecuteTime": {
     "end_time": "2021-02-10T11:40:21.912953Z",
     "start_time": "2021-02-10T11:40:21.713663Z"
    }
   },
   "outputs": [
    {
     "ename": "TypeError",
     "evalue": "randint() takes at least 1 positional argument (0 given)",
     "output_type": "error",
     "traceback": [
      "\u001b[0;31m---------------------------------------------------------------------------\u001b[0m",
      "\u001b[0;31mTypeError\u001b[0m                                 Traceback (most recent call last)",
      "\u001b[0;32m<ipython-input-30-c77516ad7597>\u001b[0m in \u001b[0;36m<module>\u001b[0;34m\u001b[0m\n\u001b[0;32m----> 1\u001b[0;31m \u001b[0mnp\u001b[0m\u001b[0;34m.\u001b[0m\u001b[0mrandom\u001b[0m\u001b[0;34m.\u001b[0m\u001b[0mrandint\u001b[0m\u001b[0;34m(\u001b[0m\u001b[0;34m)\u001b[0m\u001b[0;34m\u001b[0m\u001b[0;34m\u001b[0m\u001b[0m\n\u001b[0m",
      "\u001b[0;32mmtrand.pyx\u001b[0m in \u001b[0;36mnumpy.random.mtrand.RandomState.randint\u001b[0;34m()\u001b[0m\n",
      "\u001b[0;31mTypeError\u001b[0m: randint() takes at least 1 positional argument (0 given)"
     ]
    }
   ],
   "source": [
    "np.random.randint()"
   ]
  },
  {
   "cell_type": "code",
   "execution_count": 37,
   "metadata": {
    "ExecuteTime": {
     "end_time": "2021-02-10T11:43:01.895467Z",
     "start_time": "2021-02-10T11:43:01.671215Z"
    }
   },
   "outputs": [
    {
     "data": {
      "application/vnd.jupyter.widget-view+json": {
       "model_id": "de4fc801fc544b0bb92d54e480af9378",
       "version_major": 2,
       "version_minor": 0
      },
      "text/plain": [
       "interactive(children=(IntSlider(value=50, description='num', step=2), Output()), _dom_classes=('widget-interac…"
      ]
     },
     "metadata": {},
     "output_type": "display_data"
    }
   ],
   "source": [
    "%matplotlib inline\n",
    "m = 0.5\n",
    "b = -1\n",
    "def plot_interactive(num):\n",
    "    plt.figure(2)\n",
    "    X = np.arange(0, num)\n",
    "    plt.plot(X,\n",
    "             np.random.randint(0, 1000, num),\n",
    "             color=np.random.rand(3,),\n",
    "             marker=\"o\",\n",
    "             ls=\"\")\n",
    "    plt.show()\n",
    "\n",
    "interactive_plot = interactive(plot_interactive, num=(0,100, 2))\n",
    "interactive_plot"
   ]
  },
  {
   "cell_type": "markdown",
   "metadata": {},
   "source": [
    "Aplicando `interact_manual`"
   ]
  },
  {
   "cell_type": "code",
   "execution_count": 39,
   "metadata": {
    "ExecuteTime": {
     "end_time": "2021-02-10T11:43:12.805984Z",
     "start_time": "2021-02-10T11:43:12.772641Z"
    }
   },
   "outputs": [
    {
     "data": {
      "application/vnd.jupyter.widget-view+json": {
       "model_id": "6722e31bdedf4397b2168a6aeda6d2e5",
       "version_major": 2,
       "version_minor": 0
      },
      "text/plain": [
       "interactive(children=(IntSlider(value=500, description='num', max=1000, step=2), Button(description='Run Inter…"
      ]
     },
     "metadata": {},
     "output_type": "display_data"
    },
    {
     "data": {
      "text/plain": [
       "<function __main__.plot_interactive(num)>"
      ]
     },
     "execution_count": 39,
     "metadata": {},
     "output_type": "execute_result"
    }
   ],
   "source": [
    "interact_manual(plot_interactive,\n",
    "                num=(0,1000, 2))"
   ]
  },
  {
   "cell_type": "markdown",
   "metadata": {},
   "source": [
    "Aplicando `interactive` e `{'manual': True}`"
   ]
  },
  {
   "cell_type": "code",
   "execution_count": 41,
   "metadata": {
    "ExecuteTime": {
     "end_time": "2021-02-10T11:43:28.947932Z",
     "start_time": "2021-02-10T11:43:28.911402Z"
    }
   },
   "outputs": [
    {
     "data": {
      "application/vnd.jupyter.widget-view+json": {
       "model_id": "f90c365a8b724c6092d7211bd59b7678",
       "version_major": 2,
       "version_minor": 0
      },
      "text/plain": [
       "interactive(children=(IntSlider(value=500, description='num', max=1000, step=2), Button(description='Run Inter…"
      ]
     },
     "metadata": {},
     "output_type": "display_data"
    }
   ],
   "source": [
    "interactive_plot = interactive(plot_interactive,\n",
    "                               {'manual': True},\n",
    "                               num=(0,1000, 2))\n",
    "interactive_plot"
   ]
  },
  {
   "cell_type": "code",
   "execution_count": 42,
   "metadata": {
    "ExecuteTime": {
     "end_time": "2021-02-10T11:43:42.091163Z",
     "start_time": "2021-02-10T11:43:41.885381Z"
    }
   },
   "outputs": [
    {
     "data": {
      "application/vnd.jupyter.widget-view+json": {
       "model_id": "955736ae671b40aaa903e022f5a78970",
       "version_major": 2,
       "version_minor": 0
      },
      "text/plain": [
       "interactive(children=(IntSlider(value=0, continuous_update=False, description='num', max=1000, step=2), Output…"
      ]
     },
     "metadata": {},
     "output_type": "display_data"
    },
    {
     "data": {
      "text/plain": [
       "<function __main__.plot_interactive(num)>"
      ]
     },
     "execution_count": 42,
     "metadata": {},
     "output_type": "execute_result"
    }
   ],
   "source": [
    "interact(plot_interactive,\n",
    "         num=widgets.IntSlider(min=0,\n",
    "                               max=1000,\n",
    "                               step=2,\n",
    "                               continuous_update=False))"
   ]
  },
  {
   "cell_type": "markdown",
   "metadata": {},
   "source": [
    "## Explorando arquivos usando interactividade\n",
    "\n",
    "Os recursos de interatividade permitem a explorar os diretórios e visualizar o conteúdo destes sem a necessidade de sair do Notebook."
   ]
  },
  {
   "cell_type": "code",
   "execution_count": 43,
   "metadata": {
    "ExecuteTime": {
     "end_time": "2021-02-10T11:43:58.043018Z",
     "start_time": "2021-02-10T11:43:57.913196Z"
    }
   },
   "outputs": [
    {
     "name": "stdout",
     "output_type": "stream",
     "text": [
      "Aula_14_Interactividade.ipynb  Codigo_externo_3.txt  kc_house_data.csv\r\n",
      "Codigo_externo_2_MOD.py        Codigo_externo.py     medium_data_2019_01_26\r\n",
      "Codigo_externo_2.py\t       img\t\t     programming_languages.csv\r\n"
     ]
    }
   ],
   "source": [
    "!ls"
   ]
  },
  {
   "cell_type": "code",
   "execution_count": 44,
   "metadata": {
    "ExecuteTime": {
     "end_time": "2021-02-10T11:44:00.464906Z",
     "start_time": "2021-02-10T11:44:00.334218Z"
    }
   },
   "outputs": [
    {
     "name": "stdout",
     "output_type": "stream",
     "text": [
      "\u001b[01;34m.\u001b[00m\r\n",
      "├── Aula_14_Interactividade.ipynb\r\n",
      "├── Codigo_externo_2_MOD.py\r\n",
      "├── Codigo_externo_2.py\r\n",
      "├── Codigo_externo_3.txt\r\n",
      "├── Codigo_externo.py\r\n",
      "├── \u001b[01;34mimg\u001b[00m\r\n",
      "│   ├── \u001b[01;34mbear\u001b[00m\r\n",
      "│   │   ├── \u001b[01;35mbear01.jpg\u001b[00m\r\n",
      "│   │   ├── \u001b[01;35mbear02.jpg\u001b[00m\r\n",
      "│   │   ├── \u001b[01;35mbear03.jpg\u001b[00m\r\n",
      "│   │   ├── \u001b[01;35mbear04.jpg\u001b[00m\r\n",
      "│   │   ├── \u001b[01;35mbear05.jpg\u001b[00m\r\n",
      "│   │   ├── \u001b[01;35mbear06.jpg\u001b[00m\r\n",
      "│   │   ├── \u001b[01;35mbear07.jpg\u001b[00m\r\n",
      "│   │   ├── \u001b[01;35mbear08.jpg\u001b[00m\r\n",
      "│   │   └── \u001b[01;35mbear09.jpg\u001b[00m\r\n",
      "│   ├── \u001b[01;34mcats\u001b[00m\r\n",
      "│   │   ├── \u001b[01;35mcat_01.jpg\u001b[00m\r\n",
      "│   │   ├── \u001b[01;35mcat_02.jpg\u001b[00m\r\n",
      "│   │   ├── \u001b[01;35mcat_03.jpg\u001b[00m\r\n",
      "│   │   ├── \u001b[01;35mcat_04.jpg\u001b[00m\r\n",
      "│   │   ├── \u001b[01;35mcat_05.jpg\u001b[00m\r\n",
      "│   │   ├── \u001b[01;35mcat_06.jpg\u001b[00m\r\n",
      "│   │   ├── \u001b[01;35mcat_07.jpg\u001b[00m\r\n",
      "│   │   ├── \u001b[01;35mcat_08.jpg\u001b[00m\r\n",
      "│   │   ├── \u001b[01;35mcat_09.jpg\u001b[00m\r\n",
      "│   │   └── \u001b[01;35mcat_10.jpg\u001b[00m\r\n",
      "│   ├── \u001b[01;34mdogs\u001b[00m\r\n",
      "│   │   ├── \u001b[01;35mdogs01.jpg\u001b[00m\r\n",
      "│   │   ├── \u001b[01;35mdogs02.jpg\u001b[00m\r\n",
      "│   │   ├── \u001b[01;35mdogs03.jpg\u001b[00m\r\n",
      "│   │   ├── \u001b[01;35mdogs04.jpg\u001b[00m\r\n",
      "│   │   ├── \u001b[01;35mdogs05.jpg\u001b[00m\r\n",
      "│   │   ├── \u001b[01;35mdogs06.jpg\u001b[00m\r\n",
      "│   │   ├── \u001b[01;35mdogs07.jpg\u001b[00m\r\n",
      "│   │   ├── \u001b[01;35mdogs08.jpg\u001b[00m\r\n",
      "│   │   └── \u001b[01;35mdogs09.jpg\u001b[00m\r\n",
      "│   └── \u001b[01;35minteratividade.png\u001b[00m\r\n",
      "├── kc_house_data.csv\r\n",
      "├── medium_data_2019_01_26\r\n",
      "└── programming_languages.csv\r\n",
      "\r\n",
      "4 directories, 37 files\r\n"
     ]
    }
   ],
   "source": [
    "!tree"
   ]
  },
  {
   "cell_type": "code",
   "execution_count": 45,
   "metadata": {
    "ExecuteTime": {
     "end_time": "2021-02-10T11:44:09.033976Z",
     "start_time": "2021-02-10T11:44:05.543871Z"
    }
   },
   "outputs": [],
   "source": [
    "!conda list -> text.txt"
   ]
  },
  {
   "cell_type": "code",
   "execution_count": 46,
   "metadata": {
    "ExecuteTime": {
     "end_time": "2021-02-10T11:44:14.389389Z",
     "start_time": "2021-02-10T11:44:14.265810Z"
    }
   },
   "outputs": [
    {
     "name": "stdout",
     "output_type": "stream",
     "text": [
      "\u001b[01;34m.\u001b[00m\r\n",
      "├── Aula_14_Interactividade.ipynb\r\n",
      "├── Codigo_externo_2_MOD.py\r\n",
      "├── Codigo_externo_2.py\r\n",
      "├── Codigo_externo_3.txt\r\n",
      "├── Codigo_externo.py\r\n",
      "├── \u001b[01;34mimg\u001b[00m\r\n",
      "│   ├── \u001b[01;34mbear\u001b[00m\r\n",
      "│   │   ├── \u001b[01;35mbear01.jpg\u001b[00m\r\n",
      "│   │   ├── \u001b[01;35mbear02.jpg\u001b[00m\r\n",
      "│   │   ├── \u001b[01;35mbear03.jpg\u001b[00m\r\n",
      "│   │   ├── \u001b[01;35mbear04.jpg\u001b[00m\r\n",
      "│   │   ├── \u001b[01;35mbear05.jpg\u001b[00m\r\n",
      "│   │   ├── \u001b[01;35mbear06.jpg\u001b[00m\r\n",
      "│   │   ├── \u001b[01;35mbear07.jpg\u001b[00m\r\n",
      "│   │   ├── \u001b[01;35mbear08.jpg\u001b[00m\r\n",
      "│   │   └── \u001b[01;35mbear09.jpg\u001b[00m\r\n",
      "│   ├── \u001b[01;34mcats\u001b[00m\r\n",
      "│   │   ├── \u001b[01;35mcat_01.jpg\u001b[00m\r\n",
      "│   │   ├── \u001b[01;35mcat_02.jpg\u001b[00m\r\n",
      "│   │   ├── \u001b[01;35mcat_03.jpg\u001b[00m\r\n",
      "│   │   ├── \u001b[01;35mcat_04.jpg\u001b[00m\r\n",
      "│   │   ├── \u001b[01;35mcat_05.jpg\u001b[00m\r\n",
      "│   │   ├── \u001b[01;35mcat_06.jpg\u001b[00m\r\n",
      "│   │   ├── \u001b[01;35mcat_07.jpg\u001b[00m\r\n",
      "│   │   ├── \u001b[01;35mcat_08.jpg\u001b[00m\r\n",
      "│   │   ├── \u001b[01;35mcat_09.jpg\u001b[00m\r\n",
      "│   │   └── \u001b[01;35mcat_10.jpg\u001b[00m\r\n",
      "│   ├── \u001b[01;34mdogs\u001b[00m\r\n",
      "│   │   ├── \u001b[01;35mdogs01.jpg\u001b[00m\r\n",
      "│   │   ├── \u001b[01;35mdogs02.jpg\u001b[00m\r\n",
      "│   │   ├── \u001b[01;35mdogs03.jpg\u001b[00m\r\n",
      "│   │   ├── \u001b[01;35mdogs04.jpg\u001b[00m\r\n",
      "│   │   ├── \u001b[01;35mdogs05.jpg\u001b[00m\r\n",
      "│   │   ├── \u001b[01;35mdogs06.jpg\u001b[00m\r\n",
      "│   │   ├── \u001b[01;35mdogs07.jpg\u001b[00m\r\n",
      "│   │   ├── \u001b[01;35mdogs08.jpg\u001b[00m\r\n",
      "│   │   └── \u001b[01;35mdogs09.jpg\u001b[00m\r\n",
      "│   └── \u001b[01;35minteratividade.png\u001b[00m\r\n",
      "├── kc_house_data.csv\r\n",
      "├── medium_data_2019_01_26\r\n",
      "├── programming_languages.csv\r\n",
      "└── text.txt\r\n",
      "\r\n",
      "4 directories, 38 files\r\n"
     ]
    }
   ],
   "source": [
    "!tree"
   ]
  },
  {
   "cell_type": "code",
   "execution_count": 47,
   "metadata": {
    "ExecuteTime": {
     "end_time": "2021-02-10T11:44:17.482441Z",
     "start_time": "2021-02-10T11:44:17.466793Z"
    }
   },
   "outputs": [],
   "source": [
    "%pycat text.txt"
   ]
  },
  {
   "cell_type": "code",
   "execution_count": 48,
   "metadata": {
    "ExecuteTime": {
     "end_time": "2021-02-10T11:44:35.053660Z",
     "start_time": "2021-02-10T11:44:35.044717Z"
    }
   },
   "outputs": [],
   "source": [
    "import os\n",
    "from IPython.display import Image, display"
   ]
  },
  {
   "cell_type": "code",
   "execution_count": 49,
   "metadata": {
    "ExecuteTime": {
     "end_time": "2021-02-10T11:44:36.410758Z",
     "start_time": "2021-02-10T11:44:36.295672Z"
    }
   },
   "outputs": [
    {
     "data": {
      "application/vnd.jupyter.widget-view+json": {
       "model_id": "c1ab44763221427bb9c85e2a3584b80e",
       "version_major": 2,
       "version_minor": 0
      },
      "text/plain": [
       "interactive(children=(Dropdown(description='file', options=('cat_01.jpg', 'cat_07.jpg', 'cat_08.jpg', 'cat_10.…"
      ]
     },
     "metadata": {},
     "output_type": "display_data"
    }
   ],
   "source": [
    "os.listdir(\"./img/cats\")\n",
    "@interact\n",
    "def explorar_imd(file=os.listdir(\"./img/cats\")):\n",
    "    display(Image(f\"./img/cats/{file}\"))"
   ]
  },
  {
   "cell_type": "markdown",
   "metadata": {},
   "source": [
    "Jupyter Widgets permite criar Widgets dependentes. Isto representa que o resultado de um widgets vai afetar o comportamento do próximo."
   ]
  },
  {
   "cell_type": "code",
   "execution_count": 50,
   "metadata": {
    "ExecuteTime": {
     "end_time": "2021-02-10T11:45:02.394727Z",
     "start_time": "2021-02-10T11:45:02.262034Z"
    }
   },
   "outputs": [
    {
     "data": {
      "application/vnd.jupyter.widget-view+json": {
       "model_id": "c44da96ad7974117af375f567430b63d",
       "version_major": 2,
       "version_minor": 0
      },
      "text/plain": [
       "interactive(children=(Dropdown(description='pastas', options=('cats', 'dogs', 'bear'), value='cats'), Dropdown…"
      ]
     },
     "metadata": {},
     "output_type": "display_data"
    },
    {
     "data": {
      "text/plain": [
       "<function __main__.mostrar_image(pastas, arquivos)>"
      ]
     },
     "execution_count": 50,
     "metadata": {},
     "output_type": "execute_result"
    }
   ],
   "source": [
    "pastas = widgets.Dropdown(options=\"cats dogs bear\".split(\" \"))\n",
    "arquivos = widgets.Dropdown(options=os.listdir(f\"./img/{pastas.value}\"))\n",
    "\n",
    "def atualizando_arquivos(*args):\n",
    "    arquivos.options = os.listdir(f\"./img/{pastas.value}\")\n",
    "\n",
    "def mostrar_image(pastas, arquivos):\n",
    "    display(Image(f\"./img/{pastas}/{arquivos}\"))\n",
    "\n",
    "pastas.observe(atualizando_arquivos, 'value')\n",
    "interact(mostrar_image, pastas=pastas, arquivos=arquivos)"
   ]
  },
  {
   "cell_type": "markdown",
   "metadata": {},
   "source": [
    "---"
   ]
  },
  {
   "cell_type": "markdown",
   "metadata": {},
   "source": [
    "### Analisando dados de um DataFrame Pandas\n",
    "\n",
    "Os recursos oferecidos por ipwidgest possibilita a análise manipulação de pandas DataFrame de uma melhor forma ao se criar funções dinâmicas. Nesta parte observaremos **algumas** formas de vincular `ipwidgets` com pandas DataFrame."
   ]
  },
  {
   "cell_type": "code",
   "execution_count": 51,
   "metadata": {
    "ExecuteTime": {
     "end_time": "2021-02-10T11:45:25.245390Z",
     "start_time": "2021-02-10T11:45:25.017753Z"
    }
   },
   "outputs": [],
   "source": [
    "import pandas as pd\n",
    "dados =  pd.read_csv(\"programming_languages.csv\")\n",
    "dados_2 = pd.read_parquet(\"medium_data_2019_01_26\")"
   ]
  },
  {
   "cell_type": "code",
   "execution_count": 52,
   "metadata": {
    "ExecuteTime": {
     "end_time": "2021-02-10T11:45:26.637566Z",
     "start_time": "2021-02-10T11:45:26.622734Z"
    }
   },
   "outputs": [
    {
     "data": {
      "text/html": [
       "<div>\n",
       "<style scoped>\n",
       "    .dataframe tbody tr th:only-of-type {\n",
       "        vertical-align: middle;\n",
       "    }\n",
       "\n",
       "    .dataframe tbody tr th {\n",
       "        vertical-align: top;\n",
       "    }\n",
       "\n",
       "    .dataframe thead th {\n",
       "        text-align: right;\n",
       "    }\n",
       "</style>\n",
       "<table border=\"1\" class=\"dataframe\">\n",
       "  <thead>\n",
       "    <tr style=\"text-align: right;\">\n",
       "      <th></th>\n",
       "      <th>year</th>\n",
       "      <th>language</th>\n",
       "    </tr>\n",
       "  </thead>\n",
       "  <tbody>\n",
       "    <tr>\n",
       "      <th>0</th>\n",
       "      <td>1951</td>\n",
       "      <td>Regional Assembly Language</td>\n",
       "    </tr>\n",
       "    <tr>\n",
       "      <th>1</th>\n",
       "      <td>1952</td>\n",
       "      <td>Autocode</td>\n",
       "    </tr>\n",
       "    <tr>\n",
       "      <th>2</th>\n",
       "      <td>1954</td>\n",
       "      <td>IPL</td>\n",
       "    </tr>\n",
       "    <tr>\n",
       "      <th>3</th>\n",
       "      <td>1955</td>\n",
       "      <td>FLOW-MATIC</td>\n",
       "    </tr>\n",
       "    <tr>\n",
       "      <th>4</th>\n",
       "      <td>1957</td>\n",
       "      <td>FORTRAN</td>\n",
       "    </tr>\n",
       "    <tr>\n",
       "      <th>...</th>\n",
       "      <td>...</td>\n",
       "      <td>...</td>\n",
       "    </tr>\n",
       "    <tr>\n",
       "      <th>68</th>\n",
       "      <td>2011</td>\n",
       "      <td>Kotlin</td>\n",
       "    </tr>\n",
       "    <tr>\n",
       "      <th>69</th>\n",
       "      <td>2011</td>\n",
       "      <td>Red</td>\n",
       "    </tr>\n",
       "    <tr>\n",
       "      <th>70</th>\n",
       "      <td>2011</td>\n",
       "      <td>Elixir</td>\n",
       "    </tr>\n",
       "    <tr>\n",
       "      <th>71</th>\n",
       "      <td>2012</td>\n",
       "      <td>Julia</td>\n",
       "    </tr>\n",
       "    <tr>\n",
       "      <th>72</th>\n",
       "      <td>2014</td>\n",
       "      <td>Swift</td>\n",
       "    </tr>\n",
       "  </tbody>\n",
       "</table>\n",
       "<p>73 rows × 2 columns</p>\n",
       "</div>"
      ],
      "text/plain": [
       "    year                    language\n",
       "0   1951  Regional Assembly Language\n",
       "1   1952                    Autocode\n",
       "2   1954                         IPL\n",
       "3   1955                  FLOW-MATIC\n",
       "4   1957                     FORTRAN\n",
       "..   ...                         ...\n",
       "68  2011                      Kotlin\n",
       "69  2011                         Red\n",
       "70  2011                      Elixir\n",
       "71  2012                       Julia\n",
       "72  2014                       Swift\n",
       "\n",
       "[73 rows x 2 columns]"
      ]
     },
     "execution_count": 52,
     "metadata": {},
     "output_type": "execute_result"
    }
   ],
   "source": [
    "dados"
   ]
  },
  {
   "cell_type": "code",
   "execution_count": 53,
   "metadata": {
    "ExecuteTime": {
     "end_time": "2021-02-10T11:45:29.811259Z",
     "start_time": "2021-02-10T11:45:29.761739Z"
    }
   },
   "outputs": [
    {
     "data": {
      "application/vnd.jupyter.widget-view+json": {
       "model_id": "68cecd182d9c4d4d8859a8e70c8b1a01",
       "version_major": 2,
       "version_minor": 0
      },
      "text/plain": [
       "interactive(children=(Dropdown(description='year', options=(1951, 1952, 1954, 1955, 1957, 1958, 1959, 1962, 19…"
      ]
     },
     "metadata": {},
     "output_type": "display_data"
    }
   ],
   "source": [
    "@interact\n",
    "def filtragem_ano(year=dados.iloc[:,0].unique()):\n",
    "    display(dados.loc[dados[\"year\"]==year])"
   ]
  },
  {
   "cell_type": "code",
   "execution_count": 54,
   "metadata": {
    "ExecuteTime": {
     "end_time": "2021-02-10T11:45:37.226046Z",
     "start_time": "2021-02-10T11:45:37.188481Z"
    }
   },
   "outputs": [
    {
     "data": {
      "application/vnd.jupyter.widget-view+json": {
       "model_id": "e0aeabcb5e3540c5804cc5148fcd2470",
       "version_major": 2,
       "version_minor": 0
      },
      "text/plain": [
       "interactive(children=(Dropdown(description='year', options=(1951, 1952, 1954, 1955, 1957, 1958, 1959, 1962, 19…"
      ]
     },
     "metadata": {},
     "output_type": "display_data"
    }
   ],
   "source": [
    "@interact\n",
    "def filtragem_anos(year=dados.iloc[:,0].unique()):\n",
    "    display(dados.loc[dados[\"year\"]>=year])"
   ]
  },
  {
   "cell_type": "code",
   "execution_count": 55,
   "metadata": {
    "ExecuteTime": {
     "end_time": "2021-02-10T11:45:50.359124Z",
     "start_time": "2021-02-10T11:45:50.289452Z"
    }
   },
   "outputs": [
    {
     "data": {
      "application/vnd.jupyter.widget-view+json": {
       "model_id": "b0452f34bc674dc9b76a935303f2264f",
       "version_major": 2,
       "version_minor": 0
      },
      "text/plain": [
       "interactive(children=(Dropdown(description='ano_inicial', options=(1951, 1952, 1954, 1955, 1957, 1958, 1959, 1…"
      ]
     },
     "metadata": {},
     "output_type": "display_data"
    }
   ],
   "source": [
    "@interact\n",
    "def filtragem_range_anos(ano_inicial=dados.iloc[:,0].unique(),\n",
    "                         ano_final=dados.iloc[:,0].unique()):\n",
    "    index_initial = dados[dados[\"year\"]==ano_inicial].index[-1]\n",
    "    index_final = dados[dados[\"year\"]==ano_final].index[-1] + 1\n",
    "    display(dados.iloc[index_initial:index_final, :])"
   ]
  },
  {
   "cell_type": "code",
   "execution_count": 56,
   "metadata": {
    "ExecuteTime": {
     "end_time": "2021-02-10T11:45:58.561175Z",
     "start_time": "2021-02-10T11:45:58.516790Z"
    }
   },
   "outputs": [
    {
     "data": {
      "application/vnd.jupyter.widget-view+json": {
       "model_id": "fc66ea83ecb44ee797b74de8255e558e",
       "version_major": 2,
       "version_minor": 0
      },
      "text/plain": [
       "interactive(children=(Text(value='', description='linguagem'), Output()), _dom_classes=('widget-interact',))"
      ]
     },
     "metadata": {},
     "output_type": "display_data"
    },
    {
     "data": {
      "text/plain": [
       "<function __main__.buscador(linguagem)>"
      ]
     },
     "execution_count": 56,
     "metadata": {},
     "output_type": "execute_result"
    }
   ],
   "source": [
    "def buscador(linguagem):\n",
    "    display(dados.loc[dados[\"language\"]==linguagem])\n",
    "interact(buscador, linguagem='')"
   ]
  },
  {
   "cell_type": "markdown",
   "metadata": {
    "ExecuteTime": {
     "end_time": "2021-01-21T19:36:02.061839Z",
     "start_time": "2021-01-21T19:36:02.009737Z"
    }
   },
   "source": [
    "Interatividade para descrever uma tabela"
   ]
  },
  {
   "cell_type": "code",
   "execution_count": 57,
   "metadata": {
    "ExecuteTime": {
     "end_time": "2021-02-10T11:46:34.232172Z",
     "start_time": "2021-02-10T11:46:34.220472Z"
    }
   },
   "outputs": [
    {
     "data": {
      "text/plain": [
       "Index(['claps', 'days_since_publication', 'fans', 'link', 'num_responses',\n",
       "       'publication', 'published_date', 'read_ratio', 'read_time', 'reads',\n",
       "       'started_date', 'tags', 'text', 'title', 'title_word_count', 'type',\n",
       "       'views', 'word_count', 'claps_per_word', 'editing_days',\n",
       "       '<tag>Education', '<tag>Data Science', '<tag>Towards Data Science',\n",
       "       '<tag>Machine Learning', '<tag>Python'],\n",
       "      dtype='object')"
      ]
     },
     "execution_count": 57,
     "metadata": {},
     "output_type": "execute_result"
    }
   ],
   "source": [
    "dados_2.columns"
   ]
  },
  {
   "cell_type": "code",
   "execution_count": 58,
   "metadata": {
    "ExecuteTime": {
     "end_time": "2021-02-10T11:46:36.398428Z",
     "start_time": "2021-02-10T11:46:36.350167Z"
    }
   },
   "outputs": [
    {
     "data": {
      "text/html": [
       "<div>\n",
       "<style scoped>\n",
       "    .dataframe tbody tr th:only-of-type {\n",
       "        vertical-align: middle;\n",
       "    }\n",
       "\n",
       "    .dataframe tbody tr th {\n",
       "        vertical-align: top;\n",
       "    }\n",
       "\n",
       "    .dataframe thead th {\n",
       "        text-align: right;\n",
       "    }\n",
       "</style>\n",
       "<table border=\"1\" class=\"dataframe\">\n",
       "  <thead>\n",
       "    <tr style=\"text-align: right;\">\n",
       "      <th></th>\n",
       "      <th>claps</th>\n",
       "      <th>days_since_publication</th>\n",
       "      <th>fans</th>\n",
       "      <th>link</th>\n",
       "      <th>num_responses</th>\n",
       "      <th>publication</th>\n",
       "      <th>published_date</th>\n",
       "      <th>read_ratio</th>\n",
       "      <th>read_time</th>\n",
       "      <th>reads</th>\n",
       "      <th>...</th>\n",
       "      <th>type</th>\n",
       "      <th>views</th>\n",
       "      <th>word_count</th>\n",
       "      <th>claps_per_word</th>\n",
       "      <th>editing_days</th>\n",
       "      <th>&lt;tag&gt;Education</th>\n",
       "      <th>&lt;tag&gt;Data Science</th>\n",
       "      <th>&lt;tag&gt;Towards Data Science</th>\n",
       "      <th>&lt;tag&gt;Machine Learning</th>\n",
       "      <th>&lt;tag&gt;Python</th>\n",
       "    </tr>\n",
       "  </thead>\n",
       "  <tbody>\n",
       "    <tr>\n",
       "      <th>129</th>\n",
       "      <td>2</td>\n",
       "      <td>597.301123</td>\n",
       "      <td>2</td>\n",
       "      <td>https://medium.com/p/screw-the-environment-but...</td>\n",
       "      <td>0</td>\n",
       "      <td>None</td>\n",
       "      <td>2017-06-10 14:25:00</td>\n",
       "      <td>42.17</td>\n",
       "      <td>7</td>\n",
       "      <td>70</td>\n",
       "      <td>...</td>\n",
       "      <td>published</td>\n",
       "      <td>166</td>\n",
       "      <td>1859</td>\n",
       "      <td>0.001076</td>\n",
       "      <td>0</td>\n",
       "      <td>0</td>\n",
       "      <td>0</td>\n",
       "      <td>0</td>\n",
       "      <td>0</td>\n",
       "      <td>0</td>\n",
       "    </tr>\n",
       "    <tr>\n",
       "      <th>125</th>\n",
       "      <td>18</td>\n",
       "      <td>589.983168</td>\n",
       "      <td>3</td>\n",
       "      <td>https://medium.com/p/the-vanquishing-of-war-pl...</td>\n",
       "      <td>0</td>\n",
       "      <td>None</td>\n",
       "      <td>2017-06-17 22:02:00</td>\n",
       "      <td>30.34</td>\n",
       "      <td>14</td>\n",
       "      <td>54</td>\n",
       "      <td>...</td>\n",
       "      <td>published</td>\n",
       "      <td>178</td>\n",
       "      <td>3891</td>\n",
       "      <td>0.004626</td>\n",
       "      <td>0</td>\n",
       "      <td>0</td>\n",
       "      <td>0</td>\n",
       "      <td>0</td>\n",
       "      <td>0</td>\n",
       "      <td>0</td>\n",
       "    </tr>\n",
       "    <tr>\n",
       "      <th>132</th>\n",
       "      <td>51</td>\n",
       "      <td>577.363292</td>\n",
       "      <td>20</td>\n",
       "      <td>https://medium.com/p/capstone-project-mercedes...</td>\n",
       "      <td>0</td>\n",
       "      <td>None</td>\n",
       "      <td>2017-06-30 12:55:00</td>\n",
       "      <td>20.02</td>\n",
       "      <td>42</td>\n",
       "      <td>222</td>\n",
       "      <td>...</td>\n",
       "      <td>published</td>\n",
       "      <td>1109</td>\n",
       "      <td>12025</td>\n",
       "      <td>0.004241</td>\n",
       "      <td>0</td>\n",
       "      <td>0</td>\n",
       "      <td>0</td>\n",
       "      <td>0</td>\n",
       "      <td>1</td>\n",
       "      <td>1</td>\n",
       "    </tr>\n",
       "    <tr>\n",
       "      <th>126</th>\n",
       "      <td>0</td>\n",
       "      <td>576.520688</td>\n",
       "      <td>0</td>\n",
       "      <td>https://medium.com/p/home-of-the-scared-5af0fe...</td>\n",
       "      <td>0</td>\n",
       "      <td>None</td>\n",
       "      <td>2017-07-01 09:08:00</td>\n",
       "      <td>35.85</td>\n",
       "      <td>9</td>\n",
       "      <td>19</td>\n",
       "      <td>...</td>\n",
       "      <td>published</td>\n",
       "      <td>53</td>\n",
       "      <td>2533</td>\n",
       "      <td>0.000000</td>\n",
       "      <td>0</td>\n",
       "      <td>0</td>\n",
       "      <td>0</td>\n",
       "      <td>0</td>\n",
       "      <td>0</td>\n",
       "      <td>0</td>\n",
       "    </tr>\n",
       "    <tr>\n",
       "      <th>121</th>\n",
       "      <td>0</td>\n",
       "      <td>572.533035</td>\n",
       "      <td>0</td>\n",
       "      <td>https://medium.com/p/the-triumph-of-peace-f485...</td>\n",
       "      <td>0</td>\n",
       "      <td>None</td>\n",
       "      <td>2017-07-05 08:51:00</td>\n",
       "      <td>8.47</td>\n",
       "      <td>14</td>\n",
       "      <td>5</td>\n",
       "      <td>...</td>\n",
       "      <td>published</td>\n",
       "      <td>59</td>\n",
       "      <td>3892</td>\n",
       "      <td>0.000000</td>\n",
       "      <td>1</td>\n",
       "      <td>0</td>\n",
       "      <td>0</td>\n",
       "      <td>0</td>\n",
       "      <td>0</td>\n",
       "      <td>0</td>\n",
       "    </tr>\n",
       "    <tr>\n",
       "      <th>...</th>\n",
       "      <td>...</td>\n",
       "      <td>...</td>\n",
       "      <td>...</td>\n",
       "      <td>...</td>\n",
       "      <td>...</td>\n",
       "      <td>...</td>\n",
       "      <td>...</td>\n",
       "      <td>...</td>\n",
       "      <td>...</td>\n",
       "      <td>...</td>\n",
       "      <td>...</td>\n",
       "      <td>...</td>\n",
       "      <td>...</td>\n",
       "      <td>...</td>\n",
       "      <td>...</td>\n",
       "      <td>...</td>\n",
       "      <td>...</td>\n",
       "      <td>...</td>\n",
       "      <td>...</td>\n",
       "      <td>...</td>\n",
       "      <td>...</td>\n",
       "    </tr>\n",
       "    <tr>\n",
       "      <th>6</th>\n",
       "      <td>370</td>\n",
       "      <td>16.337142</td>\n",
       "      <td>50</td>\n",
       "      <td>https://towardsdatascience.com/the-reality-of-...</td>\n",
       "      <td>1</td>\n",
       "      <td>Towards Data Science</td>\n",
       "      <td>2019-01-12 13:33:00</td>\n",
       "      <td>25.00</td>\n",
       "      <td>11</td>\n",
       "      <td>343</td>\n",
       "      <td>...</td>\n",
       "      <td>published</td>\n",
       "      <td>1372</td>\n",
       "      <td>2795</td>\n",
       "      <td>0.132379</td>\n",
       "      <td>8</td>\n",
       "      <td>1</td>\n",
       "      <td>0</td>\n",
       "      <td>0</td>\n",
       "      <td>0</td>\n",
       "      <td>0</td>\n",
       "    </tr>\n",
       "    <tr>\n",
       "      <th>3</th>\n",
       "      <td>315</td>\n",
       "      <td>12.204314</td>\n",
       "      <td>44</td>\n",
       "      <td>https://towardsdatascience.com/the-myth-of-us-...</td>\n",
       "      <td>0</td>\n",
       "      <td>Towards Data Science</td>\n",
       "      <td>2019-01-16 16:44:00</td>\n",
       "      <td>26.47</td>\n",
       "      <td>10</td>\n",
       "      <td>266</td>\n",
       "      <td>...</td>\n",
       "      <td>published</td>\n",
       "      <td>1005</td>\n",
       "      <td>2532</td>\n",
       "      <td>0.124408</td>\n",
       "      <td>15</td>\n",
       "      <td>1</td>\n",
       "      <td>0</td>\n",
       "      <td>0</td>\n",
       "      <td>0</td>\n",
       "      <td>0</td>\n",
       "    </tr>\n",
       "    <tr>\n",
       "      <th>5</th>\n",
       "      <td>2000</td>\n",
       "      <td>8.215425</td>\n",
       "      <td>356</td>\n",
       "      <td>https://towardsdatascience.com/the-poisson-dis...</td>\n",
       "      <td>7</td>\n",
       "      <td>Towards Data Science</td>\n",
       "      <td>2019-01-20 16:28:00</td>\n",
       "      <td>26.35</td>\n",
       "      <td>14</td>\n",
       "      <td>2320</td>\n",
       "      <td>...</td>\n",
       "      <td>published</td>\n",
       "      <td>8806</td>\n",
       "      <td>3371</td>\n",
       "      <td>0.593296</td>\n",
       "      <td>0</td>\n",
       "      <td>1</td>\n",
       "      <td>1</td>\n",
       "      <td>1</td>\n",
       "      <td>0</td>\n",
       "      <td>0</td>\n",
       "    </tr>\n",
       "    <tr>\n",
       "      <th>1</th>\n",
       "      <td>53</td>\n",
       "      <td>3.547005</td>\n",
       "      <td>16</td>\n",
       "      <td>https://towardsdatascience.com/a-great-public-...</td>\n",
       "      <td>2</td>\n",
       "      <td>Towards Data Science</td>\n",
       "      <td>2019-01-25 08:30:00</td>\n",
       "      <td>17.17</td>\n",
       "      <td>13</td>\n",
       "      <td>96</td>\n",
       "      <td>...</td>\n",
       "      <td>published</td>\n",
       "      <td>559</td>\n",
       "      <td>3549</td>\n",
       "      <td>0.014934</td>\n",
       "      <td>1</td>\n",
       "      <td>1</td>\n",
       "      <td>0</td>\n",
       "      <td>0</td>\n",
       "      <td>0</td>\n",
       "      <td>0</td>\n",
       "    </tr>\n",
       "    <tr>\n",
       "      <th>17</th>\n",
       "      <td>901</td>\n",
       "      <td>1.218629</td>\n",
       "      <td>49</td>\n",
       "      <td>https://towardsdatascience.com/interactive-con...</td>\n",
       "      <td>1</td>\n",
       "      <td>Towards Data Science</td>\n",
       "      <td>2019-01-27 16:23:00</td>\n",
       "      <td>23.81</td>\n",
       "      <td>6</td>\n",
       "      <td>165</td>\n",
       "      <td>...</td>\n",
       "      <td>published</td>\n",
       "      <td>693</td>\n",
       "      <td>1191</td>\n",
       "      <td>0.756507</td>\n",
       "      <td>0</td>\n",
       "      <td>1</td>\n",
       "      <td>1</td>\n",
       "      <td>1</td>\n",
       "      <td>0</td>\n",
       "      <td>0</td>\n",
       "    </tr>\n",
       "  </tbody>\n",
       "</table>\n",
       "<p>133 rows × 25 columns</p>\n",
       "</div>"
      ],
      "text/plain": [
       "     claps  days_since_publication  fans  \\\n",
       "129      2              597.301123     2   \n",
       "125     18              589.983168     3   \n",
       "132     51              577.363292    20   \n",
       "126      0              576.520688     0   \n",
       "121      0              572.533035     0   \n",
       "..     ...                     ...   ...   \n",
       "6      370               16.337142    50   \n",
       "3      315               12.204314    44   \n",
       "5     2000                8.215425   356   \n",
       "1       53                3.547005    16   \n",
       "17     901                1.218629    49   \n",
       "\n",
       "                                                  link  num_responses  \\\n",
       "129  https://medium.com/p/screw-the-environment-but...              0   \n",
       "125  https://medium.com/p/the-vanquishing-of-war-pl...              0   \n",
       "132  https://medium.com/p/capstone-project-mercedes...              0   \n",
       "126  https://medium.com/p/home-of-the-scared-5af0fe...              0   \n",
       "121  https://medium.com/p/the-triumph-of-peace-f485...              0   \n",
       "..                                                 ...            ...   \n",
       "6    https://towardsdatascience.com/the-reality-of-...              1   \n",
       "3    https://towardsdatascience.com/the-myth-of-us-...              0   \n",
       "5    https://towardsdatascience.com/the-poisson-dis...              7   \n",
       "1    https://towardsdatascience.com/a-great-public-...              2   \n",
       "17   https://towardsdatascience.com/interactive-con...              1   \n",
       "\n",
       "              publication      published_date  read_ratio  read_time  reads  \\\n",
       "129                  None 2017-06-10 14:25:00       42.17          7     70   \n",
       "125                  None 2017-06-17 22:02:00       30.34         14     54   \n",
       "132                  None 2017-06-30 12:55:00       20.02         42    222   \n",
       "126                  None 2017-07-01 09:08:00       35.85          9     19   \n",
       "121                  None 2017-07-05 08:51:00        8.47         14      5   \n",
       "..                    ...                 ...         ...        ...    ...   \n",
       "6    Towards Data Science 2019-01-12 13:33:00       25.00         11    343   \n",
       "3    Towards Data Science 2019-01-16 16:44:00       26.47         10    266   \n",
       "5    Towards Data Science 2019-01-20 16:28:00       26.35         14   2320   \n",
       "1    Towards Data Science 2019-01-25 08:30:00       17.17         13     96   \n",
       "17   Towards Data Science 2019-01-27 16:23:00       23.81          6    165   \n",
       "\n",
       "     ...       type views word_count claps_per_word  editing_days  \\\n",
       "129  ...  published   166       1859       0.001076             0   \n",
       "125  ...  published   178       3891       0.004626             0   \n",
       "132  ...  published  1109      12025       0.004241             0   \n",
       "126  ...  published    53       2533       0.000000             0   \n",
       "121  ...  published    59       3892       0.000000             1   \n",
       "..   ...        ...   ...        ...            ...           ...   \n",
       "6    ...  published  1372       2795       0.132379             8   \n",
       "3    ...  published  1005       2532       0.124408            15   \n",
       "5    ...  published  8806       3371       0.593296             0   \n",
       "1    ...  published   559       3549       0.014934             1   \n",
       "17   ...  published   693       1191       0.756507             0   \n",
       "\n",
       "    <tag>Education  <tag>Data Science  <tag>Towards Data Science  \\\n",
       "129              0                  0                          0   \n",
       "125              0                  0                          0   \n",
       "132              0                  0                          0   \n",
       "126              0                  0                          0   \n",
       "121              0                  0                          0   \n",
       "..             ...                ...                        ...   \n",
       "6                1                  0                          0   \n",
       "3                1                  0                          0   \n",
       "5                1                  1                          1   \n",
       "1                1                  0                          0   \n",
       "17               1                  1                          1   \n",
       "\n",
       "     <tag>Machine Learning  <tag>Python  \n",
       "129                      0            0  \n",
       "125                      0            0  \n",
       "132                      1            1  \n",
       "126                      0            0  \n",
       "121                      0            0  \n",
       "..                     ...          ...  \n",
       "6                        0            0  \n",
       "3                        0            0  \n",
       "5                        0            0  \n",
       "1                        0            0  \n",
       "17                       0            0  \n",
       "\n",
       "[133 rows x 25 columns]"
      ]
     },
     "execution_count": 58,
     "metadata": {},
     "output_type": "execute_result"
    }
   ],
   "source": [
    "dados_2"
   ]
  },
  {
   "cell_type": "code",
   "execution_count": 59,
   "metadata": {
    "ExecuteTime": {
     "end_time": "2021-02-10T11:46:48.473758Z",
     "start_time": "2021-02-10T11:46:48.352728Z"
    }
   },
   "outputs": [
    {
     "data": {
      "application/vnd.jupyter.widget-view+json": {
       "model_id": "db1b6d032f93432dbabd99e4140a9d9e",
       "version_major": 2,
       "version_minor": 0
      },
      "text/plain": [
       "interactive(children=(IntRangeSlider(value=(3400, 10200), continuous_update=False, description='Claps:', max=1…"
      ]
     },
     "metadata": {},
     "output_type": "display_data"
    },
    {
     "data": {
      "text/plain": [
       "<function __main__.filtragem_2(claps, read_ratio, read_time, read, colum_1, colum_2, colum_3)>"
      ]
     },
     "execution_count": 59,
     "metadata": {},
     "output_type": "execute_result"
    }
   ],
   "source": [
    "def filtragem_2(claps,\n",
    "                read_ratio,\n",
    "                read_time,\n",
    "                read,\n",
    "                colum_1,\n",
    "                colum_2,\n",
    "                colum_3):\n",
    "    claps_initial, claps_end = claps\n",
    "    read_ratio_initial, read_ratio_end = read_ratio\n",
    "    read_time_initial, read_time_end = read_time\n",
    "    read_initial, read_end = read\n",
    "    display(dados_2.loc[(dados_2[\"claps\"] >= claps_initial) &\\\n",
    "                (dados_2[\"claps\"] <= claps_end) &\\\n",
    "                (dados_2[\"read_ratio\"] >= read_ratio_initial) &\\\n",
    "                (dados_2[\"read_ratio\"] <= read_ratio_end) &\\\n",
    "                (dados_2[\"read_time\"] >= read_time_initial) &\\\n",
    "                (dados_2[\"read_time\"] <= read_time_end) &\\\n",
    "                (dados_2[\"read_time\"] >= read_initial) &\\\n",
    "                (dados_2[\"read_time\"] <= read_end),\n",
    "                [colum_1, colum_2, colum_3]])\n",
    "\n",
    "claps_widget = widgets.IntRangeSlider(min=dados_2[\"claps\"].unique().min(),\n",
    "                                      max=dados_2[\"claps\"].unique().max(),\n",
    "                                      step=1,\n",
    "                                      description='Claps:',\n",
    "                                      disabled=False,\n",
    "                                      continuous_update=False,\n",
    "                                      orientation='horizontal',\n",
    "                                      readout=True,\n",
    "                                      readout_format='d')\n",
    "read_ratio_widget = widgets.IntRangeSlider(min=int(dados_2[\"read_ratio\"].unique().min()),\n",
    "                                      max=int(dados_2[\"read_ratio\"].unique().max()),\n",
    "                                      step=1,\n",
    "                                      description='Read ratio:',\n",
    "                                      disabled=False,\n",
    "                                      continuous_update=False,\n",
    "                                      orientation='horizontal',\n",
    "                                      readout=True,\n",
    "                                      readout_format='d')\n",
    "read_time_widget = widgets.IntRangeSlider(min=int(dados_2[\"read_time\"].unique().min()),\n",
    "                                      max=int(dados_2[\"read_time\"].unique().max()),\n",
    "                                      step=1,\n",
    "                                      description='Read Time:',\n",
    "                                      disabled=False,\n",
    "                                      continuous_update=False,\n",
    "                                      orientation='horizontal',\n",
    "                                      readout=True,\n",
    "                                      readout_format='d')\n",
    "read_widget = widgets.IntRangeSlider(min=dados_2[\"reads\"].unique().min(),\n",
    "                                     max=dados_2[\"reads\"].unique().max(),\n",
    "                                     step=1,\n",
    "                                     description='Reads:',\n",
    "                                     disabled=False,\n",
    "                                     continuous_update=False,\n",
    "                                     orientation='horizontal',\n",
    "                                     readout=True,\n",
    "                                     readout_format='d')\n",
    "interact(filtragem_2,\n",
    "         claps=claps_widget,\n",
    "                read_ratio=read_ratio_widget,\n",
    "                read_time=read_time_widget,\n",
    "                read=read_widget,\n",
    "                colum_1=dados_2.columns,\n",
    "                colum_2=dados_2.columns,\n",
    "                colum_3=dados_2.columns)\n"
   ]
  },
  {
   "cell_type": "code",
   "execution_count": 60,
   "metadata": {
    "ExecuteTime": {
     "end_time": "2021-02-10T11:49:03.480536Z",
     "start_time": "2021-02-10T11:49:03.427766Z"
    }
   },
   "outputs": [
    {
     "data": {
      "application/vnd.jupyter.widget-view+json": {
       "model_id": "6f6f1b391e824d7390b7f78affb5d640",
       "version_major": 2,
       "version_minor": 0
      },
      "text/plain": [
       "interactive(children=(Dropdown(description='colum_1', options=('claps', 'days_since_publication', 'fans', 'lin…"
      ]
     },
     "metadata": {},
     "output_type": "display_data"
    }
   ],
   "source": [
    "@interact\n",
    "def correlation_interactive(colum_1=dados_2.columns,\n",
    "                            colum_2=dados_2.columns,\n",
    "                            metho=[\"pearson\", \"kendall\", \"spearman\"]):\n",
    "    display(dados_2.loc[:, [colum_1, colum_2]].corr())"
   ]
  },
  {
   "cell_type": "markdown",
   "metadata": {},
   "source": [
    "###  Interatividade em gráficos\n",
    "\n",
    "Da mesma forma como foi possível vincular ipwidgest com Pandas DataFrame, é possível vincular ipwindgest com funções gráficas.Contudo, o uso de Matplotlib e ipwidges não tem uma performance alta, ocasionando que os gráficos não possam ser explorados a profundidade. Para resolver esse problema vamos analisar outra biblioteca para realizar gráficos em Python. Isso não significa que Matplotlib não é uma biblioteca boa, somente que é interessante conhecer outras alternativas além das mais usadas.\n",
    "\n",
    "Neste sentido, a biblioteca [plotly](https://plotly.com/) se apresenta como uma excelente alternativa para conseguir explorar os dados de uma forma fluida com mais opções de visualização.\n",
    "\n",
    "Gostaria de destacar que não vamos revisar o uso de esta biblioteca da mesma forma que fizemos com Matplotlib. Para as pessoas que estejam interessadas recomendo revisar a documentação. Outra coisa importante é que a biblioteca pode ser usada em R e Julia.\n"
   ]
  },
  {
   "cell_type": "code",
   "execution_count": 64,
   "metadata": {
    "ExecuteTime": {
     "end_time": "2021-02-10T11:50:02.774880Z",
     "start_time": "2021-02-10T11:50:02.208918Z"
    }
   },
   "outputs": [],
   "source": [
    "import ipywidgets as widgets\n",
    "import matplotlib.pyplot as plt\n",
    "import plotly.graph_objects as go\n",
    "import plotly.express as px\n",
    "import pandas as pd\n",
    "import plotly.figure_factory as ff\n",
    "import numpy as np\n",
    "from ipywidgets import interact, interactive, fixed, interact_manual\n",
    "from plotly.subplots import make_subplots\n",
    "from scipy.spatial import Delaunay"
   ]
  },
  {
   "cell_type": "markdown",
   "metadata": {},
   "source": [
    "### Função seno"
   ]
  },
  {
   "cell_type": "code",
   "execution_count": 62,
   "metadata": {
    "ExecuteTime": {
     "end_time": "2021-02-10T11:49:49.720057Z",
     "start_time": "2021-02-10T11:49:49.404716Z"
    }
   },
   "outputs": [
    {
     "data": {
      "application/vnd.jupyter.widget-view+json": {
       "model_id": "3b4d2a6d18334236bc22f778b7bed2ee",
       "version_major": 2,
       "version_minor": 0
      },
      "text/plain": [
       "interactive(children=(FloatSlider(value=2.0, description='A', max=5.0), FloatSlider(value=2.0, description='k'…"
      ]
     },
     "metadata": {},
     "output_type": "display_data"
    }
   ],
   "source": [
    "# @interact_manual\n",
    "@interact(continuous_update=False)\n",
    "def sin_plot(A=(0, 5, 0.1),\n",
    "             k=(0, 5, 0.1),\n",
    "             c=(0, 10),\n",
    "             b=(0.1)):\n",
    "    plt.style.use('ggplot')\n",
    "    X = np.arange(0, 10, 0.01)\n",
    "    plt.figure(figsize=(20,10))\n",
    "    plt.plot(X, A*np.sin(k*X-b)+c)\n",
    "    plt.xlim(-1, 10+1)\n",
    "    plt.xlabel('X', size=20)\n",
    "    plt.ylabel('Sin()', size=20)\n",
    "    plt.show()"
   ]
  },
  {
   "cell_type": "code",
   "execution_count": 65,
   "metadata": {
    "ExecuteTime": {
     "end_time": "2021-02-10T11:50:05.496710Z",
     "start_time": "2021-02-10T11:50:05.295824Z"
    }
   },
   "outputs": [
    {
     "data": {
      "application/vnd.jupyter.widget-view+json": {
       "model_id": "964ad049e6ed4ca8958377629d2b8e2b",
       "version_major": 2,
       "version_minor": 0
      },
      "text/plain": [
       "interactive(children=(FloatSlider(value=2.0, description='A', max=5.0), FloatSlider(value=2.0, description='k'…"
      ]
     },
     "metadata": {},
     "output_type": "display_data"
    }
   ],
   "source": [
    "# @interact_manual\n",
    "@interact(continuous_update=False)\n",
    "def sin_plot(A=(0, 5, 0.1),\n",
    "             k=(0, 5, 0.1),\n",
    "             c=(0, 10),\n",
    "             b=(0.1)):\n",
    "    fig = go.Figure()\n",
    "    X = np.arange(0, 10, 0.01)\n",
    "    fig.add_trace(go.Scatter(x=X,\n",
    "                             y=A*np.sin(k*X-b)+c,\n",
    "                             mode='lines',\n",
    "                             name=\"Seno\"))\n",
    "    fig.update_layout(showlegend=True,\n",
    "                      xaxis_title='X',\n",
    "                      yaxis_title='Sin',\n",
    "                      height=500,\n",
    "                      width=800,)\n",
    "    fig.show()"
   ]
  },
  {
   "cell_type": "markdown",
   "metadata": {},
   "source": [
    "### Scarter Plot"
   ]
  },
  {
   "cell_type": "code",
   "execution_count": 66,
   "metadata": {
    "ExecuteTime": {
     "end_time": "2021-02-10T11:50:38.383265Z",
     "start_time": "2021-02-10T11:50:38.311256Z"
    }
   },
   "outputs": [
    {
     "data": {
      "application/vnd.jupyter.widget-view+json": {
       "model_id": "19c44af094cd40b6a0bf4d46f3f1ddac",
       "version_major": 2,
       "version_minor": 0
      },
      "text/plain": [
       "interactive(children=(IntSlider(value=50, description='upper'), IntSlider(value=50, description='length'), Flo…"
      ]
     },
     "metadata": {},
     "output_type": "display_data"
    }
   ],
   "source": [
    "@interact_manual\n",
    "def scatter_plot(upper=(0, 100),\n",
    "                 length=(0, 100),\n",
    "                 alpha=(0.0, 1.0),\n",
    "                 ls=['-', ':', '--', '-.'],\n",
    "                 marker=[\"o\", \"v\", \"^\", \"8\", \"s\", \"H\", \"D\"]):\n",
    "    plt.style.use('ggplot')\n",
    "    plt.figure(figsize=(20,10))\n",
    "    y = 3*np.random.randint(0,upper, length) + 5\n",
    "    x = np.arange(0, len(y))\n",
    "    plt.plot(x, 3*np.linspace(0, upper, length)+5, ls=ls, alpha=alpha)\n",
    "    plt.scatter(x=x,\n",
    "                y=y,\n",
    "                s=np.linspace(100, 5000, len(x)),\n",
    "                c=np.random.uniform(low=1, high=10, size=len(x)),\n",
    "                marker=marker,\n",
    "                alpha=alpha)\n",
    "    plt.ylim(0, np.max(y)*1.2)\n",
    "    plt.title(\"Scarter plot\")\n",
    "    plt.xlabel(\"Eixo X\", size=20)\n",
    "    plt.ylabel(\"Eixo Y\", size=20)  "
   ]
  },
  {
   "cell_type": "code",
   "execution_count": 67,
   "metadata": {
    "ExecuteTime": {
     "end_time": "2021-02-10T11:50:53.920189Z",
     "start_time": "2021-02-10T11:50:53.861028Z"
    }
   },
   "outputs": [
    {
     "data": {
      "application/vnd.jupyter.widget-view+json": {
       "model_id": "f17f227427d5432bb655d08e4d571de5",
       "version_major": 2,
       "version_minor": 0
      },
      "text/plain": [
       "interactive(children=(IntSlider(value=50, description='upper'), IntSlider(value=50, description='length'), Flo…"
      ]
     },
     "metadata": {},
     "output_type": "display_data"
    }
   ],
   "source": [
    "@interact_manual\n",
    "def scatter_plot(upper=(0, 100),\n",
    "                 length=(0, 100),\n",
    "                 alpha=(0.0, 1.0)):\n",
    "    y = 3*np.random.randint(0,upper, length) + 5\n",
    "    x = np.arange(0, len(y))\n",
    "    fig = px.scatter(x=x,\n",
    "                     y=y,\n",
    "                     color=np.random.uniform(low=1, high=10, size=len(x)),\n",
    "                     size=np.linspace(100, 5000, len(x)),\n",
    "                    opacity=alpha)\n",
    "    fig.show()\n"
   ]
  },
  {
   "cell_type": "markdown",
   "metadata": {},
   "source": [
    "### Modelo cinetico"
   ]
  },
  {
   "cell_type": "code",
   "execution_count": 68,
   "metadata": {
    "ExecuteTime": {
     "end_time": "2021-02-10T11:51:24.332863Z",
     "start_time": "2021-02-10T11:51:24.284448Z"
    }
   },
   "outputs": [
    {
     "data": {
      "application/vnd.jupyter.widget-view+json": {
       "model_id": "060b372b077b484c9a7e35a9970ae206",
       "version_major": 2,
       "version_minor": 0
      },
      "text/plain": [
       "interactive(children=(FloatSlider(value=1.5050000000000001, description='mu_max', max=3.0, min=0.01), FloatSli…"
      ]
     },
     "metadata": {},
     "output_type": "display_data"
    }
   ],
   "source": [
    "@interact_manual\n",
    "def kinetic_comparison(mu_max=(0.01, 3),\n",
    "                       K_s=(0.01, 10),\n",
    "                       K_I=(0.01, 20)):\n",
    "    plt.style.use('ggplot')\n",
    "    plt.figure(figsize=(20,10))\n",
    "    s = np.linspace(0, 100, 100)   \n",
    "    mu = mu_max * s/(s+K_s)\n",
    "    mu_I = mu_max * s/(s*(1+s/K_I)+K_s)\n",
    "    plt.plot(s, mu)\n",
    "    plt.plot(s, mu_I)\n",
    "    plt.ylim(0, 3)\n",
    "    plt.xlabel(\"Substrato\", size=20)\n",
    "    plt.ylabel(\"Velocidade especifica\", size=20)\n"
   ]
  },
  {
   "cell_type": "code",
   "execution_count": 69,
   "metadata": {
    "ExecuteTime": {
     "end_time": "2021-02-10T11:51:38.684369Z",
     "start_time": "2021-02-10T11:51:38.618925Z"
    }
   },
   "outputs": [
    {
     "data": {
      "application/vnd.jupyter.widget-view+json": {
       "model_id": "4ad639e4d2a04ea88892a584f74462ab",
       "version_major": 2,
       "version_minor": 0
      },
      "text/plain": [
       "interactive(children=(FloatSlider(value=1.5050000000000001, description='mu_max', max=3.0, min=0.01), FloatSli…"
      ]
     },
     "metadata": {},
     "output_type": "display_data"
    }
   ],
   "source": [
    "@interact_manual\n",
    "def kinetic_comparison(mu_max=(0.01, 3),\n",
    "                       K_s=(0.01, 10),\n",
    "                       K_I=(0.01, 20)):\n",
    "    s = np.linspace(0, 100, 100)   \n",
    "    mu, mu_I = mu_max * s/(s+K_s), mu_max * s/(s*(1+s/K_I)+K_s)\n",
    "    fig = go.Figure()\n",
    "    for y_values, label in zip((mu, mu_I),\n",
    "                               ('Sem inibição', 'Com inibição')):\n",
    "        fig.add_trace(go.Scatter(x=s,\n",
    "                                 y=y_values,\n",
    "                                 mode='lines',\n",
    "                                 name=label))\n",
    "    fig.update_layout(showlegend=True,\n",
    "                      title_text=\"Comparação\",\n",
    "                      xaxis_title='Substrato',\n",
    "                      yaxis_title='Velocidade especifica',\n",
    "                      height=500,\n",
    "                      width=800,)\n",
    "    fig.show()\n"
   ]
  },
  {
   "cell_type": "markdown",
   "metadata": {
    "ExecuteTime": {
     "end_time": "2021-02-09T13:36:08.268343Z",
     "start_time": "2021-02-09T13:36:08.202984Z"
    }
   },
   "source": [
    "### Heatmap"
   ]
  },
  {
   "cell_type": "code",
   "execution_count": 70,
   "metadata": {
    "ExecuteTime": {
     "end_time": "2021-02-10T11:51:53.192554Z",
     "start_time": "2021-02-10T11:51:53.012883Z"
    }
   },
   "outputs": [
    {
     "data": {
      "image/png": "[encoded data removed]",
      "text/plain": [
       "<Figure size 432x288 with 1 Axes>"
      ]
     },
     "metadata": {},
     "output_type": "display_data"
    },
    {
     "data": {
      "text/plain": [
       "<Figure size 1440x1440 with 0 Axes>"
      ]
     },
     "metadata": {},
     "output_type": "display_data"
    }
   ],
   "source": [
    "fig, ax = plt.subplots()\n",
    "plt.figure(figsize=(20,20))\n",
    "im = ax.imshow(np.random.chisquare(5, (20,20)))"
   ]
  },
  {
   "cell_type": "code",
   "execution_count": 71,
   "metadata": {
    "ExecuteTime": {
     "end_time": "2021-02-10T11:51:55.652804Z",
     "start_time": "2021-02-10T11:51:55.562434Z"
    }
   },
   "outputs": [
    {
     "data": {
      "application/vnd.plotly.v1+json": {
       "config": {
        "plotlyServerURL": "https://plot.ly"
       },
       "data": [
        {
         "coloraxis": "coloraxis",
         "hovertemplate": "x: %{x}<br>y: %{y}<br>color: %{z}<extra></extra>",
         "name": "0",
         "type": "heatmap",
         "xaxis": "x",
         "yaxis": "y",
         "z": [
          [
           0.5674913526915415,
           2.5790529168618144,
           13.364229159514789,
           3.0974948234006328,
           3.015595212538187,
           12.484625818171367,
           11.860562787095375,
           2.662131902485994,
           4.358042693958638,
           3.120759473431013,
           2.0497304276168893,
           3.310494538651135,
           5.058483946726108,
           0.12318712900927185,
           6.2564373429301545,
           1.6644093846264414,
           4.360901741407727,
           9.829722169217192,
           3.178402549603712,
           3.963848016642179
          ],
          [
           13.922730515007656,
           4.0387117215954245,
           1.187344401534622,
           8.248657552328597,
           0.6161380568746825,
           2.450638508462054,
           17.29515975785904,
           8.524145530880313,
           6.490140165525138,
           12.406869443020142,
           1.7497260572377495,
           0.058279475959275476,
           5.1364173293442725,
           12.83072322023335,
           5.642281772581775,
           0.5298988898620892,
           1.3419676832407117,
           1.3561448245105034,
           4.603983816853206,
           3.223601225369392
          ],
          [
           0.29089267844290584,
           3.294393863245092,
           4.4958349393339265,
           3.023430103445832,
           0.24866589377080403,
           7.344071019424528,
           2.1250256969054777,
           2.4029148923375723,
           1.696745698322653,
           4.197664833739069,
           0.8418118365279559,
           2.948712354526886,
           2.313920687868975,
           1.5814387377893009,
           0.7940953114091894,
           4.977053190520422,
           10.672691242479077,
           6.704457986370632,
           1.7716920759838286,
           10.507006222946988
          ],
          [
           2.368161940630406,
           0.07096637580343051,
           10.826921912708517,
           1.1397917715153034,
           10.952143319013892,
           9.305538254557954,
           1.090916954191683,
           14.286518451117706,
           1.6353780544187657,
           6.896385863955709,
           5.630342714560359,
           0.34520632597822204,
           5.171997013414895,
           7.816503943723317,
           3.8886957995723344,
           4.664720669128851,
           1.5383390008117679,
           0.9768937097634701,
           1.0938350426784271,
           3.2140883474939894
          ],
          [
           4.150672181903039,
           1.3910644464565622,
           3.4289130173865807,
           0.7213229710529296,
           12.921587755422303,
           4.370283449516352,
           1.4707681929120628,
           9.691850052458694,
           8.346388362385193,
           2.377430579051711,
           2.6514324855518683,
           1.5772878169618456,
           14.70635390072308,
           0.681494348565617,
           11.560451604566504,
           5.971417251978818,
           0.10964632990579314,
           1.4889204764531592,
           0.22987985671121433,
           0.7332603824333341
          ],
          [
           0.2100806358027836,
           4.815279572579443,
           0.01803181770786902,
           2.0669903797548543,
           4.470311289677495,
           3.5346815584720495,
           5.604660691648034,
           5.245200265345412,
           1.1784074310080548,
           8.219819010007003,
           12.115332401485043,
           0.3175841001925926,
           3.2344875167150877,
           8.257141110444206,
           0.28899486944177794,
           7.668734738198636,
           0.11007050160494623,
           12.695821168088116,
           3.0124694798754055,
           2.13504264405144
          ],
          [
           5.384152159825833,
           5.070379559554651,
           7.041932111280506,
           0.6680596846037117,
           8.971070125075505,
           4.05179625081269,
           11.590533159217578,
           2.557935057398202,
           0.8842982412492825,
           5.138528393610385,
           0.2567421214454508,
           9.950532550337629,
           5.127175419141666,
           1.0037713809803603,
           9.957143464614342,
           4.034176182912127,
           12.80694288323216,
           0.183103105196736,
           3.2463980823963543,
           2.850076948969255
          ],
          [
           0.6064816464037609,
           3.8044007017760353,
           4.5671588997389385,
           1.6485595180930217,
           5.546682517918205,
           0.7011840902808313,
           2.3373642957025726,
           2.372609657589611,
           2.3719273329001553,
           14.9105898436459,
           4.898271183859043,
           1.94020637564484,
           3.7662101418762597,
           1.3196830202165468,
           6.600252264061649,
           4.649531063866974,
           0.19713354431984098,
           4.098671713725825,
           8.940718520104447,
           17.270109001108644
          ],
          [
           3.408130785699441,
           6.639010201247632,
           10.343805947200849,
           3.987236473570091,
           0.14733673506321157,
           10.757046555959075,
           3.9838593359788215,
           14.661492333670212,
           8.326943011546561,
           0.08307611909301783,
           8.974366962737626,
           13.133195608528252,
           2.5571470490967907,
           12.142958132994277,
           3.166070283164807,
           2.564888113333698,
           2.8599397913391362,
           0.9679371376410753,
           2.3256911811496654,
           2.570357567418858
          ],
          [
           17.432077058872093,
           3.7764170772923924,
           0.09830956516888553,
           7.656190335897972,
           1.2208860822609693,
           9.352539711114037,
           13.872854671638347,
           3.0855472260054913,
           5.000498693410558,
           5.918793555876421,
           15.393784200118754,
           0.37833740948428357,
           2.7039499809566183,
           4.536616311015996,
           6.228495876201481,
           5.6301541821333005,
           3.5516902038104927,
           8.37776607831311,
           3.2288897125514278,
           5.19018541890007
          ],
          [
           1.7431720566261402,
           4.982082638743266,
           8.801530737579702,
           3.405818139995669,
           6.69713457690375,
           2.5386280509437653,
           5.4552753042567375,
           5.53597563657959,
           2.0831413464424986,
           5.495665611537407,
           12.894874585321906,
           0.7316332008120373,
           0.5131874725943134,
           0.0879427639821398,
           1.521945949781103,
           11.100228901993367,
           1.9251662661308853,
           2.841649303097598,
           1.99477377219535,
           0.06818047334364731
          ],
          [
           8.034630831844545,
           6.130469851404451,
           1.2853458193604665,
           0.37438884510951875,
           8.47663957176245,
           3.5488084677023375,
           6.732642381318225,
           3.5287295728268675,
           4.119939641676022,
           2.830865055739511,
           2.3142086544593203,
           7.178961337602321,
           4.7436527631798295,
           0.2630768744774032,
           5.033594421381597,
           3.145004143110771,
           1.0559717545002967,
           3.2127385614045894,
           0.08796633542776928,
           1.7273027736309057
          ],
          [
           0.04566557031613184,
           14.526335125561651,
           4.456773929616028,
           0.07822644761614704,
           4.204876797321712,
           14.336237049444117,
           0.36157095305906356,
           13.984196372773436,
           5.516282710959627,
           2.260490342429316,
           20.065732605945072,
           3.3118703443152877,
           7.165611374437323,
           2.2260045078792148,
           11.866894165296488,
           5.834339774571878,
           3.9315295939056,
           3.1068020514030845,
           3.7880409795099217,
           4.47213658512647
          ],
          [
           2.198156560186646,
           2.101066213052684,
           1.971090053945668,
           13.90341347655488,
           2.487939562043313,
           6.170495757083963,
           3.4189572615419555,
           8.80623524864076,
           7.999006798842404,
           10.49378351719726,
           0.7651046696609339,
           0.20689609551197352,
           7.408284421009714,
           1.041503595199989,
           6.492798320433716,
           8.93729349209609,
           2.6742151063470483,
           1.413397779881761,
           3.1539689187010698,
           11.537852854755167
          ],
          [
           7.703233229305475,
           5.231095260746997,
           3.2481837450340314,
           0.2554753537460673,
           10.78608991454311,
           1.9404865624691703,
           5.27055513176046,
           3.3631793357536153,
           0.01744466728763689,
           9.547112520811275,
           8.075488479233394,
           5.291508553723944,
           6.910037245743774,
           0.9544161955907808,
           0.39955707944919644,
           3.630954044460168,
           1.2996709980640937,
           8.405015972503866,
           2.2834085995812243,
           11.03315673145421
          ],
          [
           4.916901194961376,
           0.8693315868331147,
           1.3402405992154174,
           10.22761505311129,
           2.985546119301919,
           1.3719217021163521,
           1.6285692408529238e-07,
           10.491265228134464,
           6.664964739187887,
           2.727449530581792,
           6.292177606005395,
           22.636453041036535,
           3.8592115826219606,
           1.5542120350736968,
           18.970842986309428,
           2.1519441290101917,
           7.724695734615201,
           6.295918587086012,
           1.5016201910203504,
           2.0095833219974537
          ],
          [
           2.844600431042773,
           17.52675267190737,
           7.79923348378215,
           5.249112526933944,
           8.983561690710564,
           1.441863740971883,
           4.964306843353984,
           5.018885186250332,
           1.0179660198172737,
           1.2728398893301573,
           0.2394604312718194,
           6.547473257183996,
           12.464814166421146,
           5.961413183186705,
           0.46065477079049566,
           3.444421428025104,
           0.6489175026963653,
           11.358198918358264,
           8.857069215865543,
           3.8868894063262047
          ],
          [
           1.595625872480271,
           1.5660309605241651,
           1.464192808316699,
           0.9565181375279125,
           0.42170231492443216,
           4.463018009945112,
           4.92939997663797,
           2.3746195808111263,
           5.6413206624925625,
           0.33009687293365014,
           6.620127499149922,
           1.926391198320496,
           4.892825703763764,
           2.3571905807876234,
           6.1430328459183565,
           2.3248503915159353,
           7.583810550439276,
           1.9180118805310407,
           1.6149041054634616,
           7.083418385894755
          ],
          [
           0.6225680269647291,
           0.16217922946424052,
           0.669475635725178,
           1.1567971900764402,
           0.78701762038485,
           3.3238917994933175,
           6.998221027935551,
           16.509787265833072,
           10.923042669291073,
           4.65087184399252,
           5.010931338347875,
           5.991899931904731,
           8.842258964863866,
           15.026062247710843,
           0.028219948366023435,
           18.399839604946692,
           5.265768816731622,
           1.308173155768459,
           0.12675742320634245,
           0.9029561949431215
          ],
          [
           3.314127504450785,
           11.955398508733246,
           2.274213618613616,
           5.901523921295697,
           2.1448579774874363,
           6.6907767240031735,
           7.870130730568204,
           6.872117215772866,
           9.447824119021499,
           8.277761727879085,
           6.038904172080035,
           5.045773902668925,
           11.033396222206516,
           5.563348254227367,
           2.860207189355057,
           6.389488112505369,
           2.6253239906022627,
           1.4426556349606492,
           4.244995585992216,
           3.552180009428629
          ]
         ]
        }
       ],
       "layout": {
        "coloraxis": {
         "colorscale": [
          [
           0,
           "#0d0887"
          ],
          [
           0.1111111111111111,
           "#46039f"
          ],
          [
           0.2222222222222222,
           "#7201a8"
          ],
          [
           0.3333333333333333,
           "#9c179e"
          ],
          [
           0.4444444444444444,
           "#bd3786"
          ],
          [
           0.5555555555555556,
           "#d8576b"
          ],
          [
           0.6666666666666666,
           "#ed7953"
          ],
          [
           0.7777777777777778,
           "#fb9f3a"
          ],
          [
           0.8888888888888888,
           "#fdca26"
          ],
          [
           1,
           "#f0f921"
          ]
         ]
        },
        "margin": {
         "t": 60
        },
        "template": {
         "data": {
          "bar": [
           {
            "error_x": {
             "color": "#2a3f5f"
            },
            "error_y": {
             "color": "#2a3f5f"
            },
            "marker": {
             "line": {
              "color": "#E5ECF6",
              "width": 0.5
             }
            },
            "type": "bar"
           }
          ],
          "barpolar": [
           {
            "marker": {
             "line": {
              "color": "#E5ECF6",
              "width": 0.5
             }
            },
            "type": "barpolar"
           }
          ],
          "carpet": [
           {
            "aaxis": {
             "endlinecolor": "#2a3f5f",
             "gridcolor": "white",
             "linecolor": "white",
             "minorgridcolor": "white",
             "startlinecolor": "#2a3f5f"
            },
            "baxis": {
             "endlinecolor": "#2a3f5f",
             "gridcolor": "white",
             "linecolor": "white",
             "minorgridcolor": "white",
             "startlinecolor": "#2a3f5f"
            },
            "type": "carpet"
           }
          ],
          "choropleth": [
           {
            "colorbar": {
             "outlinewidth": 0,
             "ticks": ""
            },
            "type": "choropleth"
           }
          ],
          "contour": [
           {
            "colorbar": {
             "outlinewidth": 0,
             "ticks": ""
            },
            "colorscale": [
             [
              0,
              "#0d0887"
             ],
             [
              0.1111111111111111,
              "#46039f"
             ],
             [
              0.2222222222222222,
              "#7201a8"
             ],
             [
              0.3333333333333333,
              "#9c179e"
             ],
             [
              0.4444444444444444,
              "#bd3786"
             ],
             [
              0.5555555555555556,
              "#d8576b"
             ],
             [
              0.6666666666666666,
              "#ed7953"
             ],
             [
              0.7777777777777778,
              "#fb9f3a"
             ],
             [
              0.8888888888888888,
              "#fdca26"
             ],
             [
              1,
              "#f0f921"
             ]
            ],
            "type": "contour"
           }
          ],
          "contourcarpet": [
           {
            "colorbar": {
             "outlinewidth": 0,
             "ticks": ""
            },
            "type": "contourcarpet"
           }
          ],
          "heatmap": [
           {
            "colorbar": {
             "outlinewidth": 0,
             "ticks": ""
            },
            "colorscale": [
             [
              0,
              "#0d0887"
             ],
             [
              0.1111111111111111,
              "#46039f"
             ],
             [
              0.2222222222222222,
              "#7201a8"
             ],
             [
              0.3333333333333333,
              "#9c179e"
             ],
             [
              0.4444444444444444,
              "#bd3786"
             ],
             [
              0.5555555555555556,
              "#d8576b"
             ],
             [
              0.6666666666666666,
              "#ed7953"
             ],
             [
              0.7777777777777778,
              "#fb9f3a"
             ],
             [
              0.8888888888888888,
              "#fdca26"
             ],
             [
              1,
              "#f0f921"
             ]
            ],
            "type": "heatmap"
           }
          ],
          "heatmapgl": [
           {
            "colorbar": {
             "outlinewidth": 0,
             "ticks": ""
            },
            "colorscale": [
             [
              0,
              "#0d0887"
             ],
             [
              0.1111111111111111,
              "#46039f"
             ],
             [
              0.2222222222222222,
              "#7201a8"
             ],
             [
              0.3333333333333333,
              "#9c179e"
             ],
             [
              0.4444444444444444,
              "#bd3786"
             ],
             [
              0.5555555555555556,
              "#d8576b"
             ],
             [
              0.6666666666666666,
              "#ed7953"
             ],
             [
              0.7777777777777778,
              "#fb9f3a"
             ],
             [
              0.8888888888888888,
              "#fdca26"
             ],
             [
              1,
              "#f0f921"
             ]
            ],
            "type": "heatmapgl"
           }
          ],
          "histogram": [
           {
            "marker": {
             "colorbar": {
              "outlinewidth": 0,
              "ticks": ""
             }
            },
            "type": "histogram"
           }
          ],
          "histogram2d": [
           {
            "colorbar": {
             "outlinewidth": 0,
             "ticks": ""
            },
            "colorscale": [
             [
              0,
              "#0d0887"
             ],
             [
              0.1111111111111111,
              "#46039f"
             ],
             [
              0.2222222222222222,
              "#7201a8"
             ],
             [
              0.3333333333333333,
              "#9c179e"
             ],
             [
              0.4444444444444444,
              "#bd3786"
             ],
             [
              0.5555555555555556,
              "#d8576b"
             ],
             [
              0.6666666666666666,
              "#ed7953"
             ],
             [
              0.7777777777777778,
              "#fb9f3a"
             ],
             [
              0.8888888888888888,
              "#fdca26"
             ],
             [
              1,
              "#f0f921"
             ]
            ],
            "type": "histogram2d"
           }
          ],
          "histogram2dcontour": [
           {
            "colorbar": {
             "outlinewidth": 0,
             "ticks": ""
            },
            "colorscale": [
             [
              0,
              "#0d0887"
             ],
             [
              0.1111111111111111,
              "#46039f"
             ],
             [
              0.2222222222222222,
              "#7201a8"
             ],
             [
              0.3333333333333333,
              "#9c179e"
             ],
             [
              0.4444444444444444,
              "#bd3786"
             ],
             [
              0.5555555555555556,
              "#d8576b"
             ],
             [
              0.6666666666666666,
              "#ed7953"
             ],
             [
              0.7777777777777778,
              "#fb9f3a"
             ],
             [
              0.8888888888888888,
              "#fdca26"
             ],
             [
              1,
              "#f0f921"
             ]
            ],
            "type": "histogram2dcontour"
           }
          ],
          "mesh3d": [
           {
            "colorbar": {
             "outlinewidth": 0,
             "ticks": ""
            },
            "type": "mesh3d"
           }
          ],
          "parcoords": [
           {
            "line": {
             "colorbar": {
              "outlinewidth": 0,
              "ticks": ""
             }
            },
            "type": "parcoords"
           }
          ],
          "pie": [
           {
            "automargin": true,
            "type": "pie"
           }
          ],
          "scatter": [
           {
            "marker": {
             "colorbar": {
              "outlinewidth": 0,
              "ticks": ""
             }
            },
            "type": "scatter"
           }
          ],
          "scatter3d": [
           {
            "line": {
             "colorbar": {
              "outlinewidth": 0,
              "ticks": ""
             }
            },
            "marker": {
             "colorbar": {
              "outlinewidth": 0,
              "ticks": ""
             }
            },
            "type": "scatter3d"
           }
          ],
          "scattercarpet": [
           {
            "marker": {
             "colorbar": {
              "outlinewidth": 0,
              "ticks": ""
             }
            },
            "type": "scattercarpet"
           }
          ],
          "scattergeo": [
           {
            "marker": {
             "colorbar": {
              "outlinewidth": 0,
              "ticks": ""
             }
            },
            "type": "scattergeo"
           }
          ],
          "scattergl": [
           {
            "marker": {
             "colorbar": {
              "outlinewidth": 0,
              "ticks": ""
             }
            },
            "type": "scattergl"
           }
          ],
          "scattermapbox": [
           {
            "marker": {
             "colorbar": {
              "outlinewidth": 0,
              "ticks": ""
             }
            },
            "type": "scattermapbox"
           }
          ],
          "scatterpolar": [
           {
            "marker": {
             "colorbar": {
              "outlinewidth": 0,
              "ticks": ""
             }
            },
            "type": "scatterpolar"
           }
          ],
          "scatterpolargl": [
           {
            "marker": {
             "colorbar": {
              "outlinewidth": 0,
              "ticks": ""
             }
            },
            "type": "scatterpolargl"
           }
          ],
          "scatterternary": [
           {
            "marker": {
             "colorbar": {
              "outlinewidth": 0,
              "ticks": ""
             }
            },
            "type": "scatterternary"
           }
          ],
          "surface": [
           {
            "colorbar": {
             "outlinewidth": 0,
             "ticks": ""
            },
            "colorscale": [
             [
              0,
              "#0d0887"
             ],
             [
              0.1111111111111111,
              "#46039f"
             ],
             [
              0.2222222222222222,
              "#7201a8"
             ],
             [
              0.3333333333333333,
              "#9c179e"
             ],
             [
              0.4444444444444444,
              "#bd3786"
             ],
             [
              0.5555555555555556,
              "#d8576b"
             ],
             [
              0.6666666666666666,
              "#ed7953"
             ],
             [
              0.7777777777777778,
              "#fb9f3a"
             ],
             [
              0.8888888888888888,
              "#fdca26"
             ],
             [
              1,
              "#f0f921"
             ]
            ],
            "type": "surface"
           }
          ],
          "table": [
           {
            "cells": {
             "fill": {
              "color": "#EBF0F8"
             },
             "line": {
              "color": "white"
             }
            },
            "header": {
             "fill": {
              "color": "#C8D4E3"
             },
             "line": {
              "color": "white"
             }
            },
            "type": "table"
           }
          ]
         },
         "layout": {
          "annotationdefaults": {
           "arrowcolor": "#2a3f5f",
           "arrowhead": 0,
           "arrowwidth": 1
          },
          "autotypenumbers": "strict",
          "coloraxis": {
           "colorbar": {
            "outlinewidth": 0,
            "ticks": ""
           }
          },
          "colorscale": {
           "diverging": [
            [
             0,
             "#8e0152"
            ],
            [
             0.1,
             "#c51b7d"
            ],
            [
             0.2,
             "#de77ae"
            ],
            [
             0.3,
             "#f1b6da"
            ],
            [
             0.4,
             "#fde0ef"
            ],
            [
             0.5,
             "#f7f7f7"
            ],
            [
             0.6,
             "#e6f5d0"
            ],
            [
             0.7,
             "#b8e186"
            ],
            [
             0.8,
             "#7fbc41"
            ],
            [
             0.9,
             "#4d9221"
            ],
            [
             1,
             "#276419"
            ]
           ],
           "sequential": [
            [
             0,
             "#0d0887"
            ],
            [
             0.1111111111111111,
             "#46039f"
            ],
            [
             0.2222222222222222,
             "#7201a8"
            ],
            [
             0.3333333333333333,
             "#9c179e"
            ],
            [
             0.4444444444444444,
             "#bd3786"
            ],
            [
             0.5555555555555556,
             "#d8576b"
            ],
            [
             0.6666666666666666,
             "#ed7953"
            ],
            [
             0.7777777777777778,
             "#fb9f3a"
            ],
            [
             0.8888888888888888,
             "#fdca26"
            ],
            [
             1,
             "#f0f921"
            ]
           ],
           "sequentialminus": [
            [
             0,
             "#0d0887"
            ],
            [
             0.1111111111111111,
             "#46039f"
            ],
            [
             0.2222222222222222,
             "#7201a8"
            ],
            [
             0.3333333333333333,
             "#9c179e"
            ],
            [
             0.4444444444444444,
             "#bd3786"
            ],
            [
             0.5555555555555556,
             "#d8576b"
            ],
            [
             0.6666666666666666,
             "#ed7953"
            ],
            [
             0.7777777777777778,
             "#fb9f3a"
            ],
            [
             0.8888888888888888,
             "#fdca26"
            ],
            [
             1,
             "#f0f921"
            ]
           ]
          },
          "colorway": [
           "#636efa",
           "#EF553B",
           "#00cc96",
           "#ab63fa",
           "#FFA15A",
           "#19d3f3",
           "#FF6692",
           "#B6E880",
           "#FF97FF",
           "#FECB52"
          ],
          "font": {
           "color": "#2a3f5f"
          },
          "geo": {
           "bgcolor": "white",
           "lakecolor": "white",
           "landcolor": "#E5ECF6",
           "showlakes": true,
           "showland": true,
           "subunitcolor": "white"
          },
          "hoverlabel": {
           "align": "left"
          },
          "hovermode": "closest",
          "mapbox": {
           "style": "light"
          },
          "paper_bgcolor": "white",
          "plot_bgcolor": "#E5ECF6",
          "polar": {
           "angularaxis": {
            "gridcolor": "white",
            "linecolor": "white",
            "ticks": ""
           },
           "bgcolor": "#E5ECF6",
           "radialaxis": {
            "gridcolor": "white",
            "linecolor": "white",
            "ticks": ""
           }
          },
          "scene": {
           "xaxis": {
            "backgroundcolor": "#E5ECF6",
            "gridcolor": "white",
            "gridwidth": 2,
            "linecolor": "white",
            "showbackground": true,
            "ticks": "",
            "zerolinecolor": "white"
           },
           "yaxis": {
            "backgroundcolor": "#E5ECF6",
            "gridcolor": "white",
            "gridwidth": 2,
            "linecolor": "white",
            "showbackground": true,
            "ticks": "",
            "zerolinecolor": "white"
           },
           "zaxis": {
            "backgroundcolor": "#E5ECF6",
            "gridcolor": "white",
            "gridwidth": 2,
            "linecolor": "white",
            "showbackground": true,
            "ticks": "",
            "zerolinecolor": "white"
           }
          },
          "shapedefaults": {
           "line": {
            "color": "#2a3f5f"
           }
          },
          "ternary": {
           "aaxis": {
            "gridcolor": "white",
            "linecolor": "white",
            "ticks": ""
           },
           "baxis": {
            "gridcolor": "white",
            "linecolor": "white",
            "ticks": ""
           },
           "bgcolor": "#E5ECF6",
           "caxis": {
            "gridcolor": "white",
            "linecolor": "white",
            "ticks": ""
           }
          },
          "title": {
           "x": 0.05
          },
          "xaxis": {
           "automargin": true,
           "gridcolor": "white",
           "linecolor": "white",
           "ticks": "",
           "title": {
            "standoff": 15
           },
           "zerolinecolor": "white",
           "zerolinewidth": 2
          },
          "yaxis": {
           "automargin": true,
           "gridcolor": "white",
           "linecolor": "white",
           "ticks": "",
           "title": {
            "standoff": 15
           },
           "zerolinecolor": "white",
           "zerolinewidth": 2
          }
         }
        },
        "xaxis": {
         "anchor": "y",
         "constrain": "domain",
         "domain": [
          0,
          1
         ],
         "scaleanchor": "y"
        },
        "yaxis": {
         "anchor": "x",
         "autorange": "reversed",
         "constrain": "domain",
         "domain": [
          0,
          1
         ]
        }
       }
      },
      "text/html": [
       "<div>                            <div id=\"90d0027c-a154-40bc-b819-ce49dcf279e8\" class=\"plotly-graph-div\" style=\"height:525px; width:100%;\"></div>            <script type=\"text/javascript\">                require([\"plotly\"], function(Plotly) {                    window.PLOTLYENV=window.PLOTLYENV || {};                                    if (document.getElementById(\"90d0027c-a154-40bc-b819-ce49dcf279e8\")) {                    Plotly.newPlot(                        \"90d0027c-a154-40bc-b819-ce49dcf279e8\",                        [{\"coloraxis\": \"coloraxis\", \"hovertemplate\": \"x: %{x}<br>y: %{y}<br>color: %{z}<extra></extra>\", \"name\": \"0\", \"type\": \"heatmap\", \"xaxis\": \"x\", \"yaxis\": \"y\", \"z\": [[0.5674913526915415, 2.5790529168618144, 13.364229159514789, 3.0974948234006328, 3.015595212538187, 12.484625818171367, 11.860562787095375, 2.662131902485994, 4.358042693958638, 3.120759473431013, 2.0497304276168893, 3.310494538651135, 5.058483946726108, 0.12318712900927185, 6.2564373429301545, 1.6644093846264414, 4.360901741407727, 9.829722169217192, 3.178402549603712, 3.963848016642179], [13.922730515007656, 4.0387117215954245, 1.187344401534622, 8.248657552328597, 0.6161380568746825, 2.450638508462054, 17.29515975785904, 8.524145530880313, 6.490140165525138, 12.406869443020142, 1.7497260572377495, 0.058279475959275476, 5.1364173293442725, 12.83072322023335, 5.642281772581775, 0.5298988898620892, 1.3419676832407117, 1.3561448245105034, 4.603983816853206, 3.223601225369392], [0.29089267844290584, 3.294393863245092, 4.4958349393339265, 3.023430103445832, 0.24866589377080403, 7.344071019424528, 2.1250256969054777, 2.4029148923375723, 1.696745698322653, 4.197664833739069, 0.8418118365279559, 2.948712354526886, 2.313920687868975, 1.5814387377893009, 0.7940953114091894, 4.977053190520422, 10.672691242479077, 6.704457986370632, 1.7716920759838286, 10.507006222946988], [2.368161940630406, 0.07096637580343051, 10.826921912708517, 1.1397917715153034, 10.952143319013892, 9.305538254557954, 1.090916954191683, 14.286518451117706, 1.6353780544187657, 6.896385863955709, 5.630342714560359, 0.34520632597822204, 5.171997013414895, 7.816503943723317, 3.8886957995723344, 4.664720669128851, 1.5383390008117679, 0.9768937097634701, 1.0938350426784271, 3.2140883474939894], [4.150672181903039, 1.3910644464565622, 3.4289130173865807, 0.7213229710529296, 12.921587755422303, 4.370283449516352, 1.4707681929120628, 9.691850052458694, 8.346388362385193, 2.377430579051711, 2.6514324855518683, 1.5772878169618456, 14.70635390072308, 0.681494348565617, 11.560451604566504, 5.971417251978818, 0.10964632990579314, 1.4889204764531592, 0.22987985671121433, 0.7332603824333341], [0.2100806358027836, 4.815279572579443, 0.01803181770786902, 2.0669903797548543, 4.470311289677495, 3.5346815584720495, 5.604660691648034, 5.245200265345412, 1.1784074310080548, 8.219819010007003, 12.115332401485043, 0.3175841001925926, 3.2344875167150877, 8.257141110444206, 0.28899486944177794, 7.668734738198636, 0.11007050160494623, 12.695821168088116, 3.0124694798754055, 2.13504264405144], [5.384152159825833, 5.070379559554651, 7.041932111280506, 0.6680596846037117, 8.971070125075505, 4.05179625081269, 11.590533159217578, 2.557935057398202, 0.8842982412492825, 5.138528393610385, 0.2567421214454508, 9.950532550337629, 5.127175419141666, 1.0037713809803603, 9.957143464614342, 4.034176182912127, 12.80694288323216, 0.183103105196736, 3.2463980823963543, 2.850076948969255], [0.6064816464037609, 3.8044007017760353, 4.5671588997389385, 1.6485595180930217, 5.546682517918205, 0.7011840902808313, 2.3373642957025726, 2.372609657589611, 2.3719273329001553, 14.9105898436459, 4.898271183859043, 1.94020637564484, 3.7662101418762597, 1.3196830202165468, 6.600252264061649, 4.649531063866974, 0.19713354431984098, 4.098671713725825, 8.940718520104447, 17.270109001108644], [3.408130785699441, 6.639010201247632, 10.343805947200849, 3.987236473570091, 0.14733673506321157, 10.757046555959075, 3.9838593359788215, 14.661492333670212, 8.326943011546561, 0.08307611909301783, 8.974366962737626, 13.133195608528252, 2.5571470490967907, 12.142958132994277, 3.166070283164807, 2.564888113333698, 2.8599397913391362, 0.9679371376410753, 2.3256911811496654, 2.570357567418858], [17.432077058872093, 3.7764170772923924, 0.09830956516888553, 7.656190335897972, 1.2208860822609693, 9.352539711114037, 13.872854671638347, 3.0855472260054913, 5.000498693410558, 5.918793555876421, 15.393784200118754, 0.37833740948428357, 2.7039499809566183, 4.536616311015996, 6.228495876201481, 5.6301541821333005, 3.5516902038104927, 8.37776607831311, 3.2288897125514278, 5.19018541890007], [1.7431720566261402, 4.982082638743266, 8.801530737579702, 3.405818139995669, 6.69713457690375, 2.5386280509437653, 5.4552753042567375, 5.53597563657959, 2.0831413464424986, 5.495665611537407, 12.894874585321906, 0.7316332008120373, 0.5131874725943134, 0.0879427639821398, 1.521945949781103, 11.100228901993367, 1.9251662661308853, 2.841649303097598, 1.99477377219535, 0.06818047334364731], [8.034630831844545, 6.130469851404451, 1.2853458193604665, 0.37438884510951875, 8.47663957176245, 3.5488084677023375, 6.732642381318225, 3.5287295728268675, 4.119939641676022, 2.830865055739511, 2.3142086544593203, 7.178961337602321, 4.7436527631798295, 0.2630768744774032, 5.033594421381597, 3.145004143110771, 1.0559717545002967, 3.2127385614045894, 0.08796633542776928, 1.7273027736309057], [0.04566557031613184, 14.526335125561651, 4.456773929616028, 0.07822644761614704, 4.204876797321712, 14.336237049444117, 0.36157095305906356, 13.984196372773436, 5.516282710959627, 2.260490342429316, 20.065732605945072, 3.3118703443152877, 7.165611374437323, 2.2260045078792148, 11.866894165296488, 5.834339774571878, 3.9315295939056, 3.1068020514030845, 3.7880409795099217, 4.47213658512647], [2.198156560186646, 2.101066213052684, 1.971090053945668, 13.90341347655488, 2.487939562043313, 6.170495757083963, 3.4189572615419555, 8.80623524864076, 7.999006798842404, 10.49378351719726, 0.7651046696609339, 0.20689609551197352, 7.408284421009714, 1.041503595199989, 6.492798320433716, 8.93729349209609, 2.6742151063470483, 1.413397779881761, 3.1539689187010698, 11.537852854755167], [7.703233229305475, 5.231095260746997, 3.2481837450340314, 0.2554753537460673, 10.78608991454311, 1.9404865624691703, 5.27055513176046, 3.3631793357536153, 0.01744466728763689, 9.547112520811275, 8.075488479233394, 5.291508553723944, 6.910037245743774, 0.9544161955907808, 0.39955707944919644, 3.630954044460168, 1.2996709980640937, 8.405015972503866, 2.2834085995812243, 11.03315673145421], [4.916901194961376, 0.8693315868331147, 1.3402405992154174, 10.22761505311129, 2.985546119301919, 1.3719217021163521, 1.6285692408529238e-07, 10.491265228134464, 6.664964739187887, 2.727449530581792, 6.292177606005395, 22.636453041036535, 3.8592115826219606, 1.5542120350736968, 18.970842986309428, 2.1519441290101917, 7.724695734615201, 6.295918587086012, 1.5016201910203504, 2.0095833219974537], [2.844600431042773, 17.52675267190737, 7.79923348378215, 5.249112526933944, 8.983561690710564, 1.441863740971883, 4.964306843353984, 5.018885186250332, 1.0179660198172737, 1.2728398893301573, 0.2394604312718194, 6.547473257183996, 12.464814166421146, 5.961413183186705, 0.46065477079049566, 3.444421428025104, 0.6489175026963653, 11.358198918358264, 8.857069215865543, 3.8868894063262047], [1.595625872480271, 1.5660309605241651, 1.464192808316699, 0.9565181375279125, 0.42170231492443216, 4.463018009945112, 4.92939997663797, 2.3746195808111263, 5.6413206624925625, 0.33009687293365014, 6.620127499149922, 1.926391198320496, 4.892825703763764, 2.3571905807876234, 6.1430328459183565, 2.3248503915159353, 7.583810550439276, 1.9180118805310407, 1.6149041054634616, 7.083418385894755], [0.6225680269647291, 0.16217922946424052, 0.669475635725178, 1.1567971900764402, 0.78701762038485, 3.3238917994933175, 6.998221027935551, 16.509787265833072, 10.923042669291073, 4.65087184399252, 5.010931338347875, 5.991899931904731, 8.842258964863866, 15.026062247710843, 0.028219948366023435, 18.399839604946692, 5.265768816731622, 1.308173155768459, 0.12675742320634245, 0.9029561949431215], [3.314127504450785, 11.955398508733246, 2.274213618613616, 5.901523921295697, 2.1448579774874363, 6.6907767240031735, 7.870130730568204, 6.872117215772866, 9.447824119021499, 8.277761727879085, 6.038904172080035, 5.045773902668925, 11.033396222206516, 5.563348254227367, 2.860207189355057, 6.389488112505369, 2.6253239906022627, 1.4426556349606492, 4.244995585992216, 3.552180009428629]]}],                        {\"coloraxis\": {\"colorscale\": [[0.0, \"#0d0887\"], [0.1111111111111111, \"#46039f\"], [0.2222222222222222, \"#7201a8\"], [0.3333333333333333, \"#9c179e\"], [0.4444444444444444, \"#bd3786\"], [0.5555555555555556, \"#d8576b\"], [0.6666666666666666, \"#ed7953\"], [0.7777777777777778, \"#fb9f3a\"], [0.8888888888888888, \"#fdca26\"], [1.0, \"#f0f921\"]]}, \"margin\": {\"t\": 60}, \"template\": {\"data\": {\"bar\": [{\"error_x\": {\"color\": \"#2a3f5f\"}, \"error_y\": {\"color\": \"#2a3f5f\"}, \"marker\": {\"line\": {\"color\": \"#E5ECF6\", \"width\": 0.5}}, \"type\": \"bar\"}], \"barpolar\": [{\"marker\": {\"line\": {\"color\": \"#E5ECF6\", \"width\": 0.5}}, \"type\": \"barpolar\"}], \"carpet\": [{\"aaxis\": {\"endlinecolor\": \"#2a3f5f\", \"gridcolor\": \"white\", \"linecolor\": \"white\", \"minorgridcolor\": \"white\", \"startlinecolor\": \"#2a3f5f\"}, \"baxis\": {\"endlinecolor\": \"#2a3f5f\", \"gridcolor\": \"white\", \"linecolor\": \"white\", \"minorgridcolor\": \"white\", \"startlinecolor\": \"#2a3f5f\"}, \"type\": \"carpet\"}], \"choropleth\": [{\"colorbar\": {\"outlinewidth\": 0, \"ticks\": \"\"}, \"type\": \"choropleth\"}], \"contour\": [{\"colorbar\": {\"outlinewidth\": 0, \"ticks\": \"\"}, \"colorscale\": [[0.0, \"#0d0887\"], [0.1111111111111111, \"#46039f\"], [0.2222222222222222, \"#7201a8\"], [0.3333333333333333, \"#9c179e\"], [0.4444444444444444, \"#bd3786\"], [0.5555555555555556, \"#d8576b\"], [0.6666666666666666, \"#ed7953\"], [0.7777777777777778, \"#fb9f3a\"], [0.8888888888888888, \"#fdca26\"], [1.0, \"#f0f921\"]], \"type\": \"contour\"}], \"contourcarpet\": [{\"colorbar\": {\"outlinewidth\": 0, \"ticks\": \"\"}, \"type\": \"contourcarpet\"}], \"heatmap\": [{\"colorbar\": {\"outlinewidth\": 0, \"ticks\": \"\"}, \"colorscale\": [[0.0, \"#0d0887\"], [0.1111111111111111, \"#46039f\"], [0.2222222222222222, \"#7201a8\"], [0.3333333333333333, \"#9c179e\"], [0.4444444444444444, \"#bd3786\"], [0.5555555555555556, \"#d8576b\"], [0.6666666666666666, \"#ed7953\"], [0.7777777777777778, \"#fb9f3a\"], [0.8888888888888888, \"#fdca26\"], [1.0, \"#f0f921\"]], \"type\": \"heatmap\"}], \"heatmapgl\": [{\"colorbar\": {\"outlinewidth\": 0, \"ticks\": \"\"}, \"colorscale\": [[0.0, \"#0d0887\"], [0.1111111111111111, \"#46039f\"], [0.2222222222222222, \"#7201a8\"], [0.3333333333333333, \"#9c179e\"], [0.4444444444444444, \"#bd3786\"], [0.5555555555555556, \"#d8576b\"], [0.6666666666666666, \"#ed7953\"], [0.7777777777777778, \"#fb9f3a\"], [0.8888888888888888, \"#fdca26\"], [1.0, \"#f0f921\"]], \"type\": \"heatmapgl\"}], \"histogram\": [{\"marker\": {\"colorbar\": {\"outlinewidth\": 0, \"ticks\": \"\"}}, \"type\": \"histogram\"}], \"histogram2d\": [{\"colorbar\": {\"outlinewidth\": 0, \"ticks\": \"\"}, \"colorscale\": [[0.0, \"#0d0887\"], [0.1111111111111111, \"#46039f\"], [0.2222222222222222, \"#7201a8\"], [0.3333333333333333, \"#9c179e\"], [0.4444444444444444, \"#bd3786\"], [0.5555555555555556, \"#d8576b\"], [0.6666666666666666, \"#ed7953\"], [0.7777777777777778, \"#fb9f3a\"], [0.8888888888888888, \"#fdca26\"], [1.0, \"#f0f921\"]], \"type\": \"histogram2d\"}], \"histogram2dcontour\": [{\"colorbar\": {\"outlinewidth\": 0, \"ticks\": \"\"}, \"colorscale\": [[0.0, \"#0d0887\"], [0.1111111111111111, \"#46039f\"], [0.2222222222222222, \"#7201a8\"], [0.3333333333333333, \"#9c179e\"], [0.4444444444444444, \"#bd3786\"], [0.5555555555555556, \"#d8576b\"], [0.6666666666666666, \"#ed7953\"], [0.7777777777777778, \"#fb9f3a\"], [0.8888888888888888, \"#fdca26\"], [1.0, \"#f0f921\"]], \"type\": \"histogram2dcontour\"}], \"mesh3d\": [{\"colorbar\": {\"outlinewidth\": 0, \"ticks\": \"\"}, \"type\": \"mesh3d\"}], \"parcoords\": [{\"line\": {\"colorbar\": {\"outlinewidth\": 0, \"ticks\": \"\"}}, \"type\": \"parcoords\"}], \"pie\": [{\"automargin\": true, \"type\": \"pie\"}], \"scatter\": [{\"marker\": {\"colorbar\": {\"outlinewidth\": 0, \"ticks\": \"\"}}, \"type\": \"scatter\"}], \"scatter3d\": [{\"line\": {\"colorbar\": {\"outlinewidth\": 0, \"ticks\": \"\"}}, \"marker\": {\"colorbar\": {\"outlinewidth\": 0, \"ticks\": \"\"}}, \"type\": \"scatter3d\"}], \"scattercarpet\": [{\"marker\": {\"colorbar\": {\"outlinewidth\": 0, \"ticks\": \"\"}}, \"type\": \"scattercarpet\"}], \"scattergeo\": [{\"marker\": {\"colorbar\": {\"outlinewidth\": 0, \"ticks\": \"\"}}, \"type\": \"scattergeo\"}], \"scattergl\": [{\"marker\": {\"colorbar\": {\"outlinewidth\": 0, \"ticks\": \"\"}}, \"type\": \"scattergl\"}], \"scattermapbox\": [{\"marker\": {\"colorbar\": {\"outlinewidth\": 0, \"ticks\": \"\"}}, \"type\": \"scattermapbox\"}], \"scatterpolar\": [{\"marker\": {\"colorbar\": {\"outlinewidth\": 0, \"ticks\": \"\"}}, \"type\": \"scatterpolar\"}], \"scatterpolargl\": [{\"marker\": {\"colorbar\": {\"outlinewidth\": 0, \"ticks\": \"\"}}, \"type\": \"scatterpolargl\"}], \"scatterternary\": [{\"marker\": {\"colorbar\": {\"outlinewidth\": 0, \"ticks\": \"\"}}, \"type\": \"scatterternary\"}], \"surface\": [{\"colorbar\": {\"outlinewidth\": 0, \"ticks\": \"\"}, \"colorscale\": [[0.0, \"#0d0887\"], [0.1111111111111111, \"#46039f\"], [0.2222222222222222, \"#7201a8\"], [0.3333333333333333, \"#9c179e\"], [0.4444444444444444, \"#bd3786\"], [0.5555555555555556, \"#d8576b\"], [0.6666666666666666, \"#ed7953\"], [0.7777777777777778, \"#fb9f3a\"], [0.8888888888888888, \"#fdca26\"], [1.0, \"#f0f921\"]], \"type\": \"surface\"}], \"table\": [{\"cells\": {\"fill\": {\"color\": \"#EBF0F8\"}, \"line\": {\"color\": \"white\"}}, \"header\": {\"fill\": {\"color\": \"#C8D4E3\"}, \"line\": {\"color\": \"white\"}}, \"type\": \"table\"}]}, \"layout\": {\"annotationdefaults\": {\"arrowcolor\": \"#2a3f5f\", \"arrowhead\": 0, \"arrowwidth\": 1}, \"autotypenumbers\": \"strict\", \"coloraxis\": {\"colorbar\": {\"outlinewidth\": 0, \"ticks\": \"\"}}, \"colorscale\": {\"diverging\": [[0, \"#8e0152\"], [0.1, \"#c51b7d\"], [0.2, \"#de77ae\"], [0.3, \"#f1b6da\"], [0.4, \"#fde0ef\"], [0.5, \"#f7f7f7\"], [0.6, \"#e6f5d0\"], [0.7, \"#b8e186\"], [0.8, \"#7fbc41\"], [0.9, \"#4d9221\"], [1, \"#276419\"]], \"sequential\": [[0.0, \"#0d0887\"], [0.1111111111111111, \"#46039f\"], [0.2222222222222222, \"#7201a8\"], [0.3333333333333333, \"#9c179e\"], [0.4444444444444444, \"#bd3786\"], [0.5555555555555556, \"#d8576b\"], [0.6666666666666666, \"#ed7953\"], [0.7777777777777778, \"#fb9f3a\"], [0.8888888888888888, \"#fdca26\"], [1.0, \"#f0f921\"]], \"sequentialminus\": [[0.0, \"#0d0887\"], [0.1111111111111111, \"#46039f\"], [0.2222222222222222, \"#7201a8\"], [0.3333333333333333, \"#9c179e\"], [0.4444444444444444, \"#bd3786\"], [0.5555555555555556, \"#d8576b\"], [0.6666666666666666, \"#ed7953\"], [0.7777777777777778, \"#fb9f3a\"], [0.8888888888888888, \"#fdca26\"], [1.0, \"#f0f921\"]]}, \"colorway\": [\"#636efa\", \"#EF553B\", \"#00cc96\", \"#ab63fa\", \"#FFA15A\", \"#19d3f3\", \"#FF6692\", \"#B6E880\", \"#FF97FF\", \"#FECB52\"], \"font\": {\"color\": \"#2a3f5f\"}, \"geo\": {\"bgcolor\": \"white\", \"lakecolor\": \"white\", \"landcolor\": \"#E5ECF6\", \"showlakes\": true, \"showland\": true, \"subunitcolor\": \"white\"}, \"hoverlabel\": {\"align\": \"left\"}, \"hovermode\": \"closest\", \"mapbox\": {\"style\": \"light\"}, \"paper_bgcolor\": \"white\", \"plot_bgcolor\": \"#E5ECF6\", \"polar\": {\"angularaxis\": {\"gridcolor\": \"white\", \"linecolor\": \"white\", \"ticks\": \"\"}, \"bgcolor\": \"#E5ECF6\", \"radialaxis\": {\"gridcolor\": \"white\", \"linecolor\": \"white\", \"ticks\": \"\"}}, \"scene\": {\"xaxis\": {\"backgroundcolor\": \"#E5ECF6\", \"gridcolor\": \"white\", \"gridwidth\": 2, \"linecolor\": \"white\", \"showbackground\": true, \"ticks\": \"\", \"zerolinecolor\": \"white\"}, \"yaxis\": {\"backgroundcolor\": \"#E5ECF6\", \"gridcolor\": \"white\", \"gridwidth\": 2, \"linecolor\": \"white\", \"showbackground\": true, \"ticks\": \"\", \"zerolinecolor\": \"white\"}, \"zaxis\": {\"backgroundcolor\": \"#E5ECF6\", \"gridcolor\": \"white\", \"gridwidth\": 2, \"linecolor\": \"white\", \"showbackground\": true, \"ticks\": \"\", \"zerolinecolor\": \"white\"}}, \"shapedefaults\": {\"line\": {\"color\": \"#2a3f5f\"}}, \"ternary\": {\"aaxis\": {\"gridcolor\": \"white\", \"linecolor\": \"white\", \"ticks\": \"\"}, \"baxis\": {\"gridcolor\": \"white\", \"linecolor\": \"white\", \"ticks\": \"\"}, \"bgcolor\": \"#E5ECF6\", \"caxis\": {\"gridcolor\": \"white\", \"linecolor\": \"white\", \"ticks\": \"\"}}, \"title\": {\"x\": 0.05}, \"xaxis\": {\"automargin\": true, \"gridcolor\": \"white\", \"linecolor\": \"white\", \"ticks\": \"\", \"title\": {\"standoff\": 15}, \"zerolinecolor\": \"white\", \"zerolinewidth\": 2}, \"yaxis\": {\"automargin\": true, \"gridcolor\": \"white\", \"linecolor\": \"white\", \"ticks\": \"\", \"title\": {\"standoff\": 15}, \"zerolinecolor\": \"white\", \"zerolinewidth\": 2}}}, \"xaxis\": {\"anchor\": \"y\", \"constrain\": \"domain\", \"domain\": [0.0, 1.0], \"scaleanchor\": \"y\"}, \"yaxis\": {\"anchor\": \"x\", \"autorange\": \"reversed\", \"constrain\": \"domain\", \"domain\": [0.0, 1.0]}},                        {\"responsive\": true}                    ).then(function(){\n",
       "                            \n",
       "var gd = document.getElementById('90d0027c-a154-40bc-b819-ce49dcf279e8');\n",
       "var x = new MutationObserver(function (mutations, observer) {{\n",
       "        var display = window.getComputedStyle(gd).display;\n",
       "        if (!display || display === 'none') {{\n",
       "            console.log([gd, 'removed!']);\n",
       "            Plotly.purge(gd);\n",
       "            observer.disconnect();\n",
       "        }}\n",
       "}});\n",
       "\n",
       "// Listen for the removal of the full notebook cells\n",
       "var notebookContainer = gd.closest('#notebook-container');\n",
       "if (notebookContainer) {{\n",
       "    x.observe(notebookContainer, {childList: true});\n",
       "}}\n",
       "\n",
       "// Listen for the clearing of the current output cell\n",
       "var outputEl = gd.closest('.output');\n",
       "if (outputEl) {{\n",
       "    x.observe(outputEl, {childList: true});\n",
       "}}\n",
       "\n",
       "                        })                };                });            </script>        </div>"
      ]
     },
     "metadata": {},
     "output_type": "display_data"
    }
   ],
   "source": [
    "fig = px.imshow(np.random.chisquare(np.random.chisquare(5, (20,20))))\n",
    "fig.show()"
   ]
  },
  {
   "cell_type": "code",
   "execution_count": 72,
   "metadata": {
    "ExecuteTime": {
     "end_time": "2021-02-10T11:52:08.008051Z",
     "start_time": "2021-02-10T11:52:07.947327Z"
    }
   },
   "outputs": [
    {
     "data": {
      "application/vnd.plotly.v1+json": {
       "config": {
        "plotlyServerURL": "https://plot.ly"
       },
       "data": [
        {
         "coloraxis": "coloraxis",
         "hovertemplate": "x: %{x}<br>y: %{y}<br>color: %{z}<extra></extra>",
         "name": "0",
         "type": "heatmap",
         "xaxis": "x",
         "yaxis": "y",
         "z": [
          [
           1.0209549549377455,
           1.9455049788702435e-59,
           1.5338383982567814,
           0.23360103412488376,
           0.4796396488345182,
           0.02524216715359108,
           2.1187362976494363e-05,
           2.306313279341084,
           1.6033329996240353,
           3.1601611829873546e-05,
           0.10278057482563455,
           0.04765175422868979,
           0.0005650762642260375,
           0.4115878729199389,
           0.023608831233524034,
           1.4861351276527413,
           0.20559972556396588,
           0.1124735677211106,
           0.0007370963047396318,
           0.13437519699883937
          ],
          [
           2.543974727479784,
           0.6924034997632968,
           0.09419561379007825,
           0.22436529166953934,
           0.06077889457909591,
           0.2743026129434058,
           4.3965827369846544e-57,
           1.5863966416420575e-09,
           2.401676087159025,
           0.013248649714705608,
           5.664875045347576e-07,
           0.0010122092113161243,
           0.0032156886751236566,
           0.7207942809453125,
           0,
           0.8479638518973306,
           0.0204243426449085,
           0.36830836671318923,
           0.1805140601680728,
           0.007399456640656607
          ],
          [
           2.3159554501439357,
           0.00626723396754944,
           0.822075314382923,
           0.00013240034029662895,
           1.1765812143069763,
           2.3572281245847986,
           5.309136448495698e-08,
           0.7729609993082741,
           0.45578986719049397,
           0.240726081185866,
           8.624704391404336,
           0.01761986859728395,
           0.2390425415393088,
           1.6954230361250615e-52,
           9.851504209456312e-07,
           0.005113030094203042,
           0.006640761695306649,
           0.06264265161164342,
           8.601031259862379e-07,
           2.6226841805051793
          ],
          [
           0.5026172211421138,
           1.9258723176213205e-29,
           0.08052872645627546,
           0.236625244893418,
           0.34773352747726544,
           4.366593881177477e-08,
           6.488507038723426e-25,
           9.90589480877773e-07,
           1.9225753907209967e-10,
           0.9940822596089376,
           0.2572881158531354,
           1.7714160144809787e-05,
           3.2937081503716665e-05,
           2.298462349833439,
           1.0521256399011658,
           6.560974953491419e-21,
           7.529317865462625e-158,
           0.3819522814836159,
           0.1721392723147973,
           0.5482296233306356
          ],
          [
           4.536222921595575e-11,
           0.0012435655876379531,
           0.8711607747213403,
           7.625705989790664e-08,
           0.3640372258226752,
           0.0020240544144345726,
           0.038433329876122725,
           0.008570464772961278,
           0.00016130698582847322,
           0.006510911282739724,
           6.698734253333848e-10,
           4.12942155617219,
           0.04822307449851842,
           2.875899743921978,
           0.37812543556198874,
           4.3821526028033257e-07,
           1.2974822148434146,
           0.3588127861812959,
           0,
           0.06946002043888798
          ],
          [
           2.2796786695214228e-20,
           0.00017148312194791802,
           0.09956326129682608,
           7.350768415928467e-05,
           0.25425183881328967,
           1.7903838825818108,
           0.38773423646055544,
           0.013100861047866435,
           0.10869554858800723,
           0.3208270528302383,
           0.7184444703763749,
           4.1852049361008428e-81,
           8.323130483811147e-10,
           1.5505691580185515e-05,
           0.9606392374724849,
           0.2397409344802091,
           3.594181852327721,
           1.7379191597968757,
           1.661618871594144e-05,
           0.0023103597600604175
          ],
          [
           0.0003165028839306877,
           1.19336793337776e-24,
           0.056177316945208736,
           1.1996896410265663,
           0.9512459420606713,
           0.11428386893875073,
           0.48693068786344407,
           1.7498996683336328,
           0.012015221548576002,
           2.1401104255964762,
           0.28425555392522933,
           0.7596789777744436,
           7.151665557136002,
           0.003985839791787583,
           0.8505307426923425,
           0.30107517143424295,
           0.5699127805553141,
           2.9940564609424075e-08,
           0.8340080078662544,
           0.0024166487268094164
          ],
          [
           0.06650844710568549,
           1.92656209400693e-07,
           0.015839493205183415,
           7.076691985984182e-10,
           0.2472342091737216,
           0.3055071853399667,
           0.13168941056115918,
           0.005791932906014775,
           0.653700526225532,
           6.856563930396308e-19,
           0.006867705493677855,
           3.9409165574329505e-34,
           7.97275073695141e-39,
           0.021035650534080106,
           0.003749811904420097,
           0.10921763833400863,
           0.2726317548714563,
           0.35874462670650753,
           2.1581585780719013,
           1.5779422507524217
          ],
          [
           0.006918777719105625,
           0.03055161006865064,
           0.13645990635088323,
           0.3335166914101892,
           0.14962109303585416,
           1.1719940356795775,
           7.100198222308169e-07,
           0.5363996701225366,
           5.122203200814131e-06,
           3.458009403729259e-07,
           1.2957175988683938,
           0.04284580091477343,
           0.0003993781193307678,
           0.017222739755205975,
           3.8033193082058967e-10,
           0.13656896379628686,
           0.2985773522258962,
           2.1133497691038707,
           0.010029578904968412,
           0.4024456193725376
          ],
          [
           0.0005341255903201188,
           8.624045922006751e-13,
           0.0070681994291179615,
           0.551222420003629,
           1.169056642611479,
           0.5633626215310911,
           2.2074024846297435e-23,
           0.04608284514102487,
           0.010593231835115695,
           0.06416014014013163,
           0.7543187400335999,
           1.791136021596127e-34,
           0.05257486464158632,
           1.1146712762150712,
           0.7743455647210191,
           1.1814169752453114,
           0.45201890856914834,
           2.2601323227663873e-06,
           0.018356334790280173,
           0.011046124756811998
          ],
          [
           0.06004360355048547,
           3.267302646352695e-05,
           7.479718363165703e-06,
           0.6796294623757251,
           5.672174896309696e-22,
           0.03605325496169706,
           1.323608330300043,
           7.587866727578052e-07,
           0.0007669712008192789,
           0.09498178453679466,
           1.936651243081011e-06,
           0.28575379694577535,
           0.3717835102409878,
           0.002437726959110697,
           2.184034246319319,
           0.05232993334739681,
           1.0234933237402732,
           0.06242970979090456,
           0.09693698021073906,
           6.186115543714266e-05
          ],
          [
           2.29621824339145e-06,
           0.06945830569196403,
           0.25682677716818997,
           4.1021914180650745,
           7.580311000653658e-17,
           0.6614558398946554,
           0.02134879496979606,
           0.02352157274507844,
           0.18621014450397358,
           0.002674463787679681,
           0.012859724111388608,
           0.030950207950310317,
           0.01824603992229403,
           1.67344112251723e-178,
           0.004966159614186574,
           0.0003164687549251859,
           0.06338368712672038,
           2.551239624556393,
           0.6915869884338923,
           3.644868349451045e-08
          ],
          [
           3.2688586946779465,
           0.9879019888590114,
           0.030142310483671678,
           1.0120005572198252,
           2.2313508635625348,
           0.002087599217628096,
           3.573743055362552e-41,
           5.247659475552206e-16,
           0.26497466786442014,
           0.10074962208128295,
           0.18668638534173784,
           0.7452568088789264,
           0.00738242645093476,
           4.179412522698364e-09,
           0.21435040969899358,
           3.657732732283085e-10,
           0.5299225394070639,
           2.919534507711782,
           1.1619715151456702,
           8.037871503395235e-13
          ],
          [
           0.00026011213869976517,
           0.17222135856187049,
           1.3053513954009632,
           0.011163868815425491,
           0.03907325385669758,
           0.18596444799187506,
           0.002837441645028828,
           0.0054230353786782455,
           1.1073895858361202,
           0.0856251694140554,
           0.03005693428247347,
           0.027906814582499384,
           0.07511472830618704,
           5.622535709967418e-07,
           0.0014694122386224712,
           1.8704643000613114e-11,
           0.5101547780436421,
           0.38163078227414854,
           0.061569076118465384,
           7.815243287043657e-13
          ],
          [
           0.004703545182962199,
           0.0022254391463217378,
           0.03281674493475431,
           0.25292745044411685,
           0.38228803120320154,
           0.00041120592831294533,
           0.24302304581863227,
           0.002317173076497907,
           0.3700673153367285,
           0.01639130985659748,
           0.05032438907463288,
           0.9187011826223682,
           0.0016274879516113988,
           0.16210877532964774,
           1.264920920361196,
           0.04027450782210536,
           2.4232693625662933,
           1.0601793839690125e-05,
           0.19385904979758428,
           0.011454629829282751
          ],
          [
           0.2634990946063975,
           2.1606783419256423,
           0.015673725594254336,
           0.0127033480225878,
           0.5934587100974822,
           0.017169877886760068,
           0.0008573752474486285,
           0.8955481844777501,
           0.39873065944811725,
           0.0590434622917219,
           7.784708784788564e-08,
           0.3168790075222174,
           1.3692889152198182e-12,
           0.0013174276805974871,
           1.1351557135101953,
           1.331710904453863e-21,
           0.0027860050920369105,
           0.08557966653062804,
           1.5127308015839138,
           0.3349727180624346
          ],
          [
           6.200568115135779e-10,
           0.587225472443683,
           0.01134655049293338,
           1.745974681924705,
           4.953629605562325e-07,
           1.677948170707985e-14,
           0.0017502812209446792,
           0.01992288364255915,
           5.652562420884053e-05,
           0.6953578630286951,
           2.088532899089662,
           0.34900305898359274,
           7.599421618900905e-06,
           8.297412075783594e-27,
           0.343317456944757,
           0.6355853493124687,
           1.3220276177592019,
           0.8542275497077382,
           1.0181846784570694,
           0.006019812163295551
          ],
          [
           2.356122485859558,
           0.0001249080280408437,
           1.0819754177493483e-07,
           1.1265947981471355e-63,
           0.0292458020030477,
           3.0918737059735983,
           0.07504406333152465,
           0.1849931191262584,
           8.336737209320654e-33,
           0.055713243749153624,
           0.00029762844003782316,
           0.37881713026010216,
           0.5074583316087794,
           1.7086242640996439,
           2.8164154798277925e-05,
           0.04466287631107163,
           8.930350181817949e-42,
           4.826588442164335e-25,
           0.003887145960095456,
           0.038625927905402355
          ],
          [
           0.002064164717061275,
           0.00019323072895532104,
           0.007401016350930535,
           0,
           1.5536684355747927,
           4.844309965569886e-05,
           4.0028818452878827e-08,
           0.0004512536969423072,
           1.2255165322519914,
           0.7147993063570818,
           0.5579614822945593,
           0.04304324280261201,
           0.11814026127138905,
           0.33360169718570176,
           4.813609727089006e-12,
           0.0067045489577184595,
           0.012427152549871735,
           5.238711252791679,
           4.8745913312703043e-29,
           0.03711491688491454
          ],
          [
           1.6038925451799756e-06,
           1.381038973416409,
           0.34150999381940744,
           0.00011220503371479909,
           0.6696590794329436,
           1.9173181326213269,
           0.5629733405797449,
           7.645150397297085e-05,
           0.0006683172958289463,
           0.9591723455223691,
           1.7826561720618965,
           0.17293858407608267,
           0.010370731299575197,
           0.9861263365597028,
           0.04535482801861447,
           0.22046840203053666,
           0.0012137431910475695,
           1.0261659595022352,
           0.0004022413246034379,
           1.0719724115814508
          ]
         ]
        }
       ],
       "layout": {
        "coloraxis": {
         "colorscale": [
          [
           0,
           "#0d0887"
          ],
          [
           0.1111111111111111,
           "#46039f"
          ],
          [
           0.2222222222222222,
           "#7201a8"
          ],
          [
           0.3333333333333333,
           "#9c179e"
          ],
          [
           0.4444444444444444,
           "#bd3786"
          ],
          [
           0.5555555555555556,
           "#d8576b"
          ],
          [
           0.6666666666666666,
           "#ed7953"
          ],
          [
           0.7777777777777778,
           "#fb9f3a"
          ],
          [
           0.8888888888888888,
           "#fdca26"
          ],
          [
           1,
           "#f0f921"
          ]
         ]
        },
        "margin": {
         "t": 60
        },
        "template": {
         "data": {
          "bar": [
           {
            "error_x": {
             "color": "#2a3f5f"
            },
            "error_y": {
             "color": "#2a3f5f"
            },
            "marker": {
             "line": {
              "color": "#E5ECF6",
              "width": 0.5
             }
            },
            "type": "bar"
           }
          ],
          "barpolar": [
           {
            "marker": {
             "line": {
              "color": "#E5ECF6",
              "width": 0.5
             }
            },
            "type": "barpolar"
           }
          ],
          "carpet": [
           {
            "aaxis": {
             "endlinecolor": "#2a3f5f",
             "gridcolor": "white",
             "linecolor": "white",
             "minorgridcolor": "white",
             "startlinecolor": "#2a3f5f"
            },
            "baxis": {
             "endlinecolor": "#2a3f5f",
             "gridcolor": "white",
             "linecolor": "white",
             "minorgridcolor": "white",
             "startlinecolor": "#2a3f5f"
            },
            "type": "carpet"
           }
          ],
          "choropleth": [
           {
            "colorbar": {
             "outlinewidth": 0,
             "ticks": ""
            },
            "type": "choropleth"
           }
          ],
          "contour": [
           {
            "colorbar": {
             "outlinewidth": 0,
             "ticks": ""
            },
            "colorscale": [
             [
              0,
              "#0d0887"
             ],
             [
              0.1111111111111111,
              "#46039f"
             ],
             [
              0.2222222222222222,
              "#7201a8"
             ],
             [
              0.3333333333333333,
              "#9c179e"
             ],
             [
              0.4444444444444444,
              "#bd3786"
             ],
             [
              0.5555555555555556,
              "#d8576b"
             ],
             [
              0.6666666666666666,
              "#ed7953"
             ],
             [
              0.7777777777777778,
              "#fb9f3a"
             ],
             [
              0.8888888888888888,
              "#fdca26"
             ],
             [
              1,
              "#f0f921"
             ]
            ],
            "type": "contour"
           }
          ],
          "contourcarpet": [
           {
            "colorbar": {
             "outlinewidth": 0,
             "ticks": ""
            },
            "type": "contourcarpet"
           }
          ],
          "heatmap": [
           {
            "colorbar": {
             "outlinewidth": 0,
             "ticks": ""
            },
            "colorscale": [
             [
              0,
              "#0d0887"
             ],
             [
              0.1111111111111111,
              "#46039f"
             ],
             [
              0.2222222222222222,
              "#7201a8"
             ],
             [
              0.3333333333333333,
              "#9c179e"
             ],
             [
              0.4444444444444444,
              "#bd3786"
             ],
             [
              0.5555555555555556,
              "#d8576b"
             ],
             [
              0.6666666666666666,
              "#ed7953"
             ],
             [
              0.7777777777777778,
              "#fb9f3a"
             ],
             [
              0.8888888888888888,
              "#fdca26"
             ],
             [
              1,
              "#f0f921"
             ]
            ],
            "type": "heatmap"
           }
          ],
          "heatmapgl": [
           {
            "colorbar": {
             "outlinewidth": 0,
             "ticks": ""
            },
            "colorscale": [
             [
              0,
              "#0d0887"
             ],
             [
              0.1111111111111111,
              "#46039f"
             ],
             [
              0.2222222222222222,
              "#7201a8"
             ],
             [
              0.3333333333333333,
              "#9c179e"
             ],
             [
              0.4444444444444444,
              "#bd3786"
             ],
             [
              0.5555555555555556,
              "#d8576b"
             ],
             [
              0.6666666666666666,
              "#ed7953"
             ],
             [
              0.7777777777777778,
              "#fb9f3a"
             ],
             [
              0.8888888888888888,
              "#fdca26"
             ],
             [
              1,
              "#f0f921"
             ]
            ],
            "type": "heatmapgl"
           }
          ],
          "histogram": [
           {
            "marker": {
             "colorbar": {
              "outlinewidth": 0,
              "ticks": ""
             }
            },
            "type": "histogram"
           }
          ],
          "histogram2d": [
           {
            "colorbar": {
             "outlinewidth": 0,
             "ticks": ""
            },
            "colorscale": [
             [
              0,
              "#0d0887"
             ],
             [
              0.1111111111111111,
              "#46039f"
             ],
             [
              0.2222222222222222,
              "#7201a8"
             ],
             [
              0.3333333333333333,
              "#9c179e"
             ],
             [
              0.4444444444444444,
              "#bd3786"
             ],
             [
              0.5555555555555556,
              "#d8576b"
             ],
             [
              0.6666666666666666,
              "#ed7953"
             ],
             [
              0.7777777777777778,
              "#fb9f3a"
             ],
             [
              0.8888888888888888,
              "#fdca26"
             ],
             [
              1,
              "#f0f921"
             ]
            ],
            "type": "histogram2d"
           }
          ],
          "histogram2dcontour": [
           {
            "colorbar": {
             "outlinewidth": 0,
             "ticks": ""
            },
            "colorscale": [
             [
              0,
              "#0d0887"
             ],
             [
              0.1111111111111111,
              "#46039f"
             ],
             [
              0.2222222222222222,
              "#7201a8"
             ],
             [
              0.3333333333333333,
              "#9c179e"
             ],
             [
              0.4444444444444444,
              "#bd3786"
             ],
             [
              0.5555555555555556,
              "#d8576b"
             ],
             [
              0.6666666666666666,
              "#ed7953"
             ],
             [
              0.7777777777777778,
              "#fb9f3a"
             ],
             [
              0.8888888888888888,
              "#fdca26"
             ],
             [
              1,
              "#f0f921"
             ]
            ],
            "type": "histogram2dcontour"
           }
          ],
          "mesh3d": [
           {
            "colorbar": {
             "outlinewidth": 0,
             "ticks": ""
            },
            "type": "mesh3d"
           }
          ],
          "parcoords": [
           {
            "line": {
             "colorbar": {
              "outlinewidth": 0,
              "ticks": ""
             }
            },
            "type": "parcoords"
           }
          ],
          "pie": [
           {
            "automargin": true,
            "type": "pie"
           }
          ],
          "scatter": [
           {
            "marker": {
             "colorbar": {
              "outlinewidth": 0,
              "ticks": ""
             }
            },
            "type": "scatter"
           }
          ],
          "scatter3d": [
           {
            "line": {
             "colorbar": {
              "outlinewidth": 0,
              "ticks": ""
             }
            },
            "marker": {
             "colorbar": {
              "outlinewidth": 0,
              "ticks": ""
             }
            },
            "type": "scatter3d"
           }
          ],
          "scattercarpet": [
           {
            "marker": {
             "colorbar": {
              "outlinewidth": 0,
              "ticks": ""
             }
            },
            "type": "scattercarpet"
           }
          ],
          "scattergeo": [
           {
            "marker": {
             "colorbar": {
              "outlinewidth": 0,
              "ticks": ""
             }
            },
            "type": "scattergeo"
           }
          ],
          "scattergl": [
           {
            "marker": {
             "colorbar": {
              "outlinewidth": 0,
              "ticks": ""
             }
            },
            "type": "scattergl"
           }
          ],
          "scattermapbox": [
           {
            "marker": {
             "colorbar": {
              "outlinewidth": 0,
              "ticks": ""
             }
            },
            "type": "scattermapbox"
           }
          ],
          "scatterpolar": [
           {
            "marker": {
             "colorbar": {
              "outlinewidth": 0,
              "ticks": ""
             }
            },
            "type": "scatterpolar"
           }
          ],
          "scatterpolargl": [
           {
            "marker": {
             "colorbar": {
              "outlinewidth": 0,
              "ticks": ""
             }
            },
            "type": "scatterpolargl"
           }
          ],
          "scatterternary": [
           {
            "marker": {
             "colorbar": {
              "outlinewidth": 0,
              "ticks": ""
             }
            },
            "type": "scatterternary"
           }
          ],
          "surface": [
           {
            "colorbar": {
             "outlinewidth": 0,
             "ticks": ""
            },
            "colorscale": [
             [
              0,
              "#0d0887"
             ],
             [
              0.1111111111111111,
              "#46039f"
             ],
             [
              0.2222222222222222,
              "#7201a8"
             ],
             [
              0.3333333333333333,
              "#9c179e"
             ],
             [
              0.4444444444444444,
              "#bd3786"
             ],
             [
              0.5555555555555556,
              "#d8576b"
             ],
             [
              0.6666666666666666,
              "#ed7953"
             ],
             [
              0.7777777777777778,
              "#fb9f3a"
             ],
             [
              0.8888888888888888,
              "#fdca26"
             ],
             [
              1,
              "#f0f921"
             ]
            ],
            "type": "surface"
           }
          ],
          "table": [
           {
            "cells": {
             "fill": {
              "color": "#EBF0F8"
             },
             "line": {
              "color": "white"
             }
            },
            "header": {
             "fill": {
              "color": "#C8D4E3"
             },
             "line": {
              "color": "white"
             }
            },
            "type": "table"
           }
          ]
         },
         "layout": {
          "annotationdefaults": {
           "arrowcolor": "#2a3f5f",
           "arrowhead": 0,
           "arrowwidth": 1
          },
          "autotypenumbers": "strict",
          "coloraxis": {
           "colorbar": {
            "outlinewidth": 0,
            "ticks": ""
           }
          },
          "colorscale": {
           "diverging": [
            [
             0,
             "#8e0152"
            ],
            [
             0.1,
             "#c51b7d"
            ],
            [
             0.2,
             "#de77ae"
            ],
            [
             0.3,
             "#f1b6da"
            ],
            [
             0.4,
             "#fde0ef"
            ],
            [
             0.5,
             "#f7f7f7"
            ],
            [
             0.6,
             "#e6f5d0"
            ],
            [
             0.7,
             "#b8e186"
            ],
            [
             0.8,
             "#7fbc41"
            ],
            [
             0.9,
             "#4d9221"
            ],
            [
             1,
             "#276419"
            ]
           ],
           "sequential": [
            [
             0,
             "#0d0887"
            ],
            [
             0.1111111111111111,
             "#46039f"
            ],
            [
             0.2222222222222222,
             "#7201a8"
            ],
            [
             0.3333333333333333,
             "#9c179e"
            ],
            [
             0.4444444444444444,
             "#bd3786"
            ],
            [
             0.5555555555555556,
             "#d8576b"
            ],
            [
             0.6666666666666666,
             "#ed7953"
            ],
            [
             0.7777777777777778,
             "#fb9f3a"
            ],
            [
             0.8888888888888888,
             "#fdca26"
            ],
            [
             1,
             "#f0f921"
            ]
           ],
           "sequentialminus": [
            [
             0,
             "#0d0887"
            ],
            [
             0.1111111111111111,
             "#46039f"
            ],
            [
             0.2222222222222222,
             "#7201a8"
            ],
            [
             0.3333333333333333,
             "#9c179e"
            ],
            [
             0.4444444444444444,
             "#bd3786"
            ],
            [
             0.5555555555555556,
             "#d8576b"
            ],
            [
             0.6666666666666666,
             "#ed7953"
            ],
            [
             0.7777777777777778,
             "#fb9f3a"
            ],
            [
             0.8888888888888888,
             "#fdca26"
            ],
            [
             1,
             "#f0f921"
            ]
           ]
          },
          "colorway": [
           "#636efa",
           "#EF553B",
           "#00cc96",
           "#ab63fa",
           "#FFA15A",
           "#19d3f3",
           "#FF6692",
           "#B6E880",
           "#FF97FF",
           "#FECB52"
          ],
          "font": {
           "color": "#2a3f5f"
          },
          "geo": {
           "bgcolor": "white",
           "lakecolor": "white",
           "landcolor": "#E5ECF6",
           "showlakes": true,
           "showland": true,
           "subunitcolor": "white"
          },
          "hoverlabel": {
           "align": "left"
          },
          "hovermode": "closest",
          "mapbox": {
           "style": "light"
          },
          "paper_bgcolor": "white",
          "plot_bgcolor": "#E5ECF6",
          "polar": {
           "angularaxis": {
            "gridcolor": "white",
            "linecolor": "white",
            "ticks": ""
           },
           "bgcolor": "#E5ECF6",
           "radialaxis": {
            "gridcolor": "white",
            "linecolor": "white",
            "ticks": ""
           }
          },
          "scene": {
           "xaxis": {
            "backgroundcolor": "#E5ECF6",
            "gridcolor": "white",
            "gridwidth": 2,
            "linecolor": "white",
            "showbackground": true,
            "ticks": "",
            "zerolinecolor": "white"
           },
           "yaxis": {
            "backgroundcolor": "#E5ECF6",
            "gridcolor": "white",
            "gridwidth": 2,
            "linecolor": "white",
            "showbackground": true,
            "ticks": "",
            "zerolinecolor": "white"
           },
           "zaxis": {
            "backgroundcolor": "#E5ECF6",
            "gridcolor": "white",
            "gridwidth": 2,
            "linecolor": "white",
            "showbackground": true,
            "ticks": "",
            "zerolinecolor": "white"
           }
          },
          "shapedefaults": {
           "line": {
            "color": "#2a3f5f"
           }
          },
          "ternary": {
           "aaxis": {
            "gridcolor": "white",
            "linecolor": "white",
            "ticks": ""
           },
           "baxis": {
            "gridcolor": "white",
            "linecolor": "white",
            "ticks": ""
           },
           "bgcolor": "#E5ECF6",
           "caxis": {
            "gridcolor": "white",
            "linecolor": "white",
            "ticks": ""
           }
          },
          "title": {
           "x": 0.05
          },
          "xaxis": {
           "automargin": true,
           "gridcolor": "white",
           "linecolor": "white",
           "ticks": "",
           "title": {
            "standoff": 15
           },
           "zerolinecolor": "white",
           "zerolinewidth": 2
          },
          "yaxis": {
           "automargin": true,
           "gridcolor": "white",
           "linecolor": "white",
           "ticks": "",
           "title": {
            "standoff": 15
           },
           "zerolinecolor": "white",
           "zerolinewidth": 2
          }
         }
        },
        "xaxis": {
         "anchor": "y",
         "constrain": "domain",
         "domain": [
          0,
          1
         ],
         "scaleanchor": "y"
        },
        "yaxis": {
         "anchor": "x",
         "autorange": "reversed",
         "constrain": "domain",
         "domain": [
          0,
          1
         ]
        }
       }
      },
      "text/html": [
       "<div>                            <div id=\"6b8e8c03-2649-4ee8-9331-717545f6fc69\" class=\"plotly-graph-div\" style=\"height:525px; width:100%;\"></div>            <script type=\"text/javascript\">                require([\"plotly\"], function(Plotly) {                    window.PLOTLYENV=window.PLOTLYENV || {};                                    if (document.getElementById(\"6b8e8c03-2649-4ee8-9331-717545f6fc69\")) {                    Plotly.newPlot(                        \"6b8e8c03-2649-4ee8-9331-717545f6fc69\",                        [{\"coloraxis\": \"coloraxis\", \"hovertemplate\": \"x: %{x}<br>y: %{y}<br>color: %{z}<extra></extra>\", \"name\": \"0\", \"type\": \"heatmap\", \"xaxis\": \"x\", \"yaxis\": \"y\", \"z\": [[1.0209549549377455, 1.9455049788702435e-59, 1.5338383982567814, 0.23360103412488376, 0.4796396488345182, 0.02524216715359108, 2.1187362976494363e-05, 2.306313279341084, 1.6033329996240353, 3.1601611829873546e-05, 0.10278057482563455, 0.04765175422868979, 0.0005650762642260375, 0.4115878729199389, 0.023608831233524034, 1.4861351276527413, 0.20559972556396588, 0.1124735677211106, 0.0007370963047396318, 0.13437519699883937], [2.543974727479784, 0.6924034997632968, 0.09419561379007825, 0.22436529166953934, 0.06077889457909591, 0.2743026129434058, 4.3965827369846544e-57, 1.5863966416420575e-09, 2.401676087159025, 0.013248649714705608, 5.664875045347576e-07, 0.0010122092113161243, 0.0032156886751236566, 0.7207942809453125, 0.0, 0.8479638518973306, 0.0204243426449085, 0.36830836671318923, 0.1805140601680728, 0.007399456640656607], [2.3159554501439357, 0.00626723396754944, 0.822075314382923, 0.00013240034029662895, 1.1765812143069763, 2.3572281245847986, 5.309136448495698e-08, 0.7729609993082741, 0.45578986719049397, 0.240726081185866, 8.624704391404336, 0.01761986859728395, 0.2390425415393088, 1.6954230361250615e-52, 9.851504209456312e-07, 0.005113030094203042, 0.006640761695306649, 0.06264265161164342, 8.601031259862379e-07, 2.6226841805051793], [0.5026172211421138, 1.9258723176213205e-29, 0.08052872645627546, 0.236625244893418, 0.34773352747726544, 4.366593881177477e-08, 6.488507038723426e-25, 9.90589480877773e-07, 1.9225753907209967e-10, 0.9940822596089376, 0.2572881158531354, 1.7714160144809787e-05, 3.2937081503716665e-05, 2.298462349833439, 1.0521256399011658, 6.560974953491419e-21, 7.529317865462625e-158, 0.3819522814836159, 0.1721392723147973, 0.5482296233306356], [4.536222921595575e-11, 0.0012435655876379531, 0.8711607747213403, 7.625705989790664e-08, 0.3640372258226752, 0.0020240544144345726, 0.038433329876122725, 0.008570464772961278, 0.00016130698582847322, 0.006510911282739724, 6.698734253333848e-10, 4.12942155617219, 0.04822307449851842, 2.875899743921978, 0.37812543556198874, 4.3821526028033257e-07, 1.2974822148434146, 0.3588127861812959, 0.0, 0.06946002043888798], [2.2796786695214228e-20, 0.00017148312194791802, 0.09956326129682608, 7.350768415928467e-05, 0.25425183881328967, 1.7903838825818108, 0.38773423646055544, 0.013100861047866435, 0.10869554858800723, 0.3208270528302383, 0.7184444703763749, 4.1852049361008428e-81, 8.323130483811147e-10, 1.5505691580185515e-05, 0.9606392374724849, 0.2397409344802091, 3.594181852327721, 1.7379191597968757, 1.661618871594144e-05, 0.0023103597600604175], [0.0003165028839306877, 1.19336793337776e-24, 0.056177316945208736, 1.1996896410265663, 0.9512459420606713, 0.11428386893875073, 0.48693068786344407, 1.7498996683336328, 0.012015221548576002, 2.1401104255964762, 0.28425555392522933, 0.7596789777744436, 7.151665557136002, 0.003985839791787583, 0.8505307426923425, 0.30107517143424295, 0.5699127805553141, 2.9940564609424075e-08, 0.8340080078662544, 0.0024166487268094164], [0.06650844710568549, 1.92656209400693e-07, 0.015839493205183415, 7.076691985984182e-10, 0.2472342091737216, 0.3055071853399667, 0.13168941056115918, 0.005791932906014775, 0.653700526225532, 6.856563930396308e-19, 0.006867705493677855, 3.9409165574329505e-34, 7.97275073695141e-39, 0.021035650534080106, 0.003749811904420097, 0.10921763833400863, 0.2726317548714563, 0.35874462670650753, 2.1581585780719013, 1.5779422507524217], [0.006918777719105625, 0.03055161006865064, 0.13645990635088323, 0.3335166914101892, 0.14962109303585416, 1.1719940356795775, 7.100198222308169e-07, 0.5363996701225366, 5.122203200814131e-06, 3.458009403729259e-07, 1.2957175988683938, 0.04284580091477343, 0.0003993781193307678, 0.017222739755205975, 3.8033193082058967e-10, 0.13656896379628686, 0.2985773522258962, 2.1133497691038707, 0.010029578904968412, 0.4024456193725376], [0.0005341255903201188, 8.624045922006751e-13, 0.0070681994291179615, 0.551222420003629, 1.169056642611479, 0.5633626215310911, 2.2074024846297435e-23, 0.04608284514102487, 0.010593231835115695, 0.06416014014013163, 0.7543187400335999, 1.791136021596127e-34, 0.05257486464158632, 1.1146712762150712, 0.7743455647210191, 1.1814169752453114, 0.45201890856914834, 2.2601323227663873e-06, 0.018356334790280173, 0.011046124756811998], [0.06004360355048547, 3.267302646352695e-05, 7.479718363165703e-06, 0.6796294623757251, 5.672174896309696e-22, 0.03605325496169706, 1.323608330300043, 7.587866727578052e-07, 0.0007669712008192789, 0.09498178453679466, 1.936651243081011e-06, 0.28575379694577535, 0.3717835102409878, 0.002437726959110697, 2.184034246319319, 0.05232993334739681, 1.0234933237402732, 0.06242970979090456, 0.09693698021073906, 6.186115543714266e-05], [2.29621824339145e-06, 0.06945830569196403, 0.25682677716818997, 4.1021914180650745, 7.580311000653658e-17, 0.6614558398946554, 0.02134879496979606, 0.02352157274507844, 0.18621014450397358, 0.002674463787679681, 0.012859724111388608, 0.030950207950310317, 0.01824603992229403, 1.67344112251723e-178, 0.004966159614186574, 0.0003164687549251859, 0.06338368712672038, 2.551239624556393, 0.6915869884338923, 3.644868349451045e-08], [3.2688586946779465, 0.9879019888590114, 0.030142310483671678, 1.0120005572198252, 2.2313508635625348, 0.002087599217628096, 3.573743055362552e-41, 5.247659475552206e-16, 0.26497466786442014, 0.10074962208128295, 0.18668638534173784, 0.7452568088789264, 0.00738242645093476, 4.179412522698364e-09, 0.21435040969899358, 3.657732732283085e-10, 0.5299225394070639, 2.919534507711782, 1.1619715151456702, 8.037871503395235e-13], [0.00026011213869976517, 0.17222135856187049, 1.3053513954009632, 0.011163868815425491, 0.03907325385669758, 0.18596444799187506, 0.002837441645028828, 0.0054230353786782455, 1.1073895858361202, 0.0856251694140554, 0.03005693428247347, 0.027906814582499384, 0.07511472830618704, 5.622535709967418e-07, 0.0014694122386224712, 1.8704643000613114e-11, 0.5101547780436421, 0.38163078227414854, 0.061569076118465384, 7.815243287043657e-13], [0.004703545182962199, 0.0022254391463217378, 0.03281674493475431, 0.25292745044411685, 0.38228803120320154, 0.00041120592831294533, 0.24302304581863227, 0.002317173076497907, 0.3700673153367285, 0.01639130985659748, 0.05032438907463288, 0.9187011826223682, 0.0016274879516113988, 0.16210877532964774, 1.264920920361196, 0.04027450782210536, 2.4232693625662933, 1.0601793839690125e-05, 0.19385904979758428, 0.011454629829282751], [0.2634990946063975, 2.1606783419256423, 0.015673725594254336, 0.0127033480225878, 0.5934587100974822, 0.017169877886760068, 0.0008573752474486285, 0.8955481844777501, 0.39873065944811725, 0.0590434622917219, 7.784708784788564e-08, 0.3168790075222174, 1.3692889152198182e-12, 0.0013174276805974871, 1.1351557135101953, 1.331710904453863e-21, 0.0027860050920369105, 0.08557966653062804, 1.5127308015839138, 0.3349727180624346], [6.200568115135779e-10, 0.587225472443683, 0.01134655049293338, 1.745974681924705, 4.953629605562325e-07, 1.677948170707985e-14, 0.0017502812209446792, 0.01992288364255915, 5.652562420884053e-05, 0.6953578630286951, 2.088532899089662, 0.34900305898359274, 7.599421618900905e-06, 8.297412075783594e-27, 0.343317456944757, 0.6355853493124687, 1.3220276177592019, 0.8542275497077382, 1.0181846784570694, 0.006019812163295551], [2.356122485859558, 0.0001249080280408437, 1.0819754177493483e-07, 1.1265947981471355e-63, 0.0292458020030477, 3.0918737059735983, 0.07504406333152465, 0.1849931191262584, 8.336737209320654e-33, 0.055713243749153624, 0.00029762844003782316, 0.37881713026010216, 0.5074583316087794, 1.7086242640996439, 2.8164154798277925e-05, 0.04466287631107163, 8.930350181817949e-42, 4.826588442164335e-25, 0.003887145960095456, 0.038625927905402355], [0.002064164717061275, 0.00019323072895532104, 0.007401016350930535, 0.0, 1.5536684355747927, 4.844309965569886e-05, 4.0028818452878827e-08, 0.0004512536969423072, 1.2255165322519914, 0.7147993063570818, 0.5579614822945593, 0.04304324280261201, 0.11814026127138905, 0.33360169718570176, 4.813609727089006e-12, 0.0067045489577184595, 0.012427152549871735, 5.238711252791679, 4.8745913312703043e-29, 0.03711491688491454], [1.6038925451799756e-06, 1.381038973416409, 0.34150999381940744, 0.00011220503371479909, 0.6696590794329436, 1.9173181326213269, 0.5629733405797449, 7.645150397297085e-05, 0.0006683172958289463, 0.9591723455223691, 1.7826561720618965, 0.17293858407608267, 0.010370731299575197, 0.9861263365597028, 0.04535482801861447, 0.22046840203053666, 0.0012137431910475695, 1.0261659595022352, 0.0004022413246034379, 1.0719724115814508]]}],                        {\"coloraxis\": {\"colorscale\": [[0.0, \"#0d0887\"], [0.1111111111111111, \"#46039f\"], [0.2222222222222222, \"#7201a8\"], [0.3333333333333333, \"#9c179e\"], [0.4444444444444444, \"#bd3786\"], [0.5555555555555556, \"#d8576b\"], [0.6666666666666666, \"#ed7953\"], [0.7777777777777778, \"#fb9f3a\"], [0.8888888888888888, \"#fdca26\"], [1.0, \"#f0f921\"]]}, \"margin\": {\"t\": 60}, \"template\": {\"data\": {\"bar\": [{\"error_x\": {\"color\": \"#2a3f5f\"}, \"error_y\": {\"color\": \"#2a3f5f\"}, \"marker\": {\"line\": {\"color\": \"#E5ECF6\", \"width\": 0.5}}, \"type\": \"bar\"}], \"barpolar\": [{\"marker\": {\"line\": {\"color\": \"#E5ECF6\", \"width\": 0.5}}, \"type\": \"barpolar\"}], \"carpet\": [{\"aaxis\": {\"endlinecolor\": \"#2a3f5f\", \"gridcolor\": \"white\", \"linecolor\": \"white\", \"minorgridcolor\": \"white\", \"startlinecolor\": \"#2a3f5f\"}, \"baxis\": {\"endlinecolor\": \"#2a3f5f\", \"gridcolor\": \"white\", \"linecolor\": \"white\", \"minorgridcolor\": \"white\", \"startlinecolor\": \"#2a3f5f\"}, \"type\": \"carpet\"}], \"choropleth\": [{\"colorbar\": {\"outlinewidth\": 0, \"ticks\": \"\"}, \"type\": \"choropleth\"}], \"contour\": [{\"colorbar\": {\"outlinewidth\": 0, \"ticks\": \"\"}, \"colorscale\": [[0.0, \"#0d0887\"], [0.1111111111111111, \"#46039f\"], [0.2222222222222222, \"#7201a8\"], [0.3333333333333333, \"#9c179e\"], [0.4444444444444444, \"#bd3786\"], [0.5555555555555556, \"#d8576b\"], [0.6666666666666666, \"#ed7953\"], [0.7777777777777778, \"#fb9f3a\"], [0.8888888888888888, \"#fdca26\"], [1.0, \"#f0f921\"]], \"type\": \"contour\"}], \"contourcarpet\": [{\"colorbar\": {\"outlinewidth\": 0, \"ticks\": \"\"}, \"type\": \"contourcarpet\"}], \"heatmap\": [{\"colorbar\": {\"outlinewidth\": 0, \"ticks\": \"\"}, \"colorscale\": [[0.0, \"#0d0887\"], [0.1111111111111111, \"#46039f\"], [0.2222222222222222, \"#7201a8\"], [0.3333333333333333, \"#9c179e\"], [0.4444444444444444, \"#bd3786\"], [0.5555555555555556, \"#d8576b\"], [0.6666666666666666, \"#ed7953\"], [0.7777777777777778, \"#fb9f3a\"], [0.8888888888888888, \"#fdca26\"], [1.0, \"#f0f921\"]], \"type\": \"heatmap\"}], \"heatmapgl\": [{\"colorbar\": {\"outlinewidth\": 0, \"ticks\": \"\"}, \"colorscale\": [[0.0, \"#0d0887\"], [0.1111111111111111, \"#46039f\"], [0.2222222222222222, \"#7201a8\"], [0.3333333333333333, \"#9c179e\"], [0.4444444444444444, \"#bd3786\"], [0.5555555555555556, \"#d8576b\"], [0.6666666666666666, \"#ed7953\"], [0.7777777777777778, \"#fb9f3a\"], [0.8888888888888888, \"#fdca26\"], [1.0, \"#f0f921\"]], \"type\": \"heatmapgl\"}], \"histogram\": [{\"marker\": {\"colorbar\": {\"outlinewidth\": 0, \"ticks\": \"\"}}, \"type\": \"histogram\"}], \"histogram2d\": [{\"colorbar\": {\"outlinewidth\": 0, \"ticks\": \"\"}, \"colorscale\": [[0.0, \"#0d0887\"], [0.1111111111111111, \"#46039f\"], [0.2222222222222222, \"#7201a8\"], [0.3333333333333333, \"#9c179e\"], [0.4444444444444444, \"#bd3786\"], [0.5555555555555556, \"#d8576b\"], [0.6666666666666666, \"#ed7953\"], [0.7777777777777778, \"#fb9f3a\"], [0.8888888888888888, \"#fdca26\"], [1.0, \"#f0f921\"]], \"type\": \"histogram2d\"}], \"histogram2dcontour\": [{\"colorbar\": {\"outlinewidth\": 0, \"ticks\": \"\"}, \"colorscale\": [[0.0, \"#0d0887\"], [0.1111111111111111, \"#46039f\"], [0.2222222222222222, \"#7201a8\"], [0.3333333333333333, \"#9c179e\"], [0.4444444444444444, \"#bd3786\"], [0.5555555555555556, \"#d8576b\"], [0.6666666666666666, \"#ed7953\"], [0.7777777777777778, \"#fb9f3a\"], [0.8888888888888888, \"#fdca26\"], [1.0, \"#f0f921\"]], \"type\": \"histogram2dcontour\"}], \"mesh3d\": [{\"colorbar\": {\"outlinewidth\": 0, \"ticks\": \"\"}, \"type\": \"mesh3d\"}], \"parcoords\": [{\"line\": {\"colorbar\": {\"outlinewidth\": 0, \"ticks\": \"\"}}, \"type\": \"parcoords\"}], \"pie\": [{\"automargin\": true, \"type\": \"pie\"}], \"scatter\": [{\"marker\": {\"colorbar\": {\"outlinewidth\": 0, \"ticks\": \"\"}}, \"type\": \"scatter\"}], \"scatter3d\": [{\"line\": {\"colorbar\": {\"outlinewidth\": 0, \"ticks\": \"\"}}, \"marker\": {\"colorbar\": {\"outlinewidth\": 0, \"ticks\": \"\"}}, \"type\": \"scatter3d\"}], \"scattercarpet\": [{\"marker\": {\"colorbar\": {\"outlinewidth\": 0, \"ticks\": \"\"}}, \"type\": \"scattercarpet\"}], \"scattergeo\": [{\"marker\": {\"colorbar\": {\"outlinewidth\": 0, \"ticks\": \"\"}}, \"type\": \"scattergeo\"}], \"scattergl\": [{\"marker\": {\"colorbar\": {\"outlinewidth\": 0, \"ticks\": \"\"}}, \"type\": \"scattergl\"}], \"scattermapbox\": [{\"marker\": {\"colorbar\": {\"outlinewidth\": 0, \"ticks\": \"\"}}, \"type\": \"scattermapbox\"}], \"scatterpolar\": [{\"marker\": {\"colorbar\": {\"outlinewidth\": 0, \"ticks\": \"\"}}, \"type\": \"scatterpolar\"}], \"scatterpolargl\": [{\"marker\": {\"colorbar\": {\"outlinewidth\": 0, \"ticks\": \"\"}}, \"type\": \"scatterpolargl\"}], \"scatterternary\": [{\"marker\": {\"colorbar\": {\"outlinewidth\": 0, \"ticks\": \"\"}}, \"type\": \"scatterternary\"}], \"surface\": [{\"colorbar\": {\"outlinewidth\": 0, \"ticks\": \"\"}, \"colorscale\": [[0.0, \"#0d0887\"], [0.1111111111111111, \"#46039f\"], [0.2222222222222222, \"#7201a8\"], [0.3333333333333333, \"#9c179e\"], [0.4444444444444444, \"#bd3786\"], [0.5555555555555556, \"#d8576b\"], [0.6666666666666666, \"#ed7953\"], [0.7777777777777778, \"#fb9f3a\"], [0.8888888888888888, \"#fdca26\"], [1.0, \"#f0f921\"]], \"type\": \"surface\"}], \"table\": [{\"cells\": {\"fill\": {\"color\": \"#EBF0F8\"}, \"line\": {\"color\": \"white\"}}, \"header\": {\"fill\": {\"color\": \"#C8D4E3\"}, \"line\": {\"color\": \"white\"}}, \"type\": \"table\"}]}, \"layout\": {\"annotationdefaults\": {\"arrowcolor\": \"#2a3f5f\", \"arrowhead\": 0, \"arrowwidth\": 1}, \"autotypenumbers\": \"strict\", \"coloraxis\": {\"colorbar\": {\"outlinewidth\": 0, \"ticks\": \"\"}}, \"colorscale\": {\"diverging\": [[0, \"#8e0152\"], [0.1, \"#c51b7d\"], [0.2, \"#de77ae\"], [0.3, \"#f1b6da\"], [0.4, \"#fde0ef\"], [0.5, \"#f7f7f7\"], [0.6, \"#e6f5d0\"], [0.7, \"#b8e186\"], [0.8, \"#7fbc41\"], [0.9, \"#4d9221\"], [1, \"#276419\"]], \"sequential\": [[0.0, \"#0d0887\"], [0.1111111111111111, \"#46039f\"], [0.2222222222222222, \"#7201a8\"], [0.3333333333333333, \"#9c179e\"], [0.4444444444444444, \"#bd3786\"], [0.5555555555555556, \"#d8576b\"], [0.6666666666666666, \"#ed7953\"], [0.7777777777777778, \"#fb9f3a\"], [0.8888888888888888, \"#fdca26\"], [1.0, \"#f0f921\"]], \"sequentialminus\": [[0.0, \"#0d0887\"], [0.1111111111111111, \"#46039f\"], [0.2222222222222222, \"#7201a8\"], [0.3333333333333333, \"#9c179e\"], [0.4444444444444444, \"#bd3786\"], [0.5555555555555556, \"#d8576b\"], [0.6666666666666666, \"#ed7953\"], [0.7777777777777778, \"#fb9f3a\"], [0.8888888888888888, \"#fdca26\"], [1.0, \"#f0f921\"]]}, \"colorway\": [\"#636efa\", \"#EF553B\", \"#00cc96\", \"#ab63fa\", \"#FFA15A\", \"#19d3f3\", \"#FF6692\", \"#B6E880\", \"#FF97FF\", \"#FECB52\"], \"font\": {\"color\": \"#2a3f5f\"}, \"geo\": {\"bgcolor\": \"white\", \"lakecolor\": \"white\", \"landcolor\": \"#E5ECF6\", \"showlakes\": true, \"showland\": true, \"subunitcolor\": \"white\"}, \"hoverlabel\": {\"align\": \"left\"}, \"hovermode\": \"closest\", \"mapbox\": {\"style\": \"light\"}, \"paper_bgcolor\": \"white\", \"plot_bgcolor\": \"#E5ECF6\", \"polar\": {\"angularaxis\": {\"gridcolor\": \"white\", \"linecolor\": \"white\", \"ticks\": \"\"}, \"bgcolor\": \"#E5ECF6\", \"radialaxis\": {\"gridcolor\": \"white\", \"linecolor\": \"white\", \"ticks\": \"\"}}, \"scene\": {\"xaxis\": {\"backgroundcolor\": \"#E5ECF6\", \"gridcolor\": \"white\", \"gridwidth\": 2, \"linecolor\": \"white\", \"showbackground\": true, \"ticks\": \"\", \"zerolinecolor\": \"white\"}, \"yaxis\": {\"backgroundcolor\": \"#E5ECF6\", \"gridcolor\": \"white\", \"gridwidth\": 2, \"linecolor\": \"white\", \"showbackground\": true, \"ticks\": \"\", \"zerolinecolor\": \"white\"}, \"zaxis\": {\"backgroundcolor\": \"#E5ECF6\", \"gridcolor\": \"white\", \"gridwidth\": 2, \"linecolor\": \"white\", \"showbackground\": true, \"ticks\": \"\", \"zerolinecolor\": \"white\"}}, \"shapedefaults\": {\"line\": {\"color\": \"#2a3f5f\"}}, \"ternary\": {\"aaxis\": {\"gridcolor\": \"white\", \"linecolor\": \"white\", \"ticks\": \"\"}, \"baxis\": {\"gridcolor\": \"white\", \"linecolor\": \"white\", \"ticks\": \"\"}, \"bgcolor\": \"#E5ECF6\", \"caxis\": {\"gridcolor\": \"white\", \"linecolor\": \"white\", \"ticks\": \"\"}}, \"title\": {\"x\": 0.05}, \"xaxis\": {\"automargin\": true, \"gridcolor\": \"white\", \"linecolor\": \"white\", \"ticks\": \"\", \"title\": {\"standoff\": 15}, \"zerolinecolor\": \"white\", \"zerolinewidth\": 2}, \"yaxis\": {\"automargin\": true, \"gridcolor\": \"white\", \"linecolor\": \"white\", \"ticks\": \"\", \"title\": {\"standoff\": 15}, \"zerolinecolor\": \"white\", \"zerolinewidth\": 2}}}, \"xaxis\": {\"anchor\": \"y\", \"constrain\": \"domain\", \"domain\": [0.0, 1.0], \"scaleanchor\": \"y\"}, \"yaxis\": {\"anchor\": \"x\", \"autorange\": \"reversed\", \"constrain\": \"domain\", \"domain\": [0.0, 1.0]}},                        {\"responsive\": true}                    ).then(function(){\n",
       "                            \n",
       "var gd = document.getElementById('6b8e8c03-2649-4ee8-9331-717545f6fc69');\n",
       "var x = new MutationObserver(function (mutations, observer) {{\n",
       "        var display = window.getComputedStyle(gd).display;\n",
       "        if (!display || display === 'none') {{\n",
       "            console.log([gd, 'removed!']);\n",
       "            Plotly.purge(gd);\n",
       "            observer.disconnect();\n",
       "        }}\n",
       "}});\n",
       "\n",
       "// Listen for the removal of the full notebook cells\n",
       "var notebookContainer = gd.closest('#notebook-container');\n",
       "if (notebookContainer) {{\n",
       "    x.observe(notebookContainer, {childList: true});\n",
       "}}\n",
       "\n",
       "// Listen for the clearing of the current output cell\n",
       "var outputEl = gd.closest('.output');\n",
       "if (outputEl) {{\n",
       "    x.observe(outputEl, {childList: true});\n",
       "}}\n",
       "\n",
       "                        })                };                });            </script>        </div>"
      ]
     },
     "metadata": {},
     "output_type": "display_data"
    }
   ],
   "source": [
    "fig = px.imshow(np.random.chisquare(np.random.random((20,20))))\n",
    "fig.show()"
   ]
  },
  {
   "cell_type": "markdown",
   "metadata": {},
   "source": [
    "### 3D Plot"
   ]
  },
  {
   "cell_type": "code",
   "execution_count": null,
   "metadata": {
    "ExecuteTime": {
     "end_time": "2021-02-09T13:51:27.134065Z",
     "start_time": "2021-02-09T13:51:27.056028Z"
    }
   },
   "outputs": [],
   "source": [
    "def f(x, y):\n",
    "    return np.sin(np.sqrt(x ** 2 + y ** 2))\n",
    "%matplotlib notebook\n",
    "x = np.linspace(-6, 6, 30)\n",
    "y = np.linspace(-6, 6, 30)\n",
    "\n",
    "X, Y = np.meshgrid(x, y)\n",
    "Z = f(X, Y)\n",
    "ax = plt.axes(projection='3d')\n",
    "ax.plot_surface(X, Y, Z, rstride=1, cstride=1,\n",
    "                cmap='viridis', edgecolor='none')\n",
    "ax.set_title('surface');"
   ]
  },
  {
   "cell_type": "code",
   "execution_count": null,
   "metadata": {
    "ExecuteTime": {
     "end_time": "2021-02-09T13:58:37.046669Z",
     "start_time": "2021-02-09T13:58:36.659411Z"
    }
   },
   "outputs": [],
   "source": [
    "def f(x, y):\n",
    "    return np.sin(np.sqrt(x ** 2 + y ** 2))\n",
    "u = np.linspace(-6, 6, 30)\n",
    "v = np.linspace(-6, 6, 30)\n",
    "u,v = np.meshgrid(u,v)\n",
    "u = u.flatten()\n",
    "v = v.flatten()\n",
    "x = (3 + (np.cos(v)))*np.cos(u)\n",
    "y = (3 + (np.cos(v)))*np.sin(u)\n",
    "z = f(x, y)\n",
    "points2D = np.vstack([u,v]).T\n",
    "tri = Delaunay(points2D)\n",
    "simplices = tri.simplices\n",
    "\n",
    "fig = ff.create_trisurf(x=x, y=y, z=z,\n",
    "                        simplices=simplices,\n",
    "                        title=\"Torus\",\n",
    "                        aspectratio=dict(x=1, y=1, z=1))\n",
    "fig.show()\n"
   ]
  },
  {
   "cell_type": "code",
   "execution_count": null,
   "metadata": {
    "ExecuteTime": {
     "end_time": "2021-02-09T13:50:40.256722Z",
     "start_time": "2021-02-09T13:50:39.775899Z"
    }
   },
   "outputs": [],
   "source": [
    "fig = go.Figure()\n",
    "fig.add_surface(z=pd.read_csv(\"https://raw.githubusercontent.com/plotly/datasets/master/api_docs/mt_bruno_elevation.csv\"))\n",
    "fig.update_layout(showlegend=False,\n",
    "                  title_text=\"Exemplo 3D Plotly\",\n",
    "                  height=500,\n",
    "                  width=800)\n",
    "fig.show()"
   ]
  },
  {
   "cell_type": "code",
   "execution_count": null,
   "metadata": {
    "ExecuteTime": {
     "end_time": "2021-02-09T14:00:01.827328Z",
     "start_time": "2021-02-09T14:00:01.565061Z"
    }
   },
   "outputs": [],
   "source": [
    "u = np.linspace(0, 2*np.pi, 20)\n",
    "v = np.linspace(0, 2*np.pi, 20)\n",
    "u,v = np.meshgrid(u,v)\n",
    "u = u.flatten()\n",
    "v = v.flatten()\n",
    "\n",
    "x = (3 + (np.cos(v)))*np.cos(u)\n",
    "y = (3 + (np.cos(v)))*np.sin(u)\n",
    "z = np.sin(v)\n",
    "\n",
    "points2D = np.vstack([u,v]).T\n",
    "tri = Delaunay(points2D)\n",
    "simplices = tri.simplices\n",
    "\n",
    "fig = ff.create_trisurf(x=x, y=y, z=z,\n",
    "                         simplices=simplices,\n",
    "                         title=\"Torus\", aspectratio=dict(x=1, y=1, z=0.3))\n",
    "fig.show()"
   ]
  },
  {
   "cell_type": "code",
   "execution_count": null,
   "metadata": {
    "ExecuteTime": {
     "end_time": "2021-02-09T13:46:09.802777Z",
     "start_time": "2021-02-09T13:46:09.741341Z"
    }
   },
   "outputs": [],
   "source": []
  }
 ],
 "metadata": {
  "hide_input": false,
  "kernelspec": {
   "display_name": "Python 3",
   "language": "python",
   "name": "python3"
  },
  "language_info": {
   "codemirror_mode": {
    "name": "ipython",
    "version": 3
   },
   "file_extension": ".py",
   "mimetype": "text/x-python",
   "name": "python",
   "nbconvert_exporter": "python",
   "pygments_lexer": "ipython3",
   "version": "3.8.5"
  },
  "toc": {
   "base_numbering": 1,
   "nav_menu": {},
   "number_sections": false,
   "sideBar": true,
   "skip_h1_title": false,
   "title_cell": "Table of Contents",
   "title_sidebar": "Contents",
   "toc_cell": false,
   "toc_position": {
    "height": "calc(100% - 180px)",
    "left": "10px",
    "top": "150px",
    "width": "352px"
   },
   "toc_section_display": true,
   "toc_window_display": false
  },
  "varInspector": {
   "cols": {
    "lenName": 16,
    "lenType": 16,
    "lenVar": 40
   },
   "kernels_config": {
    "python": {
     "delete_cmd_postfix": "",
     "delete_cmd_prefix": "del ",
     "library": "var_list.py",
     "varRefreshCmd": "print(var_dic_list())"
    },
    "r": {
     "delete_cmd_postfix": ") ",
     "delete_cmd_prefix": "rm(",
     "library": "var_list.r",
     "varRefreshCmd": "cat(var_dic_list()) "
    }
   },
   "types_to_exclude": [
    "module",
    "function",
    "builtin_function_or_method",
    "instance",
    "_Feature"
   ],
   "window_display": false
  }
 },
 "nbformat": 4,
 "nbformat_minor": 4
}
