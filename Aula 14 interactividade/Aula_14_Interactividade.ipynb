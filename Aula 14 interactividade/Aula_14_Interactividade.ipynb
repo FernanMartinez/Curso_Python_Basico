{
 "cells": [
  {
   "cell_type": "markdown",
   "metadata": {},
   "source": [
    "# Aula 14 interactividade com Python\n",
    "<img  src='img/interatividade.png' width='600' height='300' />\n",
    "\n",
    "\n",
    "\n",
    "As bibliotecas vistas até o momento permite trabalhar com grande quantidade de dados (Pandas), realizar operações matriciais e algebraicas de forma fácil e rápida (Numpy) e visualizar dados de forma personalizada e simples (Matplotlib). A interação dessas bibliotecas ajudam a realizar analises de grande quantidade de dados de forma rápida com pouca linha de código. Contudo, existem cenários onde queremos realizar a exploração dos dados de forma interativa e com isso obter mais informação dos dados, e com os conhecimentos adquiridos até o momento isso não se faz possível.\n",
    "\n",
    "Neste serie de conversas vamos ver como tornar nossos códigos e nossas análises mais interativas e conseguir obter mais informação de nossos dados. Vale a pena destacar que a interatividade em Python somente é possível ao se utiliza Jupyter-Lab ou Jupyter-notebook. As IDEs como VSCode, Spyder, Pycharme e outras não permitem realizar interatividade, contudo algumas IDES (como spyder e Vscode) possuem expensões que permitem trabalhar com Notebook.\n",
    "\n",
    "---\n",
    "\n",
    "<font size=\"5\"> Os tópicos que vamos abordar nesta série de conversas são:</font>\n",
    "\n",
    "- Comandos mágicos em Jupyter-notebook\n",
    "- Aspectos básicos de interatividade com ipwidgets;\n",
    " - Importando a biblioteca\n",
    " - Método `interact`\n",
    " - Método `interactive`\n",
    " - Atualização continua desativada\n",
    "- Explorando arquivos usando interactividade\n",
    "\n",
    "\n",
    "\n",
    "- Interactividade com graficos\n",
    "- Interactividade com tabelas\n",
    "- Graficos com Animação\n",
    "- Interactividade 3D"
   ]
  },
  {
   "cell_type": "markdown",
   "metadata": {
    "hide_input": false
   },
   "source": [
    "## Comandos mágicos em Jupyter-notebook"
   ]
  },
  {
   "cell_type": "markdown",
   "metadata": {},
   "source": [
    "Os comandos mágicos ou [Magic Commands](https://ipython.readthedocs.io/en/stable/interactive/magics.html) são aprimoramentos realizados à linguagem que fazem com que um código tenha mais funcionalidades (além das mostradas previamente). Existe mais de 100 comandos mágicos disponíveis, por esse motivo analisaremos os mais relevantes.\n",
    "\n",
    "Os comandos mágicos podem ser utilizados de duas formas: a primeira utilizando o prefixo `%` ou os prefixos `%%`. No primeiro caso o comando magico será aplicado unicamente numa linha. No segundo caso o comando é ópera na célula inteira."
   ]
  },
  {
   "cell_type": "markdown",
   "metadata": {
    "ExecuteTime": {
     "end_time": "2021-01-19T18:34:39.116641Z",
     "start_time": "2021-01-19T18:34:39.100898Z"
    }
   },
   "source": [
    "O comando `%lsmagic` lista todas os comandos mágicos disponíveis."
   ]
  },
  {
   "cell_type": "code",
   "execution_count": null,
   "metadata": {
    "ExecuteTime": {
     "end_time": "2021-01-20T18:25:55.345153Z",
     "start_time": "2021-01-20T18:25:55.320541Z"
    }
   },
   "outputs": [],
   "source": [
    "%lsmagic"
   ]
  },
  {
   "cell_type": "markdown",
   "metadata": {},
   "source": [
    "O comando `%ls` permite exibir o conteúdo do diretório atual. Possivelmente esse comando não esteja disponível para Windows."
   ]
  },
  {
   "cell_type": "code",
   "execution_count": null,
   "metadata": {
    "ExecuteTime": {
     "end_time": "2021-01-20T18:25:58.640355Z",
     "start_time": "2021-01-20T18:25:58.510604Z"
    }
   },
   "outputs": [],
   "source": [
    "%ls"
   ]
  },
  {
   "cell_type": "markdown",
   "metadata": {},
   "source": [
    "O comando `%run` permite executar um código externo ao notebook."
   ]
  },
  {
   "cell_type": "code",
   "execution_count": null,
   "metadata": {
    "ExecuteTime": {
     "end_time": "2021-01-20T18:26:02.633256Z",
     "start_time": "2021-01-20T18:26:02.627181Z"
    },
    "hide_input": false
   },
   "outputs": [],
   "source": [
    "%run Codigo_externo.py"
   ]
  },
  {
   "cell_type": "markdown",
   "metadata": {},
   "source": [
    "O comando `%pycat` permite visualizar um código contigo em outro"
   ]
  },
  {
   "cell_type": "code",
   "execution_count": null,
   "metadata": {
    "ExecuteTime": {
     "end_time": "2021-01-20T18:26:10.733769Z",
     "start_time": "2021-01-20T18:26:10.726595Z"
    }
   },
   "outputs": [],
   "source": [
    "%pycat Codigo_externo_2.py"
   ]
  },
  {
   "cell_type": "code",
   "execution_count": null,
   "metadata": {
    "ExecuteTime": {
     "end_time": "2021-01-20T18:26:13.954582Z",
     "start_time": "2021-01-20T18:26:13.937926Z"
    }
   },
   "outputs": [],
   "source": [
    "%lsmagic"
   ]
  },
  {
   "cell_type": "markdown",
   "metadata": {},
   "source": [
    "O comando `%pycat` permite importar um código contigo em outro arquivo para o notebook atual."
   ]
  },
  {
   "cell_type": "code",
   "execution_count": null,
   "metadata": {
    "ExecuteTime": {
     "end_time": "2021-01-20T18:26:35.303201Z",
     "start_time": "2021-01-20T18:26:34.479657Z"
    }
   },
   "outputs": [],
   "source": [
    "# %load Codigo_externo_2.py\n",
    "import numpy as np\n",
    "import matplotlib.pyplot as plt\n",
    "y = np.random.rand(1000)\n",
    "x = np.arange(0, len(y))\n",
    "plt.scatter(x=x,\n",
    "            y=y,\n",
    "            s=np.random.uniform(low=1, high=50, size=len(x)),\n",
    "            c=np.random.uniform(low=1, high=10, size=len(x)),marker=\"*\",\n",
    "            alpha=0.8)\n",
    "plt.title(\"Scarter plot\")\n",
    "plt.xlabel(\"Eixo X\")\n",
    "plt.ylabel(\"Eixo Y\")"
   ]
  },
  {
   "cell_type": "markdown",
   "metadata": {},
   "source": [
    "Os comandos mágicos `%who`, `%who_ls`, `%whos` permitem:\n",
    "- visualizar as variáveis como uma lista;\n",
    "- visualizar as variáveis com informação reduzida;\n",
    "- visualizar as variáveis com informação detalhada"
   ]
  },
  {
   "cell_type": "code",
   "execution_count": null,
   "metadata": {
    "ExecuteTime": {
     "end_time": "2021-01-20T18:26:38.942364Z",
     "start_time": "2021-01-20T18:26:38.936253Z"
    }
   },
   "outputs": [],
   "source": [
    "a = \"25\"\n",
    "b = 25\n",
    "c = (a, b)\n",
    "d = [a, b, c]\n",
    "e = \"Fernan\"\n",
    "f = 5"
   ]
  },
  {
   "cell_type": "code",
   "execution_count": null,
   "metadata": {
    "ExecuteTime": {
     "end_time": "2021-01-20T18:26:40.657694Z",
     "start_time": "2021-01-20T18:26:40.650938Z"
    }
   },
   "outputs": [],
   "source": [
    "%who_ls"
   ]
  },
  {
   "cell_type": "code",
   "execution_count": null,
   "metadata": {
    "ExecuteTime": {
     "end_time": "2021-01-20T18:26:43.120340Z",
     "start_time": "2021-01-20T18:26:43.097085Z"
    }
   },
   "outputs": [],
   "source": [
    "%who"
   ]
  },
  {
   "cell_type": "code",
   "execution_count": null,
   "metadata": {
    "ExecuteTime": {
     "end_time": "2021-01-20T18:26:45.285785Z",
     "start_time": "2021-01-20T18:26:45.278823Z"
    }
   },
   "outputs": [],
   "source": [
    "%who str"
   ]
  },
  {
   "cell_type": "code",
   "execution_count": null,
   "metadata": {
    "ExecuteTime": {
     "end_time": "2021-01-20T18:26:47.104298Z",
     "start_time": "2021-01-20T18:26:47.093917Z"
    }
   },
   "outputs": [],
   "source": [
    "%who int"
   ]
  },
  {
   "cell_type": "code",
   "execution_count": null,
   "metadata": {
    "ExecuteTime": {
     "end_time": "2021-01-20T18:26:49.549081Z",
     "start_time": "2021-01-20T18:26:49.539402Z"
    }
   },
   "outputs": [],
   "source": [
    "%who list tuple"
   ]
  },
  {
   "cell_type": "code",
   "execution_count": null,
   "metadata": {
    "ExecuteTime": {
     "end_time": "2021-01-20T18:26:51.501380Z",
     "start_time": "2021-01-20T18:26:51.490419Z"
    }
   },
   "outputs": [],
   "source": [
    "%whos"
   ]
  },
  {
   "cell_type": "code",
   "execution_count": null,
   "metadata": {
    "ExecuteTime": {
     "end_time": "2021-01-20T18:26:54.575033Z",
     "start_time": "2021-01-20T18:26:54.559531Z"
    }
   },
   "outputs": [],
   "source": [
    "%whos str ndarray tuple int list"
   ]
  },
  {
   "cell_type": "markdown",
   "metadata": {},
   "source": [
    "Como vimos previamente a geração de figuras diretamente no notebook não mostra uma eficiência muito alta em termos de interatividade devido a que não é possível explorar áreas específicas do gráfico. Para solucionar esse problema contamos com 2 comandos mágicos:\n",
    "\n",
    "- `%matplolib`: esse comando permite a visualização dos gráficos numa janela externa a qual possui mais opções;\n",
    "\n",
    "- `%matplolib notebook`: esse moando permite a visualização dos graficos diretamente no notebook. As opções apresentadas neste modo de visualização são as mesmas das mostradas previamente."
   ]
  },
  {
   "cell_type": "markdown",
   "metadata": {},
   "source": [
    "Visualização sem nenhum comando magico."
   ]
  },
  {
   "cell_type": "code",
   "execution_count": null,
   "metadata": {
    "ExecuteTime": {
     "end_time": "2021-01-20T18:27:03.946086Z",
     "start_time": "2021-01-20T18:27:03.725921Z"
    }
   },
   "outputs": [],
   "source": [
    "import numpy as np\n",
    "import matplotlib.pyplot as plt\n",
    "y = np.random.rand(1000)\n",
    "x = np.arange(0, len(y))\n",
    "plt.scatter(x=x,\n",
    "            y=y,\n",
    "            s=np.random.uniform(low=1,\n",
    "                                high=50,\n",
    "                                size=len(x)),\n",
    "            c=np.random.uniform(low=1,\n",
    "                                high=10,\n",
    "                                size=len(x)),\n",
    "            marker=\"*\",\n",
    "            alpha=0.8)\n",
    "plt.title(\"Scarter plot\", size=20)\n",
    "plt.xlabel(\"Eixo X\",size=20)\n",
    "plt.ylabel(\"Eixo Y\",size=20)"
   ]
  },
  {
   "cell_type": "markdown",
   "metadata": {},
   "source": [
    "Visualização com `%matplotlib`."
   ]
  },
  {
   "cell_type": "code",
   "execution_count": null,
   "metadata": {
    "ExecuteTime": {
     "end_time": "2021-01-20T18:27:07.695546Z",
     "start_time": "2021-01-20T18:27:07.142345Z"
    }
   },
   "outputs": [],
   "source": [
    "import numpy as np\n",
    "import matplotlib.pyplot as plt\n",
    "%matplotlib\n",
    "y = np.random.rand(1000)\n",
    "x = np.arange(0, len(y))\n",
    "plt.scatter(x=x,\n",
    "            y=y,\n",
    "            s=np.random.uniform(low=1, high=50, size=len(x)),\n",
    "            c=np.random.uniform(low=1, high=10, size=len(x)),marker=\"*\",\n",
    "            alpha=0.8)\n",
    "plt.title(\"Scarter plot\", size=20)\n",
    "plt.xlabel(\"Eixo X\",size=20)\n",
    "plt.ylabel(\"Eixo Y\",size=20)"
   ]
  },
  {
   "cell_type": "markdown",
   "metadata": {},
   "source": [
    "Visualização com `%matplotlib notebook`."
   ]
  },
  {
   "cell_type": "code",
   "execution_count": null,
   "metadata": {
    "ExecuteTime": {
     "end_time": "2021-01-20T18:27:11.895308Z",
     "start_time": "2021-01-20T18:27:11.809255Z"
    }
   },
   "outputs": [],
   "source": [
    "import numpy as np\n",
    "import matplotlib.pyplot as plt\n",
    "%matplotlib notebook\n",
    "y = np.random.rand(1000)\n",
    "x = np.arange(0, len(y))\n",
    "plt.scatter(x=x,\n",
    "            y=y,\n",
    "            s=np.random.uniform(low=1, high=50, size=len(x)),\n",
    "            c=np.random.uniform(low=1, high=10, size=len(x)),marker=\"*\",\n",
    "            alpha=0.8)\n",
    "plt.title(\"Scarter plot\", size=20)\n",
    "plt.xlabel(\"Eixo X\",size=20)\n",
    "plt.ylabel(\"Eixo Y\",size=20)"
   ]
  },
  {
   "cell_type": "markdown",
   "metadata": {},
   "source": [
    "---"
   ]
  },
  {
   "cell_type": "markdown",
   "metadata": {},
   "source": [
    "## Aspectos básicos de interatividade com ipwidgets\n",
    "Os conceitos mostrados previamente ajudam a ter uma interatividade maior entre o código e o sistema, contudo isso ainda não e suficiente para conseguir aproveitar 100% o potencial de jupyter-notebook.\n",
    "\n",
    "A biblioteca [jupyter_widgets](https://ipywidgets.readthedocs.io/en/stable/examples/Widget Basics.html) possibilita ao “infinito” a criação de objetos interativos como botoes de escolhas, listas, etc que facilita a análise de dados e figuras.\n",
    "\n",
    "Na documentação desta biblioteca é apresentada todas as opções disponível e como utilizar cada uma. Devido ao grande número dessas opções somente serão apresentadas as mais relevantes. Recomendo fortemente revisar a [documentação](https://ipywidgets.readthedocs.io/en/stable/examples/Using%20Interact.html) para uma maior compressão desta biblioteca."
   ]
  },
  {
   "cell_type": "markdown",
   "metadata": {},
   "source": [
    "### Importando a biblioteca"
   ]
  },
  {
   "cell_type": "code",
   "execution_count": 4,
   "metadata": {
    "ExecuteTime": {
     "end_time": "2021-01-21T12:56:10.389741Z",
     "start_time": "2021-01-21T12:56:10.382340Z"
    }
   },
   "outputs": [],
   "source": [
    "from __future__ import print_function\n",
    "from ipywidgets import interact, interactive, fixed, interact_manual\n",
    "import ipywidgets as widgets"
   ]
  },
  {
   "cell_type": "code",
   "execution_count": null,
   "metadata": {
    "ExecuteTime": {
     "end_time": "2021-01-20T19:22:16.974882Z",
     "start_time": "2021-01-20T19:22:16.966645Z"
    }
   },
   "outputs": [],
   "source": [
    "def funcao_teste(x):\n",
    "    print(x)"
   ]
  },
  {
   "cell_type": "markdown",
   "metadata": {
    "ExecuteTime": {
     "end_time": "2021-01-20T18:33:47.539201Z",
     "start_time": "2021-01-20T18:33:47.533146Z"
    }
   },
   "source": [
    "### método `interact`\n",
    "O método `interact` facilita a passagem dos argumentos de uma forma dinâmica. Sem a necessidade de reescrever o código."
   ]
  },
  {
   "cell_type": "code",
   "execution_count": null,
   "metadata": {
    "ExecuteTime": {
     "end_time": "2021-01-20T18:37:59.355995Z",
     "start_time": "2021-01-20T18:37:59.311101Z"
    }
   },
   "outputs": [],
   "source": [
    "interact(funcao_teste, x=10)"
   ]
  },
  {
   "cell_type": "code",
   "execution_count": null,
   "metadata": {
    "ExecuteTime": {
     "end_time": "2021-01-20T18:38:18.944674Z",
     "start_time": "2021-01-20T18:38:18.905600Z"
    }
   },
   "outputs": [],
   "source": [
    "interact(funcao_teste, x=5)"
   ]
  },
  {
   "cell_type": "markdown",
   "metadata": {},
   "source": [
    "Podemos personalizar o slider definindo uma faixa de valores e um passo. Para fazer isso passamos `widgets.IntSlider(min, max, step, value)`"
   ]
  },
  {
   "cell_type": "code",
   "execution_count": null,
   "metadata": {
    "ExecuteTime": {
     "end_time": "2021-01-20T18:43:13.112457Z",
     "start_time": "2021-01-20T18:43:13.072125Z"
    }
   },
   "outputs": [],
   "source": [
    "interact(funcao_teste, x=widgets.IntSlider(min=0, max=100, step=2, velue=10))"
   ]
  },
  {
   "cell_type": "code",
   "execution_count": null,
   "metadata": {
    "ExecuteTime": {
     "end_time": "2021-01-20T18:49:32.784461Z",
     "start_time": "2021-01-20T18:49:32.777199Z"
    }
   },
   "outputs": [],
   "source": [
    "def euler(x):\n",
    "    return (1 + 1/x)**x\n"
   ]
  },
  {
   "cell_type": "code",
   "execution_count": null,
   "metadata": {
    "ExecuteTime": {
     "end_time": "2021-01-20T18:50:50.108273Z",
     "start_time": "2021-01-20T18:50:50.046923Z"
    }
   },
   "outputs": [],
   "source": [
    "interact(euler, x=(1, 1000, 2))"
   ]
  },
  {
   "cell_type": "markdown",
   "metadata": {},
   "source": [
    "Podemos utilizar também valores do tipo `float`."
   ]
  },
  {
   "cell_type": "code",
   "execution_count": null,
   "metadata": {
    "ExecuteTime": {
     "end_time": "2021-01-20T18:54:02.580803Z",
     "start_time": "2021-01-20T18:54:02.537275Z"
    }
   },
   "outputs": [],
   "source": [
    "interact(euler, x=(1.0, 10000, 0.5))"
   ]
  },
  {
   "cell_type": "markdown",
   "metadata": {},
   "source": [
    "Também é possível passar argumentos to tipo texto. Neste caso será mostrada uma lista com as opções disponíveis."
   ]
  },
  {
   "cell_type": "code",
   "execution_count": null,
   "metadata": {
    "ExecuteTime": {
     "end_time": "2021-01-20T19:23:18.938343Z",
     "start_time": "2021-01-20T19:23:18.879243Z"
    }
   },
   "outputs": [],
   "source": [
    "options = \"A1 A2 A3 A4 A5\".split(\" \")\n",
    "interact(funcao_teste, x=options)"
   ]
  },
  {
   "cell_type": "markdown",
   "metadata": {},
   "source": [
    "Caso se tenha uma função com mais de um parâmetro de entrada e se queira deixar um parâmetro fixo, é possível fazer isso utilizando o método `fixes`"
   ]
  },
  {
   "cell_type": "code",
   "execution_count": null,
   "metadata": {
    "ExecuteTime": {
     "end_time": "2021-01-21T12:06:14.969881Z",
     "start_time": "2021-01-21T12:06:14.962517Z"
    }
   },
   "outputs": [],
   "source": [
    "def power(x, y, n):\n",
    "    return (x**y + y)/n"
   ]
  },
  {
   "cell_type": "code",
   "execution_count": null,
   "metadata": {
    "ExecuteTime": {
     "end_time": "2021-01-21T12:06:17.262298Z",
     "start_time": "2021-01-21T12:06:17.195488Z"
    }
   },
   "outputs": [],
   "source": [
    "interact(power, x=(0, 10, 1), n=(1, 20, 2), y=fixed(2))"
   ]
  },
  {
   "cell_type": "markdown",
   "metadata": {},
   "source": [
    "### Método  `interactive`\n",
    "\n",
    "Jupyter Widgets prove outra função que permite armazenar um Widgets e para ser utilizado posteriormente. O método `interactive` retorna um objeto que não é mostrado automaticamente, para conseguir visualizar o Widged criado se deve utilizar o método Display."
   ]
  },
  {
   "cell_type": "code",
   "execution_count": null,
   "metadata": {
    "ExecuteTime": {
     "end_time": "2021-01-21T12:06:47.790460Z",
     "start_time": "2021-01-21T12:06:47.785747Z"
    }
   },
   "outputs": [],
   "source": [
    "from IPython.display import display\n",
    "def power_print(x, y, n):\n",
    "    return print((x**y + y)/n)"
   ]
  },
  {
   "cell_type": "code",
   "execution_count": null,
   "metadata": {
    "ExecuteTime": {
     "end_time": "2021-01-21T12:07:00.123898Z",
     "start_time": "2021-01-21T12:07:00.070265Z"
    }
   },
   "outputs": [],
   "source": [
    "widget = interactive(power_print, x=(0, 10, 1), n=(1, 20, 2), y=(2, 8, 0.5))"
   ]
  },
  {
   "cell_type": "code",
   "execution_count": null,
   "metadata": {
    "ExecuteTime": {
     "end_time": "2021-01-21T12:07:00.324776Z",
     "start_time": "2021-01-21T12:07:00.318764Z"
    }
   },
   "outputs": [],
   "source": [
    "type(widget)"
   ]
  },
  {
   "cell_type": "code",
   "execution_count": null,
   "metadata": {
    "ExecuteTime": {
     "end_time": "2021-01-21T12:07:01.266677Z",
     "start_time": "2021-01-21T12:07:01.248240Z"
    }
   },
   "outputs": [],
   "source": [
    "widget.children"
   ]
  },
  {
   "cell_type": "code",
   "execution_count": null,
   "metadata": {
    "ExecuteTime": {
     "end_time": "2021-01-21T12:07:03.965736Z",
     "start_time": "2021-01-21T12:07:03.952364Z"
    }
   },
   "outputs": [],
   "source": [
    "display(widget)"
   ]
  },
  {
   "cell_type": "code",
   "execution_count": null,
   "metadata": {
    "ExecuteTime": {
     "end_time": "2021-01-21T12:07:11.724372Z",
     "start_time": "2021-01-21T12:07:11.716758Z"
    }
   },
   "outputs": [],
   "source": [
    "widget.result"
   ]
  },
  {
   "cell_type": "code",
   "execution_count": null,
   "metadata": {
    "ExecuteTime": {
     "end_time": "2021-01-21T12:19:02.880668Z",
     "start_time": "2021-01-21T12:19:02.876169Z"
    }
   },
   "outputs": [],
   "source": [
    "widget.kwargs"
   ]
  },
  {
   "cell_type": "markdown",
   "metadata": {},
   "source": [
    "Podemos modificar controlar a saida do widgets utilizando o método `widgets.interactive_output`."
   ]
  },
  {
   "cell_type": "code",
   "execution_count": null,
   "metadata": {
    "ExecuteTime": {
     "end_time": "2021-01-21T12:34:48.930403Z",
     "start_time": "2021-01-21T12:34:48.861859Z"
    }
   },
   "outputs": [],
   "source": [
    "a_value = widgets.IntSlider()\n",
    "b_value = widgets.IntSlider()\n",
    "c_value = widgets.IntSlider()\n",
    "ui = widgets.HBox([a_value, b_value, c_value])\n",
    "def f_teste(a, b, c):\n",
    "    print(f\"O valor do parâmetro a é: {a}\")\n",
    "    print(f\"O valor do parâmetro a é: {b}\")\n",
    "    print(f\"O valor do parâmetro a é: {c}\")\n",
    "    print(f\"A soma dos parâmetro a é: {a + b + c}\")\n",
    "    \n",
    "out = widgets.interactive_output(f_teste, {'a': a_value, 'b': b_value, 'c': c_value})\n",
    "\n",
    "display(ui, out)"
   ]
  },
  {
   "cell_type": "code",
   "execution_count": null,
   "metadata": {
    "ExecuteTime": {
     "end_time": "2021-01-21T12:40:20.713314Z",
     "start_time": "2021-01-21T12:40:20.705848Z"
    }
   },
   "outputs": [],
   "source": [
    "import matplotlib.pyplot as plt\n",
    "import numpy as np"
   ]
  },
  {
   "cell_type": "code",
   "execution_count": 19,
   "metadata": {
    "ExecuteTime": {
     "end_time": "2021-01-21T13:09:34.978167Z",
     "start_time": "2021-01-21T13:09:34.697977Z"
    }
   },
   "outputs": [
    {
     "data": {
      "application/vnd.jupyter.widget-view+json": {
       "model_id": "7ee1be4b711c4e62bdcdfd235c3b3b08",
       "version_major": 2,
       "version_minor": 0
      },
      "text/plain": [
       "interactive(children=(FloatSlider(value=0.0, description='m', max=2.0, min=-2.0), FloatSlider(value=0.0, descr…"
      ]
     },
     "metadata": {},
     "output_type": "display_data"
    }
   ],
   "source": [
    "%matplotlib inline\n",
    "X = np.linspace(-10, 10, num=1000)\n",
    "def plot_interactive(m, b):\n",
    "    plt.figure(2)\n",
    "    plt.plot(X, m * X + b)\n",
    "    plt.ylim(-5, 5)\n",
    "    plt.show()\n",
    "\n",
    "interactive_plot = interactive(plot_interactive, m=(-2.0, 2.0), b=(-3, 3, 0.5))\n",
    "interactive_plot"
   ]
  },
  {
   "cell_type": "markdown",
   "metadata": {},
   "source": [
    "### Atualização continua desativada.\n",
    "Como se observou no exemplo anterior, cada vez que se modifica o valor de um argumento por meio do slidebar o método `interactive` realiza a atualização de forma automática. Isso ocasiona que a função seja executada n vezes até atingir o valor desejado, gerando um desface entre o resultado da função e o valor atual do argumento. Quando a função é simples (como no exemplo anterior) isso não representa maiores problemas, contudo funciones mais robustas podem ocasionar problemas.\n",
    "\n",
    "\n",
    "A biblioteca Jupyter Widgets possui 3 alternativas para contornar esses problemas:\n",
    "- `interact_manual`: Essa opção cria um botão que executa a função nos valores escolhidos;\n",
    "- `interactive`: Esse método permite a passagem de um dicionário com a chave manual e o valor True (`{'manual': True}`). O resultado é o mesmo do método `interact_manual`. Cabe destacar que esse argumento deve ser passado na segunda posição, logo depois do nome da função.;\n",
    "- `continuous_update=False`: Esse parâmetro pode ser passado ao método `interact`, nesse caso a atualização da função só acontece quando se libera o cursor do mouse."
   ]
  },
  {
   "cell_type": "code",
   "execution_count": 36,
   "metadata": {
    "ExecuteTime": {
     "end_time": "2021-01-21T14:17:22.886636Z",
     "start_time": "2021-01-21T14:17:22.877514Z"
    }
   },
   "outputs": [],
   "source": [
    "interactive?"
   ]
  },
  {
   "cell_type": "code",
   "execution_count": 32,
   "metadata": {
    "ExecuteTime": {
     "end_time": "2021-01-21T13:27:13.731286Z",
     "start_time": "2021-01-21T13:27:13.499567Z"
    }
   },
   "outputs": [
    {
     "data": {
      "application/vnd.jupyter.widget-view+json": {
       "model_id": "d34d70111c264cbfbbdba801d92f0cc4",
       "version_major": 2,
       "version_minor": 0
      },
      "text/plain": [
       "interactive(children=(IntSlider(value=50, description='num', step=2), Output()), _dom_classes=('widget-interac…"
      ]
     },
     "metadata": {},
     "output_type": "display_data"
    }
   ],
   "source": [
    "%matplotlib inline\n",
    "m = 0.5\n",
    "b = -1\n",
    "def plot_interactive(num):\n",
    "    plt.figure(2)\n",
    "    X = np.linspace(-10,10, num)\n",
    "    plt.plot(X, m * X + b, marker=\"o\", ls=\"\")\n",
    "    plt.ylim(-5, 5)\n",
    "    plt.show()\n",
    "\n",
    "interactive_plot = interactive(plot_interactive, num=(0,100, 2))\n",
    "interactive_plot"
   ]
  },
  {
   "cell_type": "markdown",
   "metadata": {},
   "source": [
    "Aplicando `interact_manual`"
   ]
  },
  {
   "cell_type": "code",
   "execution_count": 46,
   "metadata": {
    "ExecuteTime": {
     "end_time": "2021-01-21T14:30:10.384351Z",
     "start_time": "2021-01-21T14:30:10.344601Z"
    }
   },
   "outputs": [
    {
     "data": {
      "application/vnd.jupyter.widget-view+json": {
       "model_id": "f0a2961dc3c149f3aa64e751da01a1df",
       "version_major": 2,
       "version_minor": 0
      },
      "text/plain": [
       "interactive(children=(IntSlider(value=50, description='num', step=2), Button(description='Run Interact', style…"
      ]
     },
     "metadata": {},
     "output_type": "display_data"
    },
    {
     "data": {
      "text/plain": [
       "<function __main__.plot_interactive(num)>"
      ]
     },
     "execution_count": 46,
     "metadata": {},
     "output_type": "execute_result"
    }
   ],
   "source": [
    "interact_manual(plot_interactive,\n",
    "                num=(0,100, 2))"
   ]
  },
  {
   "cell_type": "markdown",
   "metadata": {},
   "source": [
    "Aplicando `interactive` e `{'manual': True}`"
   ]
  },
  {
   "cell_type": "code",
   "execution_count": 49,
   "metadata": {
    "ExecuteTime": {
     "end_time": "2021-01-21T14:31:57.444826Z",
     "start_time": "2021-01-21T14:31:57.183702Z"
    }
   },
   "outputs": [
    {
     "data": {
      "application/vnd.jupyter.widget-view+json": {
       "model_id": "7cccee01f7b54889bebecfaece223400",
       "version_major": 2,
       "version_minor": 0
      },
      "text/plain": [
       "interactive(children=(IntSlider(value=0, continuous_update=False, description='num', step=2), Output()), _dom_…"
      ]
     },
     "metadata": {},
     "output_type": "display_data"
    },
    {
     "data": {
      "text/plain": [
       "<function __main__.plot_interactive(num)>"
      ]
     },
     "execution_count": 49,
     "metadata": {},
     "output_type": "execute_result"
    }
   ],
   "source": [
    "interact(plot_interactive,\n",
    "         num=widgets.IntSlider(min=0,\n",
    "                               max=100,\n",
    "                               step=2,\n",
    "                               continuous_update=False))"
   ]
  },
  {
   "cell_type": "code",
   "execution_count": null,
   "metadata": {},
   "outputs": [],
   "source": [
    "interactive_plot = interactive(plot_interactive,\n",
    "                               {'manual': True},\n",
    "                               num=(0,100, 2))\n",
    "interactive_plot"
   ]
  },
  {
   "cell_type": "markdown",
   "metadata": {},
   "source": [
    "## Explorando arquivos usando interactividade\n",
    "\n",
    "Os recursos de interatividade permitem a explorar os diretórios e visualizar o conteúdo destes sem a necessidade de sair do Notebook."
   ]
  },
  {
   "cell_type": "code",
   "execution_count": 88,
   "metadata": {
    "ExecuteTime": {
     "end_time": "2021-01-21T17:50:44.684322Z",
     "start_time": "2021-01-21T17:50:44.540143Z"
    }
   },
   "outputs": [
    {
     "name": "stdout",
     "output_type": "stream",
     "text": [
      "Aula_14_Interactividade.ipynb  Codigo_externo_2.py  Codigo_externo.py  img\r\n"
     ]
    }
   ],
   "source": [
    "!ls"
   ]
  },
  {
   "cell_type": "code",
   "execution_count": 89,
   "metadata": {
    "ExecuteTime": {
     "end_time": "2021-01-21T17:51:02.970874Z",
     "start_time": "2021-01-21T17:51:02.834851Z"
    }
   },
   "outputs": [
    {
     "name": "stdout",
     "output_type": "stream",
     "text": [
      "\u001b[01;34m.\u001b[00m\r\n",
      "├── Aula_14_Interactividade.ipynb\r\n",
      "├── Codigo_externo_2.py\r\n",
      "├── Codigo_externo.py\r\n",
      "└── \u001b[01;34mimg\u001b[00m\r\n",
      "    ├── \u001b[01;34mbear\u001b[00m\r\n",
      "    │   ├── \u001b[01;35mbear01.jpg\u001b[00m\r\n",
      "    │   ├── \u001b[01;35mbear02.jpg\u001b[00m\r\n",
      "    │   ├── \u001b[01;35mbear03.jpg\u001b[00m\r\n",
      "    │   ├── \u001b[01;35mbear04.jpg\u001b[00m\r\n",
      "    │   ├── \u001b[01;35mbear05.jpg\u001b[00m\r\n",
      "    │   ├── \u001b[01;35mbear06.jpg\u001b[00m\r\n",
      "    │   ├── \u001b[01;35mbear07.jpg\u001b[00m\r\n",
      "    │   ├── \u001b[01;35mbear08.jpg\u001b[00m\r\n",
      "    │   └── \u001b[01;35mbear09.jpg\u001b[00m\r\n",
      "    ├── \u001b[01;34mcats\u001b[00m\r\n",
      "    │   ├── \u001b[01;35mcat_01.jpg\u001b[00m\r\n",
      "    │   ├── \u001b[01;35mcat_02.jpg\u001b[00m\r\n",
      "    │   ├── \u001b[01;35mcat_03.jpg\u001b[00m\r\n",
      "    │   ├── \u001b[01;35mcat_04.jpg\u001b[00m\r\n",
      "    │   ├── \u001b[01;35mcat_05.jpg\u001b[00m\r\n",
      "    │   ├── \u001b[01;35mcat_06.jpg\u001b[00m\r\n",
      "    │   ├── \u001b[01;35mcat_07.jpg\u001b[00m\r\n",
      "    │   ├── \u001b[01;35mcat_08.jpg\u001b[00m\r\n",
      "    │   ├── \u001b[01;35mcat_09.jpg\u001b[00m\r\n",
      "    │   └── \u001b[01;35mcat_10.jpg\u001b[00m\r\n",
      "    ├── \u001b[01;34mdogs\u001b[00m\r\n",
      "    │   ├── \u001b[01;35mdogs01.jpg\u001b[00m\r\n",
      "    │   ├── \u001b[01;35mdogs02.jpg\u001b[00m\r\n",
      "    │   ├── \u001b[01;35mdogs03.jpg\u001b[00m\r\n",
      "    │   ├── \u001b[01;35mdogs04.jpg\u001b[00m\r\n",
      "    │   ├── \u001b[01;35mdogs05.jpg\u001b[00m\r\n",
      "    │   ├── \u001b[01;35mdogs06.jpg\u001b[00m\r\n",
      "    │   ├── \u001b[01;35mdogs07.jpg\u001b[00m\r\n",
      "    │   ├── \u001b[01;35mdogs08.jpg\u001b[00m\r\n",
      "    │   └── \u001b[01;35mdogs09.jpg\u001b[00m\r\n",
      "    └── \u001b[01;35minteratividade.png\u001b[00m\r\n",
      "\r\n",
      "4 directories, 32 files\r\n"
     ]
    }
   ],
   "source": [
    "!tree"
   ]
  },
  {
   "cell_type": "code",
   "execution_count": 97,
   "metadata": {
    "ExecuteTime": {
     "end_time": "2021-01-21T17:53:01.869109Z",
     "start_time": "2021-01-21T17:52:57.831482Z"
    }
   },
   "outputs": [],
   "source": [
    "!conda list -> text.txt"
   ]
  },
  {
   "cell_type": "code",
   "execution_count": 98,
   "metadata": {
    "ExecuteTime": {
     "end_time": "2021-01-21T17:53:17.475534Z",
     "start_time": "2021-01-21T17:53:17.341917Z"
    }
   },
   "outputs": [
    {
     "name": "stdout",
     "output_type": "stream",
     "text": [
      "Aula_14_Interactividade.ipynb  Codigo_externo.py  text.txt\r\n",
      "Codigo_externo_2.py\t       img\r\n"
     ]
    }
   ],
   "source": [
    "!ls"
   ]
  },
  {
   "cell_type": "code",
   "execution_count": 50,
   "metadata": {
    "ExecuteTime": {
     "end_time": "2021-01-21T15:11:17.434456Z",
     "start_time": "2021-01-21T15:11:17.427640Z"
    }
   },
   "outputs": [],
   "source": [
    "import os\n",
    "from IPython.display import Image, display, HTML"
   ]
  },
  {
   "cell_type": "code",
   "execution_count": 99,
   "metadata": {
    "ExecuteTime": {
     "end_time": "2021-01-21T17:53:36.272448Z",
     "start_time": "2021-01-21T17:53:36.135016Z"
    }
   },
   "outputs": [
    {
     "data": {
      "application/vnd.jupyter.widget-view+json": {
       "model_id": "de85579981414715a7a31e6c272c1115",
       "version_major": 2,
       "version_minor": 0
      },
      "text/plain": [
       "interactive(children=(Dropdown(description='file', options=('cat_01.jpg', 'cat_07.jpg', 'cat_08.jpg', 'cat_10.…"
      ]
     },
     "metadata": {},
     "output_type": "display_data"
    }
   ],
   "source": [
    "os.listdir(\"./img/cats\")\n",
    "@interact\n",
    "def explorar_imd(file=os.listdir(\"./img/cats\")):\n",
    "    display(Image(f\"./img/cats/{file}\"))"
   ]
  },
  {
   "cell_type": "markdown",
   "metadata": {},
   "source": [
    "Jupyter Widgets permite criar Widgets dependentes. Isto representa que o resultado de um widgets vai afetar o comportamento do próximo."
   ]
  },
  {
   "cell_type": "code",
   "execution_count": 100,
   "metadata": {
    "ExecuteTime": {
     "end_time": "2021-01-21T17:56:49.933930Z",
     "start_time": "2021-01-21T17:56:49.817552Z"
    }
   },
   "outputs": [
    {
     "data": {
      "application/vnd.jupyter.widget-view+json": {
       "model_id": "51aec03ac5f64a74949654117e62637c",
       "version_major": 2,
       "version_minor": 0
      },
      "text/plain": [
       "interactive(children=(Dropdown(description='pastas', options=('cats', 'dogs', 'bear'), value='cats'), Dropdown…"
      ]
     },
     "metadata": {},
     "output_type": "display_data"
    },
    {
     "data": {
      "text/plain": [
       "<function __main__.mostrar_image(pastas, arquivos)>"
      ]
     },
     "execution_count": 100,
     "metadata": {},
     "output_type": "execute_result"
    }
   ],
   "source": [
    "pastas = widgets.Dropdown(options=\"cats dogs bear\".split(\" \"))\n",
    "arquivos = widgets.Dropdown(options=os.listdir(f\"./img/{pastas.value}\"))\n",
    "\n",
    "def atualizando_arquivos(*args):\n",
    "    arquivos.options = os.listdir(f\"./img/{pastas.value}\")\n",
    "\n",
    "def mostrar_image(pastas, arquivos):\n",
    "    display(Image(f\"./img/{pastas}/{arquivos}\"))\n",
    "\n",
    "pastas.observe(atualizando_arquivos, 'value')\n",
    "interact(mostrar_image, pastas=pastas, arquivos=arquivos)"
   ]
  }
 ],
 "metadata": {
  "hide_input": false,
  "kernelspec": {
   "display_name": "Python 3",
   "language": "python",
   "name": "python3"
  },
  "language_info": {
   "codemirror_mode": {
    "name": "ipython",
    "version": 3
   },
   "file_extension": ".py",
   "mimetype": "text/x-python",
   "name": "python",
   "nbconvert_exporter": "python",
   "pygments_lexer": "ipython3",
   "version": "3.8.5"
  },
  "toc": {
   "base_numbering": 1,
   "nav_menu": {},
   "number_sections": false,
   "sideBar": true,
   "skip_h1_title": false,
   "title_cell": "Table of Contents",
   "title_sidebar": "Contents",
   "toc_cell": false,
   "toc_position": {
    "height": "calc(100% - 180px)",
    "left": "10px",
    "top": "150px",
    "width": "352px"
   },
   "toc_section_display": true,
   "toc_window_display": true
  },
  "varInspector": {
   "cols": {
    "lenName": 16,
    "lenType": 16,
    "lenVar": 40
   },
   "kernels_config": {
    "python": {
     "delete_cmd_postfix": "",
     "delete_cmd_prefix": "del ",
     "library": "var_list.py",
     "varRefreshCmd": "print(var_dic_list())"
    },
    "r": {
     "delete_cmd_postfix": ") ",
     "delete_cmd_prefix": "rm(",
     "library": "var_list.r",
     "varRefreshCmd": "cat(var_dic_list()) "
    }
   },
   "types_to_exclude": [
    "module",
    "function",
    "builtin_function_or_method",
    "instance",
    "_Feature"
   ],
   "window_display": false
  }
 },
 "nbformat": 4,
 "nbformat_minor": 4
}
