{
 "cells": [
  {
   "cell_type": "markdown",
   "metadata": {},
   "source": [
    "# Desafio interactividade"
   ]
  },
  {
   "cell_type": "markdown",
   "metadata": {},
   "source": [
    "Neste desafio vamos realizar a análise do arquivo `Desafio_interativiade.xlsx`. Este é um desafio livre e não existe nenhuma forma correta ou errada de resolver cada ponto. Eu gostaria que vocês apliquem os conceitos apresentados nas últimas semanas para realizar as seguintes análises:\n",
    "\n",
    "1. Uma análise interativa que utilize ipywidgets e pandas DataFrame\n",
    "2. Uma análise interativa que utilize ipywidgets e matplotlib ou plotly\n",
    "3. Uma análise interativa livre. Aqui vocês podem aplicar ipywidgets da forma que vocês encontrem mais interessante.\n",
    "\n",
    "**Além das análises eu gostaria de cada grupo explique o código que criou para resolver cada ponto.**\n",
    "\n",
    "Algumas considerações relevantes em relação aos dados:\n",
    "\n",
    "- Os países estão organizados segundo a sua contribuição cientifica (coluna Rank);\n",
    "- Os valores para as colunas do 2006 até o 2015 representam o GDP para cada pais;\n",
    "- A coluna % Renewable representa a energia elétrica produzida através de fontes renováveis;\n",
    "- As unidades das colunas `Energy Supply` e `Energy Supply per Capita` são GJ;\n",
    "- As outras colunas representam indicadores de publicação;\n",
    "- Não é necessário que utilizem todos os dados. O uso dos dados vai depender do que vocês queiram fazer.\n",
    "\n",
    "A continuação apresento um gráfico realizado com a informação apresentada no arquivo. Observe que neste gráfico se estão utilizando 3 dimensões."
   ]
  },
  {
   "cell_type": "markdown",
   "metadata": {},
   "source": [
    "<img  src='example.png' width='1400' height='1200' />"
   ]
  }
 ],
 "metadata": {
  "hide_input": false,
  "kernelspec": {
   "display_name": "Python 3",
   "language": "python",
   "name": "python3"
  },
  "language_info": {
   "codemirror_mode": {
    "name": "ipython",
    "version": 3
   },
   "file_extension": ".py",
   "mimetype": "text/x-python",
   "name": "python",
   "nbconvert_exporter": "python",
   "pygments_lexer": "ipython3",
   "version": "3.8.5"
  },
  "toc": {
   "base_numbering": 1,
   "nav_menu": {},
   "number_sections": false,
   "sideBar": false,
   "skip_h1_title": false,
   "title_cell": "Table of Contents",
   "title_sidebar": "Contents",
   "toc_cell": false,
   "toc_position": {},
   "toc_section_display": false,
   "toc_window_display": false
  },
  "varInspector": {
   "cols": {
    "lenName": 16,
    "lenType": 16,
    "lenVar": 40
   },
   "kernels_config": {
    "python": {
     "delete_cmd_postfix": "",
     "delete_cmd_prefix": "del ",
     "library": "var_list.py",
     "varRefreshCmd": "print(var_dic_list())"
    },
    "r": {
     "delete_cmd_postfix": ") ",
     "delete_cmd_prefix": "rm(",
     "library": "var_list.r",
     "varRefreshCmd": "cat(var_dic_list()) "
    }
   },
   "types_to_exclude": [
    "module",
    "function",
    "builtin_function_or_method",
    "instance",
    "_Feature"
   ],
   "window_display": false
  }
 },
 "nbformat": 4,
 "nbformat_minor": 4
}
