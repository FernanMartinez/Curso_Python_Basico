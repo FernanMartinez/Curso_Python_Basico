{
 "cells": [
  {
   "cell_type": "markdown",
   "metadata": {
    "raw_mimetype": "text/markdown"
   },
   "source": [
    "# Aula 11. NumPy\n",
    "\n",
    "<img  src='img/numpy.png' width='600' height='400' />\n",
    "\n",
    "NumPy é uma das bibliotecas mais poderosas da linguagem Python. Esta biblioteca trabalha com matrizes e arrays multidimensionais. Possui uma grande coleção de funções para realizar operações matemáticas com alta performance (como vimos na aula de comparação performática).\n",
    "\n",
    "- Esta biblioteca possui seus próprios tipos de dados os quais são do tipo `numpy.ndarray`;\n",
    "- Trabalhar com matrizes e vetores usando np.ndarrays é mais eficiente que utilizar objetos do tipo lista;\n",
    "- Numpy é utilizada amplamente para realizar:\n",
    "    - Computação quântica;\n",
    "    - Computação estatística; \n",
    "    - Processamento de sinal;\n",
    "    - Processamento de imagem;\n",
    "    - Visualização 3D;\n",
    "    - Computação simbólica;\n",
    "    - Processamento astronômico;\n",
    "    - BioInoformatica;\n",
    "    - Inferência Bayesiana;\n",
    "    - Análise matemática;\n",
    "    - Simulação e modelagem (Monte Carlo);\n",
    "    - Análise de multivariável;\n",
    "    - E infinidades de outras alternativas.\n",
    "- Recomendo (fortemente) visitar o site de [Numpy](https://numpy.org/) para conhecer mais sobre esta biblioteca.\n",
    "---\n",
    "<font size=\"5\"> Os tópicos que vamos abordar nesta série de conversas são:</font>\n",
    "- List vs Numpy;\n",
    "- Indexação e fatiamento Numpy;\n",
    "- Arrays fila e arrays coluna;\n",
    "- Eliminando elementos, função delete;\n",
    "- Adicionando elementos insert e append;\n",
    "- Operações algebraicas com arrays (+, -, *, /, //, %);\n",
    "- Cannivete NumPy:\n",
    " - arange;\n",
    " - linspace;\n",
    " - ones, zeros e eye;\n",
    " - Shape;\n",
    " - Size;\n",
    " - dimensão;\n",
    " - reshape;\n",
    " - asarray;\n",
    " - where;\n",
    "- Carregando dados com Numpy.\n",
    "\n",
    "Esclarecimento: O objetivo de hoje é apresentar os aspectos **mais básicos** desta biblioteca devido a que conta com grande variedades de funções e aplicações."
   ]
  },
  {
   "cell_type": "markdown",
   "metadata": {},
   "source": [
    "## Listas vs Numpy"
   ]
  },
  {
   "cell_type": "code",
   "execution_count": 1,
   "metadata": {
    "ExecuteTime": {
     "end_time": "2020-11-10T11:50:13.689717Z",
     "start_time": "2020-11-10T11:50:13.554093Z"
    }
   },
   "outputs": [],
   "source": [
    "import numpy as np"
   ]
  },
  {
   "cell_type": "code",
   "execution_count": 4,
   "metadata": {
    "ExecuteTime": {
     "end_time": "2020-11-10T11:51:22.560796Z",
     "start_time": "2020-11-10T11:51:22.547031Z"
    }
   },
   "outputs": [
    {
     "data": {
      "text/plain": [
       "[[1, 2, 3], [4, 5, 6], [7, 8, 9]]"
      ]
     },
     "execution_count": 4,
     "metadata": {},
     "output_type": "execute_result"
    }
   ],
   "source": [
    "l1  = [[1, 2, 3],\n",
    "      [4, 5, 6],\n",
    "      [7, 8, 9]]\n",
    "l1\n",
    "# Observemos que la visualização de uma matriz usando listas não é muito amigável"
   ]
  },
  {
   "cell_type": "code",
   "execution_count": 5,
   "metadata": {
    "ExecuteTime": {
     "end_time": "2020-11-10T11:51:27.597334Z",
     "start_time": "2020-11-10T11:51:27.590575Z"
    }
   },
   "outputs": [
    {
     "data": {
      "text/plain": [
       "[1, 2, 3]"
      ]
     },
     "execution_count": 5,
     "metadata": {},
     "output_type": "execute_result"
    }
   ],
   "source": [
    "# Acessando à primeira fila\n",
    "l1[0]"
   ]
  },
  {
   "cell_type": "code",
   "execution_count": 7,
   "metadata": {
    "ExecuteTime": {
     "end_time": "2020-11-10T11:52:07.930321Z",
     "start_time": "2020-11-10T11:52:07.922496Z"
    }
   },
   "outputs": [
    {
     "data": {
      "text/plain": [
       "[[1, 2, 3], [4, 5, 6], [7, 8, 9]]"
      ]
     },
     "execution_count": 7,
     "metadata": {},
     "output_type": "execute_result"
    }
   ],
   "source": [
    "# E para acessar à primeira coluna?\n",
    "l1[:]\n",
    "# Não é possível ingressar a colunas quando utilizado listas"
   ]
  },
  {
   "cell_type": "code",
   "execution_count": 9,
   "metadata": {
    "ExecuteTime": {
     "end_time": "2020-11-10T11:52:41.729149Z",
     "start_time": "2020-11-10T11:52:41.717762Z"
    }
   },
   "outputs": [
    {
     "data": {
      "text/plain": [
       "array([[1, 2, 3],\n",
       "       [4, 5, 6],\n",
       "       [7, 8, 9]])"
      ]
     },
     "execution_count": 9,
     "metadata": {},
     "output_type": "execute_result"
    }
   ],
   "source": [
    "array1  = np.array([[1, 2, 3],\n",
    "                    [4, 5, 6],\n",
    "                    [7, 8, 9]])\n",
    "array1\n",
    "# Observemos que ao se utilizar np.array() a visualização fica mais agradável"
   ]
  },
  {
   "cell_type": "code",
   "execution_count": 10,
   "metadata": {
    "ExecuteTime": {
     "end_time": "2020-11-10T11:52:44.972955Z",
     "start_time": "2020-11-10T11:52:44.964299Z"
    }
   },
   "outputs": [
    {
     "data": {
      "text/plain": [
       "array([1, 2, 3])"
      ]
     },
     "execution_count": 10,
     "metadata": {},
     "output_type": "execute_result"
    }
   ],
   "source": [
    "# Acessando à primeira fila\n",
    "array1[0,:]"
   ]
  },
  {
   "cell_type": "code",
   "execution_count": 11,
   "metadata": {
    "ExecuteTime": {
     "end_time": "2020-11-10T11:52:46.675287Z",
     "start_time": "2020-11-10T11:52:46.665090Z"
    }
   },
   "outputs": [
    {
     "data": {
      "text/plain": [
       "array([1, 4, 7])"
      ]
     },
     "execution_count": 11,
     "metadata": {},
     "output_type": "execute_result"
    }
   ],
   "source": [
    "array1[:, 0]"
   ]
  },
  {
   "cell_type": "code",
   "execution_count": 13,
   "metadata": {
    "ExecuteTime": {
     "end_time": "2020-11-10T11:55:35.600583Z",
     "start_time": "2020-11-10T11:55:35.592361Z"
    }
   },
   "outputs": [
    {
     "data": {
      "text/plain": [
       "array([3, 6, 9])"
      ]
     },
     "execution_count": 13,
     "metadata": {},
     "output_type": "execute_result"
    }
   ],
   "source": [
    "# Acessando à primeira coluna\n",
    "array1[:, -1]\n",
    "# E podemos ingressar às colunas"
   ]
  },
  {
   "cell_type": "markdown",
   "metadata": {},
   "source": [
    "## Indexação e fatiamento\n",
    "\n",
    "Os Arrays se comportam da mesma forma que as listas (até certo ponto), a sua indexação inicia em 0 e vai até o último elemento representado por -1."
   ]
  },
  {
   "cell_type": "code",
   "execution_count": 14,
   "metadata": {
    "ExecuteTime": {
     "end_time": "2020-11-10T11:55:53.744436Z",
     "start_time": "2020-11-10T11:55:53.734854Z"
    }
   },
   "outputs": [],
   "source": [
    "array = np.array([0,1,2,3,4,5,6])"
   ]
  },
  {
   "cell_type": "code",
   "execution_count": 15,
   "metadata": {
    "ExecuteTime": {
     "end_time": "2020-11-10T11:55:55.722516Z",
     "start_time": "2020-11-10T11:55:55.711678Z"
    }
   },
   "outputs": [
    {
     "name": "stdout",
     "output_type": "stream",
     "text": [
      "[0 1 2 3 4 5 6]\n",
      "[0 1 2 3 4 5 6]\n",
      "0\n",
      "1\n",
      "6\n"
     ]
    }
   ],
   "source": [
    "print(array) # Imprimindo o array\n",
    "print(array[:]) # acessando ao todos os elementos\n",
    "print(array[0]) # acessando ao primer elemento\n",
    "print(array[1]) # acessando ao segundo elemento\n",
    "print(array[-1]) # acessando ao ultimo elemeto"
   ]
  },
  {
   "cell_type": "code",
   "execution_count": 16,
   "metadata": {
    "ExecuteTime": {
     "end_time": "2020-11-10T11:56:04.585606Z",
     "start_time": "2020-11-10T11:56:04.578427Z"
    }
   },
   "outputs": [
    {
     "name": "stdout",
     "output_type": "stream",
     "text": [
      "[1 2 3 4 5]\n",
      "[0 1 2]\n",
      "[1 2 3 4 5 6]\n",
      "[0 2 4 6]\n"
     ]
    }
   ],
   "source": [
    "print(array[1:-1]) # fatiando um array \n",
    "print(array[0:3]) # fatiando um array\n",
    "print(array[1:]) # fatiando um array\n",
    "print(array[0::2]) # fatiando um array com `step`\n",
    "# Observemos que o último é excluido"
   ]
  },
  {
   "cell_type": "markdown",
   "metadata": {},
   "source": [
    "Como seria o fatiamento de uma matriz?\n",
    "\n",
    "$$array =   \\left( \\begin{matrix} a & b \\\\ c & d \\end{matrix} \\right)$$\n",
    "$$array[:, 0] =   \\left( \\begin{matrix} a & c  \\end{matrix} \\right)$$\n",
    "$$array[0, :] =   \\left( \\begin{matrix} a & b  \\end{matrix} \\right)$$\n",
    "$$array[row, colum])$$\n",
    "\n",
    "Observemos que o primeiro elemento representa as filas e o segundo as colunas"
   ]
  },
  {
   "cell_type": "code",
   "execution_count": 17,
   "metadata": {
    "ExecuteTime": {
     "end_time": "2020-11-10T11:59:48.747562Z",
     "start_time": "2020-11-10T11:59:48.740328Z"
    }
   },
   "outputs": [
    {
     "name": "stdout",
     "output_type": "stream",
     "text": [
      "Array original\n",
      "[[1 2 3]\n",
      " [4 5 6]\n",
      " [7 8 9]]\n"
     ]
    }
   ],
   "source": [
    "# Como seria o fatiamento com uma matriz?\n",
    "print(\"Array original\")\n",
    "print(array1[:]) # Toda a matriz"
   ]
  },
  {
   "cell_type": "code",
   "execution_count": 18,
   "metadata": {
    "ExecuteTime": {
     "end_time": "2020-11-10T11:59:53.211991Z",
     "start_time": "2020-11-10T11:59:53.206613Z"
    }
   },
   "outputs": [
    {
     "name": "stdout",
     "output_type": "stream",
     "text": [
      "Todos os elementos da primeira fila\n",
      "[1 2 3]\n",
      "[1 2 3]\n",
      "[1 2 3]\n"
     ]
    }
   ],
   "source": [
    "print(\"Todos os elementos da primeira fila\")\n",
    "print(array1[0, :]) # Todos os elementos da primeira fila\n",
    "print(array1[0])\n",
    "print(array1[0][:])"
   ]
  },
  {
   "cell_type": "code",
   "execution_count": 19,
   "metadata": {
    "ExecuteTime": {
     "end_time": "2020-11-10T11:59:58.808854Z",
     "start_time": "2020-11-10T11:59:58.800027Z"
    }
   },
   "outputs": [
    {
     "name": "stdout",
     "output_type": "stream",
     "text": [
      "Todos os elementos da última fila\n",
      "[7 8 9]\n",
      "[7 8 9]\n",
      "[7 8 9]\n"
     ]
    }
   ],
   "source": [
    "print(\"Todos os elementos da última fila\")\n",
    "print(array1[-1, :]) # Todos os elementos da última fila\n",
    "print(array1[-1][:]) \n",
    "print(array1[-1]) "
   ]
  },
  {
   "cell_type": "code",
   "execution_count": 21,
   "metadata": {
    "ExecuteTime": {
     "end_time": "2020-11-10T12:00:30.458100Z",
     "start_time": "2020-11-10T12:00:30.442863Z"
    }
   },
   "outputs": [
    {
     "name": "stdout",
     "output_type": "stream",
     "text": [
      "Todos os elementos da primeira coluna\n",
      "[1 4 7]\n",
      "[1 2 3]\n"
     ]
    }
   ],
   "source": [
    "print(\"Todos os elementos da primeira coluna\")\n",
    "print(array1[:, 0]) # Todos os elementos da primeira coluna\n",
    "print(array1[:][0]) # ? # Esta sintaxe não é adequada par relizar fatiamento da primeira coluna"
   ]
  },
  {
   "cell_type": "code",
   "execution_count": 22,
   "metadata": {
    "ExecuteTime": {
     "end_time": "2020-11-10T12:00:33.086204Z",
     "start_time": "2020-11-10T12:00:33.077443Z"
    }
   },
   "outputs": [
    {
     "data": {
      "text/plain": [
       "array([1, 2, 3])"
      ]
     },
     "execution_count": 22,
     "metadata": {},
     "output_type": "execute_result"
    }
   ],
   "source": [
    "array1[:][0]"
   ]
  },
  {
   "cell_type": "code",
   "execution_count": 23,
   "metadata": {
    "ExecuteTime": {
     "end_time": "2020-11-10T12:00:46.271827Z",
     "start_time": "2020-11-10T12:00:46.267162Z"
    }
   },
   "outputs": [
    {
     "name": "stdout",
     "output_type": "stream",
     "text": [
      "Todos os elementos da última coluna\n",
      "[3 6 9]\n"
     ]
    }
   ],
   "source": [
    "print(\"Todos os elementos da última coluna\")\n",
    "print(array1[:, -1]) # Todos os elementos da última coluna"
   ]
  },
  {
   "cell_type": "code",
   "execution_count": 24,
   "metadata": {
    "ExecuteTime": {
     "end_time": "2020-11-10T12:00:56.949269Z",
     "start_time": "2020-11-10T12:00:56.944356Z"
    }
   },
   "outputs": [
    {
     "name": "stdout",
     "output_type": "stream",
     "text": [
      "segundo elemento da segunda coluna\n",
      "5\n"
     ]
    }
   ],
   "source": [
    "print(\"segundo elemento da segunda coluna\")\n",
    "print(array1[1, 1]) # segundo elemento da segunda coluna"
   ]
  },
  {
   "cell_type": "markdown",
   "metadata": {},
   "source": [
    "## Array fila e array coluna\n",
    "\n",
    "Algumas IDEs podem mostrar os array coluna da mesma forma que um array vetor. Porém esses são objetos diferentes. Além disso, algumas operações matriciais precisam do vetor configurado como uma fila e não como uma coluna."
   ]
  },
  {
   "cell_type": "code",
   "execution_count": 27,
   "metadata": {
    "ExecuteTime": {
     "end_time": "2020-11-10T12:01:53.081181Z",
     "start_time": "2020-11-10T12:01:53.077302Z"
    }
   },
   "outputs": [],
   "source": [
    "array = np.array([1, 2, 3])\n",
    "array_coluna = np.array([[1], [2], [3]])\n",
    "array_fila = np.array([[1, 2, 3]])"
   ]
  },
  {
   "cell_type": "code",
   "execution_count": 28,
   "metadata": {
    "ExecuteTime": {
     "end_time": "2020-11-10T12:01:55.153829Z",
     "start_time": "2020-11-10T12:01:55.142540Z"
    }
   },
   "outputs": [
    {
     "name": "stdout",
     "output_type": "stream",
     "text": [
      "[1 2 3]\n",
      "[[1]\n",
      " [2]\n",
      " [3]]\n",
      "[[1 2 3]]\n"
     ]
    }
   ],
   "source": [
    "print(array)\n",
    "print(array_coluna)\n",
    "print(array_fila)"
   ]
  },
  {
   "cell_type": "code",
   "execution_count": 29,
   "metadata": {
    "ExecuteTime": {
     "end_time": "2020-11-10T12:01:58.725786Z",
     "start_time": "2020-11-10T12:01:58.717110Z"
    }
   },
   "outputs": [
    {
     "name": "stdout",
     "output_type": "stream",
     "text": [
      "size\n",
      "3\n",
      "3\n",
      "3\n"
     ]
    }
   ],
   "source": [
    "print(\"size\")\n",
    "print(array.size)\n",
    "print(array_coluna.size)\n",
    "print(array_fila.size)"
   ]
  },
  {
   "cell_type": "code",
   "execution_count": 30,
   "metadata": {
    "ExecuteTime": {
     "end_time": "2020-11-10T12:02:09.805264Z",
     "start_time": "2020-11-10T12:02:09.800343Z"
    }
   },
   "outputs": [
    {
     "name": "stdout",
     "output_type": "stream",
     "text": [
      "shape\n",
      "(3,)\n",
      "(3, 1)\n",
      "(1, 3)\n"
     ]
    }
   ],
   "source": [
    "print(\"shape\")\n",
    "print(array.shape)\n",
    "print(array_coluna.shape)\n",
    "print(array_fila.shape)"
   ]
  },
  {
   "cell_type": "code",
   "execution_count": 31,
   "metadata": {
    "ExecuteTime": {
     "end_time": "2020-11-10T12:02:23.781094Z",
     "start_time": "2020-11-10T12:02:23.768930Z"
    }
   },
   "outputs": [
    {
     "name": "stdout",
     "output_type": "stream",
     "text": [
      "Dimensão\n",
      "1\n",
      "2\n",
      "2\n"
     ]
    }
   ],
   "source": [
    "print(\"Dimensão\")\n",
    "print(array.ndim)\n",
    "print(array_coluna.ndim)\n",
    "print(array_fila.ndim)"
   ]
  },
  {
   "cell_type": "markdown",
   "metadata": {},
   "source": [
    "## Eliminando elementos, função delete"
   ]
  },
  {
   "cell_type": "code",
   "execution_count": 33,
   "metadata": {
    "ExecuteTime": {
     "end_time": "2020-11-10T12:03:35.879753Z",
     "start_time": "2020-11-10T12:03:35.869949Z"
    }
   },
   "outputs": [
    {
     "name": "stdout",
     "output_type": "stream",
     "text": [
      "Arrey Original\n",
      "[[1 2 3]\n",
      " [4 5 6]\n",
      " [7 8 9]]\n",
      "---------------\n",
      "Eliminando a primeira fila\n",
      "[[4 5 6]\n",
      " [7 8 9]]\n",
      "---------------\n",
      "Eliminando a primeira coluna\n",
      "[[2 3]\n",
      " [5 6]\n",
      " [8 9]]\n"
     ]
    }
   ],
   "source": [
    "print(\"Arrey Original\")\n",
    "print(array1)\n",
    "print(\"-\"*15)\n",
    "print(\"Eliminando a primeira fila\")\n",
    "print(np.delete(array1, 0, 0)) # Eliminando a primeira fila\n",
    "print(\"-\"*15)\n",
    "print(\"Eliminando a primeira coluna\")\n",
    "print(np.delete(array1, 0, 1)) # Eliminando a primeira coluna"
   ]
  },
  {
   "cell_type": "markdown",
   "metadata": {},
   "source": [
    "## Adicionando elementos append e insert "
   ]
  },
  {
   "cell_type": "markdown",
   "metadata": {},
   "source": [
    "### append"
   ]
  },
  {
   "cell_type": "code",
   "execution_count": 38,
   "metadata": {
    "ExecuteTime": {
     "end_time": "2020-11-10T12:05:24.948624Z",
     "start_time": "2020-11-10T12:05:24.926157Z"
    }
   },
   "outputs": [
    {
     "name": "stdout",
     "output_type": "stream",
     "text": [
      "Array original\n",
      "[1 2 3]\n",
      "Adicionando todos os elementos no final do array 1D\n"
     ]
    },
    {
     "data": {
      "text/plain": [
       "array([1, 2, 3, 7, 8, 9])"
      ]
     },
     "execution_count": 38,
     "metadata": {},
     "output_type": "execute_result"
    }
   ],
   "source": [
    "print(\"Array original\")\n",
    "print(np.array(np.array([1, 2, 3])))\n",
    "print(\"Adicionando todos os elementos no final do array 1D\")\n",
    "np.append(array, [7,8,9])  # Adicionando todos os elementos no final do array 1D"
   ]
  },
  {
   "cell_type": "code",
   "execution_count": 39,
   "metadata": {
    "ExecuteTime": {
     "end_time": "2020-11-10T12:05:26.875800Z",
     "start_time": "2020-11-10T12:05:26.871024Z"
    }
   },
   "outputs": [
    {
     "data": {
      "text/plain": [
       "array([1, 2, 3])"
      ]
     },
     "execution_count": 39,
     "metadata": {},
     "output_type": "execute_result"
    }
   ],
   "source": [
    "array"
   ]
  },
  {
   "cell_type": "code",
   "execution_count": 40,
   "metadata": {
    "ExecuteTime": {
     "end_time": "2020-11-10T12:05:29.463634Z",
     "start_time": "2020-11-10T12:05:29.437770Z"
    }
   },
   "outputs": [
    {
     "name": "stdout",
     "output_type": "stream",
     "text": [
      "Array original\n",
      "[[1 2 3]]\n",
      "Adicionando os elementos como uma nova fila\n"
     ]
    },
    {
     "data": {
      "text/plain": [
       "array([[ 1,  2,  3],\n",
       "       [10, 20, 30]])"
      ]
     },
     "execution_count": 40,
     "metadata": {},
     "output_type": "execute_result"
    }
   ],
   "source": [
    "print(\"Array original\")\n",
    "print(np.array([[1, 2, 3]]) )\n",
    "print(\"Adicionando os elementos como uma nova fila\")\n",
    "np.append(np.array([[1, 2, 3]]), [[10, 20, 30]], axis=0) # Adicionando os elementos como uma nova fila"
   ]
  },
  {
   "cell_type": "code",
   "execution_count": 41,
   "metadata": {
    "ExecuteTime": {
     "end_time": "2020-11-10T12:05:35.035408Z",
     "start_time": "2020-11-10T12:05:35.021345Z"
    }
   },
   "outputs": [
    {
     "name": "stdout",
     "output_type": "stream",
     "text": [
      "Array original\n",
      "[[1 2 3]]\n",
      "Adicionando os elementos como novas colunas\n"
     ]
    },
    {
     "data": {
      "text/plain": [
       "array([[ 1,  2,  3, 10, 20, 30]])"
      ]
     },
     "execution_count": 41,
     "metadata": {},
     "output_type": "execute_result"
    }
   ],
   "source": [
    "print(\"Array original\")\n",
    "print(np.array([[1, 2, 3]]))\n",
    "print(\"Adicionando os elementos como novas colunas\")\n",
    "np.append(np.array([[1, 2, 3]]), [[10, 20, 30]], axis=1) # Adicionando os elementos como novas colunas"
   ]
  },
  {
   "cell_type": "code",
   "execution_count": 42,
   "metadata": {
    "ExecuteTime": {
     "end_time": "2020-11-10T12:05:39.181193Z",
     "start_time": "2020-11-10T12:05:39.161297Z"
    }
   },
   "outputs": [
    {
     "data": {
      "text/plain": [
       "(1, 3)"
      ]
     },
     "execution_count": 42,
     "metadata": {},
     "output_type": "execute_result"
    }
   ],
   "source": [
    "np.array([[1, 2, 3]]).shape\n",
    "# Observemos que o array original não foi modificado"
   ]
  },
  {
   "cell_type": "markdown",
   "metadata": {},
   "source": [
    "### insert"
   ]
  },
  {
   "cell_type": "code",
   "execution_count": 44,
   "metadata": {
    "ExecuteTime": {
     "end_time": "2020-11-10T12:07:13.747271Z",
     "start_time": "2020-11-10T12:07:13.727314Z"
    }
   },
   "outputs": [
    {
     "name": "stdout",
     "output_type": "stream",
     "text": [
      "Array original\n",
      "[[1 2 3]\n",
      " [4 5 6]\n",
      " [7 8 9]]\n",
      "---------------\n",
      "Adicionando uma fila com o mesmo valor\n",
      "[[100 100 100]\n",
      " [  1   2   3]\n",
      " [  4   5   6]\n",
      " [  7   8   9]]\n",
      "---------------\n",
      "Adicionando uma coluna com o mesmo valor\n",
      "[[100   1   2   3]\n",
      " [100   4   5   6]\n",
      " [100   7   8   9]]\n",
      "---------------\n"
     ]
    }
   ],
   "source": [
    "print(\"Array original\")\n",
    "print(array1)\n",
    "print(\"-\"*15)\n",
    "print(\"Adicionando uma fila com o mesmo valor\")\n",
    "print(np.insert(array1, 0, 100, 0)) # Adicionando uma fila com o mesmo valor\n",
    "print(\"-\"*15)\n",
    "print(\"Adicionando uma coluna com o mesmo valor\")\n",
    "print(np.insert(array1, 0, 100, 1)) # Adicionando uma coluna com o mesmo valor\n",
    "print(\"-\"*15)"
   ]
  },
  {
   "cell_type": "code",
   "execution_count": 45,
   "metadata": {
    "ExecuteTime": {
     "end_time": "2020-11-10T12:07:19.972523Z",
     "start_time": "2020-11-10T12:07:19.954968Z"
    }
   },
   "outputs": [
    {
     "name": "stdout",
     "output_type": "stream",
     "text": [
      "Array original\n",
      "[[1 2 3]\n",
      " [4 5 6]\n",
      " [7 8 9]]\n",
      "---------------\n",
      "Adicionando uma fila com o mesmo valor\n",
      "[[100 200 300]\n",
      " [  1   2   3]\n",
      " [  4   5   6]\n",
      " [  7   8   9]]\n",
      "---------------\n",
      "Adicionando uma coluna com o mesmo valor\n",
      "[[100   1   2   3]\n",
      " [200   4   5   6]\n",
      " [300   7   8   9]]\n",
      "---------------\n"
     ]
    }
   ],
   "source": [
    "print(\"Array original\")\n",
    "print(array1)\n",
    "print(\"-\"*15)\n",
    "print(\"Adicionando uma fila com o mesmo valor\")\n",
    "print(np.insert(array1, 0, [100, 200, 300], 0)) # Adicionando uma fila com o mesmo valor\n",
    "print(\"-\"*15)\n",
    "print(\"Adicionando uma coluna com o mesmo valor\")\n",
    "print(np.insert(array1, 0,  [100, 200, 300], 1)) # Adicionando uma coluna com o mesmo valor\n",
    "print(\"-\"*15)"
   ]
  },
  {
   "cell_type": "markdown",
   "metadata": {},
   "source": [
    "### Modificando um unico elemento"
   ]
  },
  {
   "cell_type": "code",
   "execution_count": 46,
   "metadata": {
    "ExecuteTime": {
     "end_time": "2020-11-10T12:07:40.835848Z",
     "start_time": "2020-11-10T12:07:40.822167Z"
    }
   },
   "outputs": [
    {
     "name": "stdout",
     "output_type": "stream",
     "text": [
      "Array original\n",
      "[[1 2 3]\n",
      " [4 5 6]\n",
      " [7 8 9]]\n",
      "Array modificado\n",
      "[[  1   2   3]\n",
      " [  4 500   6]\n",
      " [  7   8   9]]\n"
     ]
    }
   ],
   "source": [
    "print(\"Array original\")\n",
    "array1 = np.array([[1, 2, 3],\n",
    "                    [4, 5, 6],\n",
    "                    [7, 8, 9]])\n",
    "print(array1)\n",
    "print(\"Array modificado\")\n",
    "array1[1, 1] = 500\n",
    "print(array1)"
   ]
  },
  {
   "cell_type": "markdown",
   "metadata": {},
   "source": [
    "## Operações algebraicas\n",
    "Uma das vantagens dos numpy.ndarray é que as operações algebraicas estão definidas entre esse tipo de dados e dados do tipo numérico como float, int e complex. \n",
    "\n",
    "Lembrando que estas operações não estão definidas entre objetos do tipo lista"
   ]
  },
  {
   "cell_type": "code",
   "execution_count": 48,
   "metadata": {
    "ExecuteTime": {
     "end_time": "2020-11-10T12:08:10.907725Z",
     "start_time": "2020-11-10T12:08:10.870096Z"
    }
   },
   "outputs": [
    {
     "name": "stdout",
     "output_type": "stream",
     "text": [
      "---------------\n",
      "Soma: [501 502 503 504 505 506 507 508 509]\n",
      "---------------\n",
      "Substração: [-499.5 -498.5 -497.5 -496.5 -495.5 -494.5 -493.5 -492.5 -491.5]\n",
      "---------------\n",
      "Multiplicação: [1.+0.5j 2.+0.5j 3.+0.5j 4.+0.5j 5.+0.5j 6.+0.5j 7.+0.5j 8.+0.5j 9.+0.5j]\n",
      "---------------\n",
      "Divisão: [10. 20. 30. 40. 50. 60. 70. 80. 90.]\n",
      "---------------\n",
      "Modulo: [1 0 1 0 1 0 1 0 1]\n",
      "---------------\n",
      "Parte inteira: [0 1 1 2 2 3 3 4 4]\n"
     ]
    }
   ],
   "source": [
    "# Utilizando vetor de 1D\n",
    "array1 = np.array([1, 2, 3, 4, 5, 6, 7, 8, 9])\n",
    "print(\"-\"*15)\n",
    "print(f\"Soma: {array1 + 500}\")\n",
    "print(\"-\"*15)\n",
    "print(f\"Substração: {array1 - 500.5}\")\n",
    "print(\"-\"*15)\n",
    "print(f\"Multiplicação: {array1 * 1 + 0.5j}\")\n",
    "print(\"-\"*15)\n",
    "print(f\"Divisão: {array1 / 0.1}\")\n",
    "print(\"-\"*15)\n",
    "print(f\"Modulo: {array1 % 2}\")\n",
    "print(\"-\"*15)\n",
    "print(f\"Parte inteira: {array1 // 2}\")"
   ]
  },
  {
   "cell_type": "code",
   "execution_count": 49,
   "metadata": {
    "ExecuteTime": {
     "end_time": "2020-11-10T12:08:14.053651Z",
     "start_time": "2020-11-10T12:08:14.023917Z"
    }
   },
   "outputs": [
    {
     "name": "stdout",
     "output_type": "stream",
     "text": [
      "---------------\n",
      "Soma:\n",
      " [[501 502 503]\n",
      " [504 505 506]\n",
      " [507 508 509]]\n",
      "---------------\n",
      "Substração:\n",
      " [[-499.5 -498.5 -497.5]\n",
      " [-496.5 -495.5 -494.5]\n",
      " [-493.5 -492.5 -491.5]]\n",
      "---------------\n",
      "Multiplicação:\n",
      " [[1.+0.5j 2.+0.5j 3.+0.5j]\n",
      " [4.+0.5j 5.+0.5j 6.+0.5j]\n",
      " [7.+0.5j 8.+0.5j 9.+0.5j]]\n",
      "---------------\n",
      "Divisão:\n",
      " [[10. 20. 30.]\n",
      " [40. 50. 60.]\n",
      " [70. 80. 90.]]\n",
      "---------------\n",
      "Modulo:\n",
      " [[1 0 1]\n",
      " [0 1 0]\n",
      " [1 0 1]]\n",
      "---------------\n",
      "Parte inteira:\n",
      " [[0 1 1]\n",
      " [2 2 3]\n",
      " [3 4 4]]\n"
     ]
    }
   ],
   "source": [
    "# Utilizando matrix de 2D\n",
    "array1 = np.array([[1, 2, 3], [4, 5, 6], [7, 8, 9]])\n",
    "print(\"-\"*15)\n",
    "print(f\"Soma:\\n {array1 + 500}\")\n",
    "print(\"-\"*15)\n",
    "print(f\"Substração:\\n {array1 - 500.5}\")\n",
    "print(\"-\"*15)\n",
    "print(f\"Multiplicação:\\n {array1 * 1 + 0.5j}\")\n",
    "print(\"-\"*15)\n",
    "print(f\"Divisão:\\n {array1 / 0.1}\")\n",
    "print(\"-\"*15)\n",
    "print(f\"Modulo:\\n {array1 % 2}\")\n",
    "print(\"-\"*15)\n",
    "print(f\"Parte inteira:\\n {array1 // 2}\")"
   ]
  },
  {
   "cell_type": "code",
   "execution_count": 50,
   "metadata": {
    "ExecuteTime": {
     "end_time": "2020-11-10T12:08:21.989277Z",
     "start_time": "2020-11-10T12:08:21.944332Z"
    }
   },
   "outputs": [
    {
     "name": "stdout",
     "output_type": "stream",
     "text": [
      "Array1 = [1 2 3 4 5 6 7 8 9]\n",
      "Array2 = [9 8 7 6 5 4 3 2 1]\n",
      "Soma: [10 10 10 10 10 10 10 10 10]\n",
      "---------------\n",
      "Substração: [-8 -6 -4 -2  0  2  4  6  8]\n",
      "---------------\n",
      "Multiplicação: [ 9 16 21 24 25 24 21 16  9]\n",
      "---------------\n",
      "Divisão: [0.11111111 0.25       0.42857143 0.66666667 1.         1.5\n",
      " 2.33333333 4.         9.        ]\n",
      "---------------\n",
      "Modulo: [1 2 3 4 0 2 1 0 0]\n",
      "---------------\n",
      "Parte interia: [0 0 0 0 1 1 2 4 9]\n"
     ]
    }
   ],
   "source": [
    "# Operações algebraicas entre vetores\n",
    "array1 = np.array([1, 2, 3, 4, 5, 6, 7, 8, 9])\n",
    "array2 = array1[::-1]\n",
    "print(f\"Array1 = {array1}\")\n",
    "print(f\"Array2 = {array2}\")\n",
    "print(f\"Soma: {array1 + array2}\")\n",
    "print(\"-\"*15)\n",
    "print(f\"Substração: {array1 - array2}\")\n",
    "print(\"-\"*15)\n",
    "print(f\"Multiplicação: {array1 * array2}\")\n",
    "print(\"-\"*15)\n",
    "print(f\"Divisão: {array1 / array2}\")\n",
    "print(\"-\"*15)\n",
    "print(f\"Modulo: {array1 % array2}\")\n",
    "print(\"-\"*15)\n",
    "print(f\"Parte interia: {array1 // array2}\")"
   ]
  },
  {
   "cell_type": "code",
   "execution_count": 51,
   "metadata": {
    "ExecuteTime": {
     "end_time": "2020-11-10T12:08:42.292425Z",
     "start_time": "2020-11-10T12:08:42.279468Z"
    }
   },
   "outputs": [
    {
     "name": "stdout",
     "output_type": "stream",
     "text": [
      "Array1 = \n",
      "[[1 2 3]\n",
      " [4 5 6]\n",
      " [7 8 9]]\n",
      "Array2 = \n",
      "[[1 4 7]\n",
      " [2 5 8]\n",
      " [3 6 9]]\n",
      "Soma: \n",
      "[[ 2  6 10]\n",
      " [ 6 10 14]\n",
      " [10 14 18]]\n",
      "---------------\n",
      "Substração: \n",
      "[[ 0 -2 -4]\n",
      " [ 2  0 -2]\n",
      " [ 4  2  0]]\n",
      "---------------\n",
      "Multiplicação: \n",
      "[[ 1  8 21]\n",
      " [ 8 25 48]\n",
      " [21 48 81]]\n",
      "---------------\n",
      "Divisão: \n",
      "[[1.         0.5        0.42857143]\n",
      " [2.         1.         0.75      ]\n",
      " [2.33333333 1.33333333 1.        ]]\n",
      "---------------\n",
      "Modulo: \n",
      "[[0 2 3]\n",
      " [0 0 6]\n",
      " [1 2 0]]\n",
      "---------------\n",
      "Parte interia: \n",
      "[[1 0 0]\n",
      " [2 1 0]\n",
      " [2 1 1]]\n"
     ]
    }
   ],
   "source": [
    "# Operações algebraicas entre matrices\n",
    "array1 = np.array([[1, 2, 3], [4, 5, 6], [7, 8, 9]])\n",
    "array2 = array1.T\n",
    "print(f\"Array1 = \\n{array1}\")\n",
    "print(f\"Array2 = \\n{array2}\")\n",
    "print(f\"Soma: \\n{array1 + array2}\")\n",
    "print(\"-\"*15)\n",
    "print(f\"Substração: \\n{array1 - array2}\")\n",
    "print(\"-\"*15)\n",
    "print(f\"Multiplicação: \\n{array1 * array2}\")\n",
    "print(\"-\"*15)\n",
    "print(f\"Divisão: \\n{array1 / array2}\")\n",
    "print(\"-\"*15)\n",
    "print(f\"Modulo: \\n{array1 % array2}\")\n",
    "print(\"-\"*15)\n",
    "print(f\"Parte interia: \\n{array1 // array2}\")"
   ]
  },
  {
   "cell_type": "markdown",
   "metadata": {},
   "source": [
    "## Cannivete Numpy"
   ]
  },
  {
   "cell_type": "markdown",
   "metadata": {},
   "source": [
    "### Array arange()\n",
    "\n",
    "Função para criar um array de `n` elementos.\n",
    "\n",
    "numpy.arange([start, ]stop, [step, ]dtype=None)"
   ]
  },
  {
   "cell_type": "code",
   "execution_count": 52,
   "metadata": {
    "ExecuteTime": {
     "end_time": "2020-11-10T12:08:55.199491Z",
     "start_time": "2020-11-10T12:08:55.194687Z"
    }
   },
   "outputs": [
    {
     "name": "stdout",
     "output_type": "stream",
     "text": [
      "[0 1 2 3 4]\n"
     ]
    }
   ],
   "source": [
    "arange = np.arange(0, 5)\n",
    "print(arange)"
   ]
  },
  {
   "cell_type": "code",
   "execution_count": 53,
   "metadata": {
    "ExecuteTime": {
     "end_time": "2020-11-10T12:08:57.123555Z",
     "start_time": "2020-11-10T12:08:57.106162Z"
    }
   },
   "outputs": [
    {
     "name": "stdout",
     "output_type": "stream",
     "text": [
      "[0.  0.2 0.4 0.6 0.8 1.  1.2 1.4 1.6 1.8 2.  2.2 2.4 2.6 2.8 3.  3.2 3.4\n",
      " 3.6 3.8 4.  4.2 4.4 4.6 4.8 5.  5.2 5.4 5.6 5.8 6.  6.2 6.4 6.6 6.8 7.\n",
      " 7.2 7.4 7.6 7.8 8.  8.2 8.4 8.6 8.8 9.  9.2 9.4 9.6 9.8]\n"
     ]
    }
   ],
   "source": [
    "arange = np.arange(start=0, stop=10, step=0.2)\n",
    "print(arange)"
   ]
  },
  {
   "cell_type": "code",
   "execution_count": 54,
   "metadata": {
    "ExecuteTime": {
     "end_time": "2020-11-10T12:08:59.374074Z",
     "start_time": "2020-11-10T12:08:59.368201Z"
    }
   },
   "outputs": [
    {
     "name": "stdout",
     "output_type": "stream",
     "text": [
      "[0.  0.5 1.  1.5 2.  2.5 3.  3.5 4.  4.5]\n"
     ]
    }
   ],
   "source": [
    "arange = np.arange(start=0, stop=5, step=0.5)\n",
    "print(arange)"
   ]
  },
  {
   "cell_type": "code",
   "execution_count": 55,
   "metadata": {
    "ExecuteTime": {
     "end_time": "2020-11-10T12:09:01.750195Z",
     "start_time": "2020-11-10T12:09:01.733041Z"
    }
   },
   "outputs": [
    {
     "name": "stdout",
     "output_type": "stream",
     "text": [
      "[ 1.       1.05362  1.10724 ... 99.87528 99.9289  99.98252]\n"
     ]
    }
   ],
   "source": [
    "arange =np.arange(start=1, stop=100, step=0.05362)\n",
    "print(arange)"
   ]
  },
  {
   "cell_type": "markdown",
   "metadata": {},
   "source": [
    "### linspace()\n",
    "A funcionalidade é muito parecida com np.arange(), porém, está função garante sempre o mesmo espaçamento entre os pontos e o ultimo ponto é inclusivo.\n",
    "\n",
    " numpy.linspace(start, stop, num=50, endpoint=True, retstep=False, dtype=None, axis=0)[source]"
   ]
  },
  {
   "cell_type": "code",
   "execution_count": 56,
   "metadata": {
    "ExecuteTime": {
     "end_time": "2020-11-10T12:09:05.982158Z",
     "start_time": "2020-11-10T12:09:05.971548Z"
    }
   },
   "outputs": [
    {
     "name": "stdout",
     "output_type": "stream",
     "text": [
      "[1.         1.04040404 1.08080808 1.12121212 1.16161616 1.2020202\n",
      " 1.24242424 1.28282828 1.32323232 1.36363636 1.4040404  1.44444444\n",
      " 1.48484848 1.52525253 1.56565657 1.60606061 1.64646465 1.68686869\n",
      " 1.72727273 1.76767677 1.80808081 1.84848485 1.88888889 1.92929293\n",
      " 1.96969697 2.01010101 2.05050505 2.09090909 2.13131313 2.17171717\n",
      " 2.21212121 2.25252525 2.29292929 2.33333333 2.37373737 2.41414141\n",
      " 2.45454545 2.49494949 2.53535354 2.57575758 2.61616162 2.65656566\n",
      " 2.6969697  2.73737374 2.77777778 2.81818182 2.85858586 2.8989899\n",
      " 2.93939394 2.97979798 3.02020202 3.06060606 3.1010101  3.14141414\n",
      " 3.18181818 3.22222222 3.26262626 3.3030303  3.34343434 3.38383838\n",
      " 3.42424242 3.46464646 3.50505051 3.54545455 3.58585859 3.62626263\n",
      " 3.66666667 3.70707071 3.74747475 3.78787879 3.82828283 3.86868687\n",
      " 3.90909091 3.94949495 3.98989899 4.03030303 4.07070707 4.11111111\n",
      " 4.15151515 4.19191919 4.23232323 4.27272727 4.31313131 4.35353535\n",
      " 4.39393939 4.43434343 4.47474747 4.51515152 4.55555556 4.5959596\n",
      " 4.63636364 4.67676768 4.71717172 4.75757576 4.7979798  4.83838384\n",
      " 4.87878788 4.91919192 4.95959596 5.        ]\n"
     ]
    }
   ],
   "source": [
    "linspace = np.linspace(start=1, stop=5, num=100)\n",
    "print(linspace)"
   ]
  },
  {
   "cell_type": "code",
   "execution_count": 57,
   "metadata": {
    "ExecuteTime": {
     "end_time": "2020-11-10T12:09:09.308584Z",
     "start_time": "2020-11-10T12:09:09.298939Z"
    }
   },
   "outputs": [
    {
     "name": "stdout",
     "output_type": "stream",
     "text": [
      "[  1.           3.02040816   5.04081633   7.06122449   9.08163265\n",
      "  11.10204082  13.12244898  15.14285714  17.16326531  19.18367347\n",
      "  21.20408163  23.2244898   25.24489796  27.26530612  29.28571429\n",
      "  31.30612245  33.32653061  35.34693878  37.36734694  39.3877551\n",
      "  41.40816327  43.42857143  45.44897959  47.46938776  49.48979592\n",
      "  51.51020408  53.53061224  55.55102041  57.57142857  59.59183673\n",
      "  61.6122449   63.63265306  65.65306122  67.67346939  69.69387755\n",
      "  71.71428571  73.73469388  75.75510204  77.7755102   79.79591837\n",
      "  81.81632653  83.83673469  85.85714286  87.87755102  89.89795918\n",
      "  91.91836735  93.93877551  95.95918367  97.97959184 100.        ]\n"
     ]
    }
   ],
   "source": [
    "linspace = np.linspace(start=1, stop=100, num=50)\n",
    "print(linspace)"
   ]
  },
  {
   "cell_type": "code",
   "execution_count": 58,
   "metadata": {
    "ExecuteTime": {
     "end_time": "2020-11-10T12:09:13.323134Z",
     "start_time": "2020-11-10T12:09:13.302101Z"
    }
   },
   "outputs": [
    {
     "data": {
      "text/plain": [
       "[2.020408163265306,\n",
       " 2.020408163265306,\n",
       " 2.020408163265306,\n",
       " 2.020408163265306,\n",
       " 2.020408163265305,\n",
       " 2.020408163265307,\n",
       " 2.020408163265307,\n",
       " 2.020408163265305,\n",
       " 2.020408163265305,\n",
       " 2.020408163265305,\n",
       " 2.0204081632653086,\n",
       " 2.020408163265305,\n",
       " 2.020408163265305,\n",
       " 2.0204081632653086,\n",
       " 2.020408163265305,\n",
       " 2.020408163265305,\n",
       " 2.0204081632653086,\n",
       " 2.0204081632653015,\n",
       " 2.0204081632653086,\n",
       " 2.0204081632653015,\n",
       " 2.0204081632653086,\n",
       " 2.0204081632653086,\n",
       " 2.0204081632653015,\n",
       " 2.0204081632653086,\n",
       " 2.0204081632653086,\n",
       " 2.0204081632653015,\n",
       " 2.0204081632653086,\n",
       " 2.0204081632653086,\n",
       " 2.0204081632653015,\n",
       " 2.0204081632653086,\n",
       " 2.0204081632653015,\n",
       " 2.0204081632653086,\n",
       " 2.0204081632653015,\n",
       " 2.0204081632653157,\n",
       " 2.0204081632653015,\n",
       " 2.0204081632653015,\n",
       " 2.0204081632653157,\n",
       " 2.0204081632653015,\n",
       " 2.0204081632653015,\n",
       " 2.0204081632653015,\n",
       " 2.0204081632653157,\n",
       " 2.0204081632653015,\n",
       " 2.0204081632653015,\n",
       " 2.0204081632653157,\n",
       " 2.0204081632653015,\n",
       " 2.0204081632653015,\n",
       " 2.0204081632653157,\n",
       " 2.0204081632653015,\n",
       " 2.0204081632653157]"
      ]
     },
     "execution_count": 58,
     "metadata": {},
     "output_type": "execute_result"
    }
   ],
   "source": [
    "[linspace[i+1] - linspace[i] for i in range(len(linspace)-1)]"
   ]
  },
  {
   "cell_type": "markdown",
   "metadata": {},
   "source": [
    "**Cuidado com os espaçamento ao se utilizar np.arange() e np.linspace()**"
   ]
  },
  {
   "cell_type": "markdown",
   "metadata": {},
   "source": [
    "### ones, zeros e eye\n",
    "\n",
    "Numpy possui algumas funções para a criação de array de forma automática preenchidos com alguns valores. Este é o caso das funções `ones`, `zeros` e `aye`, as quais retornar array preenchidas com valores de 1, 0 e array com diagonal de 1.\n",
    "```python\n",
    "numpy.ones(shape, dtype=None, order='C')\n",
    "\n",
    "numpy.zeros(shape, dtype=float, order='C')\n",
    "\n",
    "numpy.eye(N, M=None, k=0, dtype=<class 'float'>, order='C')\n",
    "```"
   ]
  },
  {
   "cell_type": "code",
   "execution_count": 59,
   "metadata": {
    "ExecuteTime": {
     "end_time": "2020-11-10T12:09:59.787730Z",
     "start_time": "2020-11-10T12:09:59.771421Z"
    }
   },
   "outputs": [
    {
     "data": {
      "text/plain": [
       "1"
      ]
     },
     "execution_count": 59,
     "metadata": {},
     "output_type": "execute_result"
    }
   ],
   "source": [
    "np.ones(shape=(10,)).ndim"
   ]
  },
  {
   "cell_type": "code",
   "execution_count": 60,
   "metadata": {
    "ExecuteTime": {
     "end_time": "2020-11-10T12:10:11.235111Z",
     "start_time": "2020-11-10T12:10:11.228802Z"
    }
   },
   "outputs": [
    {
     "data": {
      "text/plain": [
       "array([[1.],\n",
       "       [1.],\n",
       "       [1.],\n",
       "       [1.],\n",
       "       [1.],\n",
       "       [1.],\n",
       "       [1.],\n",
       "       [1.],\n",
       "       [1.],\n",
       "       [1.]])"
      ]
     },
     "execution_count": 60,
     "metadata": {},
     "output_type": "execute_result"
    }
   ],
   "source": [
    "np.ones(shape=(10,1))"
   ]
  },
  {
   "cell_type": "code",
   "execution_count": 61,
   "metadata": {
    "ExecuteTime": {
     "end_time": "2020-11-10T12:10:14.973163Z",
     "start_time": "2020-11-10T12:10:14.961819Z"
    }
   },
   "outputs": [
    {
     "data": {
      "text/plain": [
       "array([[1., 1., 1., 1., 1., 1., 1., 1., 1., 1.]])"
      ]
     },
     "execution_count": 61,
     "metadata": {},
     "output_type": "execute_result"
    }
   ],
   "source": [
    "np.ones(shape=(1, 10))"
   ]
  },
  {
   "cell_type": "code",
   "execution_count": 62,
   "metadata": {
    "ExecuteTime": {
     "end_time": "2020-11-10T12:10:18.688145Z",
     "start_time": "2020-11-10T12:10:18.680790Z"
    }
   },
   "outputs": [
    {
     "data": {
      "text/plain": [
       "array([[1., 1., 1., 1., 1., 1., 1., 1., 1., 1.],\n",
       "       [1., 1., 1., 1., 1., 1., 1., 1., 1., 1.],\n",
       "       [1., 1., 1., 1., 1., 1., 1., 1., 1., 1.],\n",
       "       [1., 1., 1., 1., 1., 1., 1., 1., 1., 1.],\n",
       "       [1., 1., 1., 1., 1., 1., 1., 1., 1., 1.],\n",
       "       [1., 1., 1., 1., 1., 1., 1., 1., 1., 1.],\n",
       "       [1., 1., 1., 1., 1., 1., 1., 1., 1., 1.],\n",
       "       [1., 1., 1., 1., 1., 1., 1., 1., 1., 1.],\n",
       "       [1., 1., 1., 1., 1., 1., 1., 1., 1., 1.],\n",
       "       [1., 1., 1., 1., 1., 1., 1., 1., 1., 1.]])"
      ]
     },
     "execution_count": 62,
     "metadata": {},
     "output_type": "execute_result"
    }
   ],
   "source": [
    "np.ones(shape=(10,10))"
   ]
  },
  {
   "cell_type": "code",
   "execution_count": 63,
   "metadata": {
    "ExecuteTime": {
     "end_time": "2020-11-10T12:10:22.004200Z",
     "start_time": "2020-11-10T12:10:21.989749Z"
    }
   },
   "outputs": [
    {
     "data": {
      "text/plain": [
       "array([[2., 2., 2., 2., 2., 2., 2., 2., 2., 2.],\n",
       "       [2., 2., 2., 2., 2., 2., 2., 2., 2., 2.],\n",
       "       [2., 2., 2., 2., 2., 2., 2., 2., 2., 2.],\n",
       "       [2., 2., 2., 2., 2., 2., 2., 2., 2., 2.],\n",
       "       [2., 2., 2., 2., 2., 2., 2., 2., 2., 2.],\n",
       "       [2., 2., 2., 2., 2., 2., 2., 2., 2., 2.],\n",
       "       [2., 2., 2., 2., 2., 2., 2., 2., 2., 2.],\n",
       "       [2., 2., 2., 2., 2., 2., 2., 2., 2., 2.],\n",
       "       [2., 2., 2., 2., 2., 2., 2., 2., 2., 2.],\n",
       "       [2., 2., 2., 2., 2., 2., 2., 2., 2., 2.]])"
      ]
     },
     "execution_count": 63,
     "metadata": {},
     "output_type": "execute_result"
    }
   ],
   "source": [
    "a = np.ones(shape=(10, 10), dtype=float)\n",
    "a + 1"
   ]
  },
  {
   "cell_type": "code",
   "execution_count": 64,
   "metadata": {
    "ExecuteTime": {
     "end_time": "2020-11-10T12:10:26.162280Z",
     "start_time": "2020-11-10T12:10:26.142859Z"
    }
   },
   "outputs": [
    {
     "data": {
      "text/plain": [
       "array([[1., 0., 0., 0., 0., 0., 0., 0., 0., 0.],\n",
       "       [0., 1., 0., 0., 0., 0., 0., 0., 0., 0.],\n",
       "       [0., 0., 1., 0., 0., 0., 0., 0., 0., 0.],\n",
       "       [0., 0., 0., 1., 0., 0., 0., 0., 0., 0.],\n",
       "       [0., 0., 0., 0., 1., 0., 0., 0., 0., 0.],\n",
       "       [0., 0., 0., 0., 0., 1., 0., 0., 0., 0.],\n",
       "       [0., 0., 0., 0., 0., 0., 1., 0., 0., 0.],\n",
       "       [0., 0., 0., 0., 0., 0., 0., 1., 0., 0.],\n",
       "       [0., 0., 0., 0., 0., 0., 0., 0., 1., 0.],\n",
       "       [0., 0., 0., 0., 0., 0., 0., 0., 0., 1.]])"
      ]
     },
     "execution_count": 64,
     "metadata": {},
     "output_type": "execute_result"
    }
   ],
   "source": [
    "np.eye(10)"
   ]
  },
  {
   "cell_type": "code",
   "execution_count": 65,
   "metadata": {
    "ExecuteTime": {
     "end_time": "2020-11-10T12:10:29.604965Z",
     "start_time": "2020-11-10T12:10:29.587597Z"
    }
   },
   "outputs": [
    {
     "data": {
      "text/plain": [
       "array([[1., 0., 0., 0., 0.],\n",
       "       [0., 1., 0., 0., 0.],\n",
       "       [0., 0., 1., 0., 0.],\n",
       "       [0., 0., 0., 1., 0.],\n",
       "       [0., 0., 0., 0., 1.],\n",
       "       [0., 0., 0., 0., 0.],\n",
       "       [0., 0., 0., 0., 0.],\n",
       "       [0., 0., 0., 0., 0.],\n",
       "       [0., 0., 0., 0., 0.],\n",
       "       [0., 0., 0., 0., 0.]])"
      ]
     },
     "execution_count": 65,
     "metadata": {},
     "output_type": "execute_result"
    }
   ],
   "source": [
    "np.eye(10,5)"
   ]
  },
  {
   "cell_type": "code",
   "execution_count": 66,
   "metadata": {
    "ExecuteTime": {
     "end_time": "2020-11-10T12:10:33.002532Z",
     "start_time": "2020-11-10T12:10:32.983638Z"
    }
   },
   "outputs": [
    {
     "data": {
      "text/plain": [
       "array([[0., 0., 1., 0., 0., 0., 0., 0., 0., 0.],\n",
       "       [0., 0., 0., 1., 0., 0., 0., 0., 0., 0.],\n",
       "       [0., 0., 0., 0., 1., 0., 0., 0., 0., 0.],\n",
       "       [0., 0., 0., 0., 0., 1., 0., 0., 0., 0.],\n",
       "       [0., 0., 0., 0., 0., 0., 1., 0., 0., 0.],\n",
       "       [0., 0., 0., 0., 0., 0., 0., 1., 0., 0.],\n",
       "       [0., 0., 0., 0., 0., 0., 0., 0., 1., 0.],\n",
       "       [0., 0., 0., 0., 0., 0., 0., 0., 0., 1.],\n",
       "       [0., 0., 0., 0., 0., 0., 0., 0., 0., 0.],\n",
       "       [0., 0., 0., 0., 0., 0., 0., 0., 0., 0.]])"
      ]
     },
     "execution_count": 66,
     "metadata": {},
     "output_type": "execute_result"
    }
   ],
   "source": [
    "np.eye(10,10, k=2)"
   ]
  },
  {
   "cell_type": "markdown",
   "metadata": {},
   "source": [
    "### Shape()\n",
    "\n",
    "Retorna a ***configuração*** de um array"
   ]
  },
  {
   "cell_type": "code",
   "execution_count": 68,
   "metadata": {
    "ExecuteTime": {
     "end_time": "2020-11-10T12:11:49.417443Z",
     "start_time": "2020-11-10T12:11:49.407177Z"
    }
   },
   "outputs": [
    {
     "name": "stdout",
     "output_type": "stream",
     "text": [
      "[[1. 1. 1. 1. 1.]\n",
      " [1. 1. 1. 1. 1.]\n",
      " [1. 1. 1. 1. 1.]\n",
      " [1. 1. 1. 1. 1.]\n",
      " [1. 1. 1. 1. 1.]]\n"
     ]
    },
    {
     "data": {
      "text/plain": [
       "(5, 5)"
      ]
     },
     "execution_count": 68,
     "metadata": {},
     "output_type": "execute_result"
    }
   ],
   "source": [
    "ones = np.ones((5,5))\n",
    "print(ones)\n",
    "np.shape(ones)"
   ]
  },
  {
   "cell_type": "code",
   "execution_count": 69,
   "metadata": {
    "ExecuteTime": {
     "end_time": "2020-11-10T12:11:53.163900Z",
     "start_time": "2020-11-10T12:11:53.151372Z"
    }
   },
   "outputs": [
    {
     "name": "stdout",
     "output_type": "stream",
     "text": [
      "[[1.]\n",
      " [1.]\n",
      " [1.]\n",
      " [1.]\n",
      " [1.]]\n"
     ]
    },
    {
     "data": {
      "text/plain": [
       "(5, 1)"
      ]
     },
     "execution_count": 69,
     "metadata": {},
     "output_type": "execute_result"
    }
   ],
   "source": [
    "ones = np.ones((5, 1))\n",
    "print(ones)\n",
    "np.shape(ones)"
   ]
  },
  {
   "cell_type": "code",
   "execution_count": 70,
   "metadata": {
    "ExecuteTime": {
     "end_time": "2020-11-10T12:11:57.710846Z",
     "start_time": "2020-11-10T12:11:57.696691Z"
    }
   },
   "outputs": [
    {
     "name": "stdout",
     "output_type": "stream",
     "text": [
      "[[1. 1. 1. 1. 1.]]\n"
     ]
    },
    {
     "data": {
      "text/plain": [
       "(1, 5)"
      ]
     },
     "execution_count": 70,
     "metadata": {},
     "output_type": "execute_result"
    }
   ],
   "source": [
    "ones = np.ones((1,5)) \n",
    "print(ones)\n",
    "np.shape(ones)"
   ]
  },
  {
   "cell_type": "code",
   "execution_count": 71,
   "metadata": {
    "ExecuteTime": {
     "end_time": "2020-11-10T12:12:08.476715Z",
     "start_time": "2020-11-10T12:12:08.455074Z"
    }
   },
   "outputs": [
    {
     "name": "stdout",
     "output_type": "stream",
     "text": [
      "[1. 1. 1. 1. 1. 1. 1. 1. 1. 1. 1. 1. 1. 1. 1.]\n"
     ]
    },
    {
     "data": {
      "text/plain": [
       "(15,)"
      ]
     },
     "execution_count": 71,
     "metadata": {},
     "output_type": "execute_result"
    }
   ],
   "source": [
    "ones = np.ones(15) \n",
    "print(ones)\n",
    "np.shape(ones)"
   ]
  },
  {
   "cell_type": "markdown",
   "metadata": {},
   "source": [
    "Algumas objetos de numpy (e de outras bibliotecas) tem metodos definidos, e o shape é um deles. Isto quer dizer que podemos fazer `np.shape(ones)` ou `ones.shape` e o resultado vai ser o mesmo."
   ]
  },
  {
   "cell_type": "code",
   "execution_count": 72,
   "metadata": {
    "ExecuteTime": {
     "end_time": "2020-11-10T12:12:25.362890Z",
     "start_time": "2020-11-10T12:12:25.350562Z"
    }
   },
   "outputs": [
    {
     "data": {
      "text/plain": [
       "(15,)"
      ]
     },
     "execution_count": 72,
     "metadata": {},
     "output_type": "execute_result"
    }
   ],
   "source": [
    "ones.shape"
   ]
  },
  {
   "cell_type": "markdown",
   "metadata": {},
   "source": [
    "### reshape()\n",
    "\n",
    "Esta função reconfigura um array. Deve-se ter cuidado pois nem sempre é possível realizar a configuração, isto vai depender da forma do array original.\n",
    "```python\n",
    "numpy.reshape(a, newshape, order='C')\n",
    "```"
   ]
  },
  {
   "cell_type": "code",
   "execution_count": 73,
   "metadata": {
    "ExecuteTime": {
     "end_time": "2020-11-10T12:12:45.575114Z",
     "start_time": "2020-11-10T12:12:45.568471Z"
    }
   },
   "outputs": [
    {
     "name": "stdout",
     "output_type": "stream",
     "text": [
      "[ 1  2  3  4  5  6  7  8  9 10 11 12 13 14 15 16]\n"
     ]
    }
   ],
   "source": [
    "array_original = np.arange(1, 17)\n",
    "print(array_original)"
   ]
  },
  {
   "cell_type": "code",
   "execution_count": 74,
   "metadata": {
    "ExecuteTime": {
     "end_time": "2020-11-10T12:12:47.642221Z",
     "start_time": "2020-11-10T12:12:47.636184Z"
    }
   },
   "outputs": [
    {
     "name": "stdout",
     "output_type": "stream",
     "text": [
      "Modificando o array para (1, 16)\n",
      "[[ 1  2  3  4  5  6  7  8  9 10 11 12 13 14 15 16]]\n"
     ]
    }
   ],
   "source": [
    "print(\"Modificando o array para (1, 16)\")\n",
    "print(array_original.reshape(1,16))"
   ]
  },
  {
   "cell_type": "code",
   "execution_count": 75,
   "metadata": {
    "ExecuteTime": {
     "end_time": "2020-11-10T12:12:56.467616Z",
     "start_time": "2020-11-10T12:12:56.451293Z"
    }
   },
   "outputs": [
    {
     "name": "stdout",
     "output_type": "stream",
     "text": [
      "Modificando o array para (16, 1)\n",
      "[[ 1]\n",
      " [ 2]\n",
      " [ 3]\n",
      " [ 4]\n",
      " [ 5]\n",
      " [ 6]\n",
      " [ 7]\n",
      " [ 8]\n",
      " [ 9]\n",
      " [10]\n",
      " [11]\n",
      " [12]\n",
      " [13]\n",
      " [14]\n",
      " [15]\n",
      " [16]]\n"
     ]
    }
   ],
   "source": [
    "print(\"Modificando o array para (16, 1)\")\n",
    "print(array_original.reshape(16,1))"
   ]
  },
  {
   "cell_type": "code",
   "execution_count": 76,
   "metadata": {
    "ExecuteTime": {
     "end_time": "2020-11-10T12:12:59.903631Z",
     "start_time": "2020-11-10T12:12:59.895532Z"
    }
   },
   "outputs": [
    {
     "name": "stdout",
     "output_type": "stream",
     "text": [
      "Modificando o array para (4, 4)\n",
      "[[ 1  2  3  4]\n",
      " [ 5  6  7  8]\n",
      " [ 9 10 11 12]\n",
      " [13 14 15 16]]\n"
     ]
    }
   ],
   "source": [
    "print(\"Modificando o array para (4, 4)\")\n",
    "print(array_original.reshape(4,4))"
   ]
  },
  {
   "cell_type": "code",
   "execution_count": 77,
   "metadata": {
    "ExecuteTime": {
     "end_time": "2020-11-10T12:13:02.852103Z",
     "start_time": "2020-11-10T12:13:02.838667Z"
    }
   },
   "outputs": [
    {
     "name": "stdout",
     "output_type": "stream",
     "text": [
      "Modificando o array para (2, 8)\n",
      "[[ 1  2  3  4  5  6  7  8]\n",
      " [ 9 10 11 12 13 14 15 16]]\n"
     ]
    }
   ],
   "source": [
    "print(\"Modificando o array para (2, 8)\")\n",
    "print(array_original.reshape(2,8))"
   ]
  },
  {
   "cell_type": "code",
   "execution_count": 78,
   "metadata": {
    "ExecuteTime": {
     "end_time": "2020-11-10T12:13:05.639537Z",
     "start_time": "2020-11-10T12:13:05.630259Z"
    }
   },
   "outputs": [
    {
     "name": "stdout",
     "output_type": "stream",
     "text": [
      "Modificando o array para (8, 2)\n",
      "[[ 1  2]\n",
      " [ 3  4]\n",
      " [ 5  6]\n",
      " [ 7  8]\n",
      " [ 9 10]\n",
      " [11 12]\n",
      " [13 14]\n",
      " [15 16]]\n"
     ]
    }
   ],
   "source": [
    "print(\"Modificando o array para (8, 2)\")\n",
    "print(array_original.reshape(8,2))"
   ]
  },
  {
   "cell_type": "code",
   "execution_count": 79,
   "metadata": {
    "ExecuteTime": {
     "end_time": "2020-11-10T12:13:08.305322Z",
     "start_time": "2020-11-10T12:13:08.300710Z"
    }
   },
   "outputs": [
    {
     "data": {
      "text/plain": [
       "array([[ 1,  2],\n",
       "       [ 3,  4],\n",
       "       [ 5,  6],\n",
       "       [ 7,  8],\n",
       "       [ 9, 10],\n",
       "       [11, 12],\n",
       "       [13, 14],\n",
       "       [15, 16]])"
      ]
     },
     "execution_count": 79,
     "metadata": {},
     "output_type": "execute_result"
    }
   ],
   "source": [
    "np.reshape(array_original, (8,2))"
   ]
  },
  {
   "cell_type": "markdown",
   "metadata": {},
   "source": [
    "### size()\n",
    "\n",
    "Retorna o número de elementos contidos num np.array"
   ]
  },
  {
   "cell_type": "code",
   "execution_count": 85,
   "metadata": {
    "ExecuteTime": {
     "end_time": "2020-11-10T12:14:08.117788Z",
     "start_time": "2020-11-10T12:14:08.110552Z"
    }
   },
   "outputs": [
    {
     "data": {
      "text/plain": [
       "16"
      ]
     },
     "execution_count": 85,
     "metadata": {},
     "output_type": "execute_result"
    }
   ],
   "source": [
    "array_original.size"
   ]
  },
  {
   "cell_type": "markdown",
   "metadata": {},
   "source": [
    "### Dimension ndim()\n",
    "\n",
    "Retorna o número de dimensões que um array possui."
   ]
  },
  {
   "cell_type": "code",
   "execution_count": 86,
   "metadata": {
    "ExecuteTime": {
     "end_time": "2020-11-10T12:14:19.697548Z",
     "start_time": "2020-11-10T12:14:19.686297Z"
    }
   },
   "outputs": [
    {
     "name": "stdout",
     "output_type": "stream",
     "text": [
      "1\n",
      "2\n",
      "[[[ 1  2]\n",
      "  [ 3  4]\n",
      "  [ 5  6]\n",
      "  [ 7  8]]\n",
      "\n",
      " [[ 9 10]\n",
      "  [11 12]\n",
      "  [13 14]\n",
      "  [15 16]]]\n",
      "3\n"
     ]
    }
   ],
   "source": [
    "print((array_original.ndim))\n",
    "print(np.ones((10,10)).ndim)\n",
    "print(array_original.reshape(2,4,2))\n",
    "print(array_original.reshape(2,4,2).ndim)"
   ]
  },
  {
   "cell_type": "markdown",
   "metadata": {},
   "source": [
    "### where()"
   ]
  },
  {
   "cell_type": "code",
   "execution_count": 87,
   "metadata": {
    "ExecuteTime": {
     "end_time": "2020-11-10T12:14:44.894227Z",
     "start_time": "2020-11-10T12:14:44.879339Z"
    }
   },
   "outputs": [
    {
     "name": "stdout",
     "output_type": "stream",
     "text": [
      "[14  9  9  1 12 14  5  7 15 12 14  5 17  1  4 12 11 16 17  9]\n",
      "[0 9 9 1 0 0 5 7 0 0 0 5 0 1 4 0 0 0 0 9]\n"
     ]
    }
   ],
   "source": [
    "array_teste = np.random.randint(low=1, high=20, size=20)\n",
    "print(array_teste)\n",
    "\n",
    "print(np.where(array_teste<10, array_teste, 0))"
   ]
  },
  {
   "cell_type": "code",
   "execution_count": 88,
   "metadata": {
    "ExecuteTime": {
     "end_time": "2020-11-10T12:14:52.186106Z",
     "start_time": "2020-11-10T12:14:52.177420Z"
    }
   },
   "outputs": [
    {
     "data": {
      "text/plain": [
       "array([14. ,  0.9,  0.9,  0.1, 12. , 14. ,  0.5,  0.7, 15. , 12. , 14. ,\n",
       "        0.5, 17. ,  0.1,  0.4, 12. , 11. , 16. , 17. ,  0.9])"
      ]
     },
     "execution_count": 88,
     "metadata": {},
     "output_type": "execute_result"
    }
   ],
   "source": [
    "# Usando como filtro e aplicando no array\n",
    "np.where(array_teste<10, array_teste/10, array_teste)"
   ]
  },
  {
   "cell_type": "code",
   "execution_count": 89,
   "metadata": {
    "ExecuteTime": {
     "end_time": "2020-11-10T12:14:56.240336Z",
     "start_time": "2020-11-10T12:14:56.227334Z"
    }
   },
   "outputs": [
    {
     "data": {
      "text/plain": [
       "array([1.4, 9. , 9. , 1. , 1.2, 1.4, 5. , 7. , 1.5, 1.2, 1.4, 5. , 1.7,\n",
       "       1. , 4. , 1.2, 1.1, 1.6, 1.7, 9. ])"
      ]
     },
     "execution_count": 89,
     "metadata": {},
     "output_type": "execute_result"
    }
   ],
   "source": [
    "# Usando como filtro e aplicando no array\n",
    "np.where(array_teste<10, array_teste, array_teste/10)"
   ]
  },
  {
   "cell_type": "code",
   "execution_count": 91,
   "metadata": {
    "ExecuteTime": {
     "end_time": "2020-11-10T12:14:58.422553Z",
     "start_time": "2020-11-10T12:14:58.415840Z"
    }
   },
   "outputs": [
    {
     "data": {
      "text/plain": [
       "array([14,  9,  9,  0, 12, 14,  0,  7,  0, 12, 14,  0,  0,  0,  0, 12, 11,\n",
       "        0,  0,  9])"
      ]
     },
     "execution_count": 91,
     "metadata": {},
     "output_type": "execute_result"
    }
   ],
   "source": [
    "# usando multiplas comparações\n",
    "np.where((array_teste>5) & (array_teste<15), array_teste, 0)"
   ]
  },
  {
   "cell_type": "code",
   "execution_count": 92,
   "metadata": {
    "ExecuteTime": {
     "end_time": "2020-11-10T12:15:02.732618Z",
     "start_time": "2020-11-10T12:15:02.721023Z"
    }
   },
   "outputs": [
    {
     "data": {
      "text/plain": [
       "array([14,  9,  9,  0, 12, 14,  0,  7,  0, 12, 14,  0,  0,  0,  0, 12, 11,\n",
       "        0,  0,  9])"
      ]
     },
     "execution_count": 92,
     "metadata": {},
     "output_type": "execute_result"
    }
   ],
   "source": [
    "# USando multiplas comparações\n",
    "np.where((array_teste>5) & (array_teste<15) | (array_teste == 18), array_teste, 0)\n",
    "# Observemos que na biblioteca Numpy os operadores de comparação são diferentes. & representa and, e | representa or"
   ]
  },
  {
   "cell_type": "markdown",
   "metadata": {},
   "source": [
    "## Salvando e carregando dados\n",
    "\n",
    "Numpy possui diversas formas de salvar arquivos, dentre elas temos `.csv`, `.txt`, `.npy` e `.npz`, porém vamos só ver o funcionamento com arquivos `.csv`."
   ]
  },
  {
   "cell_type": "code",
   "execution_count": 93,
   "metadata": {
    "ExecuteTime": {
     "end_time": "2020-11-10T12:16:16.805914Z",
     "start_time": "2020-11-10T12:16:16.179192Z"
    }
   },
   "outputs": [
    {
     "name": "stdout",
     "output_type": "stream",
     "text": [
      "[[1. 0. 0. ... 0. 0. 0.]\n",
      " [0. 1. 0. ... 0. 0. 0.]\n",
      " [0. 0. 1. ... 0. 0. 0.]\n",
      " ...\n",
      " [0. 0. 0. ... 1. 0. 0.]\n",
      " [0. 0. 0. ... 0. 1. 0.]\n",
      " [0. 0. 0. ... 0. 0. 1.]]\n"
     ]
    }
   ],
   "source": [
    "# salvando um arquivo no formato .csv\n",
    "dados = np.eye(1000)\n",
    "print(dados)\n",
    "np.savetxt(\"dados.csv\",dados)"
   ]
  },
  {
   "cell_type": "code",
   "execution_count": 94,
   "metadata": {
    "ExecuteTime": {
     "end_time": "2020-11-10T12:16:30.022858Z",
     "start_time": "2020-11-10T12:16:29.331563Z"
    }
   },
   "outputs": [
    {
     "data": {
      "text/plain": [
       "array([[1., 0., 0., ..., 0., 0., 0.],\n",
       "       [0., 1., 0., ..., 0., 0., 0.],\n",
       "       [0., 0., 1., ..., 0., 0., 0.],\n",
       "       ...,\n",
       "       [0., 0., 0., ..., 1., 0., 0.],\n",
       "       [0., 0., 0., ..., 0., 1., 0.],\n",
       "       [0., 0., 0., ..., 0., 0., 1.]])"
      ]
     },
     "execution_count": 94,
     "metadata": {},
     "output_type": "execute_result"
    }
   ],
   "source": [
    "# Carregando o arquivo\n",
    "import numpy as np\n",
    "\n",
    "a = np.loadtxt(\"Dados/dados.csv\")\n",
    "\"\"\"\n",
    "OBSERVAÇÃO\n",
    "O arquivo que vai ser carregado DEVE estar no mesmo diretório que o arquivo .py (ou .ipynb).\n",
    "CASO CONTRARIO se deve indicar o endereço do diretório onde temos o arquivo armazenado.\n",
    "\"\"\"\n",
    "a "
   ]
  },
  {
   "cell_type": "code",
   "execution_count": 95,
   "metadata": {
    "ExecuteTime": {
     "end_time": "2020-11-10T12:16:40.846701Z",
     "start_time": "2020-11-10T12:16:40.787300Z"
    }
   },
   "outputs": [
    {
     "ename": "OSError",
     "evalue": "/home/fernan/Desktop/dados2.csv not found.",
     "output_type": "error",
     "traceback": [
      "\u001b[0;31m---------------------------------------------------------------------------\u001b[0m",
      "\u001b[0;31mOSError\u001b[0m                                   Traceback (most recent call last)",
      "\u001b[0;32m<ipython-input-95-464449108536>\u001b[0m in \u001b[0;36m<module>\u001b[0;34m\u001b[0m\n\u001b[1;32m      2\u001b[0m \u001b[0;32mimport\u001b[0m \u001b[0mnumpy\u001b[0m \u001b[0;32mas\u001b[0m \u001b[0mnp\u001b[0m\u001b[0;34m\u001b[0m\u001b[0;34m\u001b[0m\u001b[0m\n\u001b[1;32m      3\u001b[0m \u001b[0;32mfrom\u001b[0m \u001b[0mtabulate\u001b[0m \u001b[0;32mimport\u001b[0m \u001b[0mtabulate\u001b[0m\u001b[0;34m\u001b[0m\u001b[0;34m\u001b[0m\u001b[0m\n\u001b[0;32m----> 4\u001b[0;31m \u001b[0mdados2\u001b[0m \u001b[0;34m=\u001b[0m \u001b[0mnp\u001b[0m\u001b[0;34m.\u001b[0m\u001b[0mloadtxt\u001b[0m\u001b[0;34m(\u001b[0m\u001b[0;34m\"/home/fernan/Desktop/dados2.csv\"\u001b[0m\u001b[0;34m)\u001b[0m \u001b[0;31m# esta linha deve ser modificada para usuarios diferentes\u001b[0m\u001b[0;34m\u001b[0m\u001b[0;34m\u001b[0m\u001b[0m\n\u001b[0m\u001b[1;32m      5\u001b[0m \u001b[0mprint\u001b[0m\u001b[0;34m(\u001b[0m\u001b[0mtabulate\u001b[0m\u001b[0;34m(\u001b[0m\u001b[0mdados2\u001b[0m\u001b[0;34m)\u001b[0m\u001b[0;34m)\u001b[0m\u001b[0;34m\u001b[0m\u001b[0;34m\u001b[0m\u001b[0m\n\u001b[1;32m      6\u001b[0m \"\"\"\n",
      "\u001b[0;32m~/anaconda3/lib/python3.7/site-packages/numpy/lib/npyio.py\u001b[0m in \u001b[0;36mloadtxt\u001b[0;34m(fname, dtype, comments, delimiter, converters, skiprows, usecols, unpack, ndmin, encoding, max_rows)\u001b[0m\n\u001b[1;32m    959\u001b[0m             \u001b[0mfname\u001b[0m \u001b[0;34m=\u001b[0m \u001b[0mos_fspath\u001b[0m\u001b[0;34m(\u001b[0m\u001b[0mfname\u001b[0m\u001b[0;34m)\u001b[0m\u001b[0;34m\u001b[0m\u001b[0;34m\u001b[0m\u001b[0m\n\u001b[1;32m    960\u001b[0m         \u001b[0;32mif\u001b[0m \u001b[0m_is_string_like\u001b[0m\u001b[0;34m(\u001b[0m\u001b[0mfname\u001b[0m\u001b[0;34m)\u001b[0m\u001b[0;34m:\u001b[0m\u001b[0;34m\u001b[0m\u001b[0;34m\u001b[0m\u001b[0m\n\u001b[0;32m--> 961\u001b[0;31m             \u001b[0mfh\u001b[0m \u001b[0;34m=\u001b[0m \u001b[0mnp\u001b[0m\u001b[0;34m.\u001b[0m\u001b[0mlib\u001b[0m\u001b[0;34m.\u001b[0m\u001b[0m_datasource\u001b[0m\u001b[0;34m.\u001b[0m\u001b[0mopen\u001b[0m\u001b[0;34m(\u001b[0m\u001b[0mfname\u001b[0m\u001b[0;34m,\u001b[0m \u001b[0;34m'rt'\u001b[0m\u001b[0;34m,\u001b[0m \u001b[0mencoding\u001b[0m\u001b[0;34m=\u001b[0m\u001b[0mencoding\u001b[0m\u001b[0;34m)\u001b[0m\u001b[0;34m\u001b[0m\u001b[0;34m\u001b[0m\u001b[0m\n\u001b[0m\u001b[1;32m    962\u001b[0m             \u001b[0mfencoding\u001b[0m \u001b[0;34m=\u001b[0m \u001b[0mgetattr\u001b[0m\u001b[0;34m(\u001b[0m\u001b[0mfh\u001b[0m\u001b[0;34m,\u001b[0m \u001b[0;34m'encoding'\u001b[0m\u001b[0;34m,\u001b[0m \u001b[0;34m'latin1'\u001b[0m\u001b[0;34m)\u001b[0m\u001b[0;34m\u001b[0m\u001b[0;34m\u001b[0m\u001b[0m\n\u001b[1;32m    963\u001b[0m             \u001b[0mfh\u001b[0m \u001b[0;34m=\u001b[0m \u001b[0miter\u001b[0m\u001b[0;34m(\u001b[0m\u001b[0mfh\u001b[0m\u001b[0;34m)\u001b[0m\u001b[0;34m\u001b[0m\u001b[0;34m\u001b[0m\u001b[0m\n",
      "\u001b[0;32m~/anaconda3/lib/python3.7/site-packages/numpy/lib/_datasource.py\u001b[0m in \u001b[0;36mopen\u001b[0;34m(path, mode, destpath, encoding, newline)\u001b[0m\n\u001b[1;32m    193\u001b[0m \u001b[0;34m\u001b[0m\u001b[0m\n\u001b[1;32m    194\u001b[0m     \u001b[0mds\u001b[0m \u001b[0;34m=\u001b[0m \u001b[0mDataSource\u001b[0m\u001b[0;34m(\u001b[0m\u001b[0mdestpath\u001b[0m\u001b[0;34m)\u001b[0m\u001b[0;34m\u001b[0m\u001b[0;34m\u001b[0m\u001b[0m\n\u001b[0;32m--> 195\u001b[0;31m     \u001b[0;32mreturn\u001b[0m \u001b[0mds\u001b[0m\u001b[0;34m.\u001b[0m\u001b[0mopen\u001b[0m\u001b[0;34m(\u001b[0m\u001b[0mpath\u001b[0m\u001b[0;34m,\u001b[0m \u001b[0mmode\u001b[0m\u001b[0;34m,\u001b[0m \u001b[0mencoding\u001b[0m\u001b[0;34m=\u001b[0m\u001b[0mencoding\u001b[0m\u001b[0;34m,\u001b[0m \u001b[0mnewline\u001b[0m\u001b[0;34m=\u001b[0m\u001b[0mnewline\u001b[0m\u001b[0;34m)\u001b[0m\u001b[0;34m\u001b[0m\u001b[0;34m\u001b[0m\u001b[0m\n\u001b[0m\u001b[1;32m    196\u001b[0m \u001b[0;34m\u001b[0m\u001b[0m\n\u001b[1;32m    197\u001b[0m \u001b[0;34m\u001b[0m\u001b[0m\n",
      "\u001b[0;32m~/anaconda3/lib/python3.7/site-packages/numpy/lib/_datasource.py\u001b[0m in \u001b[0;36mopen\u001b[0;34m(self, path, mode, encoding, newline)\u001b[0m\n\u001b[1;32m    533\u001b[0m                                       encoding=encoding, newline=newline)\n\u001b[1;32m    534\u001b[0m         \u001b[0;32melse\u001b[0m\u001b[0;34m:\u001b[0m\u001b[0;34m\u001b[0m\u001b[0;34m\u001b[0m\u001b[0m\n\u001b[0;32m--> 535\u001b[0;31m             \u001b[0;32mraise\u001b[0m \u001b[0mIOError\u001b[0m\u001b[0;34m(\u001b[0m\u001b[0;34m\"%s not found.\"\u001b[0m \u001b[0;34m%\u001b[0m \u001b[0mpath\u001b[0m\u001b[0;34m)\u001b[0m\u001b[0;34m\u001b[0m\u001b[0;34m\u001b[0m\u001b[0m\n\u001b[0m\u001b[1;32m    536\u001b[0m \u001b[0;34m\u001b[0m\u001b[0m\n\u001b[1;32m    537\u001b[0m \u001b[0;34m\u001b[0m\u001b[0m\n",
      "\u001b[0;31mOSError\u001b[0m: /home/fernan/Desktop/dados2.csv not found."
     ]
    }
   ],
   "source": [
    "# Carregando um arquivo ubicado num diretorio diferente\n",
    "import numpy as np\n",
    "from tabulate import tabulate\n",
    "dados2 = np.loadtxt(\"/home/fernan/Desktop/dados2.csv\") # esta linha deve ser modificada para usuarios diferentes\n",
    "print(tabulate(dados2))\n",
    "\"\"\"\n",
    "Observação. O código anterior pode não funcionar. Só funciona para sistemas basados em POSIX\n",
    "(UNIX e MAC), para windows não funciona (//, \\\\).\n",
    "\"\"\""
   ]
  }
 ],
 "metadata": {
  "@webio": {
   "lastCommId": null,
   "lastKernelId": null
  },
  "celltoolbar": "Raw Cell Format",
  "hide_input": false,
  "kernelspec": {
   "display_name": "Python 3",
   "language": "python",
   "name": "python3"
  },
  "language_info": {
   "codemirror_mode": {
    "name": "ipython",
    "version": 3
   },
   "file_extension": ".py",
   "mimetype": "text/x-python",
   "name": "python",
   "nbconvert_exporter": "python",
   "pygments_lexer": "ipython3",
   "version": "3.7.7"
  },
  "latex_envs": {
   "LaTeX_envs_menu_present": true,
   "autoclose": true,
   "autocomplete": true,
   "bibliofile": "biblio.bib",
   "cite_by": "apalike",
   "current_citInitial": 1,
   "eqLabelWithNumbers": true,
   "eqNumInitial": 1,
   "hotkeys": {
    "equation": "Ctrl-E",
    "itemize": "Ctrl-I"
   },
   "labels_anchors": false,
   "latex_user_defs": false,
   "report_style_numbering": false,
   "user_envs_cfg": false
  },
  "varInspector": {
   "cols": {
    "lenName": 16,
    "lenType": 16,
    "lenVar": 40
   },
   "kernels_config": {
    "python": {
     "delete_cmd_postfix": "",
     "delete_cmd_prefix": "del ",
     "library": "var_list.py",
     "varRefreshCmd": "print(var_dic_list())"
    },
    "r": {
     "delete_cmd_postfix": ") ",
     "delete_cmd_prefix": "rm(",
     "library": "var_list.r",
     "varRefreshCmd": "cat(var_dic_list()) "
    }
   },
   "position": {
    "height": "144.283px",
    "left": "1017px",
    "right": "20px",
    "top": "43px",
    "width": "350px"
   },
   "types_to_exclude": [
    "module",
    "function",
    "builtin_function_or_method",
    "instance",
    "_Feature"
   ],
   "window_display": false
  }
 },
 "nbformat": 4,
 "nbformat_minor": 4
}
