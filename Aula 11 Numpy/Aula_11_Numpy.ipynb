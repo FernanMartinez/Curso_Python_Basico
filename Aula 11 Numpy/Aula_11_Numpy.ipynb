{
 "cells": [
  {
   "cell_type": "markdown",
   "metadata": {
    "raw_mimetype": "text/markdown"
   },
   "source": [
    "# Aula 11. NumPy\n",
    "\n",
    "<img  src= \"img/numpy.png\" style=\"width:800px; height:500px\">\n",
    "\n",
    "NumPy é uma das bibliotecas mais poderosas da linguagem Python. Esta biblioteca trabalha com matrizes e arrays multidimensionais. Possui uma grande coleção de funções para realizar operações matemáticas com alta performance (como vimos na aula de comparação performática).\n",
    "\n",
    "- Esta biblioteca possui seus próprios tipos de dados os quais são do tipo `numpy.ndarray`;\n",
    "- Trabalhar com matrizes e vetores usando np.ndarrays é mais eficiente que utilizar objetos do tipo lista;\n",
    "- Numpy é utilizada amplamente para realizar:\n",
    "    - Computação quântica;\n",
    "    - Computação estatística; \n",
    "    - Processamento de sinal;\n",
    "    - Processamento de imagem;\n",
    "    - Visualização 3D;\n",
    "    - Computação simbólica;\n",
    "    - Processamento astronômico;\n",
    "    - BioInoformatica;\n",
    "    - Inferência Bayesiana;\n",
    "    - Análise matemática;\n",
    "    - Simulação e modelagem (Monte Carlo);\n",
    "    - Análise de multivariável;\n",
    "    - E infinidades de outras alternativas.\n",
    "- Recomendo (fortemente) visitar o site de [Numpy](https://numpy.org/) para conhecer mais sobre esta biblioteca.\n",
    "---\n",
    "<font size=\"6\"> Os tópicos que vamos abordar nesta série de conversas são:</font>\n",
    "- List vs Numpy;\n",
    "- Indexação e fatiamento Numpy;\n",
    "- Arrays fila e arrays coluna;\n",
    "- Eliminando elementos, função delete;\n",
    "- Adicionando elementos insert e append;\n",
    "- Operações algebraicas com arrays (+, -, *, /, //, %);\n",
    "- Cannivete NumPy:\n",
    " - arange;\n",
    " - linspace;\n",
    " - ones, zeros e eye;\n",
    " - Shape;\n",
    " - Size;\n",
    " - dimensão;\n",
    " - reshape;\n",
    " - asarray;\n",
    " - where;\n",
    "- Carregando dados com Numpy.\n",
    "\n",
    "Esclarecimento: O objetivo de hoje é apresentar os aspectos **mais básicos** desta biblioteca devido a que conta com grande variedades de funções e aplicações."
   ]
  },
  {
   "cell_type": "markdown",
   "metadata": {
    "heading_collapsed": true
   },
   "source": [
    "## Listas vs Numpy"
   ]
  },
  {
   "cell_type": "code",
   "execution_count": 2,
   "metadata": {
    "ExecuteTime": {
     "end_time": "2020-11-06T12:25:30.118457Z",
     "start_time": "2020-11-06T12:25:29.350418Z"
    },
    "hidden": true
   },
   "outputs": [],
   "source": [
    "import numpy as np"
   ]
  },
  {
   "cell_type": "code",
   "execution_count": 2,
   "metadata": {
    "ExecuteTime": {
     "end_time": "2020-09-09T11:49:13.096359Z",
     "start_time": "2020-09-09T11:49:13.074703Z"
    },
    "hidden": true
   },
   "outputs": [
    {
     "data": {
      "text/plain": [
       "[[1, 2, 3], [4, 5, 6], [7, 8, 9]]"
      ]
     },
     "execution_count": 2,
     "metadata": {},
     "output_type": "execute_result"
    }
   ],
   "source": [
    "l1  = [[1, 2, 3],\n",
    "      [4, 5, 6],\n",
    "      [7, 8, 9]]\n",
    "l1"
   ]
  },
  {
   "cell_type": "code",
   "execution_count": 3,
   "metadata": {
    "ExecuteTime": {
     "end_time": "2020-09-09T11:49:14.324732Z",
     "start_time": "2020-09-09T11:49:14.316794Z"
    },
    "hidden": true
   },
   "outputs": [
    {
     "data": {
      "text/plain": [
       "[1, 2, 3]"
      ]
     },
     "execution_count": 3,
     "metadata": {},
     "output_type": "execute_result"
    }
   ],
   "source": [
    "# Acessando à primeira fila\n",
    "l1[0]"
   ]
  },
  {
   "cell_type": "code",
   "execution_count": 4,
   "metadata": {
    "ExecuteTime": {
     "end_time": "2020-09-09T11:49:17.977649Z",
     "start_time": "2020-09-09T11:49:17.967727Z"
    },
    "hidden": true
   },
   "outputs": [
    {
     "data": {
      "text/plain": [
       "[[1, 2, 3], [4, 5, 6], [7, 8, 9]]"
      ]
     },
     "execution_count": 4,
     "metadata": {},
     "output_type": "execute_result"
    }
   ],
   "source": [
    "# E para acessar à primeira coluna?\n",
    "l1[:]"
   ]
  },
  {
   "cell_type": "code",
   "execution_count": 5,
   "metadata": {
    "ExecuteTime": {
     "end_time": "2020-09-09T11:49:18.808818Z",
     "start_time": "2020-09-09T11:49:18.801568Z"
    },
    "hidden": true
   },
   "outputs": [
    {
     "data": {
      "text/plain": [
       "array([[1, 2, 3],\n",
       "       [4, 5, 6],\n",
       "       [7, 8, 9]])"
      ]
     },
     "execution_count": 5,
     "metadata": {},
     "output_type": "execute_result"
    }
   ],
   "source": [
    "array1  = np.array([[1, 2, 3],\n",
    "                    [4, 5, 6],\n",
    "                    [7, 8, 9]])\n",
    "array1"
   ]
  },
  {
   "cell_type": "code",
   "execution_count": 6,
   "metadata": {
    "ExecuteTime": {
     "end_time": "2020-09-09T11:49:21.260338Z",
     "start_time": "2020-09-09T11:49:21.256102Z"
    },
    "hidden": true
   },
   "outputs": [
    {
     "data": {
      "text/plain": [
       "array([1, 2, 3])"
      ]
     },
     "execution_count": 6,
     "metadata": {},
     "output_type": "execute_result"
    }
   ],
   "source": [
    "# Acessando à primeira fila\n",
    "array1[0,:]"
   ]
  },
  {
   "cell_type": "code",
   "execution_count": 7,
   "metadata": {
    "ExecuteTime": {
     "end_time": "2020-09-09T11:49:24.492760Z",
     "start_time": "2020-09-09T11:49:24.485016Z"
    },
    "hidden": true
   },
   "outputs": [
    {
     "data": {
      "text/plain": [
       "array([1, 4, 7])"
      ]
     },
     "execution_count": 7,
     "metadata": {},
     "output_type": "execute_result"
    }
   ],
   "source": [
    "array1[:, 0]"
   ]
  },
  {
   "cell_type": "code",
   "execution_count": 8,
   "metadata": {
    "ExecuteTime": {
     "end_time": "2020-09-09T11:49:25.175929Z",
     "start_time": "2020-09-09T11:49:25.167923Z"
    },
    "hidden": true
   },
   "outputs": [
    {
     "data": {
      "text/plain": [
       "array([3, 6, 9])"
      ]
     },
     "execution_count": 8,
     "metadata": {},
     "output_type": "execute_result"
    }
   ],
   "source": [
    "# Acessando à primeira coluna\n",
    "array1[:, -1]"
   ]
  },
  {
   "cell_type": "markdown",
   "metadata": {
    "heading_collapsed": true
   },
   "source": [
    "## Indexação e fatiamento\n",
    "\n",
    "Os Arrays se comportam da mesma forma que as listas (até certo ponto), a sua indexação inicia em 0 e vai até o último elemento representado por -1."
   ]
  },
  {
   "cell_type": "code",
   "execution_count": 9,
   "metadata": {
    "ExecuteTime": {
     "end_time": "2020-09-09T11:49:26.568467Z",
     "start_time": "2020-09-09T11:49:26.564106Z"
    },
    "hidden": true
   },
   "outputs": [],
   "source": [
    "array = np.array([0,1,2,3,4,5,6])"
   ]
  },
  {
   "cell_type": "code",
   "execution_count": 10,
   "metadata": {
    "ExecuteTime": {
     "end_time": "2020-09-09T11:49:27.656286Z",
     "start_time": "2020-09-09T11:49:27.646709Z"
    },
    "hidden": true
   },
   "outputs": [
    {
     "name": "stdout",
     "output_type": "stream",
     "text": [
      "[0 1 2 3 4 5 6]\n",
      "[0 1 2 3 4 5 6]\n",
      "0\n",
      "1\n",
      "6\n"
     ]
    }
   ],
   "source": [
    "print(array) # Imprimindo o array\n",
    "print(array[:]) # acessando ao todos os elementos\n",
    "print(array[0]) # acessando ao primer elemento\n",
    "print(array[1]) # acessando ao segundo elemento\n",
    "print(array[-1]) # acessando ao ultimo elemeto"
   ]
  },
  {
   "cell_type": "code",
   "execution_count": 11,
   "metadata": {
    "ExecuteTime": {
     "end_time": "2020-09-09T11:49:29.928705Z",
     "start_time": "2020-09-09T11:49:29.919744Z"
    },
    "hidden": true
   },
   "outputs": [
    {
     "name": "stdout",
     "output_type": "stream",
     "text": [
      "[1 2 3 4 5]\n",
      "[0 1 2]\n",
      "[1 2 3 4 5 6]\n",
      "[0 2 4 6]\n"
     ]
    }
   ],
   "source": [
    "print(array[1:-1]) # fatiando um array \n",
    "print(array[0:3]) # fatiando um array\n",
    "print(array[1:]) # fatiando um array\n",
    "print(array[0::2]) # fatiando um array com `step`\n",
    "# Observemos que o último é excluido"
   ]
  },
  {
   "cell_type": "markdown",
   "metadata": {
    "hidden": true
   },
   "source": [
    "Como seria o fatiamento de uma matriz?\n",
    "\n",
    "$$array =   \\left( \\begin{matrix} a & b \\\\ c & d \\end{matrix} \\right)$$\n",
    "$$array[:, 0] =   \\left( \\begin{matrix} a & c  \\end{matrix} \\right)$$\n",
    "$$array[0, :] =   \\left( \\begin{matrix} a & b  \\end{matrix} \\right)$$\n",
    "$$array[row, colum])$$"
   ]
  },
  {
   "cell_type": "code",
   "execution_count": 12,
   "metadata": {
    "ExecuteTime": {
     "end_time": "2020-09-09T11:49:39.421629Z",
     "start_time": "2020-09-09T11:49:39.416178Z"
    },
    "hidden": true
   },
   "outputs": [
    {
     "name": "stdout",
     "output_type": "stream",
     "text": [
      "Array original\n",
      "[[1 2 3]\n",
      " [4 5 6]\n",
      " [7 8 9]]\n"
     ]
    }
   ],
   "source": [
    "# Como seria o fatiamento com uma matriz?\n",
    "print(\"Array original\")\n",
    "print(array1[:]) # Toda a matriz"
   ]
  },
  {
   "cell_type": "code",
   "execution_count": 13,
   "metadata": {
    "ExecuteTime": {
     "end_time": "2020-09-09T11:49:41.671634Z",
     "start_time": "2020-09-09T11:49:41.665392Z"
    },
    "hidden": true
   },
   "outputs": [
    {
     "name": "stdout",
     "output_type": "stream",
     "text": [
      "Todos os elementos da primeira fila\n",
      "[1 2 3]\n",
      "[1 2 3]\n",
      "[1 2 3]\n"
     ]
    }
   ],
   "source": [
    "print(\"Todos os elementos da primeira fila\")\n",
    "print(array1[0, :]) # Todos os elementos da primeira fila\n",
    "print(array1[0])\n",
    "print(array1[0][:])"
   ]
  },
  {
   "cell_type": "code",
   "execution_count": 14,
   "metadata": {
    "ExecuteTime": {
     "end_time": "2020-09-09T11:49:43.032570Z",
     "start_time": "2020-09-09T11:49:43.017843Z"
    },
    "hidden": true
   },
   "outputs": [
    {
     "name": "stdout",
     "output_type": "stream",
     "text": [
      "Todos os elementos da última fila\n",
      "[7 8 9]\n",
      "[7 8 9]\n",
      "[7 8 9]\n"
     ]
    }
   ],
   "source": [
    "print(\"Todos os elementos da última fila\")\n",
    "print(array1[-1, :]) # Todos os elementos da última fila\n",
    "print(array1[-1][:]) \n",
    "print(array1[-1]) "
   ]
  },
  {
   "cell_type": "code",
   "execution_count": 15,
   "metadata": {
    "ExecuteTime": {
     "end_time": "2020-09-09T11:49:43.918035Z",
     "start_time": "2020-09-09T11:49:43.905411Z"
    },
    "hidden": true
   },
   "outputs": [
    {
     "name": "stdout",
     "output_type": "stream",
     "text": [
      "Todos os elementos da primeira coluna\n",
      "[1 4 7]\n",
      "[1 2 3]\n"
     ]
    }
   ],
   "source": [
    "print(\"Todos os elementos da primeira coluna\")\n",
    "print(array1[:, 0]) # Todos os elementos da primeira coluna\n",
    "print(array1[:][0]) # ?"
   ]
  },
  {
   "cell_type": "code",
   "execution_count": 16,
   "metadata": {
    "ExecuteTime": {
     "end_time": "2020-09-09T11:49:45.343014Z",
     "start_time": "2020-09-09T11:49:45.327236Z"
    },
    "hidden": true
   },
   "outputs": [
    {
     "data": {
      "text/plain": [
       "array([1, 2, 3])"
      ]
     },
     "execution_count": 16,
     "metadata": {},
     "output_type": "execute_result"
    }
   ],
   "source": [
    "array1[:][0]"
   ]
  },
  {
   "cell_type": "code",
   "execution_count": 17,
   "metadata": {
    "ExecuteTime": {
     "end_time": "2020-09-09T11:49:45.973901Z",
     "start_time": "2020-09-09T11:49:45.963597Z"
    },
    "hidden": true
   },
   "outputs": [
    {
     "name": "stdout",
     "output_type": "stream",
     "text": [
      "Todos os elementos da última coluna\n",
      "[3 6 9]\n"
     ]
    }
   ],
   "source": [
    "print(\"Todos os elementos da última coluna\")\n",
    "print(array1[:, -1]) # Todos os elementos da última coluna"
   ]
  },
  {
   "cell_type": "code",
   "execution_count": 18,
   "metadata": {
    "ExecuteTime": {
     "end_time": "2020-09-09T11:49:47.842796Z",
     "start_time": "2020-09-09T11:49:47.835379Z"
    },
    "hidden": true
   },
   "outputs": [
    {
     "name": "stdout",
     "output_type": "stream",
     "text": [
      "segundo elemento da segunda coluna\n",
      "5\n"
     ]
    }
   ],
   "source": [
    "print(\"segundo elemento da segunda coluna\")\n",
    "print(array1[1, 1]) # segundo elemento da segunda coluna"
   ]
  },
  {
   "cell_type": "markdown",
   "metadata": {
    "heading_collapsed": true
   },
   "source": [
    "## Array fila e array coluna\n",
    "\n",
    "Algumas IDEs podem mostrar os array coluna da mesma forma que um array vetor. Porém esses são objetos diferentes. Além disso, algumas operações matriciais precisam do vetor em configurado como uma fila e não como uma coluna."
   ]
  },
  {
   "cell_type": "code",
   "execution_count": 19,
   "metadata": {
    "ExecuteTime": {
     "end_time": "2020-09-09T11:49:49.833713Z",
     "start_time": "2020-09-09T11:49:49.830120Z"
    },
    "hidden": true
   },
   "outputs": [],
   "source": [
    "array = np.array([1, 2, 3])\n",
    "array_coluna = np.array([[1], [2], [3]])\n",
    "array_fila = np.array([[1, 2, 3]])"
   ]
  },
  {
   "cell_type": "code",
   "execution_count": 20,
   "metadata": {
    "ExecuteTime": {
     "end_time": "2020-09-09T11:49:51.334038Z",
     "start_time": "2020-09-09T11:49:51.326968Z"
    },
    "hidden": true
   },
   "outputs": [
    {
     "name": "stdout",
     "output_type": "stream",
     "text": [
      "[1 2 3]\n",
      "[[1]\n",
      " [2]\n",
      " [3]]\n",
      "[[1 2 3]]\n"
     ]
    }
   ],
   "source": [
    "print(array)\n",
    "print(array_coluna)\n",
    "print(array_fila)"
   ]
  },
  {
   "cell_type": "code",
   "execution_count": 21,
   "metadata": {
    "ExecuteTime": {
     "end_time": "2020-09-09T11:49:52.080790Z",
     "start_time": "2020-09-09T11:49:52.070894Z"
    },
    "hidden": true
   },
   "outputs": [
    {
     "name": "stdout",
     "output_type": "stream",
     "text": [
      "size\n",
      "3\n",
      "3\n",
      "3\n"
     ]
    }
   ],
   "source": [
    "print(\"size\")\n",
    "print(array.size)\n",
    "print(array_coluna.size)\n",
    "print(array_fila.size)"
   ]
  },
  {
   "cell_type": "code",
   "execution_count": 22,
   "metadata": {
    "ExecuteTime": {
     "end_time": "2020-09-09T11:49:53.380402Z",
     "start_time": "2020-09-09T11:49:53.368337Z"
    },
    "hidden": true
   },
   "outputs": [
    {
     "name": "stdout",
     "output_type": "stream",
     "text": [
      "shape\n",
      "(3,)\n",
      "(3, 1)\n",
      "(1, 3)\n"
     ]
    }
   ],
   "source": [
    "print(\"shape\")\n",
    "print(array.shape)\n",
    "print(array_coluna.shape)\n",
    "print(array_fila.shape)"
   ]
  },
  {
   "cell_type": "code",
   "execution_count": 23,
   "metadata": {
    "ExecuteTime": {
     "end_time": "2020-09-09T11:49:53.907940Z",
     "start_time": "2020-09-09T11:49:53.895668Z"
    },
    "hidden": true
   },
   "outputs": [
    {
     "name": "stdout",
     "output_type": "stream",
     "text": [
      "Dimensão\n",
      "1\n",
      "2\n",
      "2\n"
     ]
    }
   ],
   "source": [
    "print(\"Dimensão\")\n",
    "print(array.ndim)\n",
    "print(array_coluna.ndim)\n",
    "print(array_fila.ndim)"
   ]
  },
  {
   "cell_type": "markdown",
   "metadata": {
    "heading_collapsed": true
   },
   "source": [
    "## Eliminando elementos, função delete"
   ]
  },
  {
   "cell_type": "code",
   "execution_count": 24,
   "metadata": {
    "ExecuteTime": {
     "end_time": "2020-09-09T11:49:58.234153Z",
     "start_time": "2020-09-09T11:49:58.222062Z"
    },
    "hidden": true
   },
   "outputs": [
    {
     "name": "stdout",
     "output_type": "stream",
     "text": [
      "Arrey Original\n",
      "[[1 2 3]\n",
      " [4 5 6]\n",
      " [7 8 9]]\n",
      "---------------\n",
      "Eliminando a primeira fila\n",
      "[[4 5 6]\n",
      " [7 8 9]]\n",
      "---------------\n",
      "Eliminando a primeira coluna\n",
      "[[2 3]\n",
      " [5 6]\n",
      " [8 9]]\n"
     ]
    }
   ],
   "source": [
    "print(\"Arrey Original\")\n",
    "print(array1)\n",
    "print(\"-\"*15)\n",
    "print(\"Eliminando a primeira fila\")\n",
    "print(np.delete(array1, 0, 0)) # Eliminando a primeira fila\n",
    "print(\"-\"*15)\n",
    "print(\"Eliminando a primeira coluna\")\n",
    "print(np.delete(array1, 0, 1)) # Eliminando a primeira coluna"
   ]
  },
  {
   "cell_type": "markdown",
   "metadata": {},
   "source": [
    "## Adicionando elementos append e insert "
   ]
  },
  {
   "cell_type": "markdown",
   "metadata": {
    "heading_collapsed": true
   },
   "source": [
    "### append"
   ]
  },
  {
   "cell_type": "code",
   "execution_count": null,
   "metadata": {
    "hidden": true
   },
   "outputs": [],
   "source": [
    "np.r_[]\n",
    "np.c_[]"
   ]
  },
  {
   "cell_type": "code",
   "execution_count": 25,
   "metadata": {
    "ExecuteTime": {
     "end_time": "2020-09-09T11:50:03.494619Z",
     "start_time": "2020-09-09T11:50:03.485141Z"
    },
    "hidden": true
   },
   "outputs": [
    {
     "name": "stdout",
     "output_type": "stream",
     "text": [
      "Array original\n",
      "[1 2 3]\n",
      "Adicionando todos os elementos no final do array 1D\n"
     ]
    },
    {
     "data": {
      "text/plain": [
       "array([1, 2, 3, 7, 8, 9])"
      ]
     },
     "execution_count": 25,
     "metadata": {},
     "output_type": "execute_result"
    }
   ],
   "source": [
    "print(\"Array original\")\n",
    "print(np.array(np.array([1, 2, 3])))\n",
    "print(\"Adicionando todos os elementos no final do array 1D\")\n",
    "np.append(array, [7,8,9])  # Adicionando todos os elementos no final do array 1D"
   ]
  },
  {
   "cell_type": "code",
   "execution_count": 26,
   "metadata": {
    "ExecuteTime": {
     "end_time": "2020-09-09T11:50:06.950030Z",
     "start_time": "2020-09-09T11:50:06.946042Z"
    },
    "hidden": true
   },
   "outputs": [
    {
     "data": {
      "text/plain": [
       "array([1, 2, 3])"
      ]
     },
     "execution_count": 26,
     "metadata": {},
     "output_type": "execute_result"
    }
   ],
   "source": [
    "array"
   ]
  },
  {
   "cell_type": "code",
   "execution_count": 27,
   "metadata": {
    "ExecuteTime": {
     "end_time": "2020-09-09T11:50:07.438291Z",
     "start_time": "2020-09-09T11:50:07.426806Z"
    },
    "hidden": true
   },
   "outputs": [
    {
     "name": "stdout",
     "output_type": "stream",
     "text": [
      "Array original\n",
      "[[1 2 3]]\n",
      "Adicionando os elementos como uma nova fila\n"
     ]
    },
    {
     "data": {
      "text/plain": [
       "array([[ 1,  2,  3],\n",
       "       [10, 20, 30]])"
      ]
     },
     "execution_count": 27,
     "metadata": {},
     "output_type": "execute_result"
    }
   ],
   "source": [
    "print(\"Array original\")\n",
    "print(np.array([[1, 2, 3]]) )\n",
    "print(\"Adicionando os elementos como uma nova fila\")\n",
    "np.append(np.array([[1, 2, 3]]), [[10, 20, 30]], axis=0) # Adicionando os elementos como uma nova fila"
   ]
  },
  {
   "cell_type": "code",
   "execution_count": 28,
   "metadata": {
    "ExecuteTime": {
     "end_time": "2020-09-09T11:50:08.981646Z",
     "start_time": "2020-09-09T11:50:08.971312Z"
    },
    "hidden": true
   },
   "outputs": [
    {
     "name": "stdout",
     "output_type": "stream",
     "text": [
      "Array original\n",
      "[[1 2 3]]\n",
      "Adicionando os elementos como novas colunas\n"
     ]
    },
    {
     "data": {
      "text/plain": [
       "array([[ 1,  2,  3, 10, 20, 30]])"
      ]
     },
     "execution_count": 28,
     "metadata": {},
     "output_type": "execute_result"
    }
   ],
   "source": [
    "print(\"Array original\")\n",
    "print(np.array([[1, 2, 3]]))\n",
    "print(\"Adicionando os elementos como novas colunas\")\n",
    "np.append(np.array([[1, 2, 3]]), [[10, 20, 30]], axis=1) # Adicionando os elementos como novas colunas"
   ]
  },
  {
   "cell_type": "code",
   "execution_count": 29,
   "metadata": {
    "ExecuteTime": {
     "end_time": "2020-09-09T11:50:09.673197Z",
     "start_time": "2020-09-09T11:50:09.665673Z"
    },
    "hidden": true
   },
   "outputs": [
    {
     "data": {
      "text/plain": [
       "(1, 3)"
      ]
     },
     "execution_count": 29,
     "metadata": {},
     "output_type": "execute_result"
    }
   ],
   "source": [
    "np.array([[1, 2, 3]]).shape"
   ]
  },
  {
   "cell_type": "markdown",
   "metadata": {
    "heading_collapsed": true
   },
   "source": [
    "### insert"
   ]
  },
  {
   "cell_type": "code",
   "execution_count": 30,
   "metadata": {
    "ExecuteTime": {
     "end_time": "2020-09-09T11:50:11.797496Z",
     "start_time": "2020-09-09T11:50:11.787967Z"
    },
    "hidden": true
   },
   "outputs": [
    {
     "name": "stdout",
     "output_type": "stream",
     "text": [
      "Array original\n",
      "[[1 2 3]\n",
      " [4 5 6]\n",
      " [7 8 9]]\n",
      "---------------\n",
      "Adicionando uma fila com o mesmo valor\n",
      "[[100 100 100]\n",
      " [  1   2   3]\n",
      " [  4   5   6]\n",
      " [  7   8   9]]\n",
      "---------------\n",
      "Adicionando uma coluna com o mesmo valor\n",
      "[[100   1   2   3]\n",
      " [100   4   5   6]\n",
      " [100   7   8   9]]\n",
      "---------------\n"
     ]
    }
   ],
   "source": [
    "print(\"Array original\")\n",
    "print(array1)\n",
    "print(\"-\"*15)\n",
    "print(\"Adicionando uma fila com o mesmo valor\")\n",
    "print(np.insert(array1, 0, 100, 0)) # Adicionando uma fila com o mesmo valor\n",
    "print(\"-\"*15)\n",
    "print(\"Adicionando uma coluna com o mesmo valor\")\n",
    "print(np.insert(array1, 0, 100, 1)) # Adicionando uma coluna com o mesmo valor\n",
    "print(\"-\"*15)"
   ]
  },
  {
   "cell_type": "code",
   "execution_count": 31,
   "metadata": {
    "ExecuteTime": {
     "end_time": "2020-09-09T11:50:15.111749Z",
     "start_time": "2020-09-09T11:50:15.100436Z"
    },
    "hidden": true
   },
   "outputs": [
    {
     "name": "stdout",
     "output_type": "stream",
     "text": [
      "Array original\n",
      "[[1 2 3]\n",
      " [4 5 6]\n",
      " [7 8 9]]\n",
      "---------------\n",
      "Adicionando uma fila com o mesmo valor\n",
      "[[100 200 300]\n",
      " [  1   2   3]\n",
      " [  4   5   6]\n",
      " [  7   8   9]]\n",
      "---------------\n",
      "Adicionando uma coluna com o mesmo valor\n",
      "[[100   1   2   3]\n",
      " [200   4   5   6]\n",
      " [300   7   8   9]]\n",
      "---------------\n"
     ]
    }
   ],
   "source": [
    "print(\"Array original\")\n",
    "print(array1)\n",
    "print(\"-\"*15)\n",
    "print(\"Adicionando uma fila com o mesmo valor\")\n",
    "print(np.insert(array1, 0, [100, 200, 300], 0)) # Adicionando uma fila com o mesmo valor\n",
    "print(\"-\"*15)\n",
    "print(\"Adicionando uma coluna com o mesmo valor\")\n",
    "print(np.insert(array1, 0,  [100, 200, 300], 1)) # Adicionando uma coluna com o mesmo valor\n",
    "print(\"-\"*15)"
   ]
  },
  {
   "cell_type": "markdown",
   "metadata": {
    "heading_collapsed": true
   },
   "source": [
    "### Modificando um unico elemento"
   ]
  },
  {
   "cell_type": "code",
   "execution_count": 51,
   "metadata": {
    "ExecuteTime": {
     "end_time": "2020-09-09T12:09:27.039675Z",
     "start_time": "2020-09-09T12:09:27.030591Z"
    },
    "hidden": true
   },
   "outputs": [
    {
     "name": "stdout",
     "output_type": "stream",
     "text": [
      "Array original\n",
      "[[1 2 3]\n",
      " [4 5 6]\n",
      " [7 8 9]]\n",
      "Array modificado\n",
      "[[  1   2   3]\n",
      " [  4 500   6]\n",
      " [  7   8   9]]\n"
     ]
    }
   ],
   "source": [
    "print(\"Array original\")\n",
    "array1 = np.array([[1, 2, 3],\n",
    "                    [4, 5, 6],\n",
    "                    [7, 8, 9]])\n",
    "print(array1)\n",
    "print(\"Array modificado\")\n",
    "array1[1, 1] = 500\n",
    "print(array1)"
   ]
  },
  {
   "cell_type": "code",
   "execution_count": 33,
   "metadata": {
    "ExecuteTime": {
     "end_time": "2020-09-09T11:50:19.652770Z",
     "start_time": "2020-09-09T11:50:19.641234Z"
    },
    "hidden": true
   },
   "outputs": [
    {
     "data": {
      "text/plain": [
       "array([[1001, 1002, 1003],\n",
       "       [1004, 1500, 1006],\n",
       "       [1007, 1008, 1009]])"
      ]
     },
     "execution_count": 33,
     "metadata": {},
     "output_type": "execute_result"
    }
   ],
   "source": [
    "\n",
    "array1 + 1000"
   ]
  },
  {
   "cell_type": "markdown",
   "metadata": {
    "heading_collapsed": true
   },
   "source": [
    "## Operações algebraicas\n",
    "Uma das vantagens dos numpy.ndarray é que as operações algebraicas estão definidas entre esse tipo de dados e dados do tipo numérico como float, int e complex. \n",
    "\n",
    "Lembrando que estas operações não estão definidas entre objetos do tipo lista"
   ]
  },
  {
   "cell_type": "code",
   "execution_count": 34,
   "metadata": {
    "ExecuteTime": {
     "end_time": "2020-09-09T11:50:24.060419Z",
     "start_time": "2020-09-09T11:50:24.049632Z"
    },
    "hidden": true
   },
   "outputs": [
    {
     "name": "stdout",
     "output_type": "stream",
     "text": [
      "---------------\n",
      "Soma: [501 502 503 504 505 506 507 508 509]\n",
      "---------------\n",
      "Substração: [-499.5 -498.5 -497.5 -496.5 -495.5 -494.5 -493.5 -492.5 -491.5]\n",
      "---------------\n",
      "Multiplicação: [1.+0.5j 2.+0.5j 3.+0.5j 4.+0.5j 5.+0.5j 6.+0.5j 7.+0.5j 8.+0.5j 9.+0.5j]\n",
      "---------------\n",
      "Divisão: [10. 20. 30. 40. 50. 60. 70. 80. 90.]\n",
      "---------------\n",
      "Modulo: [1 0 1 0 1 0 1 0 1]\n",
      "---------------\n",
      "Parte inteira: [0 1 1 2 2 3 3 4 4]\n"
     ]
    }
   ],
   "source": [
    "# Utilizando vetor de 1D\n",
    "array1 = np.array([1, 2, 3, 4, 5, 6, 7, 8, 9])\n",
    "print(\"-\"*15)\n",
    "print(f\"Soma: {array1 + 500}\")\n",
    "print(\"-\"*15)\n",
    "print(f\"Substração: {array1 - 500.5}\")\n",
    "print(\"-\"*15)\n",
    "print(f\"Multiplicação: {array1 * 1 + 0.5j}\")\n",
    "print(\"-\"*15)\n",
    "print(f\"Divisão: {array1 / 0.1}\")\n",
    "print(\"-\"*15)\n",
    "print(f\"Modulo: {array1 % 2}\")\n",
    "print(\"-\"*15)\n",
    "print(f\"Parte inteira: {array1 // 2}\")"
   ]
  },
  {
   "cell_type": "code",
   "execution_count": 35,
   "metadata": {
    "ExecuteTime": {
     "end_time": "2020-09-09T11:50:27.655987Z",
     "start_time": "2020-09-09T11:50:27.625470Z"
    },
    "hidden": true
   },
   "outputs": [
    {
     "name": "stdout",
     "output_type": "stream",
     "text": [
      "---------------\n",
      "Soma:\n",
      " [[501 502 503]\n",
      " [504 505 506]\n",
      " [507 508 509]]\n",
      "---------------\n",
      "Substração:\n",
      " [[-499.5 -498.5 -497.5]\n",
      " [-496.5 -495.5 -494.5]\n",
      " [-493.5 -492.5 -491.5]]\n",
      "---------------\n",
      "Multiplicação:\n",
      " [[1.+0.5j 2.+0.5j 3.+0.5j]\n",
      " [4.+0.5j 5.+0.5j 6.+0.5j]\n",
      " [7.+0.5j 8.+0.5j 9.+0.5j]]\n",
      "---------------\n",
      "Divisão:\n",
      " [[10. 20. 30.]\n",
      " [40. 50. 60.]\n",
      " [70. 80. 90.]]\n",
      "---------------\n",
      "Modulo:\n",
      " [[1 0 1]\n",
      " [0 1 0]\n",
      " [1 0 1]]\n",
      "---------------\n",
      "Parte inteira:\n",
      " [[0 1 1]\n",
      " [2 2 3]\n",
      " [3 4 4]]\n"
     ]
    }
   ],
   "source": [
    "# Utilizando matrix de 2D\n",
    "array1 = np.array([[1, 2, 3], [4, 5, 6], [7, 8, 9]])\n",
    "print(\"-\"*15)\n",
    "print(f\"Soma:\\n {array1 + 500}\")\n",
    "print(\"-\"*15)\n",
    "print(f\"Substração:\\n {array1 - 500.5}\")\n",
    "print(\"-\"*15)\n",
    "print(f\"Multiplicação:\\n {array1 * 1 + 0.5j}\")\n",
    "print(\"-\"*15)\n",
    "print(f\"Divisão:\\n {array1 / 0.1}\")\n",
    "print(\"-\"*15)\n",
    "print(f\"Modulo:\\n {array1 % 2}\")\n",
    "print(\"-\"*15)\n",
    "print(f\"Parte inteira:\\n {array1 // 2}\")"
   ]
  },
  {
   "cell_type": "code",
   "execution_count": 36,
   "metadata": {
    "ExecuteTime": {
     "end_time": "2020-09-09T11:50:31.194326Z",
     "start_time": "2020-09-09T11:50:31.161754Z"
    },
    "hidden": true
   },
   "outputs": [
    {
     "name": "stdout",
     "output_type": "stream",
     "text": [
      "Array1 = [1 2 3 4 5 6 7 8 9]\n",
      "Array2 = [9 8 7 6 5 4 3 2 1]\n",
      "Soma: [10 10 10 10 10 10 10 10 10]\n",
      "---------------\n",
      "Substração: [-8 -6 -4 -2  0  2  4  6  8]\n",
      "---------------\n",
      "Multiplicação: [ 9 16 21 24 25 24 21 16  9]\n",
      "---------------\n",
      "Divisão: [0.11111111 0.25       0.42857143 0.66666667 1.         1.5\n",
      " 2.33333333 4.         9.        ]\n",
      "---------------\n",
      "Modulo: [1 2 3 4 0 2 1 0 0]\n",
      "---------------\n",
      "Parte interia: [0 0 0 0 1 1 2 4 9]\n"
     ]
    }
   ],
   "source": [
    "# Operações algebraicas entre vetores\n",
    "array1 = np.array([1, 2, 3, 4, 5, 6, 7, 8, 9])\n",
    "array2 = array1[::-1]\n",
    "print(f\"Array1 = {array1}\")\n",
    "print(f\"Array2 = {array2}\")\n",
    "print(f\"Soma: {array1 + array2}\")\n",
    "print(\"-\"*15)\n",
    "print(f\"Substração: {array1 - array2}\")\n",
    "print(\"-\"*15)\n",
    "print(f\"Multiplicação: {array1 * array2}\")\n",
    "print(\"-\"*15)\n",
    "print(f\"Divisão: {array1 / array2}\")\n",
    "print(\"-\"*15)\n",
    "print(f\"Modulo: {array1 % array2}\")\n",
    "print(\"-\"*15)\n",
    "print(f\"Parte interia: {array1 // array2}\")"
   ]
  },
  {
   "cell_type": "code",
   "execution_count": 37,
   "metadata": {
    "ExecuteTime": {
     "end_time": "2020-09-09T11:50:31.475359Z",
     "start_time": "2020-09-09T11:50:31.467320Z"
    },
    "hidden": true
   },
   "outputs": [
    {
     "name": "stdout",
     "output_type": "stream",
     "text": [
      "Array1 = \n",
      "[[1 2 3]\n",
      " [4 5 6]\n",
      " [7 8 9]]\n",
      "Array2 = \n",
      "[[1 4 7]\n",
      " [2 5 8]\n",
      " [3 6 9]]\n",
      "Soma: \n",
      "[[ 2  6 10]\n",
      " [ 6 10 14]\n",
      " [10 14 18]]\n",
      "---------------\n",
      "Substração: \n",
      "[[ 0 -2 -4]\n",
      " [ 2  0 -2]\n",
      " [ 4  2  0]]\n",
      "---------------\n",
      "Multiplicação: \n",
      "[[ 1  8 21]\n",
      " [ 8 25 48]\n",
      " [21 48 81]]\n",
      "---------------\n",
      "Divisão: \n",
      "[[1.         0.5        0.42857143]\n",
      " [2.         1.         0.75      ]\n",
      " [2.33333333 1.33333333 1.        ]]\n",
      "---------------\n",
      "Modulo: \n",
      "[[0 2 3]\n",
      " [0 0 6]\n",
      " [1 2 0]]\n",
      "---------------\n",
      "Parte interia: \n",
      "[[1 0 0]\n",
      " [2 1 0]\n",
      " [2 1 1]]\n"
     ]
    }
   ],
   "source": [
    "# Operações algebraicas entre matrices\n",
    "array1 = np.array([[1, 2, 3], [4, 5, 6], [7, 8, 9]])\n",
    "array2 = array1.T\n",
    "print(f\"Array1 = \\n{array1}\")\n",
    "print(f\"Array2 = \\n{array2}\")\n",
    "print(f\"Soma: \\n{array1 + array2}\")\n",
    "print(\"-\"*15)\n",
    "print(f\"Substração: \\n{array1 - array2}\")\n",
    "print(\"-\"*15)\n",
    "print(f\"Multiplicação: \\n{array1 * array2}\")\n",
    "print(\"-\"*15)\n",
    "print(f\"Divisão: \\n{array1 / array2}\")\n",
    "print(\"-\"*15)\n",
    "print(f\"Modulo: \\n{array1 % array2}\")\n",
    "print(\"-\"*15)\n",
    "print(f\"Parte interia: \\n{array1 // array2}\")"
   ]
  },
  {
   "cell_type": "markdown",
   "metadata": {
    "heading_collapsed": true
   },
   "source": [
    "## Cannivete Numpy"
   ]
  },
  {
   "cell_type": "markdown",
   "metadata": {
    "heading_collapsed": true,
    "hidden": true
   },
   "source": [
    "### Array arange()\n",
    "\n",
    "Função para criar um array de `n` elementos.\n",
    "\n",
    "numpy.arange([start, ]stop, [step, ]dtype=None)"
   ]
  },
  {
   "cell_type": "code",
   "execution_count": 52,
   "metadata": {
    "ExecuteTime": {
     "end_time": "2020-09-09T12:12:27.061736Z",
     "start_time": "2020-09-09T12:12:27.053278Z"
    },
    "hidden": true
   },
   "outputs": [
    {
     "name": "stdout",
     "output_type": "stream",
     "text": [
      "[0 1 2 3 4]\n"
     ]
    }
   ],
   "source": [
    "arange = np.arange(0, 5)\n",
    "print(arange)"
   ]
  },
  {
   "cell_type": "code",
   "execution_count": 55,
   "metadata": {
    "ExecuteTime": {
     "end_time": "2020-09-09T12:13:43.816889Z",
     "start_time": "2020-09-09T12:13:43.806680Z"
    },
    "hidden": true
   },
   "outputs": [
    {
     "name": "stdout",
     "output_type": "stream",
     "text": [
      "[0.  0.2 0.4 0.6 0.8 1.  1.2 1.4 1.6 1.8 2.  2.2 2.4 2.6 2.8 3.  3.2 3.4\n",
      " 3.6 3.8 4.  4.2 4.4 4.6 4.8 5.  5.2 5.4 5.6 5.8 6.  6.2 6.4 6.6 6.8 7.\n",
      " 7.2 7.4 7.6 7.8 8.  8.2 8.4 8.6 8.8 9.  9.2 9.4 9.6 9.8]\n"
     ]
    }
   ],
   "source": [
    "arange = np.arange(start=0, stop=10, step=0.2)\n",
    "print(arange)"
   ]
  },
  {
   "cell_type": "code",
   "execution_count": 56,
   "metadata": {
    "ExecuteTime": {
     "end_time": "2020-09-09T12:13:54.869907Z",
     "start_time": "2020-09-09T12:13:54.858356Z"
    },
    "hidden": true
   },
   "outputs": [
    {
     "name": "stdout",
     "output_type": "stream",
     "text": [
      "[0.  0.5 1.  1.5 2.  2.5 3.  3.5 4.  4.5]\n"
     ]
    }
   ],
   "source": [
    "arange = np.arange(start=0, stop=5, step=0.5)\n",
    "print(arange)"
   ]
  },
  {
   "cell_type": "code",
   "execution_count": 57,
   "metadata": {
    "ExecuteTime": {
     "end_time": "2020-09-09T12:13:59.984099Z",
     "start_time": "2020-09-09T12:13:59.966188Z"
    },
    "hidden": true
   },
   "outputs": [
    {
     "name": "stdout",
     "output_type": "stream",
     "text": [
      "[ 1.       1.05362  1.10724 ... 99.87528 99.9289  99.98252]\n"
     ]
    }
   ],
   "source": [
    "arange =np.arange(start=1, stop=100, step=0.05362)\n",
    "print(arange)"
   ]
  },
  {
   "cell_type": "markdown",
   "metadata": {
    "heading_collapsed": true,
    "hidden": true
   },
   "source": [
    "### linspace()\n",
    "A funcionalidade é muito parecida com np.arange(), porém, está função garante sempre o mesmo espaçamento entre os pontos e o ultimo ponto é inclusivo.\n",
    "\n",
    " numpy.linspace(start, stop, num=50, endpoint=True, retstep=False, dtype=None, axis=0)[source]"
   ]
  },
  {
   "cell_type": "code",
   "execution_count": 59,
   "metadata": {
    "ExecuteTime": {
     "end_time": "2020-09-09T12:15:20.656009Z",
     "start_time": "2020-09-09T12:15:20.638935Z"
    },
    "hidden": true
   },
   "outputs": [
    {
     "name": "stdout",
     "output_type": "stream",
     "text": [
      "[1.         1.04040404 1.08080808 1.12121212 1.16161616 1.2020202\n",
      " 1.24242424 1.28282828 1.32323232 1.36363636 1.4040404  1.44444444\n",
      " 1.48484848 1.52525253 1.56565657 1.60606061 1.64646465 1.68686869\n",
      " 1.72727273 1.76767677 1.80808081 1.84848485 1.88888889 1.92929293\n",
      " 1.96969697 2.01010101 2.05050505 2.09090909 2.13131313 2.17171717\n",
      " 2.21212121 2.25252525 2.29292929 2.33333333 2.37373737 2.41414141\n",
      " 2.45454545 2.49494949 2.53535354 2.57575758 2.61616162 2.65656566\n",
      " 2.6969697  2.73737374 2.77777778 2.81818182 2.85858586 2.8989899\n",
      " 2.93939394 2.97979798 3.02020202 3.06060606 3.1010101  3.14141414\n",
      " 3.18181818 3.22222222 3.26262626 3.3030303  3.34343434 3.38383838\n",
      " 3.42424242 3.46464646 3.50505051 3.54545455 3.58585859 3.62626263\n",
      " 3.66666667 3.70707071 3.74747475 3.78787879 3.82828283 3.86868687\n",
      " 3.90909091 3.94949495 3.98989899 4.03030303 4.07070707 4.11111111\n",
      " 4.15151515 4.19191919 4.23232323 4.27272727 4.31313131 4.35353535\n",
      " 4.39393939 4.43434343 4.47474747 4.51515152 4.55555556 4.5959596\n",
      " 4.63636364 4.67676768 4.71717172 4.75757576 4.7979798  4.83838384\n",
      " 4.87878788 4.91919192 4.95959596 5.        ]\n"
     ]
    }
   ],
   "source": [
    "linspace = np.linspace(start=1, stop=5, num=100)\n",
    "print(linspace)"
   ]
  },
  {
   "cell_type": "code",
   "execution_count": null,
   "metadata": {
    "hidden": true
   },
   "outputs": [],
   "source": [
    "linspace = np.linspace(start=1, stop=100, num=50)\n",
    "print(linspace)"
   ]
  },
  {
   "cell_type": "code",
   "execution_count": 60,
   "metadata": {
    "ExecuteTime": {
     "end_time": "2020-09-09T12:16:10.821134Z",
     "start_time": "2020-09-09T12:16:10.794009Z"
    },
    "hidden": true
   },
   "outputs": [
    {
     "data": {
      "text/plain": [
       "[0.04040404040404044,\n",
       " 0.04040404040404044,\n",
       " 0.04040404040404022,\n",
       " 0.04040404040404044,\n",
       " 0.04040404040404044,\n",
       " 0.04040404040404044,\n",
       " 0.04040404040404044,\n",
       " 0.04040404040404044,\n",
       " 0.04040404040404044,\n",
       " 0.04040404040404022,\n",
       " 0.04040404040404044,\n",
       " 0.04040404040404044,\n",
       " 0.04040404040404044,\n",
       " 0.04040404040404044,\n",
       " 0.04040404040404022,\n",
       " 0.040404040404040664,\n",
       " 0.04040404040404022,\n",
       " 0.04040404040404044,\n",
       " 0.04040404040404044,\n",
       " 0.04040404040404044,\n",
       " 0.04040404040404044,\n",
       " 0.04040404040404022,\n",
       " 0.040404040404040664,\n",
       " 0.04040404040404022,\n",
       " 0.040404040404040664,\n",
       " 0.04040404040404022,\n",
       " 0.04040404040404022,\n",
       " 0.040404040404040664,\n",
       " 0.04040404040404022,\n",
       " 0.04040404040404022,\n",
       " 0.040404040404040664,\n",
       " 0.040404040404040664,\n",
       " 0.04040404040404022,\n",
       " 0.04040404040404022,\n",
       " 0.040404040404040664,\n",
       " 0.04040404040404022,\n",
       " 0.04040404040404022,\n",
       " 0.040404040404040664,\n",
       " 0.040404040404040664,\n",
       " 0.04040404040404022,\n",
       " 0.04040404040404022,\n",
       " 0.040404040404040664,\n",
       " 0.04040404040404022,\n",
       " 0.04040404040404022,\n",
       " 0.040404040404040664,\n",
       " 0.040404040404040664,\n",
       " 0.04040404040404022,\n",
       " 0.04040404040404022,\n",
       " 0.040404040404040664,\n",
       " 0.04040404040404022,\n",
       " 0.040404040404040664,\n",
       " 0.04040404040404022,\n",
       " 0.04040404040404022,\n",
       " 0.040404040404040664,\n",
       " 0.04040404040404022,\n",
       " 0.040404040404040664,\n",
       " 0.04040404040404022,\n",
       " 0.04040404040404022,\n",
       " 0.040404040404040664,\n",
       " 0.04040404040404022,\n",
       " 0.040404040404040664,\n",
       " 0.04040404040404022,\n",
       " 0.040404040404040664,\n",
       " 0.04040404040404022,\n",
       " 0.04040404040404022,\n",
       " 0.040404040404040664,\n",
       " 0.04040404040404022,\n",
       " 0.040404040404040664,\n",
       " 0.04040404040404022,\n",
       " 0.040404040404040664,\n",
       " 0.04040404040404022,\n",
       " 0.04040404040404022,\n",
       " 0.040404040404040664,\n",
       " 0.04040404040404022,\n",
       " 0.04040404040404111,\n",
       " 0.040404040404039776,\n",
       " 0.040404040404039776,\n",
       " 0.04040404040404155,\n",
       " 0.040404040404039776,\n",
       " 0.040404040404040664,\n",
       " 0.040404040404040664,\n",
       " 0.040404040404039776,\n",
       " 0.040404040404040664,\n",
       " 0.040404040404040664,\n",
       " 0.040404040404039776,\n",
       " 0.040404040404040664,\n",
       " 0.040404040404040664,\n",
       " 0.040404040404039776,\n",
       " 0.04040404040404155,\n",
       " 0.040404040404039776,\n",
       " 0.040404040404039776,\n",
       " 0.04040404040404155,\n",
       " 0.040404040404039776,\n",
       " 0.040404040404040664,\n",
       " 0.040404040404040664,\n",
       " 0.040404040404039776,\n",
       " 0.040404040404040664,\n",
       " 0.040404040404040664,\n",
       " 0.040404040404039776]"
      ]
     },
     "execution_count": 60,
     "metadata": {},
     "output_type": "execute_result"
    }
   ],
   "source": [
    "[linspace[i+1] - linspace[i] for i in range(len(linspace)-1)]"
   ]
  },
  {
   "cell_type": "markdown",
   "metadata": {
    "hidden": true
   },
   "source": [
    "**Cuidado com os espaçamento ao se utilizar np.arange() e np.linspace()**"
   ]
  },
  {
   "cell_type": "markdown",
   "metadata": {
    "heading_collapsed": true,
    "hidden": true
   },
   "source": [
    "### ones, zeros e eye\n",
    "\n",
    "Numpy possui algumas funções para a criação de array de forma automática preenchidos com alguns valores. Este é o caso das funções `ones`, `zeros` e `aye`, as quais retornar array preenchidas com valores de 1, 0 e array com diagonal de 1.\n",
    "```python\n",
    "numpy.ones(shape, dtype=None, order='C')\n",
    "\n",
    "numpy.zeros(shape, dtype=float, order='C')\n",
    "\n",
    "numpy.eye(N, M=None, k=0, dtype=<class 'float'>, order='C')\n",
    "```"
   ]
  },
  {
   "cell_type": "code",
   "execution_count": 62,
   "metadata": {
    "ExecuteTime": {
     "end_time": "2020-09-09T12:17:41.724310Z",
     "start_time": "2020-09-09T12:17:41.715541Z"
    },
    "hidden": true
   },
   "outputs": [
    {
     "data": {
      "text/plain": [
       "1"
      ]
     },
     "execution_count": 62,
     "metadata": {},
     "output_type": "execute_result"
    }
   ],
   "source": [
    "np.ones(shape=(10,)).ndim"
   ]
  },
  {
   "cell_type": "code",
   "execution_count": 63,
   "metadata": {
    "ExecuteTime": {
     "end_time": "2020-09-09T12:18:12.272897Z",
     "start_time": "2020-09-09T12:18:12.255089Z"
    },
    "hidden": true
   },
   "outputs": [
    {
     "data": {
      "text/plain": [
       "array([[1.],\n",
       "       [1.],\n",
       "       [1.],\n",
       "       [1.],\n",
       "       [1.],\n",
       "       [1.],\n",
       "       [1.],\n",
       "       [1.],\n",
       "       [1.],\n",
       "       [1.]])"
      ]
     },
     "execution_count": 63,
     "metadata": {},
     "output_type": "execute_result"
    }
   ],
   "source": [
    "np.ones(shape=(10,1))"
   ]
  },
  {
   "cell_type": "code",
   "execution_count": 64,
   "metadata": {
    "ExecuteTime": {
     "end_time": "2020-09-09T12:18:29.034851Z",
     "start_time": "2020-09-09T12:18:29.028927Z"
    },
    "hidden": true
   },
   "outputs": [
    {
     "data": {
      "text/plain": [
       "array([[1., 1., 1., 1., 1., 1., 1., 1., 1., 1.]])"
      ]
     },
     "execution_count": 64,
     "metadata": {},
     "output_type": "execute_result"
    }
   ],
   "source": [
    "np.ones(shape=(1, 10))"
   ]
  },
  {
   "cell_type": "code",
   "execution_count": 65,
   "metadata": {
    "ExecuteTime": {
     "end_time": "2020-09-09T12:18:36.369679Z",
     "start_time": "2020-09-09T12:18:36.337382Z"
    },
    "hidden": true
   },
   "outputs": [
    {
     "data": {
      "text/plain": [
       "array([[1., 1., 1., 1., 1., 1., 1., 1., 1., 1.],\n",
       "       [1., 1., 1., 1., 1., 1., 1., 1., 1., 1.],\n",
       "       [1., 1., 1., 1., 1., 1., 1., 1., 1., 1.],\n",
       "       [1., 1., 1., 1., 1., 1., 1., 1., 1., 1.],\n",
       "       [1., 1., 1., 1., 1., 1., 1., 1., 1., 1.],\n",
       "       [1., 1., 1., 1., 1., 1., 1., 1., 1., 1.],\n",
       "       [1., 1., 1., 1., 1., 1., 1., 1., 1., 1.],\n",
       "       [1., 1., 1., 1., 1., 1., 1., 1., 1., 1.],\n",
       "       [1., 1., 1., 1., 1., 1., 1., 1., 1., 1.],\n",
       "       [1., 1., 1., 1., 1., 1., 1., 1., 1., 1.]])"
      ]
     },
     "execution_count": 65,
     "metadata": {},
     "output_type": "execute_result"
    }
   ],
   "source": [
    "np.ones(shape=(10,10))"
   ]
  },
  {
   "cell_type": "code",
   "execution_count": 80,
   "metadata": {
    "ExecuteTime": {
     "end_time": "2020-09-09T12:23:16.600511Z",
     "start_time": "2020-09-09T12:23:16.564308Z"
    },
    "hidden": true
   },
   "outputs": [
    {
     "data": {
      "text/plain": [
       "array([[2., 2., 2., 2., 2., 2., 2., 2., 2., 2.],\n",
       "       [2., 2., 2., 2., 2., 2., 2., 2., 2., 2.],\n",
       "       [2., 2., 2., 2., 2., 2., 2., 2., 2., 2.],\n",
       "       [2., 2., 2., 2., 2., 2., 2., 2., 2., 2.],\n",
       "       [2., 2., 2., 2., 2., 2., 2., 2., 2., 2.],\n",
       "       [2., 2., 2., 2., 2., 2., 2., 2., 2., 2.],\n",
       "       [2., 2., 2., 2., 2., 2., 2., 2., 2., 2.],\n",
       "       [2., 2., 2., 2., 2., 2., 2., 2., 2., 2.],\n",
       "       [2., 2., 2., 2., 2., 2., 2., 2., 2., 2.],\n",
       "       [2., 2., 2., 2., 2., 2., 2., 2., 2., 2.]])"
      ]
     },
     "execution_count": 80,
     "metadata": {},
     "output_type": "execute_result"
    }
   ],
   "source": [
    "a = np.ones(shape=(10, 10), dtype=float)\n",
    "a + 1"
   ]
  },
  {
   "cell_type": "code",
   "execution_count": 81,
   "metadata": {
    "ExecuteTime": {
     "end_time": "2020-09-09T12:26:19.904053Z",
     "start_time": "2020-09-09T12:26:19.896254Z"
    },
    "hidden": true
   },
   "outputs": [
    {
     "data": {
      "text/plain": [
       "array([[1., 0., 0., 0., 0., 0., 0., 0., 0., 0.],\n",
       "       [0., 1., 0., 0., 0., 0., 0., 0., 0., 0.],\n",
       "       [0., 0., 1., 0., 0., 0., 0., 0., 0., 0.],\n",
       "       [0., 0., 0., 1., 0., 0., 0., 0., 0., 0.],\n",
       "       [0., 0., 0., 0., 1., 0., 0., 0., 0., 0.],\n",
       "       [0., 0., 0., 0., 0., 1., 0., 0., 0., 0.],\n",
       "       [0., 0., 0., 0., 0., 0., 1., 0., 0., 0.],\n",
       "       [0., 0., 0., 0., 0., 0., 0., 1., 0., 0.],\n",
       "       [0., 0., 0., 0., 0., 0., 0., 0., 1., 0.],\n",
       "       [0., 0., 0., 0., 0., 0., 0., 0., 0., 1.]])"
      ]
     },
     "execution_count": 81,
     "metadata": {},
     "output_type": "execute_result"
    }
   ],
   "source": [
    "np.eye(10)"
   ]
  },
  {
   "cell_type": "code",
   "execution_count": 82,
   "metadata": {
    "ExecuteTime": {
     "end_time": "2020-09-09T12:26:36.642740Z",
     "start_time": "2020-09-09T12:26:36.617597Z"
    },
    "hidden": true
   },
   "outputs": [
    {
     "data": {
      "text/plain": [
       "array([[1., 0., 0., 0., 0.],\n",
       "       [0., 1., 0., 0., 0.],\n",
       "       [0., 0., 1., 0., 0.],\n",
       "       [0., 0., 0., 1., 0.],\n",
       "       [0., 0., 0., 0., 1.],\n",
       "       [0., 0., 0., 0., 0.],\n",
       "       [0., 0., 0., 0., 0.],\n",
       "       [0., 0., 0., 0., 0.],\n",
       "       [0., 0., 0., 0., 0.],\n",
       "       [0., 0., 0., 0., 0.]])"
      ]
     },
     "execution_count": 82,
     "metadata": {},
     "output_type": "execute_result"
    }
   ],
   "source": [
    "np.eye(10,5)"
   ]
  },
  {
   "cell_type": "code",
   "execution_count": 83,
   "metadata": {
    "ExecuteTime": {
     "end_time": "2020-09-09T12:27:00.918957Z",
     "start_time": "2020-09-09T12:27:00.911238Z"
    },
    "hidden": true
   },
   "outputs": [
    {
     "data": {
      "text/plain": [
       "array([[0., 0., 1., 0., 0., 0., 0., 0., 0., 0.],\n",
       "       [0., 0., 0., 1., 0., 0., 0., 0., 0., 0.],\n",
       "       [0., 0., 0., 0., 1., 0., 0., 0., 0., 0.],\n",
       "       [0., 0., 0., 0., 0., 1., 0., 0., 0., 0.],\n",
       "       [0., 0., 0., 0., 0., 0., 1., 0., 0., 0.],\n",
       "       [0., 0., 0., 0., 0., 0., 0., 1., 0., 0.],\n",
       "       [0., 0., 0., 0., 0., 0., 0., 0., 1., 0.],\n",
       "       [0., 0., 0., 0., 0., 0., 0., 0., 0., 1.],\n",
       "       [0., 0., 0., 0., 0., 0., 0., 0., 0., 0.],\n",
       "       [0., 0., 0., 0., 0., 0., 0., 0., 0., 0.]])"
      ]
     },
     "execution_count": 83,
     "metadata": {},
     "output_type": "execute_result"
    }
   ],
   "source": [
    "np.eye(10,10, k=2)"
   ]
  },
  {
   "cell_type": "markdown",
   "metadata": {
    "hidden": true
   },
   "source": [
    "### Shape()\n",
    "\n",
    "Retorna a ***configuração*** de um array"
   ]
  },
  {
   "cell_type": "code",
   "execution_count": 84,
   "metadata": {
    "ExecuteTime": {
     "end_time": "2020-09-09T12:27:43.103556Z",
     "start_time": "2020-09-09T12:27:43.093922Z"
    },
    "hidden": true
   },
   "outputs": [
    {
     "name": "stdout",
     "output_type": "stream",
     "text": [
      "[[1. 1. 1. 1. 1.]\n",
      " [1. 1. 1. 1. 1.]\n",
      " [1. 1. 1. 1. 1.]\n",
      " [1. 1. 1. 1. 1.]\n",
      " [1. 1. 1. 1. 1.]]\n"
     ]
    },
    {
     "data": {
      "text/plain": [
       "(5, 5)"
      ]
     },
     "execution_count": 84,
     "metadata": {},
     "output_type": "execute_result"
    }
   ],
   "source": [
    "ones = np.ones((5,5))\n",
    "print(ones)\n",
    "np.shape(ones)"
   ]
  },
  {
   "cell_type": "code",
   "execution_count": 85,
   "metadata": {
    "ExecuteTime": {
     "end_time": "2020-09-09T12:27:48.131991Z",
     "start_time": "2020-09-09T12:27:48.124520Z"
    },
    "hidden": true
   },
   "outputs": [
    {
     "name": "stdout",
     "output_type": "stream",
     "text": [
      "[[1.]\n",
      " [1.]\n",
      " [1.]\n",
      " [1.]\n",
      " [1.]]\n"
     ]
    },
    {
     "data": {
      "text/plain": [
       "(5, 1)"
      ]
     },
     "execution_count": 85,
     "metadata": {},
     "output_type": "execute_result"
    }
   ],
   "source": [
    "ones = np.ones((5, 1))\n",
    "print(ones)\n",
    "np.shape(ones)"
   ]
  },
  {
   "cell_type": "code",
   "execution_count": 86,
   "metadata": {
    "ExecuteTime": {
     "end_time": "2020-09-09T12:27:53.443449Z",
     "start_time": "2020-09-09T12:27:53.426539Z"
    },
    "hidden": true
   },
   "outputs": [
    {
     "name": "stdout",
     "output_type": "stream",
     "text": [
      "[[1. 1. 1. 1. 1.]]\n"
     ]
    },
    {
     "data": {
      "text/plain": [
       "(1, 5)"
      ]
     },
     "execution_count": 86,
     "metadata": {},
     "output_type": "execute_result"
    }
   ],
   "source": [
    "ones = np.ones((1,5)) \n",
    "print(ones)\n",
    "np.shape(ones)"
   ]
  },
  {
   "cell_type": "code",
   "execution_count": 87,
   "metadata": {
    "ExecuteTime": {
     "end_time": "2020-09-09T12:27:58.539436Z",
     "start_time": "2020-09-09T12:27:58.525951Z"
    },
    "hidden": true
   },
   "outputs": [
    {
     "name": "stdout",
     "output_type": "stream",
     "text": [
      "[1. 1. 1. 1. 1. 1. 1. 1. 1. 1. 1. 1. 1. 1. 1.]\n"
     ]
    },
    {
     "data": {
      "text/plain": [
       "(15,)"
      ]
     },
     "execution_count": 87,
     "metadata": {},
     "output_type": "execute_result"
    }
   ],
   "source": [
    "ones = np.ones(15) \n",
    "print(ones)\n",
    "np.shape(ones)"
   ]
  },
  {
   "cell_type": "markdown",
   "metadata": {
    "hidden": true
   },
   "source": [
    "Algumas objetos de numpy (e de outras bibliotecas) tem metodos definidos, e o shape é um deles. Isto quer dizer que podemos fazer `np.shape(ones)` ou `ones.shape` e o resultado vai ser o mesmo."
   ]
  },
  {
   "cell_type": "code",
   "execution_count": 88,
   "metadata": {
    "ExecuteTime": {
     "end_time": "2020-09-09T12:28:03.202557Z",
     "start_time": "2020-09-09T12:28:03.188756Z"
    },
    "hidden": true
   },
   "outputs": [
    {
     "data": {
      "text/plain": [
       "(15,)"
      ]
     },
     "execution_count": 88,
     "metadata": {},
     "output_type": "execute_result"
    }
   ],
   "source": [
    "ones.shape"
   ]
  },
  {
   "cell_type": "markdown",
   "metadata": {
    "hidden": true
   },
   "source": [
    "### reshape()\n",
    "\n",
    "Esta função reconfigura um array. Deve-se ter cuidado pois nem sempre é possível realizar a configuração, isto vai depender da forma do array original.\n",
    "```python\n",
    "numpy.reshape(a, newshape, order='C')\n",
    "```"
   ]
  },
  {
   "cell_type": "code",
   "execution_count": 89,
   "metadata": {
    "ExecuteTime": {
     "end_time": "2020-09-09T12:28:29.527787Z",
     "start_time": "2020-09-09T12:28:29.520799Z"
    },
    "hidden": true
   },
   "outputs": [
    {
     "name": "stdout",
     "output_type": "stream",
     "text": [
      "[ 1  2  3  4  5  6  7  8  9 10 11 12 13 14 15 16]\n"
     ]
    }
   ],
   "source": [
    "array_original = np.arange(1, 17)\n",
    "print(array_original)"
   ]
  },
  {
   "cell_type": "code",
   "execution_count": 90,
   "metadata": {
    "ExecuteTime": {
     "end_time": "2020-09-09T12:28:49.975169Z",
     "start_time": "2020-09-09T12:28:49.959478Z"
    },
    "hidden": true
   },
   "outputs": [
    {
     "name": "stdout",
     "output_type": "stream",
     "text": [
      "Modificando o array para (1, 16)\n",
      "[[ 1  2  3  4  5  6  7  8  9 10 11 12 13 14 15 16]]\n"
     ]
    }
   ],
   "source": [
    "print(\"Modificando o array para (1, 16)\")\n",
    "print(array_original.reshape(1,16))"
   ]
  },
  {
   "cell_type": "code",
   "execution_count": 91,
   "metadata": {
    "ExecuteTime": {
     "end_time": "2020-09-09T12:29:05.391059Z",
     "start_time": "2020-09-09T12:29:05.369087Z"
    },
    "hidden": true
   },
   "outputs": [
    {
     "name": "stdout",
     "output_type": "stream",
     "text": [
      "Modificando o array para (16, 1)\n",
      "[[ 1]\n",
      " [ 2]\n",
      " [ 3]\n",
      " [ 4]\n",
      " [ 5]\n",
      " [ 6]\n",
      " [ 7]\n",
      " [ 8]\n",
      " [ 9]\n",
      " [10]\n",
      " [11]\n",
      " [12]\n",
      " [13]\n",
      " [14]\n",
      " [15]\n",
      " [16]]\n"
     ]
    }
   ],
   "source": [
    "print(\"Modificando o array para (16, 1)\")\n",
    "print(array_original.reshape(16,1))"
   ]
  },
  {
   "cell_type": "code",
   "execution_count": 92,
   "metadata": {
    "ExecuteTime": {
     "end_time": "2020-09-09T12:29:20.016797Z",
     "start_time": "2020-09-09T12:29:19.998434Z"
    },
    "hidden": true
   },
   "outputs": [
    {
     "name": "stdout",
     "output_type": "stream",
     "text": [
      "Modificando o array para (4, 4)\n",
      "[[ 1  2  3  4]\n",
      " [ 5  6  7  8]\n",
      " [ 9 10 11 12]\n",
      " [13 14 15 16]]\n"
     ]
    }
   ],
   "source": [
    "print(\"Modificando o array para (4, 4)\")\n",
    "print(array_original.reshape(4,4))"
   ]
  },
  {
   "cell_type": "code",
   "execution_count": 93,
   "metadata": {
    "ExecuteTime": {
     "end_time": "2020-09-09T12:29:22.847686Z",
     "start_time": "2020-09-09T12:29:22.840444Z"
    },
    "hidden": true
   },
   "outputs": [
    {
     "name": "stdout",
     "output_type": "stream",
     "text": [
      "Modificando o array para (2, 8)\n",
      "[[ 1  2  3  4  5  6  7  8]\n",
      " [ 9 10 11 12 13 14 15 16]]\n"
     ]
    }
   ],
   "source": [
    "print(\"Modificando o array para (2, 8)\")\n",
    "print(array_original.reshape(2,8))"
   ]
  },
  {
   "cell_type": "code",
   "execution_count": 94,
   "metadata": {
    "ExecuteTime": {
     "end_time": "2020-09-09T12:29:27.163818Z",
     "start_time": "2020-09-09T12:29:27.146427Z"
    },
    "hidden": true
   },
   "outputs": [
    {
     "name": "stdout",
     "output_type": "stream",
     "text": [
      "Modificando o array para (8, 2)\n",
      "[[ 1  2]\n",
      " [ 3  4]\n",
      " [ 5  6]\n",
      " [ 7  8]\n",
      " [ 9 10]\n",
      " [11 12]\n",
      " [13 14]\n",
      " [15 16]]\n"
     ]
    }
   ],
   "source": [
    "print(\"Modificando o array para (8, 2)\")\n",
    "print(array_original.reshape(8,2))"
   ]
  },
  {
   "cell_type": "code",
   "execution_count": 95,
   "metadata": {
    "ExecuteTime": {
     "end_time": "2020-09-09T12:29:29.104993Z",
     "start_time": "2020-09-09T12:29:29.095873Z"
    },
    "hidden": true
   },
   "outputs": [
    {
     "data": {
      "text/plain": [
       "array([[ 1,  2],\n",
       "       [ 3,  4],\n",
       "       [ 5,  6],\n",
       "       [ 7,  8],\n",
       "       [ 9, 10],\n",
       "       [11, 12],\n",
       "       [13, 14],\n",
       "       [15, 16]])"
      ]
     },
     "execution_count": 95,
     "metadata": {},
     "output_type": "execute_result"
    }
   ],
   "source": [
    "np.reshape(array_original, (8,2))"
   ]
  },
  {
   "cell_type": "markdown",
   "metadata": {
    "hidden": true
   },
   "source": [
    "### size()\n",
    "\n",
    "Retorna o número de elementos contidos num np.array"
   ]
  },
  {
   "cell_type": "code",
   "execution_count": 97,
   "metadata": {
    "ExecuteTime": {
     "end_time": "2020-09-09T12:32:58.426838Z",
     "start_time": "2020-09-09T12:32:58.418085Z"
    },
    "hidden": true
   },
   "outputs": [
    {
     "data": {
      "text/plain": [
       "array([ 1.,  2.,  3.,  4.,  5.,  6.,  7.,  8.,  9., 10., 11., 12., 13.,\n",
       "       14., 15., 16.])"
      ]
     },
     "execution_count": 97,
     "metadata": {},
     "output_type": "execute_result"
    }
   ],
   "source": [
    "array_original.astype(float)"
   ]
  },
  {
   "cell_type": "markdown",
   "metadata": {
    "hidden": true
   },
   "source": [
    "### Dimension ndim()\n",
    "\n",
    "Retorna o número de dimensões que um array possui."
   ]
  },
  {
   "cell_type": "code",
   "execution_count": 99,
   "metadata": {
    "ExecuteTime": {
     "end_time": "2020-09-09T12:34:12.498747Z",
     "start_time": "2020-09-09T12:34:12.483439Z"
    },
    "hidden": true
   },
   "outputs": [
    {
     "name": "stdout",
     "output_type": "stream",
     "text": [
      "1\n",
      "2\n",
      "[[[ 1  2]\n",
      "  [ 3  4]\n",
      "  [ 5  6]\n",
      "  [ 7  8]]\n",
      "\n",
      " [[ 9 10]\n",
      "  [11 12]\n",
      "  [13 14]\n",
      "  [15 16]]]\n",
      "3\n"
     ]
    }
   ],
   "source": [
    "print((array_original.ndim))\n",
    "print(np.ones((10,10)).ndim)\n",
    "print(array_original.reshape(2,4,2))\n",
    "print(array_original.reshape(2,4,2).ndim)"
   ]
  },
  {
   "cell_type": "markdown",
   "metadata": {
    "hidden": true
   },
   "source": [
    "### where()"
   ]
  },
  {
   "cell_type": "code",
   "execution_count": 106,
   "metadata": {
    "ExecuteTime": {
     "end_time": "2020-09-09T12:37:35.466884Z",
     "start_time": "2020-09-09T12:37:35.450197Z"
    },
    "hidden": true
   },
   "outputs": [
    {
     "name": "stdout",
     "output_type": "stream",
     "text": [
      "[11 17 11 17  9  5 11  7  9  4  2 12  5  2  3  5 12 11 18 17]\n",
      "[0 0 0 0 9 5 0 7 9 4 2 0 5 2 3 5 0 0 0 0]\n"
     ]
    }
   ],
   "source": [
    "array_teste = np.random.randint(low=1, high=20, size=20)\n",
    "print(array_teste)\n",
    "\n",
    "print(np.where(array_teste<10, array_teste, 0))"
   ]
  },
  {
   "cell_type": "code",
   "execution_count": 107,
   "metadata": {
    "ExecuteTime": {
     "end_time": "2020-09-09T12:39:05.340201Z",
     "start_time": "2020-09-09T12:39:05.328794Z"
    },
    "hidden": true
   },
   "outputs": [
    {
     "data": {
      "text/plain": [
       "array([11. , 17. , 11. , 17. ,  0.9,  0.5, 11. ,  0.7,  0.9,  0.4,  0.2,\n",
       "       12. ,  0.5,  0.2,  0.3,  0.5, 12. , 11. , 18. , 17. ])"
      ]
     },
     "execution_count": 107,
     "metadata": {},
     "output_type": "execute_result"
    }
   ],
   "source": [
    "# Usando como filtro e aplicando no array\n",
    "np.where(array_teste<10, array_teste/10, array_teste)"
   ]
  },
  {
   "cell_type": "code",
   "execution_count": 108,
   "metadata": {
    "ExecuteTime": {
     "end_time": "2020-09-09T12:40:16.934147Z",
     "start_time": "2020-09-09T12:40:16.910644Z"
    },
    "hidden": true
   },
   "outputs": [
    {
     "data": {
      "text/plain": [
       "array([1.1, 1.7, 1.1, 1.7, 9. , 5. , 1.1, 7. , 9. , 4. , 2. , 1.2, 5. ,\n",
       "       2. , 3. , 5. , 1.2, 1.1, 1.8, 1.7])"
      ]
     },
     "execution_count": 108,
     "metadata": {},
     "output_type": "execute_result"
    }
   ],
   "source": [
    "# Usando como filtro e aplicando no array\n",
    "np.where(array_teste<10, array_teste, array_teste/10)"
   ]
  },
  {
   "cell_type": "code",
   "execution_count": null,
   "metadata": {
    "hidden": true
   },
   "outputs": [],
   "source": [
    "# usando multiplas comparações\n",
    "np.where((array_teste>5) & (array_teste<15), array_teste, 0)"
   ]
  },
  {
   "cell_type": "code",
   "execution_count": null,
   "metadata": {
    "hidden": true
   },
   "outputs": [],
   "source": []
  },
  {
   "cell_type": "code",
   "execution_count": 111,
   "metadata": {
    "ExecuteTime": {
     "end_time": "2020-09-09T12:43:36.646053Z",
     "start_time": "2020-09-09T12:43:36.631405Z"
    },
    "hidden": true
   },
   "outputs": [
    {
     "data": {
      "text/plain": [
       "array([11,  0, 11,  0,  9,  0, 11,  7,  9,  0,  0, 12,  0,  0,  0,  0, 12,\n",
       "       11, 18,  0])"
      ]
     },
     "execution_count": 111,
     "metadata": {},
     "output_type": "execute_result"
    }
   ],
   "source": [
    "# USando multiplas comparações\n",
    "np.where((array_teste>5) & (array_teste<15) | (array_teste == 18), array_teste, 0)\n",
    "# OBS. "
   ]
  },
  {
   "cell_type": "markdown",
   "metadata": {},
   "source": [
    "## Salvando e carregando dados\n",
    "\n",
    "Numpy possui diversas formas de salvar arquivos, dentre elas temos `.csv`, `.txt`, `.npy` e `.npz`, porém vamos só ver o funcionamento com arquivos `.csv`."
   ]
  },
  {
   "cell_type": "code",
   "execution_count": 7,
   "metadata": {
    "ExecuteTime": {
     "end_time": "2020-11-06T12:26:28.653073Z",
     "start_time": "2020-11-06T12:26:28.084078Z"
    }
   },
   "outputs": [
    {
     "name": "stdout",
     "output_type": "stream",
     "text": [
      "[[1. 0. 0. ... 0. 0. 0.]\n",
      " [0. 1. 0. ... 0. 0. 0.]\n",
      " [0. 0. 1. ... 0. 0. 0.]\n",
      " ...\n",
      " [0. 0. 0. ... 1. 0. 0.]\n",
      " [0. 0. 0. ... 0. 1. 0.]\n",
      " [0. 0. 0. ... 0. 0. 1.]]\n"
     ]
    }
   ],
   "source": [
    "# salvando um arquivo no formato .csv\n",
    "dados = np.eye(1000)\n",
    "print(dados)\n",
    "np.savetxt(\"dados.csv\",dados)"
   ]
  },
  {
   "cell_type": "code",
   "execution_count": 9,
   "metadata": {
    "ExecuteTime": {
     "end_time": "2020-11-06T12:26:47.890900Z",
     "start_time": "2020-11-06T12:26:47.058340Z"
    }
   },
   "outputs": [
    {
     "data": {
      "text/plain": [
       "array([[1., 0., 0., ..., 0., 0., 0.],\n",
       "       [0., 1., 0., ..., 0., 0., 0.],\n",
       "       [0., 0., 1., ..., 0., 0., 0.],\n",
       "       ...,\n",
       "       [0., 0., 0., ..., 1., 0., 0.],\n",
       "       [0., 0., 0., ..., 0., 1., 0.],\n",
       "       [0., 0., 0., ..., 0., 0., 1.]])"
      ]
     },
     "execution_count": 9,
     "metadata": {},
     "output_type": "execute_result"
    }
   ],
   "source": [
    "# Carregando o arquivo\n",
    "import numpy as np\n",
    "\n",
    "a = np.loadtxt(\"Dados/dados.csv\")\n",
    "\"\"\"\n",
    "OBSERVAÇÃO\n",
    "O arquivo que vai ser carregado DEVE estar no mesmo diretório que o arquivo .py (ou .ipynb).\n",
    "CASO CONTRARIO se deve indicar o endereço do diretório onde temos o arquivo armazenado.\n",
    "\"\"\"\n",
    "a "
   ]
  },
  {
   "cell_type": "code",
   "execution_count": 120,
   "metadata": {
    "ExecuteTime": {
     "end_time": "2020-09-09T12:52:58.638198Z",
     "start_time": "2020-09-09T12:52:58.617542Z"
    }
   },
   "outputs": [
    {
     "name": "stdout",
     "output_type": "stream",
     "text": [
      "-  -  -  -  -  -  -  -  -  -\n",
      "5  0  0  0  0  0  0  0  0  0\n",
      "0  5  0  0  0  0  0  0  0  0\n",
      "0  0  5  0  0  0  0  0  0  0\n",
      "0  0  0  5  0  0  0  0  0  0\n",
      "0  0  0  0  5  0  0  0  0  0\n",
      "0  0  0  0  0  5  0  0  0  0\n",
      "0  0  0  0  0  0  5  0  0  0\n",
      "0  0  0  0  0  0  0  5  0  0\n",
      "0  0  0  0  0  0  0  0  5  0\n",
      "0  0  0  0  0  0  0  0  0  5\n",
      "-  -  -  -  -  -  -  -  -  -\n"
     ]
    },
    {
     "data": {
      "text/plain": [
       "'\\nObservação. O código anterior pode não funcionar só funciona para sistemas basados em POSIX\\n(UNIX e MAC), para windows não funciona (//, \\\\).\\n'"
      ]
     },
     "execution_count": 120,
     "metadata": {},
     "output_type": "execute_result"
    }
   ],
   "source": [
    "# Carregando um arquivo ubicado num diretorio diferente\n",
    "import numpy as np\n",
    "from tabulate import tabulate\n",
    "dados2 = np.loadtxt(\"/home/fernan/Desktop/dados2.csv\") # esta linha deve ser modificada para usuarios diferentes\n",
    "print(tabulate(dados2))\n",
    "\"\"\"\n",
    "Observação. O código anterior pode não funcionar. Só funciona para sistemas basados em POSIX\n",
    "(UNIX e MAC), para windows não funciona (//, \\\\).\n",
    "\"\"\""
   ]
  },
  {
   "cell_type": "code",
   "execution_count": 119,
   "metadata": {
    "ExecuteTime": {
     "end_time": "2020-09-09T12:50:59.968990Z",
     "start_time": "2020-09-09T12:50:59.956060Z"
    }
   },
   "outputs": [
    {
     "data": {
      "text/plain": [
       "'/home/fernan/MEGA/1 Vida Academica/Doutorado FEQ/Curso Python LNBR/Curso_Python_Basico_LNBR/Aula 11 Numpy'"
      ]
     },
     "execution_count": 119,
     "metadata": {},
     "output_type": "execute_result"
    }
   ],
   "source": [
    "import os\n",
    "os.getcwd()"
   ]
  },
  {
   "cell_type": "code",
   "execution_count": null,
   "metadata": {},
   "outputs": [],
   "source": []
  }
 ],
 "metadata": {
  "@webio": {
   "lastCommId": null,
   "lastKernelId": null
  },
  "celltoolbar": "Raw Cell Format",
  "hide_input": false,
  "kernelspec": {
   "display_name": "Python 3",
   "language": "python",
   "name": "python3"
  },
  "language_info": {
   "codemirror_mode": {
    "name": "ipython",
    "version": 3
   },
   "file_extension": ".py",
   "mimetype": "text/x-python",
   "name": "python",
   "nbconvert_exporter": "python",
   "pygments_lexer": "ipython3",
   "version": "3.7.7"
  },
  "latex_envs": {
   "LaTeX_envs_menu_present": true,
   "autoclose": true,
   "autocomplete": true,
   "bibliofile": "biblio.bib",
   "cite_by": "apalike",
   "current_citInitial": 1,
   "eqLabelWithNumbers": true,
   "eqNumInitial": 1,
   "hotkeys": {
    "equation": "Ctrl-E",
    "itemize": "Ctrl-I"
   },
   "labels_anchors": false,
   "latex_user_defs": false,
   "report_style_numbering": false,
   "user_envs_cfg": false
  },
  "varInspector": {
   "cols": {
    "lenName": 16,
    "lenType": 16,
    "lenVar": 40
   },
   "kernels_config": {
    "python": {
     "delete_cmd_postfix": "",
     "delete_cmd_prefix": "del ",
     "library": "var_list.py",
     "varRefreshCmd": "print(var_dic_list())"
    },
    "r": {
     "delete_cmd_postfix": ") ",
     "delete_cmd_prefix": "rm(",
     "library": "var_list.r",
     "varRefreshCmd": "cat(var_dic_list()) "
    }
   },
   "position": {
    "height": "144.283px",
    "left": "1017px",
    "right": "20px",
    "top": "43px",
    "width": "350px"
   },
   "types_to_exclude": [
    "module",
    "function",
    "builtin_function_or_method",
    "instance",
    "_Feature"
   ],
   "window_display": false
  }
 },
 "nbformat": 4,
 "nbformat_minor": 4
}
