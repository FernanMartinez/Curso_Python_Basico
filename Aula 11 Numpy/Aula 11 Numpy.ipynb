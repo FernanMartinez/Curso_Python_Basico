{
 "cells": [
  {
   "cell_type": "markdown",
   "metadata": {
    "raw_mimetype": "text/markdown"
   },
   "source": [
    "# Aula 11. NumPy\n",
    "\n",
    "NumPy é uma das bibliotecas mais poderosas da linguagem Python. Esta biblioteca trabalha com matrizes e arrays multidimensionais. Possui uma grande coleção de funções para realizar operações matemáticas com alta performance (como vimos na aula de comparação performática).\n",
    "\n",
    "- Esta biblioteca possui seus próprios tipos de dados os quais são do tipo `numpy.ndarray`;\n",
    "- Trabalhar com matrizes e vetores usando np.ndarrays é mais eficiente que utilizar objetos do tipo lista;\n",
    "- Numpy é utilizada amplamente para realizar:\n",
    "    - Computação quântica;\n",
    "    - Computação estatística; \n",
    "    - Processamento de sinal;\n",
    "    - Processamento de imagem;\n",
    "    - Visualização 3D;\n",
    "    - Computação simbólica;\n",
    "    - Processamento astronômico;\n",
    "    - BioInoformatica;\n",
    "    - Inferência Bayesiana;\n",
    "    - Análise matemática;\n",
    "    - Simulação e modelagem (Monte Carlo);\n",
    "    - Análise de multivariável;\n",
    "    - E infinidades de outras alternativas.\n",
    "- Recomendo (fortemente) visitar o site de [Numpy](https://numpy.org/) para conhecer mais sobre esta biblioteca.\n",
    "---\n",
    "O objetivo de hoje é apresentar os aspectos **mais básicos** desta biblioteca devido a que conta com grande variedades de funções e aplicações. Vamos nos concentrar em:\n",
    "- List vs Numpy;\n",
    "- Indexação e fatiamento Numpy;\n",
    "- Arrays fila e arrays coluna;\n",
    "- Eliminando elementos, função delete;\n",
    "- Adicionando elementos insert e append;\n",
    "- Operações algebraicas com arrays (+, -, *, /, //, %);\n",
    "- Cannivete NumPy:\n",
    " - Array arange;\n",
    " - Shape;\n",
    " - Size;\n",
    " - reshape;\n",
    " - Dimension;\n",
    " - asarray;\n",
    " - Array de zeros;\n",
    " - where;\n",
    " - Array de 1.\n",
    "- Carregando dados com Numpy.\n"
   ]
  },
  {
   "cell_type": "markdown",
   "metadata": {},
   "source": [
    "## Listas vs Numpy"
   ]
  },
  {
   "cell_type": "code",
   "execution_count": 1,
   "metadata": {},
   "outputs": [],
   "source": [
    "import numpy as np"
   ]
  },
  {
   "cell_type": "code",
   "execution_count": 2,
   "metadata": {},
   "outputs": [
    {
     "data": {
      "text/plain": [
       "[[1, 2, 3], [4, 5, 6], [7, 8, 9]]"
      ]
     },
     "execution_count": 2,
     "metadata": {},
     "output_type": "execute_result"
    }
   ],
   "source": [
    "l1  = [[1, 2, 3],\n",
    "      [4, 5, 6],\n",
    "      [7, 8, 9]]\n",
    "l1"
   ]
  },
  {
   "cell_type": "code",
   "execution_count": 5,
   "metadata": {},
   "outputs": [
    {
     "data": {
      "text/plain": [
       "[1, 2, 3]"
      ]
     },
     "execution_count": 5,
     "metadata": {},
     "output_type": "execute_result"
    }
   ],
   "source": [
    "# Acessando à primeira fila\n",
    "l1[0]"
   ]
  },
  {
   "cell_type": "code",
   "execution_count": 6,
   "metadata": {},
   "outputs": [
    {
     "data": {
      "text/plain": [
       "[[1, 2, 3], [4, 5, 6], [7, 8, 9]]"
      ]
     },
     "execution_count": 6,
     "metadata": {},
     "output_type": "execute_result"
    }
   ],
   "source": [
    "# E para acessar à primeira coluna?\n",
    "l1[:]"
   ]
  },
  {
   "cell_type": "code",
   "execution_count": 7,
   "metadata": {},
   "outputs": [
    {
     "data": {
      "text/plain": [
       "array([[1, 2, 3],\n",
       "       [4, 5, 6],\n",
       "       [7, 8, 9]])"
      ]
     },
     "execution_count": 7,
     "metadata": {},
     "output_type": "execute_result"
    }
   ],
   "source": [
    "array1  = np.array([[1, 2, 3],\n",
    "                    [4, 5, 6],\n",
    "                    [7, 8, 9]])\n",
    "array1"
   ]
  },
  {
   "cell_type": "code",
   "execution_count": 9,
   "metadata": {},
   "outputs": [
    {
     "data": {
      "text/plain": [
       "array([1, 2, 3])"
      ]
     },
     "execution_count": 9,
     "metadata": {},
     "output_type": "execute_result"
    }
   ],
   "source": [
    "# Acessando à primeira fila\n",
    "array1[0,:]"
   ]
  },
  {
   "cell_type": "code",
   "execution_count": 12,
   "metadata": {},
   "outputs": [
    {
     "data": {
      "text/plain": [
       "array([3, 6, 9])"
      ]
     },
     "execution_count": 12,
     "metadata": {},
     "output_type": "execute_result"
    }
   ],
   "source": [
    "# Acessando à primeira coluna\n",
    "array1[:, -1]"
   ]
  },
  {
   "cell_type": "markdown",
   "metadata": {},
   "source": [
    "## Indexação e fatiamento\n",
    "\n",
    "Os Arrays se comportam da mesma forma que as listas (até certo ponto), a sua indexação inicia em 0 e vai até o último elemento representado por -1."
   ]
  },
  {
   "cell_type": "code",
   "execution_count": 13,
   "metadata": {},
   "outputs": [],
   "source": [
    "array = np.array([0,1,2,3,4,5,6])"
   ]
  },
  {
   "cell_type": "code",
   "execution_count": 14,
   "metadata": {},
   "outputs": [
    {
     "name": "stdout",
     "output_type": "stream",
     "text": [
      "[0 1 2 3 4 5 6]\n",
      "[0 1 2 3 4 5 6]\n",
      "0\n",
      "1\n",
      "6\n"
     ]
    }
   ],
   "source": [
    "print(array) # Imprimindo o array\n",
    "print(array[:]) # acessando ao todos os elementos\n",
    "print(array[0]) # acessando ao primer elemento\n",
    "print(array[1]) # acessando ao segundo elemento\n",
    "print(array[-1]) # acessando ao ultimo elemeto"
   ]
  },
  {
   "cell_type": "code",
   "execution_count": 19,
   "metadata": {},
   "outputs": [
    {
     "name": "stdout",
     "output_type": "stream",
     "text": [
      "[1 2 3 4 5]\n",
      "[0 1 2]\n",
      "[0 2 4 6]\n"
     ]
    }
   ],
   "source": [
    "print(array[1:-1]) # fatiando um array \n",
    "print(array[0:3]) # fatiando um array\n",
    "print(array[0::2]) # fatiando um array com `step`\n",
    "# Observemos que o último é excluido"
   ]
  },
  {
   "cell_type": "markdown",
   "metadata": {},
   "source": [
    "Como seria o fatiamento de uma matriz?\n",
    "\n",
    "$$array =   \\left( \\begin{matrix} a & b \\\\ c & d \\end{matrix} \\right)$$\n",
    "$$array[:, 0] =   \\left( \\begin{matrix} a & c  \\end{matrix} \\right)$$\n",
    "$$array[0, :] =   \\left( \\begin{matrix} a & b  \\end{matrix} \\right)$$\n",
    "$$array[row, colum])$$"
   ]
  },
  {
   "cell_type": "code",
   "execution_count": null,
   "metadata": {},
   "outputs": [],
   "source": [
    "# Como seria o fatiamento com uma matriz?\n",
    "print(\"Array original\")\n",
    "print(array1[:]) # Toda a matriz"
   ]
  },
  {
   "cell_type": "code",
   "execution_count": null,
   "metadata": {},
   "outputs": [],
   "source": [
    "print(\"Todos os elementos da primeira fila\")\n",
    "print(array1[0, :]) # Todos os elementos da primeira fila\n",
    "print(array1[0])\n",
    "print(array1[0][:])"
   ]
  },
  {
   "cell_type": "code",
   "execution_count": null,
   "metadata": {},
   "outputs": [],
   "source": [
    "print(\"Todos os elementos da última fila\")\n",
    "print(array1[-1, :]) # Todos os elementos da última fila\n",
    "print(array1[-1][:]) \n",
    "print(array1[-1]) "
   ]
  },
  {
   "cell_type": "code",
   "execution_count": null,
   "metadata": {},
   "outputs": [],
   "source": [
    "print(\"Todos os elementos da primeira coluna\")\n",
    "print(array1[:, 0]) # Todos os elementos da primeira coluna\n",
    "print(array1[:][0]) # ?"
   ]
  },
  {
   "cell_type": "code",
   "execution_count": null,
   "metadata": {},
   "outputs": [],
   "source": [
    "print(\"Todos os elementos da última coluna\")\n",
    "print(array1[:, -1]) # Todos os elementos da última coluna"
   ]
  },
  {
   "cell_type": "code",
   "execution_count": null,
   "metadata": {},
   "outputs": [],
   "source": [
    "print(\"segundo elemento da segunda coluna\")\n",
    "print(array1[1, 1]) # segundo elemento da segunda coluna"
   ]
  },
  {
   "cell_type": "markdown",
   "metadata": {},
   "source": [
    "## Array fila e array coluna\n",
    "\n",
    "Algumas IDEs podem mostrar os array coluna da mesma forma que um array vetor. Porém esses são objetos diferentes. Além disso, algumas operações matriciais precisam do vetor em configurado como uma fila e não como uma coluna."
   ]
  },
  {
   "cell_type": "code",
   "execution_count": null,
   "metadata": {},
   "outputs": [],
   "source": [
    "array = np.array([1, 2, 3])\n",
    "array_coluna = np.array([[1], [2], [3]])\n",
    "array_fila = np.array([[1, 2, 3]])"
   ]
  },
  {
   "cell_type": "code",
   "execution_count": null,
   "metadata": {},
   "outputs": [],
   "source": [
    "print(array)\n",
    "print(array_coluna)\n",
    "print(array_fila)"
   ]
  },
  {
   "cell_type": "code",
   "execution_count": null,
   "metadata": {},
   "outputs": [],
   "source": [
    "print(\"size\")\n",
    "print(array.size)\n",
    "print(array_coluna.size)\n",
    "print(array_fila.size)"
   ]
  },
  {
   "cell_type": "code",
   "execution_count": null,
   "metadata": {},
   "outputs": [],
   "source": [
    "print(\"shape\")\n",
    "print(array.shape)\n",
    "print(array_coluna.shape)\n",
    "print(array_fila.shape)"
   ]
  },
  {
   "cell_type": "code",
   "execution_count": null,
   "metadata": {},
   "outputs": [],
   "source": [
    "print(\"Dimensão\")\n",
    "print(array.ndim)\n",
    "print(array_coluna.ndim)\n",
    "print(array_fila.ndim)"
   ]
  },
  {
   "cell_type": "markdown",
   "metadata": {},
   "source": [
    "## Eliminando elementos, função delete"
   ]
  },
  {
   "cell_type": "code",
   "execution_count": null,
   "metadata": {},
   "outputs": [],
   "source": [
    "print(\"Arrey Original\")\n",
    "print(array1)\n",
    "print(\"-\"*15)\n",
    "print(\"Eliminando a primeira fila\")\n",
    "print(np.delete(array1, 0, 0)) # Eliminando a primeira fila\n",
    "print(\"-\"*15)\n",
    "print(\"Eliminando a primeira coluna\")\n",
    "print(np.delete(array1, 0, 1)) # Eliminando a primeira coluna"
   ]
  },
  {
   "cell_type": "markdown",
   "metadata": {},
   "source": [
    "## Adicionando elementos append e insert "
   ]
  },
  {
   "cell_type": "markdown",
   "metadata": {},
   "source": [
    "### append"
   ]
  },
  {
   "cell_type": "code",
   "execution_count": null,
   "metadata": {},
   "outputs": [],
   "source": [
    "print(\"Array original\")\n",
    "print(np.array(np.array([1, 2, 3])))\n",
    "print(\"Adicionando todos os elementos no final do array 1D\")\n",
    "np.append(array, [7, 8, 9])  # Adicionando todos os elementos no final do array 1D"
   ]
  },
  {
   "cell_type": "code",
   "execution_count": null,
   "metadata": {},
   "outputs": [],
   "source": [
    "print(\"Array original\")\n",
    "print(np.array([[1, 2, 3]]) )\n",
    "print(\"Adicionando os elementos como uma nova fila\")\n",
    "np.append(array, [[10, 20, 30]], axis=0) # Adicionando os elementos como uma nova fila"
   ]
  },
  {
   "cell_type": "code",
   "execution_count": null,
   "metadata": {},
   "outputs": [],
   "source": [
    "print(\"Array original\")\n",
    "print(np.array([[1, 2, 3]]))\n",
    "print(\"Adicionando os elementos como novas colunas\")\n",
    "np.append(array, [[10, 20, 30]], axis=1) # Adicionando os elementos como novas colunas"
   ]
  },
  {
   "cell_type": "markdown",
   "metadata": {},
   "source": [
    "### insert"
   ]
  },
  {
   "cell_type": "code",
   "execution_count": null,
   "metadata": {},
   "outputs": [],
   "source": [
    "print(\"Array original\")\n",
    "print(array1)\n",
    "print(\"-\"*15)\n",
    "print(\"Adicionando uma fila com o mesmo valor\")\n",
    "print(np.insert(array1, 0, 100, 0)) # Adicionando uma fila com o mesmo valor\n",
    "print(\"-\"*15)\n",
    "print(\"Adicionando uma coluna com o mesmo valor\")\n",
    "print(np.insert(array1, 0, 100, 1)) # Adicionando uma coluna com o mesmo valor\n",
    "print(\"-\"*15)"
   ]
  },
  {
   "cell_type": "code",
   "execution_count": null,
   "metadata": {},
   "outputs": [],
   "source": [
    "print(\"Array original\")\n",
    "print(array1)\n",
    "print(\"-\"*15)\n",
    "print(\"Adicionando uma fila com o mesmo valor\")\n",
    "print(np.insert(array1, 0, [100, 200, 300], 0)) # Adicionando uma fila com o mesmo valor\n",
    "print(\"-\"*15)\n",
    "print(\"Adicionando uma coluna com o mesmo valor\")\n",
    "print(np.insert(array1, 0,  [100, 200, 300], 1)) # Adicionando uma coluna com o mesmo valor\n",
    "print(\"-\"*15)"
   ]
  },
  {
   "cell_type": "markdown",
   "metadata": {},
   "source": [
    "### Modificando um unico elemento"
   ]
  },
  {
   "cell_type": "code",
   "execution_count": null,
   "metadata": {},
   "outputs": [],
   "source": [
    "print(\"Array original\")\n",
    "array1 = np.array([[1, 2, 3],\n",
    "                    [4, 5, 6],\n",
    "                    [7, 8, 9]])\n",
    "print(array1)\n",
    "print(\"Array modificado\")\n",
    "array1[1, 1] = 500\n",
    "print(array1)"
   ]
  },
  {
   "cell_type": "markdown",
   "metadata": {},
   "source": [
    "## Operações algebraicas\n",
    "Uma das vantagens dos numpy.ndarray é que as operações algebraicas estão definidas entre esse tipo de dados e dados do tipo numérico como float, int e complex. \n",
    "\n",
    "Lembrando que estas operações não estão definidas entre objetos do tipo lista"
   ]
  },
  {
   "cell_type": "code",
   "execution_count": null,
   "metadata": {},
   "outputs": [],
   "source": [
    "# Utilizando vetor de 1D\n",
    "array1 = np.array([1, 2, 3, 4, 5, 6, 7, 8, 9])\n",
    "print(\"-\"*15)\n",
    "print(f\"Soma: {array1 + 500}\")\n",
    "print(\"-\"*15)\n",
    "print(f\"Substração: {array1 - 500.5}\")\n",
    "print(\"-\"*15)\n",
    "print(f\"Multiplicação: {array1 * 1 + 0.5j}\")\n",
    "print(\"-\"*15)\n",
    "print(f\"Divisão: {array1 / 0.1}\")\n",
    "print(\"-\"*15)\n",
    "print(f\"Modulo: {array1 % 2}\")\n",
    "print(\"-\"*15)\n",
    "print(f\"Parte inteira: {array1 // 2}\")"
   ]
  },
  {
   "cell_type": "code",
   "execution_count": null,
   "metadata": {},
   "outputs": [],
   "source": [
    "# Utilizando matrix de 2D\n",
    "array1 = np.array([[1, 2, 3], [4, 5, 6], [7, 8, 9]])\n",
    "print(\"-\"*15)\n",
    "print(f\"Soma:\\n {array1 + 500}\")\n",
    "print(\"-\"*15)\n",
    "print(f\"Substração:\\n {array1 - 500.5}\")\n",
    "print(\"-\"*15)\n",
    "print(f\"Multiplicação:\\n {array1 * 1 + 0.5j}\")\n",
    "print(\"-\"*15)\n",
    "print(f\"Divisão:\\n {array1 / 0.1}\")\n",
    "print(\"-\"*15)\n",
    "print(f\"Modulo:\\n {array1 % 2}\")\n",
    "print(\"-\"*15)\n",
    "print(f\"Parte inteira:\\n {array1 // 2}\")"
   ]
  },
  {
   "cell_type": "code",
   "execution_count": null,
   "metadata": {},
   "outputs": [],
   "source": [
    "# Operações algebraicas entre vetores\n",
    "array1 = np.array([1, 2, 3, 4, 5, 6, 7, 8, 9])\n",
    "array2 = array1[::-1]\n",
    "print(f\"Array1 = {array1}\")\n",
    "print(f\"Array2 = {array2}\")\n",
    "print(f\"Soma: {array1 + array2}\")\n",
    "print(\"-\"*15)\n",
    "print(f\"Substração: {array1 - array2}\")\n",
    "print(\"-\"*15)\n",
    "print(f\"Multiplicação: {array1 * array2}\")\n",
    "print(\"-\"*15)\n",
    "print(f\"Divisão: {array1 / array2}\")\n",
    "print(\"-\"*15)\n",
    "print(f\"Modulo: {array1 % array2}\")\n",
    "print(\"-\"*15)\n",
    "print(f\"Parte interia: {array1 // array2}\")"
   ]
  },
  {
   "cell_type": "code",
   "execution_count": null,
   "metadata": {},
   "outputs": [],
   "source": [
    "# Operações algebraicas entre matrices\n",
    "array1 = np.array([[1, 2, 3], [4, 5, 6], [7, 8, 9]])\n",
    "array2 = array1.T\n",
    "print(f\"Array1 = \\n{array1}\")\n",
    "print(f\"Array2 = \\n{array2}\")\n",
    "print(f\"Soma: \\n{array1 + array2}\")\n",
    "print(\"-\"*15)\n",
    "print(f\"Substração: \\n{array1 - array2}\")\n",
    "print(\"-\"*15)\n",
    "print(f\"Multiplicação: \\n{array1 * array2}\")\n",
    "print(\"-\"*15)\n",
    "print(f\"Divisão: \\n{array1 / array2}\")\n",
    "print(\"-\"*15)\n",
    "print(f\"Modulo: \\n{array1 % array2}\")\n",
    "print(\"-\"*15)\n",
    "print(f\"Parte interia: \\n{array1 // array2}\")\n"
   ]
  }
 ],
 "metadata": {
  "@webio": {
   "lastCommId": null,
   "lastKernelId": null
  },
  "celltoolbar": "Raw Cell Format",
  "kernelspec": {
   "display_name": "Python 3",
   "language": "python",
   "name": "python3"
  },
  "language_info": {
   "codemirror_mode": {
    "name": "ipython",
    "version": 3
   },
   "file_extension": ".py",
   "mimetype": "text/x-python",
   "name": "python",
   "nbconvert_exporter": "python",
   "pygments_lexer": "ipython3",
   "version": "3.7.6"
  },
  "varInspector": {
   "cols": {
    "lenName": 16,
    "lenType": 16,
    "lenVar": 40
   },
   "kernels_config": {
    "python": {
     "delete_cmd_postfix": "",
     "delete_cmd_prefix": "del ",
     "library": "var_list.py",
     "varRefreshCmd": "print(var_dic_list())"
    },
    "r": {
     "delete_cmd_postfix": ") ",
     "delete_cmd_prefix": "rm(",
     "library": "var_list.r",
     "varRefreshCmd": "cat(var_dic_list()) "
    }
   },
   "position": {
    "height": "144.283px",
    "left": "1017px",
    "right": "20px",
    "top": "43px",
    "width": "350px"
   },
   "types_to_exclude": [
    "module",
    "function",
    "builtin_function_or_method",
    "instance",
    "_Feature"
   ],
   "window_display": true
  }
 },
 "nbformat": 4,
 "nbformat_minor": 4
}
