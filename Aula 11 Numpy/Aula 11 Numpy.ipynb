{
 "cells": [
  {
   "cell_type": "markdown",
   "metadata": {
    "raw_mimetype": "text/markdown"
   },
   "source": [
    "# Aula 11. NumPy\n",
    "\n",
    "NumPy é uma das bibliotecas mais poderosas da linguagem Python. Esta biblioteca trabalha com matrizes e arrays multidimensionais. Possui uma grande coleção de funções para realizar operações matemáticas com alta performance (como vimos na aula de comparação performática).\n",
    "\n",
    "- Esta biblioteca possui seus próprios tipos de dados os quais são do tipo `numpy.ndarray`;\n",
    "- Trabalhar com matrizes e vetores usando np.ndarrays é mais eficiente que utilizar objetos do tipo lista;\n",
    "- Numpy é utilizada amplamente para realizar:\n",
    "    - Computação quântica;\n",
    "    - Computação estatística; \n",
    "    - Processamento de sinal;\n",
    "    - Processamento de imagem;\n",
    "    - Visualização 3D;\n",
    "    - Computação simbólica;\n",
    "    - Processamento astronômico;\n",
    "    - BioInoformatica;\n",
    "    - Inferência Bayesiana;\n",
    "    - Análise matemática;\n",
    "    - Simulação e modelagem (Monte Carlo);\n",
    "    - Análise de multivariável;\n",
    "    - E infinidades de outras alternativas.\n",
    "- Recomendo (fortemente) visitar o site de [Numpy](https://numpy.org/) para conhecer mais sobre esta biblioteca.\n",
    "---\n",
    "O objetivo de hoje é apresentar os aspectos **mais básicos** desta biblioteca devido a que conta com grande variedades de funções e aplicações. Vamos nos concentrar em:\n",
    "- List vs Numpy;\n",
    "- Indexação e fatiamento Numpy;\n",
    "- Arrays fila e arrays coluna;\n",
    "- Eliminando elementos, função delete;\n",
    "- Adicionando elementos insert e append;\n",
    "- Operações algebraicas com arrays (+, -, *, /, //, %);\n",
    "- Cannivete NumPy:\n",
    " - arange;\n",
    " - linspace;\n",
    " - ones, zeros e eye;\n",
    " - Shape;\n",
    " - Size;\n",
    " - dimensão;\n",
    " - reshape;\n",
    " - asarray;\n",
    " - where;\n",
    "- Carregando dados com Numpy.\n"
   ]
  },
  {
   "cell_type": "markdown",
   "metadata": {},
   "source": [
    "## Listas vs Numpy"
   ]
  },
  {
   "cell_type": "code",
   "execution_count": 5,
   "metadata": {
    "ExecuteTime": {
     "end_time": "2020-09-02T12:11:01.970383Z",
     "start_time": "2020-09-02T12:11:01.961643Z"
    }
   },
   "outputs": [],
   "source": [
    "import numpy as np"
   ]
  },
  {
   "cell_type": "code",
   "execution_count": 6,
   "metadata": {
    "ExecuteTime": {
     "end_time": "2020-09-02T12:11:04.142211Z",
     "start_time": "2020-09-02T12:11:04.121907Z"
    }
   },
   "outputs": [
    {
     "data": {
      "text/plain": [
       "[[1, 2, 3], [4, 5, 6], [7, 8, 9]]"
      ]
     },
     "execution_count": 6,
     "metadata": {},
     "output_type": "execute_result"
    }
   ],
   "source": [
    "l1  = [[1, 2, 3],\n",
    "      [4, 5, 6],\n",
    "      [7, 8, 9]]\n",
    "l1"
   ]
  },
  {
   "cell_type": "code",
   "execution_count": 7,
   "metadata": {
    "ExecuteTime": {
     "end_time": "2020-09-02T12:11:17.830384Z",
     "start_time": "2020-09-02T12:11:17.825474Z"
    }
   },
   "outputs": [
    {
     "data": {
      "text/plain": [
       "[1, 2, 3]"
      ]
     },
     "execution_count": 7,
     "metadata": {},
     "output_type": "execute_result"
    }
   ],
   "source": [
    "# Acessando à primeira fila\n",
    "l1[0]"
   ]
  },
  {
   "cell_type": "code",
   "execution_count": 8,
   "metadata": {
    "ExecuteTime": {
     "end_time": "2020-09-02T12:11:26.844608Z",
     "start_time": "2020-09-02T12:11:26.827012Z"
    }
   },
   "outputs": [
    {
     "data": {
      "text/plain": [
       "[[1, 2, 3], [4, 5, 6], [7, 8, 9]]"
      ]
     },
     "execution_count": 8,
     "metadata": {},
     "output_type": "execute_result"
    }
   ],
   "source": [
    "# E para acessar à primeira coluna?\n",
    "l1[:]"
   ]
  },
  {
   "cell_type": "code",
   "execution_count": 9,
   "metadata": {
    "ExecuteTime": {
     "end_time": "2020-09-02T12:11:30.665930Z",
     "start_time": "2020-09-02T12:11:30.657579Z"
    }
   },
   "outputs": [
    {
     "data": {
      "text/plain": [
       "array([[1, 2, 3],\n",
       "       [4, 5, 6],\n",
       "       [7, 8, 9]])"
      ]
     },
     "execution_count": 9,
     "metadata": {},
     "output_type": "execute_result"
    }
   ],
   "source": [
    "array1  = np.array([[1, 2, 3],\n",
    "                    [4, 5, 6],\n",
    "                    [7, 8, 9]])\n",
    "array1"
   ]
  },
  {
   "cell_type": "code",
   "execution_count": 10,
   "metadata": {
    "ExecuteTime": {
     "end_time": "2020-09-02T12:12:05.943542Z",
     "start_time": "2020-09-02T12:12:05.934288Z"
    }
   },
   "outputs": [
    {
     "data": {
      "text/plain": [
       "array([1, 2, 3])"
      ]
     },
     "execution_count": 10,
     "metadata": {},
     "output_type": "execute_result"
    }
   ],
   "source": [
    "# Acessando à primeira fila\n",
    "array1[0,:]"
   ]
  },
  {
   "cell_type": "code",
   "execution_count": 13,
   "metadata": {
    "ExecuteTime": {
     "end_time": "2020-09-02T12:12:53.403008Z",
     "start_time": "2020-09-02T12:12:53.385966Z"
    }
   },
   "outputs": [
    {
     "data": {
      "text/plain": [
       "array([1, 4, 7])"
      ]
     },
     "execution_count": 13,
     "metadata": {},
     "output_type": "execute_result"
    }
   ],
   "source": [
    "array1[:, 0]"
   ]
  },
  {
   "cell_type": "code",
   "execution_count": 12,
   "metadata": {
    "ExecuteTime": {
     "end_time": "2020-09-02T12:12:33.808774Z",
     "start_time": "2020-09-02T12:12:33.792408Z"
    }
   },
   "outputs": [
    {
     "data": {
      "text/plain": [
       "array([3, 6, 9])"
      ]
     },
     "execution_count": 12,
     "metadata": {},
     "output_type": "execute_result"
    }
   ],
   "source": [
    "# Acessando à primeira coluna\n",
    "array1[:, -1]"
   ]
  },
  {
   "cell_type": "markdown",
   "metadata": {},
   "source": [
    "## Indexação e fatiamento\n",
    "\n",
    "Os Arrays se comportam da mesma forma que as listas (até certo ponto), a sua indexação inicia em 0 e vai até o último elemento representado por -1."
   ]
  },
  {
   "cell_type": "code",
   "execution_count": 14,
   "metadata": {
    "ExecuteTime": {
     "end_time": "2020-09-02T12:13:13.033253Z",
     "start_time": "2020-09-02T12:13:13.029175Z"
    }
   },
   "outputs": [],
   "source": [
    "array = np.array([0,1,2,3,4,5,6])"
   ]
  },
  {
   "cell_type": "code",
   "execution_count": 15,
   "metadata": {
    "ExecuteTime": {
     "end_time": "2020-09-02T12:13:25.529047Z",
     "start_time": "2020-09-02T12:13:25.513905Z"
    }
   },
   "outputs": [
    {
     "name": "stdout",
     "output_type": "stream",
     "text": [
      "[0 1 2 3 4 5 6]\n",
      "[0 1 2 3 4 5 6]\n",
      "0\n",
      "1\n",
      "6\n"
     ]
    }
   ],
   "source": [
    "print(array) # Imprimindo o array\n",
    "print(array[:]) # acessando ao todos os elementos\n",
    "print(array[0]) # acessando ao primer elemento\n",
    "print(array[1]) # acessando ao segundo elemento\n",
    "print(array[-1]) # acessando ao ultimo elemeto"
   ]
  },
  {
   "cell_type": "code",
   "execution_count": 18,
   "metadata": {
    "ExecuteTime": {
     "end_time": "2020-09-02T12:16:10.389321Z",
     "start_time": "2020-09-02T12:16:10.382170Z"
    }
   },
   "outputs": [
    {
     "name": "stdout",
     "output_type": "stream",
     "text": [
      "[1 2 3 4 5]\n",
      "[0 1 2]\n",
      "[1 2 3 4 5 6]\n",
      "[0 2 4 6]\n"
     ]
    }
   ],
   "source": [
    "print(array[1:-1]) # fatiando um array \n",
    "print(array[0:3]) # fatiando um array\n",
    "print(array[1:]) # fatiando um array\n",
    "print(array[0::2]) # fatiando um array com `step`\n",
    "# Observemos que o último é excluido"
   ]
  },
  {
   "cell_type": "markdown",
   "metadata": {},
   "source": [
    "Como seria o fatiamento de uma matriz?\n",
    "\n",
    "$$array =   \\left( \\begin{matrix} a & b \\\\ c & d \\end{matrix} \\right)$$\n",
    "$$array[:, 0] =   \\left( \\begin{matrix} a & c  \\end{matrix} \\right)$$\n",
    "$$array[0, :] =   \\left( \\begin{matrix} a & b  \\end{matrix} \\right)$$\n",
    "$$array[row, colum])$$"
   ]
  },
  {
   "cell_type": "code",
   "execution_count": 19,
   "metadata": {
    "ExecuteTime": {
     "end_time": "2020-09-02T12:18:01.188538Z",
     "start_time": "2020-09-02T12:18:01.175031Z"
    }
   },
   "outputs": [
    {
     "name": "stdout",
     "output_type": "stream",
     "text": [
      "Array original\n",
      "[[1 2 3]\n",
      " [4 5 6]\n",
      " [7 8 9]]\n"
     ]
    }
   ],
   "source": [
    "# Como seria o fatiamento com uma matriz?\n",
    "print(\"Array original\")\n",
    "print(array1[:]) # Toda a matriz"
   ]
  },
  {
   "cell_type": "code",
   "execution_count": 20,
   "metadata": {
    "ExecuteTime": {
     "end_time": "2020-09-02T12:18:08.276587Z",
     "start_time": "2020-09-02T12:18:08.254146Z"
    }
   },
   "outputs": [
    {
     "name": "stdout",
     "output_type": "stream",
     "text": [
      "Todos os elementos da primeira fila\n",
      "[1 2 3]\n",
      "[1 2 3]\n",
      "[1 2 3]\n"
     ]
    }
   ],
   "source": [
    "print(\"Todos os elementos da primeira fila\")\n",
    "print(array1[0, :]) # Todos os elementos da primeira fila\n",
    "print(array1[0])\n",
    "print(array1[0][:])"
   ]
  },
  {
   "cell_type": "code",
   "execution_count": 21,
   "metadata": {
    "ExecuteTime": {
     "end_time": "2020-09-02T12:19:43.554035Z",
     "start_time": "2020-09-02T12:19:43.528808Z"
    }
   },
   "outputs": [
    {
     "name": "stdout",
     "output_type": "stream",
     "text": [
      "Todos os elementos da última fila\n",
      "[7 8 9]\n",
      "[7 8 9]\n",
      "[7 8 9]\n"
     ]
    }
   ],
   "source": [
    "print(\"Todos os elementos da última fila\")\n",
    "print(array1[-1, :]) # Todos os elementos da última fila\n",
    "print(array1[-1][:]) \n",
    "print(array1[-1]) "
   ]
  },
  {
   "cell_type": "code",
   "execution_count": 22,
   "metadata": {
    "ExecuteTime": {
     "end_time": "2020-09-02T12:20:43.842349Z",
     "start_time": "2020-09-02T12:20:43.825861Z"
    }
   },
   "outputs": [
    {
     "name": "stdout",
     "output_type": "stream",
     "text": [
      "Todos os elementos da primeira coluna\n",
      "[1 4 7]\n",
      "[1 2 3]\n"
     ]
    }
   ],
   "source": [
    "print(\"Todos os elementos da primeira coluna\")\n",
    "print(array1[:, 0]) # Todos os elementos da primeira coluna\n",
    "print(array1[:][0]) # ?"
   ]
  },
  {
   "cell_type": "code",
   "execution_count": 25,
   "metadata": {
    "ExecuteTime": {
     "end_time": "2020-09-02T12:22:17.521746Z",
     "start_time": "2020-09-02T12:22:17.498690Z"
    }
   },
   "outputs": [
    {
     "data": {
      "text/plain": [
       "array([1, 2, 3])"
      ]
     },
     "execution_count": 25,
     "metadata": {},
     "output_type": "execute_result"
    }
   ],
   "source": [
    "array1[:][0]"
   ]
  },
  {
   "cell_type": "code",
   "execution_count": 26,
   "metadata": {
    "ExecuteTime": {
     "end_time": "2020-09-02T12:22:49.940723Z",
     "start_time": "2020-09-02T12:22:49.935731Z"
    }
   },
   "outputs": [
    {
     "name": "stdout",
     "output_type": "stream",
     "text": [
      "Todos os elementos da última coluna\n",
      "[3 6 9]\n"
     ]
    }
   ],
   "source": [
    "print(\"Todos os elementos da última coluna\")\n",
    "print(array1[:, -1]) # Todos os elementos da última coluna"
   ]
  },
  {
   "cell_type": "code",
   "execution_count": 27,
   "metadata": {
    "ExecuteTime": {
     "end_time": "2020-09-02T12:23:06.248998Z",
     "start_time": "2020-09-02T12:23:06.245085Z"
    }
   },
   "outputs": [
    {
     "name": "stdout",
     "output_type": "stream",
     "text": [
      "segundo elemento da segunda coluna\n",
      "5\n"
     ]
    }
   ],
   "source": [
    "print(\"segundo elemento da segunda coluna\")\n",
    "print(array1[1, 1]) # segundo elemento da segunda coluna"
   ]
  },
  {
   "cell_type": "markdown",
   "metadata": {},
   "source": [
    "## Array fila e array coluna\n",
    "\n",
    "Algumas IDEs podem mostrar os array coluna da mesma forma que um array vetor. Porém esses são objetos diferentes. Além disso, algumas operações matriciais precisam do vetor em configurado como uma fila e não como uma coluna."
   ]
  },
  {
   "cell_type": "code",
   "execution_count": 28,
   "metadata": {
    "ExecuteTime": {
     "end_time": "2020-09-02T12:23:49.135828Z",
     "start_time": "2020-09-02T12:23:49.121060Z"
    }
   },
   "outputs": [],
   "source": [
    "array = np.array([1, 2, 3])\n",
    "array_coluna = np.array([[1], [2], [3]])\n",
    "array_fila = np.array([[1, 2, 3]])"
   ]
  },
  {
   "cell_type": "code",
   "execution_count": 30,
   "metadata": {
    "ExecuteTime": {
     "end_time": "2020-09-02T12:24:43.698449Z",
     "start_time": "2020-09-02T12:24:43.680189Z"
    }
   },
   "outputs": [
    {
     "name": "stdout",
     "output_type": "stream",
     "text": [
      "[1 2 3]\n",
      "[[1]\n",
      " [2]\n",
      " [3]]\n",
      "[[1 2 3]]\n"
     ]
    }
   ],
   "source": [
    "print(array)\n",
    "print(array_coluna)\n",
    "print(array_fila)"
   ]
  },
  {
   "cell_type": "code",
   "execution_count": 31,
   "metadata": {
    "ExecuteTime": {
     "end_time": "2020-09-02T12:25:39.976391Z",
     "start_time": "2020-09-02T12:25:39.960200Z"
    }
   },
   "outputs": [
    {
     "name": "stdout",
     "output_type": "stream",
     "text": [
      "size\n",
      "3\n",
      "3\n",
      "3\n"
     ]
    }
   ],
   "source": [
    "print(\"size\")\n",
    "print(array.size)\n",
    "print(array_coluna.size)\n",
    "print(array_fila.size)"
   ]
  },
  {
   "cell_type": "code",
   "execution_count": 32,
   "metadata": {
    "ExecuteTime": {
     "end_time": "2020-09-02T12:25:42.523308Z",
     "start_time": "2020-09-02T12:25:42.515761Z"
    }
   },
   "outputs": [
    {
     "name": "stdout",
     "output_type": "stream",
     "text": [
      "shape\n",
      "(3,)\n",
      "(3, 1)\n",
      "(1, 3)\n"
     ]
    }
   ],
   "source": [
    "print(\"shape\")\n",
    "print(array.shape)\n",
    "print(array_coluna.shape)\n",
    "print(array_fila.shape)"
   ]
  },
  {
   "cell_type": "code",
   "execution_count": 33,
   "metadata": {
    "ExecuteTime": {
     "end_time": "2020-09-02T12:25:47.313494Z",
     "start_time": "2020-09-02T12:25:47.293957Z"
    }
   },
   "outputs": [
    {
     "name": "stdout",
     "output_type": "stream",
     "text": [
      "Dimensão\n",
      "1\n",
      "2\n",
      "2\n"
     ]
    }
   ],
   "source": [
    "print(\"Dimensão\")\n",
    "print(array.ndim)\n",
    "print(array_coluna.ndim)\n",
    "print(array_fila.ndim)"
   ]
  },
  {
   "cell_type": "markdown",
   "metadata": {},
   "source": [
    "## Eliminando elementos, função delete"
   ]
  },
  {
   "cell_type": "code",
   "execution_count": 34,
   "metadata": {
    "ExecuteTime": {
     "end_time": "2020-09-02T12:33:27.316918Z",
     "start_time": "2020-09-02T12:33:27.307338Z"
    }
   },
   "outputs": [
    {
     "name": "stdout",
     "output_type": "stream",
     "text": [
      "Arrey Original\n",
      "[[1 2 3]\n",
      " [4 5 6]\n",
      " [7 8 9]]\n",
      "---------------\n",
      "Eliminando a primeira fila\n",
      "[[4 5 6]\n",
      " [7 8 9]]\n",
      "---------------\n",
      "Eliminando a primeira coluna\n",
      "[[2 3]\n",
      " [5 6]\n",
      " [8 9]]\n"
     ]
    }
   ],
   "source": [
    "print(\"Arrey Original\")\n",
    "print(array1)\n",
    "print(\"-\"*15)\n",
    "print(\"Eliminando a primeira fila\")\n",
    "print(np.delete(array1, 0, 0)) # Eliminando a primeira fila\n",
    "print(\"-\"*15)\n",
    "print(\"Eliminando a primeira coluna\")\n",
    "print(np.delete(array1, 0, 1)) # Eliminando a primeira coluna"
   ]
  },
  {
   "cell_type": "markdown",
   "metadata": {},
   "source": [
    "## Adicionando elementos append e insert "
   ]
  },
  {
   "cell_type": "markdown",
   "metadata": {},
   "source": [
    "### append"
   ]
  },
  {
   "cell_type": "code",
   "execution_count": 40,
   "metadata": {
    "ExecuteTime": {
     "end_time": "2020-09-02T12:39:03.321417Z",
     "start_time": "2020-09-02T12:39:03.312043Z"
    }
   },
   "outputs": [
    {
     "name": "stdout",
     "output_type": "stream",
     "text": [
      "Array original\n",
      "[1 2 3]\n",
      "Adicionando todos os elementos no final do array 1D\n"
     ]
    },
    {
     "data": {
      "text/plain": [
       "array([1, 2, 3, 7, 8, 9])"
      ]
     },
     "execution_count": 40,
     "metadata": {},
     "output_type": "execute_result"
    }
   ],
   "source": [
    "print(\"Array original\")\n",
    "print(np.array(np.array([1, 2, 3])))\n",
    "print(\"Adicionando todos os elementos no final do array 1D\")\n",
    "np.append(array, [7,8,9])  # Adicionando todos os elementos no final do array 1D"
   ]
  },
  {
   "cell_type": "code",
   "execution_count": 45,
   "metadata": {
    "ExecuteTime": {
     "end_time": "2020-09-02T12:40:10.670308Z",
     "start_time": "2020-09-02T12:40:10.660250Z"
    }
   },
   "outputs": [
    {
     "data": {
      "text/plain": [
       "array([1, 2, 3])"
      ]
     },
     "execution_count": 45,
     "metadata": {},
     "output_type": "execute_result"
    }
   ],
   "source": [
    "array"
   ]
  },
  {
   "cell_type": "code",
   "execution_count": 47,
   "metadata": {
    "ExecuteTime": {
     "end_time": "2020-09-02T12:40:55.730209Z",
     "start_time": "2020-09-02T12:40:55.712536Z"
    }
   },
   "outputs": [
    {
     "name": "stdout",
     "output_type": "stream",
     "text": [
      "Array original\n",
      "[[1 2 3]]\n",
      "Adicionando os elementos como uma nova fila\n"
     ]
    },
    {
     "data": {
      "text/plain": [
       "array([[ 1,  2,  3],\n",
       "       [10, 20, 30]])"
      ]
     },
     "execution_count": 47,
     "metadata": {},
     "output_type": "execute_result"
    }
   ],
   "source": [
    "print(\"Array original\")\n",
    "print(np.array([[1, 2, 3]]) )\n",
    "print(\"Adicionando os elementos como uma nova fila\")\n",
    "np.append(np.array([[1, 2, 3]]), [[10, 20, 30]], axis=0) # Adicionando os elementos como uma nova fila"
   ]
  },
  {
   "cell_type": "code",
   "execution_count": 55,
   "metadata": {
    "ExecuteTime": {
     "end_time": "2020-09-02T12:45:57.597533Z",
     "start_time": "2020-09-02T12:45:57.578144Z"
    }
   },
   "outputs": [
    {
     "name": "stdout",
     "output_type": "stream",
     "text": [
      "Array original\n",
      "[[1 2 3]]\n",
      "Adicionando os elementos como novas colunas\n"
     ]
    },
    {
     "data": {
      "text/plain": [
       "array([[ 1,  2,  3, 10, 20, 30]])"
      ]
     },
     "execution_count": 55,
     "metadata": {},
     "output_type": "execute_result"
    }
   ],
   "source": [
    "print(\"Array original\")\n",
    "print(np.array([[1, 2, 3]]))\n",
    "print(\"Adicionando os elementos como novas colunas\")\n",
    "np.append(np.array([[1, 2, 3]]), [[10, 20, 30]], axis=1) # Adicionando os elementos como novas colunas"
   ]
  },
  {
   "cell_type": "code",
   "execution_count": 51,
   "metadata": {
    "ExecuteTime": {
     "end_time": "2020-09-02T12:42:30.669709Z",
     "start_time": "2020-09-02T12:42:30.664112Z"
    }
   },
   "outputs": [
    {
     "data": {
      "text/plain": [
       "(1, 3)"
      ]
     },
     "execution_count": 51,
     "metadata": {},
     "output_type": "execute_result"
    }
   ],
   "source": [
    "np.array([[1, 2, 3]]).shape"
   ]
  },
  {
   "cell_type": "markdown",
   "metadata": {},
   "source": [
    "### insert"
   ]
  },
  {
   "cell_type": "code",
   "execution_count": 56,
   "metadata": {
    "ExecuteTime": {
     "end_time": "2020-09-02T12:46:33.149864Z",
     "start_time": "2020-09-02T12:46:33.119601Z"
    }
   },
   "outputs": [
    {
     "name": "stdout",
     "output_type": "stream",
     "text": [
      "Array original\n",
      "[[1 2 3]\n",
      " [4 5 6]\n",
      " [7 8 9]]\n",
      "---------------\n",
      "Adicionando uma fila com o mesmo valor\n",
      "[[100 100 100]\n",
      " [  1   2   3]\n",
      " [  4   5   6]\n",
      " [  7   8   9]]\n",
      "---------------\n",
      "Adicionando uma coluna com o mesmo valor\n",
      "[[100   1   2   3]\n",
      " [100   4   5   6]\n",
      " [100   7   8   9]]\n",
      "---------------\n"
     ]
    }
   ],
   "source": [
    "print(\"Array original\")\n",
    "print(array1)\n",
    "print(\"-\"*15)\n",
    "print(\"Adicionando uma fila com o mesmo valor\")\n",
    "print(np.insert(array1, 0, 100, 0)) # Adicionando uma fila com o mesmo valor\n",
    "print(\"-\"*15)\n",
    "print(\"Adicionando uma coluna com o mesmo valor\")\n",
    "print(np.insert(array1, 0, 100, 1)) # Adicionando uma coluna com o mesmo valor\n",
    "print(\"-\"*15)"
   ]
  },
  {
   "cell_type": "code",
   "execution_count": 57,
   "metadata": {
    "ExecuteTime": {
     "end_time": "2020-09-02T12:47:18.363286Z",
     "start_time": "2020-09-02T12:47:18.326978Z"
    }
   },
   "outputs": [
    {
     "name": "stdout",
     "output_type": "stream",
     "text": [
      "Array original\n",
      "[[1 2 3]\n",
      " [4 5 6]\n",
      " [7 8 9]]\n",
      "---------------\n",
      "Adicionando uma fila com o mesmo valor\n",
      "[[100 200 300]\n",
      " [  1   2   3]\n",
      " [  4   5   6]\n",
      " [  7   8   9]]\n",
      "---------------\n",
      "Adicionando uma coluna com o mesmo valor\n",
      "[[100   1   2   3]\n",
      " [200   4   5   6]\n",
      " [300   7   8   9]]\n",
      "---------------\n"
     ]
    }
   ],
   "source": [
    "print(\"Array original\")\n",
    "print(array1)\n",
    "print(\"-\"*15)\n",
    "print(\"Adicionando uma fila com o mesmo valor\")\n",
    "print(np.insert(array1, 0, [100, 200, 300], 0)) # Adicionando uma fila com o mesmo valor\n",
    "print(\"-\"*15)\n",
    "print(\"Adicionando uma coluna com o mesmo valor\")\n",
    "print(np.insert(array1, 0,  [100, 200, 300], 1)) # Adicionando uma coluna com o mesmo valor\n",
    "print(\"-\"*15)"
   ]
  },
  {
   "cell_type": "markdown",
   "metadata": {},
   "source": [
    "### Modificando um unico elemento"
   ]
  },
  {
   "cell_type": "code",
   "execution_count": 58,
   "metadata": {
    "ExecuteTime": {
     "end_time": "2020-09-02T12:48:32.850947Z",
     "start_time": "2020-09-02T12:48:32.814804Z"
    }
   },
   "outputs": [
    {
     "name": "stdout",
     "output_type": "stream",
     "text": [
      "Array original\n",
      "[[1 2 3]\n",
      " [4 5 6]\n",
      " [7 8 9]]\n",
      "Array modificado\n",
      "[[  1   2   3]\n",
      " [  4 500   6]\n",
      " [  7   8   9]]\n"
     ]
    }
   ],
   "source": [
    "print(\"Array original\")\n",
    "array1 = np.array([[1, 2, 3],\n",
    "                    [4, 5, 6],\n",
    "                    [7, 8, 9]])\n",
    "print(array1)\n",
    "print(\"Array modificado\")\n",
    "array1[1, 1] = 500\n",
    "print(array1)"
   ]
  },
  {
   "cell_type": "code",
   "execution_count": 62,
   "metadata": {
    "ExecuteTime": {
     "end_time": "2020-09-02T12:50:54.574254Z",
     "start_time": "2020-09-02T12:50:54.557561Z"
    }
   },
   "outputs": [
    {
     "data": {
      "text/plain": [
       "array([[1001, 1002, 1003],\n",
       "       [1004, 1500, 1006],\n",
       "       [1007, 1008, 1009]])"
      ]
     },
     "execution_count": 62,
     "metadata": {},
     "output_type": "execute_result"
    }
   ],
   "source": [
    "\n",
    "array1 + 1000"
   ]
  },
  {
   "cell_type": "markdown",
   "metadata": {},
   "source": [
    "## Operações algebraicas\n",
    "Uma das vantagens dos numpy.ndarray é que as operações algebraicas estão definidas entre esse tipo de dados e dados do tipo numérico como float, int e complex. \n",
    "\n",
    "Lembrando que estas operações não estão definidas entre objetos do tipo lista"
   ]
  },
  {
   "cell_type": "code",
   "execution_count": 63,
   "metadata": {
    "ExecuteTime": {
     "end_time": "2020-09-02T12:51:09.330654Z",
     "start_time": "2020-09-02T12:51:09.317672Z"
    }
   },
   "outputs": [
    {
     "name": "stdout",
     "output_type": "stream",
     "text": [
      "---------------\n",
      "Soma: [501 502 503 504 505 506 507 508 509]\n",
      "---------------\n",
      "Substração: [-499.5 -498.5 -497.5 -496.5 -495.5 -494.5 -493.5 -492.5 -491.5]\n",
      "---------------\n",
      "Multiplicação: [1.+0.5j 2.+0.5j 3.+0.5j 4.+0.5j 5.+0.5j 6.+0.5j 7.+0.5j 8.+0.5j 9.+0.5j]\n",
      "---------------\n",
      "Divisão: [10. 20. 30. 40. 50. 60. 70. 80. 90.]\n",
      "---------------\n",
      "Modulo: [1 0 1 0 1 0 1 0 1]\n",
      "---------------\n",
      "Parte inteira: [0 1 1 2 2 3 3 4 4]\n"
     ]
    }
   ],
   "source": [
    "# Utilizando vetor de 1D\n",
    "array1 = np.array([1, 2, 3, 4, 5, 6, 7, 8, 9])\n",
    "print(\"-\"*15)\n",
    "print(f\"Soma: {array1 + 500}\")\n",
    "print(\"-\"*15)\n",
    "print(f\"Substração: {array1 - 500.5}\")\n",
    "print(\"-\"*15)\n",
    "print(f\"Multiplicação: {array1 * 1 + 0.5j}\")\n",
    "print(\"-\"*15)\n",
    "print(f\"Divisão: {array1 / 0.1}\")\n",
    "print(\"-\"*15)\n",
    "print(f\"Modulo: {array1 % 2}\")\n",
    "print(\"-\"*15)\n",
    "print(f\"Parte inteira: {array1 // 2}\")"
   ]
  },
  {
   "cell_type": "code",
   "execution_count": 64,
   "metadata": {
    "ExecuteTime": {
     "end_time": "2020-09-02T12:52:49.865189Z",
     "start_time": "2020-09-02T12:52:49.853560Z"
    }
   },
   "outputs": [
    {
     "name": "stdout",
     "output_type": "stream",
     "text": [
      "---------------\n",
      "Soma:\n",
      " [[501 502 503]\n",
      " [504 505 506]\n",
      " [507 508 509]]\n",
      "---------------\n",
      "Substração:\n",
      " [[-499.5 -498.5 -497.5]\n",
      " [-496.5 -495.5 -494.5]\n",
      " [-493.5 -492.5 -491.5]]\n",
      "---------------\n",
      "Multiplicação:\n",
      " [[1.+0.5j 2.+0.5j 3.+0.5j]\n",
      " [4.+0.5j 5.+0.5j 6.+0.5j]\n",
      " [7.+0.5j 8.+0.5j 9.+0.5j]]\n",
      "---------------\n",
      "Divisão:\n",
      " [[10. 20. 30.]\n",
      " [40. 50. 60.]\n",
      " [70. 80. 90.]]\n",
      "---------------\n",
      "Modulo:\n",
      " [[1 0 1]\n",
      " [0 1 0]\n",
      " [1 0 1]]\n",
      "---------------\n",
      "Parte inteira:\n",
      " [[0 1 1]\n",
      " [2 2 3]\n",
      " [3 4 4]]\n"
     ]
    }
   ],
   "source": [
    "# Utilizando matrix de 2D\n",
    "array1 = np.array([[1, 2, 3], [4, 5, 6], [7, 8, 9]])\n",
    "print(\"-\"*15)\n",
    "print(f\"Soma:\\n {array1 + 500}\")\n",
    "print(\"-\"*15)\n",
    "print(f\"Substração:\\n {array1 - 500.5}\")\n",
    "print(\"-\"*15)\n",
    "print(f\"Multiplicação:\\n {array1 * 1 + 0.5j}\")\n",
    "print(\"-\"*15)\n",
    "print(f\"Divisão:\\n {array1 / 0.1}\")\n",
    "print(\"-\"*15)\n",
    "print(f\"Modulo:\\n {array1 % 2}\")\n",
    "print(\"-\"*15)\n",
    "print(f\"Parte inteira:\\n {array1 // 2}\")"
   ]
  },
  {
   "cell_type": "code",
   "execution_count": 67,
   "metadata": {
    "ExecuteTime": {
     "end_time": "2020-09-02T12:54:11.268295Z",
     "start_time": "2020-09-02T12:54:11.255535Z"
    }
   },
   "outputs": [
    {
     "name": "stdout",
     "output_type": "stream",
     "text": [
      "Array1 = [1 2 3 4 5 6 7 8 9]\n",
      "Array2 = [9 8 7 6 5 4 3 2 1]\n",
      "Soma: [10 10 10 10 10 10 10 10 10]\n",
      "---------------\n",
      "Substração: [-8 -6 -4 -2  0  2  4  6  8]\n",
      "---------------\n",
      "Multiplicação: [ 9 16 21 24 25 24 21 16  9]\n",
      "---------------\n",
      "Divisão: [0.11111111 0.25       0.42857143 0.66666667 1.         1.5\n",
      " 2.33333333 4.         9.        ]\n",
      "---------------\n",
      "Modulo: [1 2 3 4 0 2 1 0 0]\n",
      "---------------\n",
      "Parte interia: [0 0 0 0 1 1 2 4 9]\n"
     ]
    }
   ],
   "source": [
    "# Operações algebraicas entre vetores\n",
    "array1 = np.array([1, 2, 3, 4, 5, 6, 7, 8, 9])\n",
    "array2 = array1[::-1]\n",
    "print(f\"Array1 = {array1}\")\n",
    "print(f\"Array2 = {array2}\")\n",
    "print(f\"Soma: {array1 + array2}\")\n",
    "print(\"-\"*15)\n",
    "print(f\"Substração: {array1 - array2}\")\n",
    "print(\"-\"*15)\n",
    "print(f\"Multiplicação: {array1 * array2}\")\n",
    "print(\"-\"*15)\n",
    "print(f\"Divisão: {array1 / array2}\")\n",
    "print(\"-\"*15)\n",
    "print(f\"Modulo: {array1 % array2}\")\n",
    "print(\"-\"*15)\n",
    "print(f\"Parte interia: {array1 // array2}\")"
   ]
  },
  {
   "cell_type": "code",
   "execution_count": 68,
   "metadata": {
    "ExecuteTime": {
     "end_time": "2020-09-02T12:55:00.755504Z",
     "start_time": "2020-09-02T12:55:00.721874Z"
    }
   },
   "outputs": [
    {
     "name": "stdout",
     "output_type": "stream",
     "text": [
      "Array1 = \n",
      "[[1 2 3]\n",
      " [4 5 6]\n",
      " [7 8 9]]\n",
      "Array2 = \n",
      "[[1 4 7]\n",
      " [2 5 8]\n",
      " [3 6 9]]\n",
      "Soma: \n",
      "[[ 2  6 10]\n",
      " [ 6 10 14]\n",
      " [10 14 18]]\n",
      "---------------\n",
      "Substração: \n",
      "[[ 0 -2 -4]\n",
      " [ 2  0 -2]\n",
      " [ 4  2  0]]\n",
      "---------------\n",
      "Multiplicação: \n",
      "[[ 1  8 21]\n",
      " [ 8 25 48]\n",
      " [21 48 81]]\n",
      "---------------\n",
      "Divisão: \n",
      "[[1.         0.5        0.42857143]\n",
      " [2.         1.         0.75      ]\n",
      " [2.33333333 1.33333333 1.        ]]\n",
      "---------------\n",
      "Modulo: \n",
      "[[0 2 3]\n",
      " [0 0 6]\n",
      " [1 2 0]]\n",
      "---------------\n",
      "Parte interia: \n",
      "[[1 0 0]\n",
      " [2 1 0]\n",
      " [2 1 1]]\n"
     ]
    }
   ],
   "source": [
    "# Operações algebraicas entre matrices\n",
    "array1 = np.array([[1, 2, 3], [4, 5, 6], [7, 8, 9]])\n",
    "array2 = array1.T\n",
    "print(f\"Array1 = \\n{array1}\")\n",
    "print(f\"Array2 = \\n{array2}\")\n",
    "print(f\"Soma: \\n{array1 + array2}\")\n",
    "print(\"-\"*15)\n",
    "print(f\"Substração: \\n{array1 - array2}\")\n",
    "print(\"-\"*15)\n",
    "print(f\"Multiplicação: \\n{array1 * array2}\")\n",
    "print(\"-\"*15)\n",
    "print(f\"Divisão: \\n{array1 / array2}\")\n",
    "print(\"-\"*15)\n",
    "print(f\"Modulo: \\n{array1 % array2}\")\n",
    "print(\"-\"*15)\n",
    "print(f\"Parte interia: \\n{array1 // array2}\")"
   ]
  },
  {
   "cell_type": "markdown",
   "metadata": {},
   "source": [
    "## Cannivete Numpy"
   ]
  },
  {
   "cell_type": "markdown",
   "metadata": {},
   "source": [
    "### Array arange()\n",
    "\n",
    "Função para criar um array de `n` elementos.\n",
    "\n",
    "numpy.arange([start, ]stop, [step, ]dtype=None)"
   ]
  },
  {
   "cell_type": "code",
   "execution_count": null,
   "metadata": {},
   "outputs": [],
   "source": [
    "arange = np.arange(0, 5)\n",
    "print(arange)"
   ]
  },
  {
   "cell_type": "code",
   "execution_count": null,
   "metadata": {},
   "outputs": [],
   "source": [
    "arange = np.arange(start=0, stop=5, step=1)\n",
    "print(arange)"
   ]
  },
  {
   "cell_type": "code",
   "execution_count": null,
   "metadata": {},
   "outputs": [],
   "source": [
    "arange = np.arange(start=0, stop=5, step=0.5)\n",
    "print(arange)"
   ]
  },
  {
   "cell_type": "code",
   "execution_count": null,
   "metadata": {},
   "outputs": [],
   "source": [
    "arange =np.arange(start=1, stop=100, step=0.05362)\n",
    "print(arange)"
   ]
  },
  {
   "cell_type": "markdown",
   "metadata": {},
   "source": [
    "### linspace()\n",
    "A funcionalidade é muito parecida com np.arange(), porém, está função garante sempre o mesmo espaçamento entre os pontos e o ultimo ponto é inclusivo.\n",
    "\n",
    " numpy.linspace(start, stop, num=50, endpoint=True, retstep=False, dtype=None, axis=0)[source]"
   ]
  },
  {
   "cell_type": "code",
   "execution_count": null,
   "metadata": {},
   "outputs": [],
   "source": [
    "linspace = np.linspace(start=1, stop=5, num=5)\n",
    "print(linspace)"
   ]
  },
  {
   "cell_type": "code",
   "execution_count": null,
   "metadata": {},
   "outputs": [],
   "source": [
    "linspace = np.linspace(start=1, stop=100, num=50)\n",
    "print(linspace)"
   ]
  },
  {
   "cell_type": "code",
   "execution_count": 3,
   "metadata": {
    "ExecuteTime": {
     "end_time": "2020-09-02T11:56:25.910234Z",
     "start_time": "2020-09-02T11:56:25.824165Z"
    }
   },
   "outputs": [
    {
     "ename": "NameError",
     "evalue": "name 'linspace' is not defined",
     "output_type": "error",
     "traceback": [
      "\u001b[0;31m---------------------------------------------------------------------------\u001b[0m",
      "\u001b[0;31mNameError\u001b[0m                                 Traceback (most recent call last)",
      "\u001b[0;32m<ipython-input-3-32690ba23dbe>\u001b[0m in \u001b[0;36m<module>\u001b[0;34m\u001b[0m\n\u001b[0;32m----> 1\u001b[0;31m \u001b[0;34m[\u001b[0m\u001b[0mlinspace\u001b[0m\u001b[0;34m[\u001b[0m\u001b[0mi\u001b[0m\u001b[0;34m+\u001b[0m\u001b[0;36m1\u001b[0m\u001b[0;34m]\u001b[0m \u001b[0;34m-\u001b[0m \u001b[0mlinspace\u001b[0m\u001b[0;34m[\u001b[0m\u001b[0mi\u001b[0m\u001b[0;34m]\u001b[0m \u001b[0;32mfor\u001b[0m \u001b[0mi\u001b[0m \u001b[0;32min\u001b[0m \u001b[0mrange\u001b[0m\u001b[0;34m(\u001b[0m\u001b[0mlen\u001b[0m\u001b[0;34m(\u001b[0m\u001b[0mlinspace\u001b[0m\u001b[0;34m)\u001b[0m\u001b[0;34m-\u001b[0m\u001b[0;36m1\u001b[0m\u001b[0;34m)\u001b[0m\u001b[0;34m]\u001b[0m\u001b[0;34m\u001b[0m\u001b[0;34m\u001b[0m\u001b[0m\n\u001b[0m",
      "\u001b[0;31mNameError\u001b[0m: name 'linspace' is not defined"
     ]
    }
   ],
   "source": [
    "[linspace[i+1] - linspace[i] for i in range(len(linspace)-1)]"
   ]
  },
  {
   "cell_type": "markdown",
   "metadata": {},
   "source": [
    "**Cuidado com os espaçamento ao se utilizar np.arange() e np.linspace()**"
   ]
  },
  {
   "cell_type": "markdown",
   "metadata": {},
   "source": [
    "### ones, zeros e eye\n",
    "\n",
    "Numpy possui algumas funções para a criação de array de forma automática preenchidos com alguns valores. Este é o caso das funções `ones`, `zeros` e `aye`, as quais retornar array preenchidas com valores de 1, 0 e array com diagonal de 1.\n",
    "```python\n",
    "numpy.ones(shape, dtype=None, order='C')\n",
    "\n",
    "numpy.zeros(shape, dtype=float, order='C')\n",
    "\n",
    "numpy.eye(N, M=None, k=0, dtype=<class 'float'>, order='C')\n",
    "```"
   ]
  },
  {
   "cell_type": "code",
   "execution_count": null,
   "metadata": {},
   "outputs": [],
   "source": [
    "np.ones(shape=(10,))"
   ]
  },
  {
   "cell_type": "code",
   "execution_count": null,
   "metadata": {},
   "outputs": [],
   "source": [
    "np.ones(shape=(10,1))"
   ]
  },
  {
   "cell_type": "code",
   "execution_count": null,
   "metadata": {},
   "outputs": [],
   "source": [
    "np.ones(shape=(1, 10))"
   ]
  },
  {
   "cell_type": "code",
   "execution_count": null,
   "metadata": {},
   "outputs": [],
   "source": [
    "np.ones(shape=(10,10))"
   ]
  },
  {
   "cell_type": "code",
   "execution_count": null,
   "metadata": {},
   "outputs": [],
   "source": [
    "np.zeros(shape=(10, 10), dtype=float)"
   ]
  },
  {
   "cell_type": "code",
   "execution_count": 70,
   "metadata": {
    "ExecuteTime": {
     "end_time": "2020-09-02T12:58:09.737095Z",
     "start_time": "2020-09-02T12:58:09.731649Z"
    }
   },
   "outputs": [
    {
     "data": {
      "text/plain": [
       "array([[1., 0., 0., 0., 0., 0., 0., 0., 0., 0.],\n",
       "       [0., 1., 0., 0., 0., 0., 0., 0., 0., 0.],\n",
       "       [0., 0., 1., 0., 0., 0., 0., 0., 0., 0.],\n",
       "       [0., 0., 0., 1., 0., 0., 0., 0., 0., 0.],\n",
       "       [0., 0., 0., 0., 1., 0., 0., 0., 0., 0.],\n",
       "       [0., 0., 0., 0., 0., 1., 0., 0., 0., 0.],\n",
       "       [0., 0., 0., 0., 0., 0., 1., 0., 0., 0.],\n",
       "       [0., 0., 0., 0., 0., 0., 0., 1., 0., 0.],\n",
       "       [0., 0., 0., 0., 0., 0., 0., 0., 1., 0.],\n",
       "       [0., 0., 0., 0., 0., 0., 0., 0., 0., 1.]])"
      ]
     },
     "execution_count": 70,
     "metadata": {},
     "output_type": "execute_result"
    }
   ],
   "source": [
    "np.eye(10)"
   ]
  },
  {
   "cell_type": "code",
   "execution_count": 69,
   "metadata": {
    "ExecuteTime": {
     "end_time": "2020-09-02T12:58:06.944857Z",
     "start_time": "2020-09-02T12:58:06.938993Z"
    }
   },
   "outputs": [
    {
     "data": {
      "text/plain": [
       "array([[1., 0., 0., 0., 0.],\n",
       "       [0., 1., 0., 0., 0.],\n",
       "       [0., 0., 1., 0., 0.],\n",
       "       [0., 0., 0., 1., 0.],\n",
       "       [0., 0., 0., 0., 1.],\n",
       "       [0., 0., 0., 0., 0.],\n",
       "       [0., 0., 0., 0., 0.],\n",
       "       [0., 0., 0., 0., 0.],\n",
       "       [0., 0., 0., 0., 0.],\n",
       "       [0., 0., 0., 0., 0.]])"
      ]
     },
     "execution_count": 69,
     "metadata": {},
     "output_type": "execute_result"
    }
   ],
   "source": [
    "np.eye(10,5)"
   ]
  },
  {
   "cell_type": "code",
   "execution_count": null,
   "metadata": {},
   "outputs": [],
   "source": [
    "np.eye(10,10, k=2)"
   ]
  },
  {
   "cell_type": "markdown",
   "metadata": {},
   "source": [
    "### Shape()\n",
    "\n",
    "Retorna a ***configuração*** de um array"
   ]
  },
  {
   "cell_type": "code",
   "execution_count": null,
   "metadata": {},
   "outputs": [],
   "source": [
    "ones = np.ones((5,5))\n",
    "print(ones)\n",
    "np.shape(ones)"
   ]
  },
  {
   "cell_type": "code",
   "execution_count": null,
   "metadata": {},
   "outputs": [],
   "source": [
    "ones = np.ones((5, 1))\n",
    "print(ones)\n",
    "np.shape(ones)"
   ]
  },
  {
   "cell_type": "code",
   "execution_count": null,
   "metadata": {},
   "outputs": [],
   "source": [
    "ones = np.ones((1,5)) \n",
    "print(ones)\n",
    "np.shape(ones)"
   ]
  },
  {
   "cell_type": "code",
   "execution_count": null,
   "metadata": {},
   "outputs": [],
   "source": [
    "ones = np.ones(15) \n",
    "print(ones)\n",
    "np.shape(ones)"
   ]
  },
  {
   "cell_type": "markdown",
   "metadata": {},
   "source": [
    "Algumas objetos de numpy (e de outras bibliotecas) tem metodos definidos, e o shape é um deles. Isto quer dizer que podemos fazer `np.shape(ones)` ou `ones.shape` e o resultado vai ser o mesmo."
   ]
  },
  {
   "cell_type": "code",
   "execution_count": null,
   "metadata": {},
   "outputs": [],
   "source": [
    "ones.shape"
   ]
  },
  {
   "cell_type": "markdown",
   "metadata": {},
   "source": [
    "### reshape()\n",
    "\n",
    "Esta função reconfigura um array. Deve-se ter cuidado pois nem sempre é possível realizar a configuração, isto vai depender da forma do array original.\n",
    "```python\n",
    "numpy.reshape(a, newshape, order='C')\n",
    "```"
   ]
  },
  {
   "cell_type": "code",
   "execution_count": null,
   "metadata": {},
   "outputs": [],
   "source": [
    "array_original = np.arange(1, 17)\n",
    "print(array_original)"
   ]
  },
  {
   "cell_type": "code",
   "execution_count": null,
   "metadata": {},
   "outputs": [],
   "source": [
    "print(\"Modificando o array para (1, 16)\")\n",
    "print(array_original.reshape(1,16))"
   ]
  },
  {
   "cell_type": "code",
   "execution_count": null,
   "metadata": {},
   "outputs": [],
   "source": [
    "print(\"Modificando o array para (16, 1)\")\n",
    "print(array_original.reshape(16,1))"
   ]
  },
  {
   "cell_type": "code",
   "execution_count": null,
   "metadata": {},
   "outputs": [],
   "source": [
    "print(\"Modificando o array para (4, 4)\")\n",
    "print(array_original.reshape(4,4))"
   ]
  },
  {
   "cell_type": "code",
   "execution_count": null,
   "metadata": {},
   "outputs": [],
   "source": [
    "print(\"Modificando o array para (2, 8)\")\n",
    "print(array_original.reshape(2,8))"
   ]
  },
  {
   "cell_type": "code",
   "execution_count": null,
   "metadata": {},
   "outputs": [],
   "source": [
    "print(\"Modificando o array para (8, 2)\")\n",
    "print(array_original.reshape(8,2))"
   ]
  },
  {
   "cell_type": "code",
   "execution_count": null,
   "metadata": {},
   "outputs": [],
   "source": [
    "np.reshape(array_original, (8,2))"
   ]
  },
  {
   "cell_type": "markdown",
   "metadata": {},
   "source": [
    "### size()\n",
    "\n",
    "Retorna o número de elementos contidos num np.array"
   ]
  },
  {
   "cell_type": "code",
   "execution_count": null,
   "metadata": {},
   "outputs": [],
   "source": [
    "array_original.size"
   ]
  },
  {
   "cell_type": "markdown",
   "metadata": {},
   "source": [
    "### Dimension ndim()\n",
    "\n",
    "Retorna o número de dimensões que um array possui."
   ]
  },
  {
   "cell_type": "code",
   "execution_count": null,
   "metadata": {},
   "outputs": [],
   "source": [
    "print((array_original.ndim))\n",
    "print(np.ones((10,10)).ndim)\n",
    "print(array_original.reshape(2,4,2))\n",
    "print(array_original.reshape(2,4,2).ndim)"
   ]
  },
  {
   "cell_type": "markdown",
   "metadata": {},
   "source": [
    "### where()"
   ]
  },
  {
   "cell_type": "code",
   "execution_count": null,
   "metadata": {},
   "outputs": [],
   "source": [
    "array_teste = np.random.randint(low=1, high=20, size=20)\n",
    "print(array_teste)\n",
    "\n",
    "print(np.where(array_teste<10, array_teste, 0))"
   ]
  },
  {
   "cell_type": "code",
   "execution_count": null,
   "metadata": {},
   "outputs": [],
   "source": [
    "# Usando como filtro e aplicando no array\n",
    "np.where(array_teste<10, array_teste/10, array_teste)"
   ]
  },
  {
   "cell_type": "code",
   "execution_count": null,
   "metadata": {},
   "outputs": [],
   "source": [
    "# Usando como filtro e aplicando no array\n",
    "np.where(array_teste<10, array_teste, array_teste/10)"
   ]
  },
  {
   "cell_type": "code",
   "execution_count": null,
   "metadata": {},
   "outputs": [],
   "source": [
    "# usando multiplas comparações\n",
    "np.where((array_teste>5) & (array_teste<15), array_teste, 0)"
   ]
  },
  {
   "cell_type": "code",
   "execution_count": null,
   "metadata": {},
   "outputs": [],
   "source": [
    "# USando multiplas comparações\n",
    "np.where((array_teste>5) & (array_teste<15) | (array_teste == 18), array_teste, 0)\n",
    "# OBS. "
   ]
  },
  {
   "cell_type": "markdown",
   "metadata": {},
   "source": [
    "## Salvando e carregando dados\n",
    "\n",
    "Numpy possui diversas formas de salvar arquivos, dentre elas temos `.csv`, `.txt`, `.npy` e `.npz`, porém vamos só ver o funcionamento com arquivos `.csv`."
   ]
  },
  {
   "cell_type": "code",
   "execution_count": null,
   "metadata": {},
   "outputs": [],
   "source": [
    "# salvando um arquivo no formato .csv\n",
    "dados = np.random.rand(1000,1000)\n",
    "np.savetxt(\"dados.csv\",dados)"
   ]
  },
  {
   "cell_type": "code",
   "execution_count": null,
   "metadata": {},
   "outputs": [],
   "source": [
    "# Carregando o arquivo\n",
    "import numpy as np\n",
    "np.loadtxt(\"dados.csv\")\n",
    "\"\"\"\n",
    "OBSERVAÇÃO\n",
    "O arquivo que vai ser carregado DEVE estar no mesmo diretório que o arquivo .py (ou .ipynb).\n",
    "CASO CONTRARIO se deve indicar o endereço do diretório onde temos o arquivo armazenado.\n",
    "\"\"\""
   ]
  },
  {
   "cell_type": "code",
   "execution_count": null,
   "metadata": {},
   "outputs": [],
   "source": [
    "# Carregando um arquivo ubicado num diretorio diferente\n",
    "import numpy as np\n",
    "np.loadtxt(\"/home/fernan/Área de Trabalho/dados_2.csv\")\n",
    "\"\"\"\n",
    "Observação. O código anterior pode não funcionar só funciona para sistemas basados em POSIX\n",
    "(UNIX e MAC), para windows não funciona.\n",
    "\"\"\""
   ]
  },
  {
   "cell_type": "code",
   "execution_count": 4,
   "metadata": {
    "ExecuteTime": {
     "end_time": "2020-09-02T12:01:16.544584Z",
     "start_time": "2020-09-02T12:01:16.515717Z"
    }
   },
   "outputs": [
    {
     "data": {
      "text/plain": [
       "'/home/fernan/MEGA/1 Vida Academica/Doutorado FEQ/Curso Python LNBR/Curso_Python_Basico_LNBR/Aula 11 Numpy'"
      ]
     },
     "execution_count": 4,
     "metadata": {},
     "output_type": "execute_result"
    }
   ],
   "source": [
    "import os\n",
    "os.getcwd()"
   ]
  },
  {
   "cell_type": "code",
   "execution_count": null,
   "metadata": {},
   "outputs": [],
   "source": []
  }
 ],
 "metadata": {
  "@webio": {
   "lastCommId": null,
   "lastKernelId": null
  },
  "celltoolbar": "Raw Cell Format",
  "hide_input": false,
  "kernelspec": {
   "display_name": "Python 3",
   "language": "python",
   "name": "python3"
  },
  "language_info": {
   "codemirror_mode": {
    "name": "ipython",
    "version": 3
   },
   "file_extension": ".py",
   "mimetype": "text/x-python",
   "name": "python",
   "nbconvert_exporter": "python",
   "pygments_lexer": "ipython3",
   "version": "3.7.7"
  },
  "varInspector": {
   "cols": {
    "lenName": 16,
    "lenType": 16,
    "lenVar": 40
   },
   "kernels_config": {
    "python": {
     "delete_cmd_postfix": "",
     "delete_cmd_prefix": "del ",
     "library": "var_list.py",
     "varRefreshCmd": "print(var_dic_list())"
    },
    "r": {
     "delete_cmd_postfix": ") ",
     "delete_cmd_prefix": "rm(",
     "library": "var_list.r",
     "varRefreshCmd": "cat(var_dic_list()) "
    }
   },
   "position": {
    "height": "144.283px",
    "left": "1017px",
    "right": "20px",
    "top": "43px",
    "width": "350px"
   },
   "types_to_exclude": [
    "module",
    "function",
    "builtin_function_or_method",
    "instance",
    "_Feature"
   ],
   "window_display": false
  }
 },
 "nbformat": 4,
 "nbformat_minor": 4
}
