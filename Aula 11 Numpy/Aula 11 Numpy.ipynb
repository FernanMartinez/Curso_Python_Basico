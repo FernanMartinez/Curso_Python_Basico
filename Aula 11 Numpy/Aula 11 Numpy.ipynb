{
 "cells": [
  {
   "cell_type": "markdown",
   "metadata": {
    "raw_mimetype": "text/markdown"
   },
   "source": [
    "# Aula 11. NumPy\n",
    "\n",
    "NumPy é uma das bibliotecas mais poderosas da linguagem Python. Esta biblioteca trabalha com matrizes e arrays multidimensionais. Possui uma grande coleção de funções para realizar operações matemáticas com alta performance (como vimos na aula de comparação performática).\n",
    "\n",
    "- Esta biblioteca possui seus próprios tipos de dados os quais são do tipo `numpy.ndarray`;\n",
    "- Trabalhar com matrizes e vetores usando np.ndarrays é mais eficiente que utilizar objetos do tipo lista;\n",
    "- Numpy é utilizada amplamente para realizar:\n",
    "    - Computação quântica;\n",
    "    - Computação estatística; \n",
    "    - Processamento de sinal;\n",
    "    - Processamento de imagem;\n",
    "    - Visualização 3D;\n",
    "    - Computação simbólica;\n",
    "    - Processamento astronômico;\n",
    "    - BioInoformatica;\n",
    "    - Inferência Bayesiana;\n",
    "    - Análise matemática;\n",
    "    - Simulação e modelagem (Monte Carlo);\n",
    "    - Análise de multivariável;\n",
    "    - E infinidades de outras alternativas.\n",
    "- Recomendo (fortemente) visitar o site de [Numpy](https://numpy.org/) para conhecer mais sobre esta biblioteca.\n",
    "---\n",
    "O objetivo de hoje é apresentar os aspectos **mais básicos** desta biblioteca devido a que conta com grande variedades de funções e aplicações. Vamos nos concentrar em:\n",
    "- List vs Numpy;\n",
    "- Indexação e fatiamento Numpy;\n",
    "- Arrays fila e arrays coluna;\n",
    "- Eliminando elementos, função delete;\n",
    "- Adicionando elementos insert e append;\n",
    "- Operações algebraicas com arrays (+, -, *, /, //, %);\n",
    "- Cannivete NumPy:\n",
    " - arange;\n",
    " - linspace;\n",
    " - ones, zeros e eye;\n",
    " - Shape;\n",
    " - Size;\n",
    " - dimensão;\n",
    " - reshape;\n",
    " - asarray;\n",
    " - where;\n",
    "- Carregando dados com Numpy.\n"
   ]
  },
  {
   "cell_type": "markdown",
   "metadata": {},
   "source": [
    "## Listas vs Numpy"
   ]
  },
  {
   "cell_type": "code",
   "execution_count": null,
   "metadata": {},
   "outputs": [],
   "source": [
    "import numpy as np"
   ]
  },
  {
   "cell_type": "code",
   "execution_count": null,
   "metadata": {},
   "outputs": [],
   "source": [
    "l1  = [[1, 2, 3],\n",
    "      [4, 5, 6],\n",
    "      [7, 8, 9]]\n",
    "l1"
   ]
  },
  {
   "cell_type": "code",
   "execution_count": null,
   "metadata": {},
   "outputs": [],
   "source": [
    "# Acessando à primeira fila\n",
    "l1[0]"
   ]
  },
  {
   "cell_type": "code",
   "execution_count": null,
   "metadata": {},
   "outputs": [],
   "source": [
    "# E para acessar à primeira coluna?\n",
    "l1[:]"
   ]
  },
  {
   "cell_type": "code",
   "execution_count": null,
   "metadata": {},
   "outputs": [],
   "source": [
    "array1  = np.array([[1, 2, 3],\n",
    "                    [4, 5, 6],\n",
    "                    [7, 8, 9]])\n",
    "array1"
   ]
  },
  {
   "cell_type": "code",
   "execution_count": null,
   "metadata": {},
   "outputs": [],
   "source": [
    "# Acessando à primeira fila\n",
    "array1[0,:]"
   ]
  },
  {
   "cell_type": "code",
   "execution_count": null,
   "metadata": {},
   "outputs": [],
   "source": [
    "# Acessando à primeira coluna\n",
    "array1[:, -1]"
   ]
  },
  {
   "cell_type": "markdown",
   "metadata": {},
   "source": [
    "## Indexação e fatiamento\n",
    "\n",
    "Os Arrays se comportam da mesma forma que as listas (até certo ponto), a sua indexação inicia em 0 e vai até o último elemento representado por -1."
   ]
  },
  {
   "cell_type": "code",
   "execution_count": null,
   "metadata": {},
   "outputs": [],
   "source": [
    "array = np.array([0,1,2,3,4,5,6])"
   ]
  },
  {
   "cell_type": "code",
   "execution_count": null,
   "metadata": {},
   "outputs": [],
   "source": [
    "print(array) # Imprimindo o array\n",
    "print(array[:]) # acessando ao todos os elementos\n",
    "print(array[0]) # acessando ao primer elemento\n",
    "print(array[1]) # acessando ao segundo elemento\n",
    "print(array[-1]) # acessando ao ultimo elemeto"
   ]
  },
  {
   "cell_type": "code",
   "execution_count": null,
   "metadata": {},
   "outputs": [],
   "source": [
    "print(array[1:-1]) # fatiando um array \n",
    "print(array[0:3]) # fatiando um array\n",
    "print(array[0::2]) # fatiando um array com `step`\n",
    "# Observemos que o último é excluido"
   ]
  },
  {
   "cell_type": "markdown",
   "metadata": {},
   "source": [
    "Como seria o fatiamento de uma matriz?\n",
    "\n",
    "$$array =   \\left( \\begin{matrix} a & b \\\\ c & d \\end{matrix} \\right)$$\n",
    "$$array[:, 0] =   \\left( \\begin{matrix} a & c  \\end{matrix} \\right)$$\n",
    "$$array[0, :] =   \\left( \\begin{matrix} a & b  \\end{matrix} \\right)$$\n",
    "$$array[row, colum])$$"
   ]
  },
  {
   "cell_type": "code",
   "execution_count": null,
   "metadata": {},
   "outputs": [],
   "source": [
    "# Como seria o fatiamento com uma matriz?\n",
    "print(\"Array original\")\n",
    "print(array1[:]) # Toda a matriz"
   ]
  },
  {
   "cell_type": "code",
   "execution_count": null,
   "metadata": {},
   "outputs": [],
   "source": [
    "print(\"Todos os elementos da primeira fila\")\n",
    "print(array1[0, :]) # Todos os elementos da primeira fila\n",
    "print(array1[0])\n",
    "print(array1[0][:])"
   ]
  },
  {
   "cell_type": "code",
   "execution_count": null,
   "metadata": {},
   "outputs": [],
   "source": [
    "print(\"Todos os elementos da última fila\")\n",
    "print(array1[-1, :]) # Todos os elementos da última fila\n",
    "print(array1[-1][:]) \n",
    "print(array1[-1]) "
   ]
  },
  {
   "cell_type": "code",
   "execution_count": null,
   "metadata": {},
   "outputs": [],
   "source": [
    "print(\"Todos os elementos da primeira coluna\")\n",
    "print(array1[:, 0]) # Todos os elementos da primeira coluna\n",
    "print(array1[:][0]) # ?"
   ]
  },
  {
   "cell_type": "code",
   "execution_count": null,
   "metadata": {},
   "outputs": [],
   "source": [
    "print(\"Todos os elementos da última coluna\")\n",
    "print(array1[:, -1]) # Todos os elementos da última coluna"
   ]
  },
  {
   "cell_type": "code",
   "execution_count": null,
   "metadata": {},
   "outputs": [],
   "source": [
    "print(\"segundo elemento da segunda coluna\")\n",
    "print(array1[1, 1]) # segundo elemento da segunda coluna"
   ]
  },
  {
   "cell_type": "markdown",
   "metadata": {},
   "source": [
    "## Array fila e array coluna\n",
    "\n",
    "Algumas IDEs podem mostrar os array coluna da mesma forma que um array vetor. Porém esses são objetos diferentes. Além disso, algumas operações matriciais precisam do vetor em configurado como uma fila e não como uma coluna."
   ]
  },
  {
   "cell_type": "code",
   "execution_count": null,
   "metadata": {},
   "outputs": [],
   "source": [
    "array = np.array([1, 2, 3])\n",
    "array_coluna = np.array([[1], [2], [3]])\n",
    "array_fila = np.array([[1, 2, 3]])"
   ]
  },
  {
   "cell_type": "code",
   "execution_count": null,
   "metadata": {},
   "outputs": [],
   "source": [
    "print(array)\n",
    "print(array_coluna)\n",
    "print(array_fila)"
   ]
  },
  {
   "cell_type": "code",
   "execution_count": null,
   "metadata": {},
   "outputs": [],
   "source": [
    "print(\"size\")\n",
    "print(array.size)\n",
    "print(array_coluna.size)\n",
    "print(array_fila.size)"
   ]
  },
  {
   "cell_type": "code",
   "execution_count": null,
   "metadata": {},
   "outputs": [],
   "source": [
    "print(\"shape\")\n",
    "print(array.shape)\n",
    "print(array_coluna.shape)\n",
    "print(array_fila.shape)"
   ]
  },
  {
   "cell_type": "code",
   "execution_count": null,
   "metadata": {},
   "outputs": [],
   "source": [
    "print(\"Dimensão\")\n",
    "print(array.ndim)\n",
    "print(array_coluna.ndim)\n",
    "print(array_fila.ndim)"
   ]
  },
  {
   "cell_type": "markdown",
   "metadata": {},
   "source": [
    "## Eliminando elementos, função delete"
   ]
  },
  {
   "cell_type": "code",
   "execution_count": null,
   "metadata": {},
   "outputs": [],
   "source": [
    "print(\"Arrey Original\")\n",
    "print(array1)\n",
    "print(\"-\"*15)\n",
    "print(\"Eliminando a primeira fila\")\n",
    "print(np.delete(array1, 0, 0)) # Eliminando a primeira fila\n",
    "print(\"-\"*15)\n",
    "print(\"Eliminando a primeira coluna\")\n",
    "print(np.delete(array1, 0, 1)) # Eliminando a primeira coluna"
   ]
  },
  {
   "cell_type": "markdown",
   "metadata": {},
   "source": [
    "## Adicionando elementos append e insert "
   ]
  },
  {
   "cell_type": "markdown",
   "metadata": {},
   "source": [
    "### append"
   ]
  },
  {
   "cell_type": "code",
   "execution_count": null,
   "metadata": {},
   "outputs": [],
   "source": [
    "print(\"Array original\")\n",
    "print(np.array(np.array([1, 2, 3])))\n",
    "print(\"Adicionando todos os elementos no final do array 1D\")\n",
    "np.append(array, [7, 8, 9])  # Adicionando todos os elementos no final do array 1D"
   ]
  },
  {
   "cell_type": "code",
   "execution_count": null,
   "metadata": {},
   "outputs": [],
   "source": [
    "print(\"Array original\")\n",
    "print(np.array([[1, 2, 3]]) )\n",
    "print(\"Adicionando os elementos como uma nova fila\")\n",
    "np.append(array, [[10, 20, 30]], axis=0) # Adicionando os elementos como uma nova fila"
   ]
  },
  {
   "cell_type": "code",
   "execution_count": null,
   "metadata": {},
   "outputs": [],
   "source": [
    "print(\"Array original\")\n",
    "print(np.array([[1, 2, 3]]))\n",
    "print(\"Adicionando os elementos como novas colunas\")\n",
    "np.append(array, [[10, 20, 30]], axis=1) # Adicionando os elementos como novas colunas"
   ]
  },
  {
   "cell_type": "markdown",
   "metadata": {},
   "source": [
    "### insert"
   ]
  },
  {
   "cell_type": "code",
   "execution_count": null,
   "metadata": {},
   "outputs": [],
   "source": [
    "print(\"Array original\")\n",
    "print(array1)\n",
    "print(\"-\"*15)\n",
    "print(\"Adicionando uma fila com o mesmo valor\")\n",
    "print(np.insert(array1, 0, 100, 0)) # Adicionando uma fila com o mesmo valor\n",
    "print(\"-\"*15)\n",
    "print(\"Adicionando uma coluna com o mesmo valor\")\n",
    "print(np.insert(array1, 0, 100, 1)) # Adicionando uma coluna com o mesmo valor\n",
    "print(\"-\"*15)"
   ]
  },
  {
   "cell_type": "code",
   "execution_count": null,
   "metadata": {},
   "outputs": [],
   "source": [
    "print(\"Array original\")\n",
    "print(array1)\n",
    "print(\"-\"*15)\n",
    "print(\"Adicionando uma fila com o mesmo valor\")\n",
    "print(np.insert(array1, 0, [100, 200, 300], 0)) # Adicionando uma fila com o mesmo valor\n",
    "print(\"-\"*15)\n",
    "print(\"Adicionando uma coluna com o mesmo valor\")\n",
    "print(np.insert(array1, 0,  [100, 200, 300], 1)) # Adicionando uma coluna com o mesmo valor\n",
    "print(\"-\"*15)"
   ]
  },
  {
   "cell_type": "markdown",
   "metadata": {},
   "source": [
    "### Modificando um unico elemento"
   ]
  },
  {
   "cell_type": "code",
   "execution_count": null,
   "metadata": {},
   "outputs": [],
   "source": [
    "print(\"Array original\")\n",
    "array1 = np.array([[1, 2, 3],\n",
    "                    [4, 5, 6],\n",
    "                    [7, 8, 9]])\n",
    "print(array1)\n",
    "print(\"Array modificado\")\n",
    "array1[1, 1] = 500\n",
    "print(array1)"
   ]
  },
  {
   "cell_type": "markdown",
   "metadata": {},
   "source": [
    "## Operações algebraicas\n",
    "Uma das vantagens dos numpy.ndarray é que as operações algebraicas estão definidas entre esse tipo de dados e dados do tipo numérico como float, int e complex. \n",
    "\n",
    "Lembrando que estas operações não estão definidas entre objetos do tipo lista"
   ]
  },
  {
   "cell_type": "code",
   "execution_count": null,
   "metadata": {},
   "outputs": [],
   "source": [
    "# Utilizando vetor de 1D\n",
    "array1 = np.array([1, 2, 3, 4, 5, 6, 7, 8, 9])\n",
    "print(\"-\"*15)\n",
    "print(f\"Soma: {array1 + 500}\")\n",
    "print(\"-\"*15)\n",
    "print(f\"Substração: {array1 - 500.5}\")\n",
    "print(\"-\"*15)\n",
    "print(f\"Multiplicação: {array1 * 1 + 0.5j}\")\n",
    "print(\"-\"*15)\n",
    "print(f\"Divisão: {array1 / 0.1}\")\n",
    "print(\"-\"*15)\n",
    "print(f\"Modulo: {array1 % 2}\")\n",
    "print(\"-\"*15)\n",
    "print(f\"Parte inteira: {array1 // 2}\")"
   ]
  },
  {
   "cell_type": "code",
   "execution_count": null,
   "metadata": {},
   "outputs": [],
   "source": [
    "# Utilizando matrix de 2D\n",
    "array1 = np.array([[1, 2, 3], [4, 5, 6], [7, 8, 9]])\n",
    "print(\"-\"*15)\n",
    "print(f\"Soma:\\n {array1 + 500}\")\n",
    "print(\"-\"*15)\n",
    "print(f\"Substração:\\n {array1 - 500.5}\")\n",
    "print(\"-\"*15)\n",
    "print(f\"Multiplicação:\\n {array1 * 1 + 0.5j}\")\n",
    "print(\"-\"*15)\n",
    "print(f\"Divisão:\\n {array1 / 0.1}\")\n",
    "print(\"-\"*15)\n",
    "print(f\"Modulo:\\n {array1 % 2}\")\n",
    "print(\"-\"*15)\n",
    "print(f\"Parte inteira:\\n {array1 // 2}\")"
   ]
  },
  {
   "cell_type": "code",
   "execution_count": null,
   "metadata": {},
   "outputs": [],
   "source": [
    "# Operações algebraicas entre vetores\n",
    "array1 = np.array([1, 2, 3, 4, 5, 6, 7, 8, 9])\n",
    "array2 = array1[::-1]\n",
    "print(f\"Array1 = {array1}\")\n",
    "print(f\"Array2 = {array2}\")\n",
    "print(f\"Soma: {array1 + array2}\")\n",
    "print(\"-\"*15)\n",
    "print(f\"Substração: {array1 - array2}\")\n",
    "print(\"-\"*15)\n",
    "print(f\"Multiplicação: {array1 * array2}\")\n",
    "print(\"-\"*15)\n",
    "print(f\"Divisão: {array1 / array2}\")\n",
    "print(\"-\"*15)\n",
    "print(f\"Modulo: {array1 % array2}\")\n",
    "print(\"-\"*15)\n",
    "print(f\"Parte interia: {array1 // array2}\")"
   ]
  },
  {
   "cell_type": "code",
   "execution_count": null,
   "metadata": {},
   "outputs": [],
   "source": [
    "# Operações algebraicas entre matrices\n",
    "array1 = np.array([[1, 2, 3], [4, 5, 6], [7, 8, 9]])\n",
    "array2 = array1.T\n",
    "print(f\"Array1 = \\n{array1}\")\n",
    "print(f\"Array2 = \\n{array2}\")\n",
    "print(f\"Soma: \\n{array1 + array2}\")\n",
    "print(\"-\"*15)\n",
    "print(f\"Substração: \\n{array1 - array2}\")\n",
    "print(\"-\"*15)\n",
    "print(f\"Multiplicação: \\n{array1 * array2}\")\n",
    "print(\"-\"*15)\n",
    "print(f\"Divisão: \\n{array1 / array2}\")\n",
    "print(\"-\"*15)\n",
    "print(f\"Modulo: \\n{array1 % array2}\")\n",
    "print(\"-\"*15)\n",
    "print(f\"Parte interia: \\n{array1 // array2}\")"
   ]
  },
  {
   "cell_type": "markdown",
   "metadata": {},
   "source": [
    "## Cannivete Numpy"
   ]
  },
  {
   "cell_type": "markdown",
   "metadata": {},
   "source": [
    "### Array arange()\n",
    "\n",
    "Função para criar um array de `n` elementos.\n",
    "\n",
    "numpy.arange([start, ]stop, [step, ]dtype=None)"
   ]
  },
  {
   "cell_type": "code",
   "execution_count": null,
   "metadata": {},
   "outputs": [],
   "source": [
    "arange = np.arange(0, 5)\n",
    "print(arange)"
   ]
  },
  {
   "cell_type": "code",
   "execution_count": null,
   "metadata": {},
   "outputs": [],
   "source": [
    "arange = np.arange(start=0, stop=5, step=1)\n",
    "print(arange)"
   ]
  },
  {
   "cell_type": "code",
   "execution_count": null,
   "metadata": {},
   "outputs": [],
   "source": [
    "arange = np.arange(start=0, stop=5, step=0.5)\n",
    "print(arange)"
   ]
  },
  {
   "cell_type": "code",
   "execution_count": null,
   "metadata": {},
   "outputs": [],
   "source": [
    "arange =np.arange(start=1, stop=100, step=0.05362)\n",
    "print(arange)"
   ]
  },
  {
   "cell_type": "markdown",
   "metadata": {},
   "source": [
    "### linspace()\n",
    "A funcionalidade é muito parecida com np.arange(), porém, está função garante sempre o mesmo espaçamento entre os pontos e o ultimo ponto é inclusivo.\n",
    "\n",
    " numpy.linspace(start, stop, num=50, endpoint=True, retstep=False, dtype=None, axis=0)[source]"
   ]
  },
  {
   "cell_type": "code",
   "execution_count": null,
   "metadata": {},
   "outputs": [],
   "source": [
    "linspace = np.linspace(start=1, stop=5, num=5)\n",
    "print(linspace)"
   ]
  },
  {
   "cell_type": "code",
   "execution_count": null,
   "metadata": {},
   "outputs": [],
   "source": [
    "linspace = np.linspace(start=1, stop=100, num=50)\n",
    "print(linspace)"
   ]
  },
  {
   "cell_type": "code",
   "execution_count": null,
   "metadata": {},
   "outputs": [],
   "source": [
    "[linspace[i+1] - linspace[i] for i in range(len(linspace)-1)]"
   ]
  },
  {
   "cell_type": "markdown",
   "metadata": {},
   "source": [
    "**Cuidado com os espaçamento ao se utilizar np.arange() e np.linspace()**"
   ]
  },
  {
   "cell_type": "markdown",
   "metadata": {},
   "source": [
    "### ones, zeros e eye\n",
    "\n",
    "Numpy possui algumas funções para a criação de array de forma automática preenchidos com alguns valores. Este é o caso das funções `ones`, `zeros` e `aye`, as quais retornar array preenchidas com valores de 1, 0 e array com diagonal de 1.\n",
    "```python\n",
    "numpy.ones(shape, dtype=None, order='C')\n",
    "\n",
    "numpy.zeros(shape, dtype=float, order='C')\n",
    "\n",
    "numpy.eye(N, M=None, k=0, dtype=<class 'float'>, order='C')\n",
    "```"
   ]
  },
  {
   "cell_type": "code",
   "execution_count": null,
   "metadata": {},
   "outputs": [],
   "source": [
    "np.ones(shape=(10,))"
   ]
  },
  {
   "cell_type": "code",
   "execution_count": null,
   "metadata": {},
   "outputs": [],
   "source": [
    "np.ones(shape=(10,1))"
   ]
  },
  {
   "cell_type": "code",
   "execution_count": null,
   "metadata": {},
   "outputs": [],
   "source": [
    "np.ones(shape=(1, 10))"
   ]
  },
  {
   "cell_type": "code",
   "execution_count": null,
   "metadata": {},
   "outputs": [],
   "source": [
    "np.ones(shape=(10,10))"
   ]
  },
  {
   "cell_type": "code",
   "execution_count": null,
   "metadata": {},
   "outputs": [],
   "source": [
    "np.zeros(shape=(10, 10), dtype=float)"
   ]
  },
  {
   "cell_type": "code",
   "execution_count": null,
   "metadata": {},
   "outputs": [],
   "source": [
    "np.eye(10)"
   ]
  },
  {
   "cell_type": "code",
   "execution_count": null,
   "metadata": {},
   "outputs": [],
   "source": [
    "np.eye(10,5)"
   ]
  },
  {
   "cell_type": "code",
   "execution_count": null,
   "metadata": {},
   "outputs": [],
   "source": [
    "np.eye(10,10, k=2)"
   ]
  },
  {
   "cell_type": "markdown",
   "metadata": {},
   "source": [
    "### Shape()\n",
    "\n",
    "Retorna a ***configuração*** de um array"
   ]
  },
  {
   "cell_type": "code",
   "execution_count": null,
   "metadata": {},
   "outputs": [],
   "source": [
    "ones = np.ones((5,5))\n",
    "print(ones)\n",
    "np.shape(ones)"
   ]
  },
  {
   "cell_type": "code",
   "execution_count": null,
   "metadata": {},
   "outputs": [],
   "source": [
    "ones = np.ones((5, 1))\n",
    "print(ones)\n",
    "np.shape(ones)"
   ]
  },
  {
   "cell_type": "code",
   "execution_count": null,
   "metadata": {},
   "outputs": [],
   "source": [
    "ones = np.ones((1,5)) \n",
    "print(ones)\n",
    "np.shape(ones)"
   ]
  },
  {
   "cell_type": "code",
   "execution_count": null,
   "metadata": {},
   "outputs": [],
   "source": [
    "ones = np.ones(15) \n",
    "print(ones)\n",
    "np.shape(ones)"
   ]
  },
  {
   "cell_type": "markdown",
   "metadata": {},
   "source": [
    "Algumas objetos de numpy (e de outras bibliotecas) tem metodos definidos e o shape é um deles. Isto quer dizer que podemos fazer `np.shape(ones)` ou `ones.shape` e o resultado vai ser o mesmo."
   ]
  },
  {
   "cell_type": "code",
   "execution_count": null,
   "metadata": {},
   "outputs": [],
   "source": [
    "ones.shape"
   ]
  },
  {
   "cell_type": "markdown",
   "metadata": {},
   "source": [
    "### reshape()\n",
    "\n",
    "Esta função reconfigura um array. Deve-se ter cuidado pois nem sempre é possível realizar a configuração, isto vai depender da forma do array original.\n",
    "```python\n",
    "numpy.reshape(a, newshape, order='C')\n",
    "```"
   ]
  },
  {
   "cell_type": "code",
   "execution_count": null,
   "metadata": {},
   "outputs": [],
   "source": [
    "array_original = np.arange(1, 17)\n",
    "print(array_original)"
   ]
  },
  {
   "cell_type": "code",
   "execution_count": null,
   "metadata": {},
   "outputs": [],
   "source": [
    "print(\"Modificando o array para (1, 16)\")\n",
    "print(array_original.reshape(1,16))"
   ]
  },
  {
   "cell_type": "code",
   "execution_count": null,
   "metadata": {},
   "outputs": [],
   "source": [
    "print(\"Modificando o array para (16, 1)\")\n",
    "print(array_original.reshape(16,1))"
   ]
  },
  {
   "cell_type": "code",
   "execution_count": null,
   "metadata": {},
   "outputs": [],
   "source": [
    "print(\"Modificando o array para (4, 4)\")\n",
    "print(array_original.reshape(4,4))"
   ]
  },
  {
   "cell_type": "code",
   "execution_count": null,
   "metadata": {},
   "outputs": [],
   "source": [
    "print(\"Modificando o array para (2, 8)\")\n",
    "print(array_original.reshape(2,8))"
   ]
  },
  {
   "cell_type": "code",
   "execution_count": null,
   "metadata": {},
   "outputs": [],
   "source": [
    "print(\"Modificando o array para (8, 2)\")\n",
    "print(array_original.reshape(8,2))"
   ]
  },
  {
   "cell_type": "code",
   "execution_count": null,
   "metadata": {},
   "outputs": [],
   "source": [
    "np.reshape(array_original, (8,2))"
   ]
  },
  {
   "cell_type": "markdown",
   "metadata": {},
   "source": [
    "### size()\n",
    "\n",
    "Retorna o número de elementos contidos num np.array"
   ]
  },
  {
   "cell_type": "code",
   "execution_count": null,
   "metadata": {},
   "outputs": [],
   "source": [
    "array_original.size"
   ]
  },
  {
   "cell_type": "markdown",
   "metadata": {},
   "source": [
    "### Dimension ndim()\n",
    "\n",
    "Retorna o número de dimensões que um array possui."
   ]
  },
  {
   "cell_type": "code",
   "execution_count": null,
   "metadata": {},
   "outputs": [],
   "source": [
    "print((array_original.ndim))\n",
    "print(np.ones((10,10)).ndim)\n",
    "print(array_original.reshape(2,4,2))\n",
    "print(array_original.reshape(2,4,2).ndim)"
   ]
  },
  {
   "cell_type": "markdown",
   "metadata": {},
   "source": [
    "### where()"
   ]
  },
  {
   "cell_type": "code",
   "execution_count": null,
   "metadata": {},
   "outputs": [],
   "source": [
    "array_teste = np.random.randint(low=1, high=20, size=20)\n",
    "print(array_teste)\n",
    "\n",
    "print(np.where(array_teste<10, array_teste, 0))"
   ]
  },
  {
   "cell_type": "code",
   "execution_count": null,
   "metadata": {},
   "outputs": [],
   "source": [
    "# Usando como filtro e aplicando no array\n",
    "np.where(array_teste<10, array_teste/10, array_teste)"
   ]
  },
  {
   "cell_type": "code",
   "execution_count": null,
   "metadata": {},
   "outputs": [],
   "source": [
    "# Usando como filtro e aplicando no array\n",
    "np.where(array_teste<10, array_teste, array_teste/10)"
   ]
  },
  {
   "cell_type": "code",
   "execution_count": null,
   "metadata": {},
   "outputs": [],
   "source": [
    "# usando multiplas comparações\n",
    "np.where((array_teste>5) & (array_teste<15), array_teste, 0)"
   ]
  },
  {
   "cell_type": "code",
   "execution_count": null,
   "metadata": {},
   "outputs": [],
   "source": [
    "# USando multiplas comparações\n",
    "np.where((array_teste>5) & (array_teste<15) | (array_teste == 18), array_teste, 0)"
   ]
  },
  {
   "cell_type": "markdown",
   "metadata": {},
   "source": [
    "## Salvando e carregando dados\n",
    "\n",
    "Numpy possui diversas formas de salvar arquivos, dentre elas temos `.csv`, `.txt`, `.npy` e `.npz`, porém vamos só ver o funcionamento com arquivos `.csv`."
   ]
  },
  {
   "cell_type": "code",
   "execution_count": null,
   "metadata": {},
   "outputs": [],
   "source": [
    "# salvando um arquivo no formato .csv\n",
    "dados = np.random.rand(1000,1000)\n",
    "np.savetxt(\"dados.csv\",dados)"
   ]
  },
  {
   "cell_type": "code",
   "execution_count": null,
   "metadata": {},
   "outputs": [],
   "source": [
    "# Carregando o arquivo\n",
    "import numpy as np\n",
    "np.loadtxt(\"dados.csv\")\n",
    "\"\"\"\n",
    "OBSERVAÇÃO\n",
    "O arquivo que vai ser carregado DEVE estar no mesmo diretório que o arquivo .py (ou .ipynb).\n",
    "CASO CONTRARIO se deve indicar o endereço do diretório onde temos o arquivo armazenado.\n",
    "\"\"\""
   ]
  },
  {
   "cell_type": "code",
   "execution_count": null,
   "metadata": {},
   "outputs": [],
   "source": [
    "# Carregando um arquivo ubicado num diretorio diferente\n",
    "import numpy as np\n",
    "np.loadtxt(\"/home/fernan/Área de Trabalho/dados_2.csv\")\n",
    "\"\"\"\n",
    "Observação. O código anterior pode não funcionar só funciona para sistemas basados em POSIX\n",
    "(UNIX e MAC), para windows não funciona.\n",
    "\"\"\""
   ]
  },
  {
   "cell_type": "code",
   "execution_count": null,
   "metadata": {},
   "outputs": [],
   "source": [
    "import os\n",
    "os.getcwd()"
   ]
  },
  {
   "cell_type": "code",
   "execution_count": null,
   "metadata": {},
   "outputs": [],
   "source": []
  }
 ],
 "metadata": {
  "@webio": {
   "lastCommId": null,
   "lastKernelId": null
  },
  "celltoolbar": "Raw Cell Format",
  "kernelspec": {
   "display_name": "Python 3",
   "language": "python",
   "name": "python3"
  },
  "language_info": {
   "codemirror_mode": {
    "name": "ipython",
    "version": 3
   },
   "file_extension": ".py",
   "mimetype": "text/x-python",
   "name": "python",
   "nbconvert_exporter": "python",
   "pygments_lexer": "ipython3",
   "version": "3.7.6"
  },
  "varInspector": {
   "cols": {
    "lenName": 16,
    "lenType": 16,
    "lenVar": 40
   },
   "kernels_config": {
    "python": {
     "delete_cmd_postfix": "",
     "delete_cmd_prefix": "del ",
     "library": "var_list.py",
     "varRefreshCmd": "print(var_dic_list())"
    },
    "r": {
     "delete_cmd_postfix": ") ",
     "delete_cmd_prefix": "rm(",
     "library": "var_list.r",
     "varRefreshCmd": "cat(var_dic_list()) "
    }
   },
   "position": {
    "height": "144.283px",
    "left": "1017px",
    "right": "20px",
    "top": "43px",
    "width": "350px"
   },
   "types_to_exclude": [
    "module",
    "function",
    "builtin_function_or_method",
    "instance",
    "_Feature"
   ],
   "window_display": true
  }
 },
 "nbformat": 4,
 "nbformat_minor": 4
}
