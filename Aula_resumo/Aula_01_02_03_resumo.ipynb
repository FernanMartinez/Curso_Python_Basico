{
 "cells": [
  {
   "cell_type": "markdown",
   "metadata": {},
   "source": [
    "#  Aula resumo de aspéctos basicos em Python \n",
    "\n",
    "\n",
    "Nesta aula vamos abordar os seguintes temas:\n",
    "1. IDEs mais usadas para Python;\n",
    "    - Pycharme\n",
    "    - Vscode\n",
    "    - Jupyter notebook\n",
    "    - Spyder\n",
    "\n",
    "2. Características da linguagem Python;\n",
    "3. Variáveis;\n",
    "4. Tipos de dados;\n",
    "5. Utilitários em Python;\n",
    "6. Collections nativos e não nativos;\n",
    "7. Manipulação e métodos aplicados a collections;\n",
    "8. Operadores aritméticas e relacionais;\n",
    "9. Condicionais."
   ]
  },
  {
   "cell_type": "markdown",
   "metadata": {},
   "source": [
    "## 1. I.D.E.s mais usadas para Python\n",
    "\n",
    "As I.D.E (Integrated development environment) são ambientes de desenvolvimentos integrados que reúne diferentes funcionalidades para o desenvolvimentos de códigos. Para um programa ser considerada uma boa I.D.E deve considerar diversos aspectos, entre os que podemos destacar:\n",
    "\n",
    "1. Editor de código;\n",
    "2. Capacidade de rodar ou copilar códigos;\n",
    "3. Capacidade para debugar o códigos (execução step by step);\n",
    "4. Capacidade de identificar erros de sintaxe e erros durante a execução do programa;\n",
    "5. Shell integrado;\n",
    "6. Dentre outras características.\n",
    "\n",
    "Temos que deixar claro que não existe a melhor I.D.E, podemos dizer que o  que existe é a I.D.E mais adequada as nossas necessidades. As I.D.E.s mais utilizadas para Python são:\n",
    "- Pycharm: I.D.E exclusiva para a Linguagem Python (https://www.jetbrains.com/pt-br/pycharm/);\n",
    "- Vscode: I.D.E para diversas linguagens de programação (https://code.visualstudio.com/);\n",
    "- Jupyter (Notebook e Lab), I.D.E para as linguagens Julia, Python e R, por isso no Nome de JuPytER (https://jupyter.org/);\n",
    "- Spyder: I.D.E exclusiva para a linguagem Python e focada para aspectos científicos e analise de dados (https://www.spyder-ide.org/);\n",
    "- E muitas outras (Eclipse, Eric, Wing, Thonny, Atom, etc).\n",
    "\n",
    "\n",
    "Vale a pena destacar que todas as I.D.Es apresentadas são de licensa livre, isto quer dizer que **não são pagas**, porém, algumas tem uma versão paga com mais recursos, é o caso de Pycharm."
   ]
  },
  {
   "cell_type": "markdown",
   "metadata": {},
   "source": [
    "## 2. Características da linguagem Python\n",
    "\n",
    "- Foi criada em 1991, o que faz dela uma linguagem bastante forte e consolidada;\n",
    "- *Free and open source*;\n",
    "- É considerada uma linguagem de fácil escrita e leitura;\n",
    "- É uma linguagem interpretada, o que quer dizer que não é necessário compilar o código para executá-lo;\n",
    "- É uma linguagem forte na área de Data Science, Web Development e Big Data (dada a sua facilidade de escrita e leitura);\n",
    "- É considerada uma linguagem de alto nível, isso quer dizer que é uma linguagem com um nível de abstração relativamente elevado, longe do código de máquina e mais próximo à linguagem humana, isso ajuda a que a linguagem seja mais intuitiva;\n",
    "\n",
    "Exemplo de baixo nível (Assamblay)\n",
    "```\n",
    "%ifdef  NetBSD\n",
    "section .note.netbsd.ident\n",
    "        dd      7,4,1\n",
    "        db      \"NetBSD\",0,0\n",
    "        dd      200000000       ; amd64 supported since 2.0\n",
    "%endif\n",
    "\n",
    "%ifdef  OpenBSD\n",
    "section .note.openbsd.ident\n",
    "        align   2\n",
    "        dd      8,4,1\n",
    "        db      \"OpenBSD\",0\n",
    "        dd      0\n",
    "        align   2\n",
    "%endif\n",
    "\n",
    "section .text\n",
    "\n",
    "%ifidn __OUTPUT_FORMAT__, macho64       ; MacOS X\n",
    "        %define SYS_exit        0x2000001\n",
    "        %define SYS_write       0x2000004\n",
    "\n",
    "        global  start\n",
    "        start:\n",
    "%elifidn __OUTPUT_FORMAT__, elf64\n",
    "        %ifdef  UNIX            ; Solaris/OI/FreeBSD/NetBSD/OpenBSD/DragonFly\n",
    "                %define SYS_exit        1\n",
    "                %define SYS_write       4\n",
    "        %else                   ; Linux\n",
    "                %define SYS_exit        60\n",
    "                %define SYS_write       1\n",
    "        %endif\n",
    "\n",
    "        global  _start\n",
    "        _start:\n",
    "%else\n",
    "        %error  \"Unsupported platform\"\n",
    "%endif\n",
    "\n",
    "        mov     rax,SYS_write\n",
    "        mov     rdi,1           ; stdout\n",
    "        mov     rsi,msg\n",
    "        mov     rdx,len\n",
    "        syscall\n",
    "        mov     rax,SYS_exit\n",
    "        xor     rdi,rdi         ; exit code 0\n",
    "        syscall\n",
    "\n",
    "section .data\n",
    "\n",
    "msg     db      \"Hello, world!\",10\n",
    "len     equ     $-msg\n",
    "```\n",
    "\n",
    "Exemplo de alto nível (Python)\n",
    "```\n",
    "print(\"Hello world\")\n",
    "```\n",
    "\n",
    "- Multiplataforma, isso quer dizer que o código pode ser executado em qualquer sistema operativo (Linux, Windows ou Mac);\n",
    "- É uma linguagem multiparadigma o que permite programar de forma imperativa, procedural, funcional e orientado a objetos;\n",
    "- Existem milhares de pacotes desenvolvidos pela comunidade que são de uso livre;\n",
    "- Atualmente existem duas versões de Python, Python 2 e Python 3, porém Python 2 parou de receber atualização no inicio do 2020, mas ainda é possível encontrar código escrito em Python 2. Em relação a Python 3, a versão mais recente é a 3.8.3 (13 de maio de 2020);\n",
    "- Python possui tipagem forte e dinâmica, isso indica que o interpretado não vai converter os tipos das variáveis de forma automática, e tipagem dinâmica indica que o tipo de uma variável pode ser redefinido no meio do código;\n",
    "- O Python utiliza a indentação para estruturar os blocos, o que exige muita organização no momento de escrever o código;\n",
    "\n",
    "**Site com informação relevante:**\n",
    "- site oficial do Python: https://www.python.org/\n",
    "- Ecosistema Anaconda: https://www.anaconda.com/products/individual\n",
    "- Python packages: https://pypi.org/"
   ]
  },
  {
   "cell_type": "markdown",
   "metadata": {},
   "source": [
    "#### Exemplo de tipagem dinâmica\n",
    "\n",
    "Quando falamos de tipagem dinâmica queremos dizer que podemos redefinir o tipo de uma\n",
    "variável no meio do código."
   ]
  },
  {
   "cell_type": "code",
   "execution_count": null,
   "metadata": {},
   "outputs": [],
   "source": [
    "# Estamos atribuindo o valor 25 para variavel_1. Python automaticamente define o tipo\n",
    "# desta variável como int\n",
    "variavel_1 = 25 \n",
    "print(type(variavel_1))\n",
    "\n",
    "# Como Python tem tipagem dinâmica podemos redefinir a variavel_1\n",
    "# Agora a variavel_1 é do tipo string e foi atribuído o valor \"Laboratorio\"\n",
    "variavel_1 = \"Laboratorio\"\n",
    "print(type(variavel_1))"
   ]
  },
  {
   "cell_type": "markdown",
   "metadata": {},
   "source": [
    "#### Exemplo de tipagem forte\n",
    "Quando falamos de tipagem forte queremos dizer que o interpretador não vai converter o tipo\n",
    "da variável de forma automática."
   ]
  },
  {
   "cell_type": "code",
   "execution_count": null,
   "metadata": {},
   "outputs": [],
   "source": [
    "print(\"3\" + 3) # isso resultará num TypeError"
   ]
  },
  {
   "cell_type": "markdown",
   "metadata": {},
   "source": [
    "#### Exemplo de identação"
   ]
  },
  {
   "cell_type": "code",
   "execution_count": null,
   "metadata": {},
   "outputs": [],
   "source": [
    "for i in range(0, 10):\n",
    "    # observe que temos 4 espaços indicando a identação do códido\n",
    "    print(\"Hello wordl\")\n",
    "\n",
    "# for i in range(0, 10):\n",
    "# # este código está errado,pois a identação não foi feita\n",
    "# print(\"Hello wordl\")"
   ]
  },
  {
   "cell_type": "markdown",
   "metadata": {},
   "source": [
    "## 3. Variáveis\n",
    "\n",
    "- Como seu nome o indica, uma variável é algo que pode mudar;\n",
    "\n",
    "- Uma variável é um nome simbólico que serve para sinalizar um local na memória do computador;\n",
    "- O local na memória que a variável está sinalizando contém valores como dados numéricos, strings e ou conteiners;\n",
    "- Em comparação com outras linguagens, em Pyton não é necessário declarar o tipo de dados, visto que o Python atribui de forma automática o tipo de dado;\n",
    "- Quando criamos uma variável em Python estamos:\n",
    "    - Criando uma representação simbólica para um tipo de dados;\n",
    "    - Atribuindo um endereço na memória para o tipo de dados (isso é feito pelo computador);\n",
    "    - Atribuindo um valor para a variável criada (podendo ser valores numéricos, texto ou containers)\n",
    "    - Estamos atribuindo um tipo de dados;\n",
    "    - Estamos atribuindo um escopo.\n",
    "---\n",
    "Regras para criação de variáveis\n",
    "- O nome de uma variável pode iniciar com o símbolo underscore `_` ou um caractere minúsculo ou maiúsculo;\n",
    "- O nome de uma variável não pode ter caracteres como `([, . : / * - + \\ @ # $ % = ])` dentre outros;\n",
    "- Existem palavras reservadas que não podem ser usadas como nome de variáveis, algumas destas são: `and, as, assert, break, class, continue, def, del, elif, else, except, exec, finally, for, from, global, if, import, in, is, lambda, not, or, pass, print, raise, return, try, while, with, yield`;\n",
    "- Python é *case sensitivity*, isso quer dizer que uma variável com o nome `Variavel` é diferente a uma variável com o nome `variavel`.\n"
   ]
  },
  {
   "cell_type": "markdown",
   "metadata": {},
   "source": [
    "### Exemplo"
   ]
  },
  {
   "cell_type": "code",
   "execution_count": null,
   "metadata": {},
   "outputs": [],
   "source": [
    "# Vamos criar uma variável e ver toda a informação que está representação simbólica tem.\n",
    "import sys\n",
    "variavel_1 = \"Sou uma variável do tipo texto\"\n",
    "print(f\"\"\"\n",
    "Dados para a variavel_1\n",
    "Endereço da memoria da variável: {id(variavel_1)};\n",
    "Tipo de dado armazenado: {type(variavel_1)};\n",
    "Valor armazenado: {variavel_1};\n",
    "Tamanho em bytes: {sys.getsizeof(variavel_1)};\n",
    "Variável global: {\"variavel_1\" in dir()};\n",
    "\"\"\")"
   ]
  },
  {
   "cell_type": "markdown",
   "metadata": {},
   "source": [
    "## 4. Tipos de dados\n",
    "\n",
    "Em Pythom existem 5 tipos de dados, sendo 4 de tipo numérico e 1 de tipo texto:\n",
    "\n",
    "- Tipo inteiro (`int`), seriam números inteiros positivos ou negativos;\n",
    "- Tipo flutuante (`float`) seriam número de ponto decimal positivos ou negativos;\n",
    "- Tipo complexo (`complex`) seriam número complexo representa com a parte imaginária (`j`);\n",
    "- Tipo booliano (`bool`) sendo `0` para `False` e `1` para `True`;\n",
    "- Tipo texto (`str`) sendo qualquer carácter alfanumérico contido na tabela ASCII (https://web.fe.up.pt/~ee96100/projecto/Tabela%20ascii.htm), o espaço também e considerado um objeto do tipo `str`"
   ]
  },
  {
   "cell_type": "code",
   "execution_count": null,
   "metadata": {},
   "outputs": [],
   "source": [
    "# Exemplo variáveis do tipo int\n",
    "variavel_int_0 = 0\n",
    "variavel_int_1 = 25\n",
    "variavel_int_2 = -10\n",
    "print(type(variavel_int_0))\n",
    "print(type(variavel_int_1))\n",
    "print(type(variavel_int_2))"
   ]
  },
  {
   "cell_type": "code",
   "execution_count": null,
   "metadata": {},
   "outputs": [],
   "source": [
    "# Exemplo variáveis do tipo float\n",
    "variavel_float_0 = 0.0\n",
    "variavel_float_1 = 25.0\n",
    "variavel_float_2 = -10.0\n",
    "variavel_float_3 = 3.14159265358979323846\n",
    "print(type(variavel_float_0))\n",
    "print(type(variavel_float_1))\n",
    "print(type(variavel_float_2))\n",
    "print(type(variavel_float_3))"
   ]
  },
  {
   "cell_type": "code",
   "execution_count": null,
   "metadata": {},
   "outputs": [],
   "source": [
    "# Exemplo variáveis do tipo complex\n",
    "variavel_comlex_0 = 1 + 3j\n",
    "variavel_comlex_1 = 25.0 + 0.25j\n",
    "variavel_comlex_2 = -10.0 - 0.0j\n",
    "variavel_comlex_3 = 2 + 2.0j\n",
    "print(type(variavel_comlex_0))\n",
    "print(type(variavel_comlex_1))\n",
    "print(type(variavel_comlex_2))\n",
    "print(type(variavel_comlex_3))"
   ]
  },
  {
   "cell_type": "code",
   "execution_count": null,
   "metadata": {},
   "outputs": [],
   "source": [
    "# Exemplo variáveis do tipo bool\n",
    "variavel_bool_0 = False\n",
    "variavel_bool_1 = True\n",
    "variavel_bool_2 = 0\n",
    "variavel_bool_3 = 1\n",
    "print(type(variavel_bool_0))\n",
    "print(type(variavel_bool_1))\n",
    "print(type(variavel_bool_2))\n",
    "print(type(variavel_bool_3))\n",
    "print(1 == True) # Estou perguntando se 1 é igual a True\n",
    "print(0 == False) # Estou perguntando se 0 é igual a False"
   ]
  },
  {
   "cell_type": "code",
   "execution_count": null,
   "metadata": {},
   "outputs": [],
   "source": [
    "# Exemplo variáveis do tipo str\n",
    "variavel_str_0 = \"a\"\n",
    "variavel_str_1 = 'Laboratorio'\n",
    "variavel_str_2 = \"65\"\n",
    "variavel_str_3 = \" \"\n",
    "variavel_str_4 = ' texto '\n",
    "print(type(variavel_str_0))\n",
    "print(type(variavel_str_1))\n",
    "print(type(variavel_str_2))\n",
    "print(type(variavel_str_3))\n",
    "print(type(variavel_str_4))\n"
   ]
  },
  {
   "cell_type": "markdown",
   "metadata": {},
   "source": [
    "### Conversão de tipos de dados (`Casting`)\n",
    "\n",
    "Podemos realizar a conversão de um tipo de dado para outro, sempre e quando está conversão seja possível, isto é chamado de `casting`\n",
    "\n",
    "- Para converter para um tipo `int` usamos a função `int()`\n",
    "- Para converter para um tipo `float` usamos a função `float()`\n",
    "- Para converter para um tipo `complex` usamos a função `complex()`\n",
    "- Para converter para um tipo `bool` usamos a função `bool()`\n",
    "- Para converter para um tipo `str` usamos a função `str()`"
   ]
  },
  {
   "cell_type": "markdown",
   "metadata": {},
   "source": [
    "#### Exemplo `int()`"
   ]
  },
  {
   "cell_type": "code",
   "execution_count": null,
   "metadata": {},
   "outputs": [],
   "source": [
    "variavel_float = 3.14159265358979323846\n",
    "variavel_complex = 3+6j\n",
    "variavel_str = \"25\"\n",
    "variavel_str_2 = \"numero\"\n",
    "variavel_bool_true = True\n",
    "variavel_bool_false = False\n",
    "\n",
    "# print(variavel_float)\n",
    "# print(int(variavel_float))\n",
    "\n",
    "# print(variavel_complex)\n",
    "# print(int(variavel_complex)) # TypeError\n",
    "\n",
    "# print(variavel_str)\n",
    "# print(int(variavel_str))\n",
    "\n",
    "# print(variavel_str_2)\n",
    "# print(int(variavel_str_2)) # TypeError\n",
    "\n",
    "# print(variavel_bool_true)\n",
    "# print(int(variavel_bool_true))\n",
    "# print(variavel_bool_false)\n",
    "# print(int(variavel_bool_false))"
   ]
  },
  {
   "cell_type": "markdown",
   "metadata": {},
   "source": [
    "**Podemos afirmar**:\n",
    "\n",
    "1. O casting de um `float` para `int` é possível, o retorno é a parte inteira;\n",
    "2. O casting de um `complex` para `int` **não** é possível, vamos ter `TypeError`;\n",
    "3. O casting de um `str` é possível somente se a variável a ser convertida contém exclusivamente números. Caso contrário vamos ter um `ValueError`;\n",
    "4. O casting de um `bool` para `int` é possível. Se o valor é `True` o retorno é `1` caso contrario será `0`."
   ]
  },
  {
   "cell_type": "markdown",
   "metadata": {},
   "source": [
    "#### Exemplo `float()`"
   ]
  },
  {
   "cell_type": "code",
   "execution_count": null,
   "metadata": {},
   "outputs": [],
   "source": [
    "variavel_int = 5\n",
    "variavel_complex = 3+6j\n",
    "variavel_str = \"25\"\n",
    "variavel_str_2 = \"numero\"\n",
    "variavel_bool_true = True\n",
    "variavel_bool_false = False\n",
    "\n",
    "# print(variavel_int)\n",
    "# print(float(variavel_int))\n",
    "\n",
    "# print(variavel_complex)\n",
    "# print(float(variavel_complex)) # TypeError\n",
    "\n",
    "# print(variavel_str)\n",
    "# print(float(variavel_str))\n",
    "\n",
    "# print(variavel_str_2)\n",
    "# print(float(variavel_str_2)) # TypeError\n",
    "\n",
    "print(variavel_bool_true)\n",
    "print(float(variavel_bool_true))\n",
    "print(variavel_bool_false)\n",
    "print(float(variavel_bool_false))"
   ]
  },
  {
   "cell_type": "markdown",
   "metadata": {},
   "source": [
    "**Podemos afirmar**:\n",
    "\n",
    "1. O casting de um `int` para `float` é possível;\n",
    "2. O casting de um `complex` para `float` **não** é possível, vamos ter `TypeError`;\n",
    "3. O casting de um `str` para `float` é possível **somente** se a variável a ser convertida contem exclusivamente números. Caso contrario vamos ter um ValueError;\n",
    "4. O casting de um `bool` para `float` é possível. Se o valor é `True` o retorno é `1.0` caso contrario será `0.0`."
   ]
  },
  {
   "cell_type": "markdown",
   "metadata": {},
   "source": [
    "#### Exemplo `complex()`"
   ]
  },
  {
   "cell_type": "code",
   "execution_count": null,
   "metadata": {},
   "outputs": [],
   "source": [
    "variavel_int = 5\n",
    "variavel_float = 3.14159265358979323846\n",
    "variavel_str = \"25\"\n",
    "variavel_str_2 = \"numero\"\n",
    "variavel_bool_true = True\n",
    "variavel_bool_false = False\n",
    "\n",
    "# print(variavel_int)\n",
    "# print(complex(variavel_int))\n",
    "\n",
    "# print(variavel_float)\n",
    "# print(complex(variavel_float))\n",
    "\n",
    "# print(variavel_str)\n",
    "# print(complex(variavel_str))\n",
    "\n",
    "# print(variavel_str_2)\n",
    "# print(complex(variavel_str_2))\n",
    "\n",
    "print(variavel_bool_true)\n",
    "print(complex(variavel_bool_true))\n",
    "print(variavel_bool_false)\n",
    "print(complex(variavel_bool_false))"
   ]
  },
  {
   "cell_type": "markdown",
   "metadata": {},
   "source": [
    "**Podemos afirmar**:\n",
    "\n",
    "1. O casting de um `int` para `complex` é possível, neste caso se adiciona a parte imaginário `0j`;\n",
    "2. O casting de um `float` para `complex` é possível, neste caso se adiciona a parte imaginário `0j`;\n",
    "3. O casting de um `str` para `complex` é possível **somente** se a variável a ser convertida contem exclusivamente números, neste caso se adiciona a parte imaginário `0j`. Caso contrário vamos ter um `ValueError`;\n",
    "4. O casting de um `bool` para `complex` é possível. Se o valor é `True` o retorno é `1 + 0j` caso contrário será `0j`."
   ]
  },
  {
   "cell_type": "markdown",
   "metadata": {},
   "source": [
    "#### Exemplo `bool()`"
   ]
  },
  {
   "cell_type": "code",
   "execution_count": null,
   "metadata": {},
   "outputs": [],
   "source": [
    "variavel_int = 3\n",
    "variavel_int_2 = 0\n",
    "variavel_float = 3.14159265358979323846\n",
    "variavel_float_2 = 0.0000\n",
    "variavel_complex = 3+6j\n",
    "variavel_complex_2 = 0 + 0j\n",
    "variavel_str = \"25\"\n",
    "variavel_str_2 = \"0\"\n",
    "variavel_str_3 = \"numero\"\n",
    "\n",
    "# print(variavel_int)\n",
    "# print(bool(variavel_int))\n",
    "# print(variavel_int_2)\n",
    "# print(bool(variavel_int_2))\n",
    "\n",
    "# print(variavel_float)\n",
    "# print(bool(variavel_float))\n",
    "# print(variavel_float_2)\n",
    "# print(bool(variavel_float_2))\n",
    "\n",
    "# print(variavel_complex)\n",
    "# print(bool(variavel_complex))\n",
    "# print(variavel_complex_2)\n",
    "# print(bool(variavel_complex_2))\n",
    "\n",
    "print(variavel_str)\n",
    "print(bool(variavel_str))\n",
    "print(variavel_str_2)\n",
    "print(bool(variavel_str_2))\n",
    "print(variavel_str_3)\n",
    "print(bool(variavel_str_3))"
   ]
  },
  {
   "cell_type": "markdown",
   "metadata": {},
   "source": [
    "**Podemos afirmar**:\n",
    "\n",
    "1. O casting de um `int` para `bool` é possível. Podemos ter dois retornos caso o valor seja `0` o retorno será `False`, caso contrário o retorno será `True`;\n",
    "2. O casting de um `floa` para `bool` é possível. Podemos ter dois retornos caso o valor seja `0.0` o retorno será `False`, caso contrário o retorno será `True`;\n",
    "3. O casting de um `complex` para `bool` é possível. Podemos ter dois retornos caso o valor se `0 + 0j` o retorno será `False`, caso contrario o retorno será `True`;\n",
    "4. O casting de um `str` para `bool` é possível, e sempre o retorno será `True`."
   ]
  },
  {
   "cell_type": "markdown",
   "metadata": {},
   "source": [
    "#### Exemplo `str()`"
   ]
  },
  {
   "cell_type": "code",
   "execution_count": null,
   "metadata": {},
   "outputs": [],
   "source": [
    "variavel_int = 5\n",
    "variavel_float = 3.14159265358979323846\n",
    "variavel_complex = 3+6j\n",
    "variavel_bool_true = True\n",
    "variavel_bool_false = False\n",
    "\n",
    "print(variavel_int)\n",
    "print(str(variavel_int))\n",
    "\n",
    "print(variavel_float)\n",
    "print(str(variavel_float))\n",
    "\n",
    "print(variavel_complex)\n",
    "print(str(variavel_complex))\n",
    "\n",
    "print(variavel_bool_true)\n",
    "print(str(variavel_bool_true))\n",
    "print(variavel_bool_false)\n",
    "print(str(variavel_bool_false))"
   ]
  },
  {
   "cell_type": "markdown",
   "metadata": {},
   "source": [
    "**Podemos afirmar**:\n",
    "\n",
    "1. O casting de um `int` para `str` é possível;\n",
    "\n",
    "2. O casting de um `float` para `str` é possível;\n",
    "\n",
    "3. O casting de um `complex` para `str` é possível;\n",
    "\n",
    "4. O casting de um `bool` para `bool` é possível."
   ]
  },
  {
   "cell_type": "markdown",
   "metadata": {},
   "source": [
    "## 5. Utilitários em Python\n",
    "\n",
    "Utilitários são métodos/funções que ajudam a identificar as características ou descrição dos objetos. Vamos nos focar em dois utilitários que são muito importantes.\n",
    "\n",
    "- Utilitário `help()`: A função `help()` é usada para mostrar a documentação de um método, função, classe, objeto, palavra-chave, etc. A sintaxe para a utilização é:\n",
    "<center> help(objecto)\n",
    "\n",
    "- Utilitário `dir()`. A função `dir()` é usada para retornar uma lista com os atributos e métodos que estão associados a um objeto. A sintaxe para utilização é\n",
    "<center> dir(objecto)\n",
    "\n",
    "---\n",
    "Documentação do `help()`:\n",
    "\n",
    "https://www.programiz.com/python-programming/methods/built-in/help\n",
    "    \n",
    "Documentação do `dir()` :\n",
    "    \n",
    "https://www.programiz.com/python-programming/methods/built-in/dir"
   ]
  },
  {
   "cell_type": "markdown",
   "metadata": {},
   "source": [
    "#### Exemplo para `help()`"
   ]
  },
  {
   "cell_type": "code",
   "execution_count": null,
   "metadata": {},
   "outputs": [],
   "source": [
    "help(int)"
   ]
  },
  {
   "cell_type": "code",
   "execution_count": null,
   "metadata": {},
   "outputs": [],
   "source": [
    "valor_int = 5\n",
    "help(valor_int)"
   ]
  },
  {
   "cell_type": "code",
   "execution_count": null,
   "metadata": {},
   "outputs": [],
   "source": [
    "help(str)"
   ]
  },
  {
   "cell_type": "code",
   "execution_count": null,
   "metadata": {},
   "outputs": [],
   "source": [
    "variavel_str = \" \"\n",
    "help(variavel_str)"
   ]
  },
  {
   "cell_type": "markdown",
   "metadata": {},
   "source": [
    "#### Exemplo `dir()`"
   ]
  },
  {
   "cell_type": "code",
   "execution_count": null,
   "metadata": {},
   "outputs": [],
   "source": [
    "dir(int)"
   ]
  },
  {
   "cell_type": "code",
   "execution_count": null,
   "metadata": {},
   "outputs": [],
   "source": [
    "valor_int = 25\n",
    "dir(valor_int)"
   ]
  },
  {
   "cell_type": "code",
   "execution_count": null,
   "metadata": {},
   "outputs": [],
   "source": [
    "dir(str)"
   ]
  },
  {
   "cell_type": "code",
   "execution_count": null,
   "metadata": {},
   "outputs": [],
   "source": [
    "variavel_str = \" \"\n",
    "dir(variavel_str)"
   ]
  },
  {
   "cell_type": "markdown",
   "metadata": {},
   "source": [
    "## 6. Containers nativos e não nativos (Collections)\n",
    "\n",
    "- Em Python, Containers são tipos de dados que permitem armazenar outros tipos de dados e acessá-los utilizando índices ou chaves;\n",
    "\n",
    "- Python possui 4 Containers de forma nativa, sendo estes `list` (listas), `tuple` (tuplas), `dict` (dicionários) e `set` conjuntos;\n",
    "\n",
    "- Todos os Containers em Python aceitam qualquer tipo de objeto, e incuso outros Containers;\n",
    "\n",
    "- Existem algumas Collestions adicionais que podem ser utilizadas importando o módulo `collections` (`import collections`). Essas Collections são mais performáticas em comparação às citadas previamente;\n",
    "\n",
    "- Para identificar o tamanho de um Conteiners pode ser utilizada a função `len()`;\n",
    "\n",
    "- Em Python existe duas forma de acessar aos elementos contidos nos Containers:\n",
    "    1. Utilizando o índice, neste caso o primeiro elemento é acessado através do índice zero `0`. Esta forma de acessar é valida para listas e tuplas\n",
    "    2. Também é possível acessar aos elementos através de uma palavra chave. Esta forma de acessar é valida para dicionários\n",
    "    3. Os conjuntos não aceita acessar aos elementos por índice nem por palavra chave\n",
    "---\n",
    "Para mais informação recomendo :\n",
    "https://docs.python.org/3/tutorial/datastructures.html\n"
   ]
  },
  {
   "cell_type": "markdown",
   "metadata": {},
   "source": [
    "### Listas\n",
    "\n",
    "- As Listas em Python são semelhantes aos Arrays das linguagens C++ e Java;\n",
    "- São objetos mutáveis e podem ser alteradas apos ser definidas;\n",
    "- São objetos ordenados e cada elemento tem seu lugar definido, isto indica que o primeiro elemento da lista sempre vai ser acessado através do índice `0` e o ultimo elemento através do índice `-1`;\n",
    "- As listas aceitam valores repetidos;\n",
    "- Para definir uma lista utilizamos o símbolo de colchetes `[]` e cada elemento dentro da lista é separado por vírgula.\n"
   ]
  },
  {
   "cell_type": "code",
   "execution_count": null,
   "metadata": {},
   "outputs": [],
   "source": [
    "lista_1 = [ ]\n",
    "lista_2 = [1, 2, 3]\n",
    "lista_3 = [1, 2.5, 1 + 3j] \n",
    "lista_4 = [\"a\", 'B', 25, 3.141516, \"0\"]\n",
    "lista_5 = [[], lista_2, lista_3, lista_4, ',']\n",
    "print(\"lista_1 =\", lista_1, \"Tipo da lista_1 = \", type(lista_1), \"Tamanho lista_1 =\", len(lista_1))\n",
    "print(\"lista_2 =\", lista_2, \"Tipo da lista_2 = \", type(lista_2), \"Tamanho lista_2 =\", len(lista_2))\n",
    "print(\"lista_3 =\", lista_3, \"Tipo da lista_3 = \", type(lista_3), \"Tamanho lista_3 =\", len(lista_3))\n",
    "print(\"lista_4 =\", lista_4, \"Tipo da lista_4 = \", type(lista_4), \"Tamanho lista_4 =\", len(lista_4))\n",
    "print(\"lista_5 =\", lista_5, \"Tipo da lista_5 = \", type(lista_5), \"Tamanho lista_5 =\", len(lista_5))"
   ]
  },
  {
   "cell_type": "code",
   "execution_count": null,
   "metadata": {},
   "outputs": [],
   "source": [
    "lista_4\n",
    "lista_4[0]= 1000\n",
    "lista_4"
   ]
  },
  {
   "cell_type": "markdown",
   "metadata": {},
   "source": [
    "### Tuplas\n",
    "\n",
    "- As Tuplas em Python são parecidas às listas, porém são objetivos imutáveis, por este motivo não é possível modificar uma tupla após definí-la;\n",
    "- Porém, se um dos elementos dentro da tupla é um contêiner (como uma lista), podemos modificar o conteúdo deste Conteiner;\n",
    "- As tuplas são objetos ordenados e cada elemento tem seu lugar definido, isto indica que o primeiro elemento da lista sempre vai ser acessado através do índice `0` e o ultimo elemento através do índice `-1`\n",
    "- As tuplas aceitam valores repetidos;\n",
    "- Para definir uma tupla é obrigatório o uso de virgula separando os elementos. Caso a tupla tenha somente um elemento, deve-se acrescentar uma vírgula no final;\n",
    "- **OBS.** é comum acreditar que o as tuplas são definidas com parênteses, porém o fator definidor da tupla é a virgula.\n"
   ]
  },
  {
   "cell_type": "code",
   "execution_count": null,
   "metadata": {},
   "outputs": [],
   "source": [
    "# Tupla unitaria\n",
    "tupla_unitaria = (25) # ERRADO. isso não é uma tupla, isto é um int\n",
    "tupla_unitaria_2 = 25, # FORMA CERTA.Isso é uma tupla pois estamos utilizando uma virgula no final\n",
    "tupla_unitaria_3 = (25,) # FORMA CERTA. Isso também é uma tupla pois estamos usando uma virgula\n",
    "                         # Notem que o fator definidor é a virgula e não o parêntese\n",
    "print(\"tupla_unitaria = \", tupla_unitaria, \"| Tipo de dados: \", type(tupla_unitaria))\n",
    "print(\"tupla_unitaria_2 = \", tupla_unitaria_2, \"| Tipo de dados: \", type(tupla_unitaria_2))\n",
    "print(\"tupla_unitaria_3 = \", tupla_unitaria_3, \"| Tipo de dados: \", type(tupla_unitaria_3))"
   ]
  },
  {
   "cell_type": "code",
   "execution_count": null,
   "metadata": {},
   "outputs": [],
   "source": [
    "tupla_1 = ( )\n",
    "tupla_2 = (1, 2, 3)\n",
    "tupla_3 = (1, 2.5, 1 + 3j)\n",
    "tupla_4 = (\"a\", 'B', 25, 3.141516, \"0\")\n",
    "tupla_5 = ([], tupla_1, tupla_2, tupla_4, ',')\n",
    "print(\"tupla_1 =\", tupla_1, \"Tipo da tupla_1 = \", type(tupla_1), \"Tamanho tupla_1 =\", len(tupla_1))\n",
    "print(\"tupla_2 =\", tupla_2, \"Tipo da tupla_2 = \", type(tupla_2), \"Tamanho tupla_2 =\", len(tupla_2))\n",
    "print(\"tupla_3 =\", tupla_3, \"Tipo da tupla_3 = \", type(tupla_3), \"Tamanho tupla_3 =\", len(tupla_3))\n",
    "print(\"tupla_4 =\", tupla_4, \"Tipo da tupla_4 = \", type(tupla_4), \"Tamanho tupla_4 =\", len(tupla_4))\n",
    "print(\"tupla_5 =\", tupla_5, \"Tipo da tupla_5 = \", type(tupla_5), \"Tamanho tupla_5 =\", len(tupla_5))"
   ]
  },
  {
   "cell_type": "code",
   "execution_count": null,
   "metadata": {},
   "outputs": [],
   "source": [
    "# Propriedade inmutable das tuplas\n",
    "tupla_imutavel = (1, 2, 3, (4, 5, 6), [7, 8, 9])\n",
    "print(tupla_imutavel)\n",
    "\n",
    "# tupla_imutavel[0] = 10 # Estou reescrevendo o primeiro elmento da tupla. TypeError\n",
    "# print(tupla_imutavel)\n",
    "\n",
    "# print(tupla_imutavel[-1])\n",
    "# tupla_imutavel[-1] = 10 # Estou reescrevendo o ultimo  elemento da tupla. TypeError\n",
    "# print(tupla_imutavel)\n",
    "\n",
    "print(tupla_imutavel[-1])\n",
    "tupla_imutavel[-1][0] = 700 # Estou reescrevendo o primeiro elemento do ultimo elemento da tupla\n",
    "print(tupla_imutavel)"
   ]
  },
  {
   "cell_type": "markdown",
   "metadata": {},
   "source": [
    "### Dicionários\n",
    "\n",
    "- Dicionários são Collections onde a ordem dos elementos não é garantida;\n",
    "- Para os dicionários cada elemento está vinculado a uma chave, por esse motivo o acesso aos elementos é feito a traves das chaves e não dos índices. Por esse motivo os dicionários não garantem a ordem;\n",
    "- Os dicionários não aceitam chaves repetidas; caso a chave seja repetida o dicionário reescreverá o valor da chave segundo o ultimo elemento que se passou;\n",
    "- Para definir um dicionário se utiliza o símbolo de chaves `{}`;\n",
    "- A sintaxe para definir um dicionário é:\n",
    "<center> dicionario = {“chave1” : elemento_1, “chave2” : elemento_2, …, “chave_n” : elemento_n}</center>\n",
    "onde: \n",
    "- a chave pode ser dados do tipo `str`, `int`, `float` ou `tuple`;\n",
    "- O os elementos podem ser qualquer tipo de dado e incluso outras Collections.\n"
   ]
  },
  {
   "cell_type": "code",
   "execution_count": null,
   "metadata": {},
   "outputs": [],
   "source": [
    "dic = {} # Dicionário vazio\n",
    "dic_2 = {\"Chave 1\":\"25\"} # Dicionário unitario\n",
    "dic_3 = {\"Chave 1\":\"25\", # Dicionários com varios tipos de chaves\n",
    "         25: \"25\",\n",
    "         (1,): (25, 25),\n",
    "         3.1415: \"Pi\",\n",
    "        0.0 + 0.1j: \"complex\"}\n",
    "dic_4 = {\"Chave 1\":\"25\", # Dicionários com chaves repetidas\n",
    "        \"Chave 2\": 1000,\n",
    "        \"Chave 3\": 50,\n",
    "        \"Chave 1\": 85}\n",
    "print(f\"\"\"\n",
    "dic: {dic}\n",
    "tipo dic: {type(dic)}\"\"\")\n",
    "print(f\"\"\"\n",
    "dic_2: {dic_2}\n",
    "tipo dic: {type(dic_2)}\"\"\")\n",
    "print(f\"\"\"\n",
    "dic_3: {dic_3}\n",
    "tipo dic: {type(dic_3)}\"\"\")\n",
    "print(f\"\"\"\n",
    "dic_4: {dic_4}\n",
    "tipo dic: {type(dic_4)}\"\"\")"
   ]
  },
  {
   "cell_type": "markdown",
   "metadata": {},
   "source": [
    "## Conjuntos\n",
    "\n",
    "- Um conjunto é uma Collection não ordenada de valores únicos;\n",
    "- Os elementos de um conjunto pode ser qualquer tipo de dado sempre e quando os elementos não sejam mutáveis (listas, dicionários ou outros conjuntos);\n",
    "- Os elementos de um conjunto são imutáveis, porém, o conjunto em si é mutável, podendo adicionar ou remover itens;\n",
    "- Os elementos de um conjunto não podem ser acessados com índice nem com chaves;\n",
    "- Os conjuntos são usados para realizar operações matemáticas de união, intersecção, diferença simétrica, etc;\n",
    "- Para definir um conjuntos usamos as chaves`{}` e os elementos são separados com vírgulas."
   ]
  },
  {
   "cell_type": "code",
   "execution_count": null,
   "metadata": {},
   "outputs": [],
   "source": [
    "conj = {}# ERRADO, não é possivel definir um conjunto vazio desta forma\n",
    "conj2 = set([])# CERTO, é possivel definir um conjunto vazio desta forma\n",
    "conj_2 = {1, 2, 3}\n",
    "conj_3 = {(1, 2, 3), 4, \"5\", 6.0, 7 + 0j}\n",
    "conj_4 = {1, 2, 3, 4, 5, 5, 4, 3, 2, 1, 0}\n",
    "print(f\"\"\"\n",
    "conj: {conj}\n",
    "tipo conjunto: {type(conj)}\"\"\")\n",
    "print(f\"\"\"\n",
    "conj: {conj2}\n",
    "tipo conjunto: {type(conj2)}\"\"\")\n",
    "print(f\"\"\"\n",
    "conj: {conj_2}\n",
    "tipo conjunto: {type(conj_2)}\"\"\")\n",
    "print(f\"\"\"\n",
    "conj: {conj_3}\n",
    "tipo conjunto: {type(conj_3)}\"\"\")\n",
    "print(f\"\"\"\n",
    "conj: {conj_4}\n",
    "tipo conjunto: {type(conj_4)}\"\"\")"
   ]
  },
  {
   "cell_type": "markdown",
   "metadata": {},
   "source": [
    "### High-performance container\n",
    "\n",
    "Além das collections apresentadas previamente, Python disponibiliza outras collections mais performáticas. Essa collections podem ser importadas do módulo `collections` (módulo já instalado por padrão). As mais utilizadas são:\n",
    "- `nametuple()`\n",
    "- `Counter()`\n",
    "- `deque()`\n",
    "- `OrderedDict()`\n",
    "- `defaultdict()`\n",
    "\n",
    "Para mais informação recomendo a leitura da documentação dessas Collections\n",
    "\n",
    "https://docs.python.org/3.8/library/collections.html#module-collections"
   ]
  },
  {
   "cell_type": "markdown",
   "metadata": {},
   "source": [
    "## 7. Manipulação e metodos aplicados a collections\n",
    "\n",
    "Até agora temos visto os tipos de dados e os conteiners nativos. Agora passamos a trabalhar com a manipulação (fatiamento) destes conteiners e os métodos associados a cada um.\n",
    "Cada objeto conta com uma série de métodos/funções que facilita a manipulação. Para conseguir conhecer todas as funções que os objetos possuem podemos utilizar o comando `dir()`."
   ]
  },
  {
   "cell_type": "markdown",
   "metadata": {},
   "source": [
    "### Fatiamento de listas e tuplas\n",
    "As listas e as tuplas são uma sequência de elementos organizados, cada elemento destas collections está associado a um índice que inicia em zero `0`e termina no último elemento com índice` -1`.\n",
    "\n",
    "Porém, podemos realizar operações de fatiamento para recuperar algum elemento ou uma série de elementos de nossos Collections. Vale a pena destacar, que podemos modificar os elementos de uma lista, porém, esta mesma operação não está definida para tuplas.\n",
    "\n",
    "Como podemos entender uma lista e uma tupla?\n",
    "```\n",
    "+---+---+---+---+---+---+\n",
    "| A | B | C | D | E | F | representação para a lista  L = [A, B, C, D, E, F]\n",
    "+---+---+---+---+---+---+\n",
    "\n",
    "+---+---+---+---+---+---+\n",
    "| 0 | 1 | 2 | 3 | 4 | 5 | representação dos índices para L\n",
    "+---+---+---+---+---+---+\n",
    "\n",
    "+---+---+---+---+---+---+\n",
    "| -6| -5| -4| -3| -2| -1| representação dos índices para L\n",
    "+---+---+---+---+---+---+\n",
    "```"
   ]
  },
  {
   "cell_type": "code",
   "execution_count": null,
   "metadata": {},
   "outputs": [],
   "source": [
    "lista = [\"A\", \"B\", \"C\", \"D\", \"E\", \"F\"]\n",
    "tupla = (\"a\", \"b\", \"c\", \"d\", \"e\", \"f\")\n",
    "print(lista)\n",
    "print(tupla)"
   ]
  },
  {
   "cell_type": "code",
   "execution_count": null,
   "metadata": {},
   "outputs": [],
   "source": [
    "# Acessando aos elementos\n",
    "l_0 = lista[0]\n",
    "l_end = lista[-1]\n",
    "l_1 = lista[1]\n",
    "l_2 = lista[-4]\n",
    "l_2_2 = lista[2]\n",
    "print(l_0, l_end, l_1, l_2, l_2_2)\n",
    "\n",
    "# O mesmo é valido para tuplas\n",
    "t_0 = tupla[0]\n",
    "t_end = tupla[-1]\n",
    "t_1 = tupla[1]\n",
    "t_2 = tupla[-4]\n",
    "t_2_2 = tupla[2]\n",
    "\n",
    "print(t_0, t_end, t_1, t_2, t_2_2)"
   ]
  },
  {
   "cell_type": "code",
   "execution_count": null,
   "metadata": {},
   "outputs": [],
   "source": [
    "# Modificando os elementos\n",
    "print(lista)\n",
    "lista[0] = 10\n",
    "lista[-1] = 100\n",
    "print(lista)\n",
    "\n",
    "# Com a tupla não podemos realizar isso, pois ela é imutável\n",
    "# print(tupla)\n",
    "# tupla[0] = 10 # TypeError"
   ]
  },
  {
   "cell_type": "markdown",
   "metadata": {},
   "source": [
    "#### Fatiando\n",
    "A sintaxe para fatiar uma lista ou uma tupla depende da finalidade:\n",
    "\n",
    "---\n",
    "Pegando uma série continua de elementos:\n",
    "\n",
    "`objeto_que_sera_fatiado[valor_inicial : valor_final]`\n",
    "\n",
    "Interpretamos da seguinte forma, vamos pegar o elemento localizado no índice `valor_inicial` e pegar até o índice `valor_final`. Porém, o `valor_final` é excludente e estaríamos pegando o elemento anterior a esse índice (`valor_final - 1`)\n",
    "\n",
    "---\n",
    "Pegando uma série de elementos com um espaçamento:\n",
    "\n",
    "`objeto_que_sera_fatiado[valor_inicial : valor_final : step]`\n",
    "\n",
    "Interpretamos da seguinte forma, vamos pegar o elemento localizado no índice `valor_inicial` até o índice `valor_finall`, com um espaçamento de `step` unidades. Porém, o `valor_final` é excludente e estaríamos pegando o elemento anterior a esse índice (`valor_final - 1`)"
   ]
  },
  {
   "cell_type": "code",
   "execution_count": null,
   "metadata": {},
   "outputs": [],
   "source": [
    "lista = [1, 2, 3, 4, 5, 6, 7, 8, 9, 10]\n",
    "tupla = (1, 2, 3, 4, 5, 6, 7, 8, 9, 10)\n",
    "\n",
    "# Fatiando a lista\n",
    "print(lista)\n",
    "lista_1 = lista[4:-1]\n",
    "lista_2 = lista[0:-5]\n",
    "lista_3 = lista[0:-1:2]\n",
    "lista_4 = lista[::3]\n",
    "lista_5 = lista[::-1]\n",
    "print(lista_1)\n",
    "print(lista_2)\n",
    "print(lista_3)\n",
    "print(lista_4)\n",
    "print(lista_5)\n",
    "\n",
    "# Fatiando a tupla\n",
    "print(tupla)\n",
    "tupla_1 = tupla[4:-1]\n",
    "tupla_2 = tupla[0:-5]\n",
    "tupla_3 = tupla[0:-1:2]\n",
    "tupla_4 = tupla[::3]\n",
    "tupla_5 = tupla[::-1]\n",
    "print(tupla_1)\n",
    "print(tupla_2)\n",
    "print(tupla_3)\n",
    "print(tupla_4)\n",
    "print(tupla_5)"
   ]
  },
  {
   "cell_type": "markdown",
   "metadata": {},
   "source": [
    "### Métodos aplicados a collections\n",
    "Todos os objetos tem uma série de métodos/funções que facilitam manipulação deles. Para conhecer todos os métodos podemos aplicar a função `dir()`.\n"
   ]
  },
  {
   "cell_type": "markdown",
   "metadata": {},
   "source": [
    "### Listas\n",
    "Para listas contamos com os seguintes métodos:\n",
    "- `append`: Adiciona um elemento no final da lista;\n",
    "- `clear`: Limpa o conteúdo da lista;\n",
    "- `copy`: realiza uma cópia profunda da lista;,\n",
    "- `count`: Totaliza o total de ocorrências de um determinado elemento;\n",
    "- `extend`: Juntas duas listas;\n",
    "- `index`: Retorna o indice da primeira ocorrência;\n",
    "- `insert`: Adiciona um elemento no índice indicado;\n",
    "- `pop`: Elimina o elemento de acordo ao índice passado, caso não passe nenhum índice, será eliminado o último elemento;\n",
    "- `remove`: Elimina o elemento passado;\n",
    "- `reverse`: inverte a ordem da lista;\n",
    "- `sort`: Organiza os elementos de menor a maior."
   ]
  },
  {
   "cell_type": "code",
   "execution_count": null,
   "metadata": {},
   "outputs": [],
   "source": [
    "lista = [1, 2, 3, 4, 5, 6, 7, 8, 9, 10]\n",
    "print(\"Original: \", lista)\n",
    "lista.append(10)\n",
    "print(\"append: \", lista)\n",
    "print(\"count: \", lista.count(10))\n",
    "lista.extend([10, 2, 5, 1])\n",
    "print(\"extend: \", lista)\n",
    "print(\"index: \", lista.index(10))\n",
    "lista.insert(1, 100)\n",
    "print(\"insert: \", lista)\n",
    "lista.pop(1)\n",
    "print(\"pop 1: \", lista)\n",
    "lista.pop()\n",
    "print(\"pop: \", lista)\n",
    "lista.remove(5)\n",
    "print(\"remove 5: \", lista)\n",
    "lista.reverse()\n",
    "print(\"reverse: \", lista)\n",
    "lista.sort()\n",
    "print(\"sort: \", lista)\n",
    "lista.clear()\n",
    "print(\"clear :\", lista)"
   ]
  },
  {
   "cell_type": "markdown",
   "metadata": {},
   "source": [
    "### Tuplas\n",
    "\n",
    "Como vimos anteriormente as tuplas são parecidas às listas, porém são imutáveis, por este motivo a quantidade de métodos disponíveis é menor. Nesse caso contamos com os seguinte métodos:\n",
    "- `count`: Totaliza o total de ocorrências de um determinado elemento;\n",
    "- `index`: Retorna o indice da primeira ocorrencia;"
   ]
  },
  {
   "cell_type": "code",
   "execution_count": null,
   "metadata": {},
   "outputs": [],
   "source": [
    "tupla = (1, 2, 3, 4, 1, 5, 2, 2, 3, 5)\n",
    "print(\"Original: \", tupla)\n",
    "print(\"count 2: \", tupla.count(2))\n",
    "print(\"index 2: \", tupla.index(2))"
   ]
  },
  {
   "cell_type": "markdown",
   "metadata": {},
   "source": [
    "### Dicionários\n",
    "Para dicionários contamos com os seguintes métodos:\n",
    "- `clear`: Limpa o conteúdo do dicionário;\n",
    "- `copy`: Gera uma copia profunda do dicionario;\n",
    "- `fromkeys`: Retorna um dicionário com as chaves especificadas e o mesmo valor para todas as chaves; \n",
    "- `get`: Retorna o valor especificando uma chave;\n",
    "- `items`: Retorna uma lista de tuplas contendo par (chave, valor);\n",
    "- `keys`: Retorna as chaves do dicionário;\n",
    "- `pop`: Elimina o valor asociado a uma chave;\n",
    "- `popitem`: Elimina o último valor passado;\n",
    "- `setdefault`: Retorna o valor passando uma chave e um valor. Se o a chave não existe é adicionado um novo elemento com a chave e o valor passado;\n",
    "- `update`: Adiciona um novo elemento no dicionario passando um dicionário;\n",
    "- `values`: Retorna os valores do dicionário"
   ]
  },
  {
   "cell_type": "code",
   "execution_count": null,
   "metadata": {},
   "outputs": [],
   "source": [
    "usuario = {\n",
    "    \"nome\": \"Ferna\",\n",
    "    \"idade\": \"28\",\n",
    "    \"telefone\": 22222222,\n",
    "    \"País\": \"Brasil\",\n",
    "}\n",
    "print(\"fromkeys: \", {}.fromkeys([\"nome\", \"idade\", \"telefone\", \"Pais\"]))\n",
    "print(\"get: \", usuario.get(\"nome\"))\n",
    "print(\"get: \", usuario.get(\"altura\"))\n",
    "print(\"item: \", usuario.items())\n",
    "print(\"keys: \", usuario.keys())\n",
    "print(\"values: \", usuario.values())\n",
    "print(\"pop: \", usuario.pop(\"País\"))\n",
    "print(\"pop: \", usuario)\n",
    "print(\"popitem: \", usuario.popitem())\n",
    "print(\"popitem: \", usuario)\n",
    "print(\"setdefault: \", usuario.setdefault(\"telefone\", 22222222))\n",
    "print(\"setdefault: \", usuario)\n",
    "print(\"update: \", usuario.update({\"País\": \"Brasil\"}))\n",
    "print(\"update: \", usuario)"
   ]
  },
  {
   "cell_type": "code",
   "execution_count": null,
   "metadata": {},
   "outputs": [],
   "source": [
    "usuario[\"nome\"]\n",
    "usuario[\"altura\"]\n"
   ]
  },
  {
   "cell_type": "markdown",
   "metadata": {},
   "source": [
    "### Set\n",
    "\n",
    "Os conjuntos são uma collection utilizada principalmente para realizar operações de conjuntos. Por este motivo não se apresentaram exemplos aplicando os diferentes métodos próprios desta collectios.\n",
    "- `add`: Adiciona um elemento ao conjunto;\n",
    "- `clear`: Elimina os elementos do conjuto\n",
    "- `copy`: Gera uma copia profunda do dicionario;\n",
    "- `pop`: Remove um elemento de forma randomica;\n",
    "- `remove`: Remove o elemento passado;\n",
    "- `update`: Junta dois conjuntos\n",
    "\n",
    "\n",
    "#### Métodos próprios dos conjutos\n",
    "\n",
    "\n",
    "- `difference`: Retorna os elementos que são iguais entre dois conjutos\n",
    "- `difference_update`: Retorna os elementos que pertence ao primeiro conjunto e não ao segundo\n",
    "- `discard`: Remove o elemento passado\n",
    "- `intersection`: Retorna os elementos que pertence aos dois conjutos;\n",
    "- `intersection_update`: Remove os elementos que estão nós dois conjutos;\n",
    "---\n",
    "Para mais informação sobre os diferentes metodos aplicados aos conjutos podemos aplicar `dir(set)`\n",
    "\n",
    "Para mais informação recomendo a leitura da documentação deste site:\n",
    "https://www.w3schools.com/python/python_sets.asp"
   ]
  },
  {
   "cell_type": "markdown",
   "metadata": {},
   "source": [
    "### Strings\n",
    "\n",
    "As strings são dados de tipo texto, o comportamento deste tipo de dado é muito semelhante às `list`. Por este motivo será apresentado nesta secção o comportamento deste tipo de dados.\n",
    "\n",
    "- Ao igual que as listas e as tuplas, as strings são indexadas de forma numérica, iniciando no índice zero `0` e indo até o ultimo elemento (`-1`)\n",
    "-As `strings` podem ser fatiadas da mesma forma que as listas e tuplas;\n",
    "- As `strings` apresentam 78 métodos que podem ser aplicados (`__add__`,\n",
    " `__class__`,\n",
    " `__contains__`,\n",
    " `__delattr__`,\n",
    " `__dir__`,\n",
    " `__doc__`,\n",
    " `__eq__`,\n",
    " `__format__`,\n",
    " `__ge__`,\n",
    " `__getattribute__`,\n",
    " `__getitem__`,\n",
    " `__getnewargs__`,\n",
    " `__gt__`,\n",
    " `__hash__`,\n",
    " `__init__`,\n",
    " `__init_subclass__`,\n",
    " `__iter__`,\n",
    " `__le__`,\n",
    " `__len__`,\n",
    " `__lt__`,\n",
    " `__mod__`,\n",
    " `__mul__`,\n",
    " `__ne__`,\n",
    " `__new__`,\n",
    " `__reduce__`,\n",
    " `__reduce_ex__`,\n",
    " `__repr__`,\n",
    " `__rmod__`,\n",
    " `__rmul__`,\n",
    " `__setattr__`,\n",
    " `__sizeof__`,\n",
    " `__str__`,\n",
    " `__subclasshook__`,\n",
    " `capitalize`,\n",
    " `casefold`,\n",
    " `center`,\n",
    " `count`,\n",
    " `encode`,\n",
    " `endswith`,\n",
    " `expandtabs`,\n",
    " `find`,\n",
    " `format`,\n",
    " `format_map`,\n",
    " `index`,\n",
    " `isalnum`,\n",
    " `isalpha`,\n",
    " `isascii`,\n",
    " `isdecimal`,\n",
    " `isdigit`,\n",
    " `isidentifier`,\n",
    " `islower`,\n",
    " `isnumeric`,\n",
    " `isprintable`,\n",
    " `isspace`,\n",
    " `istitle`,\n",
    " `isupper`,\n",
    " `join`,\n",
    " `ljust`,\n",
    " `lower`,\n",
    " `lstrip`,\n",
    " `maketrans`,\n",
    " `partition`,\n",
    " `replace`,\n",
    " `rfind`,\n",
    " `rindex`,\n",
    " `rjust`,\n",
    " `rpartition`,\n",
    " `rsplit`,\n",
    " `rstrip`,\n",
    " `split`,\n",
    " `splitlines`,\n",
    " `startswith`,\n",
    " `strip`,\n",
    " `swapcase`,\n",
    " `title`,\n",
    " `translate`,\n",
    " `upper`,\n",
    " `zfill`)"
   ]
  },
  {
   "cell_type": "markdown",
   "metadata": {},
   "source": [
    "#### Manipulação de Strings"
   ]
  },
  {
   "cell_type": "code",
   "execution_count": null,
   "metadata": {},
   "outputs": [],
   "source": [
    "texto = \"    Esta é uma string utilizada para exemplificar os diferentes métodos    \"\n",
    "print(\"String original: \", texto)\n",
    "print(\"String tannho: \", len(texto))\n",
    "\n",
    "# Fatiando String\n",
    "print(\"String fatiada -1: \", texto[-1])\n",
    "print(\"String fatiada 10: \", texto[10])\n",
    "print(\"String fatiada 0: \", texto[0])\n",
    "print(\"String fatiada [0:21]: \", texto[0:21])\n",
    "print(\"String fatiada [0:-1:2]: \", texto[0:-1:2])\n",
    "\n",
    "# Funções mais usadas\n",
    "print(\"upper(): \", texto.upper())\n",
    "print(\"strip(): \", texto.strip())\n",
    "print(\"title(): \", texto.title())\n",
    "print(\"split(): \", texto.split(\" \"))\n",
    "print(\"split(): \", texto.strip().split(\" \"))\n"
   ]
  },
  {
   "cell_type": "markdown",
   "metadata": {},
   "source": [
    "### Shallow e deep copy\n",
    "Python tem duas formas de realizar a copia dos objetos. É possível realizar uma cópia superficial (shallow copy) ou uma cópia profunda (deep copy). As duas copias diferem em questões de segurança dos objetos."
   ]
  },
  {
   "cell_type": "code",
   "execution_count": null,
   "metadata": {},
   "outputs": [],
   "source": [
    "# Shellow copy\n",
    "lista_original = [1, 2, 3, 4, 5]\n",
    "copia_lista = lista_original\n",
    "\n",
    "print(\"lista_origina = \", lista_original)\n",
    "print(\"copia_lista = \", copia_lista)\n",
    "\n",
    "# Modificando copia_lista\n",
    "\n",
    "copia_lista[0] = \"Novo Elemento\"\n",
    "print(\"Objetos após modificação\")\n",
    "print(\"lista_origina = \", lista_original)\n",
    "print(\"copia_lista = \", copia_lista)"
   ]
  },
  {
   "cell_type": "code",
   "execution_count": null,
   "metadata": {},
   "outputs": [],
   "source": [
    "print(id(lista_original))\n",
    "print(id(copia_lista))"
   ]
  },
  {
   "cell_type": "code",
   "execution_count": null,
   "metadata": {},
   "outputs": [],
   "source": [
    "# deep copy\n",
    "lista_original = [1, 2, 3, 4, 5]\n",
    "copia_lista = lista_original.copy()\n",
    "\n",
    "print(\"lista_origina = \", lista_original)\n",
    "print(\"copia_lista = \", copia_lista)\n",
    "\n",
    "# Modificando copia_lista\n",
    "\n",
    "copia_lista[0] = \"Novo Elemento\"\n",
    "print(\"Objetos após modificação\")\n",
    "print(\"lista_origina = \", lista_original)\n",
    "print(\"copia_lista = \", copia_lista)"
   ]
  },
  {
   "cell_type": "code",
   "execution_count": null,
   "metadata": {},
   "outputs": [],
   "source": [
    "print(id(lista_original))\n",
    "print(id(copia_lista))"
   ]
  },
  {
   "cell_type": "markdown",
   "metadata": {},
   "source": [
    "- Quando realizamos uma shallow copy, uma modificação de um dos objetos afeta os dois objetos;\n",
    "- No caso de Deep Copy, uma modificação em um dos objetos não vai afetar os dois objetos;\n",
    "- Iisso acontece porque quando se realiza uma copia do objeto da forma `objeto_copia = objeto_original` se está copiando o ID do objeto original e não se está criando um novo objeto_copia. E quando se realiza um cópia da forma `objeto_copia = objeto_original.copy()` se está criando um objeto novo com um ID novo, desvinculado ao objeto original;\n",
    "- Esse conceito aplica para listas, dicionários, e qualquer outro objeto que seja mutável."
   ]
  },
  {
   "cell_type": "markdown",
   "metadata": {},
   "source": [
    "## 8. Operadores aritméticas e relacionais \n",
    "Python conta com os seguintes operadores aritméticos por padrão:\n",
    "- Adição `+`;\n",
    "- Substração ` -`;\n",
    "- Multiplicação `*`;\n",
    "- Divisão `/`;\n",
    "- Exponenciação `**`;\n",
    "- Parte inteira `//`;\n",
    "- Modulo `%`\n",
    "\n",
    "Python conta com estruturas condicionais:\n",
    "- Igualdade\n",
    "\t- `==`: Verifica a igualdade entre dois valores;\n",
    "\t- `!=`: Verifica a diferença entre dois valores;\n",
    "- Comparação\n",
    "\t- `>`: Verifica se A é maior que B;\n",
    "\t- `<`: Verifica se A é menor que B;\n",
    "\t- `>=`: Verifica se A é maior ou igual que B;\n",
    "\t- `<=`: Verifica se A é menor ou igual que B;\n",
    "- sequência:\n",
    "\t- `in`: Verifica se um valor está contigo numa collection ou string"
   ]
  },
  {
   "cell_type": "code",
   "execution_count": null,
   "metadata": {},
   "outputs": [],
   "source": [
    "# Exemplo Operadores aritméticas\n",
    "print(f\"\"\"\n",
    "Operador de adição: 1 + 1 = {1+1}\n",
    "Operador de substração: 1.0 - 1.0 = {1.0-1.0}\n",
    "Operador de multiplicação: 2 * 5 = {2*5}\n",
    "Operador de multiplicação: 2.0 * 5.0 = {2.0*5.0}\n",
    "Operador de multiplicação: 2.0 * 5 = {2.0*5.0}\n",
    "Operador de divisão: 1 / 1 = {1/1}\n",
    "Operador de divisão: 5 / 2 = {5/2}\n",
    "Operador de exponenciação: 2**5 = {2**5}\n",
    "Operador de exponenciação: 2**5.0 = {2**5.0}\n",
    "Operador parte inteira: 2//3 = {2//2}\n",
    "Operador parte inteira: 2//3 = {2//3}\n",
    "Operador parte inteira: 6//3 = {6//3}\n",
    "Operador Modulo: 10%2 = {10%2}\n",
    "Operador Modulo: 10%5 = {10%2}\n",
    "Operador Modulo: 11%2 = {11%2}\n",
    "\"\"\")"
   ]
  },
  {
   "cell_type": "markdown",
   "metadata": {},
   "source": [
    "####  Exemplo Operadores relacionais"
   ]
  },
  {
   "cell_type": "code",
   "execution_count": null,
   "metadata": {},
   "outputs": [],
   "source": [
    "a = 10\n",
    "b = 2\n",
    "c = 5\n",
    "d = [1,2,3,4,5]\n",
    "texto = \"CadEia de Texto\"\n",
    "print(f\"\"\"\n",
    "Operadores de igualdade:\n",
    "    - a==b : {a == b}\n",
    "    - a==b*c : {a==b*c}\n",
    "    - a!=b : {a!=b}\n",
    "    - a!=b*c : {a!=b*c}\n",
    "Operadores de comparação:\n",
    "    - a>b : {a>b}\n",
    "    - a<b : {a<b}\n",
    "    - a>=b*c : {a>=b*c}\n",
    "    - a<=b*c : {a>=b*c}\n",
    "Operadores de sequência\n",
    "    - a in d : {a in d}\n",
    "    - b in d : {b in d}\n",
    "    - c in d : {c in d}\n",
    "    Com String\n",
    "    - \"a\" in texto {\"a\" in texto}\n",
    "    - \"A\" in texto {\"A\" in texto}\n",
    "    - \"b\" in texto {\"b\" in texto}\n",
    "    - \" \" in texto {\" \" in texto}\n",
    "    - \"O\" in texto {\"O\" in texto}\n",
    "    - \"t\" in texto {\"t\" in texto}\n",
    "    - \"T\" in texto {\"T\" in texto}\n",
    "\"\"\")"
   ]
  },
  {
   "cell_type": "markdown",
   "metadata": {},
   "source": [
    "## 9. Condicionais\n",
    "\n",
    "Em Python temos 3 estruturas condicionais.\n",
    "\n",
    "- A estrutura condicional `if` permite avaliar uma expressão e de acordo com seu resultado, executar uma determinada ação. A sintaxe desta estrutura é:\n",
    "\n",
    "    ```\n",
    "    if estrutura_condicional:\n",
    "        bloco_de_execução\n",
    "    ```\n",
    "caso a estrutura_condicional seja `True` o bloco_de_execução será executado\n",
    "\n",
    "- A estrutura condicional `if-else` permite avaliar um segundo bloco de execução caso a estrutura_condicional_seja `False`. A sintaxe desta estrutura é:\n",
    "\n",
    "    ```\n",
    "    if estrutura_condicional:\n",
    "        bloco_de_execução_1\n",
    "    else:\n",
    "        bloco_de_execução_2\n",
    "     ```\n",
    "- A estrutura condicional `if-elif-else` permite avaliar quantas estruturas condicionais sejam necessárias. Neste caso em cada `elif` é avaliada uma estrutura condicional diferente e se algumas das estruturas_condicionais é `True` as próximas estruturas não serão avaliadas\n",
    "    ```\n",
    "    if estrutura_condicional_1:\n",
    "        bloco_de_execução_1\n",
    "    elif estrutura_condicional_2:\n",
    "        bloco_de_execução_2\n",
    "    elif estrutura_condicional_3:\n",
    "        bloco_de_execução_3\n",
    "                .\n",
    "                .\n",
    "                .\n",
    "                .\n",
    "    elif estrutura_condicional_n-1:\n",
    "        bloco_de_execução_n-1      \n",
    "    else:\n",
    "        bloco_de_execução_n\n",
    "     ```\n"
   ]
  },
  {
   "cell_type": "markdown",
   "metadata": {},
   "source": [
    "### Exemplo estrutura condicional `if`"
   ]
  },
  {
   "cell_type": "code",
   "execution_count": null,
   "metadata": {},
   "outputs": [],
   "source": [
    "variavel_para_comparar = 20.0\n",
    "if variavel_para_comparar == 20:\n",
    "    print(\"A condição 1 foi atingida\")\n",
    "print(\"Código após estutura condicional if\")"
   ]
  },
  {
   "cell_type": "markdown",
   "metadata": {},
   "source": [
    "### Exemplo estrutura condicional `if-else`"
   ]
  },
  {
   "cell_type": "code",
   "execution_count": null,
   "metadata": {},
   "outputs": [],
   "source": [
    "variavel_para_comparar = 21\n",
    "if variavel_para_comparar == 20:\n",
    "    print(\"A condição 1 foi atingida\")\n",
    "else:\n",
    "    print(\"A condição 1 não foi atingida\")\n",
    "print(\"Código após estutura condicional if-else\")"
   ]
  },
  {
   "cell_type": "markdown",
   "metadata": {},
   "source": [
    "### Exemplo estrutura condicional `if-elif-else`"
   ]
  },
  {
   "cell_type": "code",
   "execution_count": null,
   "metadata": {},
   "outputs": [],
   "source": [
    "variavel_para_comparar = 21.1\n",
    "if variavel_para_comparar == 0:\n",
    "    print(\"A condição 1 foi atingida\")\n",
    "elif variavel_para_comparar == 5:\n",
    "    print(\"A condição 2 foi atingida\")\n",
    "elif variavel_para_comparar == 10:\n",
    "    print(\"A condição 3 foi atingida\")\n",
    "elif variavel_para_comparar == 15:\n",
    "    print(\"A condição 4 foi atingida\")\n",
    "elif variavel_para_comparar == 20:\n",
    "    print(\"A condição 5 foi atingida\")\n",
    "elif variavel_para_comparar == 21:\n",
    "    print(\"A condição 6 foi atingida\")\n",
    "elif variavel_para_comparar > 20:\n",
    "    print(\"A condição 7 foi atingida\")\n",
    "else:\n",
    "    print(\"As condições não foram atingidas\")\n",
    "print(\"Código após estutura condicional if-elif-else\")"
   ]
  }
 ],
 "metadata": {
  "hide_input": false,
  "kernelspec": {
   "display_name": "Python 3",
   "language": "python",
   "name": "python3"
  },
  "language_info": {
   "codemirror_mode": {
    "name": "ipython",
    "version": 3
   },
   "file_extension": ".py",
   "mimetype": "text/x-python",
   "name": "python",
   "nbconvert_exporter": "python",
   "pygments_lexer": "ipython3",
   "version": "3.7.7"
  },
  "latex_envs": {
   "LaTeX_envs_menu_present": true,
   "autoclose": true,
   "autocomplete": true,
   "bibliofile": "biblio.bib",
   "cite_by": "apalike",
   "current_citInitial": 1,
   "eqLabelWithNumbers": true,
   "eqNumInitial": 1,
   "hotkeys": {
    "equation": "Ctrl-E",
    "itemize": "Ctrl-I"
   },
   "labels_anchors": false,
   "latex_user_defs": false,
   "report_style_numbering": false,
   "user_envs_cfg": false
  },
  "varInspector": {
   "cols": {
    "lenName": 16,
    "lenType": 16,
    "lenVar": 40
   },
   "kernels_config": {
    "python": {
     "delete_cmd_postfix": "",
     "delete_cmd_prefix": "del ",
     "library": "var_list.py",
     "varRefreshCmd": "print(var_dic_list())"
    },
    "r": {
     "delete_cmd_postfix": ") ",
     "delete_cmd_prefix": "rm(",
     "library": "var_list.r",
     "varRefreshCmd": "cat(var_dic_list()) "
    }
   },
   "position": {
    "height": "776.85px",
    "left": "1429px",
    "right": "20px",
    "top": "104px",
    "width": "428px"
   },
   "types_to_exclude": [
    "module",
    "function",
    "builtin_function_or_method",
    "instance",
    "_Feature"
   ],
   "window_display": false
  }
 },
 "nbformat": 4,
 "nbformat_minor": 4
}
