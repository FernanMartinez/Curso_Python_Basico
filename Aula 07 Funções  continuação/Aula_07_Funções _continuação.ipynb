{
 "cells": [
  {
   "cell_type": "markdown",
   "metadata": {
    "ExecuteTime": {
     "end_time": "2020-11-06T20:33:34.852965Z",
     "start_time": "2020-11-06T20:33:34.824774Z"
    }
   },
   "source": [
    "# Aula 07 Funções cotinuação\n",
    "\n",
    "<img  src='img/f.png' width='250' height='150' />\n",
    "\n",
    "Durante a criação de um código pode ser necessário repetir a execução de um bloco de código em partes diferentes. A repetição do mesmo bloco em partes diferentes é considerada uma pratica inadequada de programação dado que deixa o código poluído e difícil de realizar manutenção. Para resolver este tipo de problemas, é possível criar uma função que realize uma o varias atividades.\n",
    "\n",
    "---\n",
    "<font size=\"5\"> Os tópicos que vamos abordar nesta série de conversas são:</font>\n",
    "- [ ] Ordem certa no momento de definir os parâmetros de uma função;\n",
    "- [ ] Nested function (funções dentro de funções);\n",
    "- [ ] Exemplo completo\n",
    "\n",
    "\n"
   ]
  },
  {
   "cell_type": "markdown",
   "metadata": {},
   "source": [
    "## Ordem certa no momento de definir os parâmetros de uma função"
   ]
  },
  {
   "cell_type": "markdown",
   "metadata": {},
   "source": [
    "Como vimos nas aulas passadas existem varias formas de receber os argumentos que o usuário passa ao momento de chamar uma função. Contudo, deve-se ter muito cuidado dado que esses argumentos **devem** ser passados numa certa ordem para conseguir o correto funcionamento da função.\n",
    "\n",
    "O ardem certa é:\n",
    "1. Parâmetros obrigatórios;\n",
    "1. Parâmetros para empacotar `*args`;\n",
    "1. Parâmetros não obrigatórios ou Default parameter;\n",
    "1. `**kwargs`\n",
    "\n",
    "A criação de uma função numa ordem diferente pode ocasionar que a função tenha um comportamento não esperado."
   ]
  },
  {
   "cell_type": "code",
   "execution_count": 15,
   "metadata": {
    "ExecuteTime": {
     "end_time": "2020-11-09T17:55:33.998162Z",
     "start_time": "2020-11-09T17:55:33.989355Z"
    }
   },
   "outputs": [
    {
     "name": "stdout",
     "output_type": "stream",
     "text": [
      "O usuario Fernan a soma dos valores que você passou é 7\n",
      "Você digitou o parâmetro outro_parametro com o valor Não existo, e eu não estou programado para trabalhar com esse parâmetro\n"
     ]
    }
   ],
   "source": [
    "# Modificando a função somatorio\n",
    "# Forma adequada de definir a função.\n",
    "def somatorio(a, b, *valores, nome=\"Usuario Desconhecido\", **kwargs):\n",
    "    soma = a + b    \n",
    "    for valor in valores:\n",
    "        soma += valor\n",
    "    print(f\"O usuario {nome} a soma dos valores que você passou é {soma}\")\n",
    "    if bool(kwargs):\n",
    "        for par, val in kwargs.items():\n",
    "            print(f\"Você digitou o parâmetro {par} com o valor {val}, e eu não estou programado para trabalhar com esse parâmetro\")\n",
    "somatorio(2, 2, 3, nome=\"Fernan\", outro_parametro=\"Não existo\")"
   ]
  },
  {
   "cell_type": "code",
   "execution_count": 16,
   "metadata": {
    "ExecuteTime": {
     "end_time": "2020-11-09T17:56:06.913827Z",
     "start_time": "2020-11-09T17:56:06.881040Z"
    }
   },
   "outputs": [
    {
     "ename": "TypeError",
     "evalue": "somatorio() got multiple values for argument 'nome'",
     "output_type": "error",
     "traceback": [
      "\u001b[0;31m---------------------------------------------------------------------------\u001b[0m",
      "\u001b[0;31mTypeError\u001b[0m                                 Traceback (most recent call last)",
      "\u001b[0;32m<ipython-input-16-479d5460b8e9>\u001b[0m in \u001b[0;36m<module>\u001b[0;34m\u001b[0m\n\u001b[1;32m      8\u001b[0m         \u001b[0;32mfor\u001b[0m \u001b[0mpar\u001b[0m\u001b[0;34m,\u001b[0m \u001b[0mval\u001b[0m \u001b[0;32min\u001b[0m \u001b[0mkwargs\u001b[0m\u001b[0;34m.\u001b[0m\u001b[0mitems\u001b[0m\u001b[0;34m(\u001b[0m\u001b[0;34m)\u001b[0m\u001b[0;34m:\u001b[0m\u001b[0;34m\u001b[0m\u001b[0;34m\u001b[0m\u001b[0m\n\u001b[1;32m      9\u001b[0m             \u001b[0mprint\u001b[0m\u001b[0;34m(\u001b[0m\u001b[0;34mf\"Você digitou o parâmetro {par} com o valor {val}, e eu não estou programado para trabalhar com esse parâmetro\"\u001b[0m\u001b[0;34m)\u001b[0m\u001b[0;34m\u001b[0m\u001b[0;34m\u001b[0m\u001b[0m\n\u001b[0;32m---> 10\u001b[0;31m \u001b[0msomatorio\u001b[0m\u001b[0;34m(\u001b[0m\u001b[0;36m2\u001b[0m\u001b[0;34m,\u001b[0m \u001b[0;36m2\u001b[0m\u001b[0;34m,\u001b[0m \u001b[0;36m3\u001b[0m\u001b[0;34m,\u001b[0m \u001b[0mnome\u001b[0m\u001b[0;34m=\u001b[0m\u001b[0;34m\"Fernan\"\u001b[0m\u001b[0;34m,\u001b[0m \u001b[0moutro_parametro\u001b[0m\u001b[0;34m=\u001b[0m\u001b[0;34m\"Não existo\"\u001b[0m\u001b[0;34m)\u001b[0m\u001b[0;34m\u001b[0m\u001b[0;34m\u001b[0m\u001b[0m\n\u001b[0m\u001b[1;32m     11\u001b[0m \u001b[0;31m# Observemos que a função não funciona quando a ordem dos parâmetros esta errada\u001b[0m\u001b[0;34m\u001b[0m\u001b[0;34m\u001b[0m\u001b[0;34m\u001b[0m\u001b[0m\n",
      "\u001b[0;31mTypeError\u001b[0m: somatorio() got multiple values for argument 'nome'"
     ]
    }
   ],
   "source": [
    "# Forma inadequada os parâmetros de uma função.\n",
    "def somatorio(a, b, nome=\"Usuario Desconhecido\", *valores,  **kwargs):\n",
    "    soma = a + b    \n",
    "    for valor in valores:\n",
    "        soma += valor\n",
    "    print(f\"O usuario {nome} a soma dos valores que você passou é {soma}\")\n",
    "    if bool(kwargs):\n",
    "        for par, val in kwargs.items():\n",
    "            print(f\"Você digitou o parâmetro {par} com o valor {val}, e eu não estou programado para trabalhar com esse parâmetro\")\n",
    "somatorio(2, 2, 3, nome=\"Fernan\", outro_parametro=\"Não existo\")\n",
    "# Observemos que a função não funciona quando a ordem dos parâmetros esta errada"
   ]
  },
  {
   "cell_type": "markdown",
   "metadata": {},
   "source": [
    "## Nested function (funções dentro de funções)'"
   ]
  },
  {
   "cell_type": "markdown",
   "metadata": {},
   "source": [
    "Python permite a definição de funções dentro de funções, este tipo de funções são conhecidas como nested functions e todos os aspectos teóricos apresentados previamente são validos para essas funções."
   ]
  },
  {
   "cell_type": "code",
   "execution_count": 17,
   "metadata": {
    "ExecuteTime": {
     "end_time": "2020-11-09T17:56:27.844732Z",
     "start_time": "2020-11-09T17:56:27.840093Z"
    }
   },
   "outputs": [
    {
     "name": "stdout",
     "output_type": "stream",
     "text": [
      "A soma dos valores passados foi: 7\n",
      "A multiplicação dos valores passados foi: 10\n"
     ]
    }
   ],
   "source": [
    "def calculadora(a, b):\n",
    "    def soma():\n",
    "        return a + b\n",
    "    def multiplicacao():\n",
    "        return a * b\n",
    "    print(f\"A soma dos valores passados foi: {soma()}\")\n",
    "    print(f\"A multiplicação dos valores passados foi: {multiplicacao()}\")\n",
    "calculadora(5, 2)"
   ]
  },
  {
   "cell_type": "markdown",
   "metadata": {},
   "source": [
    "## Exemplo completo\n",
    "\n",
    "A continuação se apresentará um exemplo com todos os conceitos transmitidos nas aulas passadas."
   ]
  },
  {
   "cell_type": "code",
   "execution_count": 18,
   "metadata": {
    "ExecuteTime": {
     "end_time": "2020-11-09T17:56:47.471334Z",
     "start_time": "2020-11-09T17:56:47.458960Z"
    }
   },
   "outputs": [],
   "source": [
    "def calculadora(operacao, *args, todas_operacoes=False, **kwargs):\n",
    "    # Declarando a função com parâmetros obrigatórios, opcionais, *args e\n",
    "    # **kwargs\n",
    "\n",
    "    if bool(kwargs):\n",
    "        for par, val in kwargs.items():\n",
    "            print(f\"Você digitou o parâmetro {par} com o valor {val}, e eu não estou programado para trabalhar com esse parâmetro\")\n",
    "        print(\"-\"*50)\n",
    "    # Constante com as entradas que o programa vai aceitar\n",
    "    OPERACOES = \"SOMA SUBTRAÇÃO MULTIPLICAÇÃO DIVISÃO\".split(\" \")\n",
    "\n",
    "    if not operacao.upper() in OPERACOES:\n",
    "        # Avaliando se o usuario digirou algum valor errado\n",
    "        return print(\"Você digitou um valor errado\")\n",
    "\n",
    "    def soma():\n",
    "        # Função para somar os valores passados pelo usuário\n",
    "        operacao_soma = 0\n",
    "        for valor in args:\n",
    "            operacao_soma += valor\n",
    "        return operacao_soma\n",
    "\n",
    "    def subtracao():\n",
    "        # Função para subtrair os valores passados pelo usuário\n",
    "        operacao_subtracao = 0\n",
    "        for valor in args:\n",
    "            operacao_subtracao -= valor\n",
    "        return operacao_subtracao\n",
    "\n",
    "    def multiplicacao():\n",
    "        # Função para multiplicar os valores passados pelo usuário\n",
    "        operacao_multiplicacao = 1\n",
    "        for valor in args:\n",
    "            operacao_multiplicacao *= valor\n",
    "        return operacao_multiplicacao\n",
    "\n",
    "    def divisao():\n",
    "        # Função para dividir os valores passados pelo usuário\n",
    "        operacao_divisao = args[0]\n",
    "        for valor in args[1:]:\n",
    "            operacao_divisao /= valor\n",
    "        return operacao_divisao\n",
    "    # Dicionario com os resultados\n",
    "    resultados = {\"SOMA\": soma(),\n",
    "                  \"SUBTRAÇÃO\": subtracao(),\n",
    "                  \"MULTIPLICAÇÃO\": multiplicacao(),\n",
    "                  \"DIVISÃO\": divisao()}\n",
    "\n",
    "    if todas_operacoes:\n",
    "        # Bloco a ser executado caso o usuário digite True para o parâmetro\n",
    "        # todas_operacoes\n",
    "\n",
    "        for valores in resultados.items():\n",
    "            print(f\"O resultado para a operação {valores[0].lower()} foi \\\n",
    "{valores[1]}\")\n",
    "        return\n",
    "\n",
    "    return print(f\"O resultado para a operação {operacao.lower()} foi \\\n",
    "{resultados[operacao.upper()]}\")"
   ]
  },
  {
   "cell_type": "code",
   "execution_count": 19,
   "metadata": {
    "ExecuteTime": {
     "end_time": "2020-11-09T17:56:49.032461Z",
     "start_time": "2020-11-09T17:56:49.020841Z"
    }
   },
   "outputs": [
    {
     "name": "stdout",
     "output_type": "stream",
     "text": [
      "Você digitou o parâmetro nome com o valor fernan, e eu não estou programado para trabalhar com esse parâmetro\n",
      "Você digitou o parâmetro idade com o valor 25, e eu não estou programado para trabalhar com esse parâmetro\n",
      "Você digitou o parâmetro outro_p com o valor Não sei, e eu não estou programado para trabalhar com esse parâmetro\n",
      "--------------------------------------------------\n",
      "O resultado para a operação soma foi 16\n"
     ]
    }
   ],
   "source": [
    "calculadora(\"soma\", 10, 2, 1, 1, 1, 1, todas_operacoes=False,\n",
    "            nome=\"fernan\", idade=25, outro_p=\"Não sei\")"
   ]
  },
  {
   "cell_type": "code",
   "execution_count": 20,
   "metadata": {
    "ExecuteTime": {
     "end_time": "2020-11-09T17:57:19.018676Z",
     "start_time": "2020-11-09T17:57:19.000306Z"
    }
   },
   "outputs": [
    {
     "name": "stdout",
     "output_type": "stream",
     "text": [
      "Você digitou o parâmetro nome com o valor fernan, e eu não estou programado para trabalhar com esse parâmetro\n",
      "Você digitou o parâmetro idade com o valor 25, e eu não estou programado para trabalhar com esse parâmetro\n",
      "Você digitou o parâmetro outro_p com o valor Não sei, e eu não estou programado para trabalhar com esse parâmetro\n",
      "--------------------------------------------------\n",
      "O resultado para a operação multiplicação foi 20\n"
     ]
    }
   ],
   "source": [
    "calculadora(\"multiplicação\", 10, 2, 1, 1, 1, 1, todas_operacoes=False,\n",
    "            nome=\"fernan\", idade=25, outro_p=\"Não sei\")"
   ]
  },
  {
   "cell_type": "code",
   "execution_count": 21,
   "metadata": {
    "ExecuteTime": {
     "end_time": "2020-11-09T17:57:26.147467Z",
     "start_time": "2020-11-09T17:57:26.137623Z"
    }
   },
   "outputs": [
    {
     "name": "stdout",
     "output_type": "stream",
     "text": [
      "O resultado para a operação soma foi 16\n",
      "O resultado para a operação subtração foi -16\n",
      "O resultado para a operação multiplicação foi 20\n",
      "O resultado para a operação divisão foi 5.0\n"
     ]
    }
   ],
   "source": [
    "calculadora(\"multiplicação\", 10, 2, 1, 1, 1, 1, todas_operacoes=True)"
   ]
  }
 ],
 "metadata": {
  "hide_input": false,
  "kernelspec": {
   "display_name": "Python 3",
   "language": "python",
   "name": "python3"
  },
  "language_info": {
   "codemirror_mode": {
    "name": "ipython",
    "version": 3
   },
   "file_extension": ".py",
   "mimetype": "text/x-python",
   "name": "python",
   "nbconvert_exporter": "python",
   "pygments_lexer": "ipython3",
   "version": "3.7.7"
  },
  "latex_envs": {
   "LaTeX_envs_menu_present": true,
   "autoclose": true,
   "autocomplete": true,
   "bibliofile": "biblio.bib",
   "cite_by": "apalike",
   "current_citInitial": 1,
   "eqLabelWithNumbers": true,
   "eqNumInitial": 1,
   "hotkeys": {
    "equation": "Ctrl-E",
    "itemize": "Ctrl-I"
   },
   "labels_anchors": false,
   "latex_user_defs": false,
   "report_style_numbering": false,
   "user_envs_cfg": false
  }
 },
 "nbformat": 4,
 "nbformat_minor": 4
}
