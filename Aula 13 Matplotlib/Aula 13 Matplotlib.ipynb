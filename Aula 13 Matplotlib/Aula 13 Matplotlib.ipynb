{
 "cells": [
  {
   "cell_type": "markdown",
   "metadata": {},
   "source": [
    "# Aula 13 Matplotlib\n",
    "\n",
    "\n",
    "<img  src='img/Matplotlib_Logo.svg' width='300' height='150' />\n",
    "\n",
    "<img  src='img/example_matplotlib.png' width='400' height='500' />\n",
    "\n",
    "[Matplotlib](https://matplotlib.org/), é considerada uma das bibliotecas mais utilizadas no ecossistema Python junto com Numpy e Pandas. Esta biblioteca permite visualizar dados de forma estática, interativa e animada, de forma rápida e simples com pocas linhas de código. As características mais relevantes deste bibliotecas são:\n",
    " - A sintaxe para gerar figuras é orientada a objetos, por este motivo é necessário ter noções básicas deste paradigma para entender o funcionamento;\n",
    " - Pode ser considerada uma biblioteca que está ao mesmo nível que MatLab com a vantagem de ser de código aberto;\n",
    " - Para conseguir utilizar está biblioteca é necessário conhecer Numpy, dado que Matplotlib utiliza objetos do tipo np.arrays;\n",
    " - O site oficial proporciona uma serie de [exemplos](https://matplotlib.org/gallery/index.html) com o código documentado.\n",
    " - O criador do projeto é o biólogo e neurocientista americano John D. Hunter.\n",
    "---\n",
    "<font size=\"5\"> Os tópicos que vamos abordar nesta série de conversas são:</font>\n",
    "- [ ] Instalação é importação da biblioteca;\n",
    "- [ ] Comandos básicos para realizar histogramas;\n",
    "- [ ] Comandos básicos para realizar gráficos de barras;\n",
    "- [ ] Comandos básicos para realizar gráficos de dispersão; \n",
    "- [ ] Comandos básicos para plotar gráficos de dependência;\n",
    "- [ ] Diferentes tipos de gráficos no mesmo eixo;\n",
    "- [ ] Plotando vários eixos;\n",
    "- [ ] Arrays gráficos;\n",
    "    - [ ] Método 1\n",
    "    - [ ] Método 2. Usando Subplots;\n",
    "- [ ] Gráficos com 2 eixos verticais;\n",
    "- [ ] Salvando figuras;\n",
    "- [ ] Gráficos interativos.\n",
    " "
   ]
  },
  {
   "cell_type": "markdown",
   "metadata": {},
   "source": [
    "## Instalação é importação da biblioteca;"
   ]
  },
  {
   "cell_type": "markdown",
   "metadata": {},
   "source": [
    "A biblioteca Matplotlib possui uma secção própria para realizar a [instalação](https://matplotlib.org/users/installing.html) desta juntos com as dependências.\n",
    "\n",
    "Da mesma forma que Pandas e Numpy, podemos utilizar `pip` e `conda` para instalar essa biblioteca. Os comandos são:\n",
    "```python\n",
    "conda install matplotlib\n",
    "pip install matplotlib\n",
    "```\n"
   ]
  },
  {
   "cell_type": "code",
   "execution_count": null,
   "metadata": {
    "ExecuteTime": {
     "end_time": "2020-11-10T15:59:53.832480Z",
     "start_time": "2020-11-10T15:59:52.515149Z"
    }
   },
   "outputs": [],
   "source": [
    "import matplotlib.pyplot as plt\n",
    "import numpy as np\n",
    "%matplotlib notebook"
   ]
  },
  {
   "cell_type": "markdown",
   "metadata": {},
   "source": [
    "## Comandos básicos para realizar histogramas"
   ]
  },
  {
   "cell_type": "markdown",
   "metadata": {},
   "source": [
    "Matplotlib permite realizar diferentes tipos de histogramas utilizando a função [`matplotlib.pyplot.hist\n",
    "`](https://matplotlib.org/3.3.2/api/_as_gen/matplotlib.pyplot.hist.html). A sintaxe para utilizar esta função é:\n",
    "```python\n",
    "matplotlib.pyplot.hist(x, bins=None, range=None, density=False, weights=None, cumulative=False, bottom=None, histtype='bar', align='mid', orientation='vertical', rwidth=None, log=False, color=None, label=None, stacked=False, *, data=None, **kwargs)\n",
    "```"
   ]
  },
  {
   "cell_type": "code",
   "execution_count": null,
   "metadata": {
    "ExecuteTime": {
     "end_time": "2020-11-10T16:00:14.958383Z",
     "start_time": "2020-11-10T16:00:14.948112Z"
    }
   },
   "outputs": [],
   "source": [
    "# Criando dados\n",
    "mean = 0.0\n",
    "std = 0.5\n",
    "size = 10000\n",
    "x = np.random.normal(loc=mean,\n",
    "                     scale=std,\n",
    "                     size=size)"
   ]
  },
  {
   "cell_type": "code",
   "execution_count": null,
   "metadata": {
    "ExecuteTime": {
     "end_time": "2020-11-10T16:00:21.935956Z",
     "start_time": "2020-11-10T16:00:21.791174Z"
    }
   },
   "outputs": [],
   "source": [
    "# O unico parâmetro obrigatorio é x\n",
    "plt.hist(x=x)"
   ]
  },
  {
   "cell_type": "code",
   "execution_count": null,
   "metadata": {
    "ExecuteTime": {
     "end_time": "2020-11-10T16:00:34.011077Z",
     "start_time": "2020-11-10T16:00:33.828808Z"
    }
   },
   "outputs": [],
   "source": [
    "# Podemos utilizar o parâmetro `bins` para especificar quantos dados serão usados para criar o histograma\n",
    "plt.hist(x=x, bins=100)"
   ]
  },
  {
   "cell_type": "code",
   "execution_count": null,
   "metadata": {
    "ExecuteTime": {
     "end_time": "2020-11-10T16:01:02.625477Z",
     "start_time": "2020-11-10T16:01:02.377851Z"
    }
   },
   "outputs": [],
   "source": [
    "# Podemos utilizar os parâmetros `color` e `alpha` para mudar a cor do gráfico e a transparência\n",
    "plt.hist(x=x, bins=100, color=\"red\", alpha=0.5)"
   ]
  },
  {
   "cell_type": "code",
   "execution_count": null,
   "metadata": {
    "ExecuteTime": {
     "end_time": "2020-11-10T16:01:21.355780Z",
     "start_time": "2020-11-10T16:01:21.156512Z"
    }
   },
   "outputs": [],
   "source": [
    "#  Existe a possibilidade de realizar o histograma com as barras no sentido horizontal.\n",
    "plt.hist(x=x, bins=100, color=\"green\", alpha=0.5, orientation='horizontal')"
   ]
  },
  {
   "cell_type": "markdown",
   "metadata": {},
   "source": [
    "## Comandos básicos para realizar gráficos de barras"
   ]
  },
  {
   "cell_type": "markdown",
   "metadata": {},
   "source": [
    "O gráfico de barra é um dos mais utilizados para apresentar informação, o cumprimento de cada barra representa o valor associado a esta. Em matplotlib existem diversas formas de criar gráficos de barrar.\n",
    "\n",
    "- Para criar um gráfico de barras utilizamos a função [`matplotlib.pyplot.bar`](https://matplotlib.org/3.1.1/api/_as_gen/matplotlib.pyplot.bar.html), a sintaxe para criar esta figura é:\n",
    "```python\n",
    "matplotlib.pyplot.bar(x, height, width=0.8, bottom=None, *, align='center', data=None, **kwargs)\n",
    "```\n",
    "\n",
    "- Para criar um gráfico horizontais utilizamos a função [`matplotlib.pyplot.barh`](https://matplotlib.org/3.1.1/api/_as_gen/matplotlib.pyplot.barh.html#matplotlib.pyplot.barh), a sintaxe para criar esta figura é:\n",
    "```python\n",
    "matplotlib.pyplot.barh(y, width, height=0.8, left=None, *, align='center', **kwargs)\n",
    "```\n",
    "\n"
   ]
  },
  {
   "cell_type": "code",
   "execution_count": null,
   "metadata": {
    "ExecuteTime": {
     "end_time": "2020-11-10T16:02:08.888276Z",
     "start_time": "2020-11-10T16:02:08.874153Z"
    }
   },
   "outputs": [],
   "source": [
    "# Criando Dados\n",
    "mean = 10\n",
    "std = 2.5\n",
    "size = 25\n",
    "y = np.sort(np.random.normal(loc=mean,\n",
    "                     scale=std,\n",
    "                     size=size))\n",
    "x = np.arange(0, len(y))"
   ]
  },
  {
   "cell_type": "code",
   "execution_count": null,
   "metadata": {
    "ExecuteTime": {
     "end_time": "2020-11-10T16:02:32.632525Z",
     "start_time": "2020-11-10T16:02:32.493171Z"
    }
   },
   "outputs": [],
   "source": [
    "# Os únicos parâmetros necessários são `x` e `height`\n",
    "plt.bar(x=x, height=y)"
   ]
  },
  {
   "cell_type": "code",
   "execution_count": null,
   "metadata": {
    "ExecuteTime": {
     "end_time": "2020-11-10T16:03:01.878346Z",
     "start_time": "2020-11-10T16:03:01.692713Z"
    }
   },
   "outputs": [],
   "source": [
    "# Podemos modificar a amplitude das barras com o parâmetro `width`\n",
    "plt.bar(x=x, height=y, width=0.5)"
   ]
  },
  {
   "cell_type": "code",
   "execution_count": null,
   "metadata": {
    "ExecuteTime": {
     "end_time": "2020-11-10T16:03:15.152284Z",
     "start_time": "2020-11-10T16:03:15.023666Z"
    }
   },
   "outputs": [],
   "source": [
    "# Os parametros color e alpha são validos para o método bar\n",
    "plt.bar(x=x, height=y, width=0.8, color=\"red\", alpha=0.5)"
   ]
  },
  {
   "cell_type": "code",
   "execution_count": null,
   "metadata": {
    "ExecuteTime": {
     "end_time": "2020-11-10T16:03:36.654778Z",
     "start_time": "2020-11-10T16:03:36.481838Z"
    }
   },
   "outputs": [],
   "source": [
    "# Para realizar um barplot de forma horizontal utilizamos o método barh\n",
    "plt.barh(y=x, width=y, color=\"red\", alpha=0.5)"
   ]
  },
  {
   "cell_type": "code",
   "execution_count": null,
   "metadata": {
    "ExecuteTime": {
     "end_time": "2020-11-10T16:03:58.864209Z",
     "start_time": "2020-11-10T16:03:58.699366Z"
    }
   },
   "outputs": [],
   "source": [
    "# Podemos adicionar um titulo ao grafico com método `title`\n",
    "plt.barh(y=x, width=y, color=\"red\", alpha=0.5)\n",
    "plt.title(\"Chart plot\")"
   ]
  },
  {
   "cell_type": "markdown",
   "metadata": {},
   "source": [
    "## Comandos básicos para realizar gráficos de dispersão"
   ]
  },
  {
   "cell_type": "markdown",
   "metadata": {},
   "source": [
    "O método [`matplotlib.pyplot.scatter`](https://matplotlib.org/3.3.2/api/_as_gen/matplotlib.pyplot.scatter.html) permite realizar gráficos de dispersão e trabalhar com 4 dimensões. As dimensões tradicionais (x, y) e uma dimensão de color e outra tamanho. O que posibilita transmitir mais informação ao leitor. O comando para executar esse método é:\n",
    "```python\n",
    "matplotlib.pyplot.scatter(x, y, s=None, c=None, marker=None, cmap=None, norm=None, vmin=None, vmax=None, alpha=None, linewidths=None, verts=<deprecated parameter>, edgecolors=None, *, plotnonfinite=False, data=None, **kwargs)\n",
    "```"
   ]
  },
  {
   "cell_type": "code",
   "execution_count": null,
   "metadata": {
    "ExecuteTime": {
     "end_time": "2020-11-10T16:04:53.089002Z",
     "start_time": "2020-11-10T16:04:53.075862Z"
    }
   },
   "outputs": [],
   "source": [
    "# Criando dados\n",
    "y = np.random.rand(1000)\n",
    "x = np.arange(0, len(y))"
   ]
  },
  {
   "cell_type": "code",
   "execution_count": null,
   "metadata": {
    "ExecuteTime": {
     "end_time": "2020-11-10T16:05:00.609817Z",
     "start_time": "2020-11-10T16:05:00.548426Z"
    }
   },
   "outputs": [],
   "source": [
    "plt.scatter(x=x, y=y)"
   ]
  },
  {
   "cell_type": "code",
   "execution_count": null,
   "metadata": {
    "ExecuteTime": {
     "end_time": "2020-11-10T16:05:29.787772Z",
     "start_time": "2020-11-10T16:05:29.731521Z"
    }
   },
   "outputs": [],
   "source": [
    "# Existe o parâmetro marker o qual permite modificar o marcador do gráfico.\n",
    "# Existe varias opções disponíveis para este [parâmetro](https://matplotlib.org/api/markers_api.html). \n",
    "plt.scatter(x=x, y=y, marker=\"*\")"
   ]
  },
  {
   "cell_type": "code",
   "execution_count": null,
   "metadata": {
    "ExecuteTime": {
     "end_time": "2020-11-10T16:05:39.553842Z",
     "start_time": "2020-11-10T16:05:39.456753Z"
    }
   },
   "outputs": [],
   "source": [
    "# Vamos ver como funciona as dimensões de color e tamanho.\n",
    "plt.scatter(x=x,\n",
    "            y=y,\n",
    "            s=np.random.uniform(low=1, high=50, size=len(x)),\n",
    "            c=np.random.uniform(low=1, high=10, size=len(x)),marker=\"*\",\n",
    "            alpha=0.8)\n",
    "plt.title(\"Scarter plot\")\n",
    "plt.xlabel(\"Eixo X\")\n",
    "plt.ylabel(\"Eixo Y\")\n",
    "\n"
   ]
  },
  {
   "cell_type": "markdown",
   "metadata": {},
   "source": []
  },
  {
   "cell_type": "markdown",
   "metadata": {},
   "source": [
    "## Comandos básicos para plotar gráficos de dependência"
   ]
  },
  {
   "cell_type": "markdown",
   "metadata": {},
   "source": [
    "Um dos gráficos mais usados é a representação de uma variável ao longo do tempo (ou outra magnitude). Para conseguir realizar esse tipo de gráficos matplotlib conta com a função [`matplotlib.pyplot.plot`](https://matplotlib.org/3.3.2/api/_as_gen/matplotlib.pyplot.plot.html) a qual é uma das mais utilizadas. Para conseguir utilizar está função se utiliza o seguinte comando:\n",
    "\n",
    "```python\n",
    "matplotlib.pyplot.plot(*args, scalex=True, scaley=True, data=None, **kwargs)\n",
    "```\n",
    "Observemos que informação apresentada previamente não informa muito, por esse mótivo se faz necessario ler a documentação."
   ]
  },
  {
   "cell_type": "code",
   "execution_count": null,
   "metadata": {
    "ExecuteTime": {
     "end_time": "2020-11-10T16:08:12.161368Z",
     "start_time": "2020-11-10T16:08:12.148147Z"
    }
   },
   "outputs": [],
   "source": [
    "# Gerando dados\n",
    "x = np.linspace(0, 50, 50)\n",
    "y = np.sin(x) + np.exp(x/20)"
   ]
  },
  {
   "cell_type": "code",
   "execution_count": null,
   "metadata": {
    "ExecuteTime": {
     "end_time": "2020-11-10T16:07:53.302311Z",
     "start_time": "2020-11-10T16:07:53.199236Z"
    }
   },
   "outputs": [],
   "source": [
    "# Os unicos valores necessarios para conseguir realizar um gráfico de forma simple são x e y\n",
    "plt.plot(x, y)"
   ]
  },
  {
   "cell_type": "code",
   "execution_count": null,
   "metadata": {
    "ExecuteTime": {
     "end_time": "2020-11-10T16:08:15.623238Z",
     "start_time": "2020-11-10T16:08:15.575744Z"
    }
   },
   "outputs": [],
   "source": [
    "# Os parâmetros apresentados previamente podem ser utilizados com o método plot\n",
    "plt.plot(x,\n",
    "         y,\n",
    "        color=\"red\",\n",
    "        marker=\"D\")"
   ]
  },
  {
   "cell_type": "code",
   "execution_count": null,
   "metadata": {
    "ExecuteTime": {
     "end_time": "2020-11-10T16:08:32.654349Z",
     "start_time": "2020-11-10T16:08:32.597782Z"
    }
   },
   "outputs": [],
   "source": [
    "# Os existem outros parâmetros que ajudam a personalizar os gráficos\n",
    "plt.plot(x,\n",
    "         y,\n",
    "        color=\"red\",\n",
    "        marker=\"D\",\n",
    "        ls=\":\",\n",
    "        markersize=5,\n",
    "        lw=0.5,\n",
    "        alpha=0.5)"
   ]
  },
  {
   "cell_type": "code",
   "execution_count": null,
   "metadata": {
    "ExecuteTime": {
     "end_time": "2020-11-10T16:08:47.070429Z",
     "start_time": "2020-11-10T16:08:46.887438Z"
    }
   },
   "outputs": [],
   "source": [
    "# Podemos adicionar titulo ao grafico e label aos eixos\n",
    "plt.plot(x,\n",
    "         y,\n",
    "         color=\"red\",\n",
    "         marker=\"D\",\n",
    "         ls=\":\",\n",
    "         markersize=5,\n",
    "         lw=0.5,\n",
    "         alpha=0.5)\n",
    "plt.title(\"Exemplo plt.plot()\")\n",
    "plt.xlabel(\"Eixo X\")\n",
    "plt.ylabel(\"Eixo Y\")"
   ]
  },
  {
   "cell_type": "code",
   "execution_count": null,
   "metadata": {
    "ExecuteTime": {
     "end_time": "2020-11-10T16:09:12.871605Z",
     "start_time": "2020-11-10T16:09:12.758629Z"
    }
   },
   "outputs": [],
   "source": [
    "# Podemos Podemos adicionar uma legendo aos dados\n",
    "plt.plot(x,\n",
    "         y,\n",
    "         color=\"red\",\n",
    "         marker=\"D\",\n",
    "         ls=\":\",\n",
    "         markersize=5,\n",
    "         lw=0.5,\n",
    "         alpha=0.5,\n",
    "         label=\"Dados para exemplo\")\n",
    "plt.title(\"Exemplo plt.plot()\")\n",
    "plt.xlabel(\"Eixo X\")\n",
    "plt.ylabel(\"Eixo Y\")\n",
    "plt.legend()"
   ]
  },
  {
   "cell_type": "markdown",
   "metadata": {},
   "source": [
    "## Diferentes tipos de gráficos no mesmo eixo"
   ]
  },
  {
   "cell_type": "markdown",
   "metadata": {},
   "source": [
    "Até agora realizamos a plotagem de uma única serie de dados, mas Matplotlib permite a plotegem de diferentes series de dados no mesmo gráfico."
   ]
  },
  {
   "cell_type": "code",
   "execution_count": null,
   "metadata": {
    "ExecuteTime": {
     "end_time": "2020-11-10T16:09:45.064005Z",
     "start_time": "2020-11-10T16:09:45.052651Z"
    }
   },
   "outputs": [],
   "source": [
    "# Gerando dados\n",
    "\n",
    "x_marker = np.linspace(0, 50, 20)\n",
    "y_marker = np.sin(x_marker) + np.exp(x_marker/20)\n",
    "\n",
    "x = np.linspace(0, 50, 500)\n",
    "y = np.sin(x) + np.exp(x/20)"
   ]
  },
  {
   "cell_type": "code",
   "execution_count": null,
   "metadata": {
    "ExecuteTime": {
     "end_time": "2020-11-10T16:09:47.986170Z",
     "start_time": "2020-11-10T16:09:47.857130Z"
    }
   },
   "outputs": [],
   "source": [
    "# Plotagem 1\n",
    "plt.plot(x,\n",
    "         y,\n",
    "         color=\"red\",\n",
    "         ls=\":\",\n",
    "         lw=0.8,\n",
    "         alpha=1,\n",
    "         label=\"Dados para exemplo Plotagem 1\")\n",
    "\n",
    "# Plotagem 2\n",
    "plt.plot(x,\n",
    "         3*y,\n",
    "         color=\"red\",\n",
    "         ls=\"-.\",\n",
    "         lw=0.8,\n",
    "         alpha=0.5,\n",
    "         label=\"Dados para exemplo Plotagem 2\")\n",
    "\n",
    "# Plotagem 3\n",
    "plt.plot(x,\n",
    "         -3*y,\n",
    "         color=\"blue\",\n",
    "         ls=\"--\",\n",
    "         alpha=0.5,\n",
    "         label=\"Dados para exemplo Plotagem 3\")\n",
    "\n",
    "# Plotagem 4\n",
    "plt.plot(x_marker,\n",
    "         y_marker,\n",
    "         color=\"black\",\n",
    "         ls=\"\",\n",
    "         marker=\"x\",\n",
    "         alpha=0.5,\n",
    "         label=\"Dados para exemplo Plotagem marker\")\n",
    "\n",
    "\n",
    "plt.title(\"Exemplo plt.plot()\")\n",
    "plt.xlabel(\"Eixo X\")\n",
    "plt.ylabel(\"Eixo Y\")\n",
    "plt.legend()"
   ]
  },
  {
   "cell_type": "markdown",
   "metadata": {},
   "source": [
    "## Plotando vários eixos;"
   ]
  },
  {
   "cell_type": "code",
   "execution_count": null,
   "metadata": {},
   "outputs": [],
   "source": []
  },
  {
   "cell_type": "markdown",
   "metadata": {},
   "source": [
    "## Arrays graficos"
   ]
  },
  {
   "cell_type": "code",
   "execution_count": null,
   "metadata": {},
   "outputs": [],
   "source": []
  },
  {
   "cell_type": "markdown",
   "metadata": {},
   "source": [
    "## Gráficos com 2 eixos verticais"
   ]
  },
  {
   "cell_type": "code",
   "execution_count": null,
   "metadata": {},
   "outputs": [],
   "source": []
  },
  {
   "cell_type": "markdown",
   "metadata": {},
   "source": [
    "## Salvando figuras"
   ]
  },
  {
   "cell_type": "code",
   "execution_count": null,
   "metadata": {},
   "outputs": [],
   "source": []
  },
  {
   "cell_type": "markdown",
   "metadata": {},
   "source": [
    "## Gráficos interativos."
   ]
  },
  {
   "cell_type": "code",
   "execution_count": null,
   "metadata": {},
   "outputs": [],
   "source": []
  },
  {
   "cell_type": "code",
   "execution_count": null,
   "metadata": {},
   "outputs": [],
   "source": []
  },
  {
   "cell_type": "code",
   "execution_count": null,
   "metadata": {},
   "outputs": [],
   "source": []
  }
 ],
 "metadata": {
  "@webio": {
   "lastCommId": null,
   "lastKernelId": null
  },
  "hide_input": false,
  "kernelspec": {
   "display_name": "Python 3",
   "language": "python",
   "name": "python3"
  },
  "language_info": {
   "codemirror_mode": {
    "name": "ipython",
    "version": 3
   },
   "file_extension": ".py",
   "mimetype": "text/x-python",
   "name": "python",
   "nbconvert_exporter": "python",
   "pygments_lexer": "ipython3",
   "version": "3.7.7"
  },
  "latex_envs": {
   "LaTeX_envs_menu_present": true,
   "autoclose": true,
   "autocomplete": true,
   "bibliofile": "biblio.bib",
   "cite_by": "apalike",
   "current_citInitial": 1,
   "eqLabelWithNumbers": true,
   "eqNumInitial": 1,
   "hotkeys": {
    "equation": "Ctrl-E",
    "itemize": "Ctrl-I"
   },
   "labels_anchors": false,
   "latex_user_defs": false,
   "report_style_numbering": false,
   "user_envs_cfg": false
  }
 },
 "nbformat": 4,
 "nbformat_minor": 4
}
