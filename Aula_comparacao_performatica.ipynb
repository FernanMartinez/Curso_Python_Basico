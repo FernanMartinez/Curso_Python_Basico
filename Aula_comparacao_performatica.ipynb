{
 "cells": [
  {
   "cell_type": "markdown",
   "metadata": {},
   "source": [
    "Nesta aula vamos discutir diferentes formas de obter o mesmo resultados no Python porém, avaliando as diferenças entre **velocidade** e quantidade de **código escrito** para cada caso.\n",
    "\n",
    "1. **Exemplo 1** vamos trabalhar com um vetor de 10_000_000 de valore e estamos interessados em elevar cada valor ao quadrado. Para conseguir este resultado vamos aplicar:\n",
    "  - for\n",
    "  - list comprehension\n",
    "  - set comprehension\n",
    "  - generators\n",
    "  - Numpy\n",
    "\n",
    "2.  **Exemplo 2** vamos trabalhar com vetor de 10_000_000 valores aleatórios entre 0 e 2$\\pi$ com média de $\\pi$ e desvio padrão de $\\pi$. Estamos interessados em calcular:\n",
    "  - Aplicar a função seno para cada valor;\n",
    "  - Calcular o valor máximo;\n",
    "  - Calcular a média;\n",
    "  - Calular o desvio padrão.\n",
    "  \n",
    "  Para conseguir este resultado vamos aplicar:\n",
    "  - Loop for;\n",
    "  - Loop for versão 2;\n",
    "  - list comprehension (com sum, len, mean e std built-in);\n",
    "  - generator;\n",
    "  - numpy;"
   ]
  },
  {
   "cell_type": "code",
   "execution_count": 6,
   "metadata": {},
   "outputs": [
    {
     "data": {
      "text/plain": [
       "100000000000000"
      ]
     },
     "execution_count": 6,
     "metadata": {},
     "output_type": "execute_result"
    }
   ],
   "source": [
    "len(list_1)**2"
   ]
  }
 ],
 "metadata": {
  "kernelspec": {
   "display_name": "Python 3",
   "language": "python",
   "name": "python3"
  },
  "language_info": {
   "codemirror_mode": {
    "name": "ipython",
    "version": 3
   },
   "file_extension": ".py",
   "mimetype": "text/x-python",
   "name": "python",
   "nbconvert_exporter": "python",
   "pygments_lexer": "ipython3",
   "version": "3.7.6"
  },
  "varInspector": {
   "cols": {
    "lenName": 16,
    "lenType": 16,
    "lenVar": 40
   },
   "kernels_config": {
    "python": {
     "delete_cmd_postfix": "",
     "delete_cmd_prefix": "del ",
     "library": "var_list.py",
     "varRefreshCmd": "print(var_dic_list())"
    },
    "r": {
     "delete_cmd_postfix": ") ",
     "delete_cmd_prefix": "rm(",
     "library": "var_list.r",
     "varRefreshCmd": "cat(var_dic_list()) "
    }
   },
   "types_to_exclude": [
    "module",
    "function",
    "builtin_function_or_method",
    "instance",
    "_Feature"
   ],
   "window_display": true
  }
 },
 "nbformat": 4,
 "nbformat_minor": 4
}
