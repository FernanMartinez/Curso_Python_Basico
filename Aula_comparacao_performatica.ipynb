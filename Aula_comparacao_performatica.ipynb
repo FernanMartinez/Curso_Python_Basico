{
 "cells": [
  {
   "cell_type": "markdown",
   "metadata": {},
   "source": [
    "# Comparação de performance\n",
    "\n",
    "Nesta aula vamos tentar responder à pergunta: como tornar nosso código em Python mais rápido? Para isso vamos avaliar aplicar dois exemplos, com graus de dificuldade diferentes, e resolve-os aplicando `for`, `comprenhension`, `generators`, `buil-in functions`, e `nuympy arrays`. Em cada exemplo será executado o código `n` vezes para conseguir identificar o tempo máximo, mínimo, médio, a variança do tempo e o desvio padrão.\n",
    "\n",
    "Os dados foram obtidos:\n",
    "\n",
    "- Processador Intel® Core™ i7-6500U\n",
    "- Memória 16 Gb\n",
    "- CPU @ 2.50GHz × 4\n",
    "- Arquitetura 64 bits\n",
    "\n",
    "Os resultados que serão apresentados não consideram o uso de Multithread ou implementações alternativas como PyPy ou Numba.\n",
    "\n"
   ]
  },
  {
   "cell_type": "markdown",
   "metadata": {},
   "source": [
    "## Exemplo 1\n",
    "Vamos trabalhar com um vetor de 1.000.000 de valore e estamos interessados aplicar a seguinte função:\n",
    "$$f(x) = x^2$$\n",
    "Para conseguir este resultado vamos aplicar:\n",
    "  - for\n",
    "  - list comprenhension\n",
    "  - set comprenhension\n",
    "  - generators\n",
    "  - Numpy\n",
    "---"
   ]
  },
  {
   "cell_type": "code",
   "execution_count": null,
   "metadata": {},
   "outputs": [],
   "source": [
    "NUMERO_DE_ELEMENTOS = 1_000_000\n",
    "vetor = range(1, NUMERO_DE_ELEMENTOS + 1)"
   ]
  },
  {
   "cell_type": "markdown",
   "metadata": {},
   "source": [
    "### Utilizando `for`"
   ]
  },
  {
   "cell_type": "code",
   "execution_count": null,
   "metadata": {},
   "outputs": [],
   "source": [
    "vetor_square_for = []\n",
    "for valor in vetor:\n",
    "    vetor_square_for.append(valor**2)\n",
    "vetor_square_for"
   ]
  },
  {
   "cell_type": "code",
   "execution_count": null,
   "metadata": {},
   "outputs": [],
   "source": [
    "import timeit\n",
    "REPEAT = 1000 # Quantidade de vezes que será medido o tempo de execução\n",
    "NUMBER = 5 # Quantidade de vezes que será executado o código\n",
    "setup_codigo = '''\n",
    "NUMERO_DE_ELEMENTOS = 1_000_000\n",
    "vetor = range(1, NUMERO_DE_ELEMENTOS + 1)\n",
    "'''\n",
    "avalidar_codigo = '''\n",
    "vetor = range(1, NUMERO_DE_ELEMENTOS + 1)\n",
    "vetor_square_for = []\n",
    "for valor in vetor:\n",
    "    vetor_square_for.append(valor**2)'''\n",
    "tempo_exemplo1_for= np.array(timeit.repeat(setup=setup_codigo,\n",
    "                                         stmt=avalidar_codigo,\n",
    "                                         repeat=REPEAT,\n",
    "                                         number=NUMBER))/NUMBER\n",
    "# tempo_exemplo1_for\n",
    "np.savetxt(f\"Dados_exemplo1_for_repeat={REPEAT}_number={NUMBER}.csv\",\n",
    "           tempo_exemplo1_for)"
   ]
  },
  {
   "cell_type": "markdown",
   "metadata": {},
   "source": [
    "### Utilizando `list comprenhension`"
   ]
  },
  {
   "cell_type": "code",
   "execution_count": null,
   "metadata": {},
   "outputs": [],
   "source": [
    "vetor_square_lc = [valor**2 for valor in vetor]\n",
    "vetor_square_lc"
   ]
  },
  {
   "cell_type": "code",
   "execution_count": null,
   "metadata": {},
   "outputs": [],
   "source": [
    "import timeit\n",
    "REPEAT = 1_000 # Quantidade de vezes que será medido o tempo de execução\n",
    "NUMBER = 5 # Quantidade de vezes que será executado o código\n",
    "setup_codigo = '''\n",
    "NUMERO_DE_ELEMENTOS = 1_000_000\n",
    "vetor = range(1, NUMERO_DE_ELEMENTOS + 1)\n",
    "'''\n",
    "avaliar_codigo = '''\n",
    "vetor_square_lc = [valor**2 for valor in vetor]'''\n",
    "tempo_exemplo1_lc= np.array(timeit.repeat(setup=setup_codigo,\n",
    "                                         stmt=avaliar_codigo,\n",
    "                                         repeat=REPEAT,\n",
    "                                         number=NUMBER))/NUMBER\n",
    "tempo_exemplo1_lc\n",
    "np.savetxt(f\"Dados_exemplo1_lc_repeat={REPEAT}_number={NUMBER}.csv\",\n",
    "           tempo_exemplo1_lc)"
   ]
  },
  {
   "cell_type": "markdown",
   "metadata": {},
   "source": [
    "### Utilizando `set comprenhension`"
   ]
  },
  {
   "cell_type": "code",
   "execution_count": null,
   "metadata": {},
   "outputs": [],
   "source": [
    "vetor_square_sc = {valor**2 for valor in vetor}\n",
    "vetor_square_sc"
   ]
  },
  {
   "cell_type": "code",
   "execution_count": null,
   "metadata": {
    "scrolled": true
   },
   "outputs": [],
   "source": [
    "import timeit\n",
    "REPEAT = 1_000 # Quantidade de vezes que será medido o tempo de execução\n",
    "NUMBER = 5 # Quantidade de vezes que será executado o código\n",
    "setup_codigo = '''\n",
    "NUMERO_DE_ELEMENTOS = 1_000_000\n",
    "vetor = range(1, NUMERO_DE_ELEMENTOS + 1)\n",
    "'''\n",
    "avalidar_codigo = '''\n",
    "vetor_square_sc = {valor**2 for valor in vetor}'''\n",
    "tempo_exemplo1_sc = np.array(timeit.repeat(setup=setup_codigo,\n",
    "                                           stmt=avalidar_codigo,\n",
    "                                           repeat=REPEAT,\n",
    "                                           number=NUMBER))/NUMBER\n",
    "np.savetxt(f\"Dados_exemplo1_sc_repeat={REPEAT}_number={NUMBER}.csv\",\n",
    "           tempo_exemplo1_sc)"
   ]
  },
  {
   "cell_type": "code",
   "execution_count": null,
   "metadata": {},
   "outputs": [],
   "source": [
    "tempo_exemplo1_sc"
   ]
  },
  {
   "cell_type": "markdown",
   "metadata": {},
   "source": [
    "### Utilizando  `generators`"
   ]
  },
  {
   "cell_type": "code",
   "execution_count": null,
   "metadata": {},
   "outputs": [],
   "source": [
    "vetor_square_gen = (valor**2 for valor in vetor)\n",
    "list(vetor_square_gen)"
   ]
  },
  {
   "cell_type": "code",
   "execution_count": null,
   "metadata": {},
   "outputs": [],
   "source": [
    "import timeit\n",
    "REPEAT =  1_000 # Quantidade de vezes que será medido o tempo de execução\n",
    "NUMBER = 5 # Quantidade de vezes que será executado o código\n",
    "setup_codigo = '''\n",
    "NUMERO_DE_ELEMENTOS = 1_000_000\n",
    "vetor = range(1, NUMERO_DE_ELEMENTOS + 1)\n",
    "'''\n",
    "avalidar_codigo = '''\n",
    "vetor_square_gen = (valor**2 for valor in vetor)'''\n",
    "tempo_exemplo1_gen = np.array(timeit.repeat(setup=setup_codigo,\n",
    "                                         stmt=avalidar_codigo,\n",
    "                                         repeat=REPEAT,\n",
    "                                         number=NUMBER))/NUMBER\n",
    "tempo_exemplo1_gen\n",
    "np.savetxt(f\"Dados_exemplo1_gen_repeat={REPEAT}_number={NUMBER}.csv\",\n",
    "           tempo_exemplo1_gen)"
   ]
  },
  {
   "cell_type": "markdown",
   "metadata": {},
   "source": [
    "### Utilizando `Numpy` Opção 1"
   ]
  },
  {
   "cell_type": "code",
   "execution_count": null,
   "metadata": {},
   "outputs": [],
   "source": [
    "import numpy as np\n",
    "vetor_square_np1 = np.square(vetor)"
   ]
  },
  {
   "cell_type": "code",
   "execution_count": null,
   "metadata": {},
   "outputs": [],
   "source": [
    "import timeit\n",
    "REPEAT = 1_000 # Quantidade de vezes que será medido o tempo de execução\n",
    "NUMBER = 5 # Quantidade de vezes que será executado o código\n",
    "setup_codigo = '''\n",
    "import numpy as np\n",
    "NUMERO_DE_ELEMENTOS = 1_000_000\n",
    "vetor = range(1, NUMERO_DE_ELEMENTOS + 1)\n",
    "'''\n",
    "avalidar_codigo = '''\n",
    "vetor_square_np1 = np.square(vetor)'''\n",
    "tempo_exemplo1_np1 = np.array(timeit.repeat(setup=setup_codigo,\n",
    "                                         stmt=avalidar_codigo,\n",
    "                                         repeat=REPEAT,\n",
    "                                         number=NUMBER))/NUMBER\n",
    "tempo_exemplo1_np1\n",
    "np.savetxt(f\"Dados_exemplo1_np1_repeat={REPEAT}_number={NUMBER}.csv\",\n",
    "           tempo_exemplo1_np1)"
   ]
  },
  {
   "cell_type": "code",
   "execution_count": null,
   "metadata": {},
   "outputs": [],
   "source": [
    "import numpy as np\n",
    "vetor_square_np2 = np.array(vetor)**2\n",
    "vetor_square_np2"
   ]
  },
  {
   "cell_type": "code",
   "execution_count": null,
   "metadata": {},
   "outputs": [],
   "source": [
    "import timeit\n",
    "REPEAT = 1_000 # Quantidade de vezes que será medido o tempo de execução\n",
    "NUMBER = 5 # Quantidade de vezes que será executado o código\n",
    "setup_codigo = '''\n",
    "import numpy as np\n",
    "NUMERO_DE_ELEMENTOS = 1_000_000\n",
    "vetor = range(1, NUMERO_DE_ELEMENTOS + 1)\n",
    "'''\n",
    "avalidar_codigo = '''\n",
    "vetor_square_np2 = np.array(vetor)**2'''\n",
    "tempo_exemplo1_np2= np.array(timeit.repeat(setup=setup_codigo,\n",
    "                                         stmt=avalidar_codigo,\n",
    "                                         repeat=REPEAT,\n",
    "                                         number=NUMBER))/NUMBER\n",
    "tempo_exemplo1_np2\n",
    "np.savetxt(f\"Dados_exemplo1_np2_repeat={REPEAT}_number={NUMBER}.csv\",\n",
    "           tempo_exemplo1_np2)"
   ]
  },
  {
   "cell_type": "code",
   "execution_count": null,
   "metadata": {},
   "outputs": [],
   "source": [
    "\"\"\"\n",
    "Graficando os dados e mostrando as estatísticas dos códigos comparados\n",
    "\"\"\"\n",
    "import matplotlib.pyplot as plt\n",
    "import pandas as pd\n",
    "%matplotlib notebook\n",
    "pd.options.display.float_format = '{:.5e}'.format\n",
    "colunas = \"Mínimo Máximo Média Variância STD\".split(\" \")\n",
    "filas = \"For-List\\nComprenhension-Set\\nComprenhension-Generator-Numpy Opção 1-Numpy Opção 2\".split(\"-\")\n",
    "comparacao = np.c_[np.amin(resultados, axis=0),\n",
    "                   np.amax(resultados, axis=0),\n",
    "                   np.mean(resultados, axis=0),\n",
    "                   np.var(resultados, axis=0),\n",
    "                   np.std(resultados, axis=0)]\n",
    "comparacao_df = pd.DataFrame(data=comparacao,\n",
    "                             index=nomes,\n",
    "                             columns=colunas)\n",
    "resultados = np.c_[tempo_exemplo1_for,\n",
    "                   tempo_exemplo1_lc,\n",
    "                   tempo_exemplo1_sc,\n",
    "                   tempo_exemplo1_gen,\n",
    "                   tempo_exemplo1_np1,\n",
    "                   tempo_exemplo1_np2]\n",
    "plt.boxplot(resultados,\n",
    "            labels=nomes,\n",
    "            flierprops=dict(markerfacecolor='red', marker='o', markersize=5))\n",
    "plt.ylabel(\"Tempo [s]\")\n",
    "plt.grid(True);\n",
    "comparacao_df\n"
   ]
  },
  {
   "cell_type": "markdown",
   "metadata": {},
   "source": [
    "## Exemplo 2\n",
    "Vamos trabalhar com vetor de 1.000.000 valores aleatórios entre com média 5 e desvio padrão de 4,5 e estamos interessados em aplicar a seguinte função e calcular:\n",
    "$$f(x) = x^3 + {{5} \\over {\\pi}}x^{{1}\\over{2}} – {{x}\\over{x^2 + 1}}$$\n",
    "  - Aplicar a função seno para cada valor;\n",
    "  - Calcular a soma do novo vetor.\n",
    "  \n",
    "  Para conseguir este resultado vamos aplicar:\n",
    "  - Loop for opção 1;\n",
    "  - Loop for opção 2;\n",
    "  - Loop for opção 3;\n",
    "  - list comprenhension;\n",
    "  - generator;\n",
    "  - numpy;\n",
    "  - map.\n",
    "---"
   ]
  },
  {
   "cell_type": "code",
   "execution_count": null,
   "metadata": {},
   "outputs": [],
   "source": []
  },
  {
   "cell_type": "code",
   "execution_count": null,
   "metadata": {},
   "outputs": [],
   "source": [
    "import numpy as np\n",
    "NUMERO_DE_ELEMENTOS = 100_000\n",
    "vetor = np.random.normal(5, 4.5, NUMERO_DE_ELEMENTOS)"
   ]
  },
  {
   "cell_type": "markdown",
   "metadata": {},
   "source": [
    "### Utilizando `For` Opção 1"
   ]
  },
  {
   "cell_type": "code",
   "execution_count": null,
   "metadata": {},
   "outputs": [],
   "source": [
    "vetor_fun_for1 = []\n",
    "soma = 0\n",
    "for valor in vetor:\n",
    "    vetor_fun_for1.append(valor**3+ 5/3.141516*valor**1/2 - valor/(valor**2 + 1))\n",
    "    soma  += vetor_fun[-1]"
   ]
  },
  {
   "cell_type": "code",
   "execution_count": null,
   "metadata": {},
   "outputs": [],
   "source": [
    "import timeit\n",
    "REPEAT = 250 # Quantidade de vezes que será medido o tempo de execução\n",
    "NUMBER = 5 # Quantidade de vezes que será executado o código\n",
    "setup_codigo = '''\n",
    "import numpy as np\n",
    "NUMERO_DE_ELEMENTOS = 1_000_000\n",
    "vetor = np.random.normal(5, 4.5, NUMERO_DE_ELEMENTOS)\n",
    "'''\n",
    "validar_codigo = '''\n",
    "vetor_fun_for1 = []\n",
    "soma = 0\n",
    "for valor in vetor:\n",
    "    vetor_fun_for1.append(valor**3+ 5/3.141516*valor**1/2 - valor/(valor**2 + 1))\n",
    "    soma  += vetor_fun_for1[-1]'''\n",
    "tempo_exemplo2_for1= np.array(timeit.repeat(setup=setup_codigo,\n",
    "                                         stmt=validar_codigo,\n",
    "                                         repeat=REPEAT,\n",
    "                                         number=NUMBER))/NUMBER\n",
    "# tempo_exemplo1_for\n",
    "np.savetxt(f\"Dados_exemplo2_for1_repeat={REPEAT}_number={NUMBER}.csv\",\n",
    "           tempo_exemplo2_for1)"
   ]
  },
  {
   "cell_type": "code",
   "execution_count": null,
   "metadata": {},
   "outputs": [],
   "source": [
    "np.mean(tempo_exemplo2_for1)\n",
    "np.std(tempo_exemplo2_for1)"
   ]
  },
  {
   "cell_type": "markdown",
   "metadata": {},
   "source": [
    "### Utilizando `for` opção 2"
   ]
  },
  {
   "cell_type": "code",
   "execution_count": null,
   "metadata": {},
   "outputs": [],
   "source": [
    "vetor_fun_for2 = []\n",
    "soma = 0.0\n",
    "for valor in vetor:\n",
    "    vetor_fun_for2.append(valor**3+ 5/3.141516*valor**1/2 - valor/(valor**2 + 1))\n",
    "    soma  += vetor_fun_for2[-1]"
   ]
  },
  {
   "cell_type": "code",
   "execution_count": null,
   "metadata": {},
   "outputs": [],
   "source": [
    "import timeit\n",
    "REPEAT = 250 # Quantidade de vezes que será medido o tempo de execução\n",
    "NUMBER = 5 # Quantidade de vezes que será executado o código\n",
    "setup_codigo = '''\n",
    "import numpy as np\n",
    "NUMERO_DE_ELEMENTOS = 1_000_000\n",
    "vetor = np.random.normal(5, 4.5, NUMERO_DE_ELEMENTOS)\n",
    "'''\n",
    "validar_codigo = '''\n",
    "vetor_fun_for2 = []\n",
    "soma = 0.0\n",
    "for valor in vetor:\n",
    "    vetor_fun_for2.append(valor**3+ 5/3.141516*valor**1/2 - valor/(valor**2 + 1))\n",
    "    soma  += vetor_fun_for2[-1]'''\n",
    "tempo_exemplo2_for2= np.array(timeit.repeat(setup=setup_codigo,\n",
    "                                         stmt=validar_codigo,\n",
    "                                         repeat=REPEAT,\n",
    "                                         number=NUMBER))/NUMBER\n",
    "# tempo_exemplo1_for\n",
    "np.savetxt(f\"Dados_exemplo2_for2_repeat={REPEAT}_number={NUMBER}.csv\",\n",
    "           tempo_exemplo2_for2)\n",
    "# np.mean(tempo_exemplo2_for2) = 3.1815899256055946\n",
    "# np.std(tempo_exemplo2_for2) =  0.34918650907524423"
   ]
  },
  {
   "cell_type": "markdown",
   "metadata": {},
   "source": [
    "### Utilizando `for` opção 3"
   ]
  },
  {
   "cell_type": "code",
   "execution_count": null,
   "metadata": {},
   "outputs": [],
   "source": [
    "vetor_fun_for3 = []\n",
    "for valor in vetor:\n",
    "    vetor_fun_for3.append(valor**3+ 5/3.141516*valor**1/2 - valor/(valor**2 + 1))\n",
    "soma = sum(vetor_fun_for3)"
   ]
  },
  {
   "cell_type": "code",
   "execution_count": null,
   "metadata": {},
   "outputs": [],
   "source": [
    "import timeit\n",
    "REPEAT = 250 # Quantidade de vezes que será medido o tempo de execução\n",
    "NUMBER = 5 # Quantidade de vezes que será executado o código\n",
    "setup_codigo = '''\n",
    "import numpy as np\n",
    "NUMERO_DE_ELEMENTOS = 1_000_000\n",
    "vetor = np.random.normal(5, 4.5, NUMERO_DE_ELEMENTOS)\n",
    "'''\n",
    "validar_codigo = '''\n",
    "vetor_fun_for3 = []\n",
    "for valor in vetor:\n",
    "    vetor_fun_for3.append(valor**3+ 5/3.141516*valor**1/2 - valor/(valor**2 + 1))\n",
    "soma = sum(vetor_fun_for3)'''\n",
    "tempo_exemplo2_for3= np.array(timeit.repeat(setup=setup_codigo,\n",
    "                                         stmt=validar_codigo,\n",
    "                                         repeat=REPEAT,\n",
    "                                         number=NUMBER))/NUMBER\n",
    "# tempo_exemplo1_for\n",
    "np.savetxt(f\"Dados_exemplo2_for3_repeat={REPEAT}_number={NUMBER}.csv\",\n",
    "           tempo_exemplo2_for3)"
   ]
  },
  {
   "cell_type": "code",
   "execution_count": null,
   "metadata": {},
   "outputs": [],
   "source": [
    "np.mean(tempo_exemplo2_for3)"
   ]
  },
  {
   "cell_type": "markdown",
   "metadata": {},
   "source": [
    "### Utilizando `list comprenhension`"
   ]
  },
  {
   "cell_type": "code",
   "execution_count": null,
   "metadata": {},
   "outputs": [],
   "source": [
    "vetor_fun_lc = [valor**3+ 5/3.141516*valor**1/2 - valor/(valor**2 + 1) for valor in vetor]\n",
    "sum(vetor_fun_lc)"
   ]
  },
  {
   "cell_type": "code",
   "execution_count": null,
   "metadata": {},
   "outputs": [],
   "source": [
    "import timeit\n",
    "REPEAT = 250 # Quantidade de vezes que será medido o tempo de execução\n",
    "NUMBER = 5 # Quantidade de vezes que será executado o código\n",
    "setup_codigo = '''\n",
    "import numpy as np\n",
    "NUMERO_DE_ELEMENTOS = 1_000_000\n",
    "vetor = np.random.normal(5, 4.5, NUMERO_DE_ELEMENTOS)\n",
    "'''\n",
    "validar_codigo = '''\n",
    "vetor_fun_lc = [valor**3+ 5/3.141516*valor**1/2 - valor/(valor**2 + 1) for valor in vetor]\n",
    "sum(vetor_fun_lc)'''\n",
    "tempo_exemplo2_lc= np.array(timeit.repeat(setup=setup_codigo,\n",
    "                                         stmt=validar_codigo,\n",
    "                                         repeat=REPEAT,\n",
    "                                         number=NUMBER))/NUMBER\n",
    "# tempo_exemplo1_for\n",
    "np.savetxt(f\"Dados_exemplo2_lc_repeat={REPEAT}_number={NUMBER}.csv\",\n",
    "           tempo_exemplo2_lc)"
   ]
  },
  {
   "cell_type": "code",
   "execution_count": null,
   "metadata": {},
   "outputs": [],
   "source": [
    "np.mean(tempo_exemplo2_lc)"
   ]
  },
  {
   "cell_type": "markdown",
   "metadata": {},
   "source": []
  },
  {
   "cell_type": "markdown",
   "metadata": {},
   "source": [
    "### Utilizando `generetors`"
   ]
  },
  {
   "cell_type": "code",
   "execution_count": null,
   "metadata": {},
   "outputs": [],
   "source": [
    "vetor_fun_gen = (valor**3+ 5/3.141516*valor**1/2 - valor/(valor**2 + 1) for valor in vetor)\n",
    "sum(vetor_fun_gen)"
   ]
  },
  {
   "cell_type": "code",
   "execution_count": null,
   "metadata": {},
   "outputs": [],
   "source": [
    "import timeit\n",
    "REPEAT = 250 # Quantidade de vezes que será medido o tempo de execução\n",
    "NUMBER = 5 # Quantidade de vezes que será executado o código\n",
    "setup_codigo = '''\n",
    "import numpy as np\n",
    "NUMERO_DE_ELEMENTOS = 1_000_000\n",
    "vetor = np.random.normal(5, 4.5, NUMERO_DE_ELEMENTOS)\n",
    "'''\n",
    "validar_codigo = '''\n",
    "vetor_fun_gen = (valor**3+ 5/3.141516*valor**1/2 - valor/(valor**2 + 1) for valor in vetor)\n",
    "sum(vetor_fun_gen)'''\n",
    "tempo_exemplo2_gen2= np.array(timeit.repeat(setup=setup_codigo,\n",
    "                                         stmt=validar_codigo,\n",
    "                                         repeat=REPEAT,\n",
    "                                         number=NUMBER))/NUMBER\n",
    "# tempo_exemplo1_for\n",
    "np.savetxt(f\"Dados_exemplo2_gen2_repeat={REPEAT}_number={NUMBER}.csv\",\n",
    "           tempo_exemplo2_gen2)"
   ]
  },
  {
   "cell_type": "code",
   "execution_count": null,
   "metadata": {},
   "outputs": [],
   "source": [
    "np.mean(tempo_exemplo2_gen2)"
   ]
  },
  {
   "cell_type": "markdown",
   "metadata": {},
   "source": [
    "### Utilizando `Numpy`"
   ]
  },
  {
   "cell_type": "code",
   "execution_count": null,
   "metadata": {},
   "outputs": [],
   "source": [
    "vetor_fun_np = vetor**3 + 5/3.141516*vetor**1/2 - vetor/(vetor**2 + 1)\n",
    "vetor_fun_np.sum()"
   ]
  },
  {
   "cell_type": "code",
   "execution_count": 1,
   "metadata": {},
   "outputs": [],
   "source": [
    "import timeit\n",
    "REPEAT  = 250 # Quantidade de vezes que será medido o tempo de execução\n",
    "NUMBER = 5 # Quantidade de vezes que será executado o código\n",
    "setup_codigo = '''\n",
    "import numpy as np\n",
    "NUMERO_DE_ELEMENTOS = 1_000_000\n",
    "vetor = np.random.normal(5, 4.5, NUMERO_DE_ELEMENTOS)\n",
    "'''\n",
    "validar_codigo = '''\n",
    "vetor_fun_np = vetor**3 + 5/3.141516*vetor**1/2 - vetor/(vetor**2 + 1)\n",
    "vetor_fun_np.sum()'''\n",
    "tempo_exemplo2_np2= np.array(timeit.repeat(setup=setup_codigo,\n",
    "                                         stmt=validar_codigo,\n",
    "                                         repeat=REPEAT,\n",
    "                                         number=NUMBER))/NUMBER\n",
    "# tempo_exemplo1_for\n",
    "np.savetxt(f\"Dados_exemplo2_np2_repeat={REPEAT}_number={NUMBER}.csv\",\n",
    "           tempo_exemplo2_np2)"
   ]
  },
  {
   "cell_type": "code",
   "execution_count": 9,
   "metadata": {},
   "outputs": [],
   "source": [
    "import numpy as np\n",
    "import time\n",
    "NUMERO_DE_ELEMENTOS = 1_000_000\n",
    "vetor = np.random.normal(5, 4.5, NUMERO_DE_ELEMENTOS)\n",
    "SAMPLES = 250\n",
    "REPEAT = 5\n",
    "\n",
    "tempos = []\n",
    "\n",
    "for i in range(SAMPLES):\n",
    "    tempo_5 = 0\n",
    "    for i in range(0, REPEAT):\n",
    "        t0 = time.time()\n",
    "        vetor_fun_np = vetor**3 + 5/3.141516*vetor**1/2 - vetor/(vetor**2 + 1)\n",
    "        vetor_fun_np.sum()\n",
    "        t1 = time.time()\n",
    "        tempo_5 += t1 - t0\n",
    "    tempos.append(tempo_5/REPEAT)\n"
   ]
  },
  {
   "cell_type": "code",
   "execution_count": 10,
   "metadata": {},
   "outputs": [
    {
     "data": {
      "text/plain": [
       "[0.10979619026184081,\n",
       " 0.1071256160736084,\n",
       " 0.1165536880493164,\n",
       " 0.1300734043121338,\n",
       " 0.15023980140686036,\n",
       " 0.1688157081604004,\n",
       " 0.150053071975708,\n",
       " 0.1711195945739746,\n",
       " 0.14694924354553224,\n",
       " 0.1501323699951172,\n",
       " 0.1101424217224121,\n",
       " 0.10266242027282715,\n",
       " 0.1053421974182129,\n",
       " 0.10242877006530762,\n",
       " 0.10569372177124023,\n",
       " 0.10332231521606446,\n",
       " 0.10338811874389649,\n",
       " 0.15512142181396485,\n",
       " 0.15024266242980958,\n",
       " 0.15845866203308107,\n",
       " 0.1514495849609375,\n",
       " 0.16028766632080077,\n",
       " 0.1588409423828125,\n",
       " 0.10633234977722168,\n",
       " 0.10426950454711914,\n",
       " 0.11134819984436035,\n",
       " 0.10683188438415528,\n",
       " 0.10677905082702636,\n",
       " 0.1076082706451416,\n",
       " 0.10647354125976563,\n",
       " 0.10599069595336914,\n",
       " 0.11859307289123536,\n",
       " 0.11247334480285645,\n",
       " 0.10731477737426758,\n",
       " 0.10960497856140136,\n",
       " 0.11860909461975097,\n",
       " 0.10840492248535157,\n",
       " 0.13042950630187988,\n",
       " 0.19922223091125488,\n",
       " 0.18215112686157225,\n",
       " 0.1569139003753662,\n",
       " 0.12123551368713378,\n",
       " 0.11092252731323242,\n",
       " 0.14630565643310547,\n",
       " 0.1577392578125,\n",
       " 0.1515587329864502,\n",
       " 0.13004741668701172,\n",
       " 0.10393247604370118,\n",
       " 0.1048736572265625,\n",
       " 0.10194892883300781,\n",
       " 0.1010322093963623,\n",
       " 0.10121583938598633,\n",
       " 0.10251064300537109,\n",
       " 0.1008340835571289,\n",
       " 0.10200834274291992,\n",
       " 0.10173563957214356,\n",
       " 0.10229439735412597,\n",
       " 0.12030491828918458,\n",
       " 0.15170502662658691,\n",
       " 0.15731492042541503,\n",
       " 0.1501224994659424,\n",
       " 0.15958380699157715,\n",
       " 0.15864186286926268,\n",
       " 0.15379800796508789,\n",
       " 0.12370271682739258,\n",
       " 0.10186858177185058,\n",
       " 0.10495357513427735,\n",
       " 0.15516109466552735,\n",
       " 0.15096063613891603,\n",
       " 0.15358452796936034,\n",
       " 0.1484804630279541,\n",
       " 0.15403394699096679,\n",
       " 0.15903768539428711,\n",
       " 0.10483827590942382,\n",
       " 0.10167717933654785,\n",
       " 0.10352163314819336,\n",
       " 0.10233311653137207,\n",
       " 0.10280966758728027,\n",
       " 0.10383782386779786,\n",
       " 0.1046513557434082,\n",
       " 0.10187730789184571,\n",
       " 0.10302629470825195,\n",
       " 0.1011195182800293,\n",
       " 0.1023329257965088,\n",
       " 0.10257554054260254,\n",
       " 0.10225996971130372,\n",
       " 0.10082755088806153,\n",
       " 0.10336785316467285,\n",
       " 0.10482697486877442,\n",
       " 0.10394444465637206,\n",
       " 0.10152788162231445,\n",
       " 0.11050858497619628,\n",
       " 0.1131293773651123,\n",
       " 0.10215463638305664,\n",
       " 0.10335888862609863,\n",
       " 0.10287847518920898,\n",
       " 0.1025320053100586,\n",
       " 0.10267434120178223,\n",
       " 0.10298895835876465,\n",
       " 0.10495386123657227,\n",
       " 0.11823534965515137,\n",
       " 0.15087528228759767,\n",
       " 0.15290360450744628,\n",
       " 0.15518407821655272,\n",
       " 0.15096354484558105,\n",
       " 0.14907913208007811,\n",
       " 0.15130553245544434,\n",
       " 0.10641546249389648,\n",
       " 0.10204229354858399,\n",
       " 0.1045760154724121,\n",
       " 0.10248503684997559,\n",
       " 0.10557394027709961,\n",
       " 0.10422978401184083,\n",
       " 0.10448784828186035,\n",
       " 0.10509419441223145,\n",
       " 0.10606040954589843,\n",
       " 0.10451717376708984,\n",
       " 0.10169878005981445,\n",
       " 0.1019350528717041,\n",
       " 0.10167222023010254,\n",
       " 0.10160737037658692,\n",
       " 0.10444402694702148,\n",
       " 0.102154541015625,\n",
       " 0.1011970043182373,\n",
       " 0.10623350143432617,\n",
       " 0.1019108772277832,\n",
       " 0.10436787605285644,\n",
       " 0.10230917930603027,\n",
       " 0.10240392684936524,\n",
       " 0.10102181434631348,\n",
       " 0.10655245780944825,\n",
       " 0.10387940406799316,\n",
       " 0.10158066749572754,\n",
       " 0.10444440841674804,\n",
       " 0.11870522499084472,\n",
       " 0.14591517448425292,\n",
       " 0.14584436416625976,\n",
       " 0.14263601303100587,\n",
       " 0.1400615692138672,\n",
       " 0.10164065361022949,\n",
       " 0.10401396751403809,\n",
       " 0.10179905891418457,\n",
       " 0.11805763244628906,\n",
       " 0.15456185340881348,\n",
       " 0.14921765327453612,\n",
       " 0.14218854904174805,\n",
       " 0.10728120803833008,\n",
       " 0.12215147018432618,\n",
       " 0.14538321495056153,\n",
       " 0.1548093795776367,\n",
       " 0.16523213386535646,\n",
       " 0.15807766914367677,\n",
       " 0.1527101993560791,\n",
       " 0.15575017929077148,\n",
       " 0.11969819068908691,\n",
       " 0.10373368263244628,\n",
       " 0.10501608848571778,\n",
       " 0.10301189422607422,\n",
       " 0.10098319053649903,\n",
       " 0.10383696556091308,\n",
       " 0.11343870162963868,\n",
       " 0.14715204238891602,\n",
       " 0.1575747013092041,\n",
       " 0.15475845336914062,\n",
       " 0.14757637977600097,\n",
       " 0.15269641876220702,\n",
       " 0.15791106224060059,\n",
       " 0.15396881103515625,\n",
       " 0.15809755325317382,\n",
       " 0.14640731811523439,\n",
       " 0.14770860671997071,\n",
       " 0.15383496284484863,\n",
       " 0.13826227188110352,\n",
       " 0.10273246765136719,\n",
       " 0.1192744255065918,\n",
       " 0.14188408851623535,\n",
       " 0.15147619247436522,\n",
       " 0.15332269668579102,\n",
       " 0.10788378715515137,\n",
       " 0.1022301197052002,\n",
       " 0.10346665382385253,\n",
       " 0.10097675323486328,\n",
       " 0.10182452201843262,\n",
       " 0.10130534172058106,\n",
       " 0.10319972038269043,\n",
       " 0.1018486499786377,\n",
       " 0.10575737953186035,\n",
       " 0.10158348083496094,\n",
       " 0.10804429054260253,\n",
       " 0.10328254699707032,\n",
       " 0.10340070724487305,\n",
       " 0.1018178939819336,\n",
       " 0.1015737533569336,\n",
       " 0.10147032737731934,\n",
       " 0.10640168190002441,\n",
       " 0.10416531562805176,\n",
       " 0.10542159080505371,\n",
       " 0.10378780364990234,\n",
       " 0.10455474853515626,\n",
       " 0.10516867637634278,\n",
       " 0.10541982650756836,\n",
       " 0.10174174308776855,\n",
       " 0.10372920036315918,\n",
       " 0.10504827499389649,\n",
       " 0.10341377258300781,\n",
       " 0.1036231517791748,\n",
       " 0.1028902530670166,\n",
       " 0.10479955673217774,\n",
       " 0.10283102989196777,\n",
       " 0.10525450706481934,\n",
       " 0.10422353744506836,\n",
       " 0.10878138542175293,\n",
       " 0.10419034957885742,\n",
       " 0.10428481101989746,\n",
       " 0.10265450477600098,\n",
       " 0.10320253372192383,\n",
       " 0.10554947853088378,\n",
       " 0.10278682708740235,\n",
       " 0.10642795562744141,\n",
       " 0.10291528701782227,\n",
       " 0.10389037132263183,\n",
       " 0.10285544395446777,\n",
       " 0.10313711166381836,\n",
       " 0.1055762767791748,\n",
       " 0.10173416137695312,\n",
       " 0.10346784591674804,\n",
       " 0.10440754890441895,\n",
       " 0.10257182121276856,\n",
       " 0.1037604808807373,\n",
       " 0.10478253364562988,\n",
       " 0.10321412086486817,\n",
       " 0.10204563140869141,\n",
       " 0.1019324779510498,\n",
       " 0.10199337005615235,\n",
       " 0.10304398536682129,\n",
       " 0.10188169479370117,\n",
       " 0.10344643592834472,\n",
       " 0.10172824859619141,\n",
       " 0.1163149356842041,\n",
       " 0.14606924057006837,\n",
       " 0.15058584213256837,\n",
       " 0.16169281005859376,\n",
       " 0.1225250244140625,\n",
       " 0.12301640510559082,\n",
       " 0.1070749282836914,\n",
       " 0.10419974327087403,\n",
       " 0.10970630645751953,\n",
       " 0.11495728492736816,\n",
       " 0.1141331672668457,\n",
       " 0.11540107727050782]"
      ]
     },
     "execution_count": 10,
     "metadata": {},
     "output_type": "execute_result"
    }
   ],
   "source": [
    "tempos"
   ]
  },
  {
   "cell_type": "code",
   "execution_count": null,
   "metadata": {},
   "outputs": [],
   "source": []
  },
  {
   "cell_type": "code",
   "execution_count": 11,
   "metadata": {},
   "outputs": [
    {
     "data": {
      "text/plain": [
       "array([0.10890704, 0.10901464, 0.11819216, 0.11188562, 0.10727764,\n",
       "       0.10369132, 0.10350796, 0.09873929, 0.09752769, 0.09935929,\n",
       "       0.09768814, 0.10045354, 0.10259406, 0.10339246, 0.09846228,\n",
       "       0.10691971, 0.10223318, 0.09933291, 0.10142558, 0.09984868,\n",
       "       0.0996665 , 0.09731965, 0.09964847, 0.09748556, 0.09859663,\n",
       "       0.09924165, 0.09815741, 0.09965364, 0.09842825, 0.09798553,\n",
       "       0.09715157, 0.09794278, 0.0971468 , 0.1014161 , 0.09831629,\n",
       "       0.10083061, 0.09704473, 0.09778607, 0.10143924, 0.09739149,\n",
       "       0.09789069, 0.10104103, 0.09960562, 0.09885404, 0.10239839,\n",
       "       0.09876395, 0.09822321, 0.10013529, 0.09723003, 0.10089522,\n",
       "       0.10812064, 0.11330101, 0.11538892, 0.09824513, 0.09745026,\n",
       "       0.10969352, 0.09924974, 0.09777955, 0.09771149, 0.0979225 ,\n",
       "       0.09746802, 0.09815997, 0.09898739, 0.10093088, 0.10089028,\n",
       "       0.0985594 , 0.09791765, 0.09875465, 0.0975722 , 0.09801097,\n",
       "       0.09818211, 0.09946121, 0.10134201, 0.09973125, 0.0973354 ,\n",
       "       0.09827521, 0.10343631, 0.10467099, 0.11370586, 0.10670475,\n",
       "       0.10666237, 0.10525056, 0.10617379, 0.10159048, 0.10484996,\n",
       "       0.10578973, 0.09977329, 0.09916501, 0.09945793, 0.09764999,\n",
       "       0.0985648 , 0.1100598 , 0.09728997, 0.09737551, 0.09935826,\n",
       "       0.09630718, 0.09666264, 0.09761189, 0.09692195, 0.10397539,\n",
       "       0.09992662, 0.10384447, 0.10096817, 0.1017539 , 0.09909624,\n",
       "       0.10198559, 0.10041185, 0.11060417, 0.11258384, 0.09786444,\n",
       "       0.09848012, 0.09911612, 0.09928183, 0.10029784, 0.10221105,\n",
       "       0.10182357, 0.10244614, 0.10149451, 0.10194404, 0.09843623,\n",
       "       0.09965056, 0.09863794, 0.10757109, 0.10891806, 0.09853528,\n",
       "       0.09742804, 0.10246693, 0.11692785, 0.10248818, 0.1164732 ,\n",
       "       0.12187436, 0.10591508, 0.10571579, 0.11360916, 0.12359251,\n",
       "       0.10414633, 0.09699633, 0.10031789, 0.10225618, 0.09837267,\n",
       "       0.10015651, 0.09956235, 0.10737284, 0.10127879, 0.10299244,\n",
       "       0.09927816, 0.14196464, 0.13158879, 0.13046858, 0.11955617,\n",
       "       0.11592227, 0.10177099, 0.10533796, 0.09791143, 0.10024566,\n",
       "       0.10172696, 0.10864072, 0.0971889 , 0.09835684, 0.09745861,\n",
       "       0.10117646, 0.12503278, 0.10364048, 0.10081176, 0.11660143,\n",
       "       0.09998671, 0.10785223, 0.10687232, 0.10395684, 0.10456302,\n",
       "       0.10255663, 0.12041481, 0.11060841, 0.1094303 , 0.10903637,\n",
       "       0.10662454, 0.10135732, 0.12023121, 0.1006465 , 0.10481558,\n",
       "       0.10267216, 0.10327465, 0.10214563, 0.11128658, 0.10760303,\n",
       "       0.12114479, 0.11751969, 0.10628309, 0.10559449, 0.10968401,\n",
       "       0.09943633, 0.09743281, 0.09760571, 0.0968719 , 0.09681843,\n",
       "       0.09905849, 0.09707999, 0.09701809, 0.09766776, 0.09865304,\n",
       "       0.09768778, 0.09722906, 0.09735717, 0.09790933, 0.09917942,\n",
       "       0.09783297, 0.09844592, 0.09691107, 0.0969059 , 0.09733483,\n",
       "       0.09709771, 0.09815404, 0.09904665, 0.09795083, 0.09791919,\n",
       "       0.09833562, 0.09832825, 0.09918202, 0.097611  , 0.10255766,\n",
       "       0.10282477, 0.10108923, 0.10249192, 0.10466183, 0.1029794 ,\n",
       "       0.10015356, 0.10409124, 0.10123736, 0.10637695, 0.10460541,\n",
       "       0.09776728, 0.09953836, 0.10026283, 0.10115526, 0.10155439,\n",
       "       0.10345732, 0.10377685, 0.10031858, 0.10039006, 0.0987434 ,\n",
       "       0.10309854, 0.09895133, 0.09797615, 0.09757481, 0.097883  ,\n",
       "       0.09707674, 0.09708045, 0.09724015, 0.09859644, 0.10078847])"
      ]
     },
     "execution_count": 11,
     "metadata": {},
     "output_type": "execute_result"
    }
   ],
   "source": [
    "tempo_exemplo2_np2"
   ]
  },
  {
   "cell_type": "markdown",
   "metadata": {},
   "source": [
    "### Utilizando `map()`"
   ]
  },
  {
   "cell_type": "code",
   "execution_count": null,
   "metadata": {},
   "outputs": [],
   "source": [
    "vetor_fun_map = map(lambda x: x**3 +5/3.141516*x**1/2 - x/(x**2 + 1), vetor)\n",
    "sum(vetor_fun_map)"
   ]
  },
  {
   "cell_type": "code",
   "execution_count": null,
   "metadata": {},
   "outputs": [],
   "source": [
    "import timeit\n",
    "REPEAT = 250 # Quantidade de vezes que será medido o tempo de execução\n",
    "NUMBER = 5 # Quantidade de vezes que será executado o código\n",
    "setup_codigo = '''\n",
    "import numpy as np\n",
    "NUMERO_DE_ELEMENTOS = 1_000_000\n",
    "vetor = np.random.normal(5, 4.5, NUMERO_DE_ELEMENTOS)\n",
    "'''\n",
    "validar_codigo = '''\n",
    "vetor_fun_map = map(lambda x: x**3 +5/3.141516*x**1/2 - x/(x**2 + 1), vetor)\n",
    "sum(vetor_fun_map)'''\n",
    "tempo_exemplo2_map = np.array(timeit.repeat(setup=setup_codigo,\n",
    "                                         stmt=validar_codigo,\n",
    "                                         repeat=REPEAT,\n",
    "                                         number=NUMBER))/NUMBER\n",
    "# tempo_exemplo1_for\n",
    "np.savetxt(f\"Dados_exemplo2_map_repeat={REPEAT}_number={NUMBER}.csv\",\n",
    "           tempo_exemplo2_map)"
   ]
  },
  {
   "cell_type": "code",
   "execution_count": 4,
   "metadata": {},
   "outputs": [
    {
     "ename": "SyntaxError",
     "evalue": "invalid syntax (<ipython-input-4-bb4cb2ce6492>, line 1)",
     "output_type": "error",
     "traceback": [
      "\u001b[0;36m  File \u001b[0;32m\"<ipython-input-4-bb4cb2ce6492>\"\u001b[0;36m, line \u001b[0;32m1\u001b[0m\n\u001b[0;31m    using Date\u001b[0m\n\u001b[0m             ^\u001b[0m\n\u001b[0;31mSyntaxError\u001b[0m\u001b[0;31m:\u001b[0m invalid syntax\n"
     ]
    }
   ],
   "source": [
    "using Date"
   ]
  }
 ],
 "metadata": {
  "@webio": {
   "lastCommId": null,
   "lastKernelId": null
  },
  "kernelspec": {
   "display_name": "Python 3",
   "language": "python",
   "name": "python3"
  },
  "language_info": {
   "codemirror_mode": {
    "name": "ipython",
    "version": 3
   },
   "file_extension": ".py",
   "mimetype": "text/x-python",
   "name": "python",
   "nbconvert_exporter": "python",
   "pygments_lexer": "ipython3",
   "version": "3.7.6"
  },
  "varInspector": {
   "cols": {
    "lenName": 16,
    "lenType": 16,
    "lenVar": 40
   },
   "kernels_config": {
    "python": {
     "delete_cmd_postfix": "",
     "delete_cmd_prefix": "del ",
     "library": "var_list.py",
     "varRefreshCmd": "print(var_dic_list())"
    },
    "r": {
     "delete_cmd_postfix": ") ",
     "delete_cmd_prefix": "rm(",
     "library": "var_list.r",
     "varRefreshCmd": "cat(var_dic_list()) "
    }
   },
   "position": {
    "height": "884.85px",
    "left": "1557px",
    "right": "20px",
    "top": "29px",
    "width": "335px"
   },
   "types_to_exclude": [
    "module",
    "function",
    "builtin_function_or_method",
    "instance",
    "_Feature"
   ],
   "window_display": true
  }
 },
 "nbformat": 4,
 "nbformat_minor": 4
}
