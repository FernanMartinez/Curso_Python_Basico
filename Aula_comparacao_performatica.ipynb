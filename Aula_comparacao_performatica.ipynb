{
 "cells": [
  {
   "cell_type": "markdown",
   "metadata": {},
   "source": [
    "# Comparação de performance\n",
    "\n",
    "Nesta aula vamos avaliar a velocidade de processamento para obter um resultado no Python porém, avaliando as diferenças entre **velocidade** e quantidade de **código escrito** para cada caso.\n",
    "\n",
    "1. **Exemplo 1** vamos trabalhar com um vetor de 1_000_000 de valore e estamos interessados em elevar cada valor ao quadrado. Para conseguir este resultado vamos aplicar:\n",
    "  - for\n",
    "  - list comprenhension\n",
    "  - set comprenhension\n",
    "  - generators\n",
    "  - Numpy\n",
    "\n",
    "2.  **Exemplo 2** vamos trabalhar com vetor de 1_000_000 valores aleatórios entre $\\pi \\over 2$ e $3\\pi \\over 2$ com média de $\\pi$ e desvio padrão de $\\pi \\over 2$. Estamos interessados em calcular:\n",
    "  - Aplicar a função seno para cada valor;\n",
    "  - Calcular a soma do novo vetor.\n",
    "  \n",
    "  Para conseguir este resultado vamos aplicar:\n",
    "  - Loop for opção 1;\n",
    "  - Loop for opção 2;\n",
    "  - Loop for opção 3;\n",
    "  - list comprenhension;\n",
    "  - generator;\n",
    "  - numpy;\n",
    "  - map."
   ]
  },
  {
   "cell_type": "markdown",
   "metadata": {},
   "source": [
    "## Exemplo 1\n",
    "---"
   ]
  },
  {
   "cell_type": "code",
   "execution_count": null,
   "metadata": {},
   "outputs": [],
   "source": [
    "NUMERO_DE_ELEMENTOS = 1_000_000\n",
    "vetor = range(1, NUMERO_DE_ELEMENTOS + 1)"
   ]
  },
  {
   "cell_type": "markdown",
   "metadata": {},
   "source": [
    "### Utilizando `for`"
   ]
  },
  {
   "cell_type": "code",
   "execution_count": null,
   "metadata": {},
   "outputs": [],
   "source": [
    "vetor_square_for = []\n",
    "for valor in vetor:\n",
    "    vetor_square_for.append(valor**2)\n",
    "vetor_square_for"
   ]
  },
  {
   "cell_type": "code",
   "execution_count": null,
   "metadata": {},
   "outputs": [],
   "source": [
    "import timeit\n",
    "REPEAT = 1000 # Quantidade de vezes que será medido o tempo de execução\n",
    "NUMBER = 5 # Quantidade de vezes que será executado o código\n",
    "setup_codigo = '''\n",
    "NUMERO_DE_ELEMENTOS = 1_000_000\n",
    "vetor = range(1, NUMERO_DE_ELEMENTOS + 1)\n",
    "'''\n",
    "avalidar_codigo = '''\n",
    "vetor = range(1, NUMERO_DE_ELEMENTOS + 1)\n",
    "vetor_square_for = []\n",
    "for valor in vetor:\n",
    "    vetor_square_for.append(valor**2)'''\n",
    "tempo_exemplo1_for= np.array(timeit.repeat(setup=setup_codigo,\n",
    "                                         stmt=avalidar_codigo,\n",
    "                                         repeat=REPEAT,\n",
    "                                         number=NUMBER))/NUMBER\n",
    "# tempo_exemplo1_for\n",
    "np.savetxt(f\"Dados_exemplo1_for_repeat={REPEAT}_number={NUMBER}.csv\",\n",
    "           tempo_exemplo1_for)"
   ]
  },
  {
   "cell_type": "markdown",
   "metadata": {},
   "source": [
    "### Utilizando `list comprenhension`"
   ]
  },
  {
   "cell_type": "code",
   "execution_count": null,
   "metadata": {},
   "outputs": [],
   "source": [
    "vetor_square_lc = [valor**2 for valor in vetor]\n",
    "vetor_square_lc"
   ]
  },
  {
   "cell_type": "code",
   "execution_count": null,
   "metadata": {},
   "outputs": [],
   "source": [
    "import timeit\n",
    "REPEAT = 1_000 # Quantidade de vezes que será medido o tempo de execução\n",
    "NUMBER = 5 # Quantidade de vezes que será executado o código\n",
    "setup_codigo = '''\n",
    "NUMERO_DE_ELEMENTOS = 1_000_000\n",
    "vetor = range(1, NUMERO_DE_ELEMENTOS + 1)\n",
    "'''\n",
    "avaliar_codigo = '''\n",
    "vetor_square_lc = [valor**2 for valor in vetor]'''\n",
    "tempo_exemplo1_lc= np.array(timeit.repeat(setup=setup_codigo,\n",
    "                                         stmt=avaliar_codigo,\n",
    "                                         repeat=REPEAT,\n",
    "                                         number=NUMBER))/NUMBER\n",
    "tempo_exemplo1_lc\n",
    "np.savetxt(f\"Dados_exemplo1_lc_repeat={REPEAT}_number={NUMBER}.csv\",\n",
    "           tempo_exemplo1_lc)"
   ]
  },
  {
   "cell_type": "markdown",
   "metadata": {},
   "source": [
    "### Utilizando `set comprenhension`"
   ]
  },
  {
   "cell_type": "code",
   "execution_count": null,
   "metadata": {},
   "outputs": [],
   "source": [
    "vetor_square_sc = {valor**2 for valor in vetor}\n",
    "vetor_square_sc"
   ]
  },
  {
   "cell_type": "code",
   "execution_count": null,
   "metadata": {
    "scrolled": true
   },
   "outputs": [],
   "source": [
    "import timeit\n",
    "REPEAT = 1_000 # Quantidade de vezes que será medido o tempo de execução\n",
    "NUMBER = 5 # Quantidade de vezes que será executado o código\n",
    "setup_codigo = '''\n",
    "NUMERO_DE_ELEMENTOS = 1_000_000\n",
    "vetor = range(1, NUMERO_DE_ELEMENTOS + 1)\n",
    "'''\n",
    "avalidar_codigo = '''\n",
    "vetor_square_sc = {valor**2 for valor in vetor}'''\n",
    "tempo_exemplo1_sc = np.array(timeit.repeat(setup=setup_codigo,\n",
    "                                           stmt=avalidar_codigo,\n",
    "                                           repeat=REPEAT,\n",
    "                                           number=NUMBER))/NUMBER\n",
    "np.savetxt(f\"Dados_exemplo1_sc_repeat={REPEAT}_number={NUMBER}.csv\",\n",
    "           tempo_exemplo1_sc)"
   ]
  },
  {
   "cell_type": "code",
   "execution_count": null,
   "metadata": {},
   "outputs": [],
   "source": [
    "tempo_exemplo1_sc"
   ]
  },
  {
   "cell_type": "markdown",
   "metadata": {},
   "source": [
    "### Utilizando  `generators`"
   ]
  },
  {
   "cell_type": "code",
   "execution_count": null,
   "metadata": {},
   "outputs": [],
   "source": [
    "vetor_square_gen = (valor**2 for valor in vetor)\n",
    "list(vetor_square_gen)"
   ]
  },
  {
   "cell_type": "code",
   "execution_count": null,
   "metadata": {},
   "outputs": [],
   "source": [
    "import timeit\n",
    "REPEAT =  1_000 # Quantidade de vezes que será medido o tempo de execução\n",
    "NUMBER = 5 # Quantidade de vezes que será executado o código\n",
    "setup_codigo = '''\n",
    "NUMERO_DE_ELEMENTOS = 1_000_000\n",
    "vetor = range(1, NUMERO_DE_ELEMENTOS + 1)\n",
    "'''\n",
    "avalidar_codigo = '''\n",
    "vetor_square_gen = (valor**2 for valor in vetor)'''\n",
    "tempo_exemplo1_gen = np.array(timeit.repeat(setup=setup_codigo,\n",
    "                                         stmt=avalidar_codigo,\n",
    "                                         repeat=REPEAT,\n",
    "                                         number=NUMBER))/NUMBER\n",
    "tempo_exemplo1_gen\n",
    "np.savetxt(f\"Dados_exemplo1_gen_repeat={REPEAT}_number={NUMBER}.csv\",\n",
    "           tempo_exemplo1_gen)"
   ]
  },
  {
   "cell_type": "markdown",
   "metadata": {},
   "source": [
    "### Utilizando `Numpy` Opção 1"
   ]
  },
  {
   "cell_type": "code",
   "execution_count": null,
   "metadata": {},
   "outputs": [],
   "source": [
    "import numpy as np\n",
    "vetor_square_np1 = np.square(vetor)"
   ]
  },
  {
   "cell_type": "code",
   "execution_count": null,
   "metadata": {},
   "outputs": [],
   "source": [
    "import timeit\n",
    "REPEAT = 1_000 # Quantidade de vezes que será medido o tempo de execução\n",
    "NUMBER = 5 # Quantidade de vezes que será executado o código\n",
    "setup_codigo = '''\n",
    "import numpy as np\n",
    "NUMERO_DE_ELEMENTOS = 1_000_000\n",
    "vetor = range(1, NUMERO_DE_ELEMENTOS + 1)\n",
    "'''\n",
    "avalidar_codigo = '''\n",
    "vetor_square_np1 = np.square(vetor)'''\n",
    "tempo_exemplo1_np1 = np.array(timeit.repeat(setup=setup_codigo,\n",
    "                                         stmt=avalidar_codigo,\n",
    "                                         repeat=REPEAT,\n",
    "                                         number=NUMBER))/NUMBER\n",
    "tempo_exemplo1_np1\n",
    "np.savetxt(f\"Dados_exemplo1_np1_repeat={REPEAT}_number={NUMBER}.csv\",\n",
    "           tempo_exemplo1_np1)"
   ]
  },
  {
   "cell_type": "code",
   "execution_count": null,
   "metadata": {},
   "outputs": [],
   "source": [
    "import numpy as np\n",
    "vetor_square_np2 = np.array(vetor)**2\n",
    "vetor_square_np2"
   ]
  },
  {
   "cell_type": "code",
   "execution_count": null,
   "metadata": {},
   "outputs": [],
   "source": [
    "import timeit\n",
    "REPEAT = 1_000 # Quantidade de vezes que será medido o tempo de execução\n",
    "NUMBER = 5 # Quantidade de vezes que será executado o código\n",
    "setup_codigo = '''\n",
    "import numpy as np\n",
    "NUMERO_DE_ELEMENTOS = 1_000_000\n",
    "vetor = range(1, NUMERO_DE_ELEMENTOS + 1)\n",
    "'''\n",
    "avalidar_codigo = '''\n",
    "vetor_square_np2 = np.array(vetor)**2'''\n",
    "tempo_exemplo1_np2= np.array(timeit.repeat(setup=setup_codigo,\n",
    "                                         stmt=avalidar_codigo,\n",
    "                                         repeat=REPEAT,\n",
    "                                         number=NUMBER))/NUMBER\n",
    "tempo_exemplo1_np2\n",
    "np.savetxt(f\"Dados_exemplo1_np2_repeat={REPEAT}_number={NUMBER}.csv\",\n",
    "           tempo_exemplo1_np2)"
   ]
  },
  {
   "cell_type": "code",
   "execution_count": null,
   "metadata": {},
   "outputs": [],
   "source": [
    "\"\"\"\n",
    "Graficando os dados e mostrando as estatísticas dos códigos comparados\n",
    "\"\"\"\n",
    "import matplotlib.pyplot as plt\n",
    "import pandas as pd\n",
    "%matplotlib notebook\n",
    "pd.options.display.float_format = '{:.5e}'.format\n",
    "colunas = \"Mínimo Máximo Média Variância STD\".split(\" \")\n",
    "filas = \"For-List\\nComprenhension-Set\\nComprenhension-Generator-Numpy Opção 1-Numpy Opção 2\".split(\"-\")\n",
    "comparacao = np.c_[np.amin(resultados, axis=0),\n",
    "                   np.amax(resultados, axis=0),\n",
    "                   np.mean(resultados, axis=0),\n",
    "                   np.var(resultados, axis=0),\n",
    "                   np.std(resultados, axis=0)]\n",
    "comparacao_df = pd.DataFrame(data=comparacao,\n",
    "                             index=nomes,\n",
    "                             columns=colunas)\n",
    "resultados = np.c_[tempo_exemplo1_for,\n",
    "                   tempo_exemplo1_lc,\n",
    "                   tempo_exemplo1_sc,\n",
    "                   tempo_exemplo1_gen,\n",
    "                   tempo_exemplo1_np1,\n",
    "                   tempo_exemplo1_np2]\n",
    "plt.boxplot(resultados,\n",
    "            labels=nomes,\n",
    "            flierprops=dict(markerfacecolor='red', marker='o', markersize=5))\n",
    "plt.ylabel(\"Tempo [s]\")\n",
    "plt.grid(True);\n",
    "comparacao_df\n"
   ]
  },
  {
   "cell_type": "markdown",
   "metadata": {},
   "source": [
    "## Exemplo 2\n",
    "---"
   ]
  },
  {
   "cell_type": "code",
   "execution_count": null,
   "metadata": {},
   "outputs": [],
   "source": [
    "import numpy as np\n",
    "NUMERO_DE_ELEMENTOS = 100_000\n",
    "vetor = np.random.normal(5, 4.5, NUMERO_DE_ELEMENTOS)"
   ]
  },
  {
   "cell_type": "markdown",
   "metadata": {},
   "source": [
    "### Utilizando `For` Opção 1"
   ]
  },
  {
   "cell_type": "code",
   "execution_count": null,
   "metadata": {},
   "outputs": [],
   "source": [
    "vetor_fun_for1 = []\n",
    "soma = 0\n",
    "for valor in vetor:\n",
    "    vetor_fun_for1.append(valor**3+ 5/3.141516*valor**1/2 - valor/(valor**2 + 1))\n",
    "    soma  += vetor_fun[-1]"
   ]
  },
  {
   "cell_type": "code",
   "execution_count": null,
   "metadata": {},
   "outputs": [],
   "source": [
    "import timeit\n",
    "REPEAT = 250 # Quantidade de vezes que será medido o tempo de execução\n",
    "NUMBER = 5 # Quantidade de vezes que será executado o código\n",
    "setup_codigo = '''\n",
    "import numpy as np\n",
    "NUMERO_DE_ELEMENTOS = 1_000_000\n",
    "vetor = np.random.normal(5, 4.5, NUMERO_DE_ELEMENTOS)\n",
    "'''\n",
    "validar_codigo = '''\n",
    "vetor_fun_for1 = []\n",
    "soma = 0\n",
    "for valor in vetor:\n",
    "    vetor_fun_for1.append(valor**3+ 5/3.141516*valor**1/2 - valor/(valor**2 + 1))\n",
    "    soma  += vetor_fun_for1[-1]'''\n",
    "tempo_exemplo2_for1= np.array(timeit.repeat(setup=setup_codigo,\n",
    "                                         stmt=validar_codigo,\n",
    "                                         repeat=REPEAT,\n",
    "                                         number=NUMBER))/NUMBER\n",
    "# tempo_exemplo1_for\n",
    "np.savetxt(f\"Dados_exemplo2_for1_repeat={REPEAT}_number={NUMBER}.csv\",\n",
    "           tempo_exemplo2_for1)"
   ]
  },
  {
   "cell_type": "code",
   "execution_count": null,
   "metadata": {},
   "outputs": [],
   "source": [
    "np.mean(tempo_exemplo2_for1)\n",
    "np.std(tempo_exemplo2_for1)"
   ]
  },
  {
   "cell_type": "markdown",
   "metadata": {},
   "source": [
    "### Utilizando `for` opção 2"
   ]
  },
  {
   "cell_type": "code",
   "execution_count": null,
   "metadata": {},
   "outputs": [],
   "source": [
    "vetor_fun_for2 = []\n",
    "soma = 0.0\n",
    "for valor in vetor:\n",
    "    vetor_fun_for2.append(valor**3+ 5/3.141516*valor**1/2 - valor/(valor**2 + 1))\n",
    "    soma  += vetor_fun_for2[-1]"
   ]
  },
  {
   "cell_type": "code",
   "execution_count": null,
   "metadata": {},
   "outputs": [],
   "source": [
    "import timeit\n",
    "REPEAT = 250 # Quantidade de vezes que será medido o tempo de execução\n",
    "NUMBER = 5 # Quantidade de vezes que será executado o código\n",
    "setup_codigo = '''\n",
    "import numpy as np\n",
    "NUMERO_DE_ELEMENTOS = 1_000_000\n",
    "vetor = np.random.normal(5, 4.5, NUMERO_DE_ELEMENTOS)\n",
    "'''\n",
    "validar_codigo = '''\n",
    "vetor_fun_for2 = []\n",
    "soma = 0.0\n",
    "for valor in vetor:\n",
    "    vetor_fun_for2.append(valor**3+ 5/3.141516*valor**1/2 - valor/(valor**2 + 1))\n",
    "    soma  += vetor_fun_for2[-1]'''\n",
    "tempo_exemplo2_for2= np.array(timeit.repeat(setup=setup_codigo,\n",
    "                                         stmt=validar_codigo,\n",
    "                                         repeat=REPEAT,\n",
    "                                         number=NUMBER))/NUMBER\n",
    "# tempo_exemplo1_for\n",
    "np.savetxt(f\"Dados_exemplo2_for2_repeat={REPEAT}_number={NUMBER}.csv\",\n",
    "           tempo_exemplo2_for2)\n",
    "# np.mean(tempo_exemplo2_for2) = 3.1815899256055946\n",
    "# np.std(tempo_exemplo2_for2) =  0.34918650907524423"
   ]
  },
  {
   "cell_type": "markdown",
   "metadata": {},
   "source": [
    "### Utilizando `for` opção 3"
   ]
  },
  {
   "cell_type": "code",
   "execution_count": null,
   "metadata": {},
   "outputs": [],
   "source": [
    "vetor_fun_for3 = []\n",
    "for valor in vetor:\n",
    "    vetor_fun_for3.append(valor**3+ 5/3.141516*valor**1/2 - valor/(valor**2 + 1))\n",
    "soma = sum(vetor_fun_for3)"
   ]
  },
  {
   "cell_type": "code",
   "execution_count": null,
   "metadata": {},
   "outputs": [],
   "source": [
    "import timeit\n",
    "REPEAT = 250 # Quantidade de vezes que será medido o tempo de execução\n",
    "NUMBER = 5 # Quantidade de vezes que será executado o código\n",
    "setup_codigo = '''\n",
    "import numpy as np\n",
    "NUMERO_DE_ELEMENTOS = 1_000_000\n",
    "vetor = np.random.normal(5, 4.5, NUMERO_DE_ELEMENTOS)\n",
    "'''\n",
    "validar_codigo = '''\n",
    "vetor_fun_for3 = []\n",
    "for valor in vetor:\n",
    "    vetor_fun_for3.append(valor**3+ 5/3.141516*valor**1/2 - valor/(valor**2 + 1))\n",
    "soma = sum(vetor_fun_for3)'''\n",
    "tempo_exemplo2_for3= np.array(timeit.repeat(setup=setup_codigo,\n",
    "                                         stmt=validar_codigo,\n",
    "                                         repeat=REPEAT,\n",
    "                                         number=NUMBER))/NUMBER\n",
    "# tempo_exemplo1_for\n",
    "np.savetxt(f\"Dados_exemplo2_for3_repeat={REPEAT}_number={NUMBER}.csv\",\n",
    "           tempo_exemplo2_for3)"
   ]
  },
  {
   "cell_type": "markdown",
   "metadata": {},
   "source": [
    "### Utilizando `list comprenhension`"
   ]
  },
  {
   "cell_type": "code",
   "execution_count": null,
   "metadata": {},
   "outputs": [],
   "source": [
    "vetor_fun_lc = [valor**3+ 5/3.141516*valor**1/2 - valor/(valor**2 + 1) for valor in vetor]\n",
    "sum(vetor_fun_lc)"
   ]
  },
  {
   "cell_type": "code",
   "execution_count": null,
   "metadata": {},
   "outputs": [],
   "source": [
    "import timeit\n",
    "REPEAT = 250 # Quantidade de vezes que será medido o tempo de execução\n",
    "NUMBER = 5 # Quantidade de vezes que será executado o código\n",
    "setup_codigo = '''\n",
    "import numpy as np\n",
    "NUMERO_DE_ELEMENTOS = 1_000_000\n",
    "vetor = np.random.normal(5, 4.5, NUMERO_DE_ELEMENTOS)\n",
    "'''\n",
    "validar_codigo = '''\n",
    "vetor_fun_lc = [valor**3+ 5/3.141516*valor**1/2 - valor/(valor**2 + 1) for valor in vetor]\n",
    "sum(vetor_fun_lc)'''\n",
    "tempo_exemplo2_lc= np.array(timeit.repeat(setup=setup_codigo,\n",
    "                                         stmt=validar_codigo,\n",
    "                                         repeat=REPEAT,\n",
    "                                         number=NUMBER))/NUMBER\n",
    "# tempo_exemplo1_for\n",
    "np.savetxt(f\"Dados_exemplo2_lc_repeat={REPEAT}_number={NUMBER}.csv\",\n",
    "           tempo_exemplo2_lc)"
   ]
  },
  {
   "cell_type": "markdown",
   "metadata": {},
   "source": [
    "### Utilizando `generetors`"
   ]
  },
  {
   "cell_type": "code",
   "execution_count": null,
   "metadata": {},
   "outputs": [],
   "source": [
    "vetor_fun_gen = (valor**3+ 5/3.141516*valor**1/2 - valor/(valor**2 + 1) for valor in vetor)\n",
    "sum(vetor_fun_gen)"
   ]
  },
  {
   "cell_type": "code",
   "execution_count": null,
   "metadata": {},
   "outputs": [],
   "source": [
    "import timeit\n",
    "REPEAT = 250 # Quantidade de vezes que será medido o tempo de execução\n",
    "NUMBER = 5 # Quantidade de vezes que será executado o código\n",
    "setup_codigo = '''\n",
    "import numpy as np\n",
    "NUMERO_DE_ELEMENTOS = 1_000_000\n",
    "vetor = np.random.normal(5, 4.5, NUMERO_DE_ELEMENTOS)\n",
    "'''\n",
    "validar_codigo = '''\n",
    "vetor_fun_gen = (valor**3+ 5/3.141516*valor**1/2 - valor/(valor**2 + 1) for valor in vetor)\n",
    "sum(vetor_fun_gen)'''\n",
    "tempo_exemplo2_gen= np.array(timeit.repeat(setup=setup_codigo,\n",
    "                                         stmt=validar_codigo,\n",
    "                                         repeat=REPEAT,\n",
    "                                         number=NUMBER))/NUMBER\n",
    "# tempo_exemplo1_for\n",
    "np.savetxt(f\"Dados_exemplo2_gen_repeat={REPEAT}_number={NUMBER}.csv\",\n",
    "           tempo_exemplo2_gen)"
   ]
  },
  {
   "cell_type": "markdown",
   "metadata": {},
   "source": [
    "### Utilizando `Numpy`"
   ]
  },
  {
   "cell_type": "code",
   "execution_count": null,
   "metadata": {},
   "outputs": [],
   "source": [
    "vetor_fun_np = vetor**3 + 5/3.141516*vetor**1/2 - vetor/(vetor**2 + 1)\n",
    "vetor_fun_np.sum()"
   ]
  },
  {
   "cell_type": "code",
   "execution_count": null,
   "metadata": {},
   "outputs": [],
   "source": [
    "import timeit\n",
    "REPEAT  = 250 # Quantidade de vezes que será medido o tempo de execução\n",
    "NUMBER = 5 # Quantidade de vezes que será executado o código\n",
    "setup_codigo = '''\n",
    "import numpy as np\n",
    "NUMERO_DE_ELEMENTOS = 1_000_000\n",
    "vetor = np.random.normal(5, 4.5, NUMERO_DE_ELEMENTOS)\n",
    "'''\n",
    "validar_codigo = '''\n",
    "vetor_fun_np = vetor**3 + 5/3.141516*vetor**1/2 - vetor/(vetor**2 + 1)\n",
    "vetor_fun_np.sum()'''\n",
    "tempo_exemplo2_np= np.array(timeit.repeat(setup=setup_codigo,\n",
    "                                         stmt=validar_codigo,\n",
    "                                         repeat=REPEAT,\n",
    "                                         number=NUMBER))/NUMBER\n",
    "# tempo_exemplo1_for\n",
    "np.savetxt(f\"Dados_exemplo2_np_repeat={REPEAT}_number={NUMBER}.csv\",\n",
    "           tempo_exemplo2_np)"
   ]
  },
  {
   "cell_type": "markdown",
   "metadata": {},
   "source": [
    "### Utilizando `map()`"
   ]
  },
  {
   "cell_type": "code",
   "execution_count": null,
   "metadata": {},
   "outputs": [],
   "source": [
    "vetor_fun_map = map(lambda x: x**3 +5/3.141516*x**1/2 - x/(x**2 + 1), vetor)\n",
    "sum(vetor_fun_map)"
   ]
  },
  {
   "cell_type": "code",
   "execution_count": null,
   "metadata": {},
   "outputs": [],
   "source": [
    "import timeit\n",
    "REPEAT = 250 # Quantidade de vezes que será medido o tempo de execução\n",
    "NUMBER = 5 # Quantidade de vezes que será executado o código\n",
    "setup_codigo = '''\n",
    "import numpy as np\n",
    "NUMERO_DE_ELEMENTOS = 1_000_000\n",
    "vetor = np.random.normal(5, 4.5, NUMERO_DE_ELEMENTOS)\n",
    "'''\n",
    "validar_codigo = '''\n",
    "vetor_fun_map = map(lambda x: x**3 +5/3.141516*x**1/2 - x/(x**2 + 1), vetor)\n",
    "sum(vetor_fun_map)'''\n",
    "tempo_exemplo2_map = np.array(timeit.repeat(setup=setup_codigo,\n",
    "                                         stmt=validar_codigo,\n",
    "                                         repeat=REPEAT,\n",
    "                                         number=NUMBER))/NUMBER\n",
    "# tempo_exemplo1_for\n",
    "np.savetxt(f\"Dados_exemplo2_map_repeat={REPEAT}_number={NUMBER}.csv\",\n",
    "           tempo_exemplo2_map)"
   ]
  },
  {
   "cell_type": "code",
   "execution_count": null,
   "metadata": {},
   "outputs": [],
   "source": []
  },
  {
   "cell_type": "code",
   "execution_count": null,
   "metadata": {},
   "outputs": [],
   "source": []
  }
 ],
 "metadata": {
  "@webio": {
   "lastCommId": null,
   "lastKernelId": null
  },
  "kernelspec": {
   "display_name": "Python 3",
   "language": "python",
   "name": "python3"
  },
  "language_info": {
   "codemirror_mode": {
    "name": "ipython",
    "version": 3
   },
   "file_extension": ".py",
   "mimetype": "text/x-python",
   "name": "python",
   "nbconvert_exporter": "python",
   "pygments_lexer": "ipython3",
   "version": "3.7.6"
  },
  "varInspector": {
   "cols": {
    "lenName": 16,
    "lenType": 16,
    "lenVar": 40
   },
   "kernels_config": {
    "python": {
     "delete_cmd_postfix": "",
     "delete_cmd_prefix": "del ",
     "library": "var_list.py",
     "varRefreshCmd": "print(var_dic_list())"
    },
    "r": {
     "delete_cmd_postfix": ") ",
     "delete_cmd_prefix": "rm(",
     "library": "var_list.r",
     "varRefreshCmd": "cat(var_dic_list()) "
    }
   },
   "position": {
    "height": "884.85px",
    "left": "1610px",
    "right": "20px",
    "top": "34px",
    "width": "350px"
   },
   "types_to_exclude": [
    "module",
    "function",
    "builtin_function_or_method",
    "instance",
    "_Feature"
   ],
   "window_display": true
  }
 },
 "nbformat": 4,
 "nbformat_minor": 4
}
