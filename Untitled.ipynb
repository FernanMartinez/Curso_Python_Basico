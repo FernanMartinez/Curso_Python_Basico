{
 "cells": [
  {
   "cell_type": "code",
   "execution_count": 9,
   "metadata": {},
   "outputs": [],
   "source": [
    "import numpy as np\n",
    "NUMERO_DE_ELEMENTOS = 100_000\n",
    "vetor = np.random.normal(5, 4.5, NUMERO_DE_ELEMENTOS)"
   ]
  },
  {
   "cell_type": "code",
   "execution_count": 10,
   "metadata": {},
   "outputs": [
    {
     "data": {
      "text/plain": [
       "5.01781949489075"
      ]
     },
     "execution_count": 10,
     "metadata": {},
     "output_type": "execute_result"
    }
   ],
   "source": [
    "np.mean(vetor)"
   ]
  },
  {
   "cell_type": "code",
   "execution_count": 11,
   "metadata": {},
   "outputs": [
    {
     "data": {
      "text/plain": [
       "4.502257894958467"
      ]
     },
     "execution_count": 11,
     "metadata": {},
     "output_type": "execute_result"
    }
   ],
   "source": [
    "np.std(vetor)"
   ]
  },
  {
   "cell_type": "markdown",
   "metadata": {},
   "source": [
    "### Utilizando `for` opção 1"
   ]
  },
  {
   "cell_type": "code",
   "execution_count": 53,
   "metadata": {},
   "outputs": [],
   "source": [
    "vetor_fun = []\n",
    "soma = 0\n",
    "for valor in vetor:\n",
    "    vetor_fun.append(valor**3+ 5/3.141516*valor**1/2 - valor/(valor**2 + 1))\n",
    "    soma  += vetor_fun[-1]"
   ]
  },
  {
   "cell_type": "code",
   "execution_count": 54,
   "metadata": {},
   "outputs": [
    {
     "data": {
      "text/plain": [
       "43571329.34674358"
      ]
     },
     "execution_count": 54,
     "metadata": {},
     "output_type": "execute_result"
    }
   ],
   "source": [
    "sum(vetor_fun)"
   ]
  },
  {
   "cell_type": "code",
   "execution_count": null,
   "metadata": {},
   "outputs": [],
   "source": [
    "import timeit\n",
    "REPEAT = 100 # Quantidade de vezes que será medido o tempo de execução\n",
    "NUMBER = 5 # Quantidade de vezes que será executado o código\n",
    "setup_codigo = '''\n",
    "import numpy as np\n",
    "NUMERO_DE_ELEMENTOS = 100_000\n",
    "vetor = np.random.normal(5, 4.5, NUMERO_DE_ELEMENTOS)\n",
    "'''\n",
    "avalidar_codigo = '''\n",
    "vetor_fun = []\n",
    "soma = 0\n",
    "for valor in vetor:\n",
    "    vetor_fun.append(valor**3+ 5/3.141516*valor**1/2 - valor/(valor**2 + 1))\n",
    "    soma  += vetor_fun[-1]'''\n",
    "tempo_exempl2_for1= np.array(timeit.repeat(setup=setup_codigo,\n",
    "                                         stmt=avalidar_codigo,\n",
    "                                         repeat=REPEAT,\n",
    "                                         number=NUMBER))/NUMBER\n",
    "# tempo_exemplo1_for\n",
    "np.savetxt(f\"Dados_exemplo2_for1_repeat={REPEAT}_number={NUMBER}.csv\",\n",
    "           tempo_exemplo2_for1)"
   ]
  },
  {
   "cell_type": "markdown",
   "metadata": {},
   "source": [
    "### Utilizando `for` opção 2"
   ]
  },
  {
   "cell_type": "code",
   "execution_count": null,
   "metadata": {},
   "outputs": [],
   "source": [
    "vetor_fun = []\n",
    "soma = 0.0\n",
    "for valor in vetor:\n",
    "    vetor_fun.append(valor**3+ 5/3.141516*valor**1/2 - valor/(valor**2 + 1))\n",
    "    soma  += vetor_fun[-1]"
   ]
  },
  {
   "cell_type": "code",
   "execution_count": null,
   "metadata": {},
   "outputs": [],
   "source": [
    "import timeit\n",
    "REPEAT = 100 # Quantidade de vezes que será medido o tempo de execução\n",
    "NUMBER = 5 # Quantidade de vezes que será executado o código\n",
    "setup_codigo = '''\n",
    "import numpy as np\n",
    "NUMERO_DE_ELEMENTOS = 100_000\n",
    "vetor = np.random.normal(5, 4.5, NUMERO_DE_ELEMENTOS)\n",
    "'''\n",
    "avalidar_codigo = '''\n",
    "vetor_fun = []\n",
    "soma = 0.0\n",
    "for valor in vetor:\n",
    "    vetor_fun.append(valor**3+ 5/3.141516*valor**1/2 - valor/(valor**2 + 1))\n",
    "    soma  += vetor_fun[-1]'''\n",
    "tempo_exemplo2_for2= np.array(timeit.repeat(setup=setup_codigo,\n",
    "                                         stmt=avalidar_codigo,\n",
    "                                         repeat=REPEAT,\n",
    "                                         number=NUMBER))/NUMBER\n",
    "# tempo_exemplo1_for\n",
    "np.savetxt(f\"Dados_exemplo2_for2_repeat={REPEAT}_number={NUMBER}.csv\",\n",
    "           tempo_exemplo2_for2)"
   ]
  },
  {
   "cell_type": "markdown",
   "metadata": {},
   "source": [
    "### Exemplo `for` opção 3"
   ]
  },
  {
   "cell_type": "code",
   "execution_count": 58,
   "metadata": {},
   "outputs": [],
   "source": [
    "vetor_fun = []\n",
    "for valor in vetor:\n",
    "    vetor_fun.append(valor**3+ 5/3.141516*valor**1/2 - valor/(valor**2 + 1))\n",
    "soma = sum(vetor_fun)"
   ]
  },
  {
   "cell_type": "code",
   "execution_count": null,
   "metadata": {},
   "outputs": [],
   "source": [
    "import timeit\n",
    "REPEAT = 100 # Quantidade de vezes que será medido o tempo de execução\n",
    "NUMBER = 5 # Quantidade de vezes que será executado o código\n",
    "setup_codigo = '''\n",
    "import numpy as np\n",
    "NUMERO_DE_ELEMENTOS = 100_000\n",
    "vetor = np.random.normal(5, 4.5, NUMERO_DE_ELEMENTOS)\n",
    "'''\n",
    "avalidar_codigo = '''\n",
    "vetor_fun = []\n",
    "for valor in vetor:\n",
    "    vetor_fun.append(valor**3+ 5/3.141516*valor**1/2 - valor/(valor**2 + 1))\n",
    "soma = sum(vetor_fun)'''\n",
    "tempo_exemplo2_for3= np.array(timeit.repeat(setup=setup_codigo,\n",
    "                                         stmt=avalidar_codigo,\n",
    "                                         repeat=REPEAT,\n",
    "                                         number=NUMBER))/NUMBER\n",
    "# tempo_exemplo1_for\n",
    "np.savetxt(f\"Dados_exemplo2_for3_repeat={REPEAT}_number={NUMBER}.csv\",\n",
    "           tempo_exemplo2_for3)"
   ]
  },
  {
   "cell_type": "markdown",
   "metadata": {},
   "source": [
    "### Utiliazando `list comprenhension`"
   ]
  },
  {
   "cell_type": "code",
   "execution_count": 52,
   "metadata": {},
   "outputs": [
    {
     "data": {
      "text/plain": [
       "43571329.34674358"
      ]
     },
     "execution_count": 52,
     "metadata": {},
     "output_type": "execute_result"
    }
   ],
   "source": [
    "vetor_fun_lc = [valor**3+ 5/3.141516*valor**1/2 - valor/(valor**2 + 1) for valor in vetor]\n",
    "sum(vetor_fun_lc)"
   ]
  },
  {
   "cell_type": "code",
   "execution_count": null,
   "metadata": {},
   "outputs": [],
   "source": [
    "import timeit\n",
    "REPEAT = 100 # Quantidade de vezes que será medido o tempo de execução\n",
    "NUMBER = 5 # Quantidade de vezes que será executado o código\n",
    "setup_codigo = '''\n",
    "import numpy as np\n",
    "NUMERO_DE_ELEMENTOS = 100_000\n",
    "vetor = np.random.normal(5, 4.5, NUMERO_DE_ELEMENTOS)\n",
    "'''\n",
    "avalidar_codigo = '''\n",
    "vetor_fun_lc = [valor**3+ 5/3.141516*valor**1/2 - valor/(valor**2 + 1) for valor in vetor]\n",
    "soma = sum(vetor_fun_lc)'''\n",
    "tempo_exemplo2_lc= np.array(timeit.repeat(setup=setup_codigo,\n",
    "                                         stmt=avalidar_codigo,\n",
    "                                         repeat=REPEAT,\n",
    "                                         number=NUMBER))/NUMBER\n",
    "# tempo_exemplo1_for\n",
    "np.savetxt(f\"Dados_exemplo2_lc_repeat={REPEAT}_number={NUMBER}.csv\",\n",
    "           tempo_exemplo2_lc)"
   ]
  },
  {
   "cell_type": "markdown",
   "metadata": {},
   "source": [
    "### Utilizando `generators`"
   ]
  },
  {
   "cell_type": "code",
   "execution_count": 49,
   "metadata": {},
   "outputs": [
    {
     "data": {
      "text/plain": [
       "<generator object <genexpr> at 0x7f564ba794d0>"
      ]
     },
     "execution_count": 49,
     "metadata": {},
     "output_type": "execute_result"
    }
   ],
   "source": [
    "vetor_fun_gen = (valor**3+ 5/3.141516*valor**1/2 - valor/(valor**2 + 1) for valor in vetor)\n",
    "vetor_fun_gen\n",
    "sum(vetor_fun_gen)"
   ]
  },
  {
   "cell_type": "code",
   "execution_count": 50,
   "metadata": {},
   "outputs": [
    {
     "data": {
      "text/plain": [
       "43571329.34674358"
      ]
     },
     "execution_count": 50,
     "metadata": {},
     "output_type": "execute_result"
    }
   ],
   "source": [
    "sum(vetor_fun_gen)"
   ]
  },
  {
   "cell_type": "code",
   "execution_count": null,
   "metadata": {},
   "outputs": [],
   "source": [
    "import timeit\n",
    "REPEAT = 100 # Quantidade de vezes que será medido o tempo de execução\n",
    "NUMBER = 5 # Quantidade de vezes que será executado o código\n",
    "setup_codigo = '''\n",
    "import numpy as np\n",
    "NUMERO_DE_ELEMENTOS = 100_000\n",
    "vetor = np.random.normal(5, 4.5, NUMERO_DE_ELEMENTOS)\n",
    "'''\n",
    "avalidar_codigo = '''\n",
    "vetor_fun_gen = [valor**3+ 5/3.141516*valor**1/2 - valor/(valor**2 + 1) for valor in vetor]\n",
    "soma = sum(vetor_fun_gen)'''\n",
    "tempo_exemplo2_gen = np.array(timeit.repeat(setup=setup_codigo,\n",
    "                                         stmt=avalidar_codigo,\n",
    "                                         repeat=REPEAT,\n",
    "                                         number=NUMBER))/NUMBER\n",
    "# tempo_exemplo1_for\n",
    "np.savetxt(f\"Dados_exemplo2_gen_repeat={REPEAT}_number={NUMBER}.csv\",\n",
    "           tempo_exemplo2_gen)"
   ]
  },
  {
   "cell_type": "markdown",
   "metadata": {},
   "source": [
    "### Utilizando `Numpy`"
   ]
  },
  {
   "cell_type": "code",
   "execution_count": 55,
   "metadata": {},
   "outputs": [
    {
     "data": {
      "text/plain": [
       "43571329.3467436"
      ]
     },
     "execution_count": 55,
     "metadata": {},
     "output_type": "execute_result"
    }
   ],
   "source": [
    "vetor_fun_np = vetor**3 + 5/3.141516*vetor**1/2 - vetor/(vetor**2 + 1)\n",
    "vetor_fun_np.sum()"
   ]
  },
  {
   "cell_type": "code",
   "execution_count": 47,
   "metadata": {},
   "outputs": [
    {
     "data": {
      "text/plain": [
       "100000"
      ]
     },
     "execution_count": 47,
     "metadata": {},
     "output_type": "execute_result"
    }
   ],
   "source": [
    "import timeit\n",
    "REPEAT = 100 # Quantidade de vezes que será medido o tempo de execução\n",
    "NUMBER = 5 # Quantidade de vezes que será executado o código\n",
    "setup_codigo = '''\n",
    "import numpy as np\n",
    "NUMERO_DE_ELEMENTOS = 100_000\n",
    "vetor = np.random.normal(5, 4.5, NUMERO_DE_ELEMENTOS)\n",
    "'''\n",
    "avalidar_codigo = '''\n",
    "vetor_fun_np = vetor**3 + 5/3.141516*vetor**1/2 - vetor/(vetor**2 + 1)\n",
    "vetor_fun_np.sum()'''\n",
    "tempo_exemplo2_np = np.array(timeit.repeat(setup=setup_codigo,\n",
    "                                         stmt=avalidar_codigo,\n",
    "                                         repeat=REPEAT,\n",
    "                                         number=NUMBER))/NUMBER\n",
    "# tempo_exemplo1_for\n",
    "np.savetxt(f\"Dados_exemplo2_np_repeat={REPEAT}_number={NUMBER}.csv\",\n",
    "           tempo_exemplo2_np)"
   ]
  },
  {
   "cell_type": "markdown",
   "metadata": {},
   "source": [
    "### Utilizando `map()`"
   ]
  },
  {
   "cell_type": "code",
   "execution_count": 57,
   "metadata": {},
   "outputs": [
    {
     "data": {
      "text/plain": [
       "43571329.34674358"
      ]
     },
     "execution_count": 57,
     "metadata": {},
     "output_type": "execute_result"
    }
   ],
   "source": [
    "vetor_fun_map = map(lambda x: x**3 +5/3.141516*x**1/2 - x/(x**2 + 1), vetor)\n",
    "sum(vetor_fun_map)"
   ]
  },
  {
   "cell_type": "code",
   "execution_count": null,
   "metadata": {},
   "outputs": [],
   "source": [
    "import timeit\n",
    "REPEAT = 100 # Quantidade de vezes que será medido o tempo de execução\n",
    "NUMBER = 5 # Quantidade de vezes que será executado o código\n",
    "setup_codigo = '''\n",
    "import numpy as np\n",
    "NUMERO_DE_ELEMENTOS = 100_000\n",
    "vetor = np.random.normal(5, 4.5, NUMERO_DE_ELEMENTOS)\n",
    "'''\n",
    "avalidar_codigo = '''\n",
    "vetor_fun_map = map(lambda x: x**3 +5/3.141516*x**1/2 - x/(x**2 + 1), vetor)\n",
    "sum(vetor_fun_map)'''\n",
    "tempo_exemplo2_map = np.array(timeit.repeat(setup=setup_codigo,\n",
    "                                         stmt=avalidar_codigo,\n",
    "                                         repeat=REPEAT,\n",
    "                                         number=NUMBER))/NUMBER\n",
    "# tempo_exemplo1_for\n",
    "np.savetxt(f\"Dados_exemplo2_map_repeat={REPEAT}_number={NUMBER}.csv\",\n",
    "           tempo_exemplo2_map)"
   ]
  }
 ],
 "metadata": {
  "kernelspec": {
   "display_name": "Python 3",
   "language": "python",
   "name": "python3"
  },
  "language_info": {
   "codemirror_mode": {
    "name": "ipython",
    "version": 3
   },
   "file_extension": ".py",
   "mimetype": "text/x-python",
   "name": "python",
   "nbconvert_exporter": "python",
   "pygments_lexer": "ipython3",
   "version": "3.7.6"
  },
  "varInspector": {
   "cols": {
    "lenName": 16,
    "lenType": 16,
    "lenVar": 40
   },
   "kernels_config": {
    "python": {
     "delete_cmd_postfix": "",
     "delete_cmd_prefix": "del ",
     "library": "var_list.py",
     "varRefreshCmd": "print(var_dic_list())"
    },
    "r": {
     "delete_cmd_postfix": ") ",
     "delete_cmd_prefix": "rm(",
     "library": "var_list.r",
     "varRefreshCmd": "cat(var_dic_list()) "
    }
   },
   "types_to_exclude": [
    "module",
    "function",
    "builtin_function_or_method",
    "instance",
    "_Feature"
   ],
   "window_display": true
  }
 },
 "nbformat": 4,
 "nbformat_minor": 4
}
