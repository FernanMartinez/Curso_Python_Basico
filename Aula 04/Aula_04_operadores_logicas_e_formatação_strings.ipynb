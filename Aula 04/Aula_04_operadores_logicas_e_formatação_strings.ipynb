{
 "cells": [
  {
   "cell_type": "markdown",
   "metadata": {},
   "source": [
    "# Aula 04. operadores logicas e formatação de strings\n",
    "\n",
    "<img  src= \"img/logica.jpg\" style=\"width:500px; height:300px\">\n",
    "\n",
    "---\n",
    "<font size=\"6\"> Os tópicos que vamos abordar nesta série de conversas são:</font>\n",
    "- [ ] Formatação de string;\n",
    "    - [ ] Metodo 1. Utilizando operador `%`;\n",
    "    - [ ] Metodo 2. Utilizando `.format()`;\n",
    "    - [ ] Metodo 3. Utilizanod `f\"\"`\n",
    "- [ ] Operadores logicos (`and`, `or`, `not`)\n"
   ]
  },
  {
   "cell_type": "markdown",
   "metadata": {},
   "source": [
    "##  Formatação de string"
   ]
  },
  {
   "cell_type": "markdown",
   "metadata": {},
   "source": [
    "### Método 1"
   ]
  },
  {
   "cell_type": "code",
   "execution_count": 2,
   "metadata": {
    "ExecuteTime": {
     "end_time": "2020-11-09T01:02:51.908197Z",
     "start_time": "2020-11-09T01:02:51.895450Z"
    }
   },
   "outputs": [],
   "source": [
    "nome = 'Fernan'\n",
    "sobrenome = 'Martinez'\n",
    "idade = 28\n",
    "altura = 1.80\n",
    "profissao = 'Pesquisador'\n"
   ]
  },
  {
   "cell_type": "code",
   "execution_count": 3,
   "metadata": {
    "ExecuteTime": {
     "end_time": "2020-11-09T01:02:53.623412Z",
     "start_time": "2020-11-09T01:02:53.604365Z"
    }
   },
   "outputs": [
    {
     "name": "stdout",
     "output_type": "stream",
     "text": [
      "Nome: Fernan. \n",
      "Sobrenome: Martinez. \n",
      "Idade: 28 \n",
      "Altura: 1.800000.\n",
      "Profissão: Pesquisador\n"
     ]
    }
   ],
   "source": [
    "print(\"Nome: %s. \\nSobrenome: %s. \\nIdade: %i \\nAltura: %f.\\nProfissão: %s\" %(nome,\n",
    "                                                                              sobrenome,\n",
    "                                                                              idade,\n",
    "                                                                              altura,\n",
    "                                                                              profissao))"
   ]
  },
  {
   "cell_type": "code",
   "execution_count": 4,
   "metadata": {
    "ExecuteTime": {
     "end_time": "2020-11-09T01:02:55.582230Z",
     "start_time": "2020-11-09T01:02:55.574206Z"
    }
   },
   "outputs": [
    {
     "name": "stdout",
     "output_type": "stream",
     "text": [
      "Nome: Fernan. \n",
      "Sobrenome: Martinez. \n",
      "Idade: 28 \n",
      "Altura: 1.80000000.\n",
      "Profissão: Pesquisador\n"
     ]
    }
   ],
   "source": [
    "dados = {'nome': nome,\n",
    "         'sobrenome': sobrenome,\n",
    "         'idade': idade,\n",
    "         'altura': altura,\n",
    "         'profissao': profissao}\n",
    "\n",
    "print(\"Nome: %(nome)s. \\nSobrenome: %(sobrenome)s. \\nIdade: %(idade)i \\nAltura: %(altura)0.8f.\\nProfissão: %(profissao)s\" % dados)"
   ]
  },
  {
   "cell_type": "markdown",
   "metadata": {},
   "source": [
    "### Método 2"
   ]
  },
  {
   "cell_type": "code",
   "execution_count": 5,
   "metadata": {
    "ExecuteTime": {
     "end_time": "2020-11-09T01:03:10.012902Z",
     "start_time": "2020-11-09T01:03:10.008557Z"
    }
   },
   "outputs": [
    {
     "name": "stdout",
     "output_type": "stream",
     "text": [
      "Nome: Fernan. \n",
      "Sobrenome: Martinez. \n",
      "Idade: 28 \n",
      "Altura: 1.8.\n",
      "Profissão: Pesquisador\n"
     ]
    }
   ],
   "source": [
    "print(\"Nome: {}. \\nSobrenome: {}. \\nIdade: {} \\nAltura: {}.\\nProfissão: {}\".format(nome,\n",
    "                                                                                   sobrenome,\n",
    "                                                                                   idade,\n",
    "                                                                                   altura,\n",
    "                                                                                   profissao))"
   ]
  },
  {
   "cell_type": "markdown",
   "metadata": {},
   "source": [
    "### Método 3"
   ]
  },
  {
   "cell_type": "code",
   "execution_count": 9,
   "metadata": {
    "ExecuteTime": {
     "end_time": "2020-11-09T01:04:27.152103Z",
     "start_time": "2020-11-09T01:04:27.137764Z"
    }
   },
   "outputs": [
    {
     "name": "stdout",
     "output_type": "stream",
     "text": [
      "Nome: ['Fernan', 'Isabele', 'Rafael', 'Edvaldo', 'Marcos', 'Narie', 'Gabriel', 'Karina']. \n",
      "Sobrenome: Martinez. \n",
      "Idade: [28, 28, 25, 40, 35, 25, 22, 25] \n",
      "Altura: 1.8.\n",
      "Profissão: Pesquisador\n"
     ]
    }
   ],
   "source": [
    "# Metodo 3\n",
    "print(f\"Nome: {nome}. \\nSobrenome: {sobrenome}. \\nIdade: {idade} \\nAltura: {altura}.\\nProfissão: {profissao}\")\n",
    "\n"
   ]
  },
  {
   "cell_type": "code",
   "execution_count": 10,
   "metadata": {
    "ExecuteTime": {
     "end_time": "2020-11-09T01:04:28.210670Z",
     "start_time": "2020-11-09T01:04:28.177371Z"
    }
   },
   "outputs": [
    {
     "name": "stdout",
     "output_type": "stream",
     "text": [
      "O usuario Fernan tem a idade 28 e a comida é Bata\n",
      "O usuario Isabele tem a idade 28 e a comida é Batat\n",
      "O usuario Rafael tem a idade 25 e a comida é Pizza\n",
      "O usuario Edvaldo tem a idade 40 e a comida é Maça\n",
      "O usuario Marcos tem a idade 35 e a comida é Maça\n",
      "O usuario Narie tem a idade 25 e a comida é Laranja\n",
      "O usuario Gabriel tem a idade 22 e a comida é Laranja\n"
     ]
    }
   ],
   "source": [
    "a = [1, 2, 3]\n",
    "nome = 'Fernan Isabele Rafael Edvaldo Marcos Narie Gabriel Karina'.split(' ')\n",
    "comida = 'Bata Batat Pizza Maça Maça Laranja Laranja'.split(' ')\n",
    "idade = [28, 28, 25, 40, 35, 25, 22, 25]\n",
    "tupla = tuple(a)\n",
    "for nome_u, idade_u, comida_u in zip(nome, idade, comida):\n",
    "    print(f'O usuario {nome_u} tem a idade {idade_u} e a comida é {comida_u}')"
   ]
  },
  {
   "cell_type": "markdown",
   "metadata": {},
   "source": [
    "## Operadores logicos (and, or, not)"
   ]
  },
  {
   "cell_type": "code",
   "execution_count": null,
   "metadata": {},
   "outputs": [],
   "source": []
  }
 ],
 "metadata": {
  "hide_input": false,
  "kernelspec": {
   "display_name": "Python 3",
   "language": "python",
   "name": "python3"
  },
  "language_info": {
   "codemirror_mode": {
    "name": "ipython",
    "version": 3
   },
   "file_extension": ".py",
   "mimetype": "text/x-python",
   "name": "python",
   "nbconvert_exporter": "python",
   "pygments_lexer": "ipython3",
   "version": "3.7.7"
  },
  "latex_envs": {
   "LaTeX_envs_menu_present": true,
   "autoclose": true,
   "autocomplete": true,
   "bibliofile": "biblio.bib",
   "cite_by": "apalike",
   "current_citInitial": 1,
   "eqLabelWithNumbers": true,
   "eqNumInitial": 1,
   "hotkeys": {
    "equation": "Ctrl-E",
    "itemize": "Ctrl-I"
   },
   "labels_anchors": false,
   "latex_user_defs": false,
   "report_style_numbering": false,
   "user_envs_cfg": false
  }
 },
 "nbformat": 4,
 "nbformat_minor": 4
}
