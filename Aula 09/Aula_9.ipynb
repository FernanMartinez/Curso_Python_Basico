{
 "cells": [
  {
   "cell_type": "markdown",
   "metadata": {},
   "source": [
    "# Aula 9 *comprehension* e *modulos*\n",
    "\n",
    "<img  src= \"img/librarie.png\" style=\"width:500px; height:500px\">\n",
    "\n",
    "Nesta aula vamos tratar a sintaxe para `comprehension` (uma tradução livre dessa expressão seria compreensão, porém isso não faz sentido) e vamos iniciar a discussão de módulos e bibliotecas (também conhecidos como pacotes).\n",
    "1. Definição de `comprehension`;\n",
    "1. Comprehension em Python\n",
    "  - List comprehension;\n",
    "  - Dict comprehension;\n",
    "  - set comprehension;\n",
    "  - generator comprehension\n",
    "1. Módulos;\n",
    "1. Pacotes ou Bibliotecas (Packages or Libraries);\n",
    "1. Instalação de pacotes.\n",
    "___"
   ]
  },
  {
   "cell_type": "markdown",
   "metadata": {},
   "source": [
    "## Definição\n",
    "\n",
    "Comprehension é uma estrutura sintática disponível em algumas linguagens de programação para criar uma lista (ou qualquer outra collection) a partir de uma expressão e um iterável. Em Python, essa estrutura substitui os `loop for`, é mais performática, e se recomenda a sua implementação para criar códigos mais Pythonicos.\n",
    "\n",
    "A sintaxe para criar um comprehension é:\n",
    "\n",
    "`expression for item in iterable`\n",
    "\n",
    "Onde:\n",
    "- **expression** é qualquer sintaxe que queiramos executar (funções, funções anônimas, ou outras comprehension);\n",
    "- **item** é um elemento do iterável;\n",
    "- **iterable** é qualquer objeto que possa ser iterado (`list`, `tuple`, `dict`, `range`, `str`, `collections`, etc).\n",
    "\n",
    "Exemplo:\n",
    "```\n",
    "(item**2)/(sin(item) + cos(item)) for item in range(1, 361)\n",
    "```\n",
    "Neste caso:\n",
    "- **(item ** 2)/(sin(item)+ cos(item))** é nossa expressão a ser avaliada;\n",
    "- **item** é um elemento do iterável que será avalido na expressão;\n",
    "- **range(1, 361)** é o iterável.\n",
    "---"
   ]
  },
  {
   "cell_type": "markdown",
   "metadata": {},
   "source": [
    "## Comprehension em Python\n",
    "\n",
    "Python conta com 4 estruturas de comprehension, sendo:\n",
    "- lista comprehension ou `list comprehension`;\n",
    "- dicionário comprehension ou `dict comprenhesion`;\n",
    "- conjunto comprehension ou `set comprehension`;\n",
    "- geradores comprehension ou `generators comprehension`.\n",
    "\n",
    "Note que nós não falamos de tuple comprehension, esse conceito em Python não existe.\n",
    "\n",
    "---"
   ]
  },
  {
   "cell_type": "markdown",
   "metadata": {
    "heading_collapsed": true
   },
   "source": [
    "### List comprehension\n",
    "\n",
    "Para criar uma List comprehension utilizamos o fator definidor de listas (o qual é os colchetes`[]`), contendo a definição da comprehension.\n",
    "\n",
    "Exemplo:\n",
    "```\n",
    "isto_eh_uma_list_comprehension = [x**2 for x in range(1, 11)]\n",
    "```"
   ]
  },
  {
   "cell_type": "code",
   "execution_count": null,
   "metadata": {
    "hidden": true
   },
   "outputs": [],
   "source": [
    "# Exemplo básico de comprehension\n",
    "list_comp_1 = [x for x in range(1, 100)]\n",
    "print(list_comp_1)"
   ]
  },
  {
   "cell_type": "code",
   "execution_count": null,
   "metadata": {
    "hidden": true
   },
   "outputs": [],
   "source": [
    "# Exemplo aplicando uma expressão\n",
    "list_comp_2 = [x**2 for x in range(1, 100)]\n",
    "print(list_comp_2)"
   ]
  },
  {
   "cell_type": "code",
   "execution_count": null,
   "metadata": {
    "hidden": true
   },
   "outputs": [],
   "source": [
    "# Exemplo aplicando uma função com def\n",
    "def fibonacci(n): \n",
    "    \"\"\"\n",
    "    A sequência de Fibonacci uma sequência de números inteiros, começando \n",
    "    normalmente por 0 e 1, na qual, cada termo subsequente corresponde à \n",
    "    soma dos dois anteriores.\n",
    "    Fn = F_n-1 + F_n-2\n",
    "    Exemplo fibonacci(5) = [0, 1, 1, 2, 3]\n",
    "    \"\"\"\n",
    "    a = 0\n",
    "    b = 1\n",
    "    if n == 0: \n",
    "        return a \n",
    "    elif n == 1: \n",
    "        return b \n",
    "    else: \n",
    "        for _ in range(2, n + 1): \n",
    "            c = a + b \n",
    "            a = b \n",
    "            b = c \n",
    "        return b\n",
    "\n",
    "list_comp_2 = [fibonacci(x) for x in range(0, 500)]\n",
    "print(list_comp_2)"
   ]
  },
  {
   "cell_type": "markdown",
   "metadata": {
    "hidden": true
   },
   "source": [
    "Exemplo:\n",
    "\n",
    "Aplicar a definição do número de Euler para obter uma lista com os números de Euler para cada _n_.\n",
    "\n",
    "Lembrando, o número de Euler é uma constante matemática definida pela seguinte equação:\n",
    "\n",
    "$$\n",
    "e = \\lim_{n \\to \\infty} { \\left( 1 + \\frac{1}{n} \\right)^n} = 2.718281828459045235360287...\n",
    "$$"
   ]
  },
  {
   "cell_type": "code",
   "execution_count": null,
   "metadata": {
    "hidden": true
   },
   "outputs": [],
   "source": [
    "list_comp_3 = [(lambda n: (1 + 1/n)**n)(x) for x in range(1, 500)]\n",
    "list_comp_3"
   ]
  },
  {
   "cell_type": "code",
   "execution_count": null,
   "metadata": {
    "hidden": true
   },
   "outputs": [],
   "source": [
    "# Usando tabulate\n",
    "from tabulate import tabulate\n",
    "list_comp_3 = [[(lambda n: (1 + 1/n)**n)(x)] for x in range(1, 200)]\n",
    "print(tabulate(list_comp_3, floatfmt='.15f'))"
   ]
  },
  {
   "cell_type": "code",
   "execution_count": null,
   "metadata": {
    "hidden": true
   },
   "outputs": [],
   "source": [
    "# List comprehension com condicionais\n",
    "#  Criar uma lista com os elementos pares elevado ao quadrado\n",
    "list_comp_4 = [x**2 if not x%2 else x for x in range(1, 1000)]\n",
    "print(list_comp_4)"
   ]
  },
  {
   "cell_type": "code",
   "execution_count": null,
   "metadata": {
    "hidden": true
   },
   "outputs": [],
   "source": [
    "#  Criar uma lista com os elementos ímpares elevado ao quadrado\n",
    "list_comp_5 = [x**2 if x%2 else x for x in range(1, 10)]\n",
    "print(list_comp_5)"
   ]
  },
  {
   "cell_type": "code",
   "execution_count": null,
   "metadata": {
    "hidden": true
   },
   "outputs": [],
   "source": [
    "# List comprehension para criar matrizes zero\n",
    "n = 10\n",
    "list_comp_matriz_0 = [[0 for _ in range(n)] for _ in range(n)]\n",
    "list_comp_matriz_0"
   ]
  },
  {
   "cell_type": "code",
   "execution_count": null,
   "metadata": {
    "hidden": true
   },
   "outputs": [],
   "source": [
    "# List comprehension para criar matrizes com 1\n",
    "from tabulate import tabulate\n",
    "n = 30\n",
    "list_comp_matriz_0 = [[0 for _ in range(n)] for _ in range(n)]\n",
    "list_comp_matriz_0\n",
    "print(tabulate(list_comp_matriz_0))"
   ]
  },
  {
   "cell_type": "code",
   "execution_count": null,
   "metadata": {
    "hidden": true
   },
   "outputs": [],
   "source": [
    "# List comprehension para criar matrizes unitarias\n",
    "from tabulate import tabulate\n",
    "n = 10\n",
    "list_comp_matriz_0 = [[ 1 if i==j else \"\" for i in range(n)] for j in range(n)] # i fila, j colum\n",
    "list_comp_matriz_0\n",
    "print(tabulate(list_comp_matriz_0))"
   ]
  },
  {
   "cell_type": "markdown",
   "metadata": {
    "heading_collapsed": true
   },
   "source": [
    "### Dict comprehension\n",
    "\n",
    "O conceito de comprehension pode ser aplicado em dicionários. Nesse caso temos que lembrar que o dicionário precisa 3 fatores definidores:\n",
    "- chave;\n",
    "- valor associado à chave;\n",
    "- símbolo de chaves `{}`.\n",
    "\n",
    "Nesse caso a sintaxe seria:\n",
    "```\n",
    "isto_eh_um_dicionario_comprehension = \n",
    "    {chave : valor for chave, valor in zip(iteravel_com_chave, iteravel_com_valor)}\n",
    "```\n",
    "OBS. Não é obrigatório passar um `zip` com os dois iteráveis."
   ]
  },
  {
   "cell_type": "code",
   "execution_count": null,
   "metadata": {
    "hidden": true
   },
   "outputs": [],
   "source": [
    "# Exemplo básico de Dict Comprehension\n",
    "valor = (10, 20, 30)\n",
    "chave = tuple(\"Key 10,Key 20,Key 30\".split(\",\"))\n",
    "dict_comp = {ch: va for ch, va in zip(chave, valor) }\n",
    "dict_comp"
   ]
  },
  {
   "cell_type": "code",
   "execution_count": null,
   "metadata": {
    "hidden": true
   },
   "outputs": [],
   "source": [
    "list(enumerate(chave))"
   ]
  },
  {
   "cell_type": "code",
   "execution_count": null,
   "metadata": {
    "hidden": true
   },
   "outputs": [],
   "source": [
    "# Exemplo básico de Dict Comprehension sem zip\n",
    "valor = (10, 20, 30)\n",
    "chave = tuple(\"Key 10,Key 20,Key 30\".split(\",\"))\n",
    "dict_comp = {chave[c]: valor[c] for c in range(len(valor)) }\n",
    "dict_comp"
   ]
  },
  {
   "cell_type": "code",
   "execution_count": null,
   "metadata": {
    "hidden": true
   },
   "outputs": [],
   "source": [
    "import random\n",
    "\"\"\"\n",
    "O carácter barra inclinada para esquerda “\\” indica que o conteúdo da seguinte\n",
    "linha faz parte da mesma expressão da linha anterior\n",
    "\"\"\"\n",
    "dict_comp_2 = {str(chave): valor\\\n",
    "               for chave, valor in enumerate([random.randint(0, 100)\\\n",
    "                                              for _ in range(10_000)])}\n",
    "dict_comp_2"
   ]
  },
  {
   "cell_type": "code",
   "execution_count": null,
   "metadata": {
    "hidden": true
   },
   "outputs": [],
   "source": [
    "import random\n",
    "[random.randint(0, 100) for _ in range(10_000)]"
   ]
  },
  {
   "cell_type": "code",
   "execution_count": null,
   "metadata": {
    "hidden": true
   },
   "outputs": [],
   "source": [
    "# Exemplo dict comprehensio com if\n",
    "import random\n",
    "dict_comp_2 = {str(chave): valor \\\n",
    "               for chave, valor in\\\n",
    "               enumerate([random.randint(0, 100) for _ in range(10_000)])\\\n",
    "               if not valor%2 and not valor%3 and not chave%3}\n",
    "dict_comp_2"
   ]
  },
  {
   "cell_type": "code",
   "execution_count": null,
   "metadata": {
    "hidden": true
   },
   "outputs": [],
   "source": [
    "# armazenando caracteres ASCII num dict usando dict comprehension\n",
    "dict_comp_3 = {char: chr(char) for char in range(32, 240)}\n",
    "dict_comp_3"
   ]
  },
  {
   "cell_type": "markdown",
   "metadata": {
    "heading_collapsed": true
   },
   "source": [
    "### Set comprehension\n",
    "\n",
    "O conceito de comprehension pode ser aplicado a conjuntos, nesse caso o único fator definidor são as chaves `{}`, a sintaxe é muito proxima à sintaxe para List comprehension e fica muito parecido a list comprehension.\n",
    "\n",
    "A sintaxe nesse caso seria:\n",
    "<div align=\"center\">\n",
    "set_comprehension = {valor for valor in teravel}\n",
    "</div>"
   ]
  },
  {
   "cell_type": "code",
   "execution_count": null,
   "metadata": {
    "hidden": true
   },
   "outputs": [],
   "source": [
    "# Exemplo set comprehension\n",
    "set_comp_1 = {valor for valor in range(1, 100)}\n",
    "print(set_comp_1)"
   ]
  },
  {
   "cell_type": "code",
   "execution_count": null,
   "metadata": {
    "hidden": true
   },
   "outputs": [],
   "source": [
    "# Exemplo set comprehension\n",
    "set_comp_1 = {valor if (not valor%2 and not valor%3) else 0 for valor in range(1, 100)}\n",
    "print(set_comp_1)"
   ]
  },
  {
   "cell_type": "code",
   "execution_count": null,
   "metadata": {
    "hidden": true
   },
   "outputs": [],
   "source": [
    "# Exemplo set comprehension\n",
    "set_comp_1 = {valor for valor in range(1, 100) if not valor%2 and not valor%3}\n",
    "print(set_comp_1)"
   ]
  },
  {
   "cell_type": "markdown",
   "metadata": {
    "heading_collapsed": true
   },
   "source": [
    "### Generator comprehension\n",
    "\n",
    "Os `generators comprehesion` são semelhantes às listas, porém, não geram um objeto lista, tupla, dicionário ou conjuntos. Eles ao ser criados geram uma sequência que é armazenada em memória e utilizada baixo demanda. Isso faz com os `generators` sejam mais performáticos que as `list comprehension`.\n",
    "\n",
    "A sintaxe para definir um `generator comprehension` ou simplesmente`generator` é:\n",
    "```\n",
    "generator = (expression for item in iterable)\n",
    "```\n",
    "\n",
    "**OBS**: Note que estamos utilizando parêntesis, porém isso não seria uma `tuple comprehension` pois como falamos previamente esse conceito não existe em Python."
   ]
  },
  {
   "cell_type": "code",
   "execution_count": null,
   "metadata": {
    "hidden": true
   },
   "outputs": [],
   "source": [
    "# Exemplo generator\n",
    "generator = (x for x in range(100))\n",
    "print(generator)\n",
    "\n",
    "list_comp_4 = [x for x in range(100)]\n",
    "print(list_comp_4)"
   ]
  },
  {
   "cell_type": "markdown",
   "metadata": {
    "hidden": true
   },
   "source": [
    "Observe que o generator não gerou um objeto lista ou alguma coisa semelhante. Ele retornou o tipo que está representado pela variável `generator` e sua localização na memória `<generator object <genexpr> at 0x7f66b0078050>` (esse último pode ser diferente)\n",
    "\n",
    "Já no caso da `list_comp_4` obtemos uma lista.\n",
    "\n",
    "---\n",
    "\n",
    "Mas por que os generators são mais performaticos que as listas?\n",
    "1. O generator ocupa menos espaço na memória;\n",
    "1. O generator é processado de forma mais rápida."
   ]
  },
  {
   "cell_type": "code",
   "execution_count": null,
   "metadata": {
    "hidden": true
   },
   "outputs": [],
   "source": [
    "# Espaço na memória\n",
    "from sys import getsizeof\n",
    "generator  = (x**2 for x in range(0, 500_000) if not x%2 and not x%3)\n",
    "list_comp_5 = [x**2 for x in range(0, 500_000) if not x%2 and not x%3]\n",
    "print(f\"\"\"\n",
    "Espaço ocupado na memória por generator = {getsizeof(generator)} bytes\n",
    "Espaço ocupado na memória por list_comp_5 = {getsizeof(list_comp_5)}  bytes\n",
    "Relação entre o comprehension e generator = {getsizeof(list_comp_5)/getsizeof(generator)} \n",
    "\"\"\")"
   ]
  },
  {
   "cell_type": "code",
   "execution_count": null,
   "metadata": {
    "hidden": true,
    "scrolled": true
   },
   "outputs": [],
   "source": [
    "list_comp_5"
   ]
  },
  {
   "cell_type": "code",
   "execution_count": null,
   "metadata": {
    "hidden": true
   },
   "outputs": [],
   "source": [
    "list(generator)"
   ]
  },
  {
   "cell_type": "code",
   "execution_count": null,
   "metadata": {
    "hidden": true
   },
   "outputs": [],
   "source": [
    "# Velocidade\n",
    "import timeit\n",
    "import numpy as np\n",
    "from tabulate import tabulate\n",
    "REPEAT = 500\n",
    "NUMBER = 3\n",
    "generator  = '''(x**2 for x in range(0, 1_000_000) if not x%2 and not x%3)'''\n",
    "list_comp_5 = '''[x**2 for x in range(0, 1_000_000) if not x%2 and not x%3]'''\n",
    "\n",
    "time_list_comp_5 = timeit.repeat(setup=list_comp_5,\n",
    "                                 repeat=REPEAT,\n",
    "                                 number=NUMBER)\n",
    "time_generator = timeit.repeat(setup=generator,\n",
    "                               repeat=REPEAT,\n",
    "                               number=NUMBER)\n",
    "resultados = np.ones((4, 4),dtype=object)\n",
    "resultados[:, 0] = np.array(\"Máximo Mínimo Médio Desvio\".split(\" \"))\n",
    "resultados[:, 1] = np.array([np.amax(time_list_comp_5),\n",
    "                             np.amin(time_list_comp_5),\n",
    "                             np.mean(time_list_comp_5),\n",
    "                             np.std(time_list_comp_5)])\n",
    "resultados[:, 2] = np.array([np.amax(time_generator),\n",
    "                             np.amin(time_generator),\n",
    "                             np.mean(time_generator),\n",
    "                             np.std(time_generator)])\n",
    "resultados[:, 3] = resultados[:, 1]/resultados[:, 2]\n",
    "print(tabulate(resultados,\n",
    "               headers=\"Tempo (s),list_comp_5,generator,t_list/t_gen\".split(\",\"),\n",
    "               floatfmt=('%s', '.5E', '.5E', '.2f'),\n",
    "               tablefmt=\"psql\"))"
   ]
  },
  {
   "cell_type": "markdown",
   "metadata": {},
   "source": [
    "## Modulos\n",
    "\n",
    "- Os módulos em Python são arquivos com a extensão .py contendo funções, classe, variáveis e instruções que posteriormente serão importadas para sua re-utilização;\n",
    "\n",
    "- Ao se importar um módulo em Python, esse módulo passa a ser um objeto e podemos ter acesso a todos os atributos e métodos definidos nesse módulo utilizando a notação de ponto `.`;\n",
    "\n",
    "- Não é necessário criar sintaxe especial para informar que o arquivo que está sendo criado é um modulo;\n",
    "\n",
    "- Existe viar formas de importação de módulos:\n",
    "\n",
    "  1. `import nome_do_modulo`: Nesse casso estamos importando o modulo `nome_do_modulo`, após sua importação o modulo passa a ser um objeto e vamos ter accesso a todos os métodos, classe e atributos deste modulo;\n",
    "  1. `from nome_do_modulo import *`. Nesse caso estamos importando todas os métodos, classes e atributos diretamente ao escopo global do nosso código. Esta forma de importar pode ter problema com funções com o mesmo nome. \n",
    "  Por exemplo temos a função built-in `sum()` e o pacote Numpy possui outra função `sum()` se importamos todas as classes, métodos e atributos de Numpy vamos ter 2 funções no nosso escopo global com o nome `sum()`, e ao momento de chamar a função `sum()` podemos ter um comportamento não esperado. No caso da função `sum()` isso não seria muito crítico pois as duas funções trabalham da mesma forma até certo ponto. Porém existem bibliotecas estatísticas que tem métodos e atributos que compartem o mesmo nome e a funcionalidade dessas funções são diferentes. **Por tanto devemos tomar cuidado ao realizar importações desta forma**;\n",
    "  1. `from nome_modulo import atributo_n` ou `from nome_modulo import metodo_n`. Nesse dois casos estamos realizando a importação de um atributo ou modulo específico para nosso espaço global de funções. Essa forma de importação tem a vantagem que não sobrecarregamos a memória importando todas as funcionalidades de um modulo pois somente importamos o método ou atributo que vamos utilizar. Porém, podemos ter métodos ou atributos com o mesmo nome. Para contornar isso podemos utilizar a palavra reservada `as` para assinar um apelido a nossas importações. No exemplo da função `sum()` ficaria:\n",
    "  \n",
    "\n",
    "```python\n",
    "# Duas funções com o mesmo nome\n",
    "from numpy import sum\n",
    "# Dassa forma temos duas funções com o mesmo nome (função buil-in e função de Numpy) e cairíamos no mesmo erro do ponto anterior\n",
    "\n",
    "# Corrigindo o erro de duas funções com o mesmo nome\n",
    "from numpy import sum as np_sum\n",
    "# Dessa forma não temos mais duas funções com o mesmo nome. Agora temos a função bult-in sum() e a função np_sum() de Python\n",
    "``` \n",
    "\n",
    "---\n",
    "\n",
    "Recomendo a leitura deste material:\n",
    "\n",
    "  - https://docs.python.org/3/tutorial/modules.html\n"
   ]
  },
  {
   "cell_type": "code",
   "execution_count": null,
   "metadata": {},
   "outputs": [],
   "source": [
    "# Exemplo duas funções com o mesmo nome\n",
    "help(sum) # ingressando no manual da função built-in sum()\n",
    "from numpy import * # importando todas as funcionalidades da biblioteca numpy\n",
    "print(\"-\"*80)\n",
    "help(sum)"
   ]
  },
  {
   "cell_type": "code",
   "execution_count": null,
   "metadata": {},
   "outputs": [],
   "source": [
    "# Exemplo 2. duas funções com o mesmo nome\n",
    "help(sum) # ingressando no manual da função built-in sum()\n",
    "from numpy import sum  # importando a função sum da biblioteca numpy\n",
    "print(\"-\"*80)\n",
    "help(sum)"
   ]
  },
  {
   "cell_type": "code",
   "execution_count": 3,
   "metadata": {},
   "outputs": [
    {
     "name": "stdout",
     "output_type": "stream",
     "text": [
      "Help on built-in function sum in module builtins:\n",
      "\n",
      "sum(iterable, start=0, /)\n",
      "    Return the sum of a 'start' value (default: 0) plus an iterable of numbers\n",
      "    \n",
      "    When the iterable is empty, return the start value.\n",
      "    This function is intended specifically for use with numeric values and may\n",
      "    reject non-numeric types.\n",
      "\n",
      "--------------------------------------------------------------------------------\n",
      "Help on built-in function sum in module builtins:\n",
      "\n",
      "sum(iterable, start=0, /)\n",
      "    Return the sum of a 'start' value (default: 0) plus an iterable of numbers\n",
      "    \n",
      "    When the iterable is empty, return the start value.\n",
      "    This function is intended specifically for use with numeric values and may\n",
      "    reject non-numeric types.\n",
      "\n",
      "--------------------------------------------------------------------------------\n",
      "Help on function sum in module numpy:\n",
      "\n",
      "sum(a, axis=None, dtype=None, out=None, keepdims=<no value>, initial=<no value>, where=<no value>)\n",
      "    Sum of array elements over a given axis.\n",
      "    \n",
      "    Parameters\n",
      "    ----------\n",
      "    a : array_like\n",
      "        Elements to sum.\n",
      "    axis : None or int or tuple of ints, optional\n",
      "        Axis or axes along which a sum is performed.  The default,\n",
      "        axis=None, will sum all of the elements of the input array.  If\n",
      "        axis is negative it counts from the last to the first axis.\n",
      "    \n",
      "        .. versionadded:: 1.7.0\n",
      "    \n",
      "        If axis is a tuple of ints, a sum is performed on all of the axes\n",
      "        specified in the tuple instead of a single axis or all the axes as\n",
      "        before.\n",
      "    dtype : dtype, optional\n",
      "        The type of the returned array and of the accumulator in which the\n",
      "        elements are summed.  The dtype of `a` is used by default unless `a`\n",
      "        has an integer dtype of less precision than the default platform\n",
      "        integer.  In that case, if `a` is signed then the platform integer\n",
      "        is used while if `a` is unsigned then an unsigned integer of the\n",
      "        same precision as the platform integer is used.\n",
      "    out : ndarray, optional\n",
      "        Alternative output array in which to place the result. It must have\n",
      "        the same shape as the expected output, but the type of the output\n",
      "        values will be cast if necessary.\n",
      "    keepdims : bool, optional\n",
      "        If this is set to True, the axes which are reduced are left\n",
      "        in the result as dimensions with size one. With this option,\n",
      "        the result will broadcast correctly against the input array.\n",
      "    \n",
      "        If the default value is passed, then `keepdims` will not be\n",
      "        passed through to the `sum` method of sub-classes of\n",
      "        `ndarray`, however any non-default value will be.  If the\n",
      "        sub-class' method does not implement `keepdims` any\n",
      "        exceptions will be raised.\n",
      "    initial : scalar, optional\n",
      "        Starting value for the sum. See `~numpy.ufunc.reduce` for details.\n",
      "    \n",
      "        .. versionadded:: 1.15.0\n",
      "    \n",
      "    where : array_like of bool, optional\n",
      "        Elements to include in the sum. See `~numpy.ufunc.reduce` for details.\n",
      "    \n",
      "        .. versionadded:: 1.17.0\n",
      "    \n",
      "    Returns\n",
      "    -------\n",
      "    sum_along_axis : ndarray\n",
      "        An array with the same shape as `a`, with the specified\n",
      "        axis removed.   If `a` is a 0-d array, or if `axis` is None, a scalar\n",
      "        is returned.  If an output array is specified, a reference to\n",
      "        `out` is returned.\n",
      "    \n",
      "    See Also\n",
      "    --------\n",
      "    ndarray.sum : Equivalent method.\n",
      "    \n",
      "    add.reduce : Equivalent functionality of `add`.\n",
      "    \n",
      "    cumsum : Cumulative sum of array elements.\n",
      "    \n",
      "    trapz : Integration of array values using the composite trapezoidal rule.\n",
      "    \n",
      "    mean, average\n",
      "    \n",
      "    Notes\n",
      "    -----\n",
      "    Arithmetic is modular when using integer types, and no error is\n",
      "    raised on overflow.\n",
      "    \n",
      "    The sum of an empty array is the neutral element 0:\n",
      "    \n",
      "    >>> np.sum([])\n",
      "    0.0\n",
      "    \n",
      "    For floating point numbers the numerical precision of sum (and\n",
      "    ``np.add.reduce``) is in general limited by directly adding each number\n",
      "    individually to the result causing rounding errors in every step.\n",
      "    However, often numpy will use a  numerically better approach (partial\n",
      "    pairwise summation) leading to improved precision in many use-cases.\n",
      "    This improved precision is always provided when no ``axis`` is given.\n",
      "    When ``axis`` is given, it will depend on which axis is summed.\n",
      "    Technically, to provide the best speed possible, the improved precision\n",
      "    is only used when the summation is along the fast axis in memory.\n",
      "    Note that the exact precision may vary depending on other parameters.\n",
      "    In contrast to NumPy, Python's ``math.fsum`` function uses a slower but\n",
      "    more precise approach to summation.\n",
      "    Especially when summing a large number of lower precision floating point\n",
      "    numbers, such as ``float32``, numerical errors can become significant.\n",
      "    In such cases it can be advisable to use `dtype=\"float64\"` to use a higher\n",
      "    precision for the output.\n",
      "    \n",
      "    Examples\n",
      "    --------\n",
      "    >>> np.sum([0.5, 1.5])\n",
      "    2.0\n",
      "    >>> np.sum([0.5, 0.7, 0.2, 1.5], dtype=np.int32)\n",
      "    1\n",
      "    >>> np.sum([[0, 1], [0, 5]])\n",
      "    6\n",
      "    >>> np.sum([[0, 1], [0, 5]], axis=0)\n",
      "    array([0, 6])\n",
      "    >>> np.sum([[0, 1], [0, 5]], axis=1)\n",
      "    array([1, 5])\n",
      "    >>> np.sum([[0, 1], [np.nan, 5]], where=[False, True], axis=1)\n",
      "    array([1., 5.])\n",
      "    \n",
      "    If the accumulator is too small, overflow occurs:\n",
      "    \n",
      "    >>> np.ones(128, dtype=np.int8).sum(dtype=np.int8)\n",
      "    -128\n",
      "    \n",
      "    You can also start the sum with a value other than zero:\n",
      "    \n",
      "    >>> np.sum([10], initial=5)\n",
      "    15\n",
      "\n"
     ]
    }
   ],
   "source": [
    "# Exemplo 3. importando com a palavra reservada as\n",
    "help(sum) # ingressando no manual da função built-in sum()\n",
    "from numpy import sum as np_sum  # importando a função sum da biblioteca numpy e nomeando ela como np_as\n",
    "print(\"-\"*80)\n",
    "help(sum)\n",
    "print(\"-\"*80)\n",
    "help(np_sum)"
   ]
  },
  {
   "cell_type": "code",
   "execution_count": 10,
   "metadata": {},
   "outputs": [],
   "source": [
    "# Exemplo de formas adequadas de importar módulos\n",
    "import numpy # Forma adequada mas pouco recomendada\n",
    "import numpy as np # Forma adequada e mais usada\n",
    "import matplotlib.pyplot as plt\n",
    "from numpy import sin # Forma adequada mas pouco recomendada\n",
    "from numpy import sin as np_sin, size  as np_size # Forma adequada mas pouco recomendada\n",
    "from numpy import size as np_size # Forma adequada e mais recomendada"
   ]
  },
  {
   "cell_type": "markdown",
   "metadata": {},
   "source": [
    "## Pacotes ou Bibliotecas (Packages or Libraries)\n",
    "\n",
    "- Os pacotes (packages), também chamados de bibliotecas (libraries), são coleções hierarquias de módulos armazenados num diretório raiz;\n",
    "\n",
    "- Podemos ter um diretório contendo vários módulos e incluso subdiretórios que representaria outros pacotes (ou bibliotecas);\n",
    "\n",
    "- A forma de aceder a subpacotes é através da notação ponto `pacote_principal.subpacote`;\n",
    "\n",
    "- A representação de um pacote seria:\n",
    "\n",
    "     PACOTE_PRINCIPAL\n",
    "        SUBPACOTE_1\n",
    "            submodulo_1_1.py\n",
    "            submodulo_1_2.py\n",
    "            submodulo_1_3.py\n",
    "        SUBPACOTE_2\n",
    "            submodulo_2_1.py\n",
    "            submodulo_2_2.py\n",
    "            submodulo_2_3.py\n",
    "        modulo_1.py\n",
    "        modulo_2.py\n",
    "\n",
    "- Para importar SUBPACOTE_2: \n",
    "```\n",
    "import PACOTE_PRINCIPAL.SUBPACOTE_2 as subpacote_2\n",
    "import PACOTE_PRINCIPAL.SUBPACOTE_1 as subpacote_1\n",
    "import PACOTE_PRINCIPAL as pacote_principal\n",
    "pacote_principal.SUBPACOTE_2.submodulo_2_1\n",
    "```\n",
    "    "
   ]
  },
  {
   "cell_type": "code",
   "execution_count": null,
   "metadata": {},
   "outputs": [],
   "source": [
    "# Exemplo importação de pacotes\n",
    "import numpy as np\n",
    "import numpy.linalg \n",
    "np.linalg.inv()\n",
    "# https://numpy.org/doc/stable/reference/generated/numpy.linalg.inv.html\n",
    "# A função inv() está armazenada num diretorio linalg que a sua vez está armazenado em\n",
    "# um direotorio principal chamado Numpy\n",
    "\n",
    "np.loadtxt()\n",
    "# https://numpy.org/doc/stable/reference/generated/numpy.loadtxt.html\n",
    "# A função loadtxt() está armazenada num diretorio chamado Numpy"
   ]
  },
  {
   "cell_type": "markdown",
   "metadata": {},
   "source": [
    "## Instalação de pacotes\n",
    "\n",
    "Python se caracteriza por possuir uma grande variedade de pacotes disponíveis, porém estes pacotes não vem instalados por padrão com Python. Para realizar o gerenciamento de pacotes podemos utilizar dois gerenciadores\n",
    "\n",
    "1. Usando o Python Package Index melhor conhecido como pip;\n",
    "1. Usando o conda.\n",
    "\n",
    "Com esses gerenciadores de pacotes (seja o Pip ou Conda) podemos instalar, atualizar ou remover pacotes.\n",
    "Com esses gerenciadores de pacotes (seja o Pip ou Conda) podemos instalar, atualizar ou remover pacotes.\n",
    "\n",
    "\n",
    "- Para instalar podemos utilizar o seguinte comando\n",
    "  - `pip install nome_do_pacote`\n",
    "  - `conda install nome_do_pacote`\n",
    "\n",
    "- Para desinstalar podemos utilizar o seguinte comando\n",
    "  - `pip uninstall nome_do_pacote`\n",
    "  - `conda uninstall nome_do_pacote` ou `conda remove nome_do_pacote`\n",
    "\n",
    "- Para listar os pacotes instalados utilizar o seguinte comando\n",
    "  - `pip list`\n",
    "  - `conda list`\n",
    "\n",
    "---\n",
    "\n",
    "Recomendo a leitura deste material\n",
    "\n",
    "Informação sobre pip:\n",
    "  - https://en.wikipedia.org/wiki/Pip_(package_manager)\n",
    "  - https://pypi.org/\n",
    "\n",
    "Conda documentation:\n",
    "  - https://docs.conda.io/projects/conda/en/latest/user-guide/index.html\n",
    "  - https://docs.conda.io/projects/conda/en/latest/user-guide/install/index.html\n",
    "\n",
    "Anaconda:\n",
    "  - https://www.anaconda.com/\n",
    "\n"
   ]
  }
 ],
 "metadata": {
  "@webio": {
   "lastCommId": null,
   "lastKernelId": null
  },
  "hide_input": false,
  "kernelspec": {
   "display_name": "Python 3",
   "language": "python",
   "name": "python3"
  },
  "language_info": {
   "codemirror_mode": {
    "name": "ipython",
    "version": 3
   },
   "file_extension": ".py",
   "mimetype": "text/x-python",
   "name": "python",
   "nbconvert_exporter": "python",
   "pygments_lexer": "ipython3",
   "version": "3.7.7"
  },
  "latex_envs": {
   "LaTeX_envs_menu_present": true,
   "autoclose": true,
   "autocomplete": true,
   "bibliofile": "biblio.bib",
   "cite_by": "apalike",
   "current_citInitial": 1,
   "eqLabelWithNumbers": true,
   "eqNumInitial": 1,
   "hotkeys": {
    "equation": "Ctrl-E",
    "itemize": "Ctrl-I"
   },
   "labels_anchors": false,
   "latex_user_defs": false,
   "report_style_numbering": false,
   "user_envs_cfg": false
  },
  "varInspector": {
   "cols": {
    "lenName": 16,
    "lenType": 16,
    "lenVar": 40
   },
   "kernels_config": {
    "python": {
     "delete_cmd_postfix": "",
     "delete_cmd_prefix": "del ",
     "library": "var_list.py",
     "varRefreshCmd": "print(var_dic_list())"
    },
    "r": {
     "delete_cmd_postfix": ") ",
     "delete_cmd_prefix": "rm(",
     "library": "var_list.r",
     "varRefreshCmd": "cat(var_dic_list()) "
    }
   },
   "position": {
    "height": "145.083px",
    "left": "1257px",
    "right": "20px",
    "top": "35px",
    "width": "350px"
   },
   "types_to_exclude": [
    "module",
    "function",
    "builtin_function_or_method",
    "instance",
    "_Feature"
   ],
   "window_display": true
  }
 },
 "nbformat": 4,
 "nbformat_minor": 4
}
